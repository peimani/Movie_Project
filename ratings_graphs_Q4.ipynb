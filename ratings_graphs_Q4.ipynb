{
 "cells": [
  {
   "cell_type": "markdown",
   "metadata": {},
   "source": [
    "# Question 4 - Exploring Potential Ratings Drivers"
   ]
  },
  {
   "cell_type": "code",
   "execution_count": 1,
   "metadata": {},
   "outputs": [],
   "source": [
    "#Importing libraries\n",
    "import numpy as np\n",
    "import pandas as pd\n",
    "import matplotlib.pyplot as plt\n",
    "import sqlite3\n",
    "import seaborn as sns\n",
    "import os\n",
    "from glob import glob\n",
    "import plotly.express as px\n",
    "%matplotlib inline"
   ]
  },
  {
   "cell_type": "code",
   "execution_count": 2,
   "metadata": {},
   "outputs": [],
   "source": [
    "#Importing Datasets\n",
    "#Pulling in my initial cleaned dataset and creating a profit column\n",
    "df = pd.read_csv('cleaned_genre_exploration.csv')\n",
    "df['profit'] = df['worldwide_gross']-df['production_budget']\n",
    "#Pulling all the csv files into one list\n",
    "csv_files = glob(\"./zippedData/*.csv.gz\")\n",
    "#and forming a dictionary of cleaned names\n",
    "type(csv_files)\n",
    "d = {}\n",
    "for file in csv_files:\n",
    "    d[file] = pd.read_csv(file)    \n",
    "csv_files_dict = {}\n",
    "# cleaning the filenames\n",
    "for filename in csv_files:\n",
    "    filename_cleaned = os.path.basename(filename).replace(\".csv\", \"\").replace(\".\", \"_\") \n",
    "    filename_df = pd.read_csv(filename, index_col=0)\n",
    "    csv_files_dict[filename_cleaned] = filename_df\n",
    "#Initializing connection:\n",
    "conn = sqlite3.connect(\"movies_db.sqlite\")\n",
    "#Filling the DB with all the tables. . .  Commented out for now as it's already been done.\n",
    "#Uncomment and run block if running notebook for first time.\n",
    "\"\"\"\n",
    "def create_sql_table_from_df(df, name, conn):\n",
    "    try:\n",
    "        df.to_sql(name, conn)\n",
    "        print(f\"Created table {name}\")\n",
    "    \n",
    "    except Exception as e:\n",
    "        print(f\"could not make table {name}\")\n",
    "        print(e)\n",
    "        \n",
    "for name, table in csv_files_dict.items():\n",
    "    create_sql_table_from_df(table, name, conn)\n",
    "\"\"\";\n",
    "#Adding my clean df to the sql db - Commented out as well for now\n",
    "\"\"\"\n",
    "clean_genre = pd.read_csv('cleaned_genre_exploration.csv')\n",
    "clean_genre.to_sql('clean_genre', conn)\n",
    "\"\"\""
   ]
  },
  {
   "cell_type": "code",
   "execution_count": 3,
   "metadata": {},
   "outputs": [
    {
     "data": {
      "text/plain": [
       "[('bom_movie_gross_gz',),\n",
       " ('imdb_name_basics_gz',),\n",
       " ('imdb_title_akas_gz',),\n",
       " ('imdb_title_basics_gz',),\n",
       " ('imdb_title_crew_gz',),\n",
       " ('imdb_title_principals_gz',),\n",
       " ('imdb_title_ratings_gz',),\n",
       " ('tmdb_movies_gz',),\n",
       " ('tn_movie_budgets_gz',),\n",
       " ('clean_genre',)]"
      ]
     },
     "execution_count": 3,
     "metadata": {},
     "output_type": "execute_result"
    }
   ],
   "source": [
    "#Showing table names for later reference\n",
    "conn.execute(\"select name from sqlite_master where type='table';\").fetchall()"
   ]
  },
  {
   "cell_type": "code",
   "execution_count": 4,
   "metadata": {},
   "outputs": [],
   "source": [
    "#Initializing cursor:\n",
    "cur = conn.cursor()"
   ]
  },
  {
   "cell_type": "markdown",
   "metadata": {},
   "source": [
    "<b>Pulling Dataframes:</b><br>\n",
    "Now that we have our SQL database all set up, let's pull some useful dataframes for later use.<br><br>\n",
    "The purpose here is to explore ratings.  What drives them?  Our other questions are focused more on gross revenue,<br>\n",
    "but what can we do to keep ratings high and thus customers coming back? <br>\n",
    "Is there any way we can set up Microsoft for success by recommending certain strategies?"
   ]
  },
  {
   "cell_type": "markdown",
   "metadata": {},
   "source": [
    "<b>General Movie Data - DF4"
   ]
  },
  {
   "cell_type": "code",
   "execution_count": 86,
   "metadata": {},
   "outputs": [
    {
     "data": {
      "text/html": [
       "<div>\n",
       "<style scoped>\n",
       "    .dataframe tbody tr th:only-of-type {\n",
       "        vertical-align: middle;\n",
       "    }\n",
       "\n",
       "    .dataframe tbody tr th {\n",
       "        vertical-align: top;\n",
       "    }\n",
       "\n",
       "    .dataframe thead th {\n",
       "        text-align: right;\n",
       "    }\n",
       "</style>\n",
       "<table border=\"1\" class=\"dataframe\">\n",
       "  <thead>\n",
       "    <tr style=\"text-align: right;\">\n",
       "      <th></th>\n",
       "      <th>production_budget</th>\n",
       "      <th>release_date</th>\n",
       "      <th>primary_title</th>\n",
       "      <th>runtime_minutes</th>\n",
       "      <th>G1</th>\n",
       "      <th>original_language</th>\n",
       "      <th>vote_count</th>\n",
       "      <th>vote_average</th>\n",
       "      <th>domestic_gross</th>\n",
       "      <th>worldwide_gross</th>\n",
       "      <th>studio</th>\n",
       "    </tr>\n",
       "  </thead>\n",
       "  <tbody>\n",
       "    <tr>\n",
       "      <td>0</td>\n",
       "      <td>160000000</td>\n",
       "      <td>2010-07-16</td>\n",
       "      <td>Inception</td>\n",
       "      <td>148.0</td>\n",
       "      <td>Action</td>\n",
       "      <td>en</td>\n",
       "      <td>22186</td>\n",
       "      <td>8.3</td>\n",
       "      <td>292576195</td>\n",
       "      <td>835524642</td>\n",
       "      <td>WB</td>\n",
       "    </tr>\n",
       "    <tr>\n",
       "      <td>1</td>\n",
       "      <td>58000000</td>\n",
       "      <td>2016-02-12</td>\n",
       "      <td>Deadpool</td>\n",
       "      <td>108.0</td>\n",
       "      <td>Action</td>\n",
       "      <td>en</td>\n",
       "      <td>20175</td>\n",
       "      <td>7.6</td>\n",
       "      <td>363070709</td>\n",
       "      <td>801025593</td>\n",
       "      <td>Fox</td>\n",
       "    </tr>\n",
       "    <tr>\n",
       "      <td>2</td>\n",
       "      <td>165000000</td>\n",
       "      <td>2014-11-05</td>\n",
       "      <td>Interstellar</td>\n",
       "      <td>169.0</td>\n",
       "      <td>Adventure</td>\n",
       "      <td>en</td>\n",
       "      <td>18597</td>\n",
       "      <td>8.2</td>\n",
       "      <td>188017894</td>\n",
       "      <td>666379375</td>\n",
       "      <td>Par.</td>\n",
       "    </tr>\n",
       "    <tr>\n",
       "      <td>3</td>\n",
       "      <td>170000000</td>\n",
       "      <td>2014-08-01</td>\n",
       "      <td>Guardians of the Galaxy</td>\n",
       "      <td>121.0</td>\n",
       "      <td>Action</td>\n",
       "      <td>en</td>\n",
       "      <td>17958</td>\n",
       "      <td>7.9</td>\n",
       "      <td>333172112</td>\n",
       "      <td>770867516</td>\n",
       "      <td>BV</td>\n",
       "    </tr>\n",
       "    <tr>\n",
       "      <td>4</td>\n",
       "      <td>100000000</td>\n",
       "      <td>2012-12-25</td>\n",
       "      <td>Django Unchained</td>\n",
       "      <td>165.0</td>\n",
       "      <td>Drama</td>\n",
       "      <td>en</td>\n",
       "      <td>15725</td>\n",
       "      <td>8.0</td>\n",
       "      <td>162805434</td>\n",
       "      <td>449948323</td>\n",
       "      <td>Wein.</td>\n",
       "    </tr>\n",
       "  </tbody>\n",
       "</table>\n",
       "</div>"
      ],
      "text/plain": [
       "   production_budget release_date            primary_title  runtime_minutes  \\\n",
       "0          160000000   2010-07-16                Inception            148.0   \n",
       "1           58000000   2016-02-12                 Deadpool            108.0   \n",
       "2          165000000   2014-11-05             Interstellar            169.0   \n",
       "3          170000000   2014-08-01  Guardians of the Galaxy            121.0   \n",
       "4          100000000   2012-12-25         Django Unchained            165.0   \n",
       "\n",
       "          G1 original_language  vote_count  vote_average  domestic_gross  \\\n",
       "0     Action                en       22186           8.3       292576195   \n",
       "1     Action                en       20175           7.6       363070709   \n",
       "2  Adventure                en       18597           8.2       188017894   \n",
       "3     Action                en       17958           7.9       333172112   \n",
       "4      Drama                en       15725           8.0       162805434   \n",
       "\n",
       "   worldwide_gross studio  \n",
       "0        835524642     WB  \n",
       "1        801025593    Fox  \n",
       "2        666379375   Par.  \n",
       "3        770867516     BV  \n",
       "4        449948323  Wein.  "
      ]
     },
     "metadata": {},
     "output_type": "display_data"
    },
    {
     "name": "stdout",
     "output_type": "stream",
     "text": [
      "<class 'pandas.core.frame.DataFrame'>\n",
      "RangeIndex: 1000 entries, 0 to 999\n",
      "Data columns (total 11 columns):\n",
      "production_budget    1000 non-null int64\n",
      "release_date         1000 non-null object\n",
      "primary_title        1000 non-null object\n",
      "runtime_minutes      1000 non-null float64\n",
      "G1                   1000 non-null object\n",
      "original_language    1000 non-null object\n",
      "vote_count           1000 non-null int64\n",
      "vote_average         1000 non-null float64\n",
      "domestic_gross       1000 non-null int64\n",
      "worldwide_gross      1000 non-null int64\n",
      "studio               1000 non-null object\n",
      "dtypes: float64(2), int64(4), object(5)\n",
      "memory usage: 86.1+ KB\n"
     ]
    }
   ],
   "source": [
    "#DF4 is a cleaned list of movies that shows info such as production budget, average rating, and more\n",
    "cur.execute(\"\"\"SELECT production_budget, release_date, primary_title,\n",
    "               runtime_minutes, G1, original_language, vote_count, vote_average,\n",
    "               c.domestic_gross, worldwide_gross, m.studio\n",
    "            \n",
    "            FROM clean_genre as c\n",
    "            LEFT JOIN bom_movie_gross_gz as m\n",
    "            ON primary_title = m.title\n",
    "            WHERE NOT m.studio = 'None' AND vote_count > 100 AND runtime_minutes >30\n",
    "            ORDER BY vote_count DESC\n",
    "            LIMIT 1000;\"\"\")\n",
    "#Limited to movies with more than 100 votes for rating signifigance and runtime over 30 to weed out bad data\n",
    "df4 = pd.DataFrame(cur.fetchall())\n",
    "df4.columns = [i[0] for i in cur.description]\n",
    "display(df4.head())\n",
    "df4.info()"
   ]
  },
  {
   "cell_type": "markdown",
   "metadata": {},
   "source": [
    "<b>Studio Data - DF5"
   ]
  },
  {
   "cell_type": "code",
   "execution_count": 113,
   "metadata": {},
   "outputs": [
    {
     "data": {
      "text/html": [
       "<div>\n",
       "<style scoped>\n",
       "    .dataframe tbody tr th:only-of-type {\n",
       "        vertical-align: middle;\n",
       "    }\n",
       "\n",
       "    .dataframe tbody tr th {\n",
       "        vertical-align: top;\n",
       "    }\n",
       "\n",
       "    .dataframe thead th {\n",
       "        text-align: right;\n",
       "    }\n",
       "</style>\n",
       "<table border=\"1\" class=\"dataframe\">\n",
       "  <thead>\n",
       "    <tr style=\"text-align: right;\">\n",
       "      <th></th>\n",
       "      <th>studio</th>\n",
       "      <th>avg_budg</th>\n",
       "      <th>tot_budg</th>\n",
       "      <th>avg_runtime</th>\n",
       "      <th>total_votes</th>\n",
       "      <th>avg_rating</th>\n",
       "      <th>avg_dom_gross</th>\n",
       "      <th>tot_dom_gross</th>\n",
       "      <th>avg_world_gross</th>\n",
       "      <th>num_movies</th>\n",
       "    </tr>\n",
       "  </thead>\n",
       "  <tbody>\n",
       "    <tr>\n",
       "      <td>0</td>\n",
       "      <td>Orch.</td>\n",
       "      <td>2.500000e+06</td>\n",
       "      <td>2500000</td>\n",
       "      <td>101.0</td>\n",
       "      <td>915</td>\n",
       "      <td>7.800000</td>\n",
       "      <td>5.205471e+06</td>\n",
       "      <td>5205471</td>\n",
       "      <td>2.384553e+07</td>\n",
       "      <td>1</td>\n",
       "    </tr>\n",
       "    <tr>\n",
       "      <td>1</td>\n",
       "      <td>Cleopatra</td>\n",
       "      <td>8.000000e+06</td>\n",
       "      <td>8000000</td>\n",
       "      <td>103.0</td>\n",
       "      <td>500</td>\n",
       "      <td>7.500000</td>\n",
       "      <td>8.270300e+04</td>\n",
       "      <td>82703</td>\n",
       "      <td>1.738269e+07</td>\n",
       "      <td>1</td>\n",
       "    </tr>\n",
       "    <tr>\n",
       "      <td>2</td>\n",
       "      <td>Neon</td>\n",
       "      <td>1.100000e+07</td>\n",
       "      <td>11000000</td>\n",
       "      <td>120.0</td>\n",
       "      <td>2904</td>\n",
       "      <td>7.500000</td>\n",
       "      <td>3.001453e+07</td>\n",
       "      <td>30014534</td>\n",
       "      <td>5.379741e+07</td>\n",
       "      <td>1</td>\n",
       "    </tr>\n",
       "    <tr>\n",
       "      <td>3</td>\n",
       "      <td>Osci.</td>\n",
       "      <td>4.333333e+06</td>\n",
       "      <td>13000000</td>\n",
       "      <td>106.0</td>\n",
       "      <td>1695</td>\n",
       "      <td>7.433333</td>\n",
       "      <td>1.796292e+06</td>\n",
       "      <td>5388877</td>\n",
       "      <td>6.200627e+06</td>\n",
       "      <td>3</td>\n",
       "    </tr>\n",
       "    <tr>\n",
       "      <td>4</td>\n",
       "      <td>MBox</td>\n",
       "      <td>4.630000e+07</td>\n",
       "      <td>92600000</td>\n",
       "      <td>120.0</td>\n",
       "      <td>4426</td>\n",
       "      <td>7.300000</td>\n",
       "      <td>5.317143e+07</td>\n",
       "      <td>106342853</td>\n",
       "      <td>1.273362e+08</td>\n",
       "      <td>2</td>\n",
       "    </tr>\n",
       "  </tbody>\n",
       "</table>\n",
       "</div>"
      ],
      "text/plain": [
       "      studio      avg_budg  tot_budg  avg_runtime  total_votes  avg_rating  \\\n",
       "0      Orch.  2.500000e+06   2500000        101.0          915    7.800000   \n",
       "1  Cleopatra  8.000000e+06   8000000        103.0          500    7.500000   \n",
       "2       Neon  1.100000e+07  11000000        120.0         2904    7.500000   \n",
       "3      Osci.  4.333333e+06  13000000        106.0         1695    7.433333   \n",
       "4       MBox  4.630000e+07  92600000        120.0         4426    7.300000   \n",
       "\n",
       "   avg_dom_gross  tot_dom_gross  avg_world_gross  num_movies  \n",
       "0   5.205471e+06        5205471     2.384553e+07           1  \n",
       "1   8.270300e+04          82703     1.738269e+07           1  \n",
       "2   3.001453e+07       30014534     5.379741e+07           1  \n",
       "3   1.796292e+06        5388877     6.200627e+06           3  \n",
       "4   5.317143e+07      106342853     1.273362e+08           2  "
      ]
     },
     "metadata": {},
     "output_type": "display_data"
    },
    {
     "name": "stdout",
     "output_type": "stream",
     "text": [
      "<class 'pandas.core.frame.DataFrame'>\n",
      "Int64Index: 71 entries, 0 to 71\n",
      "Data columns (total 10 columns):\n",
      "studio             71 non-null object\n",
      "avg_budg           71 non-null float64\n",
      "tot_budg           71 non-null int64\n",
      "avg_runtime        71 non-null float64\n",
      "total_votes        71 non-null int64\n",
      "avg_rating         71 non-null float64\n",
      "avg_dom_gross      71 non-null float64\n",
      "tot_dom_gross      71 non-null int64\n",
      "avg_world_gross    71 non-null float64\n",
      "num_movies         71 non-null int64\n",
      "dtypes: float64(5), int64(4), object(1)\n",
      "memory usage: 6.1+ KB\n"
     ]
    }
   ],
   "source": [
    "#DF5 is a df grouped by studio so we can see info such as average rating,\n",
    "#or average worldwide gross revenue.  \n",
    "#This can help us identify successful studios!\n",
    "cur.execute(\"\"\"SELECT m.studio,\n",
    "               AVG(production_budget) as avg_budg,\n",
    "               SUM(production_budget) as tot_budg,\n",
    "               AVG(runtime_minutes) as avg_runtime, \n",
    "               SUM(vote_count) as total_votes, \n",
    "               AVG(vote_average) as avg_rating,\n",
    "               AVG(c.domestic_gross) as avg_dom_gross,\n",
    "               SUM(c.domestic_gross) as tot_dom_gross,\n",
    "               AVG(worldwide_gross) as avg_world_gross,\n",
    "               COUNT(tconst) as num_movies\n",
    "            \n",
    "            FROM clean_genre as c\n",
    "            LEFT JOIN bom_movie_gross_gz as m\n",
    "            ON primary_title = m.title\n",
    "            WHERE vote_count > 100\n",
    "            GROUP BY m.studio\n",
    "            ORDER BY avg_rating DESC;\"\"\")\n",
    "#Dropping studios with less than 100 votes behind their movies\n",
    "df5 = pd.DataFrame(cur.fetchall())\n",
    "df5.columns = [i[0] for i in cur.description]\n",
    "df5.dropna(axis = 0, subset = ['studio'], inplace = True) #Dropping null rows\n",
    "display(df5.head())\n",
    "df5.info() #appears to be clean"
   ]
  },
  {
   "cell_type": "markdown",
   "metadata": {},
   "source": [
    "<b>Genre Data - DF6"
   ]
  },
  {
   "cell_type": "code",
   "execution_count": 46,
   "metadata": {},
   "outputs": [
    {
     "data": {
      "text/html": [
       "<div>\n",
       "<style scoped>\n",
       "    .dataframe tbody tr th:only-of-type {\n",
       "        vertical-align: middle;\n",
       "    }\n",
       "\n",
       "    .dataframe tbody tr th {\n",
       "        vertical-align: top;\n",
       "    }\n",
       "\n",
       "    .dataframe thead th {\n",
       "        text-align: right;\n",
       "    }\n",
       "</style>\n",
       "<table border=\"1\" class=\"dataframe\">\n",
       "  <thead>\n",
       "    <tr style=\"text-align: right;\">\n",
       "      <th></th>\n",
       "      <th>G1</th>\n",
       "      <th>avg_budg</th>\n",
       "      <th>tot_budg</th>\n",
       "      <th>avg_runtime</th>\n",
       "      <th>total_votes</th>\n",
       "      <th>avg_rating</th>\n",
       "      <th>avg_dom_gross</th>\n",
       "      <th>tot_dom_gross</th>\n",
       "      <th>avg_world_gross</th>\n",
       "      <th>tot_world_gross</th>\n",
       "    </tr>\n",
       "  </thead>\n",
       "  <tbody>\n",
       "    <tr>\n",
       "      <td>0</td>\n",
       "      <td>Family</td>\n",
       "      <td>6.114286e+07</td>\n",
       "      <td>428000000</td>\n",
       "      <td>97.312464</td>\n",
       "      <td>25745</td>\n",
       "      <td>7.371429</td>\n",
       "      <td>2.599284e+08</td>\n",
       "      <td>1819498894</td>\n",
       "      <td>5.492307e+08</td>\n",
       "      <td>3844615149</td>\n",
       "    </tr>\n",
       "    <tr>\n",
       "      <td>1</td>\n",
       "      <td>Music</td>\n",
       "      <td>4.895000e+07</td>\n",
       "      <td>97900000</td>\n",
       "      <td>120.000000</td>\n",
       "      <td>9034</td>\n",
       "      <td>6.700000</td>\n",
       "      <td>1.430757e+08</td>\n",
       "      <td>286151353</td>\n",
       "      <td>3.990714e+08</td>\n",
       "      <td>798142768</td>\n",
       "    </tr>\n",
       "    <tr>\n",
       "      <td>2</td>\n",
       "      <td>Musical</td>\n",
       "      <td>4.895000e+07</td>\n",
       "      <td>195800000</td>\n",
       "      <td>140.000000</td>\n",
       "      <td>18068</td>\n",
       "      <td>6.700000</td>\n",
       "      <td>1.430757e+08</td>\n",
       "      <td>572302706</td>\n",
       "      <td>3.990714e+08</td>\n",
       "      <td>1596285536</td>\n",
       "    </tr>\n",
       "    <tr>\n",
       "      <td>3</td>\n",
       "      <td>Animation</td>\n",
       "      <td>5.288462e+07</td>\n",
       "      <td>687500000</td>\n",
       "      <td>75.475942</td>\n",
       "      <td>51833</td>\n",
       "      <td>6.800000</td>\n",
       "      <td>1.191781e+08</td>\n",
       "      <td>1549315301</td>\n",
       "      <td>2.999036e+08</td>\n",
       "      <td>3898746443</td>\n",
       "    </tr>\n",
       "    <tr>\n",
       "      <td>4</td>\n",
       "      <td>Adventure</td>\n",
       "      <td>7.824099e+07</td>\n",
       "      <td>12596800000</td>\n",
       "      <td>102.685556</td>\n",
       "      <td>436064</td>\n",
       "      <td>6.331056</td>\n",
       "      <td>9.993531e+07</td>\n",
       "      <td>16089584972</td>\n",
       "      <td>2.803274e+08</td>\n",
       "      <td>45132715303</td>\n",
       "    </tr>\n",
       "    <tr>\n",
       "      <td>5</td>\n",
       "      <td>Mystery</td>\n",
       "      <td>3.700000e+07</td>\n",
       "      <td>185000000</td>\n",
       "      <td>98.837449</td>\n",
       "      <td>27609</td>\n",
       "      <td>7.140000</td>\n",
       "      <td>8.673311e+07</td>\n",
       "      <td>433665528</td>\n",
       "      <td>1.888569e+08</td>\n",
       "      <td>944284346</td>\n",
       "    </tr>\n",
       "    <tr>\n",
       "      <td>6</td>\n",
       "      <td>Action</td>\n",
       "      <td>7.911749e+07</td>\n",
       "      <td>35286400000</td>\n",
       "      <td>111.654985</td>\n",
       "      <td>1484974</td>\n",
       "      <td>6.215695</td>\n",
       "      <td>8.405116e+07</td>\n",
       "      <td>37486818171</td>\n",
       "      <td>2.294956e+08</td>\n",
       "      <td>102355048703</td>\n",
       "    </tr>\n",
       "    <tr>\n",
       "      <td>7</td>\n",
       "      <td>Fantasy</td>\n",
       "      <td>4.212308e+07</td>\n",
       "      <td>547600000</td>\n",
       "      <td>99.764326</td>\n",
       "      <td>36733</td>\n",
       "      <td>6.146154</td>\n",
       "      <td>6.879488e+07</td>\n",
       "      <td>894333427</td>\n",
       "      <td>1.776764e+08</td>\n",
       "      <td>2309793691</td>\n",
       "    </tr>\n",
       "    <tr>\n",
       "      <td>8</td>\n",
       "      <td>Comedy</td>\n",
       "      <td>2.464923e+07</td>\n",
       "      <td>7641260000</td>\n",
       "      <td>100.862691</td>\n",
       "      <td>388860</td>\n",
       "      <td>6.236129</td>\n",
       "      <td>4.000924e+07</td>\n",
       "      <td>12402863764</td>\n",
       "      <td>7.461408e+07</td>\n",
       "      <td>23130366000</td>\n",
       "    </tr>\n",
       "    <tr>\n",
       "      <td>9</td>\n",
       "      <td>Biography</td>\n",
       "      <td>2.543970e+07</td>\n",
       "      <td>3358040000</td>\n",
       "      <td>108.075758</td>\n",
       "      <td>201053</td>\n",
       "      <td>6.828030</td>\n",
       "      <td>3.808943e+07</td>\n",
       "      <td>5027804951</td>\n",
       "      <td>7.501233e+07</td>\n",
       "      <td>9901628219</td>\n",
       "    </tr>\n",
       "  </tbody>\n",
       "</table>\n",
       "</div>"
      ],
      "text/plain": [
       "          G1      avg_budg     tot_budg  avg_runtime  total_votes  avg_rating  \\\n",
       "0     Family  6.114286e+07    428000000    97.312464        25745    7.371429   \n",
       "1      Music  4.895000e+07     97900000   120.000000         9034    6.700000   \n",
       "2    Musical  4.895000e+07    195800000   140.000000        18068    6.700000   \n",
       "3  Animation  5.288462e+07    687500000    75.475942        51833    6.800000   \n",
       "4  Adventure  7.824099e+07  12596800000   102.685556       436064    6.331056   \n",
       "5    Mystery  3.700000e+07    185000000    98.837449        27609    7.140000   \n",
       "6     Action  7.911749e+07  35286400000   111.654985      1484974    6.215695   \n",
       "7    Fantasy  4.212308e+07    547600000    99.764326        36733    6.146154   \n",
       "8     Comedy  2.464923e+07   7641260000   100.862691       388860    6.236129   \n",
       "9  Biography  2.543970e+07   3358040000   108.075758       201053    6.828030   \n",
       "\n",
       "   avg_dom_gross  tot_dom_gross  avg_world_gross  tot_world_gross  \n",
       "0   2.599284e+08     1819498894     5.492307e+08       3844615149  \n",
       "1   1.430757e+08      286151353     3.990714e+08        798142768  \n",
       "2   1.430757e+08      572302706     3.990714e+08       1596285536  \n",
       "3   1.191781e+08     1549315301     2.999036e+08       3898746443  \n",
       "4   9.993531e+07    16089584972     2.803274e+08      45132715303  \n",
       "5   8.673311e+07      433665528     1.888569e+08        944284346  \n",
       "6   8.405116e+07    37486818171     2.294956e+08     102355048703  \n",
       "7   6.879488e+07      894333427     1.776764e+08       2309793691  \n",
       "8   4.000924e+07    12402863764     7.461408e+07      23130366000  \n",
       "9   3.808943e+07     5027804951     7.501233e+07       9901628219  "
      ]
     },
     "metadata": {},
     "output_type": "display_data"
    },
    {
     "name": "stdout",
     "output_type": "stream",
     "text": [
      "<class 'pandas.core.frame.DataFrame'>\n",
      "RangeIndex: 10 entries, 0 to 9\n",
      "Data columns (total 10 columns):\n",
      "G1                 10 non-null object\n",
      "avg_budg           10 non-null float64\n",
      "tot_budg           10 non-null int64\n",
      "avg_runtime        10 non-null float64\n",
      "total_votes        10 non-null int64\n",
      "avg_rating         10 non-null float64\n",
      "avg_dom_gross      10 non-null float64\n",
      "tot_dom_gross      10 non-null int64\n",
      "avg_world_gross    10 non-null float64\n",
      "tot_world_gross    10 non-null int64\n",
      "dtypes: float64(5), int64(4), object(1)\n",
      "memory usage: 928.0+ bytes\n"
     ]
    }
   ],
   "source": [
    "#DF6 is a df grouped by genre so we can see info such as average rating,\n",
    "#or average worldwide gross revenue.  \n",
    "#This can help us identify genres that rate better than others\n",
    "cur.execute(\"\"\"SELECT G1,\n",
    "               AVG(production_budget) as avg_budg,\n",
    "               SUM(production_budget) as tot_budg,\n",
    "               AVG(runtime_minutes) as avg_runtime, \n",
    "               SUM(vote_count) as total_votes, \n",
    "               AVG(vote_average) as avg_rating,\n",
    "               AVG(domestic_gross) as avg_dom_gross,\n",
    "               SUM(domestic_gross) as tot_dom_gross,\n",
    "               AVG(worldwide_gross) as avg_world_gross,\n",
    "               SUM(worldwide_gross) as tot_world_gross\n",
    "            \n",
    "            FROM clean_genre\n",
    "            WHERE vote_count > 100\n",
    "            GROUP BY G1\n",
    "            ORDER BY avg_dom_gross DESC\n",
    "            LIMIT 10;\"\"\")\n",
    "\n",
    "df6 = pd.DataFrame(cur.fetchall())\n",
    "df6.columns = [i[0] for i in cur.description]\n",
    "display(df6.head(10))\n",
    "df6.info() #appears to be clean"
   ]
  },
  {
   "cell_type": "code",
   "execution_count": 62,
   "metadata": {
    "scrolled": false
   },
   "outputs": [
    {
     "data": {
      "text/html": [
       "<div>\n",
       "<style scoped>\n",
       "    .dataframe tbody tr th:only-of-type {\n",
       "        vertical-align: middle;\n",
       "    }\n",
       "\n",
       "    .dataframe tbody tr th {\n",
       "        vertical-align: top;\n",
       "    }\n",
       "\n",
       "    .dataframe thead th {\n",
       "        text-align: right;\n",
       "    }\n",
       "</style>\n",
       "<table border=\"1\" class=\"dataframe\">\n",
       "  <thead>\n",
       "    <tr style=\"text-align: right;\">\n",
       "      <th></th>\n",
       "      <th>Unnamed: 0</th>\n",
       "      <th>nconst</th>\n",
       "      <th>primary_name</th>\n",
       "      <th>category</th>\n",
       "      <th>tot_dom_gross</th>\n",
       "      <th>tot_wor_gross</th>\n",
       "      <th>avg_dom_gross</th>\n",
       "      <th>avg_wor_gross</th>\n",
       "      <th>avg_rating</th>\n",
       "      <th>avg_budg</th>\n",
       "      <th>num_movies</th>\n",
       "    </tr>\n",
       "  </thead>\n",
       "  <tbody>\n",
       "    <tr>\n",
       "      <td>0</td>\n",
       "      <td>0</td>\n",
       "      <td>nm0751577</td>\n",
       "      <td>Anthony Russo</td>\n",
       "      <td>director</td>\n",
       "      <td>1346646789</td>\n",
       "      <td>3902605502</td>\n",
       "      <td>4.488823e+08</td>\n",
       "      <td>1.300869e+09</td>\n",
       "      <td>7.800</td>\n",
       "      <td>240000000.0</td>\n",
       "      <td>3</td>\n",
       "    </tr>\n",
       "    <tr>\n",
       "      <td>1</td>\n",
       "      <td>1</td>\n",
       "      <td>nm0751648</td>\n",
       "      <td>Joe Russo</td>\n",
       "      <td>director</td>\n",
       "      <td>1346646789</td>\n",
       "      <td>3902605502</td>\n",
       "      <td>4.488823e+08</td>\n",
       "      <td>1.300869e+09</td>\n",
       "      <td>7.800</td>\n",
       "      <td>240000000.0</td>\n",
       "      <td>3</td>\n",
       "    </tr>\n",
       "    <tr>\n",
       "      <td>2</td>\n",
       "      <td>2</td>\n",
       "      <td>nm1349376</td>\n",
       "      <td>Francis Lawrence</td>\n",
       "      <td>director</td>\n",
       "      <td>1149112056</td>\n",
       "      <td>2543191543</td>\n",
       "      <td>2.298224e+08</td>\n",
       "      <td>5.086383e+08</td>\n",
       "      <td>6.880</td>\n",
       "      <td>104400000.0</td>\n",
       "      <td>5</td>\n",
       "    </tr>\n",
       "    <tr>\n",
       "      <td>3</td>\n",
       "      <td>3</td>\n",
       "      <td>nm0269463</td>\n",
       "      <td>Jon Favreau</td>\n",
       "      <td>director</td>\n",
       "      <td>1142562693</td>\n",
       "      <td>2614568760</td>\n",
       "      <td>2.856407e+08</td>\n",
       "      <td>6.536422e+08</td>\n",
       "      <td>7.150</td>\n",
       "      <td>112825000.0</td>\n",
       "      <td>4</td>\n",
       "    </tr>\n",
       "    <tr>\n",
       "      <td>4</td>\n",
       "      <td>4</td>\n",
       "      <td>nm0923736</td>\n",
       "      <td>Joss Whedon</td>\n",
       "      <td>director</td>\n",
       "      <td>1128220169</td>\n",
       "      <td>2992084614</td>\n",
       "      <td>2.820550e+08</td>\n",
       "      <td>7.480212e+08</td>\n",
       "      <td>7.425</td>\n",
       "      <td>155900000.0</td>\n",
       "      <td>4</td>\n",
       "    </tr>\n",
       "  </tbody>\n",
       "</table>\n",
       "</div>"
      ],
      "text/plain": [
       "   Unnamed: 0     nconst      primary_name  category  tot_dom_gross  \\\n",
       "0           0  nm0751577     Anthony Russo  director     1346646789   \n",
       "1           1  nm0751648         Joe Russo  director     1346646789   \n",
       "2           2  nm1349376  Francis Lawrence  director     1149112056   \n",
       "3           3  nm0269463       Jon Favreau  director     1142562693   \n",
       "4           4  nm0923736       Joss Whedon  director     1128220169   \n",
       "\n",
       "   tot_wor_gross  avg_dom_gross  avg_wor_gross  avg_rating     avg_budg  \\\n",
       "0     3902605502   4.488823e+08   1.300869e+09       7.800  240000000.0   \n",
       "1     3902605502   4.488823e+08   1.300869e+09       7.800  240000000.0   \n",
       "2     2543191543   2.298224e+08   5.086383e+08       6.880  104400000.0   \n",
       "3     2614568760   2.856407e+08   6.536422e+08       7.150  112825000.0   \n",
       "4     2992084614   2.820550e+08   7.480212e+08       7.425  155900000.0   \n",
       "\n",
       "   num_movies  \n",
       "0           3  \n",
       "1           3  \n",
       "2           5  \n",
       "3           4  \n",
       "4           4  "
      ]
     },
     "metadata": {},
     "output_type": "display_data"
    },
    {
     "name": "stdout",
     "output_type": "stream",
     "text": [
      "<class 'pandas.core.frame.DataFrame'>\n",
      "RangeIndex: 100 entries, 0 to 99\n",
      "Data columns (total 11 columns):\n",
      "Unnamed: 0       100 non-null int64\n",
      "nconst           100 non-null object\n",
      "primary_name     100 non-null object\n",
      "category         100 non-null object\n",
      "tot_dom_gross    100 non-null int64\n",
      "tot_wor_gross    100 non-null int64\n",
      "avg_dom_gross    100 non-null float64\n",
      "avg_wor_gross    100 non-null float64\n",
      "avg_rating       100 non-null float64\n",
      "avg_budg         100 non-null float64\n",
      "num_movies       100 non-null int64\n",
      "dtypes: float64(4), int64(4), object(3)\n",
      "memory usage: 8.7+ KB\n"
     ]
    }
   ],
   "source": [
    "\"\"\"\n",
    "This dataframe was pulled together in SQL and cleaned and arranged \n",
    "to show the top 100 directors by total domestic gross.\n",
    "\"\"\"\n",
    "df7 = pd.read_csv('100_directors.csv')\n",
    "display(df7.head())\n",
    "df7.info()"
   ]
  },
  {
   "cell_type": "markdown",
   "metadata": {},
   "source": [
    "## Graphs:"
   ]
  },
  {
   "cell_type": "markdown",
   "metadata": {},
   "source": [
    "We're searching how to maximize ratings for a future movie streaming service using these variables.  <br>\n",
    "For example, what runtime should we target?  What directors can we work with?<br><br>\n",
    "Below we charted the following variables:\n",
    "- Budget\n",
    "- Runtime\n",
    "- Studio\n",
    "- Genre\n",
    "- Director"
   ]
  },
  {
   "cell_type": "markdown",
   "metadata": {},
   "source": [
    "Surprisingly, there's not a significant correlation between budget and rating.  As such, it seems wise to not focus  <br>specifically on high budget studios when aiming for high ratings."
   ]
  },
  {
   "cell_type": "markdown",
   "metadata": {},
   "source": [
    "### Budget:"
   ]
  },
  {
   "cell_type": "code",
   "execution_count": 129,
   "metadata": {},
   "outputs": [
    {
     "name": "stdout",
     "output_type": "stream",
     "text": [
      "Little Correlation Between Budget and Vote Average:\n"
     ]
    },
    {
     "data": {
      "application/vnd.plotly.v1+json": {
       "config": {
        "plotlyServerURL": "https://plot.ly"
       },
       "data": [
        {
         "customdata": [
          [
           "Inception"
          ],
          [
           "Deadpool"
          ],
          [
           "Interstellar"
          ],
          [
           "Guardians of the Galaxy"
          ],
          [
           "Django Unchained"
          ],
          [
           "The Hunger Games"
          ],
          [
           "Mad Max: Fury Road"
          ],
          [
           "Jurassic World"
          ],
          [
           "Captain America: Civil War"
          ],
          [
           "Avengers: Infinity War"
          ],
          [
           "The Dark Knight Rises"
          ],
          [
           "Suicide Squad"
          ],
          [
           "Avengers: Age of Ultron"
          ],
          [
           "Captain America: The First Avenger"
          ],
          [
           "Thor"
          ],
          [
           "Shutter Island"
          ],
          [
           "Doctor Strange"
          ],
          [
           "The Wolf of Wall Street"
          ],
          [
           "Iron Man 2"
          ],
          [
           "The Martian"
          ],
          [
           "The Hobbit: An Unexpected Journey"
          ],
          [
           "Batman v Superman: Dawn of Justice"
          ],
          [
           "Ant-Man"
          ],
          [
           "Spider-Man: Homecoming"
          ],
          [
           "Thor: Ragnarok"
          ],
          [
           "The Hunger Games: Catching Fire"
          ],
          [
           "The Revenant"
          ],
          [
           "The Revenant"
          ],
          [
           "Captain America: The Winter Soldier"
          ],
          [
           "It"
          ],
          [
           "The Maze Runner"
          ],
          [
           "Gone Girl"
          ],
          [
           "Skyfall"
          ],
          [
           "The Amazing Spider-Man"
          ],
          [
           "The Imitation Game"
          ],
          [
           "Arrival"
          ],
          [
           "Arrival"
          ],
          [
           "Kingsman: The Secret Service"
          ],
          [
           "Big Hero 6"
          ],
          [
           "Thor: The Dark World"
          ],
          [
           "The Hunger Games: Mockingjay - Part 1"
          ],
          [
           "John Wick"
          ],
          [
           "X-Men: Days of Future Past"
          ],
          [
           "Despicable Me"
          ],
          [
           "La La Land"
          ],
          [
           "Lucy"
          ],
          [
           "Lucy"
          ],
          [
           "Zootopia"
          ],
          [
           "Now You See Me"
          ],
          [
           "Now You See Me"
          ],
          [
           "Man of Steel"
          ],
          [
           "Gravity"
          ],
          [
           "Dunkirk"
          ],
          [
           "World War Z"
          ],
          [
           "Deadpool 2"
          ],
          [
           "Life of Pi"
          ],
          [
           "Coco"
          ],
          [
           "Coco"
          ],
          [
           "Pirates of the Caribbean: On Stranger Tides"
          ],
          [
           "The Hobbit: The Battle of the Five Armies"
          ],
          [
           "Black Swan"
          ],
          [
           "X-Men: Apocalypse"
          ],
          [
           "Toy Story 3"
          ],
          [
           "Divergent"
          ],
          [
           "Maleficent"
          ],
          [
           "Brave"
          ],
          [
           "Brave"
          ],
          [
           "The Grand Budapest Hotel"
          ],
          [
           "The Hateful Eight"
          ],
          [
           "Edge of Tomorrow"
          ],
          [
           "Baby Driver"
          ],
          [
           "Ex Machina"
          ],
          [
           "Finding Dory"
          ],
          [
           "Wreck-It Ralph"
          ],
          [
           "The Hobbit: The Desolation of Smaug"
          ],
          [
           "Ted"
          ],
          [
           "American Sniper"
          ],
          [
           "Silver Linings Playbook"
          ],
          [
           "Pacific Rim"
          ],
          [
           "Bohemian Rhapsody"
          ],
          [
           "How to Train Your Dragon"
          ],
          [
           "The Hunger Games: Mockingjay - Part 2"
          ],
          [
           "Kick-Ass"
          ],
          [
           "Justice League"
          ],
          [
           "Prometheus"
          ],
          [
           "Minions"
          ],
          [
           "Despicable Me 2"
          ],
          [
           "Rise of the Planet of the Apes"
          ],
          [
           "The Shape of Water"
          ],
          [
           "The Amazing Spider-Man 2"
          ],
          [
           "Jumanji: Welcome to the Jungle"
          ],
          [
           "Dawn of the Planet of the Apes"
          ],
          [
           "Ready Player One"
          ],
          [
           "Pirates of the Caribbean: Dead Men Tell No Tales"
          ],
          [
           "Oblivion"
          ],
          [
           "Oblivion"
          ],
          [
           "Now You See Me 2"
          ],
          [
           "Looper"
          ],
          [
           "Spectre"
          ],
          [
           "Blade Runner 2049"
          ],
          [
           "12 Years a Slave"
          ],
          [
           "Hacksaw Ridge"
          ],
          [
           "21 Jump Street"
          ],
          [
           "Fifty Shades of Grey"
          ],
          [
           "The Theory of Everything"
          ],
          [
           "Tangled"
          ],
          [
           "Sherlock Holmes: A Game of Shadows"
          ],
          [
           "Maze Runner: The Scorch Trials"
          ],
          [
           "Monsters University"
          ],
          [
           "Incredibles 2"
          ],
          [
           "The Fate of the Furious"
          ],
          [
           "Limitless"
          ],
          [
           "Limitless"
          ],
          [
           "Ant-Man and the Wasp"
          ],
          [
           "In Time"
          ],
          [
           "The Hangover Part II"
          ],
          [
           "Star Trek Into Darkness"
          ],
          [
           "The Wolverine"
          ],
          [
           "Aquaman"
          ],
          [
           "The Social Network"
          ],
          [
           "Kong: Skull Island"
          ],
          [
           "Jurassic World: Fallen Kingdom"
          ],
          [
           "Me Before You"
          ],
          [
           "The Perks of Being a Wallflower"
          ],
          [
           "The Conjuring"
          ],
          [
           "Nightcrawler"
          ],
          [
           "A Quiet Place"
          ],
          [
           "A Quiet Place"
          ],
          [
           "Prisoners"
          ],
          [
           "How to Train Your Dragon 2"
          ],
          [
           "Kingsman: The Golden Circle"
          ],
          [
           "Room"
          ],
          [
           "Three Billboards Outside Ebbing, Missouri"
          ],
          [
           "Elysium"
          ],
          [
           "Elysium"
          ],
          [
           "The Secret Life of Pets"
          ],
          [
           "Snow White and the Huntsman"
          ],
          [
           "War for the Planet of the Apes"
          ],
          [
           "We're the Millers"
          ],
          [
           "The Greatest Showman"
          ],
          [
           "22 Jump Street"
          ],
          [
           "Argo"
          ],
          [
           "San Andreas"
          ],
          [
           "Hotel Transylvania"
          ],
          [
           "Chappie"
          ],
          [
           "The Equalizer"
          ],
          [
           "Alien: Covenant"
          ],
          [
           "Dallas Buyers Club"
          ],
          [
           "Transformers: Dark of the Moon"
          ],
          [
           "Spotlight"
          ],
          [
           "Spotlight"
          ],
          [
           "The Twilight Saga: Eclipse"
          ],
          [
           "Fantastic Beasts: The Crimes of Grindelwald"
          ],
          [
           "The Secret Life of Walter Mitty"
          ],
          [
           "Transformers: Age of Extinction"
          ],
          [
           "The Purge"
          ],
          [
           "Baywatch"
          ],
          [
           "Snowpiercer"
          ],
          [
           "Hidden Figures"
          ],
          [
           "The Big Short"
          ],
          [
           "The Expendables"
          ],
          [
           "Friends with Benefits"
          ],
          [
           "10 Cloverfield Lane"
          ],
          [
           "Tomorrowland"
          ],
          [
           "Tomorrowland"
          ],
          [
           "Ice Age: Continental Drift"
          ],
          [
           "Real Steel"
          ],
          [
           "Neighbors"
          ],
          [
           "Neighbors"
          ],
          [
           "Neighbors"
          ],
          [
           "Neighbors"
          ],
          [
           "Source Code"
          ],
          [
           "Cloud Atlas"
          ],
          [
           "Fifty Shades Darker"
          ],
          [
           "Sicario"
          ],
          [
           "127 Hours"
          ],
          [
           "American Hustle"
          ],
          [
           "A Good Day to Die Hard"
          ],
          [
           "Jupiter Ascending"
          ],
          [
           "The Boss Baby"
          ],
          [
           "Bridge of Spies"
          ],
          [
           "Tomb Raider"
          ],
          [
           "Sing"
          ],
          [
           "Fast Five"
          ],
          [
           "Green Lantern"
          ],
          [
           "Star Trek Beyond"
          ],
          [
           "The Nice Guys"
          ],
          [
           "Sausage Party"
          ],
          [
           "Pitch Perfect"
          ],
          [
           "Ted 2"
          ],
          [
           "The Expendables 2"
          ],
          [
           "Dark Shadows"
          ],
          [
           "Nocturnal Animals"
          ],
          [
           "The Cabin in the Woods"
          ],
          [
           "Easy A"
          ],
          [
           "Jack Reacher"
          ],
          [
           "After Earth"
          ],
          [
           "Valerian and the City of a Thousand Planets"
          ],
          [
           "Hugo"
          ],
          [
           "Hugo"
          ],
          [
           "Warm Bodies"
          ],
          [
           "Despicable Me 3"
          ],
          [
           "The Legend of Tarzan"
          ],
          [
           "Olympus Has Fallen"
          ],
          [
           "Warcraft"
          ],
          [
           "Cars 2"
          ],
          [
           "Taken 2"
          ],
          [
           "Creed"
          ],
          [
           "Creed"
          ],
          [
           "Creed"
          ],
          [
           "About Time"
          ],
          [
           "The Girl with the Dragon Tattoo"
          ],
          [
           "Midnight in Paris"
          ],
          [
           "Midnight in Paris"
          ],
          [
           "Wonder"
          ],
          [
           "The Help"
          ],
          [
           "Super 8"
          ],
          [
           "Sully"
          ],
          [
           "Independence Day: Resurgence"
          ],
          [
           "Captain Phillips"
          ],
          [
           "G.I. Joe: Retaliation"
          ],
          [
           "Inferno"
          ],
          [
           "Inferno"
          ],
          [
           "Inferno"
          ],
          [
           "The Croods"
          ],
          [
           "Lady Bird"
          ],
          [
           "The Age of Adaline"
          ],
          [
           "Shrek Forever After"
          ],
          [
           "Horrible Bosses"
          ],
          [
           "Solo: A Star Wars Story"
          ],
          [
           "Fantastic Four"
          ],
          [
           "Fantastic Four"
          ],
          [
           "Lion"
          ],
          [
           "Lion"
          ],
          [
           "Lion"
          ],
          [
           "Alice Through the Looking Glass"
          ],
          [
           "The Lone Ranger"
          ],
          [
           "Kick-Ass 2"
          ],
          [
           "The Purge: Anarchy"
          ],
          [
           "Rio"
          ],
          [
           "Rio"
          ],
          [
           "Rio"
          ],
          [
           "Dracula Untold"
          ],
          [
           "Rise of the Guardians"
          ],
          [
           "The 5th Wave"
          ],
          [
           "Atomic Blonde"
          ],
          [
           "Megamind"
          ],
          [
           "The Bourne Legacy"
          ],
          [
           "Kung Fu Panda 2"
          ],
          [
           "The Impossible"
          ],
          [
           "Jason Bourne"
          ],
          [
           "Pitch Perfect 2"
          ],
          [
           "Paper Towns"
          ],
          [
           "Flight"
          ],
          [
           "Insidious"
          ],
          [
           "Ender's Game"
          ],
          [
           "Night at the Museum: Secret of the Tomb"
          ],
          [
           "Fifty Shades Freed"
          ],
          [
           "The Babadook"
          ],
          [
           "Green Book"
          ],
          [
           "The Book of Eli"
          ],
          [
           "It Follows"
          ],
          [
           "Southpaw"
          ],
          [
           "Rango"
          ],
          [
           "The Accountant"
          ],
          [
           "Red Sparrow"
          ],
          [
           "Taken 3"
          ],
          [
           "Jack the Giant Slayer"
          ],
          [
           "Madagascar 3: Europe's Most Wanted"
          ],
          [
           "The Intern"
          ],
          [
           "Annabelle"
          ],
          [
           "John Carter"
          ],
          [
           "King Arthur: Legend of the Sword"
          ],
          [
           "Collateral Beauty"
          ],
          [
           "Transformers: The Last Knight"
          ],
          [
           "The Adventures of Tintin"
          ],
          [
           "Battleship"
          ],
          [
           "Salt"
          ],
          [
           "Happy Death Day"
          ],
          [
           "The Chronicles of Narnia: The Voyage of the Dawn Treader"
          ],
          [
           "Hotel Transylvania 2"
          ],
          [
           "Manchester by the Sea"
          ],
          [
           "Grown Ups"
          ],
          [
           "Love, Simon"
          ],
          [
           "Annabelle: Creation"
          ],
          [
           "The Karate Kid"
          ],
          [
           "The Karate Kid"
          ],
          [
           "BlacKkKlansman"
          ],
          [
           "The Good Dinosaur"
          ],
          [
           "Central Intelligence"
          ],
          [
           "The Tourist"
          ],
          [
           "Percy Jackson: Sea of Monsters"
          ],
          [
           "Boyhood"
          ],
          [
           "The Giver"
          ],
          [
           "The Dictator"
          ],
          [
           "The Shallows"
          ],
          [
           "Moonrise Kingdom"
          ],
          [
           "Paul"
          ],
          [
           "Paul"
          ],
          [
           "The World's End"
          ],
          [
           "Crimson Peak"
          ],
          [
           "Due Date"
          ],
          [
           "Project X"
          ],
          [
           "Project X"
          ],
          [
           "Kung Fu Panda 3"
          ],
          [
           "The Witch"
          ],
          [
           "The Mortal Instruments: City of Bones"
          ],
          [
           "Exodus: Gods and Kings"
          ],
          [
           "I, Tonya"
          ],
          [
           "The Purge: Election Year"
          ],
          [
           "The Meg"
          ],
          [
           "Bad Teacher"
          ],
          [
           "Into the Woods"
          ],
          [
           "Into the Woods"
          ],
          [
           "Into the Woods"
          ],
          [
           "Into the Woods"
          ],
          [
           "The Sorcerer's Apprentice"
          ],
          [
           "The Expendables 3"
          ],
          [
           "Riddick"
          ],
          [
           "The Dark Tower"
          ],
          [
           "Jack Reacher: Never Go Back"
          ],
          [
           "Neighbors 2: Sorority Rising"
          ],
          [
           "White House Down"
          ],
          [
           "True Grit"
          ],
          [
           "Escape Plan"
          ],
          [
           "Dredd"
          ],
          [
           "The Book Thief"
          ],
          [
           "Bridesmaids"
          ],
          [
           "The Place Beyond the Pines"
          ],
          [
           "The Great Wall"
          ],
          [
           "The Great Wall"
          ],
          [
           "Allied"
          ],
          [
           "Game Night"
          ],
          [
           "Game Night"
          ],
          [
           "Joy"
          ],
          [
           "Joy"
          ],
          [
           "Joy"
          ],
          [
           "Joy"
          ],
          [
           "Joy"
          ],
          [
           "Sucker Punch"
          ],
          [
           "Darkest Hour"
          ],
          [
           "Don Jon"
          ],
          [
           "If I Stay"
          ],
          [
           "The A-Team"
          ],
          [
           "Sex Tape"
          ],
          [
           "American Reunion"
          ],
          [
           "Dear John"
          ],
          [
           "Dirty Grandpa"
          ],
          [
           "The Visit"
          ],
          [
           "The Visit"
          ],
          [
           "The Visit"
          ],
          [
           "The Visit"
          ],
          [
           "The Internship"
          ],
          [
           "The Adjustment Bureau"
          ],
          [
           "No Strings Attached"
          ],
          [
           "No Strings Attached"
          ],
          [
           "No Strings Attached"
          ],
          [
           "Deepwater Horizon"
          ],
          [
           "Bad Moms"
          ],
          [
           "Cars 3"
          ],
          [
           "London Has Fallen"
          ],
          [
           "Horrible Bosses 2"
          ],
          [
           "Steve Jobs"
          ],
          [
           "Robin Hood"
          ],
          [
           "Robin Hood"
          ],
          [
           "Robin Hood"
          ],
          [
           "Robin Hood"
          ],
          [
           "Robin Hood"
          ],
          [
           "Robin Hood"
          ],
          [
           "Robin Hood"
          ],
          [
           "Robin Hood"
          ],
          [
           "Zero Dark Thirty"
          ],
          [
           "Gangster Squad"
          ],
          [
           "The Post"
          ],
          [
           "Spring Breakers"
          ],
          [
           "Why Him?"
          ],
          [
           "Hereditary"
          ],
          [
           "Hell or High Water"
          ],
          [
           "Everything, Everything"
          ],
          [
           "Wrath of the Titans"
          ],
          [
           "The Heat"
          ],
          [
           "Ice Age: Collision Course"
          ],
          [
           "Snowden"
          ],
          [
           "Bumblebee"
          ],
          [
           "Mama"
          ],
          [
           "Mama"
          ],
          [
           "Mama"
          ],
          [
           "Mama"
          ],
          [
           "Mama"
          ],
          [
           "Mama"
          ],
          [
           "Mama"
          ],
          [
           "The Vow"
          ],
          [
           "The Commuter"
          ],
          [
           "Need for Speed"
          ],
          [
           "War Dogs"
          ],
          [
           "The Town"
          ],
          [
           "The Town"
          ],
          [
           "2 Guns"
          ],
          [
           "The Judge"
          ],
          [
           "The Judge"
          ],
          [
           "Gods of Egypt"
          ],
          [
           "Hail, Caesar!"
          ],
          [
           "The Fighter"
          ],
          [
           "Resident Evil: Retribution"
          ],
          [
           "Underworld: Blood Wars"
          ],
          [
           "First Man"
          ],
          [
           "First Man"
          ],
          [
           "Lone Survivor"
          ],
          [
           "The Grey"
          ],
          [
           "Penguins of Madagascar"
          ],
          [
           "Lincoln"
          ],
          [
           "Moneyball"
          ],
          [
           "Geostorm"
          ],
          [
           "Unbroken"
          ],
          [
           "Unbroken"
          ],
          [
           "Creed II"
          ],
          [
           "Identity Thief"
          ],
          [
           "The Monuments Men"
          ],
          [
           "The Edge of Seventeen"
          ],
          [
           "Lights Out"
          ],
          [
           "Lights Out"
          ],
          [
           "Lights Out"
          ],
          [
           "Lights Out"
          ],
          [
           "The Last Song"
          ],
          [
           "The Last Witch Hunter"
          ],
          [
           "Warrior"
          ],
          [
           "Warrior"
          ],
          [
           "American Made"
          ],
          [
           "The Other Guys"
          ],
          [
           "Skyscraper"
          ],
          [
           "Big Eyes"
          ],
          [
           "Big Eyes"
          ],
          [
           "Journey 2: The Mysterious Island"
          ],
          [
           "Goosebumps"
          ],
          [
           "The Last Airbender"
          ],
          [
           "In the Heart of the Sea"
          ],
          [
           "Before I Fall"
          ],
          [
           "The Woman in Black"
          ],
          [
           "Resident Evil: Afterlife"
          ],
          [
           "The Smurfs"
          ],
          [
           "50/50"
          ],
          [
           "50/50"
          ],
          [
           "Seven Psychopaths"
          ],
          [
           "One Day"
          ],
          [
           "One Day"
          ],
          [
           "One Day"
          ],
          [
           "Mirror Mirror"
          ],
          [
           "The Favourite"
          ],
          [
           "This Means War"
          ],
          [
           "The Founder"
          ],
          [
           "Grown Ups 2"
          ],
          [
           "Begin Again"
          ],
          [
           "Begin Again"
          ],
          [
           "The Equalizer 2"
          ],
          [
           "47 Ronin"
          ],
          [
           "Remember Me"
          ],
          [
           "Remember Me"
          ],
          [
           "Remember Me"
          ],
          [
           "Remember Me"
          ],
          [
           "Pompeii"
          ],
          [
           "Saving Mr. Banks"
          ],
          [
           "Straight Outta Compton"
          ],
          [
           "R.I.P.D."
          ],
          [
           "Unknown"
          ],
          [
           "Unknown"
          ],
          [
           "Unknown"
          ],
          [
           "Unknown"
          ],
          [
           "Ghost Rider: Spirit of Vengeance"
          ],
          [
           "Gifted"
          ],
          [
           "Gifted"
          ],
          [
           "Kubo and the Two Strings"
          ],
          [
           "Black Mass"
          ],
          [
           "Unfriended"
          ],
          [
           "The Lucky One"
          ],
          [
           "Abraham Lincoln: Vampire Hunter"
          ],
          [
           "The Neon Demon"
          ],
          [
           "Safe House"
          ],
          [
           "Safe House"
          ],
          [
           "Safe House"
          ],
          [
           "Blue Jasmine"
          ],
          [
           "Predators"
          ],
          [
           "Carol"
          ],
          [
           "Still Alice"
          ],
          [
           "Hanna"
          ],
          [
           "Vacation"
          ],
          [
           "Mechanic: Resurrection"
          ],
          [
           "A Monster Calls"
          ],
          [
           "The BFG"
          ],
          [
           "Unstoppable"
          ],
          [
           "Unstoppable"
          ],
          [
           "Unstoppable"
          ],
          [
           "Unstoppable"
          ],
          [
           "Unstoppable"
          ],
          [
           "Brooklyn"
          ],
          [
           "Brooklyn"
          ],
          [
           "The Longest Ride"
          ],
          [
           "Valentine's Day"
          ],
          [
           "The Walk"
          ],
          [
           "The Walk"
          ],
          [
           "Paddington"
          ],
          [
           "The Green Hornet"
          ],
          [
           "The Disaster Artist"
          ],
          [
           "Downsizing"
          ],
          [
           "Jigsaw"
          ],
          [
           "Pitch Perfect 3"
          ],
          [
           "Red Riding Hood"
          ],
          [
           "Little Fockers"
          ],
          [
           "Trolls"
          ],
          [
           "Parker"
          ],
          [
           "Machete"
          ],
          [
           "Teenage Mutant Ninja Turtles: Out of the Shadows"
          ],
          [
           "Money Monster"
          ],
          [
           "Resident Evil: The Final Chapter"
          ],
          [
           "Magic Mike"
          ],
          [
           "War Horse"
          ],
          [
           "The First Purge"
          ],
          [
           "Dumb and Dumber To"
          ],
          [
           "Burnt"
          ],
          [
           "Burnt"
          ],
          [
           "I Origins"
          ],
          [
           "Johnny English Reborn"
          ],
          [
           "Rio 2"
          ],
          [
           "The Spectacular Now"
          ],
          [
           "Abduction"
          ],
          [
           "Abduction"
          ],
          [
           "Abduction"
          ],
          [
           "Abduction"
          ],
          [
           "Abduction"
          ],
          [
           "Swiss Army Man"
          ],
          [
           "The Artist"
          ],
          [
           "The Artist"
          ],
          [
           "The Artist"
          ],
          [
           "Rings"
          ],
          [
           "The Call"
          ],
          [
           "The Call"
          ],
          [
           "The Call"
          ],
          [
           "End of Watch"
          ],
          [
           "Hitman: Agent 47"
          ],
          [
           "That Awkward Moment"
          ],
          [
           "Turbo"
          ],
          [
           "A Simple Favor"
          ],
          [
           "American Ultra"
          ],
          [
           "Mortal Engines"
          ],
          [
           "Beastly"
          ],
          [
           "Oculus"
          ],
          [
           "Date Night"
          ],
          [
           "Trainwreck"
          ],
          [
           "The Tree of Life"
          ],
          [
           "The Tree of Life"
          ],
          [
           "Blended"
          ],
          [
           "Letters to Juliet"
          ],
          [
           "Final Destination 5"
          ],
          [
           "Pan"
          ],
          [
           "The Last Stand"
          ],
          [
           "The Last Stand"
          ],
          [
           "Jack Ryan: Shadow Recruit"
          ],
          [
           "A Walk Among the Tombstones"
          ],
          [
           "Frankenweenie"
          ],
          [
           "Run All Night"
          ],
          [
           "Cloudy with a Chance of Meatballs 2"
          ],
          [
           "Blue Valentine"
          ],
          [
           "The Mechanic"
          ],
          [
           "Hotel Transylvania 3: Summer Vacation"
          ],
          [
           "Epic"
          ],
          [
           "Ouija"
          ],
          [
           "Mortdecai"
          ],
          [
           "Lawless"
          ],
          [
           "Lawless"
          ],
          [
           "Upside Down"
          ],
          [
           "Upside Down"
          ],
          [
           "Upside Down"
          ],
          [
           "Upside Down"
          ],
          [
           "Upside Down"
          ],
          [
           "Upside Down"
          ],
          [
           "Melancholia"
          ],
          [
           "Melancholia"
          ],
          [
           "Logan Lucky"
          ],
          [
           "The Bounty Hunter"
          ],
          [
           "Water for Elephants"
          ],
          [
           "Jobs"
          ],
          [
           "Scream 4"
          ],
          [
           "Shame"
          ],
          [
           "American Assassin"
          ],
          [
           "Mud"
          ],
          [
           "Tower Heist"
          ],
          [
           "Me and Earl and the Dying Girl"
          ],
          [
           "Mike and Dave Need Wedding Dates"
          ],
          [
           "Seventh Son"
          ],
          [
           "The Lincoln Lawyer"
          ],
          [
           "We Bought a Zoo"
          ],
          [
           "The Descendants"
          ],
          [
           "The Descendants"
          ],
          [
           "Devil"
          ],
          [
           "The Best of Me"
          ],
          [
           "Crazy Rich Asians"
          ],
          [
           "The Little Prince"
          ],
          [
           "The Little Prince"
          ],
          [
           "Knock Knock"
          ],
          [
           "Knock Knock"
          ],
          [
           "Buried"
          ],
          [
           "Buried"
          ],
          [
           "Buried"
          ],
          [
           "Get Hard"
          ],
          [
           "Get Hard"
          ],
          [
           "The Next Three Days"
          ],
          [
           "Fences"
          ],
          [
           "Fences"
          ],
          [
           "Man on a Ledge"
          ],
          [
           "Mary Poppins Returns"
          ],
          [
           "The Space Between Us"
          ],
          [
           "Project Almanac"
          ],
          [
           "The Emoji Movie"
          ],
          [
           "Safe Haven"
          ],
          [
           "Safe Haven"
          ],
          [
           "Immortals"
          ],
          [
           "The First Time"
          ],
          [
           "The First Time"
          ],
          [
           "Ferdinand"
          ],
          [
           "Puss in Boots"
          ],
          [
           "Jackie"
          ],
          [
           "Jackie"
          ],
          [
           "Jackie"
          ],
          [
           "Jackie"
          ],
          [
           "Ouija: Origin of Evil"
          ],
          [
           "Homefront"
          ],
          [
           "Anchorman 2: The Legend Continues"
          ],
          [
           "The Change-Up"
          ],
          [
           "The Ides of March"
          ],
          [
           "Inside Llewyn Davis"
          ],
          [
           "Mommy"
          ],
          [
           "Mommy"
          ],
          [
           "Charlie St. Cloud"
          ],
          [
           "The Lost City of Z"
          ],
          [
           "Only God Forgives"
          ],
          [
           "Hot Tub Time Machine"
          ],
          [
           "Zoolander 2"
          ],
          [
           "Colombiana"
          ],
          [
           "Locke"
          ],
          [
           "Inherent Vice"
          ],
          [
           "ParaNorman"
          ],
          [
           "Mr. Peabody & Sherman"
          ],
          [
           "The Watch"
          ],
          [
           "Selma"
          ],
          [
           "Season of the Witch"
          ],
          [
           "Trance"
          ],
          [
           "Trance"
          ],
          [
           "Trance"
          ],
          [
           "Trance"
          ],
          [
           "Trance"
          ],
          [
           "Trance"
          ],
          [
           "Paranormal Activity 2"
          ],
          [
           "Patriots Day"
          ],
          [
           "Movie 43"
          ],
          [
           "Upgrade"
          ],
          [
           "Upgrade"
          ],
          [
           "It's Kind of a Funny Story"
          ],
          [
           "The Master"
          ],
          [
           "The Master"
          ],
          [
           "The Master"
          ],
          [
           "The Master"
          ],
          [
           "Sicario: Day of the Soldado"
          ],
          [
           "Green Room"
          ],
          [
           "Killers"
          ],
          [
           "Killers"
          ],
          [
           "12 Strong"
          ],
          [
           "Storks"
          ],
          [
           "Insidious: The Last Key"
          ],
          [
           "We Need to Talk About Kevin"
          ],
          [
           "J. Edgar"
          ],
          [
           "The Big Sick"
          ],
          [
           "No Escape"
          ],
          [
           "Hardcore Henry"
          ],
          [
           "Never Let Me Go"
          ],
          [
           "Never Let Me Go"
          ],
          [
           "Gulliver's Travels"
          ],
          [
           "Stoker"
          ],
          [
           "3 Days to Kill"
          ],
          [
           "Ride Along"
          ],
          [
           "Ride Along"
          ],
          [
           "What's Your Number?"
          ],
          [
           "Anna Karenina"
          ],
          [
           "Triple 9"
          ],
          [
           "You're Next"
          ],
          [
           "Step Up Revolution"
          ],
          [
           "Den of Thieves"
          ],
          [
           "Premium Rush"
          ],
          [
           "Two Night Stand"
          ],
          [
           "We Are Your Friends"
          ],
          [
           "Aloha"
          ],
          [
           "The Snowman"
          ],
          [
           "Legend of the Guardians: The Owls of Ga'Hoole"
          ],
          [
           "The Drop"
          ],
          [
           "The Drop"
          ],
          [
           "The Drop"
          ],
          [
           "Last Vegas"
          ],
          [
           "Eat Pray Love"
          ],
          [
           "The Smurfs 2"
          ],
          [
           "Victor Frankenstein"
          ],
          [
           "Paranormal Activity 3"
          ],
          [
           "Burlesque"
          ],
          [
           "Burlesque"
          ],
          [
           "Pride and Prejudice and Zombies"
          ],
          [
           "Monte Carlo"
          ],
          [
           "Office Christmas Party"
          ],
          [
           "Eddie the Eagle"
          ],
          [
           "Green Zone"
          ],
          [
           "Alpha"
          ],
          [
           "Alpha"
          ],
          [
           "Alpha"
          ],
          [
           "Alpha"
          ],
          [
           "Blackhat"
          ],
          [
           "The SpongeBob Movie: Sponge Out of Water"
          ],
          [
           "The Darkest Minds"
          ],
          [
           "Priest"
          ],
          [
           "Attack the Block"
          ],
          [
           "Sinister 2"
          ],
          [
           "The Ghost Writer"
          ],
          [
           "What to Expect When You're Expecting"
          ],
          [
           "The Florida Project"
          ],
          [
           "Jack and Jill"
          ],
          [
           "Contraband"
          ],
          [
           "Magic Mike XXL"
          ],
          [
           "Seeking a Friend for the End of the World"
          ],
          [
           "Killing Them Softly"
          ],
          [
           "Midnight Special"
          ],
          [
           "Youth"
          ],
          [
           "Youth"
          ],
          [
           "Youth"
          ],
          [
           "To Rome with Love"
          ],
          [
           "Rough Night"
          ],
          [
           "Blair Witch"
          ],
          [
           "Killer Elite"
          ],
          [
           "I, Frankenstein"
          ],
          [
           "I Feel Pretty"
          ],
          [
           "The Foreigner"
          ],
          [
           "The Foreigner"
          ],
          [
           "The Foreigner"
          ],
          [
           "Machete Kills"
          ],
          [
           "Out of the Furnace"
          ],
          [
           "A Wrinkle in Time"
          ],
          [
           "The Counselor"
          ],
          [
           "St. Vincent"
          ],
          [
           "A Dangerous Method"
          ],
          [
           "Regression"
          ],
          [
           "The Invitation"
          ],
          [
           "Let Me In"
          ],
          [
           "Let Me In"
          ],
          [
           "Tooth Fairy"
          ],
          [
           "Alvin and the Chipmunks: Chipwrecked"
          ],
          [
           "Krampus"
          ],
          [
           "Battle of the Sexes"
          ],
          [
           "A Bad Moms Christmas"
          ],
          [
           "Before Midnight"
          ],
          [
           "The Crazies"
          ],
          [
           "Piranha 3D"
          ],
          [
           "Paranormal Activity 4"
          ],
          [
           "Leap!"
          ],
          [
           "The Boxtrolls"
          ],
          [
           "Hall Pass"
          ],
          [
           "The Wolfman"
          ],
          [
           "The Switch"
          ],
          [
           "Dark Skies"
          ],
          [
           "Lockout"
          ],
          [
           "Hot Pursuit"
          ],
          [
           "The Rite"
          ],
          [
           "Leap Year"
          ],
          [
           "Frozen"
          ],
          [
           "Frozen"
          ],
          [
           "Before We Go"
          ],
          [
           "Before We Go"
          ],
          [
           "Suffragette"
          ],
          [
           "The Campaign"
          ],
          [
           "The Campaign"
          ],
          [
           "Get Him to the Greek"
          ],
          [
           "I Spit on Your Grave"
          ],
          [
           "Repo Men"
          ],
          [
           "She's Out of My League"
          ],
          [
           "Blockers"
          ],
          [
           "Girls Trip"
          ],
          [
           "Nebraska"
          ],
          [
           "The Wedding Ringer"
          ],
          [
           "Drive Angry"
          ],
          [
           "Maggie"
          ],
          [
           "Maggie"
          ],
          [
           "The Forest"
          ],
          [
           "The Forest"
          ],
          [
           "The Forest"
          ],
          [
           "The Night Before"
          ],
          [
           "The Night Before"
          ],
          [
           "The Night Before"
          ],
          [
           "Dope"
          ],
          [
           "Nanny McPhee Returns"
          ],
          [
           "Philomena"
          ],
          [
           "The Finest Hours"
          ],
          [
           "The Infiltrator"
          ],
          [
           "Widows"
          ],
          [
           "Widows"
          ],
          [
           "Ride Along 2"
          ],
          [
           "Winter's Bone"
          ],
          [
           "Anomalisa"
          ],
          [
           "Sisters"
          ],
          [
           "Sisters"
          ],
          [
           "Sisters"
          ],
          [
           "Sisters"
          ],
          [
           "Sisters"
          ],
          [
           "Sisters"
          ],
          [
           "Dinner for Schmucks"
          ],
          [
           "Mile 22"
          ],
          [
           "The Incredible Burt Wonderstone"
          ],
          [
           "The Possession"
          ],
          [
           "Hunt for the Wilderpeople"
          ],
          [
           "Scouts Guide to the Zombie Apocalypse"
          ],
          [
           "Miss Sloane"
          ],
          [
           "Brick Mansions"
          ],
          [
           "The Nutcracker and the Four Realms"
          ],
          [
           "A Ghost Story"
          ],
          [
           "Child 44"
          ],
          [
           "Paul Blart: Mall Cop 2"
          ],
          [
           "The Iron Lady"
          ],
          [
           "Faster"
          ],
          [
           "The Peanuts Movie"
          ],
          [
           "Zookeeper"
          ],
          [
           "Winchester"
          ],
          [
           "A Haunted House"
          ],
          [
           "Dead Man Down"
          ],
          [
           "Flipped"
          ],
          [
           "Flipped"
          ],
          [
           "Delivery Man"
          ],
          [
           "Margin Call"
          ],
          [
           "The Kids Are All Right"
          ],
          [
           "Another Earth"
          ],
          [
           "Alvin and the Chipmunks: The Road Chip"
          ],
          [
           "The November Man"
          ],
          [
           "Eye in the Sky"
          ],
          [
           "Florence Foster Jenkins"
          ],
          [
           "Hereafter"
          ],
          [
           "Monsters"
          ],
          [
           "Monsters"
          ],
          [
           "Monsters"
          ],
          [
           "The Losers"
          ],
          [
           "The Losers"
          ],
          [
           "August: Osage County"
          ],
          [
           "Chernobyl Diaries"
          ],
          [
           "The Transporter Refueled"
          ],
          [
           "Skyline"
          ],
          [
           "That's My Boy"
          ],
          [
           "The Light Between Oceans"
          ],
          [
           "The Muppets"
          ],
          [
           "30 Minutes or Less"
          ],
          [
           "The Boss"
          ],
          [
           "Alexander and the Terrible, Horrible, No Good, Very Bad Day"
          ],
          [
           "Broken City"
          ],
          [
           "Here Comes the Boom"
          ],
          [
           "Sex and the City 2"
          ],
          [
           "The Legend of Hercules"
          ],
          [
           "The 15:17 to Paris"
          ],
          [
           "Cop Out"
          ],
          [
           "Edge of Darkness"
          ],
          [
           "A Most Violent Year"
          ],
          [
           "Safety Not Guaranteed"
          ],
          [
           "Free State of Jones"
          ],
          [
           "Take Shelter"
          ],
          [
           "Woman in Gold"
          ],
          [
           "The Hundred-Foot Journey"
          ],
          [
           "A Most Wanted Man"
          ],
          [
           "The Gambler"
          ],
          [
           "The Gambler"
          ],
          [
           "The Gambler"
          ],
          [
           "The Gambler"
          ],
          [
           "The Gambler"
          ],
          [
           "The Gambler"
          ],
          [
           "The Gambler"
          ],
          [
           "The Gambler"
          ],
          [
           "Instant Family"
          ],
          [
           "Stronger"
          ],
          [
           "Stronger"
          ],
          [
           "Stronger"
          ],
          [
           "Texas Chainsaw 3D"
          ],
          [
           "Paranormal Activity: The Ghost Dimension"
          ],
          [
           "Submarine"
          ],
          [
           "Runner Runner"
          ],
          [
           "The Best Exotic Marigold Hotel"
          ],
          [
           "Bachelorette"
          ],
          [
           "Mustang"
          ],
          [
           "Happy Feet Two"
          ],
          [
           "Paranormal Activity: The Marked Ones"
          ],
          [
           "Suspiria"
          ],
          [
           "The Art of Getting By"
          ],
          [
           "Haywire"
          ],
          [
           "Amour"
          ],
          [
           "The Five-Year Engagement"
          ],
          [
           "My Week with Marilyn"
          ],
          [
           "Diary of a Wimpy Kid"
          ],
          [
           "Paterson"
          ],
          [
           "Smurfs: The Lost Village"
          ],
          [
           "Tammy"
          ],
          [
           "The Darkest Hour"
          ],
          [
           "The Darkest Hour"
          ],
          [
           "You Again"
          ],
          [
           "Super"
          ],
          [
           "Super"
          ],
          [
           "Super"
          ],
          [
           "Morning Glory"
          ],
          [
           "Peppermint"
          ],
          [
           "Slender Man"
          ],
          [
           "Slender Man"
          ],
          [
           "Grudge Match"
          ],
          [
           "Fist Fight"
          ],
          [
           "Jonah Hex"
          ],
          [
           "Killer Joe"
          ],
          [
           "The Man Who Knew Infinity"
          ],
          [
           "Veronica Mars"
          ],
          [
           "All Eyez on Me"
          ],
          [
           "The Eagle"
          ],
          [
           "Wanderlust"
          ],
          [
           "Wanderlust"
          ],
          [
           "Wanderlust"
          ],
          [
           "Wanderlust"
          ],
          [
           "Arthur Christmas"
          ],
          [
           "The American"
          ],
          [
           "Wish Upon"
          ],
          [
           "Soul Surfer"
          ],
          [
           "Rock of Ages"
          ],
          [
           "A Thousand Words"
          ],
          [
           "The Water Diviner"
          ],
          [
           "Bullet to the Head"
          ],
          [
           "The Big Wedding"
          ],
          [
           "The Bye Bye Man"
          ],
          [
           "Fifty Shades of Black"
          ],
          [
           "Larry Crowne"
          ],
          [
           "Centurion"
          ],
          [
           "Dream House"
          ],
          [
           "Dream House"
          ],
          [
           "Polisse"
          ],
          [
           "Unsane"
          ],
          [
           "Home Again"
          ],
          [
           "Home Again"
          ],
          [
           "Vampires Suck"
          ],
          [
           "The Rum Diary"
          ],
          [
           "Peter Rabbit"
          ],
          [
           "The Spy Next Door"
          ],
          [
           "Entourage"
          ],
          [
           "Fruitvale Station"
          ],
          [
           "Keanu"
          ],
          [
           "Like Crazy"
          ],
          [
           "Like Crazy"
          ],
          [
           "The Hate U Give"
          ],
          [
           "The Words"
          ],
          [
           "Frances Ha"
          ],
          [
           "Big Mommas: Like Father, Like Son"
          ],
          [
           "Four Lions"
          ],
          [
           "Robot & Frank"
          ],
          [
           "The Green Inferno"
          ],
          [
           "Camp X-Ray"
          ],
          [
           "Trouble with the Curve"
          ],
          [
           "Hop"
          ],
          [
           "While We're Young"
          ],
          [
           "Beasts of the Southern Wild"
          ],
          [
           "Takers"
          ],
          [
           "The Odd Life of Timothy Green"
          ],
          [
           "Table 19"
          ],
          [
           "Young Adult"
          ],
          [
           "Tusk"
          ],
          [
           "Smallfoot"
          ],
          [
           "A Haunted House 2"
          ],
          [
           "Whiskey Tango Foxtrot"
          ],
          [
           "My Big Fat Greek Wedding 2"
          ],
          [
           "Mary Queen of Scots"
          ],
          [
           "Mary Queen of Scots"
          ],
          [
           "Something Borrowed"
          ],
          [
           "The Gallows"
          ],
          [
           "A Hologram for the King"
          ],
          [
           "Captain Underpants: The First Epic Movie"
          ],
          [
           "Act of Valor"
          ],
          [
           "The Gunman"
          ],
          [
           "The Gunman"
          ],
          [
           "13 Sins"
          ],
          [
           "The Man with the Iron Fists"
          ],
          [
           "The 33"
          ],
          [
           "The Guard"
          ],
          [
           "Don't Be Afraid of the Dark"
          ],
          [
           "The Fifth Estate"
          ],
          [
           "Biutiful"
          ],
          [
           "Labor Day"
          ],
          [
           "Free Fire"
          ],
          [
           "Beginners"
          ],
          [
           "Loving"
          ],
          [
           "The Nut Job"
          ],
          [
           "Palo Alto"
          ],
          [
           "Our Idiot Brother"
          ],
          [
           "The Last Exorcism"
          ],
          [
           "On the Road"
          ],
          [
           "On the Road"
          ],
          [
           "On the Road"
          ],
          [
           "On the Road"
          ],
          [
           "On the Road"
          ],
          [
           "On the Road"
          ],
          [
           "Sanctum"
          ],
          [
           "Hot Tub Time Machine 2"
          ],
          [
           "Legend"
          ]
         ],
         "hoverlabel": {
          "namelength": 0
         },
         "hovertemplate": "production_budget=%{x}<br>vote_average=%{y}<br>domestic_gross=%{marker.size}<br>primary_title=%{customdata[0]}",
         "legendgroup": "",
         "marker": {
          "color": "#636efa",
          "size": [
           292576195,
           363070709,
           188017894,
           333172112,
           162805434,
           408010692,
           153636354,
           652270625,
           408084349,
           678815482,
           448139099,
           325100054,
           459005868,
           176654505,
           181030624,
           128012934,
           232641920,
           116900694,
           312433331,
           228433663,
           303003568,
           330360194,
           180202163,
           334201140,
           315058289,
           424668047,
           183637894,
           183637894,
           259746958,
           327481748,
           102427862,
           167767189,
           304360277,
           262030663,
           91125143,
           100546139,
           100546139,
           128261724,
           222527828,
           206362140,
           337135885,
           43037835,
           233921534,
           251513985,
           151101803,
           126573960,
           126573960,
           341268248,
           117723989,
           117723989,
           291045518,
           274092705,
           190068280,
           202359711,
           324591735,
           124987022,
           209726015,
           209726015,
           241063875,
           255119788,
           106954678,
           155442489,
           415004880,
           150947895,
           241407328,
           237282182,
           237282182,
           59076019,
           54117416,
           100206256,
           107825862,
           25440971,
           486295561,
           189412677,
           258366855,
           218665740,
           350126372,
           132092958,
           101802906,
           216303339,
           217581232,
           281723902,
           48071303,
           229024295,
           126477084,
           336045770,
           368065385,
           176760185,
           63859435,
           202853933,
           404508916,
           208545589,
           137690172,
           172558876,
           89107235,
           89107235,
           65075540,
           66486205,
           200074175,
           92054159,
           56671993,
           67209615,
           138447667,
           166167230,
           35893537,
           200821936,
           186848418,
           81697192,
           268488329,
           608581744,
           225764765,
           79249455,
           79249455,
           216648740,
           37553932,
           254464305,
           228778661,
           132556852,
           335061807,
           96962694,
           168052812,
           417719760,
           56245075,
           17742948,
           137400141,
           32381218,
           188024361,
           188024361,
           61002302,
           177002924,
           100234838,
           14677674,
           54513740,
           93050117,
           93050117,
           368384330,
           155136755,
           146880162,
           150394119,
           174340174,
           191719337,
           136025503,
           155190832,
           148313048,
           31569268,
           101530738,
           74262031,
           27298285,
           352390543,
           45055776,
           45055776,
           300531751,
           159555901,
           58236838,
           245439076,
           64473115,
           58060186,
           4563029,
           169607287,
           70259870,
           103068524,
           55802754,
           72082999,
           93436322,
           93436322,
           161321843,
           85463309,
           150086800,
           150086800,
           150086800,
           150086800,
           54712227,
           27108272,
           114434010,
           46889293,
           18335230,
           150117807,
           67349198,
           47482519,
           175003033,
           72313754,
           58250803,
           270329045,
           210031325,
           116601172,
           158848340,
           36261763,
           97670358,
           65001093,
           81476385,
           85028192,
           79727149,
           10663357,
           42073277,
           58401464,
           80070736,
           60522097,
           40479370,
           73864507,
           73864507,
           66380662,
           264624300,
           126643061,
           98927592,
           47225655,
           191450875,
           139854287,
           109767581,
           109767581,
           109767581,
           15323921,
           102515793,
           56816662,
           56816662,
           132422809,
           169705587,
           127004179,
           125070033,
           103144286,
           107136417,
           122523060,
           34343574,
           34343574,
           34343574,
           187168425,
           48958273,
           42629776,
           238736787,
           117538559,
           213767512,
           56117548,
           154696080,
           51739495,
           51739495,
           51739495,
           77042381,
           89302115,
           28795985,
           71562550,
           143619809,
           143619809,
           143619809,
           55991880,
           103412758,
           34912982,
           51573925,
           148415853,
           113203870,
           165249063,
           19019882,
           162192920,
           184296230,
           32000304,
           93772375,
           54009150,
           61737191,
           113746621,
           100407760,
           950792,
           85080171,
           94835059,
           14674077,
           52421953,
           123477607,
           86260045,
           46874505,
           89256424,
           65187603,
           216391482,
           75764672,
           84273813,
           73058679,
           39175066,
           31016021,
           130168683,
           77591831,
           65233400,
           118311368,
           55683845,
           104386950,
           169700110,
           47695371,
           162001186,
           40826341,
           102092201,
           176591618,
           90815558,
           49275340,
           123087120,
           127440871,
           67631157,
           68559554,
           25379975,
           45090374,
           59650222,
           55121623,
           45512466,
           37412945,
           37412945,
           26004851,
           31090320,
           100539043,
           54731865,
           54731865,
           143528619,
           25138705,
           31165421,
           65014513,
           30014534,
           79042440,
           145443742,
           100292856,
           128002372,
           128002372,
           128002372,
           128002372,
           63150991,
           39322544,
           42025135,
           50701325,
           58697076,
           55340730,
           73103784,
           171243005,
           25135965,
           13414714,
           21488481,
           169211718,
           21403519,
           45157105,
           45157105,
           40098064,
           69179066,
           69179066,
           56451232,
           56451232,
           56451232,
           56451232,
           56451232,
           36392502,
           56443120,
           24477704,
           50474843,
           77222099,
           38543473,
           56758835,
           80014842,
           35593113,
           65206105,
           65206105,
           65206105,
           65206105,
           44672764,
           62495645,
           70662220,
           70662220,
           70662220,
           61433527,
           113257297,
           152901115,
           62524260,
           54445357,
           17766658,
           105487148,
           30824628,
           105487148,
           30824628,
           105487148,
           30824628,
           105487148,
           30824628,
           95720716,
           46000903,
           81903458,
           14124286,
           60323786,
           44069456,
           27007844,
           34121140,
           83670083,
           159581587,
           64063008,
           21587519,
           127195589,
           71628180,
           71628180,
           71628180,
           71628180,
           71628180,
           71628180,
           71628180,
           125014030,
           36343858,
           43568507,
           43034523,
           92186262,
           92186262,
           75612460,
           47119388,
           47119388,
           31153464,
           30080225,
           93617009,
           42345531,
           30353973,
           44936545,
           44936545,
           125095601,
           51580136,
           83350911,
           182207973,
           75605492,
           33700160,
           115637895,
           115637895,
           115715889,
           134506920,
           78031620,
           14431633,
           67268835,
           67268835,
           67268835,
           67268835,
           62950384,
           27367660,
           13657115,
           13657115,
           51342000,
           119219978,
           68420120,
           14482031,
           14482031,
           103860290,
           80069458,
           131772187,
           25020758,
           12241072,
           54333290,
           60128566,
           142614158,
           35016118,
           35016118,
           15024049,
           13843771,
           13843771,
           13843771,
           64935167,
           34366783,
           54760791,
           12786053,
           133668525,
           16170632,
           16170632,
           102084362,
           38362475,
           19068240,
           19068240,
           19068240,
           19068240,
           23169033,
           83299761,
           161197785,
           33618855,
           63686397,
           26403,
           63686397,
           26403,
           51774002,
           24801212,
           24801212,
           48023088,
           62575678,
           32789645,
           60457138,
           37519139,
           1333124,
           126181630,
           126181630,
           126181630,
           33404871,
           52000688,
           12711491,
           18656400,
           40259119,
           58884188,
           21218403,
           3740823,
           55483770,
           81562942,
           81562942,
           81562942,
           81562942,
           81562942,
           38322743,
           38322743,
           37446117,
           110485654,
           10161183,
           10161183,
           76223578,
           98780042,
           21120616,
           24449754,
           38052832,
           104897530,
           37662162,
           148438600,
           153707064,
           17616641,
           26593646,
           82051601,
           41012075,
           26844692,
           113721571,
           79883359,
           69488745,
           86208010,
           13651946,
           13651946,
           336472,
           8406711,
           131538435,
           6852971,
           28087155,
           28087155,
           28087155,
           28087155,
           28087155,
           4210454,
           44667095,
           44667095,
           44667095,
           27793018,
           51872378,
           51872378,
           51872378,
           41003371,
           22467450,
           26068955,
           83028130,
           53548586,
           14439985,
           15951040,
           27865571,
           27695246,
           98711404,
           110212700,
           13305665,
           13305665,
           46290741,
           53032453,
           42587643,
           35088320,
           12050299,
           12050299,
           50577412,
           26017685,
           35287788,
           26461644,
           119793567,
           9737892,
           29121498,
           167500092,
           107518682,
           50856010,
           7696134,
           37397291,
           37397291,
           102118,
           102118,
           102118,
           102118,
           102118,
           102118,
           3030848,
           3030848,
           27778642,
           67061228,
           58709717,
           16131410,
           38180928,
           4002293,
           36249674,
           21590086,
           78046570,
           6758416,
           46009673,
           17725785,
           58009200,
           75624550,
           82624961,
           82624961,
           33679655,
           26766213,
           174532921,
           1311213,
           1311213,
           36336,
           36336,
           1044143,
           1044143,
           1044143,
           90411453,
           90411453,
           21148651,
           57682904,
           57682904,
           18620000,
           171958438,
           7885294,
           22348241,
           86089513,
           71399120,
           71399120,
           83504017,
           17061,
           17061,
           84410380,
           149260504,
           13960394,
           13960394,
           13960394,
           13960394,
           35144505,
           20158492,
           127352707,
           37243418,
           40962534,
           13248209,
           3498695,
           3498695,
           31206263,
           8574339,
           775849,
           50269859,
           28848693,
           36665854,
           1370646,
           8110975,
           56003051,
           111506430,
           34353000,
           52076908,
           24827228,
           2322593,
           0,
           2322593,
           0,
           2322593,
           0,
           84752907,
           31886361,
           8840453,
           11977130,
           11977130,
           6363628,
           16247159,
           16247159,
           16247159,
           16247159,
           50065850,
           3220371,
           47059963,
           47059963,
           45819713,
           72679278,
           67745330,
           1738692,
           37306030,
           42872467,
           27288872,
           9252038,
           2434652,
           2434652,
           42779261,
           1703125,
           30697999,
           134202565,
           134202565,
           14011084,
           12816367,
           12639297,
           18494006,
           35074677,
           44947622,
           20275446,
           15600,
           3591417,
           21052030,
           6670765,
           55675313,
           10724389,
           10724389,
           10724389,
           63914167,
           80574010,
           71017784,
           5775076,
           104028807,
           39440655,
           39440655,
           10907291,
           23186769,
           54767494,
           15789389,
           35497337,
           35851379,
           35851379,
           35851379,
           35851379,
           8005980,
           162994032,
           12695691,
           29136626,
           1024175,
           27740955,
           15541549,
           41152203,
           5904366,
           74158157,
           66528000,
           66013057,
           7078738,
           14945541,
           3712282,
           2703296,
           2703296,
           2703296,
           16684352,
           22105643,
           20777061,
           25124986,
           19075290,
           48795601,
           34393507,
           34393507,
           34393507,
           8008161,
           11330849,
           100478608,
           16973715,
           44137712,
           5702083,
           55039,
           231738,
           12134935,
           12134935,
           60022256,
           133107389,
           42725475,
           12638526,
           72110659,
           8110621,
           39123589,
           25003155,
           53900335,
           21858070,
           50837305,
           45060734,
           62189884,
           27758465,
           17418667,
           14326865,
           34580201,
           33047633,
           25918920,
           400738009,
           400738009,
           37151,
           37151,
           4702420,
           86907746,
           86907746,
           61153526,
           93051,
           13942007,
           32010860,
           60311495,
           115108515,
           17654912,
           64460211,
           10721033,
           187112,
           187112,
           26594261,
           26594261,
           26594261,
           43035725,
           43035725,
           43035725,
           17506470,
           29197642,
           37709979,
           27569558,
           15436808,
           42402632,
           42402632,
           90862685,
           6531503,
           3759286,
           87044645,
           87044645,
           87044645,
           87044645,
           87044645,
           87044645,
           73026337,
           36108758,
           22537881,
           49130588,
           5205471,
           3703046,
           3500605,
           20396829,
           54858851,
           1594798,
           1224330,
           71091594,
           29959436,
           23240020,
           130178411,
           80360866,
           25091816,
           40041683,
           10895295,
           1755212,
           1755212,
           30659817,
           5353586,
           20811365,
           1321194,
           85886987,
           25018119,
           18704596,
           27383770,
           32746941,
           237301,
           237301,
           237301,
           23591432,
           23591432,
           37738810,
           18119640,
           16029670,
           21416355,
           36931089,
           12545979,
           88625922,
           37053924,
           63077560,
           66954149,
           19701164,
           45290318,
           95347692,
           18848538,
           36276286,
           44875481,
           43313890,
           5749134,
           4010957,
           20810036,
           1728953,
           33307793,
           54235441,
           17237855,
           33680992,
           51773,
           33680992,
           51773,
           33680992,
           51773,
           33680992,
           51773,
           67363237,
           4211129,
           4211129,
           4211129,
           34341945,
           18297124,
           467602,
           19316646,
           46383639,
           446770,
           845464,
           64006466,
           32462372,
           2483472,
           1430241,
           18942396,
           6738954,
           28700285,
           14597405,
           64003625,
           2141423,
           45020282,
           84525432,
           21443494,
           21443494,
           25702053,
           327716,
           327716,
           327716,
           31011732,
           35418723,
           30564825,
           30564825,
           29807260,
           32187017,
           10547117,
           1291645,
           3877922,
           3322127,
           44922302,
           19490041,
           17288155,
           17288155,
           17288155,
           17288155,
           46462469,
           35606376,
           14301505,
           43853424,
           38518613,
           18450127,
           4200117,
           9489829,
           21819348,
           22395806,
           11686940,
           35608245,
           123570,
           21302340,
           21302340,
           176988,
           7690044,
           27020284,
           27020284,
           36661504,
           13109815,
           115234093,
           24307106,
           32363404,
           16098998,
           20591853,
           3395391,
           3395391,
           29719483,
           11494838,
           4067398,
           37915414,
           310007,
           3317468,
           7192291,
           9837,
           35763137,
           108085305,
           7582065,
           12795746,
           57744720,
           51853450,
           3614896,
           16311571,
           1821983,
           83240103,
           17329487,
           23083334,
           59689605,
           16468499,
           16468499,
           39046489,
           22764410,
           4212494,
           73921000,
           70012847,
           10664749,
           10664749,
           9134,
           15634090,
           12227722,
           5359774,
           24046682,
           3254172,
           5101237,
           13371528,
           1799322,
           5790894,
           7710234,
           64251538,
           767732,
           24814830,
           41034350,
           720828,
           720828,
           720828,
           720828,
           720828,
           720828,
           23209310,
           12314651,
           15502112
          ],
          "sizemode": "area",
          "sizeref": 1697038.705,
          "symbol": "circle"
         },
         "mode": "markers",
         "name": "",
         "showlegend": false,
         "type": "scatter",
         "x": [
          160000000,
          58000000,
          165000000,
          170000000,
          100000000,
          80000000,
          150000000,
          215000000,
          250000000,
          300000000,
          275000000,
          175000000,
          330600000,
          140000000,
          150000000,
          80000000,
          165000000,
          100000000,
          170000000,
          108000000,
          250000000,
          250000000,
          130000000,
          175000000,
          180000000,
          130000000,
          135000000,
          135000000,
          170000000,
          35000000,
          34000000,
          61000000,
          200000000,
          220000000,
          15000000,
          47000000,
          47000000,
          94000000,
          165000000,
          150000000,
          125000000,
          30000000,
          200000000,
          69000000,
          20000000,
          40000000,
          40000000,
          150000000,
          75000000,
          75000000,
          225000000,
          110000000,
          150000000,
          190000000,
          110000000,
          120000000,
          175000000,
          175000000,
          410600000,
          250000000,
          13000000,
          178000000,
          200000000,
          85000000,
          180000000,
          185000000,
          185000000,
          31000000,
          62000000,
          178000000,
          34000000,
          13000000,
          200000000,
          165000000,
          250000000,
          50000000,
          58000000,
          21000000,
          190000000,
          55000000,
          165000000,
          160000000,
          28000000,
          300000000,
          125000000,
          74000000,
          76000000,
          93000000,
          19500000,
          200000000,
          90000000,
          170000000,
          150000000,
          230000000,
          120000000,
          120000000,
          90000000,
          30000000,
          300000000,
          185000000,
          20000000,
          40000000,
          42000000,
          40000000,
          15000000,
          260000000,
          125000000,
          61000000,
          200000000,
          200000000,
          250000000,
          27000000,
          27000000,
          130000000,
          35000000,
          80000000,
          190000000,
          115000000,
          160000000,
          40000000,
          185000000,
          170000000,
          20000000,
          13000000,
          20000000,
          8500000,
          17000000,
          17000000,
          46000000,
          145000000,
          104000000,
          13000000,
          12000000,
          120000000,
          120000000,
          75000000,
          170000000,
          152000000,
          37000000,
          84000000,
          50000000,
          44500000,
          110000000,
          85000000,
          49000000,
          55000000,
          97000000,
          5000000,
          195000000,
          20000000,
          20000000,
          68000000,
          200000000,
          91000000,
          210000000,
          3000000,
          60000000,
          40000000,
          25000000,
          28000000,
          82000000,
          35000000,
          5000000,
          170000000,
          170000000,
          95000000,
          110000000,
          18000000,
          18000000,
          18000000,
          18000000,
          32000000,
          102000000,
          55000000,
          30000000,
          18000000,
          40000000,
          92000000,
          179000000,
          125000000,
          40000000,
          90000000,
          75000000,
          125000000,
          200000000,
          185000000,
          50000000,
          19000000,
          17000000,
          68000000,
          100000000,
          150000000,
          22500000,
          30000000,
          8000000,
          60000000,
          130000000,
          180000000,
          180000000,
          180000000,
          30000000,
          75000000,
          180000000,
          70000000,
          160000000,
          200000000,
          45000000,
          37000000,
          37000000,
          37000000,
          12000000,
          90000000,
          30000000,
          30000000,
          20000000,
          25000000,
          50000000,
          60000000,
          165000000,
          55000000,
          140000000,
          75000000,
          75000000,
          75000000,
          135000000,
          10000000,
          30000000,
          165000000,
          35000000,
          275000000,
          120000000,
          87500000,
          12000000,
          12000000,
          12000000,
          170000000,
          275000000,
          28000000,
          9000000,
          90000000,
          90000000,
          90000000,
          70000000,
          145000000,
          38000000,
          30000000,
          130000000,
          125000000,
          150000000,
          40000000,
          120000000,
          29000000,
          12000000,
          31000000,
          1500000,
          110000000,
          127000000,
          55000000,
          2000000,
          23000000,
          80000000,
          2000000,
          30000000,
          135000000,
          40000000,
          69000000,
          48000000,
          195000000,
          145000000,
          40000000,
          6500000,
          275000000,
          175000000,
          36000000,
          217000000,
          130000000,
          220000000,
          130000000,
          5000000,
          155000000,
          80000000,
          8500000,
          75000000,
          10000000,
          15000000,
          40000000,
          8000000,
          15000000,
          187500000,
          50000000,
          100000000,
          90000000,
          4000000,
          25000000,
          65000000,
          13000000,
          16000000,
          40000000,
          40000000,
          20000000,
          55000000,
          65000000,
          12000000,
          12000000,
          140000000,
          3500000,
          60000000,
          140000000,
          11000000,
          10000000,
          178000000,
          19000000,
          56200000,
          56200000,
          56200000,
          56200000,
          160000000,
          100000000,
          38000000,
          60000000,
          60000000,
          35000000,
          150000000,
          35000000,
          70000000,
          45000000,
          19000000,
          32500000,
          15000000,
          150000000,
          150000000,
          106000000,
          37000000,
          37000000,
          60000000,
          60000000,
          60000000,
          60000000,
          60000000,
          75000000,
          30000000,
          5500000,
          11000000,
          110000000,
          40000000,
          50000000,
          25000000,
          11500000,
          5000000,
          5000000,
          5000000,
          5000000,
          58000000,
          50200000,
          25000000,
          25000000,
          25000000,
          156000000,
          20000000,
          175000000,
          60000000,
          40000000,
          30000000,
          210000000,
          99000000,
          210000000,
          99000000,
          210000000,
          99000000,
          210000000,
          99000000,
          52500000,
          60000000,
          50000000,
          5000000,
          38000000,
          10000000,
          12000000,
          10000000,
          150000000,
          43000000,
          105000000,
          50000000,
          102000000,
          15000000,
          15000000,
          15000000,
          15000000,
          15000000,
          15000000,
          15000000,
          30000000,
          40000000,
          66000000,
          50000000,
          37000000,
          37000000,
          61000000,
          50000000,
          50000000,
          140000000,
          22000000,
          11000000,
          65000000,
          35000000,
          60000000,
          60000000,
          40000000,
          25000000,
          132000000,
          65000000,
          50000000,
          100000000,
          65000000,
          65000000,
          50000000,
          35000000,
          70000000,
          9000000,
          5000000,
          5000000,
          5000000,
          5000000,
          20000000,
          80000000,
          25000000,
          25000000,
          50000000,
          100000000,
          125000000,
          10000000,
          10000000,
          79000000,
          58000000,
          150000000,
          100000000,
          5000000,
          15000000,
          57500000,
          110000000,
          8000000,
          8000000,
          13500000,
          15000000,
          15000000,
          15000000,
          85000000,
          15000000,
          65000000,
          15000000,
          80000000,
          8000000,
          8000000,
          77000000,
          175000000,
          16000000,
          16000000,
          16000000,
          16000000,
          80000000,
          35000000,
          28000000,
          130000000,
          40000000,
          3700000,
          40000000,
          3700000,
          57000000,
          7000000,
          7000000,
          55000000,
          53000000,
          1000000,
          25000000,
          67500000,
          7500000,
          85000000,
          85000000,
          85000000,
          18000000,
          40000000,
          11800000,
          5000000,
          30000000,
          31000000,
          40000000,
          43000000,
          140000000,
          95000000,
          95000000,
          95000000,
          95000000,
          95000000,
          11000000,
          11000000,
          34000000,
          52000000,
          35000000,
          35000000,
          55000000,
          110000000,
          10000000,
          68000000,
          10000000,
          45000000,
          42000000,
          100000000,
          125000000,
          35000000,
          12500000,
          135000000,
          27000000,
          40000000,
          7000000,
          70000000,
          13000000,
          40000000,
          20000000,
          20000000,
          1000000,
          45000000,
          130000000,
          2500000,
          35000000,
          35000000,
          35000000,
          35000000,
          35000000,
          3000000,
          16000000,
          16000000,
          16000000,
          25000000,
          12800000,
          12800000,
          12800000,
          15000000,
          35000000,
          8000000,
          135000000,
          20000000,
          28000000,
          100000000,
          17000000,
          5000000,
          55000000,
          35000000,
          35000000,
          35000000,
          45000000,
          30000000,
          40000000,
          150000000,
          30000000,
          30000000,
          60000000,
          28000000,
          39000000,
          50000000,
          78000000,
          1000000,
          42500000,
          65000000,
          100000000,
          5000000,
          60000000,
          26000000,
          26000000,
          50000000,
          50000000,
          50000000,
          50000000,
          50000000,
          50000000,
          9400000,
          9400000,
          29000000,
          45000000,
          38000000,
          18000000,
          40000000,
          6500000,
          63000000,
          10000000,
          85000000,
          8000000,
          33000000,
          95000000,
          40000000,
          50000000,
          20000000,
          20000000,
          10000000,
          26000000,
          30000000,
          77500000,
          77500000,
          2000000,
          2000000,
          1987650,
          1987650,
          1987650,
          40000000,
          40000000,
          30000000,
          24000000,
          24000000,
          42000000,
          130000000,
          30000000,
          12000000,
          50000000,
          28000000,
          28000000,
          75000000,
          2000000,
          2000000,
          111000000,
          130000000,
          9000000,
          9000000,
          9000000,
          9000000,
          9000000,
          22000000,
          50000000,
          52000000,
          23000000,
          11000000,
          4900000,
          4900000,
          44000000,
          30000000,
          4800000,
          36000000,
          50000000,
          40000000,
          2000000,
          20000000,
          60000000,
          145000000,
          55000000,
          20000000,
          40000000,
          16000000,
          950000,
          16000000,
          950000,
          16000000,
          950000,
          3000000,
          40000000,
          10000000,
          3000000,
          3000000,
          8000000,
          37500000,
          37500000,
          37500000,
          37500000,
          35000000,
          5000000,
          75000000,
          75000000,
          35000000,
          70000000,
          10000000,
          7000000,
          35000000,
          5000000,
          5000000,
          2000000,
          15000000,
          15000000,
          112000000,
          12000000,
          28000000,
          25000000,
          25000000,
          20000000,
          49000000,
          20000000,
          1000000,
          33000000,
          30000000,
          35000000,
          1600000,
          2000000,
          37000000,
          35000000,
          100000000,
          12600000,
          12600000,
          12600000,
          28000000,
          60000000,
          110000000,
          40000000,
          5000000,
          55000000,
          55000000,
          28000000,
          20000000,
          45000000,
          23000000,
          100000000,
          51000000,
          51000000,
          51000000,
          51000000,
          70000000,
          74000000,
          34000000,
          60000000,
          13000000,
          10000000,
          45000000,
          37500000,
          2000000,
          79000000,
          25000000,
          14500000,
          10000000,
          15000000,
          18000000,
          13000000,
          13000000,
          13000000,
          21500000,
          20000000,
          10000000,
          70000000,
          65000000,
          32000000,
          35000000,
          35000000,
          35000000,
          20000000,
          22000000,
          103000000,
          25000000,
          13000000,
          20000000,
          20000000,
          1000000,
          20000000,
          20000000,
          48000000,
          80000000,
          15000000,
          25000000,
          28000000,
          3000000,
          19000000,
          24000000,
          5000000,
          30000000,
          60000000,
          68000000,
          150000000,
          19000000,
          3500000,
          20000000,
          35000000,
          37000000,
          19000000,
          150000000,
          150000000,
          3000000,
          3000000,
          14000000,
          95000000,
          95000000,
          40000000,
          1750000,
          32000000,
          20000000,
          21000000,
          28000000,
          12000000,
          23000000,
          50000000,
          4500000,
          4500000,
          10000000,
          10000000,
          10000000,
          25000000,
          25000000,
          25000000,
          7000000,
          35000000,
          12000000,
          70000000,
          47500000,
          40000000,
          40000000,
          40000000,
          2000000,
          8000000,
          30000000,
          30000000,
          30000000,
          30000000,
          30000000,
          30000000,
          69000000,
          35000000,
          32000000,
          14000000,
          2500000,
          15000000,
          18000000,
          28000000,
          132900000,
          100000,
          50000000,
          38000000,
          14000000,
          24000000,
          99000000,
          80000000,
          3500000,
          2500000,
          30000000,
          14000000,
          14000000,
          22000000,
          3400000,
          4000000,
          175000,
          90000000,
          15000000,
          13000000,
          29000000,
          50000000,
          500000,
          500000,
          500000,
          25000000,
          25000000,
          25000000,
          1000000,
          22000000,
          10000000,
          57500000,
          20000000,
          45000000,
          28000000,
          29000000,
          28000000,
          35000000,
          42000000,
          95000000,
          70000000,
          30000000,
          37000000,
          60000000,
          20000000,
          750000,
          50000000,
          4750000,
          11000000,
          22000000,
          15000000,
          25000000,
          3000000,
          25000000,
          3000000,
          25000000,
          3000000,
          25000000,
          3000000,
          48000000,
          30000000,
          30000000,
          30000000,
          20000000,
          10000000,
          1900000,
          30000000,
          10000000,
          3000000,
          1400000,
          135000000,
          5000000,
          20000000,
          4000000,
          23000000,
          9700000,
          30000000,
          10000000,
          15000000,
          5000000,
          60000000,
          20000000,
          34800000,
          34800000,
          20000000,
          2500000,
          2500000,
          2500000,
          40000000,
          25000000,
          10000000,
          10000000,
          40000000,
          25000000,
          47000000,
          10000000,
          10000000,
          6000000,
          45000000,
          25000000,
          32500000,
          32500000,
          32500000,
          32500000,
          85000000,
          20000000,
          12000000,
          18000000,
          70000000,
          40000000,
          22500000,
          55000000,
          32500000,
          7400000,
          5000000,
          30000000,
          15000000,
          50000000,
          50000000,
          8900000,
          1500000,
          15000000,
          15000000,
          20000000,
          45000000,
          50000000,
          28000000,
          30000000,
          900000,
          15000000,
          250000,
          250000,
          23000000,
          6000000,
          3000000,
          32000000,
          3750000,
          2500000,
          1000000,
          1000000,
          60000000,
          63000000,
          10000000,
          1800000,
          32000000,
          40000000,
          5000000,
          12000000,
          3000000,
          80000000,
          4000000,
          35000000,
          18000000,
          25000000,
          25000000,
          35000000,
          100000,
          35000000,
          38000000,
          12000000,
          40000000,
          40000000,
          4000000,
          15000000,
          25000000,
          6000000,
          25000000,
          26000000,
          35000000,
          18000000,
          10000000,
          3200000,
          9000000,
          30000000,
          1000000,
          5000000,
          1800000,
          25000000,
          25000000,
          25000000,
          25000000,
          25000000,
          25000000,
          30000000,
          14000000,
          25000000
         ],
         "xaxis": "x",
         "y": [
          8.3,
          7.6,
          8.2,
          7.9,
          8,
          7.1,
          7.4,
          6.6,
          7.4,
          8.3,
          7.7,
          5.9,
          7.3,
          6.9,
          6.7,
          8.1,
          7.3,
          7.9,
          6.8,
          7.7,
          7.2,
          5.8,
          7.1,
          7.4,
          7.5,
          7.4,
          7.4,
          7.4,
          7.7,
          7.2,
          7.1,
          7.9,
          7.1,
          6.5,
          8.1,
          7.4,
          7.4,
          7.6,
          7.8,
          6.7,
          6.8,
          7.2,
          7.5,
          7.2,
          7.9,
          6.3,
          6.3,
          7.7,
          7.4,
          7.4,
          6.5,
          7.2,
          7.4,
          6.7,
          7.5,
          7.3,
          8.2,
          8.2,
          6.4,
          7.3,
          7.6,
          6.5,
          7.7,
          6.9,
          7,
          6.9,
          6.9,
          8,
          7.7,
          7.6,
          7.4,
          7.6,
          7,
          7.3,
          7.6,
          6.3,
          7.4,
          7.1,
          6.8,
          8.1,
          7.7,
          6.8,
          7.1,
          6.2,
          6.4,
          6.4,
          6.9,
          7.2,
          7.2,
          6.4,
          6.7,
          7.3,
          7.6,
          6.6,
          6.5,
          6.5,
          6.8,
          6.8,
          6.4,
          7.4,
          7.9,
          8.1,
          6.8,
          5.4,
          7.9,
          7.5,
          7.1,
          6.6,
          7,
          7.6,
          6.9,
          7.1,
          7.1,
          7,
          6.8,
          6.4,
          7.4,
          6.3,
          6.8,
          7.2,
          6.3,
          6.5,
          7.7,
          7.8,
          7.5,
          7.7,
          7.3,
          7.3,
          8,
          7.7,
          7,
          8.1,
          8.2,
          6.4,
          6.4,
          6.1,
          5.9,
          7,
          6.8,
          8,
          6.9,
          7.2,
          6.1,
          6.9,
          6.7,
          7.2,
          5.9,
          7.9,
          6.1,
          7.8,
          7.8,
          6,
          6.9,
          7.1,
          5.8,
          6.2,
          6.1,
          6.8,
          8,
          7.3,
          6.1,
          6.6,
          6.9,
          6.2,
          6.2,
          6.3,
          6.8,
          6.2,
          6.2,
          6.2,
          6.2,
          7.2,
          6.8,
          6.1,
          7.3,
          7,
          6.8,
          5.2,
          5.3,
          6.4,
          7.2,
          6.3,
          6.9,
          7.2,
          5.1,
          6.7,
          7.1,
          5.6,
          7.3,
          6.1,
          6.2,
          5.9,
          7.4,
          6.5,
          6.8,
          6.4,
          5.1,
          6.6,
          7.1,
          7.1,
          6.3,
          6.3,
          5.8,
          6.2,
          6.3,
          5.9,
          6.2,
          7.3,
          7.3,
          7.3,
          7.9,
          7.3,
          7.5,
          7.5,
          8.2,
          8.1,
          6.7,
          7.1,
          5.1,
          7.6,
          5.5,
          5.9,
          5.9,
          5.9,
          6.8,
          7.3,
          7.4,
          6.1,
          6.5,
          6.6,
          4.4,
          4.4,
          8.1,
          8.1,
          8.1,
          6.5,
          6,
          6.4,
          6.6,
          6.6,
          6.6,
          6.6,
          6.2,
          7.3,
          5.8,
          6.3,
          6.8,
          6.1,
          6.7,
          7.2,
          6.1,
          6.8,
          6,
          6.7,
          6.9,
          6.6,
          6.1,
          6.1,
          6.4,
          8.3,
          6.7,
          6.5,
          7.4,
          6.6,
          6.9,
          6.5,
          6.1,
          5.6,
          6.5,
          7.1,
          5.6,
          6.1,
          6.5,
          7.2,
          6,
          6.8,
          5.6,
          6.3,
          6.6,
          6.3,
          6.7,
          7.5,
          6.1,
          8.2,
          6.5,
          6.3,
          6.3,
          7.6,
          6.7,
          6.3,
          6.1,
          5.9,
          7.5,
          6.5,
          6,
          6.3,
          7.7,
          6.5,
          6.5,
          6.7,
          6.5,
          6.3,
          6.4,
          6.4,
          6.7,
          6.6,
          6.3,
          5.7,
          7.5,
          6.3,
          5.9,
          5.5,
          5.7,
          5.7,
          5.7,
          5.7,
          5.9,
          6.1,
          6.2,
          5.6,
          5.6,
          5.7,
          6.4,
          7.2,
          6.7,
          6.7,
          7.5,
          6.5,
          6.9,
          5.8,
          5.8,
          6.7,
          6.9,
          6.9,
          6.5,
          6.5,
          6.5,
          6.5,
          6.5,
          6,
          7.3,
          5.9,
          7.4,
          6.3,
          5.3,
          6.2,
          6.8,
          5.8,
          6.2,
          6.2,
          6.2,
          6.2,
          6.2,
          6.6,
          6.2,
          6.2,
          6.2,
          6.7,
          6.5,
          6.7,
          5.9,
          6.2,
          6.8,
          6.3,
          6.3,
          6.3,
          6.3,
          6.3,
          6.3,
          6.3,
          6.3,
          6.9,
          6.3,
          7,
          5,
          6.2,
          7,
          7.3,
          7.2,
          5.6,
          6.6,
          5.9,
          7.1,
          6.5,
          6.1,
          6.1,
          6.1,
          6.1,
          6.1,
          6.1,
          6.1,
          7.1,
          6.2,
          6.1,
          6.8,
          7.1,
          7.1,
          6.5,
          7.3,
          7.3,
          5.4,
          5.9,
          7.3,
          5.7,
          5.5,
          7.1,
          7.1,
          7.4,
          6.5,
          6.4,
          6.8,
          7.1,
          5.8,
          7.4,
          7.4,
          6.7,
          5.8,
          5.9,
          7.2,
          6.3,
          6.3,
          6.3,
          6.3,
          7.2,
          5.8,
          7.8,
          7.8,
          6.7,
          6.2,
          6.1,
          7,
          7,
          5.9,
          6.2,
          4.6,
          6.6,
          7,
          6.1,
          5.9,
          5.6,
          7.1,
          7.1,
          6.8,
          7.2,
          7.2,
          7.2,
          5.8,
          7.7,
          6,
          7,
          5.9,
          7.2,
          7.2,
          6.4,
          6,
          7.1,
          7.1,
          7.1,
          7.1,
          5.4,
          7.4,
          7.7,
          5.6,
          6.6,
          6.6,
          6.6,
          6.6,
          4.8,
          7.9,
          7.9,
          7.7,
          6.4,
          5.4,
          6.9,
          5.6,
          6.6,
          6.4,
          6.4,
          6.4,
          7,
          6.1,
          7.4,
          7.5,
          6.6,
          6.2,
          5.6,
          7.1,
          6.2,
          6.4,
          6.4,
          6.4,
          6.4,
          6.4,
          7.3,
          7.3,
          7.5,
          5.8,
          6.9,
          6.9,
          7,
          5.5,
          7.2,
          5.1,
          6.1,
          6.5,
          5.9,
          5.6,
          6.6,
          5.8,
          6.3,
          5.9,
          6.4,
          5.9,
          6.1,
          7.2,
          5.8,
          5.5,
          6.4,
          6.4,
          7.6,
          6.1,
          6.3,
          6.6,
          5.8,
          5.8,
          5.8,
          5.8,
          5.8,
          6.9,
          7.4,
          7.4,
          7.4,
          4.9,
          6.7,
          6.7,
          6.7,
          7.3,
          5.6,
          6.1,
          6.1,
          6.6,
          6,
          6,
          6.1,
          6.4,
          6,
          5.8,
          6.6,
          6.6,
          6.7,
          6.9,
          6,
          5.9,
          5.9,
          5.9,
          6.1,
          6.3,
          6.8,
          6.4,
          6.4,
          6.9,
          6.3,
          6.8,
          6.4,
          5.1,
          5.4,
          7,
          7,
          6.2,
          6.2,
          6.2,
          6.2,
          6.2,
          6.2,
          7.1,
          7.1,
          6.7,
          5.7,
          6.9,
          6.1,
          6.2,
          7,
          6.3,
          7,
          6,
          7.6,
          6,
          5.3,
          7.1,
          6.7,
          6.8,
          6.8,
          5.9,
          7.3,
          7.1,
          7.6,
          7.6,
          5,
          5,
          6.6,
          6.6,
          6.6,
          6,
          6,
          7,
          6.8,
          6.8,
          6.3,
          6.6,
          7.1,
          6.5,
          5.4,
          7.1,
          7.1,
          5.8,
          7,
          7,
          7.1,
          6.3,
          6.4,
          6.4,
          6.4,
          6.4,
          6,
          6.5,
          6.1,
          6,
          6.7,
          7.2,
          8.3,
          8.3,
          6.9,
          6.2,
          5.8,
          6,
          4.7,
          6.5,
          6.9,
          6.6,
          6.8,
          6.6,
          5.4,
          7.5,
          5.3,
          6.6,
          6.6,
          6.6,
          6.6,
          6.6,
          6.6,
          5.7,
          6.9,
          4.4,
          7.4,
          7.4,
          7,
          7.1,
          7.1,
          7.1,
          7.1,
          6.7,
          6.8,
          5.8,
          5.8,
          5.6,
          6.5,
          6.1,
          7.6,
          6.2,
          7.4,
          6.8,
          6.2,
          6.8,
          6.8,
          5.1,
          6.6,
          6.1,
          6.2,
          6.2,
          6.4,
          6.7,
          5.8,
          6.6,
          6.8,
          6.6,
          6.2,
          6.5,
          6.3,
          5.3,
          5.1,
          6.6,
          6.7,
          6.7,
          6.7,
          6.4,
          6,
          5.7,
          5.8,
          5.9,
          7.1,
          7.1,
          5.7,
          6.2,
          5.6,
          7.2,
          6.4,
          5.9,
          5.9,
          5.9,
          5.9,
          5.3,
          5.7,
          6.8,
          5.5,
          6.4,
          5.8,
          6.8,
          5.9,
          7.4,
          4.1,
          6.2,
          6.2,
          6.4,
          6,
          6.3,
          6.9,
          6.9,
          6.9,
          5.7,
          5.6,
          5,
          6.2,
          5.2,
          6.4,
          6.7,
          6.7,
          6.7,
          5.5,
          6.6,
          5,
          5.1,
          7.1,
          6.3,
          5.5,
          6.5,
          6.7,
          6.7,
          5.3,
          5.5,
          6,
          6.9,
          6.3,
          7.4,
          6.2,
          5.3,
          5.4,
          7.2,
          6.7,
          5.5,
          5.7,
          6.1,
          6.1,
          5.9,
          5.6,
          5.9,
          6.7,
          5.8,
          5.8,
          6.5,
          6.5,
          7.3,
          5.7,
          5.7,
          5.9,
          6.3,
          6.2,
          6.1,
          6.1,
          6.8,
          7.4,
          6.5,
          5.3,
          5.3,
          5.3,
          5,
          5,
          5,
          6.1,
          6.1,
          6.1,
          7.2,
          6.1,
          7.4,
          6.4,
          6.6,
          6.5,
          6.5,
          6.2,
          6.9,
          7.1,
          5.9,
          5.9,
          5.9,
          5.9,
          5.9,
          5.9,
          5.6,
          6,
          5.4,
          5.9,
          7.8,
          6.2,
          7.4,
          5.9,
          6,
          7,
          6.2,
          5,
          6.4,
          6.2,
          6.6,
          5.3,
          5.7,
          5.5,
          6,
          7.4,
          7.4,
          6.2,
          6.8,
          6.6,
          6.7,
          5.8,
          6.1,
          7.1,
          6.7,
          5.9,
          6.2,
          6.2,
          6.2,
          6.2,
          6.2,
          6.9,
          5,
          5.4,
          4.8,
          5.5,
          7.1,
          6.6,
          5.6,
          5.8,
          6.2,
          5.9,
          6,
          5.9,
          4.5,
          5.3,
          5.4,
          6.3,
          6.6,
          6.9,
          6.6,
          7.2,
          7.4,
          7.3,
          6.5,
          5.8,
          5.8,
          5.8,
          5.8,
          5.8,
          5.8,
          5.8,
          5.8,
          7.6,
          7,
          7,
          7,
          5.3,
          5.2,
          7.4,
          5.6,
          6.9,
          5.4,
          8,
          5.9,
          5.3,
          7,
          6.5,
          5.6,
          7.7,
          5.8,
          6.7,
          6,
          7.1,
          6.2,
          5.2,
          4.9,
          4.9,
          6.2,
          6.6,
          6.6,
          6.6,
          6.3,
          6.5,
          4,
          4,
          6,
          6,
          4.6,
          6.5,
          7.2,
          6.7,
          6.4,
          6.1,
          5.4,
          5.4,
          5.4,
          5.4,
          6.7,
          5.8,
          5.4,
          7,
          6.1,
          6.1,
          6.8,
          5.4,
          5.8,
          5.1,
          4.4,
          5.8,
          6.1,
          6,
          6,
          7.8,
          6.2,
          5.9,
          5.9,
          4.1,
          5.7,
          6.5,
          5.7,
          6.2,
          7.4,
          6,
          6.5,
          6.5,
          8.2,
          6.6,
          7.4,
          5.5,
          7,
          6.9,
          5.2,
          6.8,
          6.7,
          5.6,
          5.9,
          6.9,
          6.2,
          6.7,
          6,
          5.7,
          5.3,
          6.6,
          5.5,
          6.2,
          5.8,
          6.6,
          6.6,
          6.1,
          4.8,
          5.9,
          6,
          6.3,
          5.7,
          5.7,
          6.3,
          5.3,
          6.2,
          6.9,
          5.5,
          5.9,
          7.2,
          6.9,
          6.3,
          6.9,
          6.7,
          5.6,
          6.4,
          6.1,
          5.6,
          5.6,
          5.6,
          5.6,
          5.6,
          5.6,
          5.6,
          5.9,
          5.1,
          6.2
         ],
         "yaxis": "y"
        },
        {
         "hoverlabel": {
          "namelength": 0
         },
         "hovertemplate": "<b>OLS trendline</b><br>vote_average = 0.000000 * production_budget + 6.454456<br>R<sup>2</sup>=0.001440<br><br>production_budget=%{x}<br>vote_average=%{y} <b>(trend)</b>",
         "legendgroup": "",
         "marker": {
          "color": "#636efa",
          "symbol": "circle"
         },
         "mode": "lines",
         "name": "",
         "showlegend": false,
         "type": "scatter",
         "x": [
          100000,
          100000,
          175000,
          250000,
          250000,
          500000,
          500000,
          500000,
          750000,
          900000,
          950000,
          950000,
          950000,
          1000000,
          1000000,
          1000000,
          1000000,
          1000000,
          1000000,
          1000000,
          1000000,
          1000000,
          1400000,
          1500000,
          1500000,
          1600000,
          1750000,
          1800000,
          1800000,
          1900000,
          1987650,
          1987650,
          1987650,
          2000000,
          2000000,
          2000000,
          2000000,
          2000000,
          2000000,
          2000000,
          2000000,
          2000000,
          2000000,
          2000000,
          2500000,
          2500000,
          2500000,
          2500000,
          2500000,
          2500000,
          2500000,
          3000000,
          3000000,
          3000000,
          3000000,
          3000000,
          3000000,
          3000000,
          3000000,
          3000000,
          3000000,
          3000000,
          3000000,
          3000000,
          3000000,
          3000000,
          3200000,
          3400000,
          3500000,
          3500000,
          3500000,
          3700000,
          3700000,
          3750000,
          4000000,
          4000000,
          4000000,
          4000000,
          4000000,
          4500000,
          4500000,
          4750000,
          4800000,
          4900000,
          4900000,
          5000000,
          5000000,
          5000000,
          5000000,
          5000000,
          5000000,
          5000000,
          5000000,
          5000000,
          5000000,
          5000000,
          5000000,
          5000000,
          5000000,
          5000000,
          5000000,
          5000000,
          5000000,
          5000000,
          5000000,
          5000000,
          5000000,
          5000000,
          5000000,
          5000000,
          5000000,
          5500000,
          6000000,
          6000000,
          6000000,
          6500000,
          6500000,
          7000000,
          7000000,
          7000000,
          7000000,
          7000000,
          7400000,
          7500000,
          8000000,
          8000000,
          8000000,
          8000000,
          8000000,
          8000000,
          8000000,
          8000000,
          8000000,
          8000000,
          8500000,
          8500000,
          8900000,
          9000000,
          9000000,
          9000000,
          9000000,
          9000000,
          9000000,
          9000000,
          9000000,
          9400000,
          9400000,
          9700000,
          10000000,
          10000000,
          10000000,
          10000000,
          10000000,
          10000000,
          10000000,
          10000000,
          10000000,
          10000000,
          10000000,
          10000000,
          10000000,
          10000000,
          10000000,
          10000000,
          10000000,
          10000000,
          10000000,
          10000000,
          10000000,
          10000000,
          10000000,
          10000000,
          10000000,
          10000000,
          10000000,
          10000000,
          10000000,
          11000000,
          11000000,
          11000000,
          11000000,
          11000000,
          11000000,
          11000000,
          11500000,
          11800000,
          12000000,
          12000000,
          12000000,
          12000000,
          12000000,
          12000000,
          12000000,
          12000000,
          12000000,
          12000000,
          12000000,
          12000000,
          12000000,
          12000000,
          12000000,
          12000000,
          12500000,
          12600000,
          12600000,
          12600000,
          12800000,
          12800000,
          12800000,
          13000000,
          13000000,
          13000000,
          13000000,
          13000000,
          13000000,
          13000000,
          13000000,
          13000000,
          13000000,
          13000000,
          13000000,
          13500000,
          14000000,
          14000000,
          14000000,
          14000000,
          14000000,
          14000000,
          14500000,
          15000000,
          15000000,
          15000000,
          15000000,
          15000000,
          15000000,
          15000000,
          15000000,
          15000000,
          15000000,
          15000000,
          15000000,
          15000000,
          15000000,
          15000000,
          15000000,
          15000000,
          15000000,
          15000000,
          15000000,
          15000000,
          15000000,
          15000000,
          15000000,
          15000000,
          15000000,
          15000000,
          15000000,
          15000000,
          15000000,
          15000000,
          15000000,
          16000000,
          16000000,
          16000000,
          16000000,
          16000000,
          16000000,
          16000000,
          16000000,
          16000000,
          16000000,
          16000000,
          17000000,
          17000000,
          17000000,
          17000000,
          18000000,
          18000000,
          18000000,
          18000000,
          18000000,
          18000000,
          18000000,
          18000000,
          18000000,
          18000000,
          18000000,
          18000000,
          19000000,
          19000000,
          19000000,
          19000000,
          19000000,
          19000000,
          19500000,
          20000000,
          20000000,
          20000000,
          20000000,
          20000000,
          20000000,
          20000000,
          20000000,
          20000000,
          20000000,
          20000000,
          20000000,
          20000000,
          20000000,
          20000000,
          20000000,
          20000000,
          20000000,
          20000000,
          20000000,
          20000000,
          20000000,
          20000000,
          20000000,
          20000000,
          20000000,
          20000000,
          20000000,
          20000000,
          20000000,
          20000000,
          20000000,
          20000000,
          20000000,
          20000000,
          20000000,
          21000000,
          21000000,
          21500000,
          22000000,
          22000000,
          22000000,
          22000000,
          22000000,
          22000000,
          22500000,
          22500000,
          23000000,
          23000000,
          23000000,
          23000000,
          23000000,
          23000000,
          24000000,
          24000000,
          24000000,
          24000000,
          25000000,
          25000000,
          25000000,
          25000000,
          25000000,
          25000000,
          25000000,
          25000000,
          25000000,
          25000000,
          25000000,
          25000000,
          25000000,
          25000000,
          25000000,
          25000000,
          25000000,
          25000000,
          25000000,
          25000000,
          25000000,
          25000000,
          25000000,
          25000000,
          25000000,
          25000000,
          25000000,
          25000000,
          25000000,
          25000000,
          25000000,
          25000000,
          25000000,
          25000000,
          25000000,
          25000000,
          25000000,
          25000000,
          25000000,
          25000000,
          25000000,
          26000000,
          26000000,
          26000000,
          26000000,
          27000000,
          27000000,
          27000000,
          28000000,
          28000000,
          28000000,
          28000000,
          28000000,
          28000000,
          28000000,
          28000000,
          28000000,
          28000000,
          28000000,
          28000000,
          28000000,
          28000000,
          28000000,
          28000000,
          28000000,
          29000000,
          29000000,
          29000000,
          29000000,
          30000000,
          30000000,
          30000000,
          30000000,
          30000000,
          30000000,
          30000000,
          30000000,
          30000000,
          30000000,
          30000000,
          30000000,
          30000000,
          30000000,
          30000000,
          30000000,
          30000000,
          30000000,
          30000000,
          30000000,
          30000000,
          30000000,
          30000000,
          30000000,
          30000000,
          30000000,
          30000000,
          30000000,
          30000000,
          30000000,
          30000000,
          30000000,
          30000000,
          30000000,
          30000000,
          30000000,
          30000000,
          30000000,
          30000000,
          30000000,
          31000000,
          31000000,
          31000000,
          32000000,
          32000000,
          32000000,
          32000000,
          32000000,
          32000000,
          32500000,
          32500000,
          32500000,
          32500000,
          32500000,
          32500000,
          33000000,
          33000000,
          34000000,
          34000000,
          34000000,
          34000000,
          34800000,
          34800000,
          35000000,
          35000000,
          35000000,
          35000000,
          35000000,
          35000000,
          35000000,
          35000000,
          35000000,
          35000000,
          35000000,
          35000000,
          35000000,
          35000000,
          35000000,
          35000000,
          35000000,
          35000000,
          35000000,
          35000000,
          35000000,
          35000000,
          35000000,
          35000000,
          35000000,
          35000000,
          35000000,
          35000000,
          35000000,
          35000000,
          35000000,
          35000000,
          35000000,
          35000000,
          35000000,
          35000000,
          35000000,
          36000000,
          36000000,
          37000000,
          37000000,
          37000000,
          37000000,
          37000000,
          37000000,
          37000000,
          37000000,
          37000000,
          37000000,
          37000000,
          37500000,
          37500000,
          37500000,
          37500000,
          37500000,
          38000000,
          38000000,
          38000000,
          38000000,
          38000000,
          38000000,
          39000000,
          40000000,
          40000000,
          40000000,
          40000000,
          40000000,
          40000000,
          40000000,
          40000000,
          40000000,
          40000000,
          40000000,
          40000000,
          40000000,
          40000000,
          40000000,
          40000000,
          40000000,
          40000000,
          40000000,
          40000000,
          40000000,
          40000000,
          40000000,
          40000000,
          40000000,
          40000000,
          40000000,
          40000000,
          40000000,
          40000000,
          40000000,
          40000000,
          40000000,
          40000000,
          40000000,
          40000000,
          40000000,
          40000000,
          40000000,
          40000000,
          40000000,
          40000000,
          40000000,
          42000000,
          42000000,
          42000000,
          42000000,
          42500000,
          43000000,
          43000000,
          44000000,
          44500000,
          45000000,
          45000000,
          45000000,
          45000000,
          45000000,
          45000000,
          45000000,
          45000000,
          45000000,
          45000000,
          45000000,
          46000000,
          47000000,
          47000000,
          47000000,
          47500000,
          48000000,
          48000000,
          48000000,
          49000000,
          49000000,
          50000000,
          50000000,
          50000000,
          50000000,
          50000000,
          50000000,
          50000000,
          50000000,
          50000000,
          50000000,
          50000000,
          50000000,
          50000000,
          50000000,
          50000000,
          50000000,
          50000000,
          50000000,
          50000000,
          50000000,
          50000000,
          50000000,
          50000000,
          50000000,
          50000000,
          50000000,
          50000000,
          50000000,
          50000000,
          50000000,
          50000000,
          50000000,
          50200000,
          51000000,
          51000000,
          51000000,
          51000000,
          52000000,
          52000000,
          52500000,
          53000000,
          55000000,
          55000000,
          55000000,
          55000000,
          55000000,
          55000000,
          55000000,
          55000000,
          55000000,
          55000000,
          55000000,
          55000000,
          55000000,
          56200000,
          56200000,
          56200000,
          56200000,
          57000000,
          57500000,
          57500000,
          58000000,
          58000000,
          58000000,
          58000000,
          60000000,
          60000000,
          60000000,
          60000000,
          60000000,
          60000000,
          60000000,
          60000000,
          60000000,
          60000000,
          60000000,
          60000000,
          60000000,
          60000000,
          60000000,
          60000000,
          60000000,
          60000000,
          60000000,
          60000000,
          60000000,
          60000000,
          60000000,
          60000000,
          61000000,
          61000000,
          61000000,
          62000000,
          63000000,
          63000000,
          65000000,
          65000000,
          65000000,
          65000000,
          65000000,
          65000000,
          65000000,
          65000000,
          65000000,
          66000000,
          67500000,
          68000000,
          68000000,
          68000000,
          68000000,
          69000000,
          69000000,
          69000000,
          70000000,
          70000000,
          70000000,
          70000000,
          70000000,
          70000000,
          70000000,
          70000000,
          70000000,
          70000000,
          70000000,
          74000000,
          74000000,
          75000000,
          75000000,
          75000000,
          75000000,
          75000000,
          75000000,
          75000000,
          75000000,
          75000000,
          75000000,
          75000000,
          75000000,
          75000000,
          76000000,
          77000000,
          77500000,
          77500000,
          78000000,
          79000000,
          79000000,
          80000000,
          80000000,
          80000000,
          80000000,
          80000000,
          80000000,
          80000000,
          80000000,
          80000000,
          80000000,
          80000000,
          82000000,
          84000000,
          85000000,
          85000000,
          85000000,
          85000000,
          85000000,
          85000000,
          85000000,
          85000000,
          87500000,
          90000000,
          90000000,
          90000000,
          90000000,
          90000000,
          90000000,
          90000000,
          90000000,
          90000000,
          91000000,
          92000000,
          93000000,
          94000000,
          95000000,
          95000000,
          95000000,
          95000000,
          95000000,
          95000000,
          95000000,
          95000000,
          95000000,
          95000000,
          97000000,
          99000000,
          99000000,
          99000000,
          99000000,
          99000000,
          100000000,
          100000000,
          100000000,
          100000000,
          100000000,
          100000000,
          100000000,
          100000000,
          100000000,
          100000000,
          100000000,
          100000000,
          100000000,
          102000000,
          102000000,
          103000000,
          104000000,
          105000000,
          106000000,
          108000000,
          110000000,
          110000000,
          110000000,
          110000000,
          110000000,
          110000000,
          110000000,
          110000000,
          110000000,
          111000000,
          112000000,
          115000000,
          120000000,
          120000000,
          120000000,
          120000000,
          120000000,
          120000000,
          120000000,
          125000000,
          125000000,
          125000000,
          125000000,
          125000000,
          125000000,
          125000000,
          125000000,
          127000000,
          130000000,
          130000000,
          130000000,
          130000000,
          130000000,
          130000000,
          130000000,
          130000000,
          130000000,
          130000000,
          130000000,
          132000000,
          132900000,
          135000000,
          135000000,
          135000000,
          135000000,
          135000000,
          135000000,
          135000000,
          140000000,
          140000000,
          140000000,
          140000000,
          140000000,
          140000000,
          145000000,
          145000000,
          145000000,
          145000000,
          150000000,
          150000000,
          150000000,
          150000000,
          150000000,
          150000000,
          150000000,
          150000000,
          150000000,
          150000000,
          150000000,
          150000000,
          150000000,
          150000000,
          150000000,
          150000000,
          150000000,
          152000000,
          155000000,
          156000000,
          160000000,
          160000000,
          160000000,
          160000000,
          160000000,
          165000000,
          165000000,
          165000000,
          165000000,
          165000000,
          165000000,
          165000000,
          170000000,
          170000000,
          170000000,
          170000000,
          170000000,
          170000000,
          170000000,
          170000000,
          170000000,
          175000000,
          175000000,
          175000000,
          175000000,
          175000000,
          175000000,
          175000000,
          178000000,
          178000000,
          178000000,
          179000000,
          180000000,
          180000000,
          180000000,
          180000000,
          180000000,
          180000000,
          185000000,
          185000000,
          185000000,
          185000000,
          185000000,
          187500000,
          190000000,
          190000000,
          190000000,
          195000000,
          195000000,
          200000000,
          200000000,
          200000000,
          200000000,
          200000000,
          200000000,
          200000000,
          200000000,
          200000000,
          200000000,
          210000000,
          210000000,
          210000000,
          210000000,
          210000000,
          215000000,
          217000000,
          220000000,
          220000000,
          225000000,
          230000000,
          250000000,
          250000000,
          250000000,
          250000000,
          250000000,
          250000000,
          260000000,
          275000000,
          275000000,
          275000000,
          275000000,
          300000000,
          300000000,
          300000000,
          330600000,
          410600000
         ],
         "xaxis": "x",
         "y": [
          6.454503990675193,
          6.454503990675193,
          6.454539862373419,
          6.454575734071645,
          6.454575734071645,
          6.454695306399066,
          6.454695306399066,
          6.454695306399066,
          6.454814878726487,
          6.454886622122939,
          6.454910536588423,
          6.454910536588423,
          6.454910536588423,
          6.454934451053908,
          6.454934451053908,
          6.454934451053908,
          6.454934451053908,
          6.454934451053908,
          6.454934451053908,
          6.454934451053908,
          6.454934451053908,
          6.454934451053908,
          6.455125766777781,
          6.455173595708749,
          6.455173595708749,
          6.455221424639717,
          6.45529316803617,
          6.455317082501654,
          6.455317082501654,
          6.455364911432622,
          6.455406833490616,
          6.455406833490616,
          6.455406833490616,
          6.455412740363591,
          6.455412740363591,
          6.455412740363591,
          6.455412740363591,
          6.455412740363591,
          6.455412740363591,
          6.455412740363591,
          6.455412740363591,
          6.455412740363591,
          6.455412740363591,
          6.455412740363591,
          6.455651885018432,
          6.455651885018432,
          6.455651885018432,
          6.455651885018432,
          6.455651885018432,
          6.455651885018432,
          6.455651885018432,
          6.455891029673274,
          6.455891029673274,
          6.455891029673274,
          6.455891029673274,
          6.455891029673274,
          6.455891029673274,
          6.455891029673274,
          6.455891029673274,
          6.455891029673274,
          6.455891029673274,
          6.455891029673274,
          6.455891029673274,
          6.455891029673274,
          6.455891029673274,
          6.455891029673274,
          6.45598668753521,
          6.456082345397147,
          6.4561301743281145,
          6.4561301743281145,
          6.4561301743281145,
          6.456225832190052,
          6.456225832190052,
          6.456249746655535,
          6.456369318982956,
          6.456369318982956,
          6.456369318982956,
          6.456369318982956,
          6.456369318982956,
          6.456608463637798,
          6.456608463637798,
          6.456728035965218,
          6.456751950430703,
          6.456799779361671,
          6.456799779361671,
          6.456847608292639,
          6.456847608292639,
          6.456847608292639,
          6.456847608292639,
          6.456847608292639,
          6.456847608292639,
          6.456847608292639,
          6.456847608292639,
          6.456847608292639,
          6.456847608292639,
          6.456847608292639,
          6.456847608292639,
          6.456847608292639,
          6.456847608292639,
          6.456847608292639,
          6.456847608292639,
          6.456847608292639,
          6.456847608292639,
          6.456847608292639,
          6.456847608292639,
          6.456847608292639,
          6.456847608292639,
          6.456847608292639,
          6.456847608292639,
          6.456847608292639,
          6.456847608292639,
          6.457086752947481,
          6.457325897602322,
          6.457325897602322,
          6.457325897602322,
          6.457565042257164,
          6.457565042257164,
          6.457804186912005,
          6.457804186912005,
          6.457804186912005,
          6.457804186912005,
          6.457804186912005,
          6.457995502635878,
          6.458043331566847,
          6.458282476221688,
          6.458282476221688,
          6.458282476221688,
          6.458282476221688,
          6.458282476221688,
          6.458282476221688,
          6.458282476221688,
          6.458282476221688,
          6.458282476221688,
          6.458282476221688,
          6.45852162087653,
          6.45852162087653,
          6.458712936600403,
          6.4587607655313715,
          6.4587607655313715,
          6.4587607655313715,
          6.4587607655313715,
          6.4587607655313715,
          6.4587607655313715,
          6.4587607655313715,
          6.4587607655313715,
          6.458952081255244,
          6.458952081255244,
          6.459095568048149,
          6.459239054841054,
          6.459239054841054,
          6.459239054841054,
          6.459239054841054,
          6.459239054841054,
          6.459239054841054,
          6.459239054841054,
          6.459239054841054,
          6.459239054841054,
          6.459239054841054,
          6.459239054841054,
          6.459239054841054,
          6.459239054841054,
          6.459239054841054,
          6.459239054841054,
          6.459239054841054,
          6.459239054841054,
          6.459239054841054,
          6.459239054841054,
          6.459239054841054,
          6.459239054841054,
          6.459239054841054,
          6.459239054841054,
          6.459239054841054,
          6.459239054841054,
          6.459239054841054,
          6.459239054841054,
          6.459239054841054,
          6.459239054841054,
          6.459717344150737,
          6.459717344150737,
          6.459717344150737,
          6.459717344150737,
          6.459717344150737,
          6.459717344150737,
          6.459717344150737,
          6.459956488805578,
          6.460099975598483,
          6.46019563346042,
          6.46019563346042,
          6.46019563346042,
          6.46019563346042,
          6.46019563346042,
          6.46019563346042,
          6.46019563346042,
          6.46019563346042,
          6.46019563346042,
          6.46019563346042,
          6.46019563346042,
          6.46019563346042,
          6.46019563346042,
          6.46019563346042,
          6.46019563346042,
          6.46019563346042,
          6.460434778115261,
          6.46048260704623,
          6.46048260704623,
          6.46048260704623,
          6.4605782649081664,
          6.4605782649081664,
          6.4605782649081664,
          6.460673922770103,
          6.460673922770103,
          6.460673922770103,
          6.460673922770103,
          6.460673922770103,
          6.460673922770103,
          6.460673922770103,
          6.460673922770103,
          6.460673922770103,
          6.460673922770103,
          6.460673922770103,
          6.460673922770103,
          6.460913067424944,
          6.461152212079786,
          6.461152212079786,
          6.461152212079786,
          6.461152212079786,
          6.461152212079786,
          6.461152212079786,
          6.4613913567346275,
          6.461630501389469,
          6.461630501389469,
          6.461630501389469,
          6.461630501389469,
          6.461630501389469,
          6.461630501389469,
          6.461630501389469,
          6.461630501389469,
          6.461630501389469,
          6.461630501389469,
          6.461630501389469,
          6.461630501389469,
          6.461630501389469,
          6.461630501389469,
          6.461630501389469,
          6.461630501389469,
          6.461630501389469,
          6.461630501389469,
          6.461630501389469,
          6.461630501389469,
          6.461630501389469,
          6.461630501389469,
          6.461630501389469,
          6.461630501389469,
          6.461630501389469,
          6.461630501389469,
          6.461630501389469,
          6.461630501389469,
          6.461630501389469,
          6.461630501389469,
          6.461630501389469,
          6.461630501389469,
          6.462108790699151,
          6.462108790699151,
          6.462108790699151,
          6.462108790699151,
          6.462108790699151,
          6.462108790699151,
          6.462108790699151,
          6.462108790699151,
          6.462108790699151,
          6.462108790699151,
          6.462108790699151,
          6.462587080008834,
          6.462587080008834,
          6.462587080008834,
          6.462587080008834,
          6.463065369318517,
          6.463065369318517,
          6.463065369318517,
          6.463065369318517,
          6.463065369318517,
          6.463065369318517,
          6.463065369318517,
          6.463065369318517,
          6.463065369318517,
          6.463065369318517,
          6.463065369318517,
          6.463065369318517,
          6.4635436586282005,
          6.4635436586282005,
          6.4635436586282005,
          6.4635436586282005,
          6.4635436586282005,
          6.4635436586282005,
          6.463782803283042,
          6.4640219479378835,
          6.4640219479378835,
          6.4640219479378835,
          6.4640219479378835,
          6.4640219479378835,
          6.4640219479378835,
          6.4640219479378835,
          6.4640219479378835,
          6.4640219479378835,
          6.4640219479378835,
          6.4640219479378835,
          6.4640219479378835,
          6.4640219479378835,
          6.4640219479378835,
          6.4640219479378835,
          6.4640219479378835,
          6.4640219479378835,
          6.4640219479378835,
          6.4640219479378835,
          6.4640219479378835,
          6.4640219479378835,
          6.4640219479378835,
          6.4640219479378835,
          6.4640219479378835,
          6.4640219479378835,
          6.4640219479378835,
          6.4640219479378835,
          6.4640219479378835,
          6.4640219479378835,
          6.4640219479378835,
          6.4640219479378835,
          6.4640219479378835,
          6.4640219479378835,
          6.4640219479378835,
          6.4640219479378835,
          6.4640219479378835,
          6.464500237247567,
          6.464500237247567,
          6.464739381902408,
          6.46497852655725,
          6.46497852655725,
          6.46497852655725,
          6.46497852655725,
          6.46497852655725,
          6.46497852655725,
          6.46521767121209,
          6.46521767121209,
          6.465456815866932,
          6.465456815866932,
          6.465456815866932,
          6.465456815866932,
          6.465456815866932,
          6.465456815866932,
          6.465935105176615,
          6.465935105176615,
          6.465935105176615,
          6.465935105176615,
          6.466413394486298,
          6.466413394486298,
          6.466413394486298,
          6.466413394486298,
          6.466413394486298,
          6.466413394486298,
          6.466413394486298,
          6.466413394486298,
          6.466413394486298,
          6.466413394486298,
          6.466413394486298,
          6.466413394486298,
          6.466413394486298,
          6.466413394486298,
          6.466413394486298,
          6.466413394486298,
          6.466413394486298,
          6.466413394486298,
          6.466413394486298,
          6.466413394486298,
          6.466413394486298,
          6.466413394486298,
          6.466413394486298,
          6.466413394486298,
          6.466413394486298,
          6.466413394486298,
          6.466413394486298,
          6.466413394486298,
          6.466413394486298,
          6.466413394486298,
          6.466413394486298,
          6.466413394486298,
          6.466413394486298,
          6.466413394486298,
          6.466413394486298,
          6.466413394486298,
          6.466413394486298,
          6.466413394486298,
          6.466413394486298,
          6.466413394486298,
          6.466413394486298,
          6.466891683795981,
          6.466891683795981,
          6.466891683795981,
          6.466891683795981,
          6.467369973105664,
          6.467369973105664,
          6.467369973105664,
          6.467848262415347,
          6.467848262415347,
          6.467848262415347,
          6.467848262415347,
          6.467848262415347,
          6.467848262415347,
          6.467848262415347,
          6.467848262415347,
          6.467848262415347,
          6.467848262415347,
          6.467848262415347,
          6.467848262415347,
          6.467848262415347,
          6.467848262415347,
          6.467848262415347,
          6.467848262415347,
          6.467848262415347,
          6.4683265517250295,
          6.4683265517250295,
          6.4683265517250295,
          6.4683265517250295,
          6.4688048410347125,
          6.4688048410347125,
          6.4688048410347125,
          6.4688048410347125,
          6.4688048410347125,
          6.4688048410347125,
          6.4688048410347125,
          6.4688048410347125,
          6.4688048410347125,
          6.4688048410347125,
          6.4688048410347125,
          6.4688048410347125,
          6.4688048410347125,
          6.4688048410347125,
          6.4688048410347125,
          6.4688048410347125,
          6.4688048410347125,
          6.4688048410347125,
          6.4688048410347125,
          6.4688048410347125,
          6.4688048410347125,
          6.4688048410347125,
          6.4688048410347125,
          6.4688048410347125,
          6.4688048410347125,
          6.4688048410347125,
          6.4688048410347125,
          6.4688048410347125,
          6.4688048410347125,
          6.4688048410347125,
          6.4688048410347125,
          6.4688048410347125,
          6.4688048410347125,
          6.4688048410347125,
          6.4688048410347125,
          6.4688048410347125,
          6.4688048410347125,
          6.4688048410347125,
          6.4688048410347125,
          6.4688048410347125,
          6.469283130344396,
          6.469283130344396,
          6.469283130344396,
          6.469761419654079,
          6.469761419654079,
          6.469761419654079,
          6.469761419654079,
          6.469761419654079,
          6.469761419654079,
          6.47000056430892,
          6.47000056430892,
          6.47000056430892,
          6.47000056430892,
          6.47000056430892,
          6.47000056430892,
          6.470239708963762,
          6.470239708963762,
          6.470717998273445,
          6.470717998273445,
          6.470717998273445,
          6.470717998273445,
          6.471100629721191,
          6.471100629721191,
          6.471196287583128,
          6.471196287583128,
          6.471196287583128,
          6.471196287583128,
          6.471196287583128,
          6.471196287583128,
          6.471196287583128,
          6.471196287583128,
          6.471196287583128,
          6.471196287583128,
          6.471196287583128,
          6.471196287583128,
          6.471196287583128,
          6.471196287583128,
          6.471196287583128,
          6.471196287583128,
          6.471196287583128,
          6.471196287583128,
          6.471196287583128,
          6.471196287583128,
          6.471196287583128,
          6.471196287583128,
          6.471196287583128,
          6.471196287583128,
          6.471196287583128,
          6.471196287583128,
          6.471196287583128,
          6.471196287583128,
          6.471196287583128,
          6.471196287583128,
          6.471196287583128,
          6.471196287583128,
          6.471196287583128,
          6.471196287583128,
          6.471196287583128,
          6.471196287583128,
          6.471196287583128,
          6.47167457689281,
          6.47167457689281,
          6.472152866202493,
          6.472152866202493,
          6.472152866202493,
          6.472152866202493,
          6.472152866202493,
          6.472152866202493,
          6.472152866202493,
          6.472152866202493,
          6.472152866202493,
          6.472152866202493,
          6.472152866202493,
          6.472392010857335,
          6.472392010857335,
          6.472392010857335,
          6.472392010857335,
          6.472392010857335,
          6.472631155512176,
          6.472631155512176,
          6.472631155512176,
          6.472631155512176,
          6.472631155512176,
          6.472631155512176,
          6.473109444821859,
          6.473587734131542,
          6.473587734131542,
          6.473587734131542,
          6.473587734131542,
          6.473587734131542,
          6.473587734131542,
          6.473587734131542,
          6.473587734131542,
          6.473587734131542,
          6.473587734131542,
          6.473587734131542,
          6.473587734131542,
          6.473587734131542,
          6.473587734131542,
          6.473587734131542,
          6.473587734131542,
          6.473587734131542,
          6.473587734131542,
          6.473587734131542,
          6.473587734131542,
          6.473587734131542,
          6.473587734131542,
          6.473587734131542,
          6.473587734131542,
          6.473587734131542,
          6.473587734131542,
          6.473587734131542,
          6.473587734131542,
          6.473587734131542,
          6.473587734131542,
          6.473587734131542,
          6.473587734131542,
          6.473587734131542,
          6.473587734131542,
          6.473587734131542,
          6.473587734131542,
          6.473587734131542,
          6.473587734131542,
          6.473587734131542,
          6.473587734131542,
          6.473587734131542,
          6.473587734131542,
          6.473587734131542,
          6.474544312750908,
          6.474544312750908,
          6.474544312750908,
          6.474544312750908,
          6.474783457405749,
          6.475022602060591,
          6.475022602060591,
          6.475500891370274,
          6.475740036025115,
          6.475979180679957,
          6.475979180679957,
          6.475979180679957,
          6.475979180679957,
          6.475979180679957,
          6.475979180679957,
          6.475979180679957,
          6.475979180679957,
          6.475979180679957,
          6.475979180679957,
          6.475979180679957,
          6.47645746998964,
          6.476935759299323,
          6.476935759299323,
          6.476935759299323,
          6.477174903954165,
          6.477414048609005,
          6.477414048609005,
          6.477414048609005,
          6.477892337918688,
          6.477892337918688,
          6.478370627228371,
          6.478370627228371,
          6.478370627228371,
          6.478370627228371,
          6.478370627228371,
          6.478370627228371,
          6.478370627228371,
          6.478370627228371,
          6.478370627228371,
          6.478370627228371,
          6.478370627228371,
          6.478370627228371,
          6.478370627228371,
          6.478370627228371,
          6.478370627228371,
          6.478370627228371,
          6.478370627228371,
          6.478370627228371,
          6.478370627228371,
          6.478370627228371,
          6.478370627228371,
          6.478370627228371,
          6.478370627228371,
          6.478370627228371,
          6.478370627228371,
          6.478370627228371,
          6.478370627228371,
          6.478370627228371,
          6.478370627228371,
          6.478370627228371,
          6.478370627228371,
          6.478370627228371,
          6.478466285090308,
          6.4788489165380545,
          6.4788489165380545,
          6.4788489165380545,
          6.4788489165380545,
          6.479327205847738,
          6.479327205847738,
          6.479566350502579,
          6.479805495157421,
          6.480762073776786,
          6.480762073776786,
          6.480762073776786,
          6.480762073776786,
          6.480762073776786,
          6.480762073776786,
          6.480762073776786,
          6.480762073776786,
          6.480762073776786,
          6.480762073776786,
          6.480762073776786,
          6.480762073776786,
          6.480762073776786,
          6.481336020948405,
          6.481336020948405,
          6.481336020948405,
          6.481336020948405,
          6.481718652396152,
          6.481957797050994,
          6.481957797050994,
          6.482196941705835,
          6.482196941705835,
          6.482196941705835,
          6.482196941705835,
          6.483153520325201,
          6.483153520325201,
          6.483153520325201,
          6.483153520325201,
          6.483153520325201,
          6.483153520325201,
          6.483153520325201,
          6.483153520325201,
          6.483153520325201,
          6.483153520325201,
          6.483153520325201,
          6.483153520325201,
          6.483153520325201,
          6.483153520325201,
          6.483153520325201,
          6.483153520325201,
          6.483153520325201,
          6.483153520325201,
          6.483153520325201,
          6.483153520325201,
          6.483153520325201,
          6.483153520325201,
          6.483153520325201,
          6.483153520325201,
          6.4836318096348835,
          6.4836318096348835,
          6.4836318096348835,
          6.484110098944567,
          6.48458838825425,
          6.48458838825425,
          6.485544966873616,
          6.485544966873616,
          6.485544966873616,
          6.485544966873616,
          6.485544966873616,
          6.485544966873616,
          6.485544966873616,
          6.485544966873616,
          6.485544966873616,
          6.486023256183299,
          6.486740690147823,
          6.486979834802664,
          6.486979834802664,
          6.486979834802664,
          6.486979834802664,
          6.487458124112347,
          6.487458124112347,
          6.487458124112347,
          6.48793641342203,
          6.48793641342203,
          6.48793641342203,
          6.48793641342203,
          6.48793641342203,
          6.48793641342203,
          6.48793641342203,
          6.48793641342203,
          6.48793641342203,
          6.48793641342203,
          6.48793641342203,
          6.489849570660762,
          6.489849570660762,
          6.490327859970445,
          6.490327859970445,
          6.490327859970445,
          6.490327859970445,
          6.490327859970445,
          6.490327859970445,
          6.490327859970445,
          6.490327859970445,
          6.490327859970445,
          6.490327859970445,
          6.490327859970445,
          6.490327859970445,
          6.490327859970445,
          6.490806149280128,
          6.491284438589811,
          6.4915235832446525,
          6.4915235832446525,
          6.491762727899494,
          6.492241017209177,
          6.492241017209177,
          6.492719306518859,
          6.492719306518859,
          6.492719306518859,
          6.492719306518859,
          6.492719306518859,
          6.492719306518859,
          6.492719306518859,
          6.492719306518859,
          6.492719306518859,
          6.492719306518859,
          6.492719306518859,
          6.4936758851382255,
          6.494632463757592,
          6.495110753067275,
          6.495110753067275,
          6.495110753067275,
          6.495110753067275,
          6.495110753067275,
          6.495110753067275,
          6.495110753067275,
          6.495110753067275,
          6.4963064763414815,
          6.497502199615689,
          6.497502199615689,
          6.497502199615689,
          6.497502199615689,
          6.497502199615689,
          6.497502199615689,
          6.497502199615689,
          6.497502199615689,
          6.497502199615689,
          6.497980488925372,
          6.498458778235055,
          6.4989370675447375,
          6.499415356854421,
          6.499893646164104,
          6.499893646164104,
          6.499893646164104,
          6.499893646164104,
          6.499893646164104,
          6.499893646164104,
          6.499893646164104,
          6.499893646164104,
          6.499893646164104,
          6.499893646164104,
          6.50085022478347,
          6.501806803402836,
          6.501806803402836,
          6.501806803402836,
          6.501806803402836,
          6.501806803402836,
          6.502285092712518,
          6.502285092712518,
          6.502285092712518,
          6.502285092712518,
          6.502285092712518,
          6.502285092712518,
          6.502285092712518,
          6.502285092712518,
          6.502285092712518,
          6.502285092712518,
          6.502285092712518,
          6.502285092712518,
          6.502285092712518,
          6.503241671331884,
          6.503241671331884,
          6.503719960641567,
          6.5041982499512505,
          6.504676539260934,
          6.505154828570616,
          6.506111407189982,
          6.507067985809348,
          6.507067985809348,
          6.507067985809348,
          6.507067985809348,
          6.507067985809348,
          6.507067985809348,
          6.507067985809348,
          6.507067985809348,
          6.507067985809348,
          6.507546275119031,
          6.508024564428713,
          6.509459432357763,
          6.511850878906177,
          6.511850878906177,
          6.511850878906177,
          6.511850878906177,
          6.511850878906177,
          6.511850878906177,
          6.511850878906177,
          6.514242325454592,
          6.514242325454592,
          6.514242325454592,
          6.514242325454592,
          6.514242325454592,
          6.514242325454592,
          6.514242325454592,
          6.514242325454592,
          6.515198904073958,
          6.516633772003007,
          6.516633772003007,
          6.516633772003007,
          6.516633772003007,
          6.516633772003007,
          6.516633772003007,
          6.516633772003007,
          6.516633772003007,
          6.516633772003007,
          6.516633772003007,
          6.516633772003007,
          6.517590350622372,
          6.5180208110010875,
          6.5190252185514215,
          6.5190252185514215,
          6.5190252185514215,
          6.5190252185514215,
          6.5190252185514215,
          6.5190252185514215,
          6.5190252185514215,
          6.521416665099836,
          6.521416665099836,
          6.521416665099836,
          6.521416665099836,
          6.521416665099836,
          6.521416665099836,
          6.5238081116482505,
          6.5238081116482505,
          6.5238081116482505,
          6.5238081116482505,
          6.526199558196666,
          6.526199558196666,
          6.526199558196666,
          6.526199558196666,
          6.526199558196666,
          6.526199558196666,
          6.526199558196666,
          6.526199558196666,
          6.526199558196666,
          6.526199558196666,
          6.526199558196666,
          6.526199558196666,
          6.526199558196666,
          6.526199558196666,
          6.526199558196666,
          6.526199558196666,
          6.526199558196666,
          6.527156136816031,
          6.52859100474508,
          6.529069294054763,
          6.530982451293495,
          6.530982451293495,
          6.530982451293495,
          6.530982451293495,
          6.530982451293495,
          6.533373897841909,
          6.533373897841909,
          6.533373897841909,
          6.533373897841909,
          6.533373897841909,
          6.533373897841909,
          6.533373897841909,
          6.535765344390324,
          6.535765344390324,
          6.535765344390324,
          6.535765344390324,
          6.535765344390324,
          6.535765344390324,
          6.535765344390324,
          6.535765344390324,
          6.535765344390324,
          6.538156790938739,
          6.538156790938739,
          6.538156790938739,
          6.538156790938739,
          6.538156790938739,
          6.538156790938739,
          6.538156790938739,
          6.539591658867788,
          6.539591658867788,
          6.539591658867788,
          6.540069948177471,
          6.540548237487154,
          6.540548237487154,
          6.540548237487154,
          6.540548237487154,
          6.540548237487154,
          6.540548237487154,
          6.542939684035568,
          6.542939684035568,
          6.542939684035568,
          6.542939684035568,
          6.542939684035568,
          6.544135407309776,
          6.545331130583983,
          6.545331130583983,
          6.545331130583983,
          6.547722577132397,
          6.547722577132397,
          6.550114023680813,
          6.550114023680813,
          6.550114023680813,
          6.550114023680813,
          6.550114023680813,
          6.550114023680813,
          6.550114023680813,
          6.550114023680813,
          6.550114023680813,
          6.550114023680813,
          6.554896916777642,
          6.554896916777642,
          6.554896916777642,
          6.554896916777642,
          6.554896916777642,
          6.557288363326056,
          6.558244941945422,
          6.5596798098744715,
          6.5596798098744715,
          6.562071256422886,
          6.5644627029713005,
          6.574028489164959,
          6.574028489164959,
          6.574028489164959,
          6.574028489164959,
          6.574028489164959,
          6.574028489164959,
          6.578811382261788,
          6.585985721907033,
          6.585985721907033,
          6.585985721907033,
          6.585985721907033,
          6.597942954649106,
          6.597942954649106,
          6.597942954649106,
          6.612578607525404,
          6.650841752300039
         ],
         "yaxis": "y"
        }
       ],
       "layout": {
        "height": 600,
        "legend": {
         "itemsizing": "constant",
         "tracegroupgap": 0
        },
        "margin": {
         "t": 60
        },
        "template": {
         "data": {
          "bar": [
           {
            "error_x": {
             "color": "#2a3f5f"
            },
            "error_y": {
             "color": "#2a3f5f"
            },
            "marker": {
             "line": {
              "color": "#E5ECF6",
              "width": 0.5
             }
            },
            "type": "bar"
           }
          ],
          "barpolar": [
           {
            "marker": {
             "line": {
              "color": "#E5ECF6",
              "width": 0.5
             }
            },
            "type": "barpolar"
           }
          ],
          "carpet": [
           {
            "aaxis": {
             "endlinecolor": "#2a3f5f",
             "gridcolor": "white",
             "linecolor": "white",
             "minorgridcolor": "white",
             "startlinecolor": "#2a3f5f"
            },
            "baxis": {
             "endlinecolor": "#2a3f5f",
             "gridcolor": "white",
             "linecolor": "white",
             "minorgridcolor": "white",
             "startlinecolor": "#2a3f5f"
            },
            "type": "carpet"
           }
          ],
          "choropleth": [
           {
            "colorbar": {
             "outlinewidth": 0,
             "ticks": ""
            },
            "type": "choropleth"
           }
          ],
          "contour": [
           {
            "colorbar": {
             "outlinewidth": 0,
             "ticks": ""
            },
            "colorscale": [
             [
              0,
              "#0d0887"
             ],
             [
              0.1111111111111111,
              "#46039f"
             ],
             [
              0.2222222222222222,
              "#7201a8"
             ],
             [
              0.3333333333333333,
              "#9c179e"
             ],
             [
              0.4444444444444444,
              "#bd3786"
             ],
             [
              0.5555555555555556,
              "#d8576b"
             ],
             [
              0.6666666666666666,
              "#ed7953"
             ],
             [
              0.7777777777777778,
              "#fb9f3a"
             ],
             [
              0.8888888888888888,
              "#fdca26"
             ],
             [
              1,
              "#f0f921"
             ]
            ],
            "type": "contour"
           }
          ],
          "contourcarpet": [
           {
            "colorbar": {
             "outlinewidth": 0,
             "ticks": ""
            },
            "type": "contourcarpet"
           }
          ],
          "heatmap": [
           {
            "colorbar": {
             "outlinewidth": 0,
             "ticks": ""
            },
            "colorscale": [
             [
              0,
              "#0d0887"
             ],
             [
              0.1111111111111111,
              "#46039f"
             ],
             [
              0.2222222222222222,
              "#7201a8"
             ],
             [
              0.3333333333333333,
              "#9c179e"
             ],
             [
              0.4444444444444444,
              "#bd3786"
             ],
             [
              0.5555555555555556,
              "#d8576b"
             ],
             [
              0.6666666666666666,
              "#ed7953"
             ],
             [
              0.7777777777777778,
              "#fb9f3a"
             ],
             [
              0.8888888888888888,
              "#fdca26"
             ],
             [
              1,
              "#f0f921"
             ]
            ],
            "type": "heatmap"
           }
          ],
          "heatmapgl": [
           {
            "colorbar": {
             "outlinewidth": 0,
             "ticks": ""
            },
            "colorscale": [
             [
              0,
              "#0d0887"
             ],
             [
              0.1111111111111111,
              "#46039f"
             ],
             [
              0.2222222222222222,
              "#7201a8"
             ],
             [
              0.3333333333333333,
              "#9c179e"
             ],
             [
              0.4444444444444444,
              "#bd3786"
             ],
             [
              0.5555555555555556,
              "#d8576b"
             ],
             [
              0.6666666666666666,
              "#ed7953"
             ],
             [
              0.7777777777777778,
              "#fb9f3a"
             ],
             [
              0.8888888888888888,
              "#fdca26"
             ],
             [
              1,
              "#f0f921"
             ]
            ],
            "type": "heatmapgl"
           }
          ],
          "histogram": [
           {
            "marker": {
             "colorbar": {
              "outlinewidth": 0,
              "ticks": ""
             }
            },
            "type": "histogram"
           }
          ],
          "histogram2d": [
           {
            "colorbar": {
             "outlinewidth": 0,
             "ticks": ""
            },
            "colorscale": [
             [
              0,
              "#0d0887"
             ],
             [
              0.1111111111111111,
              "#46039f"
             ],
             [
              0.2222222222222222,
              "#7201a8"
             ],
             [
              0.3333333333333333,
              "#9c179e"
             ],
             [
              0.4444444444444444,
              "#bd3786"
             ],
             [
              0.5555555555555556,
              "#d8576b"
             ],
             [
              0.6666666666666666,
              "#ed7953"
             ],
             [
              0.7777777777777778,
              "#fb9f3a"
             ],
             [
              0.8888888888888888,
              "#fdca26"
             ],
             [
              1,
              "#f0f921"
             ]
            ],
            "type": "histogram2d"
           }
          ],
          "histogram2dcontour": [
           {
            "colorbar": {
             "outlinewidth": 0,
             "ticks": ""
            },
            "colorscale": [
             [
              0,
              "#0d0887"
             ],
             [
              0.1111111111111111,
              "#46039f"
             ],
             [
              0.2222222222222222,
              "#7201a8"
             ],
             [
              0.3333333333333333,
              "#9c179e"
             ],
             [
              0.4444444444444444,
              "#bd3786"
             ],
             [
              0.5555555555555556,
              "#d8576b"
             ],
             [
              0.6666666666666666,
              "#ed7953"
             ],
             [
              0.7777777777777778,
              "#fb9f3a"
             ],
             [
              0.8888888888888888,
              "#fdca26"
             ],
             [
              1,
              "#f0f921"
             ]
            ],
            "type": "histogram2dcontour"
           }
          ],
          "mesh3d": [
           {
            "colorbar": {
             "outlinewidth": 0,
             "ticks": ""
            },
            "type": "mesh3d"
           }
          ],
          "parcoords": [
           {
            "line": {
             "colorbar": {
              "outlinewidth": 0,
              "ticks": ""
             }
            },
            "type": "parcoords"
           }
          ],
          "scatter": [
           {
            "marker": {
             "colorbar": {
              "outlinewidth": 0,
              "ticks": ""
             }
            },
            "type": "scatter"
           }
          ],
          "scatter3d": [
           {
            "line": {
             "colorbar": {
              "outlinewidth": 0,
              "ticks": ""
             }
            },
            "marker": {
             "colorbar": {
              "outlinewidth": 0,
              "ticks": ""
             }
            },
            "type": "scatter3d"
           }
          ],
          "scattercarpet": [
           {
            "marker": {
             "colorbar": {
              "outlinewidth": 0,
              "ticks": ""
             }
            },
            "type": "scattercarpet"
           }
          ],
          "scattergeo": [
           {
            "marker": {
             "colorbar": {
              "outlinewidth": 0,
              "ticks": ""
             }
            },
            "type": "scattergeo"
           }
          ],
          "scattergl": [
           {
            "marker": {
             "colorbar": {
              "outlinewidth": 0,
              "ticks": ""
             }
            },
            "type": "scattergl"
           }
          ],
          "scattermapbox": [
           {
            "marker": {
             "colorbar": {
              "outlinewidth": 0,
              "ticks": ""
             }
            },
            "type": "scattermapbox"
           }
          ],
          "scatterpolar": [
           {
            "marker": {
             "colorbar": {
              "outlinewidth": 0,
              "ticks": ""
             }
            },
            "type": "scatterpolar"
           }
          ],
          "scatterpolargl": [
           {
            "marker": {
             "colorbar": {
              "outlinewidth": 0,
              "ticks": ""
             }
            },
            "type": "scatterpolargl"
           }
          ],
          "scatterternary": [
           {
            "marker": {
             "colorbar": {
              "outlinewidth": 0,
              "ticks": ""
             }
            },
            "type": "scatterternary"
           }
          ],
          "surface": [
           {
            "colorbar": {
             "outlinewidth": 0,
             "ticks": ""
            },
            "colorscale": [
             [
              0,
              "#0d0887"
             ],
             [
              0.1111111111111111,
              "#46039f"
             ],
             [
              0.2222222222222222,
              "#7201a8"
             ],
             [
              0.3333333333333333,
              "#9c179e"
             ],
             [
              0.4444444444444444,
              "#bd3786"
             ],
             [
              0.5555555555555556,
              "#d8576b"
             ],
             [
              0.6666666666666666,
              "#ed7953"
             ],
             [
              0.7777777777777778,
              "#fb9f3a"
             ],
             [
              0.8888888888888888,
              "#fdca26"
             ],
             [
              1,
              "#f0f921"
             ]
            ],
            "type": "surface"
           }
          ],
          "table": [
           {
            "cells": {
             "fill": {
              "color": "#EBF0F8"
             },
             "line": {
              "color": "white"
             }
            },
            "header": {
             "fill": {
              "color": "#C8D4E3"
             },
             "line": {
              "color": "white"
             }
            },
            "type": "table"
           }
          ]
         },
         "layout": {
          "annotationdefaults": {
           "arrowcolor": "#2a3f5f",
           "arrowhead": 0,
           "arrowwidth": 1
          },
          "colorscale": {
           "diverging": [
            [
             0,
             "#8e0152"
            ],
            [
             0.1,
             "#c51b7d"
            ],
            [
             0.2,
             "#de77ae"
            ],
            [
             0.3,
             "#f1b6da"
            ],
            [
             0.4,
             "#fde0ef"
            ],
            [
             0.5,
             "#f7f7f7"
            ],
            [
             0.6,
             "#e6f5d0"
            ],
            [
             0.7,
             "#b8e186"
            ],
            [
             0.8,
             "#7fbc41"
            ],
            [
             0.9,
             "#4d9221"
            ],
            [
             1,
             "#276419"
            ]
           ],
           "sequential": [
            [
             0,
             "#0d0887"
            ],
            [
             0.1111111111111111,
             "#46039f"
            ],
            [
             0.2222222222222222,
             "#7201a8"
            ],
            [
             0.3333333333333333,
             "#9c179e"
            ],
            [
             0.4444444444444444,
             "#bd3786"
            ],
            [
             0.5555555555555556,
             "#d8576b"
            ],
            [
             0.6666666666666666,
             "#ed7953"
            ],
            [
             0.7777777777777778,
             "#fb9f3a"
            ],
            [
             0.8888888888888888,
             "#fdca26"
            ],
            [
             1,
             "#f0f921"
            ]
           ],
           "sequentialminus": [
            [
             0,
             "#0d0887"
            ],
            [
             0.1111111111111111,
             "#46039f"
            ],
            [
             0.2222222222222222,
             "#7201a8"
            ],
            [
             0.3333333333333333,
             "#9c179e"
            ],
            [
             0.4444444444444444,
             "#bd3786"
            ],
            [
             0.5555555555555556,
             "#d8576b"
            ],
            [
             0.6666666666666666,
             "#ed7953"
            ],
            [
             0.7777777777777778,
             "#fb9f3a"
            ],
            [
             0.8888888888888888,
             "#fdca26"
            ],
            [
             1,
             "#f0f921"
            ]
           ]
          },
          "colorway": [
           "#636efa",
           "#EF553B",
           "#00cc96",
           "#ab63fa",
           "#FFA15A",
           "#19d3f3",
           "#FF6692",
           "#B6E880",
           "#FF97FF",
           "#FECB52"
          ],
          "font": {
           "color": "#2a3f5f"
          },
          "geo": {
           "bgcolor": "white",
           "lakecolor": "white",
           "landcolor": "#E5ECF6",
           "showlakes": true,
           "showland": true,
           "subunitcolor": "white"
          },
          "hoverlabel": {
           "align": "left"
          },
          "hovermode": "closest",
          "mapbox": {
           "style": "light"
          },
          "paper_bgcolor": "white",
          "plot_bgcolor": "#E5ECF6",
          "polar": {
           "angularaxis": {
            "gridcolor": "white",
            "linecolor": "white",
            "ticks": ""
           },
           "bgcolor": "#E5ECF6",
           "radialaxis": {
            "gridcolor": "white",
            "linecolor": "white",
            "ticks": ""
           }
          },
          "scene": {
           "xaxis": {
            "backgroundcolor": "#E5ECF6",
            "gridcolor": "white",
            "gridwidth": 2,
            "linecolor": "white",
            "showbackground": true,
            "ticks": "",
            "zerolinecolor": "white"
           },
           "yaxis": {
            "backgroundcolor": "#E5ECF6",
            "gridcolor": "white",
            "gridwidth": 2,
            "linecolor": "white",
            "showbackground": true,
            "ticks": "",
            "zerolinecolor": "white"
           },
           "zaxis": {
            "backgroundcolor": "#E5ECF6",
            "gridcolor": "white",
            "gridwidth": 2,
            "linecolor": "white",
            "showbackground": true,
            "ticks": "",
            "zerolinecolor": "white"
           }
          },
          "shapedefaults": {
           "line": {
            "color": "#2a3f5f"
           }
          },
          "ternary": {
           "aaxis": {
            "gridcolor": "white",
            "linecolor": "white",
            "ticks": ""
           },
           "baxis": {
            "gridcolor": "white",
            "linecolor": "white",
            "ticks": ""
           },
           "bgcolor": "#E5ECF6",
           "caxis": {
            "gridcolor": "white",
            "linecolor": "white",
            "ticks": ""
           }
          },
          "title": {
           "x": 0.05
          },
          "xaxis": {
           "automargin": true,
           "gridcolor": "white",
           "linecolor": "white",
           "ticks": "",
           "zerolinecolor": "white",
           "zerolinewidth": 2
          },
          "yaxis": {
           "automargin": true,
           "gridcolor": "white",
           "linecolor": "white",
           "ticks": "",
           "zerolinecolor": "white",
           "zerolinewidth": 2
          }
         }
        },
        "xaxis": {
         "anchor": "y",
         "domain": [
          0,
          0.98
         ],
         "title": {
          "text": "production_budget"
         }
        },
        "yaxis": {
         "anchor": "x",
         "domain": [
          0,
          1
         ],
         "title": {
          "text": "vote_average"
         }
        }
       }
      },
      "text/html": [
       "<div>\n",
       "        \n",
       "        \n",
       "            <div id=\"947b33ae-b0be-46b1-a916-b4f6e53137c4\" class=\"plotly-graph-div\" style=\"height:600px; width:100%;\"></div>\n",
       "            <script type=\"text/javascript\">\n",
       "                require([\"plotly\"], function(Plotly) {\n",
       "                    window.PLOTLYENV=window.PLOTLYENV || {};\n",
       "                    \n",
       "                if (document.getElementById(\"947b33ae-b0be-46b1-a916-b4f6e53137c4\")) {\n",
       "                    Plotly.newPlot(\n",
       "                        '947b33ae-b0be-46b1-a916-b4f6e53137c4',\n",
       "                        [{\"customdata\": [[\"Inception\"], [\"Deadpool\"], [\"Interstellar\"], [\"Guardians of the Galaxy\"], [\"Django Unchained\"], [\"The Hunger Games\"], [\"Mad Max: Fury Road\"], [\"Jurassic World\"], [\"Captain America: Civil War\"], [\"Avengers: Infinity War\"], [\"The Dark Knight Rises\"], [\"Suicide Squad\"], [\"Avengers: Age of Ultron\"], [\"Captain America: The First Avenger\"], [\"Thor\"], [\"Shutter Island\"], [\"Doctor Strange\"], [\"The Wolf of Wall Street\"], [\"Iron Man 2\"], [\"The Martian\"], [\"The Hobbit: An Unexpected Journey\"], [\"Batman v Superman: Dawn of Justice\"], [\"Ant-Man\"], [\"Spider-Man: Homecoming\"], [\"Thor: Ragnarok\"], [\"The Hunger Games: Catching Fire\"], [\"The Revenant\"], [\"The Revenant\"], [\"Captain America: The Winter Soldier\"], [\"It\"], [\"The Maze Runner\"], [\"Gone Girl\"], [\"Skyfall\"], [\"The Amazing Spider-Man\"], [\"The Imitation Game\"], [\"Arrival\"], [\"Arrival\"], [\"Kingsman: The Secret Service\"], [\"Big Hero 6\"], [\"Thor: The Dark World\"], [\"The Hunger Games: Mockingjay - Part 1\"], [\"John Wick\"], [\"X-Men: Days of Future Past\"], [\"Despicable Me\"], [\"La La Land\"], [\"Lucy\"], [\"Lucy\"], [\"Zootopia\"], [\"Now You See Me\"], [\"Now You See Me\"], [\"Man of Steel\"], [\"Gravity\"], [\"Dunkirk\"], [\"World War Z\"], [\"Deadpool 2\"], [\"Life of Pi\"], [\"Coco\"], [\"Coco\"], [\"Pirates of the Caribbean: On Stranger Tides\"], [\"The Hobbit: The Battle of the Five Armies\"], [\"Black Swan\"], [\"X-Men: Apocalypse\"], [\"Toy Story 3\"], [\"Divergent\"], [\"Maleficent\"], [\"Brave\"], [\"Brave\"], [\"The Grand Budapest Hotel\"], [\"The Hateful Eight\"], [\"Edge of Tomorrow\"], [\"Baby Driver\"], [\"Ex Machina\"], [\"Finding Dory\"], [\"Wreck-It Ralph\"], [\"The Hobbit: The Desolation of Smaug\"], [\"Ted\"], [\"American Sniper\"], [\"Silver Linings Playbook\"], [\"Pacific Rim\"], [\"Bohemian Rhapsody\"], [\"How to Train Your Dragon\"], [\"The Hunger Games: Mockingjay - Part 2\"], [\"Kick-Ass\"], [\"Justice League\"], [\"Prometheus\"], [\"Minions\"], [\"Despicable Me 2\"], [\"Rise of the Planet of the Apes\"], [\"The Shape of Water\"], [\"The Amazing Spider-Man 2\"], [\"Jumanji: Welcome to the Jungle\"], [\"Dawn of the Planet of the Apes\"], [\"Ready Player One\"], [\"Pirates of the Caribbean: Dead Men Tell No Tales\"], [\"Oblivion\"], [\"Oblivion\"], [\"Now You See Me 2\"], [\"Looper\"], [\"Spectre\"], [\"Blade Runner 2049\"], [\"12 Years a Slave\"], [\"Hacksaw Ridge\"], [\"21 Jump Street\"], [\"Fifty Shades of Grey\"], [\"The Theory of Everything\"], [\"Tangled\"], [\"Sherlock Holmes: A Game of Shadows\"], [\"Maze Runner: The Scorch Trials\"], [\"Monsters University\"], [\"Incredibles 2\"], [\"The Fate of the Furious\"], [\"Limitless\"], [\"Limitless\"], [\"Ant-Man and the Wasp\"], [\"In Time\"], [\"The Hangover Part II\"], [\"Star Trek Into Darkness\"], [\"The Wolverine\"], [\"Aquaman\"], [\"The Social Network\"], [\"Kong: Skull Island\"], [\"Jurassic World: Fallen Kingdom\"], [\"Me Before You\"], [\"The Perks of Being a Wallflower\"], [\"The Conjuring\"], [\"Nightcrawler\"], [\"A Quiet Place\"], [\"A Quiet Place\"], [\"Prisoners\"], [\"How to Train Your Dragon 2\"], [\"Kingsman: The Golden Circle\"], [\"Room\"], [\"Three Billboards Outside Ebbing, Missouri\"], [\"Elysium\"], [\"Elysium\"], [\"The Secret Life of Pets\"], [\"Snow White and the Huntsman\"], [\"War for the Planet of the Apes\"], [\"We're the Millers\"], [\"The Greatest Showman\"], [\"22 Jump Street\"], [\"Argo\"], [\"San Andreas\"], [\"Hotel Transylvania\"], [\"Chappie\"], [\"The Equalizer\"], [\"Alien: Covenant\"], [\"Dallas Buyers Club\"], [\"Transformers: Dark of the Moon\"], [\"Spotlight\"], [\"Spotlight\"], [\"The Twilight Saga: Eclipse\"], [\"Fantastic Beasts: The Crimes of Grindelwald\"], [\"The Secret Life of Walter Mitty\"], [\"Transformers: Age of Extinction\"], [\"The Purge\"], [\"Baywatch\"], [\"Snowpiercer\"], [\"Hidden Figures\"], [\"The Big Short\"], [\"The Expendables\"], [\"Friends with Benefits\"], [\"10 Cloverfield Lane\"], [\"Tomorrowland\"], [\"Tomorrowland\"], [\"Ice Age: Continental Drift\"], [\"Real Steel\"], [\"Neighbors\"], [\"Neighbors\"], [\"Neighbors\"], [\"Neighbors\"], [\"Source Code\"], [\"Cloud Atlas\"], [\"Fifty Shades Darker\"], [\"Sicario\"], [\"127 Hours\"], [\"American Hustle\"], [\"A Good Day to Die Hard\"], [\"Jupiter Ascending\"], [\"The Boss Baby\"], [\"Bridge of Spies\"], [\"Tomb Raider\"], [\"Sing\"], [\"Fast Five\"], [\"Green Lantern\"], [\"Star Trek Beyond\"], [\"The Nice Guys\"], [\"Sausage Party\"], [\"Pitch Perfect\"], [\"Ted 2\"], [\"The Expendables 2\"], [\"Dark Shadows\"], [\"Nocturnal Animals\"], [\"The Cabin in the Woods\"], [\"Easy A\"], [\"Jack Reacher\"], [\"After Earth\"], [\"Valerian and the City of a Thousand Planets\"], [\"Hugo\"], [\"Hugo\"], [\"Warm Bodies\"], [\"Despicable Me 3\"], [\"The Legend of Tarzan\"], [\"Olympus Has Fallen\"], [\"Warcraft\"], [\"Cars 2\"], [\"Taken 2\"], [\"Creed\"], [\"Creed\"], [\"Creed\"], [\"About Time\"], [\"The Girl with the Dragon Tattoo\"], [\"Midnight in Paris\"], [\"Midnight in Paris\"], [\"Wonder\"], [\"The Help\"], [\"Super 8\"], [\"Sully\"], [\"Independence Day: Resurgence\"], [\"Captain Phillips\"], [\"G.I. Joe: Retaliation\"], [\"Inferno\"], [\"Inferno\"], [\"Inferno\"], [\"The Croods\"], [\"Lady Bird\"], [\"The Age of Adaline\"], [\"Shrek Forever After\"], [\"Horrible Bosses\"], [\"Solo: A Star Wars Story\"], [\"Fantastic Four\"], [\"Fantastic Four\"], [\"Lion\"], [\"Lion\"], [\"Lion\"], [\"Alice Through the Looking Glass\"], [\"The Lone Ranger\"], [\"Kick-Ass 2\"], [\"The Purge: Anarchy\"], [\"Rio\"], [\"Rio\"], [\"Rio\"], [\"Dracula Untold\"], [\"Rise of the Guardians\"], [\"The 5th Wave\"], [\"Atomic Blonde\"], [\"Megamind\"], [\"The Bourne Legacy\"], [\"Kung Fu Panda 2\"], [\"The Impossible\"], [\"Jason Bourne\"], [\"Pitch Perfect 2\"], [\"Paper Towns\"], [\"Flight\"], [\"Insidious\"], [\"Ender's Game\"], [\"Night at the Museum: Secret of the Tomb\"], [\"Fifty Shades Freed\"], [\"The Babadook\"], [\"Green Book\"], [\"The Book of Eli\"], [\"It Follows\"], [\"Southpaw\"], [\"Rango\"], [\"The Accountant\"], [\"Red Sparrow\"], [\"Taken 3\"], [\"Jack the Giant Slayer\"], [\"Madagascar 3: Europe's Most Wanted\"], [\"The Intern\"], [\"Annabelle\"], [\"John Carter\"], [\"King Arthur: Legend of the Sword\"], [\"Collateral Beauty\"], [\"Transformers: The Last Knight\"], [\"The Adventures of Tintin\"], [\"Battleship\"], [\"Salt\"], [\"Happy Death Day\"], [\"The Chronicles of Narnia: The Voyage of the Dawn Treader\"], [\"Hotel Transylvania 2\"], [\"Manchester by the Sea\"], [\"Grown Ups\"], [\"Love, Simon\"], [\"Annabelle: Creation\"], [\"The Karate Kid\"], [\"The Karate Kid\"], [\"BlacKkKlansman\"], [\"The Good Dinosaur\"], [\"Central Intelligence\"], [\"The Tourist\"], [\"Percy Jackson: Sea of Monsters\"], [\"Boyhood\"], [\"The Giver\"], [\"The Dictator\"], [\"The Shallows\"], [\"Moonrise Kingdom\"], [\"Paul\"], [\"Paul\"], [\"The World's End\"], [\"Crimson Peak\"], [\"Due Date\"], [\"Project X\"], [\"Project X\"], [\"Kung Fu Panda 3\"], [\"The Witch\"], [\"The Mortal Instruments: City of Bones\"], [\"Exodus: Gods and Kings\"], [\"I, Tonya\"], [\"The Purge: Election Year\"], [\"The Meg\"], [\"Bad Teacher\"], [\"Into the Woods\"], [\"Into the Woods\"], [\"Into the Woods\"], [\"Into the Woods\"], [\"The Sorcerer's Apprentice\"], [\"The Expendables 3\"], [\"Riddick\"], [\"The Dark Tower\"], [\"Jack Reacher: Never Go Back\"], [\"Neighbors 2: Sorority Rising\"], [\"White House Down\"], [\"True Grit\"], [\"Escape Plan\"], [\"Dredd\"], [\"The Book Thief\"], [\"Bridesmaids\"], [\"The Place Beyond the Pines\"], [\"The Great Wall\"], [\"The Great Wall\"], [\"Allied\"], [\"Game Night\"], [\"Game Night\"], [\"Joy\"], [\"Joy\"], [\"Joy\"], [\"Joy\"], [\"Joy\"], [\"Sucker Punch\"], [\"Darkest Hour\"], [\"Don Jon\"], [\"If I Stay\"], [\"The A-Team\"], [\"Sex Tape\"], [\"American Reunion\"], [\"Dear John\"], [\"Dirty Grandpa\"], [\"The Visit\"], [\"The Visit\"], [\"The Visit\"], [\"The Visit\"], [\"The Internship\"], [\"The Adjustment Bureau\"], [\"No Strings Attached\"], [\"No Strings Attached\"], [\"No Strings Attached\"], [\"Deepwater Horizon\"], [\"Bad Moms\"], [\"Cars 3\"], [\"London Has Fallen\"], [\"Horrible Bosses 2\"], [\"Steve Jobs\"], [\"Robin Hood\"], [\"Robin Hood\"], [\"Robin Hood\"], [\"Robin Hood\"], [\"Robin Hood\"], [\"Robin Hood\"], [\"Robin Hood\"], [\"Robin Hood\"], [\"Zero Dark Thirty\"], [\"Gangster Squad\"], [\"The Post\"], [\"Spring Breakers\"], [\"Why Him?\"], [\"Hereditary\"], [\"Hell or High Water\"], [\"Everything, Everything\"], [\"Wrath of the Titans\"], [\"The Heat\"], [\"Ice Age: Collision Course\"], [\"Snowden\"], [\"Bumblebee\"], [\"Mama\"], [\"Mama\"], [\"Mama\"], [\"Mama\"], [\"Mama\"], [\"Mama\"], [\"Mama\"], [\"The Vow\"], [\"The Commuter\"], [\"Need for Speed\"], [\"War Dogs\"], [\"The Town\"], [\"The Town\"], [\"2 Guns\"], [\"The Judge\"], [\"The Judge\"], [\"Gods of Egypt\"], [\"Hail, Caesar!\"], [\"The Fighter\"], [\"Resident Evil: Retribution\"], [\"Underworld: Blood Wars\"], [\"First Man\"], [\"First Man\"], [\"Lone Survivor\"], [\"The Grey\"], [\"Penguins of Madagascar\"], [\"Lincoln\"], [\"Moneyball\"], [\"Geostorm\"], [\"Unbroken\"], [\"Unbroken\"], [\"Creed II\"], [\"Identity Thief\"], [\"The Monuments Men\"], [\"The Edge of Seventeen\"], [\"Lights Out\"], [\"Lights Out\"], [\"Lights Out\"], [\"Lights Out\"], [\"The Last Song\"], [\"The Last Witch Hunter\"], [\"Warrior\"], [\"Warrior\"], [\"American Made\"], [\"The Other Guys\"], [\"Skyscraper\"], [\"Big Eyes\"], [\"Big Eyes\"], [\"Journey 2: The Mysterious Island\"], [\"Goosebumps\"], [\"The Last Airbender\"], [\"In the Heart of the Sea\"], [\"Before I Fall\"], [\"The Woman in Black\"], [\"Resident Evil: Afterlife\"], [\"The Smurfs\"], [\"50/50\"], [\"50/50\"], [\"Seven Psychopaths\"], [\"One Day\"], [\"One Day\"], [\"One Day\"], [\"Mirror Mirror\"], [\"The Favourite\"], [\"This Means War\"], [\"The Founder\"], [\"Grown Ups 2\"], [\"Begin Again\"], [\"Begin Again\"], [\"The Equalizer 2\"], [\"47 Ronin\"], [\"Remember Me\"], [\"Remember Me\"], [\"Remember Me\"], [\"Remember Me\"], [\"Pompeii\"], [\"Saving Mr. Banks\"], [\"Straight Outta Compton\"], [\"R.I.P.D.\"], [\"Unknown\"], [\"Unknown\"], [\"Unknown\"], [\"Unknown\"], [\"Ghost Rider: Spirit of Vengeance\"], [\"Gifted\"], [\"Gifted\"], [\"Kubo and the Two Strings\"], [\"Black Mass\"], [\"Unfriended\"], [\"The Lucky One\"], [\"Abraham Lincoln: Vampire Hunter\"], [\"The Neon Demon\"], [\"Safe House\"], [\"Safe House\"], [\"Safe House\"], [\"Blue Jasmine\"], [\"Predators\"], [\"Carol\"], [\"Still Alice\"], [\"Hanna\"], [\"Vacation\"], [\"Mechanic: Resurrection\"], [\"A Monster Calls\"], [\"The BFG\"], [\"Unstoppable\"], [\"Unstoppable\"], [\"Unstoppable\"], [\"Unstoppable\"], [\"Unstoppable\"], [\"Brooklyn\"], [\"Brooklyn\"], [\"The Longest Ride\"], [\"Valentine's Day\"], [\"The Walk\"], [\"The Walk\"], [\"Paddington\"], [\"The Green Hornet\"], [\"The Disaster Artist\"], [\"Downsizing\"], [\"Jigsaw\"], [\"Pitch Perfect 3\"], [\"Red Riding Hood\"], [\"Little Fockers\"], [\"Trolls\"], [\"Parker\"], [\"Machete\"], [\"Teenage Mutant Ninja Turtles: Out of the Shadows\"], [\"Money Monster\"], [\"Resident Evil: The Final Chapter\"], [\"Magic Mike\"], [\"War Horse\"], [\"The First Purge\"], [\"Dumb and Dumber To\"], [\"Burnt\"], [\"Burnt\"], [\"I Origins\"], [\"Johnny English Reborn\"], [\"Rio 2\"], [\"The Spectacular Now\"], [\"Abduction\"], [\"Abduction\"], [\"Abduction\"], [\"Abduction\"], [\"Abduction\"], [\"Swiss Army Man\"], [\"The Artist\"], [\"The Artist\"], [\"The Artist\"], [\"Rings\"], [\"The Call\"], [\"The Call\"], [\"The Call\"], [\"End of Watch\"], [\"Hitman: Agent 47\"], [\"That Awkward Moment\"], [\"Turbo\"], [\"A Simple Favor\"], [\"American Ultra\"], [\"Mortal Engines\"], [\"Beastly\"], [\"Oculus\"], [\"Date Night\"], [\"Trainwreck\"], [\"The Tree of Life\"], [\"The Tree of Life\"], [\"Blended\"], [\"Letters to Juliet\"], [\"Final Destination 5\"], [\"Pan\"], [\"The Last Stand\"], [\"The Last Stand\"], [\"Jack Ryan: Shadow Recruit\"], [\"A Walk Among the Tombstones\"], [\"Frankenweenie\"], [\"Run All Night\"], [\"Cloudy with a Chance of Meatballs 2\"], [\"Blue Valentine\"], [\"The Mechanic\"], [\"Hotel Transylvania 3: Summer Vacation\"], [\"Epic\"], [\"Ouija\"], [\"Mortdecai\"], [\"Lawless\"], [\"Lawless\"], [\"Upside Down\"], [\"Upside Down\"], [\"Upside Down\"], [\"Upside Down\"], [\"Upside Down\"], [\"Upside Down\"], [\"Melancholia\"], [\"Melancholia\"], [\"Logan Lucky\"], [\"The Bounty Hunter\"], [\"Water for Elephants\"], [\"Jobs\"], [\"Scream 4\"], [\"Shame\"], [\"American Assassin\"], [\"Mud\"], [\"Tower Heist\"], [\"Me and Earl and the Dying Girl\"], [\"Mike and Dave Need Wedding Dates\"], [\"Seventh Son\"], [\"The Lincoln Lawyer\"], [\"We Bought a Zoo\"], [\"The Descendants\"], [\"The Descendants\"], [\"Devil\"], [\"The Best of Me\"], [\"Crazy Rich Asians\"], [\"The Little Prince\"], [\"The Little Prince\"], [\"Knock Knock\"], [\"Knock Knock\"], [\"Buried\"], [\"Buried\"], [\"Buried\"], [\"Get Hard\"], [\"Get Hard\"], [\"The Next Three Days\"], [\"Fences\"], [\"Fences\"], [\"Man on a Ledge\"], [\"Mary Poppins Returns\"], [\"The Space Between Us\"], [\"Project Almanac\"], [\"The Emoji Movie\"], [\"Safe Haven\"], [\"Safe Haven\"], [\"Immortals\"], [\"The First Time\"], [\"The First Time\"], [\"Ferdinand\"], [\"Puss in Boots\"], [\"Jackie\"], [\"Jackie\"], [\"Jackie\"], [\"Jackie\"], [\"Ouija: Origin of Evil\"], [\"Homefront\"], [\"Anchorman 2: The Legend Continues\"], [\"The Change-Up\"], [\"The Ides of March\"], [\"Inside Llewyn Davis\"], [\"Mommy\"], [\"Mommy\"], [\"Charlie St. Cloud\"], [\"The Lost City of Z\"], [\"Only God Forgives\"], [\"Hot Tub Time Machine\"], [\"Zoolander 2\"], [\"Colombiana\"], [\"Locke\"], [\"Inherent Vice\"], [\"ParaNorman\"], [\"Mr. Peabody & Sherman\"], [\"The Watch\"], [\"Selma\"], [\"Season of the Witch\"], [\"Trance\"], [\"Trance\"], [\"Trance\"], [\"Trance\"], [\"Trance\"], [\"Trance\"], [\"Paranormal Activity 2\"], [\"Patriots Day\"], [\"Movie 43\"], [\"Upgrade\"], [\"Upgrade\"], [\"It's Kind of a Funny Story\"], [\"The Master\"], [\"The Master\"], [\"The Master\"], [\"The Master\"], [\"Sicario: Day of the Soldado\"], [\"Green Room\"], [\"Killers\"], [\"Killers\"], [\"12 Strong\"], [\"Storks\"], [\"Insidious: The Last Key\"], [\"We Need to Talk About Kevin\"], [\"J. Edgar\"], [\"The Big Sick\"], [\"No Escape\"], [\"Hardcore Henry\"], [\"Never Let Me Go\"], [\"Never Let Me Go\"], [\"Gulliver's Travels\"], [\"Stoker\"], [\"3 Days to Kill\"], [\"Ride Along\"], [\"Ride Along\"], [\"What's Your Number?\"], [\"Anna Karenina\"], [\"Triple 9\"], [\"You're Next\"], [\"Step Up Revolution\"], [\"Den of Thieves\"], [\"Premium Rush\"], [\"Two Night Stand\"], [\"We Are Your Friends\"], [\"Aloha\"], [\"The Snowman\"], [\"Legend of the Guardians: The Owls of Ga'Hoole\"], [\"The Drop\"], [\"The Drop\"], [\"The Drop\"], [\"Last Vegas\"], [\"Eat Pray Love\"], [\"The Smurfs 2\"], [\"Victor Frankenstein\"], [\"Paranormal Activity 3\"], [\"Burlesque\"], [\"Burlesque\"], [\"Pride and Prejudice and Zombies\"], [\"Monte Carlo\"], [\"Office Christmas Party\"], [\"Eddie the Eagle\"], [\"Green Zone\"], [\"Alpha\"], [\"Alpha\"], [\"Alpha\"], [\"Alpha\"], [\"Blackhat\"], [\"The SpongeBob Movie: Sponge Out of Water\"], [\"The Darkest Minds\"], [\"Priest\"], [\"Attack the Block\"], [\"Sinister 2\"], [\"The Ghost Writer\"], [\"What to Expect When You're Expecting\"], [\"The Florida Project\"], [\"Jack and Jill\"], [\"Contraband\"], [\"Magic Mike XXL\"], [\"Seeking a Friend for the End of the World\"], [\"Killing Them Softly\"], [\"Midnight Special\"], [\"Youth\"], [\"Youth\"], [\"Youth\"], [\"To Rome with Love\"], [\"Rough Night\"], [\"Blair Witch\"], [\"Killer Elite\"], [\"I, Frankenstein\"], [\"I Feel Pretty\"], [\"The Foreigner\"], [\"The Foreigner\"], [\"The Foreigner\"], [\"Machete Kills\"], [\"Out of the Furnace\"], [\"A Wrinkle in Time\"], [\"The Counselor\"], [\"St. Vincent\"], [\"A Dangerous Method\"], [\"Regression\"], [\"The Invitation\"], [\"Let Me In\"], [\"Let Me In\"], [\"Tooth Fairy\"], [\"Alvin and the Chipmunks: Chipwrecked\"], [\"Krampus\"], [\"Battle of the Sexes\"], [\"A Bad Moms Christmas\"], [\"Before Midnight\"], [\"The Crazies\"], [\"Piranha 3D\"], [\"Paranormal Activity 4\"], [\"Leap!\"], [\"The Boxtrolls\"], [\"Hall Pass\"], [\"The Wolfman\"], [\"The Switch\"], [\"Dark Skies\"], [\"Lockout\"], [\"Hot Pursuit\"], [\"The Rite\"], [\"Leap Year\"], [\"Frozen\"], [\"Frozen\"], [\"Before We Go\"], [\"Before We Go\"], [\"Suffragette\"], [\"The Campaign\"], [\"The Campaign\"], [\"Get Him to the Greek\"], [\"I Spit on Your Grave\"], [\"Repo Men\"], [\"She's Out of My League\"], [\"Blockers\"], [\"Girls Trip\"], [\"Nebraska\"], [\"The Wedding Ringer\"], [\"Drive Angry\"], [\"Maggie\"], [\"Maggie\"], [\"The Forest\"], [\"The Forest\"], [\"The Forest\"], [\"The Night Before\"], [\"The Night Before\"], [\"The Night Before\"], [\"Dope\"], [\"Nanny McPhee Returns\"], [\"Philomena\"], [\"The Finest Hours\"], [\"The Infiltrator\"], [\"Widows\"], [\"Widows\"], [\"Ride Along 2\"], [\"Winter's Bone\"], [\"Anomalisa\"], [\"Sisters\"], [\"Sisters\"], [\"Sisters\"], [\"Sisters\"], [\"Sisters\"], [\"Sisters\"], [\"Dinner for Schmucks\"], [\"Mile 22\"], [\"The Incredible Burt Wonderstone\"], [\"The Possession\"], [\"Hunt for the Wilderpeople\"], [\"Scouts Guide to the Zombie Apocalypse\"], [\"Miss Sloane\"], [\"Brick Mansions\"], [\"The Nutcracker and the Four Realms\"], [\"A Ghost Story\"], [\"Child 44\"], [\"Paul Blart: Mall Cop 2\"], [\"The Iron Lady\"], [\"Faster\"], [\"The Peanuts Movie\"], [\"Zookeeper\"], [\"Winchester\"], [\"A Haunted House\"], [\"Dead Man Down\"], [\"Flipped\"], [\"Flipped\"], [\"Delivery Man\"], [\"Margin Call\"], [\"The Kids Are All Right\"], [\"Another Earth\"], [\"Alvin and the Chipmunks: The Road Chip\"], [\"The November Man\"], [\"Eye in the Sky\"], [\"Florence Foster Jenkins\"], [\"Hereafter\"], [\"Monsters\"], [\"Monsters\"], [\"Monsters\"], [\"The Losers\"], [\"The Losers\"], [\"August: Osage County\"], [\"Chernobyl Diaries\"], [\"The Transporter Refueled\"], [\"Skyline\"], [\"That's My Boy\"], [\"The Light Between Oceans\"], [\"The Muppets\"], [\"30 Minutes or Less\"], [\"The Boss\"], [\"Alexander and the Terrible, Horrible, No Good, Very Bad Day\"], [\"Broken City\"], [\"Here Comes the Boom\"], [\"Sex and the City 2\"], [\"The Legend of Hercules\"], [\"The 15:17 to Paris\"], [\"Cop Out\"], [\"Edge of Darkness\"], [\"A Most Violent Year\"], [\"Safety Not Guaranteed\"], [\"Free State of Jones\"], [\"Take Shelter\"], [\"Woman in Gold\"], [\"The Hundred-Foot Journey\"], [\"A Most Wanted Man\"], [\"The Gambler\"], [\"The Gambler\"], [\"The Gambler\"], [\"The Gambler\"], [\"The Gambler\"], [\"The Gambler\"], [\"The Gambler\"], [\"The Gambler\"], [\"Instant Family\"], [\"Stronger\"], [\"Stronger\"], [\"Stronger\"], [\"Texas Chainsaw 3D\"], [\"Paranormal Activity: The Ghost Dimension\"], [\"Submarine\"], [\"Runner Runner\"], [\"The Best Exotic Marigold Hotel\"], [\"Bachelorette\"], [\"Mustang\"], [\"Happy Feet Two\"], [\"Paranormal Activity: The Marked Ones\"], [\"Suspiria\"], [\"The Art of Getting By\"], [\"Haywire\"], [\"Amour\"], [\"The Five-Year Engagement\"], [\"My Week with Marilyn\"], [\"Diary of a Wimpy Kid\"], [\"Paterson\"], [\"Smurfs: The Lost Village\"], [\"Tammy\"], [\"The Darkest Hour\"], [\"The Darkest Hour\"], [\"You Again\"], [\"Super\"], [\"Super\"], [\"Super\"], [\"Morning Glory\"], [\"Peppermint\"], [\"Slender Man\"], [\"Slender Man\"], [\"Grudge Match\"], [\"Fist Fight\"], [\"Jonah Hex\"], [\"Killer Joe\"], [\"The Man Who Knew Infinity\"], [\"Veronica Mars\"], [\"All Eyez on Me\"], [\"The Eagle\"], [\"Wanderlust\"], [\"Wanderlust\"], [\"Wanderlust\"], [\"Wanderlust\"], [\"Arthur Christmas\"], [\"The American\"], [\"Wish Upon\"], [\"Soul Surfer\"], [\"Rock of Ages\"], [\"A Thousand Words\"], [\"The Water Diviner\"], [\"Bullet to the Head\"], [\"The Big Wedding\"], [\"The Bye Bye Man\"], [\"Fifty Shades of Black\"], [\"Larry Crowne\"], [\"Centurion\"], [\"Dream House\"], [\"Dream House\"], [\"Polisse\"], [\"Unsane\"], [\"Home Again\"], [\"Home Again\"], [\"Vampires Suck\"], [\"The Rum Diary\"], [\"Peter Rabbit\"], [\"The Spy Next Door\"], [\"Entourage\"], [\"Fruitvale Station\"], [\"Keanu\"], [\"Like Crazy\"], [\"Like Crazy\"], [\"The Hate U Give\"], [\"The Words\"], [\"Frances Ha\"], [\"Big Mommas: Like Father, Like Son\"], [\"Four Lions\"], [\"Robot & Frank\"], [\"The Green Inferno\"], [\"Camp X-Ray\"], [\"Trouble with the Curve\"], [\"Hop\"], [\"While We're Young\"], [\"Beasts of the Southern Wild\"], [\"Takers\"], [\"The Odd Life of Timothy Green\"], [\"Table 19\"], [\"Young Adult\"], [\"Tusk\"], [\"Smallfoot\"], [\"A Haunted House 2\"], [\"Whiskey Tango Foxtrot\"], [\"My Big Fat Greek Wedding 2\"], [\"Mary Queen of Scots\"], [\"Mary Queen of Scots\"], [\"Something Borrowed\"], [\"The Gallows\"], [\"A Hologram for the King\"], [\"Captain Underpants: The First Epic Movie\"], [\"Act of Valor\"], [\"The Gunman\"], [\"The Gunman\"], [\"13 Sins\"], [\"The Man with the Iron Fists\"], [\"The 33\"], [\"The Guard\"], [\"Don't Be Afraid of the Dark\"], [\"The Fifth Estate\"], [\"Biutiful\"], [\"Labor Day\"], [\"Free Fire\"], [\"Beginners\"], [\"Loving\"], [\"The Nut Job\"], [\"Palo Alto\"], [\"Our Idiot Brother\"], [\"The Last Exorcism\"], [\"On the Road\"], [\"On the Road\"], [\"On the Road\"], [\"On the Road\"], [\"On the Road\"], [\"On the Road\"], [\"Sanctum\"], [\"Hot Tub Time Machine 2\"], [\"Legend\"]], \"hoverlabel\": {\"namelength\": 0}, \"hovertemplate\": \"production_budget=%{x}<br>vote_average=%{y}<br>domestic_gross=%{marker.size}<br>primary_title=%{customdata[0]}\", \"legendgroup\": \"\", \"marker\": {\"color\": \"#636efa\", \"size\": [292576195, 363070709, 188017894, 333172112, 162805434, 408010692, 153636354, 652270625, 408084349, 678815482, 448139099, 325100054, 459005868, 176654505, 181030624, 128012934, 232641920, 116900694, 312433331, 228433663, 303003568, 330360194, 180202163, 334201140, 315058289, 424668047, 183637894, 183637894, 259746958, 327481748, 102427862, 167767189, 304360277, 262030663, 91125143, 100546139, 100546139, 128261724, 222527828, 206362140, 337135885, 43037835, 233921534, 251513985, 151101803, 126573960, 126573960, 341268248, 117723989, 117723989, 291045518, 274092705, 190068280, 202359711, 324591735, 124987022, 209726015, 209726015, 241063875, 255119788, 106954678, 155442489, 415004880, 150947895, 241407328, 237282182, 237282182, 59076019, 54117416, 100206256, 107825862, 25440971, 486295561, 189412677, 258366855, 218665740, 350126372, 132092958, 101802906, 216303339, 217581232, 281723902, 48071303, 229024295, 126477084, 336045770, 368065385, 176760185, 63859435, 202853933, 404508916, 208545589, 137690172, 172558876, 89107235, 89107235, 65075540, 66486205, 200074175, 92054159, 56671993, 67209615, 138447667, 166167230, 35893537, 200821936, 186848418, 81697192, 268488329, 608581744, 225764765, 79249455, 79249455, 216648740, 37553932, 254464305, 228778661, 132556852, 335061807, 96962694, 168052812, 417719760, 56245075, 17742948, 137400141, 32381218, 188024361, 188024361, 61002302, 177002924, 100234838, 14677674, 54513740, 93050117, 93050117, 368384330, 155136755, 146880162, 150394119, 174340174, 191719337, 136025503, 155190832, 148313048, 31569268, 101530738, 74262031, 27298285, 352390543, 45055776, 45055776, 300531751, 159555901, 58236838, 245439076, 64473115, 58060186, 4563029, 169607287, 70259870, 103068524, 55802754, 72082999, 93436322, 93436322, 161321843, 85463309, 150086800, 150086800, 150086800, 150086800, 54712227, 27108272, 114434010, 46889293, 18335230, 150117807, 67349198, 47482519, 175003033, 72313754, 58250803, 270329045, 210031325, 116601172, 158848340, 36261763, 97670358, 65001093, 81476385, 85028192, 79727149, 10663357, 42073277, 58401464, 80070736, 60522097, 40479370, 73864507, 73864507, 66380662, 264624300, 126643061, 98927592, 47225655, 191450875, 139854287, 109767581, 109767581, 109767581, 15323921, 102515793, 56816662, 56816662, 132422809, 169705587, 127004179, 125070033, 103144286, 107136417, 122523060, 34343574, 34343574, 34343574, 187168425, 48958273, 42629776, 238736787, 117538559, 213767512, 56117548, 154696080, 51739495, 51739495, 51739495, 77042381, 89302115, 28795985, 71562550, 143619809, 143619809, 143619809, 55991880, 103412758, 34912982, 51573925, 148415853, 113203870, 165249063, 19019882, 162192920, 184296230, 32000304, 93772375, 54009150, 61737191, 113746621, 100407760, 950792, 85080171, 94835059, 14674077, 52421953, 123477607, 86260045, 46874505, 89256424, 65187603, 216391482, 75764672, 84273813, 73058679, 39175066, 31016021, 130168683, 77591831, 65233400, 118311368, 55683845, 104386950, 169700110, 47695371, 162001186, 40826341, 102092201, 176591618, 90815558, 49275340, 123087120, 127440871, 67631157, 68559554, 25379975, 45090374, 59650222, 55121623, 45512466, 37412945, 37412945, 26004851, 31090320, 100539043, 54731865, 54731865, 143528619, 25138705, 31165421, 65014513, 30014534, 79042440, 145443742, 100292856, 128002372, 128002372, 128002372, 128002372, 63150991, 39322544, 42025135, 50701325, 58697076, 55340730, 73103784, 171243005, 25135965, 13414714, 21488481, 169211718, 21403519, 45157105, 45157105, 40098064, 69179066, 69179066, 56451232, 56451232, 56451232, 56451232, 56451232, 36392502, 56443120, 24477704, 50474843, 77222099, 38543473, 56758835, 80014842, 35593113, 65206105, 65206105, 65206105, 65206105, 44672764, 62495645, 70662220, 70662220, 70662220, 61433527, 113257297, 152901115, 62524260, 54445357, 17766658, 105487148, 30824628, 105487148, 30824628, 105487148, 30824628, 105487148, 30824628, 95720716, 46000903, 81903458, 14124286, 60323786, 44069456, 27007844, 34121140, 83670083, 159581587, 64063008, 21587519, 127195589, 71628180, 71628180, 71628180, 71628180, 71628180, 71628180, 71628180, 125014030, 36343858, 43568507, 43034523, 92186262, 92186262, 75612460, 47119388, 47119388, 31153464, 30080225, 93617009, 42345531, 30353973, 44936545, 44936545, 125095601, 51580136, 83350911, 182207973, 75605492, 33700160, 115637895, 115637895, 115715889, 134506920, 78031620, 14431633, 67268835, 67268835, 67268835, 67268835, 62950384, 27367660, 13657115, 13657115, 51342000, 119219978, 68420120, 14482031, 14482031, 103860290, 80069458, 131772187, 25020758, 12241072, 54333290, 60128566, 142614158, 35016118, 35016118, 15024049, 13843771, 13843771, 13843771, 64935167, 34366783, 54760791, 12786053, 133668525, 16170632, 16170632, 102084362, 38362475, 19068240, 19068240, 19068240, 19068240, 23169033, 83299761, 161197785, 33618855, 63686397, 26403, 63686397, 26403, 51774002, 24801212, 24801212, 48023088, 62575678, 32789645, 60457138, 37519139, 1333124, 126181630, 126181630, 126181630, 33404871, 52000688, 12711491, 18656400, 40259119, 58884188, 21218403, 3740823, 55483770, 81562942, 81562942, 81562942, 81562942, 81562942, 38322743, 38322743, 37446117, 110485654, 10161183, 10161183, 76223578, 98780042, 21120616, 24449754, 38052832, 104897530, 37662162, 148438600, 153707064, 17616641, 26593646, 82051601, 41012075, 26844692, 113721571, 79883359, 69488745, 86208010, 13651946, 13651946, 336472, 8406711, 131538435, 6852971, 28087155, 28087155, 28087155, 28087155, 28087155, 4210454, 44667095, 44667095, 44667095, 27793018, 51872378, 51872378, 51872378, 41003371, 22467450, 26068955, 83028130, 53548586, 14439985, 15951040, 27865571, 27695246, 98711404, 110212700, 13305665, 13305665, 46290741, 53032453, 42587643, 35088320, 12050299, 12050299, 50577412, 26017685, 35287788, 26461644, 119793567, 9737892, 29121498, 167500092, 107518682, 50856010, 7696134, 37397291, 37397291, 102118, 102118, 102118, 102118, 102118, 102118, 3030848, 3030848, 27778642, 67061228, 58709717, 16131410, 38180928, 4002293, 36249674, 21590086, 78046570, 6758416, 46009673, 17725785, 58009200, 75624550, 82624961, 82624961, 33679655, 26766213, 174532921, 1311213, 1311213, 36336, 36336, 1044143, 1044143, 1044143, 90411453, 90411453, 21148651, 57682904, 57682904, 18620000, 171958438, 7885294, 22348241, 86089513, 71399120, 71399120, 83504017, 17061, 17061, 84410380, 149260504, 13960394, 13960394, 13960394, 13960394, 35144505, 20158492, 127352707, 37243418, 40962534, 13248209, 3498695, 3498695, 31206263, 8574339, 775849, 50269859, 28848693, 36665854, 1370646, 8110975, 56003051, 111506430, 34353000, 52076908, 24827228, 2322593, 0, 2322593, 0, 2322593, 0, 84752907, 31886361, 8840453, 11977130, 11977130, 6363628, 16247159, 16247159, 16247159, 16247159, 50065850, 3220371, 47059963, 47059963, 45819713, 72679278, 67745330, 1738692, 37306030, 42872467, 27288872, 9252038, 2434652, 2434652, 42779261, 1703125, 30697999, 134202565, 134202565, 14011084, 12816367, 12639297, 18494006, 35074677, 44947622, 20275446, 15600, 3591417, 21052030, 6670765, 55675313, 10724389, 10724389, 10724389, 63914167, 80574010, 71017784, 5775076, 104028807, 39440655, 39440655, 10907291, 23186769, 54767494, 15789389, 35497337, 35851379, 35851379, 35851379, 35851379, 8005980, 162994032, 12695691, 29136626, 1024175, 27740955, 15541549, 41152203, 5904366, 74158157, 66528000, 66013057, 7078738, 14945541, 3712282, 2703296, 2703296, 2703296, 16684352, 22105643, 20777061, 25124986, 19075290, 48795601, 34393507, 34393507, 34393507, 8008161, 11330849, 100478608, 16973715, 44137712, 5702083, 55039, 231738, 12134935, 12134935, 60022256, 133107389, 42725475, 12638526, 72110659, 8110621, 39123589, 25003155, 53900335, 21858070, 50837305, 45060734, 62189884, 27758465, 17418667, 14326865, 34580201, 33047633, 25918920, 400738009, 400738009, 37151, 37151, 4702420, 86907746, 86907746, 61153526, 93051, 13942007, 32010860, 60311495, 115108515, 17654912, 64460211, 10721033, 187112, 187112, 26594261, 26594261, 26594261, 43035725, 43035725, 43035725, 17506470, 29197642, 37709979, 27569558, 15436808, 42402632, 42402632, 90862685, 6531503, 3759286, 87044645, 87044645, 87044645, 87044645, 87044645, 87044645, 73026337, 36108758, 22537881, 49130588, 5205471, 3703046, 3500605, 20396829, 54858851, 1594798, 1224330, 71091594, 29959436, 23240020, 130178411, 80360866, 25091816, 40041683, 10895295, 1755212, 1755212, 30659817, 5353586, 20811365, 1321194, 85886987, 25018119, 18704596, 27383770, 32746941, 237301, 237301, 237301, 23591432, 23591432, 37738810, 18119640, 16029670, 21416355, 36931089, 12545979, 88625922, 37053924, 63077560, 66954149, 19701164, 45290318, 95347692, 18848538, 36276286, 44875481, 43313890, 5749134, 4010957, 20810036, 1728953, 33307793, 54235441, 17237855, 33680992, 51773, 33680992, 51773, 33680992, 51773, 33680992, 51773, 67363237, 4211129, 4211129, 4211129, 34341945, 18297124, 467602, 19316646, 46383639, 446770, 845464, 64006466, 32462372, 2483472, 1430241, 18942396, 6738954, 28700285, 14597405, 64003625, 2141423, 45020282, 84525432, 21443494, 21443494, 25702053, 327716, 327716, 327716, 31011732, 35418723, 30564825, 30564825, 29807260, 32187017, 10547117, 1291645, 3877922, 3322127, 44922302, 19490041, 17288155, 17288155, 17288155, 17288155, 46462469, 35606376, 14301505, 43853424, 38518613, 18450127, 4200117, 9489829, 21819348, 22395806, 11686940, 35608245, 123570, 21302340, 21302340, 176988, 7690044, 27020284, 27020284, 36661504, 13109815, 115234093, 24307106, 32363404, 16098998, 20591853, 3395391, 3395391, 29719483, 11494838, 4067398, 37915414, 310007, 3317468, 7192291, 9837, 35763137, 108085305, 7582065, 12795746, 57744720, 51853450, 3614896, 16311571, 1821983, 83240103, 17329487, 23083334, 59689605, 16468499, 16468499, 39046489, 22764410, 4212494, 73921000, 70012847, 10664749, 10664749, 9134, 15634090, 12227722, 5359774, 24046682, 3254172, 5101237, 13371528, 1799322, 5790894, 7710234, 64251538, 767732, 24814830, 41034350, 720828, 720828, 720828, 720828, 720828, 720828, 23209310, 12314651, 15502112], \"sizemode\": \"area\", \"sizeref\": 1697038.705, \"symbol\": \"circle\"}, \"mode\": \"markers\", \"name\": \"\", \"showlegend\": false, \"type\": \"scatter\", \"x\": [160000000, 58000000, 165000000, 170000000, 100000000, 80000000, 150000000, 215000000, 250000000, 300000000, 275000000, 175000000, 330600000, 140000000, 150000000, 80000000, 165000000, 100000000, 170000000, 108000000, 250000000, 250000000, 130000000, 175000000, 180000000, 130000000, 135000000, 135000000, 170000000, 35000000, 34000000, 61000000, 200000000, 220000000, 15000000, 47000000, 47000000, 94000000, 165000000, 150000000, 125000000, 30000000, 200000000, 69000000, 20000000, 40000000, 40000000, 150000000, 75000000, 75000000, 225000000, 110000000, 150000000, 190000000, 110000000, 120000000, 175000000, 175000000, 410600000, 250000000, 13000000, 178000000, 200000000, 85000000, 180000000, 185000000, 185000000, 31000000, 62000000, 178000000, 34000000, 13000000, 200000000, 165000000, 250000000, 50000000, 58000000, 21000000, 190000000, 55000000, 165000000, 160000000, 28000000, 300000000, 125000000, 74000000, 76000000, 93000000, 19500000, 200000000, 90000000, 170000000, 150000000, 230000000, 120000000, 120000000, 90000000, 30000000, 300000000, 185000000, 20000000, 40000000, 42000000, 40000000, 15000000, 260000000, 125000000, 61000000, 200000000, 200000000, 250000000, 27000000, 27000000, 130000000, 35000000, 80000000, 190000000, 115000000, 160000000, 40000000, 185000000, 170000000, 20000000, 13000000, 20000000, 8500000, 17000000, 17000000, 46000000, 145000000, 104000000, 13000000, 12000000, 120000000, 120000000, 75000000, 170000000, 152000000, 37000000, 84000000, 50000000, 44500000, 110000000, 85000000, 49000000, 55000000, 97000000, 5000000, 195000000, 20000000, 20000000, 68000000, 200000000, 91000000, 210000000, 3000000, 60000000, 40000000, 25000000, 28000000, 82000000, 35000000, 5000000, 170000000, 170000000, 95000000, 110000000, 18000000, 18000000, 18000000, 18000000, 32000000, 102000000, 55000000, 30000000, 18000000, 40000000, 92000000, 179000000, 125000000, 40000000, 90000000, 75000000, 125000000, 200000000, 185000000, 50000000, 19000000, 17000000, 68000000, 100000000, 150000000, 22500000, 30000000, 8000000, 60000000, 130000000, 180000000, 180000000, 180000000, 30000000, 75000000, 180000000, 70000000, 160000000, 200000000, 45000000, 37000000, 37000000, 37000000, 12000000, 90000000, 30000000, 30000000, 20000000, 25000000, 50000000, 60000000, 165000000, 55000000, 140000000, 75000000, 75000000, 75000000, 135000000, 10000000, 30000000, 165000000, 35000000, 275000000, 120000000, 87500000, 12000000, 12000000, 12000000, 170000000, 275000000, 28000000, 9000000, 90000000, 90000000, 90000000, 70000000, 145000000, 38000000, 30000000, 130000000, 125000000, 150000000, 40000000, 120000000, 29000000, 12000000, 31000000, 1500000, 110000000, 127000000, 55000000, 2000000, 23000000, 80000000, 2000000, 30000000, 135000000, 40000000, 69000000, 48000000, 195000000, 145000000, 40000000, 6500000, 275000000, 175000000, 36000000, 217000000, 130000000, 220000000, 130000000, 5000000, 155000000, 80000000, 8500000, 75000000, 10000000, 15000000, 40000000, 8000000, 15000000, 187500000, 50000000, 100000000, 90000000, 4000000, 25000000, 65000000, 13000000, 16000000, 40000000, 40000000, 20000000, 55000000, 65000000, 12000000, 12000000, 140000000, 3500000, 60000000, 140000000, 11000000, 10000000, 178000000, 19000000, 56200000, 56200000, 56200000, 56200000, 160000000, 100000000, 38000000, 60000000, 60000000, 35000000, 150000000, 35000000, 70000000, 45000000, 19000000, 32500000, 15000000, 150000000, 150000000, 106000000, 37000000, 37000000, 60000000, 60000000, 60000000, 60000000, 60000000, 75000000, 30000000, 5500000, 11000000, 110000000, 40000000, 50000000, 25000000, 11500000, 5000000, 5000000, 5000000, 5000000, 58000000, 50200000, 25000000, 25000000, 25000000, 156000000, 20000000, 175000000, 60000000, 40000000, 30000000, 210000000, 99000000, 210000000, 99000000, 210000000, 99000000, 210000000, 99000000, 52500000, 60000000, 50000000, 5000000, 38000000, 10000000, 12000000, 10000000, 150000000, 43000000, 105000000, 50000000, 102000000, 15000000, 15000000, 15000000, 15000000, 15000000, 15000000, 15000000, 30000000, 40000000, 66000000, 50000000, 37000000, 37000000, 61000000, 50000000, 50000000, 140000000, 22000000, 11000000, 65000000, 35000000, 60000000, 60000000, 40000000, 25000000, 132000000, 65000000, 50000000, 100000000, 65000000, 65000000, 50000000, 35000000, 70000000, 9000000, 5000000, 5000000, 5000000, 5000000, 20000000, 80000000, 25000000, 25000000, 50000000, 100000000, 125000000, 10000000, 10000000, 79000000, 58000000, 150000000, 100000000, 5000000, 15000000, 57500000, 110000000, 8000000, 8000000, 13500000, 15000000, 15000000, 15000000, 85000000, 15000000, 65000000, 15000000, 80000000, 8000000, 8000000, 77000000, 175000000, 16000000, 16000000, 16000000, 16000000, 80000000, 35000000, 28000000, 130000000, 40000000, 3700000, 40000000, 3700000, 57000000, 7000000, 7000000, 55000000, 53000000, 1000000, 25000000, 67500000, 7500000, 85000000, 85000000, 85000000, 18000000, 40000000, 11800000, 5000000, 30000000, 31000000, 40000000, 43000000, 140000000, 95000000, 95000000, 95000000, 95000000, 95000000, 11000000, 11000000, 34000000, 52000000, 35000000, 35000000, 55000000, 110000000, 10000000, 68000000, 10000000, 45000000, 42000000, 100000000, 125000000, 35000000, 12500000, 135000000, 27000000, 40000000, 7000000, 70000000, 13000000, 40000000, 20000000, 20000000, 1000000, 45000000, 130000000, 2500000, 35000000, 35000000, 35000000, 35000000, 35000000, 3000000, 16000000, 16000000, 16000000, 25000000, 12800000, 12800000, 12800000, 15000000, 35000000, 8000000, 135000000, 20000000, 28000000, 100000000, 17000000, 5000000, 55000000, 35000000, 35000000, 35000000, 45000000, 30000000, 40000000, 150000000, 30000000, 30000000, 60000000, 28000000, 39000000, 50000000, 78000000, 1000000, 42500000, 65000000, 100000000, 5000000, 60000000, 26000000, 26000000, 50000000, 50000000, 50000000, 50000000, 50000000, 50000000, 9400000, 9400000, 29000000, 45000000, 38000000, 18000000, 40000000, 6500000, 63000000, 10000000, 85000000, 8000000, 33000000, 95000000, 40000000, 50000000, 20000000, 20000000, 10000000, 26000000, 30000000, 77500000, 77500000, 2000000, 2000000, 1987650, 1987650, 1987650, 40000000, 40000000, 30000000, 24000000, 24000000, 42000000, 130000000, 30000000, 12000000, 50000000, 28000000, 28000000, 75000000, 2000000, 2000000, 111000000, 130000000, 9000000, 9000000, 9000000, 9000000, 9000000, 22000000, 50000000, 52000000, 23000000, 11000000, 4900000, 4900000, 44000000, 30000000, 4800000, 36000000, 50000000, 40000000, 2000000, 20000000, 60000000, 145000000, 55000000, 20000000, 40000000, 16000000, 950000, 16000000, 950000, 16000000, 950000, 3000000, 40000000, 10000000, 3000000, 3000000, 8000000, 37500000, 37500000, 37500000, 37500000, 35000000, 5000000, 75000000, 75000000, 35000000, 70000000, 10000000, 7000000, 35000000, 5000000, 5000000, 2000000, 15000000, 15000000, 112000000, 12000000, 28000000, 25000000, 25000000, 20000000, 49000000, 20000000, 1000000, 33000000, 30000000, 35000000, 1600000, 2000000, 37000000, 35000000, 100000000, 12600000, 12600000, 12600000, 28000000, 60000000, 110000000, 40000000, 5000000, 55000000, 55000000, 28000000, 20000000, 45000000, 23000000, 100000000, 51000000, 51000000, 51000000, 51000000, 70000000, 74000000, 34000000, 60000000, 13000000, 10000000, 45000000, 37500000, 2000000, 79000000, 25000000, 14500000, 10000000, 15000000, 18000000, 13000000, 13000000, 13000000, 21500000, 20000000, 10000000, 70000000, 65000000, 32000000, 35000000, 35000000, 35000000, 20000000, 22000000, 103000000, 25000000, 13000000, 20000000, 20000000, 1000000, 20000000, 20000000, 48000000, 80000000, 15000000, 25000000, 28000000, 3000000, 19000000, 24000000, 5000000, 30000000, 60000000, 68000000, 150000000, 19000000, 3500000, 20000000, 35000000, 37000000, 19000000, 150000000, 150000000, 3000000, 3000000, 14000000, 95000000, 95000000, 40000000, 1750000, 32000000, 20000000, 21000000, 28000000, 12000000, 23000000, 50000000, 4500000, 4500000, 10000000, 10000000, 10000000, 25000000, 25000000, 25000000, 7000000, 35000000, 12000000, 70000000, 47500000, 40000000, 40000000, 40000000, 2000000, 8000000, 30000000, 30000000, 30000000, 30000000, 30000000, 30000000, 69000000, 35000000, 32000000, 14000000, 2500000, 15000000, 18000000, 28000000, 132900000, 100000, 50000000, 38000000, 14000000, 24000000, 99000000, 80000000, 3500000, 2500000, 30000000, 14000000, 14000000, 22000000, 3400000, 4000000, 175000, 90000000, 15000000, 13000000, 29000000, 50000000, 500000, 500000, 500000, 25000000, 25000000, 25000000, 1000000, 22000000, 10000000, 57500000, 20000000, 45000000, 28000000, 29000000, 28000000, 35000000, 42000000, 95000000, 70000000, 30000000, 37000000, 60000000, 20000000, 750000, 50000000, 4750000, 11000000, 22000000, 15000000, 25000000, 3000000, 25000000, 3000000, 25000000, 3000000, 25000000, 3000000, 48000000, 30000000, 30000000, 30000000, 20000000, 10000000, 1900000, 30000000, 10000000, 3000000, 1400000, 135000000, 5000000, 20000000, 4000000, 23000000, 9700000, 30000000, 10000000, 15000000, 5000000, 60000000, 20000000, 34800000, 34800000, 20000000, 2500000, 2500000, 2500000, 40000000, 25000000, 10000000, 10000000, 40000000, 25000000, 47000000, 10000000, 10000000, 6000000, 45000000, 25000000, 32500000, 32500000, 32500000, 32500000, 85000000, 20000000, 12000000, 18000000, 70000000, 40000000, 22500000, 55000000, 32500000, 7400000, 5000000, 30000000, 15000000, 50000000, 50000000, 8900000, 1500000, 15000000, 15000000, 20000000, 45000000, 50000000, 28000000, 30000000, 900000, 15000000, 250000, 250000, 23000000, 6000000, 3000000, 32000000, 3750000, 2500000, 1000000, 1000000, 60000000, 63000000, 10000000, 1800000, 32000000, 40000000, 5000000, 12000000, 3000000, 80000000, 4000000, 35000000, 18000000, 25000000, 25000000, 35000000, 100000, 35000000, 38000000, 12000000, 40000000, 40000000, 4000000, 15000000, 25000000, 6000000, 25000000, 26000000, 35000000, 18000000, 10000000, 3200000, 9000000, 30000000, 1000000, 5000000, 1800000, 25000000, 25000000, 25000000, 25000000, 25000000, 25000000, 30000000, 14000000, 25000000], \"xaxis\": \"x\", \"y\": [8.3, 7.6, 8.2, 7.9, 8.0, 7.1, 7.4, 6.6, 7.4, 8.3, 7.7, 5.9, 7.3, 6.9, 6.7, 8.1, 7.3, 7.9, 6.8, 7.7, 7.2, 5.8, 7.1, 7.4, 7.5, 7.4, 7.4, 7.4, 7.7, 7.2, 7.1, 7.9, 7.1, 6.5, 8.1, 7.4, 7.4, 7.6, 7.8, 6.7, 6.8, 7.2, 7.5, 7.2, 7.9, 6.3, 6.3, 7.7, 7.4, 7.4, 6.5, 7.2, 7.4, 6.7, 7.5, 7.3, 8.2, 8.2, 6.4, 7.3, 7.6, 6.5, 7.7, 6.9, 7.0, 6.9, 6.9, 8.0, 7.7, 7.6, 7.4, 7.6, 7.0, 7.3, 7.6, 6.3, 7.4, 7.1, 6.8, 8.1, 7.7, 6.8, 7.1, 6.2, 6.4, 6.4, 6.9, 7.2, 7.2, 6.4, 6.7, 7.3, 7.6, 6.6, 6.5, 6.5, 6.8, 6.8, 6.4, 7.4, 7.9, 8.1, 6.8, 5.4, 7.9, 7.5, 7.1, 6.6, 7.0, 7.6, 6.9, 7.1, 7.1, 7.0, 6.8, 6.4, 7.4, 6.3, 6.8, 7.2, 6.3, 6.5, 7.7, 7.8, 7.5, 7.7, 7.3, 7.3, 8.0, 7.7, 7.0, 8.1, 8.2, 6.4, 6.4, 6.1, 5.9, 7.0, 6.8, 8.0, 6.9, 7.2, 6.1, 6.9, 6.7, 7.2, 5.9, 7.9, 6.1, 7.8, 7.8, 6.0, 6.9, 7.1, 5.8, 6.2, 6.1, 6.8, 8.0, 7.3, 6.1, 6.6, 6.9, 6.2, 6.2, 6.3, 6.8, 6.2, 6.2, 6.2, 6.2, 7.2, 6.8, 6.1, 7.3, 7.0, 6.8, 5.2, 5.3, 6.4, 7.2, 6.3, 6.9, 7.2, 5.1, 6.7, 7.1, 5.6, 7.3, 6.1, 6.2, 5.9, 7.4, 6.5, 6.8, 6.4, 5.1, 6.6, 7.1, 7.1, 6.3, 6.3, 5.8, 6.2, 6.3, 5.9, 6.2, 7.3, 7.3, 7.3, 7.9, 7.3, 7.5, 7.5, 8.2, 8.1, 6.7, 7.1, 5.1, 7.6, 5.5, 5.9, 5.9, 5.9, 6.8, 7.3, 7.4, 6.1, 6.5, 6.6, 4.4, 4.4, 8.1, 8.1, 8.1, 6.5, 6.0, 6.4, 6.6, 6.6, 6.6, 6.6, 6.2, 7.3, 5.8, 6.3, 6.8, 6.1, 6.7, 7.2, 6.1, 6.8, 6.0, 6.7, 6.9, 6.6, 6.1, 6.1, 6.4, 8.3, 6.7, 6.5, 7.4, 6.6, 6.9, 6.5, 6.1, 5.6, 6.5, 7.1, 5.6, 6.1, 6.5, 7.2, 6.0, 6.8, 5.6, 6.3, 6.6, 6.3, 6.7, 7.5, 6.1, 8.2, 6.5, 6.3, 6.3, 7.6, 6.7, 6.3, 6.1, 5.9, 7.5, 6.5, 6.0, 6.3, 7.7, 6.5, 6.5, 6.7, 6.5, 6.3, 6.4, 6.4, 6.7, 6.6, 6.3, 5.7, 7.5, 6.3, 5.9, 5.5, 5.7, 5.7, 5.7, 5.7, 5.9, 6.1, 6.2, 5.6, 5.6, 5.7, 6.4, 7.2, 6.7, 6.7, 7.5, 6.5, 6.9, 5.8, 5.8, 6.7, 6.9, 6.9, 6.5, 6.5, 6.5, 6.5, 6.5, 6.0, 7.3, 5.9, 7.4, 6.3, 5.3, 6.2, 6.8, 5.8, 6.2, 6.2, 6.2, 6.2, 6.2, 6.6, 6.2, 6.2, 6.2, 6.7, 6.5, 6.7, 5.9, 6.2, 6.8, 6.3, 6.3, 6.3, 6.3, 6.3, 6.3, 6.3, 6.3, 6.9, 6.3, 7.0, 5.0, 6.2, 7.0, 7.3, 7.2, 5.6, 6.6, 5.9, 7.1, 6.5, 6.1, 6.1, 6.1, 6.1, 6.1, 6.1, 6.1, 7.1, 6.2, 6.1, 6.8, 7.1, 7.1, 6.5, 7.3, 7.3, 5.4, 5.9, 7.3, 5.7, 5.5, 7.1, 7.1, 7.4, 6.5, 6.4, 6.8, 7.1, 5.8, 7.4, 7.4, 6.7, 5.8, 5.9, 7.2, 6.3, 6.3, 6.3, 6.3, 7.2, 5.8, 7.8, 7.8, 6.7, 6.2, 6.1, 7.0, 7.0, 5.9, 6.2, 4.6, 6.6, 7.0, 6.1, 5.9, 5.6, 7.1, 7.1, 6.8, 7.2, 7.2, 7.2, 5.8, 7.7, 6.0, 7.0, 5.9, 7.2, 7.2, 6.4, 6.0, 7.1, 7.1, 7.1, 7.1, 5.4, 7.4, 7.7, 5.6, 6.6, 6.6, 6.6, 6.6, 4.8, 7.9, 7.9, 7.7, 6.4, 5.4, 6.9, 5.6, 6.6, 6.4, 6.4, 6.4, 7.0, 6.1, 7.4, 7.5, 6.6, 6.2, 5.6, 7.1, 6.2, 6.4, 6.4, 6.4, 6.4, 6.4, 7.3, 7.3, 7.5, 5.8, 6.9, 6.9, 7.0, 5.5, 7.2, 5.1, 6.1, 6.5, 5.9, 5.6, 6.6, 5.8, 6.3, 5.9, 6.4, 5.9, 6.1, 7.2, 5.8, 5.5, 6.4, 6.4, 7.6, 6.1, 6.3, 6.6, 5.8, 5.8, 5.8, 5.8, 5.8, 6.9, 7.4, 7.4, 7.4, 4.9, 6.7, 6.7, 6.7, 7.3, 5.6, 6.1, 6.1, 6.6, 6.0, 6.0, 6.1, 6.4, 6.0, 5.8, 6.6, 6.6, 6.7, 6.9, 6.0, 5.9, 5.9, 5.9, 6.1, 6.3, 6.8, 6.4, 6.4, 6.9, 6.3, 6.8, 6.4, 5.1, 5.4, 7.0, 7.0, 6.2, 6.2, 6.2, 6.2, 6.2, 6.2, 7.1, 7.1, 6.7, 5.7, 6.9, 6.1, 6.2, 7.0, 6.3, 7.0, 6.0, 7.6, 6.0, 5.3, 7.1, 6.7, 6.8, 6.8, 5.9, 7.3, 7.1, 7.6, 7.6, 5.0, 5.0, 6.6, 6.6, 6.6, 6.0, 6.0, 7.0, 6.8, 6.8, 6.3, 6.6, 7.1, 6.5, 5.4, 7.1, 7.1, 5.8, 7.0, 7.0, 7.1, 6.3, 6.4, 6.4, 6.4, 6.4, 6.0, 6.5, 6.1, 6.0, 6.7, 7.2, 8.3, 8.3, 6.9, 6.2, 5.8, 6.0, 4.7, 6.5, 6.9, 6.6, 6.8, 6.6, 5.4, 7.5, 5.3, 6.6, 6.6, 6.6, 6.6, 6.6, 6.6, 5.7, 6.9, 4.4, 7.4, 7.4, 7.0, 7.1, 7.1, 7.1, 7.1, 6.7, 6.8, 5.8, 5.8, 5.6, 6.5, 6.1, 7.6, 6.2, 7.4, 6.8, 6.2, 6.8, 6.8, 5.1, 6.6, 6.1, 6.2, 6.2, 6.4, 6.7, 5.8, 6.6, 6.8, 6.6, 6.2, 6.5, 6.3, 5.3, 5.1, 6.6, 6.7, 6.7, 6.7, 6.4, 6.0, 5.7, 5.8, 5.9, 7.1, 7.1, 5.7, 6.2, 5.6, 7.2, 6.4, 5.9, 5.9, 5.9, 5.9, 5.3, 5.7, 6.8, 5.5, 6.4, 5.8, 6.8, 5.9, 7.4, 4.1, 6.2, 6.2, 6.4, 6.0, 6.3, 6.9, 6.9, 6.9, 5.7, 5.6, 5.0, 6.2, 5.2, 6.4, 6.7, 6.7, 6.7, 5.5, 6.6, 5.0, 5.1, 7.1, 6.3, 5.5, 6.5, 6.7, 6.7, 5.3, 5.5, 6.0, 6.9, 6.3, 7.4, 6.2, 5.3, 5.4, 7.2, 6.7, 5.5, 5.7, 6.1, 6.1, 5.9, 5.6, 5.9, 6.7, 5.8, 5.8, 6.5, 6.5, 7.3, 5.7, 5.7, 5.9, 6.3, 6.2, 6.1, 6.1, 6.8, 7.4, 6.5, 5.3, 5.3, 5.3, 5.0, 5.0, 5.0, 6.1, 6.1, 6.1, 7.2, 6.1, 7.4, 6.4, 6.6, 6.5, 6.5, 6.2, 6.9, 7.1, 5.9, 5.9, 5.9, 5.9, 5.9, 5.9, 5.6, 6.0, 5.4, 5.9, 7.8, 6.2, 7.4, 5.9, 6.0, 7.0, 6.2, 5.0, 6.4, 6.2, 6.6, 5.3, 5.7, 5.5, 6.0, 7.4, 7.4, 6.2, 6.8, 6.6, 6.7, 5.8, 6.1, 7.1, 6.7, 5.9, 6.2, 6.2, 6.2, 6.2, 6.2, 6.9, 5.0, 5.4, 4.8, 5.5, 7.1, 6.6, 5.6, 5.8, 6.2, 5.9, 6.0, 5.9, 4.5, 5.3, 5.4, 6.3, 6.6, 6.9, 6.6, 7.2, 7.4, 7.3, 6.5, 5.8, 5.8, 5.8, 5.8, 5.8, 5.8, 5.8, 5.8, 7.6, 7.0, 7.0, 7.0, 5.3, 5.2, 7.4, 5.6, 6.9, 5.4, 8.0, 5.9, 5.3, 7.0, 6.5, 5.6, 7.7, 5.8, 6.7, 6.0, 7.1, 6.2, 5.2, 4.9, 4.9, 6.2, 6.6, 6.6, 6.6, 6.3, 6.5, 4.0, 4.0, 6.0, 6.0, 4.6, 6.5, 7.2, 6.7, 6.4, 6.1, 5.4, 5.4, 5.4, 5.4, 6.7, 5.8, 5.4, 7.0, 6.1, 6.1, 6.8, 5.4, 5.8, 5.1, 4.4, 5.8, 6.1, 6.0, 6.0, 7.8, 6.2, 5.9, 5.9, 4.1, 5.7, 6.5, 5.7, 6.2, 7.4, 6.0, 6.5, 6.5, 8.2, 6.6, 7.4, 5.5, 7.0, 6.9, 5.2, 6.8, 6.7, 5.6, 5.9, 6.9, 6.2, 6.7, 6.0, 5.7, 5.3, 6.6, 5.5, 6.2, 5.8, 6.6, 6.6, 6.1, 4.8, 5.9, 6.0, 6.3, 5.7, 5.7, 6.3, 5.3, 6.2, 6.9, 5.5, 5.9, 7.2, 6.9, 6.3, 6.9, 6.7, 5.6, 6.4, 6.1, 5.6, 5.6, 5.6, 5.6, 5.6, 5.6, 5.6, 5.9, 5.1, 6.2], \"yaxis\": \"y\"}, {\"hoverlabel\": {\"namelength\": 0}, \"hovertemplate\": \"<b>OLS trendline</b><br>vote_average = 0.000000 * production_budget + 6.454456<br>R<sup>2</sup>=0.001440<br><br>production_budget=%{x}<br>vote_average=%{y} <b>(trend)</b>\", \"legendgroup\": \"\", \"marker\": {\"color\": \"#636efa\", \"symbol\": \"circle\"}, \"mode\": \"lines\", \"name\": \"\", \"showlegend\": false, \"type\": \"scatter\", \"x\": [100000, 100000, 175000, 250000, 250000, 500000, 500000, 500000, 750000, 900000, 950000, 950000, 950000, 1000000, 1000000, 1000000, 1000000, 1000000, 1000000, 1000000, 1000000, 1000000, 1400000, 1500000, 1500000, 1600000, 1750000, 1800000, 1800000, 1900000, 1987650, 1987650, 1987650, 2000000, 2000000, 2000000, 2000000, 2000000, 2000000, 2000000, 2000000, 2000000, 2000000, 2000000, 2500000, 2500000, 2500000, 2500000, 2500000, 2500000, 2500000, 3000000, 3000000, 3000000, 3000000, 3000000, 3000000, 3000000, 3000000, 3000000, 3000000, 3000000, 3000000, 3000000, 3000000, 3000000, 3200000, 3400000, 3500000, 3500000, 3500000, 3700000, 3700000, 3750000, 4000000, 4000000, 4000000, 4000000, 4000000, 4500000, 4500000, 4750000, 4800000, 4900000, 4900000, 5000000, 5000000, 5000000, 5000000, 5000000, 5000000, 5000000, 5000000, 5000000, 5000000, 5000000, 5000000, 5000000, 5000000, 5000000, 5000000, 5000000, 5000000, 5000000, 5000000, 5000000, 5000000, 5000000, 5000000, 5000000, 5000000, 5500000, 6000000, 6000000, 6000000, 6500000, 6500000, 7000000, 7000000, 7000000, 7000000, 7000000, 7400000, 7500000, 8000000, 8000000, 8000000, 8000000, 8000000, 8000000, 8000000, 8000000, 8000000, 8000000, 8500000, 8500000, 8900000, 9000000, 9000000, 9000000, 9000000, 9000000, 9000000, 9000000, 9000000, 9400000, 9400000, 9700000, 10000000, 10000000, 10000000, 10000000, 10000000, 10000000, 10000000, 10000000, 10000000, 10000000, 10000000, 10000000, 10000000, 10000000, 10000000, 10000000, 10000000, 10000000, 10000000, 10000000, 10000000, 10000000, 10000000, 10000000, 10000000, 10000000, 10000000, 10000000, 10000000, 11000000, 11000000, 11000000, 11000000, 11000000, 11000000, 11000000, 11500000, 11800000, 12000000, 12000000, 12000000, 12000000, 12000000, 12000000, 12000000, 12000000, 12000000, 12000000, 12000000, 12000000, 12000000, 12000000, 12000000, 12000000, 12500000, 12600000, 12600000, 12600000, 12800000, 12800000, 12800000, 13000000, 13000000, 13000000, 13000000, 13000000, 13000000, 13000000, 13000000, 13000000, 13000000, 13000000, 13000000, 13500000, 14000000, 14000000, 14000000, 14000000, 14000000, 14000000, 14500000, 15000000, 15000000, 15000000, 15000000, 15000000, 15000000, 15000000, 15000000, 15000000, 15000000, 15000000, 15000000, 15000000, 15000000, 15000000, 15000000, 15000000, 15000000, 15000000, 15000000, 15000000, 15000000, 15000000, 15000000, 15000000, 15000000, 15000000, 15000000, 15000000, 15000000, 15000000, 15000000, 16000000, 16000000, 16000000, 16000000, 16000000, 16000000, 16000000, 16000000, 16000000, 16000000, 16000000, 17000000, 17000000, 17000000, 17000000, 18000000, 18000000, 18000000, 18000000, 18000000, 18000000, 18000000, 18000000, 18000000, 18000000, 18000000, 18000000, 19000000, 19000000, 19000000, 19000000, 19000000, 19000000, 19500000, 20000000, 20000000, 20000000, 20000000, 20000000, 20000000, 20000000, 20000000, 20000000, 20000000, 20000000, 20000000, 20000000, 20000000, 20000000, 20000000, 20000000, 20000000, 20000000, 20000000, 20000000, 20000000, 20000000, 20000000, 20000000, 20000000, 20000000, 20000000, 20000000, 20000000, 20000000, 20000000, 20000000, 20000000, 20000000, 20000000, 21000000, 21000000, 21500000, 22000000, 22000000, 22000000, 22000000, 22000000, 22000000, 22500000, 22500000, 23000000, 23000000, 23000000, 23000000, 23000000, 23000000, 24000000, 24000000, 24000000, 24000000, 25000000, 25000000, 25000000, 25000000, 25000000, 25000000, 25000000, 25000000, 25000000, 25000000, 25000000, 25000000, 25000000, 25000000, 25000000, 25000000, 25000000, 25000000, 25000000, 25000000, 25000000, 25000000, 25000000, 25000000, 25000000, 25000000, 25000000, 25000000, 25000000, 25000000, 25000000, 25000000, 25000000, 25000000, 25000000, 25000000, 25000000, 25000000, 25000000, 25000000, 25000000, 26000000, 26000000, 26000000, 26000000, 27000000, 27000000, 27000000, 28000000, 28000000, 28000000, 28000000, 28000000, 28000000, 28000000, 28000000, 28000000, 28000000, 28000000, 28000000, 28000000, 28000000, 28000000, 28000000, 28000000, 29000000, 29000000, 29000000, 29000000, 30000000, 30000000, 30000000, 30000000, 30000000, 30000000, 30000000, 30000000, 30000000, 30000000, 30000000, 30000000, 30000000, 30000000, 30000000, 30000000, 30000000, 30000000, 30000000, 30000000, 30000000, 30000000, 30000000, 30000000, 30000000, 30000000, 30000000, 30000000, 30000000, 30000000, 30000000, 30000000, 30000000, 30000000, 30000000, 30000000, 30000000, 30000000, 30000000, 30000000, 31000000, 31000000, 31000000, 32000000, 32000000, 32000000, 32000000, 32000000, 32000000, 32500000, 32500000, 32500000, 32500000, 32500000, 32500000, 33000000, 33000000, 34000000, 34000000, 34000000, 34000000, 34800000, 34800000, 35000000, 35000000, 35000000, 35000000, 35000000, 35000000, 35000000, 35000000, 35000000, 35000000, 35000000, 35000000, 35000000, 35000000, 35000000, 35000000, 35000000, 35000000, 35000000, 35000000, 35000000, 35000000, 35000000, 35000000, 35000000, 35000000, 35000000, 35000000, 35000000, 35000000, 35000000, 35000000, 35000000, 35000000, 35000000, 35000000, 35000000, 36000000, 36000000, 37000000, 37000000, 37000000, 37000000, 37000000, 37000000, 37000000, 37000000, 37000000, 37000000, 37000000, 37500000, 37500000, 37500000, 37500000, 37500000, 38000000, 38000000, 38000000, 38000000, 38000000, 38000000, 39000000, 40000000, 40000000, 40000000, 40000000, 40000000, 40000000, 40000000, 40000000, 40000000, 40000000, 40000000, 40000000, 40000000, 40000000, 40000000, 40000000, 40000000, 40000000, 40000000, 40000000, 40000000, 40000000, 40000000, 40000000, 40000000, 40000000, 40000000, 40000000, 40000000, 40000000, 40000000, 40000000, 40000000, 40000000, 40000000, 40000000, 40000000, 40000000, 40000000, 40000000, 40000000, 40000000, 40000000, 42000000, 42000000, 42000000, 42000000, 42500000, 43000000, 43000000, 44000000, 44500000, 45000000, 45000000, 45000000, 45000000, 45000000, 45000000, 45000000, 45000000, 45000000, 45000000, 45000000, 46000000, 47000000, 47000000, 47000000, 47500000, 48000000, 48000000, 48000000, 49000000, 49000000, 50000000, 50000000, 50000000, 50000000, 50000000, 50000000, 50000000, 50000000, 50000000, 50000000, 50000000, 50000000, 50000000, 50000000, 50000000, 50000000, 50000000, 50000000, 50000000, 50000000, 50000000, 50000000, 50000000, 50000000, 50000000, 50000000, 50000000, 50000000, 50000000, 50000000, 50000000, 50000000, 50200000, 51000000, 51000000, 51000000, 51000000, 52000000, 52000000, 52500000, 53000000, 55000000, 55000000, 55000000, 55000000, 55000000, 55000000, 55000000, 55000000, 55000000, 55000000, 55000000, 55000000, 55000000, 56200000, 56200000, 56200000, 56200000, 57000000, 57500000, 57500000, 58000000, 58000000, 58000000, 58000000, 60000000, 60000000, 60000000, 60000000, 60000000, 60000000, 60000000, 60000000, 60000000, 60000000, 60000000, 60000000, 60000000, 60000000, 60000000, 60000000, 60000000, 60000000, 60000000, 60000000, 60000000, 60000000, 60000000, 60000000, 61000000, 61000000, 61000000, 62000000, 63000000, 63000000, 65000000, 65000000, 65000000, 65000000, 65000000, 65000000, 65000000, 65000000, 65000000, 66000000, 67500000, 68000000, 68000000, 68000000, 68000000, 69000000, 69000000, 69000000, 70000000, 70000000, 70000000, 70000000, 70000000, 70000000, 70000000, 70000000, 70000000, 70000000, 70000000, 74000000, 74000000, 75000000, 75000000, 75000000, 75000000, 75000000, 75000000, 75000000, 75000000, 75000000, 75000000, 75000000, 75000000, 75000000, 76000000, 77000000, 77500000, 77500000, 78000000, 79000000, 79000000, 80000000, 80000000, 80000000, 80000000, 80000000, 80000000, 80000000, 80000000, 80000000, 80000000, 80000000, 82000000, 84000000, 85000000, 85000000, 85000000, 85000000, 85000000, 85000000, 85000000, 85000000, 87500000, 90000000, 90000000, 90000000, 90000000, 90000000, 90000000, 90000000, 90000000, 90000000, 91000000, 92000000, 93000000, 94000000, 95000000, 95000000, 95000000, 95000000, 95000000, 95000000, 95000000, 95000000, 95000000, 95000000, 97000000, 99000000, 99000000, 99000000, 99000000, 99000000, 100000000, 100000000, 100000000, 100000000, 100000000, 100000000, 100000000, 100000000, 100000000, 100000000, 100000000, 100000000, 100000000, 102000000, 102000000, 103000000, 104000000, 105000000, 106000000, 108000000, 110000000, 110000000, 110000000, 110000000, 110000000, 110000000, 110000000, 110000000, 110000000, 111000000, 112000000, 115000000, 120000000, 120000000, 120000000, 120000000, 120000000, 120000000, 120000000, 125000000, 125000000, 125000000, 125000000, 125000000, 125000000, 125000000, 125000000, 127000000, 130000000, 130000000, 130000000, 130000000, 130000000, 130000000, 130000000, 130000000, 130000000, 130000000, 130000000, 132000000, 132900000, 135000000, 135000000, 135000000, 135000000, 135000000, 135000000, 135000000, 140000000, 140000000, 140000000, 140000000, 140000000, 140000000, 145000000, 145000000, 145000000, 145000000, 150000000, 150000000, 150000000, 150000000, 150000000, 150000000, 150000000, 150000000, 150000000, 150000000, 150000000, 150000000, 150000000, 150000000, 150000000, 150000000, 150000000, 152000000, 155000000, 156000000, 160000000, 160000000, 160000000, 160000000, 160000000, 165000000, 165000000, 165000000, 165000000, 165000000, 165000000, 165000000, 170000000, 170000000, 170000000, 170000000, 170000000, 170000000, 170000000, 170000000, 170000000, 175000000, 175000000, 175000000, 175000000, 175000000, 175000000, 175000000, 178000000, 178000000, 178000000, 179000000, 180000000, 180000000, 180000000, 180000000, 180000000, 180000000, 185000000, 185000000, 185000000, 185000000, 185000000, 187500000, 190000000, 190000000, 190000000, 195000000, 195000000, 200000000, 200000000, 200000000, 200000000, 200000000, 200000000, 200000000, 200000000, 200000000, 200000000, 210000000, 210000000, 210000000, 210000000, 210000000, 215000000, 217000000, 220000000, 220000000, 225000000, 230000000, 250000000, 250000000, 250000000, 250000000, 250000000, 250000000, 260000000, 275000000, 275000000, 275000000, 275000000, 300000000, 300000000, 300000000, 330600000, 410600000], \"xaxis\": \"x\", \"y\": [6.454503990675193, 6.454503990675193, 6.454539862373419, 6.454575734071645, 6.454575734071645, 6.454695306399066, 6.454695306399066, 6.454695306399066, 6.454814878726487, 6.454886622122939, 6.454910536588423, 6.454910536588423, 6.454910536588423, 6.454934451053908, 6.454934451053908, 6.454934451053908, 6.454934451053908, 6.454934451053908, 6.454934451053908, 6.454934451053908, 6.454934451053908, 6.454934451053908, 6.455125766777781, 6.455173595708749, 6.455173595708749, 6.455221424639717, 6.45529316803617, 6.455317082501654, 6.455317082501654, 6.455364911432622, 6.455406833490616, 6.455406833490616, 6.455406833490616, 6.455412740363591, 6.455412740363591, 6.455412740363591, 6.455412740363591, 6.455412740363591, 6.455412740363591, 6.455412740363591, 6.455412740363591, 6.455412740363591, 6.455412740363591, 6.455412740363591, 6.455651885018432, 6.455651885018432, 6.455651885018432, 6.455651885018432, 6.455651885018432, 6.455651885018432, 6.455651885018432, 6.455891029673274, 6.455891029673274, 6.455891029673274, 6.455891029673274, 6.455891029673274, 6.455891029673274, 6.455891029673274, 6.455891029673274, 6.455891029673274, 6.455891029673274, 6.455891029673274, 6.455891029673274, 6.455891029673274, 6.455891029673274, 6.455891029673274, 6.45598668753521, 6.456082345397147, 6.4561301743281145, 6.4561301743281145, 6.4561301743281145, 6.456225832190052, 6.456225832190052, 6.456249746655535, 6.456369318982956, 6.456369318982956, 6.456369318982956, 6.456369318982956, 6.456369318982956, 6.456608463637798, 6.456608463637798, 6.456728035965218, 6.456751950430703, 6.456799779361671, 6.456799779361671, 6.456847608292639, 6.456847608292639, 6.456847608292639, 6.456847608292639, 6.456847608292639, 6.456847608292639, 6.456847608292639, 6.456847608292639, 6.456847608292639, 6.456847608292639, 6.456847608292639, 6.456847608292639, 6.456847608292639, 6.456847608292639, 6.456847608292639, 6.456847608292639, 6.456847608292639, 6.456847608292639, 6.456847608292639, 6.456847608292639, 6.456847608292639, 6.456847608292639, 6.456847608292639, 6.456847608292639, 6.456847608292639, 6.456847608292639, 6.457086752947481, 6.457325897602322, 6.457325897602322, 6.457325897602322, 6.457565042257164, 6.457565042257164, 6.457804186912005, 6.457804186912005, 6.457804186912005, 6.457804186912005, 6.457804186912005, 6.457995502635878, 6.458043331566847, 6.458282476221688, 6.458282476221688, 6.458282476221688, 6.458282476221688, 6.458282476221688, 6.458282476221688, 6.458282476221688, 6.458282476221688, 6.458282476221688, 6.458282476221688, 6.45852162087653, 6.45852162087653, 6.458712936600403, 6.4587607655313715, 6.4587607655313715, 6.4587607655313715, 6.4587607655313715, 6.4587607655313715, 6.4587607655313715, 6.4587607655313715, 6.4587607655313715, 6.458952081255244, 6.458952081255244, 6.459095568048149, 6.459239054841054, 6.459239054841054, 6.459239054841054, 6.459239054841054, 6.459239054841054, 6.459239054841054, 6.459239054841054, 6.459239054841054, 6.459239054841054, 6.459239054841054, 6.459239054841054, 6.459239054841054, 6.459239054841054, 6.459239054841054, 6.459239054841054, 6.459239054841054, 6.459239054841054, 6.459239054841054, 6.459239054841054, 6.459239054841054, 6.459239054841054, 6.459239054841054, 6.459239054841054, 6.459239054841054, 6.459239054841054, 6.459239054841054, 6.459239054841054, 6.459239054841054, 6.459239054841054, 6.459717344150737, 6.459717344150737, 6.459717344150737, 6.459717344150737, 6.459717344150737, 6.459717344150737, 6.459717344150737, 6.459956488805578, 6.460099975598483, 6.46019563346042, 6.46019563346042, 6.46019563346042, 6.46019563346042, 6.46019563346042, 6.46019563346042, 6.46019563346042, 6.46019563346042, 6.46019563346042, 6.46019563346042, 6.46019563346042, 6.46019563346042, 6.46019563346042, 6.46019563346042, 6.46019563346042, 6.46019563346042, 6.460434778115261, 6.46048260704623, 6.46048260704623, 6.46048260704623, 6.4605782649081664, 6.4605782649081664, 6.4605782649081664, 6.460673922770103, 6.460673922770103, 6.460673922770103, 6.460673922770103, 6.460673922770103, 6.460673922770103, 6.460673922770103, 6.460673922770103, 6.460673922770103, 6.460673922770103, 6.460673922770103, 6.460673922770103, 6.460913067424944, 6.461152212079786, 6.461152212079786, 6.461152212079786, 6.461152212079786, 6.461152212079786, 6.461152212079786, 6.4613913567346275, 6.461630501389469, 6.461630501389469, 6.461630501389469, 6.461630501389469, 6.461630501389469, 6.461630501389469, 6.461630501389469, 6.461630501389469, 6.461630501389469, 6.461630501389469, 6.461630501389469, 6.461630501389469, 6.461630501389469, 6.461630501389469, 6.461630501389469, 6.461630501389469, 6.461630501389469, 6.461630501389469, 6.461630501389469, 6.461630501389469, 6.461630501389469, 6.461630501389469, 6.461630501389469, 6.461630501389469, 6.461630501389469, 6.461630501389469, 6.461630501389469, 6.461630501389469, 6.461630501389469, 6.461630501389469, 6.461630501389469, 6.461630501389469, 6.462108790699151, 6.462108790699151, 6.462108790699151, 6.462108790699151, 6.462108790699151, 6.462108790699151, 6.462108790699151, 6.462108790699151, 6.462108790699151, 6.462108790699151, 6.462108790699151, 6.462587080008834, 6.462587080008834, 6.462587080008834, 6.462587080008834, 6.463065369318517, 6.463065369318517, 6.463065369318517, 6.463065369318517, 6.463065369318517, 6.463065369318517, 6.463065369318517, 6.463065369318517, 6.463065369318517, 6.463065369318517, 6.463065369318517, 6.463065369318517, 6.4635436586282005, 6.4635436586282005, 6.4635436586282005, 6.4635436586282005, 6.4635436586282005, 6.4635436586282005, 6.463782803283042, 6.4640219479378835, 6.4640219479378835, 6.4640219479378835, 6.4640219479378835, 6.4640219479378835, 6.4640219479378835, 6.4640219479378835, 6.4640219479378835, 6.4640219479378835, 6.4640219479378835, 6.4640219479378835, 6.4640219479378835, 6.4640219479378835, 6.4640219479378835, 6.4640219479378835, 6.4640219479378835, 6.4640219479378835, 6.4640219479378835, 6.4640219479378835, 6.4640219479378835, 6.4640219479378835, 6.4640219479378835, 6.4640219479378835, 6.4640219479378835, 6.4640219479378835, 6.4640219479378835, 6.4640219479378835, 6.4640219479378835, 6.4640219479378835, 6.4640219479378835, 6.4640219479378835, 6.4640219479378835, 6.4640219479378835, 6.4640219479378835, 6.4640219479378835, 6.4640219479378835, 6.464500237247567, 6.464500237247567, 6.464739381902408, 6.46497852655725, 6.46497852655725, 6.46497852655725, 6.46497852655725, 6.46497852655725, 6.46497852655725, 6.46521767121209, 6.46521767121209, 6.465456815866932, 6.465456815866932, 6.465456815866932, 6.465456815866932, 6.465456815866932, 6.465456815866932, 6.465935105176615, 6.465935105176615, 6.465935105176615, 6.465935105176615, 6.466413394486298, 6.466413394486298, 6.466413394486298, 6.466413394486298, 6.466413394486298, 6.466413394486298, 6.466413394486298, 6.466413394486298, 6.466413394486298, 6.466413394486298, 6.466413394486298, 6.466413394486298, 6.466413394486298, 6.466413394486298, 6.466413394486298, 6.466413394486298, 6.466413394486298, 6.466413394486298, 6.466413394486298, 6.466413394486298, 6.466413394486298, 6.466413394486298, 6.466413394486298, 6.466413394486298, 6.466413394486298, 6.466413394486298, 6.466413394486298, 6.466413394486298, 6.466413394486298, 6.466413394486298, 6.466413394486298, 6.466413394486298, 6.466413394486298, 6.466413394486298, 6.466413394486298, 6.466413394486298, 6.466413394486298, 6.466413394486298, 6.466413394486298, 6.466413394486298, 6.466413394486298, 6.466891683795981, 6.466891683795981, 6.466891683795981, 6.466891683795981, 6.467369973105664, 6.467369973105664, 6.467369973105664, 6.467848262415347, 6.467848262415347, 6.467848262415347, 6.467848262415347, 6.467848262415347, 6.467848262415347, 6.467848262415347, 6.467848262415347, 6.467848262415347, 6.467848262415347, 6.467848262415347, 6.467848262415347, 6.467848262415347, 6.467848262415347, 6.467848262415347, 6.467848262415347, 6.467848262415347, 6.4683265517250295, 6.4683265517250295, 6.4683265517250295, 6.4683265517250295, 6.4688048410347125, 6.4688048410347125, 6.4688048410347125, 6.4688048410347125, 6.4688048410347125, 6.4688048410347125, 6.4688048410347125, 6.4688048410347125, 6.4688048410347125, 6.4688048410347125, 6.4688048410347125, 6.4688048410347125, 6.4688048410347125, 6.4688048410347125, 6.4688048410347125, 6.4688048410347125, 6.4688048410347125, 6.4688048410347125, 6.4688048410347125, 6.4688048410347125, 6.4688048410347125, 6.4688048410347125, 6.4688048410347125, 6.4688048410347125, 6.4688048410347125, 6.4688048410347125, 6.4688048410347125, 6.4688048410347125, 6.4688048410347125, 6.4688048410347125, 6.4688048410347125, 6.4688048410347125, 6.4688048410347125, 6.4688048410347125, 6.4688048410347125, 6.4688048410347125, 6.4688048410347125, 6.4688048410347125, 6.4688048410347125, 6.4688048410347125, 6.469283130344396, 6.469283130344396, 6.469283130344396, 6.469761419654079, 6.469761419654079, 6.469761419654079, 6.469761419654079, 6.469761419654079, 6.469761419654079, 6.47000056430892, 6.47000056430892, 6.47000056430892, 6.47000056430892, 6.47000056430892, 6.47000056430892, 6.470239708963762, 6.470239708963762, 6.470717998273445, 6.470717998273445, 6.470717998273445, 6.470717998273445, 6.471100629721191, 6.471100629721191, 6.471196287583128, 6.471196287583128, 6.471196287583128, 6.471196287583128, 6.471196287583128, 6.471196287583128, 6.471196287583128, 6.471196287583128, 6.471196287583128, 6.471196287583128, 6.471196287583128, 6.471196287583128, 6.471196287583128, 6.471196287583128, 6.471196287583128, 6.471196287583128, 6.471196287583128, 6.471196287583128, 6.471196287583128, 6.471196287583128, 6.471196287583128, 6.471196287583128, 6.471196287583128, 6.471196287583128, 6.471196287583128, 6.471196287583128, 6.471196287583128, 6.471196287583128, 6.471196287583128, 6.471196287583128, 6.471196287583128, 6.471196287583128, 6.471196287583128, 6.471196287583128, 6.471196287583128, 6.471196287583128, 6.471196287583128, 6.47167457689281, 6.47167457689281, 6.472152866202493, 6.472152866202493, 6.472152866202493, 6.472152866202493, 6.472152866202493, 6.472152866202493, 6.472152866202493, 6.472152866202493, 6.472152866202493, 6.472152866202493, 6.472152866202493, 6.472392010857335, 6.472392010857335, 6.472392010857335, 6.472392010857335, 6.472392010857335, 6.472631155512176, 6.472631155512176, 6.472631155512176, 6.472631155512176, 6.472631155512176, 6.472631155512176, 6.473109444821859, 6.473587734131542, 6.473587734131542, 6.473587734131542, 6.473587734131542, 6.473587734131542, 6.473587734131542, 6.473587734131542, 6.473587734131542, 6.473587734131542, 6.473587734131542, 6.473587734131542, 6.473587734131542, 6.473587734131542, 6.473587734131542, 6.473587734131542, 6.473587734131542, 6.473587734131542, 6.473587734131542, 6.473587734131542, 6.473587734131542, 6.473587734131542, 6.473587734131542, 6.473587734131542, 6.473587734131542, 6.473587734131542, 6.473587734131542, 6.473587734131542, 6.473587734131542, 6.473587734131542, 6.473587734131542, 6.473587734131542, 6.473587734131542, 6.473587734131542, 6.473587734131542, 6.473587734131542, 6.473587734131542, 6.473587734131542, 6.473587734131542, 6.473587734131542, 6.473587734131542, 6.473587734131542, 6.473587734131542, 6.473587734131542, 6.474544312750908, 6.474544312750908, 6.474544312750908, 6.474544312750908, 6.474783457405749, 6.475022602060591, 6.475022602060591, 6.475500891370274, 6.475740036025115, 6.475979180679957, 6.475979180679957, 6.475979180679957, 6.475979180679957, 6.475979180679957, 6.475979180679957, 6.475979180679957, 6.475979180679957, 6.475979180679957, 6.475979180679957, 6.475979180679957, 6.47645746998964, 6.476935759299323, 6.476935759299323, 6.476935759299323, 6.477174903954165, 6.477414048609005, 6.477414048609005, 6.477414048609005, 6.477892337918688, 6.477892337918688, 6.478370627228371, 6.478370627228371, 6.478370627228371, 6.478370627228371, 6.478370627228371, 6.478370627228371, 6.478370627228371, 6.478370627228371, 6.478370627228371, 6.478370627228371, 6.478370627228371, 6.478370627228371, 6.478370627228371, 6.478370627228371, 6.478370627228371, 6.478370627228371, 6.478370627228371, 6.478370627228371, 6.478370627228371, 6.478370627228371, 6.478370627228371, 6.478370627228371, 6.478370627228371, 6.478370627228371, 6.478370627228371, 6.478370627228371, 6.478370627228371, 6.478370627228371, 6.478370627228371, 6.478370627228371, 6.478370627228371, 6.478370627228371, 6.478466285090308, 6.4788489165380545, 6.4788489165380545, 6.4788489165380545, 6.4788489165380545, 6.479327205847738, 6.479327205847738, 6.479566350502579, 6.479805495157421, 6.480762073776786, 6.480762073776786, 6.480762073776786, 6.480762073776786, 6.480762073776786, 6.480762073776786, 6.480762073776786, 6.480762073776786, 6.480762073776786, 6.480762073776786, 6.480762073776786, 6.480762073776786, 6.480762073776786, 6.481336020948405, 6.481336020948405, 6.481336020948405, 6.481336020948405, 6.481718652396152, 6.481957797050994, 6.481957797050994, 6.482196941705835, 6.482196941705835, 6.482196941705835, 6.482196941705835, 6.483153520325201, 6.483153520325201, 6.483153520325201, 6.483153520325201, 6.483153520325201, 6.483153520325201, 6.483153520325201, 6.483153520325201, 6.483153520325201, 6.483153520325201, 6.483153520325201, 6.483153520325201, 6.483153520325201, 6.483153520325201, 6.483153520325201, 6.483153520325201, 6.483153520325201, 6.483153520325201, 6.483153520325201, 6.483153520325201, 6.483153520325201, 6.483153520325201, 6.483153520325201, 6.483153520325201, 6.4836318096348835, 6.4836318096348835, 6.4836318096348835, 6.484110098944567, 6.48458838825425, 6.48458838825425, 6.485544966873616, 6.485544966873616, 6.485544966873616, 6.485544966873616, 6.485544966873616, 6.485544966873616, 6.485544966873616, 6.485544966873616, 6.485544966873616, 6.486023256183299, 6.486740690147823, 6.486979834802664, 6.486979834802664, 6.486979834802664, 6.486979834802664, 6.487458124112347, 6.487458124112347, 6.487458124112347, 6.48793641342203, 6.48793641342203, 6.48793641342203, 6.48793641342203, 6.48793641342203, 6.48793641342203, 6.48793641342203, 6.48793641342203, 6.48793641342203, 6.48793641342203, 6.48793641342203, 6.489849570660762, 6.489849570660762, 6.490327859970445, 6.490327859970445, 6.490327859970445, 6.490327859970445, 6.490327859970445, 6.490327859970445, 6.490327859970445, 6.490327859970445, 6.490327859970445, 6.490327859970445, 6.490327859970445, 6.490327859970445, 6.490327859970445, 6.490806149280128, 6.491284438589811, 6.4915235832446525, 6.4915235832446525, 6.491762727899494, 6.492241017209177, 6.492241017209177, 6.492719306518859, 6.492719306518859, 6.492719306518859, 6.492719306518859, 6.492719306518859, 6.492719306518859, 6.492719306518859, 6.492719306518859, 6.492719306518859, 6.492719306518859, 6.492719306518859, 6.4936758851382255, 6.494632463757592, 6.495110753067275, 6.495110753067275, 6.495110753067275, 6.495110753067275, 6.495110753067275, 6.495110753067275, 6.495110753067275, 6.495110753067275, 6.4963064763414815, 6.497502199615689, 6.497502199615689, 6.497502199615689, 6.497502199615689, 6.497502199615689, 6.497502199615689, 6.497502199615689, 6.497502199615689, 6.497502199615689, 6.497980488925372, 6.498458778235055, 6.4989370675447375, 6.499415356854421, 6.499893646164104, 6.499893646164104, 6.499893646164104, 6.499893646164104, 6.499893646164104, 6.499893646164104, 6.499893646164104, 6.499893646164104, 6.499893646164104, 6.499893646164104, 6.50085022478347, 6.501806803402836, 6.501806803402836, 6.501806803402836, 6.501806803402836, 6.501806803402836, 6.502285092712518, 6.502285092712518, 6.502285092712518, 6.502285092712518, 6.502285092712518, 6.502285092712518, 6.502285092712518, 6.502285092712518, 6.502285092712518, 6.502285092712518, 6.502285092712518, 6.502285092712518, 6.502285092712518, 6.503241671331884, 6.503241671331884, 6.503719960641567, 6.5041982499512505, 6.504676539260934, 6.505154828570616, 6.506111407189982, 6.507067985809348, 6.507067985809348, 6.507067985809348, 6.507067985809348, 6.507067985809348, 6.507067985809348, 6.507067985809348, 6.507067985809348, 6.507067985809348, 6.507546275119031, 6.508024564428713, 6.509459432357763, 6.511850878906177, 6.511850878906177, 6.511850878906177, 6.511850878906177, 6.511850878906177, 6.511850878906177, 6.511850878906177, 6.514242325454592, 6.514242325454592, 6.514242325454592, 6.514242325454592, 6.514242325454592, 6.514242325454592, 6.514242325454592, 6.514242325454592, 6.515198904073958, 6.516633772003007, 6.516633772003007, 6.516633772003007, 6.516633772003007, 6.516633772003007, 6.516633772003007, 6.516633772003007, 6.516633772003007, 6.516633772003007, 6.516633772003007, 6.516633772003007, 6.517590350622372, 6.5180208110010875, 6.5190252185514215, 6.5190252185514215, 6.5190252185514215, 6.5190252185514215, 6.5190252185514215, 6.5190252185514215, 6.5190252185514215, 6.521416665099836, 6.521416665099836, 6.521416665099836, 6.521416665099836, 6.521416665099836, 6.521416665099836, 6.5238081116482505, 6.5238081116482505, 6.5238081116482505, 6.5238081116482505, 6.526199558196666, 6.526199558196666, 6.526199558196666, 6.526199558196666, 6.526199558196666, 6.526199558196666, 6.526199558196666, 6.526199558196666, 6.526199558196666, 6.526199558196666, 6.526199558196666, 6.526199558196666, 6.526199558196666, 6.526199558196666, 6.526199558196666, 6.526199558196666, 6.526199558196666, 6.527156136816031, 6.52859100474508, 6.529069294054763, 6.530982451293495, 6.530982451293495, 6.530982451293495, 6.530982451293495, 6.530982451293495, 6.533373897841909, 6.533373897841909, 6.533373897841909, 6.533373897841909, 6.533373897841909, 6.533373897841909, 6.533373897841909, 6.535765344390324, 6.535765344390324, 6.535765344390324, 6.535765344390324, 6.535765344390324, 6.535765344390324, 6.535765344390324, 6.535765344390324, 6.535765344390324, 6.538156790938739, 6.538156790938739, 6.538156790938739, 6.538156790938739, 6.538156790938739, 6.538156790938739, 6.538156790938739, 6.539591658867788, 6.539591658867788, 6.539591658867788, 6.540069948177471, 6.540548237487154, 6.540548237487154, 6.540548237487154, 6.540548237487154, 6.540548237487154, 6.540548237487154, 6.542939684035568, 6.542939684035568, 6.542939684035568, 6.542939684035568, 6.542939684035568, 6.544135407309776, 6.545331130583983, 6.545331130583983, 6.545331130583983, 6.547722577132397, 6.547722577132397, 6.550114023680813, 6.550114023680813, 6.550114023680813, 6.550114023680813, 6.550114023680813, 6.550114023680813, 6.550114023680813, 6.550114023680813, 6.550114023680813, 6.550114023680813, 6.554896916777642, 6.554896916777642, 6.554896916777642, 6.554896916777642, 6.554896916777642, 6.557288363326056, 6.558244941945422, 6.5596798098744715, 6.5596798098744715, 6.562071256422886, 6.5644627029713005, 6.574028489164959, 6.574028489164959, 6.574028489164959, 6.574028489164959, 6.574028489164959, 6.574028489164959, 6.578811382261788, 6.585985721907033, 6.585985721907033, 6.585985721907033, 6.585985721907033, 6.597942954649106, 6.597942954649106, 6.597942954649106, 6.612578607525404, 6.650841752300039], \"yaxis\": \"y\"}],\n",
       "                        {\"height\": 600, \"legend\": {\"itemsizing\": \"constant\", \"tracegroupgap\": 0}, \"margin\": {\"t\": 60}, \"template\": {\"data\": {\"bar\": [{\"error_x\": {\"color\": \"#2a3f5f\"}, \"error_y\": {\"color\": \"#2a3f5f\"}, \"marker\": {\"line\": {\"color\": \"#E5ECF6\", \"width\": 0.5}}, \"type\": \"bar\"}], \"barpolar\": [{\"marker\": {\"line\": {\"color\": \"#E5ECF6\", \"width\": 0.5}}, \"type\": \"barpolar\"}], \"carpet\": [{\"aaxis\": {\"endlinecolor\": \"#2a3f5f\", \"gridcolor\": \"white\", \"linecolor\": \"white\", \"minorgridcolor\": \"white\", \"startlinecolor\": \"#2a3f5f\"}, \"baxis\": {\"endlinecolor\": \"#2a3f5f\", \"gridcolor\": \"white\", \"linecolor\": \"white\", \"minorgridcolor\": \"white\", \"startlinecolor\": \"#2a3f5f\"}, \"type\": \"carpet\"}], \"choropleth\": [{\"colorbar\": {\"outlinewidth\": 0, \"ticks\": \"\"}, \"type\": \"choropleth\"}], \"contour\": [{\"colorbar\": {\"outlinewidth\": 0, \"ticks\": \"\"}, \"colorscale\": [[0.0, \"#0d0887\"], [0.1111111111111111, \"#46039f\"], [0.2222222222222222, \"#7201a8\"], [0.3333333333333333, \"#9c179e\"], [0.4444444444444444, \"#bd3786\"], [0.5555555555555556, \"#d8576b\"], [0.6666666666666666, \"#ed7953\"], [0.7777777777777778, \"#fb9f3a\"], [0.8888888888888888, \"#fdca26\"], [1.0, \"#f0f921\"]], \"type\": \"contour\"}], \"contourcarpet\": [{\"colorbar\": {\"outlinewidth\": 0, \"ticks\": \"\"}, \"type\": \"contourcarpet\"}], \"heatmap\": [{\"colorbar\": {\"outlinewidth\": 0, \"ticks\": \"\"}, \"colorscale\": [[0.0, \"#0d0887\"], [0.1111111111111111, \"#46039f\"], [0.2222222222222222, \"#7201a8\"], [0.3333333333333333, \"#9c179e\"], [0.4444444444444444, \"#bd3786\"], [0.5555555555555556, \"#d8576b\"], [0.6666666666666666, \"#ed7953\"], [0.7777777777777778, \"#fb9f3a\"], [0.8888888888888888, \"#fdca26\"], [1.0, \"#f0f921\"]], \"type\": \"heatmap\"}], \"heatmapgl\": [{\"colorbar\": {\"outlinewidth\": 0, \"ticks\": \"\"}, \"colorscale\": [[0.0, \"#0d0887\"], [0.1111111111111111, \"#46039f\"], [0.2222222222222222, \"#7201a8\"], [0.3333333333333333, \"#9c179e\"], [0.4444444444444444, \"#bd3786\"], [0.5555555555555556, \"#d8576b\"], [0.6666666666666666, \"#ed7953\"], [0.7777777777777778, \"#fb9f3a\"], [0.8888888888888888, \"#fdca26\"], [1.0, \"#f0f921\"]], \"type\": \"heatmapgl\"}], \"histogram\": [{\"marker\": {\"colorbar\": {\"outlinewidth\": 0, \"ticks\": \"\"}}, \"type\": \"histogram\"}], \"histogram2d\": [{\"colorbar\": {\"outlinewidth\": 0, \"ticks\": \"\"}, \"colorscale\": [[0.0, \"#0d0887\"], [0.1111111111111111, \"#46039f\"], [0.2222222222222222, \"#7201a8\"], [0.3333333333333333, \"#9c179e\"], [0.4444444444444444, \"#bd3786\"], [0.5555555555555556, \"#d8576b\"], [0.6666666666666666, \"#ed7953\"], [0.7777777777777778, \"#fb9f3a\"], [0.8888888888888888, \"#fdca26\"], [1.0, \"#f0f921\"]], \"type\": \"histogram2d\"}], \"histogram2dcontour\": [{\"colorbar\": {\"outlinewidth\": 0, \"ticks\": \"\"}, \"colorscale\": [[0.0, \"#0d0887\"], [0.1111111111111111, \"#46039f\"], [0.2222222222222222, \"#7201a8\"], [0.3333333333333333, \"#9c179e\"], [0.4444444444444444, \"#bd3786\"], [0.5555555555555556, \"#d8576b\"], [0.6666666666666666, \"#ed7953\"], [0.7777777777777778, \"#fb9f3a\"], [0.8888888888888888, \"#fdca26\"], [1.0, \"#f0f921\"]], \"type\": \"histogram2dcontour\"}], \"mesh3d\": [{\"colorbar\": {\"outlinewidth\": 0, \"ticks\": \"\"}, \"type\": \"mesh3d\"}], \"parcoords\": [{\"line\": {\"colorbar\": {\"outlinewidth\": 0, \"ticks\": \"\"}}, \"type\": \"parcoords\"}], \"scatter\": [{\"marker\": {\"colorbar\": {\"outlinewidth\": 0, \"ticks\": \"\"}}, \"type\": \"scatter\"}], \"scatter3d\": [{\"line\": {\"colorbar\": {\"outlinewidth\": 0, \"ticks\": \"\"}}, \"marker\": {\"colorbar\": {\"outlinewidth\": 0, \"ticks\": \"\"}}, \"type\": \"scatter3d\"}], \"scattercarpet\": [{\"marker\": {\"colorbar\": {\"outlinewidth\": 0, \"ticks\": \"\"}}, \"type\": \"scattercarpet\"}], \"scattergeo\": [{\"marker\": {\"colorbar\": {\"outlinewidth\": 0, \"ticks\": \"\"}}, \"type\": \"scattergeo\"}], \"scattergl\": [{\"marker\": {\"colorbar\": {\"outlinewidth\": 0, \"ticks\": \"\"}}, \"type\": \"scattergl\"}], \"scattermapbox\": [{\"marker\": {\"colorbar\": {\"outlinewidth\": 0, \"ticks\": \"\"}}, \"type\": \"scattermapbox\"}], \"scatterpolar\": [{\"marker\": {\"colorbar\": {\"outlinewidth\": 0, \"ticks\": \"\"}}, \"type\": \"scatterpolar\"}], \"scatterpolargl\": [{\"marker\": {\"colorbar\": {\"outlinewidth\": 0, \"ticks\": \"\"}}, \"type\": \"scatterpolargl\"}], \"scatterternary\": [{\"marker\": {\"colorbar\": {\"outlinewidth\": 0, \"ticks\": \"\"}}, \"type\": \"scatterternary\"}], \"surface\": [{\"colorbar\": {\"outlinewidth\": 0, \"ticks\": \"\"}, \"colorscale\": [[0.0, \"#0d0887\"], [0.1111111111111111, \"#46039f\"], [0.2222222222222222, \"#7201a8\"], [0.3333333333333333, \"#9c179e\"], [0.4444444444444444, \"#bd3786\"], [0.5555555555555556, \"#d8576b\"], [0.6666666666666666, \"#ed7953\"], [0.7777777777777778, \"#fb9f3a\"], [0.8888888888888888, \"#fdca26\"], [1.0, \"#f0f921\"]], \"type\": \"surface\"}], \"table\": [{\"cells\": {\"fill\": {\"color\": \"#EBF0F8\"}, \"line\": {\"color\": \"white\"}}, \"header\": {\"fill\": {\"color\": \"#C8D4E3\"}, \"line\": {\"color\": \"white\"}}, \"type\": \"table\"}]}, \"layout\": {\"annotationdefaults\": {\"arrowcolor\": \"#2a3f5f\", \"arrowhead\": 0, \"arrowwidth\": 1}, \"colorscale\": {\"diverging\": [[0, \"#8e0152\"], [0.1, \"#c51b7d\"], [0.2, \"#de77ae\"], [0.3, \"#f1b6da\"], [0.4, \"#fde0ef\"], [0.5, \"#f7f7f7\"], [0.6, \"#e6f5d0\"], [0.7, \"#b8e186\"], [0.8, \"#7fbc41\"], [0.9, \"#4d9221\"], [1, \"#276419\"]], \"sequential\": [[0.0, \"#0d0887\"], [0.1111111111111111, \"#46039f\"], [0.2222222222222222, \"#7201a8\"], [0.3333333333333333, \"#9c179e\"], [0.4444444444444444, \"#bd3786\"], [0.5555555555555556, \"#d8576b\"], [0.6666666666666666, \"#ed7953\"], [0.7777777777777778, \"#fb9f3a\"], [0.8888888888888888, \"#fdca26\"], [1.0, \"#f0f921\"]], \"sequentialminus\": [[0.0, \"#0d0887\"], [0.1111111111111111, \"#46039f\"], [0.2222222222222222, \"#7201a8\"], [0.3333333333333333, \"#9c179e\"], [0.4444444444444444, \"#bd3786\"], [0.5555555555555556, \"#d8576b\"], [0.6666666666666666, \"#ed7953\"], [0.7777777777777778, \"#fb9f3a\"], [0.8888888888888888, \"#fdca26\"], [1.0, \"#f0f921\"]]}, \"colorway\": [\"#636efa\", \"#EF553B\", \"#00cc96\", \"#ab63fa\", \"#FFA15A\", \"#19d3f3\", \"#FF6692\", \"#B6E880\", \"#FF97FF\", \"#FECB52\"], \"font\": {\"color\": \"#2a3f5f\"}, \"geo\": {\"bgcolor\": \"white\", \"lakecolor\": \"white\", \"landcolor\": \"#E5ECF6\", \"showlakes\": true, \"showland\": true, \"subunitcolor\": \"white\"}, \"hoverlabel\": {\"align\": \"left\"}, \"hovermode\": \"closest\", \"mapbox\": {\"style\": \"light\"}, \"paper_bgcolor\": \"white\", \"plot_bgcolor\": \"#E5ECF6\", \"polar\": {\"angularaxis\": {\"gridcolor\": \"white\", \"linecolor\": \"white\", \"ticks\": \"\"}, \"bgcolor\": \"#E5ECF6\", \"radialaxis\": {\"gridcolor\": \"white\", \"linecolor\": \"white\", \"ticks\": \"\"}}, \"scene\": {\"xaxis\": {\"backgroundcolor\": \"#E5ECF6\", \"gridcolor\": \"white\", \"gridwidth\": 2, \"linecolor\": \"white\", \"showbackground\": true, \"ticks\": \"\", \"zerolinecolor\": \"white\"}, \"yaxis\": {\"backgroundcolor\": \"#E5ECF6\", \"gridcolor\": \"white\", \"gridwidth\": 2, \"linecolor\": \"white\", \"showbackground\": true, \"ticks\": \"\", \"zerolinecolor\": \"white\"}, \"zaxis\": {\"backgroundcolor\": \"#E5ECF6\", \"gridcolor\": \"white\", \"gridwidth\": 2, \"linecolor\": \"white\", \"showbackground\": true, \"ticks\": \"\", \"zerolinecolor\": \"white\"}}, \"shapedefaults\": {\"line\": {\"color\": \"#2a3f5f\"}}, \"ternary\": {\"aaxis\": {\"gridcolor\": \"white\", \"linecolor\": \"white\", \"ticks\": \"\"}, \"baxis\": {\"gridcolor\": \"white\", \"linecolor\": \"white\", \"ticks\": \"\"}, \"bgcolor\": \"#E5ECF6\", \"caxis\": {\"gridcolor\": \"white\", \"linecolor\": \"white\", \"ticks\": \"\"}}, \"title\": {\"x\": 0.05}, \"xaxis\": {\"automargin\": true, \"gridcolor\": \"white\", \"linecolor\": \"white\", \"ticks\": \"\", \"zerolinecolor\": \"white\", \"zerolinewidth\": 2}, \"yaxis\": {\"automargin\": true, \"gridcolor\": \"white\", \"linecolor\": \"white\", \"ticks\": \"\", \"zerolinecolor\": \"white\", \"zerolinewidth\": 2}}}, \"xaxis\": {\"anchor\": \"y\", \"domain\": [0.0, 0.98], \"title\": {\"text\": \"production_budget\"}}, \"yaxis\": {\"anchor\": \"x\", \"domain\": [0.0, 1.0], \"title\": {\"text\": \"vote_average\"}}},\n",
       "                        {\"responsive\": true}\n",
       "                    ).then(function(){\n",
       "                            \n",
       "var gd = document.getElementById('947b33ae-b0be-46b1-a916-b4f6e53137c4');\n",
       "var x = new MutationObserver(function (mutations, observer) {{\n",
       "        var display = window.getComputedStyle(gd).display;\n",
       "        if (!display || display === 'none') {{\n",
       "            console.log([gd, 'removed!']);\n",
       "            Plotly.purge(gd);\n",
       "            observer.disconnect();\n",
       "        }}\n",
       "}});\n",
       "\n",
       "// Listen for the removal of the full notebook cells\n",
       "var notebookContainer = gd.closest('#notebook-container');\n",
       "if (notebookContainer) {{\n",
       "    x.observe(notebookContainer, {childList: true});\n",
       "}}\n",
       "\n",
       "// Listen for the clearing of the current output cell\n",
       "var outputEl = gd.closest('.output');\n",
       "if (outputEl) {{\n",
       "    x.observe(outputEl, {childList: true});\n",
       "}}\n",
       "\n",
       "                        })\n",
       "                };\n",
       "                });\n",
       "            </script>\n",
       "        </div>"
      ]
     },
     "metadata": {},
     "output_type": "display_data"
    }
   ],
   "source": [
    "#Graph of budget vs vote average\n",
    "print('Little Correlation Between Budget and Vote Average:')\n",
    "fig1 = px.scatter(df4, x='production_budget', y='vote_average',\n",
    "                size = 'domestic_gross', trendline = 'ols', \n",
    "                hover_data=['primary_title'])\n",
    "fig1.show();"
   ]
  },
  {
   "cell_type": "markdown",
   "metadata": {},
   "source": [
    "### Runtime:"
   ]
  },
  {
   "cell_type": "code",
   "execution_count": 130,
   "metadata": {
    "scrolled": false
   },
   "outputs": [
    {
     "name": "stdout",
     "output_type": "stream",
     "text": [
      "Ratings over Runtime\n",
      "Clear correlation between longer runtim and better rating\n"
     ]
    },
    {
     "data": {
      "application/vnd.plotly.v1+json": {
       "config": {
        "plotlyServerURL": "https://plot.ly"
       },
       "data": [
        {
         "customdata": [
          [
           "Inception"
          ],
          [
           "Deadpool"
          ],
          [
           "Interstellar"
          ],
          [
           "Guardians of the Galaxy"
          ],
          [
           "Django Unchained"
          ],
          [
           "The Hunger Games"
          ],
          [
           "Mad Max: Fury Road"
          ],
          [
           "Jurassic World"
          ],
          [
           "Captain America: Civil War"
          ],
          [
           "Avengers: Infinity War"
          ],
          [
           "The Dark Knight Rises"
          ],
          [
           "Suicide Squad"
          ],
          [
           "Avengers: Age of Ultron"
          ],
          [
           "Captain America: The First Avenger"
          ],
          [
           "Thor"
          ],
          [
           "Shutter Island"
          ],
          [
           "Doctor Strange"
          ],
          [
           "The Wolf of Wall Street"
          ],
          [
           "Iron Man 2"
          ],
          [
           "The Martian"
          ],
          [
           "The Hobbit: An Unexpected Journey"
          ],
          [
           "Batman v Superman: Dawn of Justice"
          ],
          [
           "Ant-Man"
          ],
          [
           "Spider-Man: Homecoming"
          ],
          [
           "Thor: Ragnarok"
          ],
          [
           "The Hunger Games: Catching Fire"
          ],
          [
           "The Revenant"
          ],
          [
           "The Revenant"
          ],
          [
           "Captain America: The Winter Soldier"
          ],
          [
           "It"
          ],
          [
           "The Maze Runner"
          ],
          [
           "Gone Girl"
          ],
          [
           "Skyfall"
          ],
          [
           "The Amazing Spider-Man"
          ],
          [
           "The Imitation Game"
          ],
          [
           "Arrival"
          ],
          [
           "Arrival"
          ],
          [
           "Kingsman: The Secret Service"
          ],
          [
           "Big Hero 6"
          ],
          [
           "Thor: The Dark World"
          ],
          [
           "The Hunger Games: Mockingjay - Part 1"
          ],
          [
           "John Wick"
          ],
          [
           "X-Men: Days of Future Past"
          ],
          [
           "Despicable Me"
          ],
          [
           "La La Land"
          ],
          [
           "Lucy"
          ],
          [
           "Lucy"
          ],
          [
           "Zootopia"
          ],
          [
           "Now You See Me"
          ],
          [
           "Now You See Me"
          ],
          [
           "Man of Steel"
          ],
          [
           "Gravity"
          ],
          [
           "Dunkirk"
          ],
          [
           "World War Z"
          ],
          [
           "Deadpool 2"
          ],
          [
           "Life of Pi"
          ],
          [
           "Coco"
          ],
          [
           "Coco"
          ],
          [
           "Pirates of the Caribbean: On Stranger Tides"
          ],
          [
           "The Hobbit: The Battle of the Five Armies"
          ],
          [
           "Black Swan"
          ],
          [
           "X-Men: Apocalypse"
          ],
          [
           "Toy Story 3"
          ],
          [
           "Divergent"
          ],
          [
           "Maleficent"
          ],
          [
           "Brave"
          ],
          [
           "Brave"
          ],
          [
           "The Grand Budapest Hotel"
          ],
          [
           "The Hateful Eight"
          ],
          [
           "Edge of Tomorrow"
          ],
          [
           "Baby Driver"
          ],
          [
           "Ex Machina"
          ],
          [
           "Finding Dory"
          ],
          [
           "Wreck-It Ralph"
          ],
          [
           "The Hobbit: The Desolation of Smaug"
          ],
          [
           "Ted"
          ],
          [
           "American Sniper"
          ],
          [
           "Silver Linings Playbook"
          ],
          [
           "Pacific Rim"
          ],
          [
           "Bohemian Rhapsody"
          ],
          [
           "How to Train Your Dragon"
          ],
          [
           "The Hunger Games: Mockingjay - Part 2"
          ],
          [
           "Kick-Ass"
          ],
          [
           "Justice League"
          ],
          [
           "Prometheus"
          ],
          [
           "Minions"
          ],
          [
           "Despicable Me 2"
          ],
          [
           "Rise of the Planet of the Apes"
          ],
          [
           "The Shape of Water"
          ],
          [
           "The Amazing Spider-Man 2"
          ],
          [
           "Jumanji: Welcome to the Jungle"
          ],
          [
           "Dawn of the Planet of the Apes"
          ],
          [
           "Ready Player One"
          ],
          [
           "Pirates of the Caribbean: Dead Men Tell No Tales"
          ],
          [
           "Oblivion"
          ],
          [
           "Oblivion"
          ],
          [
           "Now You See Me 2"
          ],
          [
           "Looper"
          ],
          [
           "Spectre"
          ],
          [
           "Blade Runner 2049"
          ],
          [
           "12 Years a Slave"
          ],
          [
           "Hacksaw Ridge"
          ],
          [
           "21 Jump Street"
          ],
          [
           "Fifty Shades of Grey"
          ],
          [
           "The Theory of Everything"
          ],
          [
           "Tangled"
          ],
          [
           "Sherlock Holmes: A Game of Shadows"
          ],
          [
           "Maze Runner: The Scorch Trials"
          ],
          [
           "Monsters University"
          ],
          [
           "Incredibles 2"
          ],
          [
           "The Fate of the Furious"
          ],
          [
           "Limitless"
          ],
          [
           "Limitless"
          ],
          [
           "Ant-Man and the Wasp"
          ],
          [
           "In Time"
          ],
          [
           "The Hangover Part II"
          ],
          [
           "Star Trek Into Darkness"
          ],
          [
           "The Wolverine"
          ],
          [
           "Aquaman"
          ],
          [
           "The Social Network"
          ],
          [
           "Kong: Skull Island"
          ],
          [
           "Jurassic World: Fallen Kingdom"
          ],
          [
           "Me Before You"
          ],
          [
           "The Perks of Being a Wallflower"
          ],
          [
           "The Conjuring"
          ],
          [
           "Nightcrawler"
          ],
          [
           "A Quiet Place"
          ],
          [
           "A Quiet Place"
          ],
          [
           "Prisoners"
          ],
          [
           "How to Train Your Dragon 2"
          ],
          [
           "Kingsman: The Golden Circle"
          ],
          [
           "Room"
          ],
          [
           "Three Billboards Outside Ebbing, Missouri"
          ],
          [
           "Elysium"
          ],
          [
           "Elysium"
          ],
          [
           "The Secret Life of Pets"
          ],
          [
           "Snow White and the Huntsman"
          ],
          [
           "War for the Planet of the Apes"
          ],
          [
           "We're the Millers"
          ],
          [
           "The Greatest Showman"
          ],
          [
           "22 Jump Street"
          ],
          [
           "Argo"
          ],
          [
           "San Andreas"
          ],
          [
           "Hotel Transylvania"
          ],
          [
           "Chappie"
          ],
          [
           "The Equalizer"
          ],
          [
           "Alien: Covenant"
          ],
          [
           "Dallas Buyers Club"
          ],
          [
           "Transformers: Dark of the Moon"
          ],
          [
           "Spotlight"
          ],
          [
           "Spotlight"
          ],
          [
           "The Twilight Saga: Eclipse"
          ],
          [
           "Fantastic Beasts: The Crimes of Grindelwald"
          ],
          [
           "The Secret Life of Walter Mitty"
          ],
          [
           "Transformers: Age of Extinction"
          ],
          [
           "The Purge"
          ],
          [
           "Baywatch"
          ],
          [
           "Snowpiercer"
          ],
          [
           "Hidden Figures"
          ],
          [
           "The Big Short"
          ],
          [
           "The Expendables"
          ],
          [
           "Friends with Benefits"
          ],
          [
           "10 Cloverfield Lane"
          ],
          [
           "Tomorrowland"
          ],
          [
           "Tomorrowland"
          ],
          [
           "Ice Age: Continental Drift"
          ],
          [
           "Real Steel"
          ],
          [
           "Neighbors"
          ],
          [
           "Neighbors"
          ],
          [
           "Neighbors"
          ],
          [
           "Neighbors"
          ],
          [
           "Source Code"
          ],
          [
           "Cloud Atlas"
          ],
          [
           "Fifty Shades Darker"
          ],
          [
           "Sicario"
          ],
          [
           "127 Hours"
          ],
          [
           "American Hustle"
          ],
          [
           "A Good Day to Die Hard"
          ],
          [
           "Jupiter Ascending"
          ],
          [
           "The Boss Baby"
          ],
          [
           "Bridge of Spies"
          ],
          [
           "Tomb Raider"
          ],
          [
           "Sing"
          ],
          [
           "Fast Five"
          ],
          [
           "Green Lantern"
          ],
          [
           "Star Trek Beyond"
          ],
          [
           "The Nice Guys"
          ],
          [
           "Sausage Party"
          ],
          [
           "Pitch Perfect"
          ],
          [
           "Ted 2"
          ],
          [
           "The Expendables 2"
          ],
          [
           "Dark Shadows"
          ],
          [
           "Nocturnal Animals"
          ],
          [
           "The Cabin in the Woods"
          ],
          [
           "Easy A"
          ],
          [
           "Jack Reacher"
          ],
          [
           "After Earth"
          ],
          [
           "Valerian and the City of a Thousand Planets"
          ],
          [
           "Hugo"
          ],
          [
           "Hugo"
          ],
          [
           "Warm Bodies"
          ],
          [
           "Despicable Me 3"
          ],
          [
           "The Legend of Tarzan"
          ],
          [
           "Olympus Has Fallen"
          ],
          [
           "Warcraft"
          ],
          [
           "Cars 2"
          ],
          [
           "Taken 2"
          ],
          [
           "Creed"
          ],
          [
           "Creed"
          ],
          [
           "Creed"
          ],
          [
           "About Time"
          ],
          [
           "The Girl with the Dragon Tattoo"
          ],
          [
           "Midnight in Paris"
          ],
          [
           "Midnight in Paris"
          ],
          [
           "Wonder"
          ],
          [
           "The Help"
          ],
          [
           "Super 8"
          ],
          [
           "Sully"
          ],
          [
           "Independence Day: Resurgence"
          ],
          [
           "Captain Phillips"
          ],
          [
           "G.I. Joe: Retaliation"
          ],
          [
           "Inferno"
          ],
          [
           "Inferno"
          ],
          [
           "Inferno"
          ],
          [
           "The Croods"
          ],
          [
           "Lady Bird"
          ],
          [
           "The Age of Adaline"
          ],
          [
           "Shrek Forever After"
          ],
          [
           "Horrible Bosses"
          ],
          [
           "Solo: A Star Wars Story"
          ],
          [
           "Fantastic Four"
          ],
          [
           "Fantastic Four"
          ],
          [
           "Lion"
          ],
          [
           "Lion"
          ],
          [
           "Lion"
          ],
          [
           "Alice Through the Looking Glass"
          ],
          [
           "The Lone Ranger"
          ],
          [
           "Kick-Ass 2"
          ],
          [
           "The Purge: Anarchy"
          ],
          [
           "Rio"
          ],
          [
           "Rio"
          ],
          [
           "Rio"
          ],
          [
           "Dracula Untold"
          ],
          [
           "Rise of the Guardians"
          ],
          [
           "The 5th Wave"
          ],
          [
           "Atomic Blonde"
          ],
          [
           "Megamind"
          ],
          [
           "The Bourne Legacy"
          ],
          [
           "Kung Fu Panda 2"
          ],
          [
           "The Impossible"
          ],
          [
           "Jason Bourne"
          ],
          [
           "Pitch Perfect 2"
          ],
          [
           "Paper Towns"
          ],
          [
           "Flight"
          ],
          [
           "Insidious"
          ],
          [
           "Ender's Game"
          ],
          [
           "Night at the Museum: Secret of the Tomb"
          ],
          [
           "Fifty Shades Freed"
          ],
          [
           "The Babadook"
          ],
          [
           "Green Book"
          ],
          [
           "The Book of Eli"
          ],
          [
           "It Follows"
          ],
          [
           "Southpaw"
          ],
          [
           "Rango"
          ],
          [
           "The Accountant"
          ],
          [
           "Red Sparrow"
          ],
          [
           "Taken 3"
          ],
          [
           "Jack the Giant Slayer"
          ],
          [
           "Madagascar 3: Europe's Most Wanted"
          ],
          [
           "The Intern"
          ],
          [
           "Annabelle"
          ],
          [
           "John Carter"
          ],
          [
           "King Arthur: Legend of the Sword"
          ],
          [
           "Collateral Beauty"
          ],
          [
           "Transformers: The Last Knight"
          ],
          [
           "The Adventures of Tintin"
          ],
          [
           "Battleship"
          ],
          [
           "Salt"
          ],
          [
           "Happy Death Day"
          ],
          [
           "The Chronicles of Narnia: The Voyage of the Dawn Treader"
          ],
          [
           "Hotel Transylvania 2"
          ],
          [
           "Manchester by the Sea"
          ],
          [
           "Grown Ups"
          ],
          [
           "Love, Simon"
          ],
          [
           "Annabelle: Creation"
          ],
          [
           "The Karate Kid"
          ],
          [
           "The Karate Kid"
          ],
          [
           "BlacKkKlansman"
          ],
          [
           "The Good Dinosaur"
          ],
          [
           "Central Intelligence"
          ],
          [
           "The Tourist"
          ],
          [
           "Percy Jackson: Sea of Monsters"
          ],
          [
           "Boyhood"
          ],
          [
           "The Giver"
          ],
          [
           "The Dictator"
          ],
          [
           "The Shallows"
          ],
          [
           "Moonrise Kingdom"
          ],
          [
           "Paul"
          ],
          [
           "Paul"
          ],
          [
           "The World's End"
          ],
          [
           "Crimson Peak"
          ],
          [
           "Due Date"
          ],
          [
           "Project X"
          ],
          [
           "Project X"
          ],
          [
           "Kung Fu Panda 3"
          ],
          [
           "The Witch"
          ],
          [
           "The Mortal Instruments: City of Bones"
          ],
          [
           "Exodus: Gods and Kings"
          ],
          [
           "I, Tonya"
          ],
          [
           "The Purge: Election Year"
          ],
          [
           "The Meg"
          ],
          [
           "Bad Teacher"
          ],
          [
           "Into the Woods"
          ],
          [
           "Into the Woods"
          ],
          [
           "Into the Woods"
          ],
          [
           "Into the Woods"
          ],
          [
           "The Sorcerer's Apprentice"
          ],
          [
           "The Expendables 3"
          ],
          [
           "Riddick"
          ],
          [
           "The Dark Tower"
          ],
          [
           "Jack Reacher: Never Go Back"
          ],
          [
           "Neighbors 2: Sorority Rising"
          ],
          [
           "White House Down"
          ],
          [
           "True Grit"
          ],
          [
           "Escape Plan"
          ],
          [
           "Dredd"
          ],
          [
           "The Book Thief"
          ],
          [
           "Bridesmaids"
          ],
          [
           "The Place Beyond the Pines"
          ],
          [
           "The Great Wall"
          ],
          [
           "The Great Wall"
          ],
          [
           "Allied"
          ],
          [
           "Game Night"
          ],
          [
           "Game Night"
          ],
          [
           "Joy"
          ],
          [
           "Joy"
          ],
          [
           "Joy"
          ],
          [
           "Joy"
          ],
          [
           "Joy"
          ],
          [
           "Sucker Punch"
          ],
          [
           "Darkest Hour"
          ],
          [
           "Don Jon"
          ],
          [
           "If I Stay"
          ],
          [
           "The A-Team"
          ],
          [
           "Sex Tape"
          ],
          [
           "American Reunion"
          ],
          [
           "Dear John"
          ],
          [
           "Dirty Grandpa"
          ],
          [
           "The Visit"
          ],
          [
           "The Visit"
          ],
          [
           "The Visit"
          ],
          [
           "The Visit"
          ],
          [
           "The Internship"
          ],
          [
           "The Adjustment Bureau"
          ],
          [
           "No Strings Attached"
          ],
          [
           "No Strings Attached"
          ],
          [
           "No Strings Attached"
          ],
          [
           "Deepwater Horizon"
          ],
          [
           "Bad Moms"
          ],
          [
           "Cars 3"
          ],
          [
           "London Has Fallen"
          ],
          [
           "Horrible Bosses 2"
          ],
          [
           "Steve Jobs"
          ],
          [
           "Robin Hood"
          ],
          [
           "Robin Hood"
          ],
          [
           "Robin Hood"
          ],
          [
           "Robin Hood"
          ],
          [
           "Robin Hood"
          ],
          [
           "Robin Hood"
          ],
          [
           "Robin Hood"
          ],
          [
           "Robin Hood"
          ],
          [
           "Zero Dark Thirty"
          ],
          [
           "Gangster Squad"
          ],
          [
           "The Post"
          ],
          [
           "Spring Breakers"
          ],
          [
           "Why Him?"
          ],
          [
           "Hereditary"
          ],
          [
           "Hell or High Water"
          ],
          [
           "Everything, Everything"
          ],
          [
           "Wrath of the Titans"
          ],
          [
           "The Heat"
          ],
          [
           "Ice Age: Collision Course"
          ],
          [
           "Snowden"
          ],
          [
           "Bumblebee"
          ],
          [
           "Mama"
          ],
          [
           "Mama"
          ],
          [
           "Mama"
          ],
          [
           "Mama"
          ],
          [
           "Mama"
          ],
          [
           "Mama"
          ],
          [
           "Mama"
          ],
          [
           "The Vow"
          ],
          [
           "The Commuter"
          ],
          [
           "Need for Speed"
          ],
          [
           "War Dogs"
          ],
          [
           "The Town"
          ],
          [
           "The Town"
          ],
          [
           "2 Guns"
          ],
          [
           "The Judge"
          ],
          [
           "The Judge"
          ],
          [
           "Gods of Egypt"
          ],
          [
           "Hail, Caesar!"
          ],
          [
           "The Fighter"
          ],
          [
           "Resident Evil: Retribution"
          ],
          [
           "Underworld: Blood Wars"
          ],
          [
           "First Man"
          ],
          [
           "First Man"
          ],
          [
           "Lone Survivor"
          ],
          [
           "The Grey"
          ],
          [
           "Penguins of Madagascar"
          ],
          [
           "Lincoln"
          ],
          [
           "Moneyball"
          ],
          [
           "Geostorm"
          ],
          [
           "Unbroken"
          ],
          [
           "Unbroken"
          ],
          [
           "Creed II"
          ],
          [
           "Identity Thief"
          ],
          [
           "The Monuments Men"
          ],
          [
           "The Edge of Seventeen"
          ],
          [
           "Lights Out"
          ],
          [
           "Lights Out"
          ],
          [
           "Lights Out"
          ],
          [
           "Lights Out"
          ],
          [
           "The Last Song"
          ],
          [
           "The Last Witch Hunter"
          ],
          [
           "Warrior"
          ],
          [
           "Warrior"
          ],
          [
           "American Made"
          ],
          [
           "The Other Guys"
          ],
          [
           "Skyscraper"
          ],
          [
           "Big Eyes"
          ],
          [
           "Big Eyes"
          ],
          [
           "Journey 2: The Mysterious Island"
          ],
          [
           "Goosebumps"
          ],
          [
           "The Last Airbender"
          ],
          [
           "In the Heart of the Sea"
          ],
          [
           "Before I Fall"
          ],
          [
           "The Woman in Black"
          ],
          [
           "Resident Evil: Afterlife"
          ],
          [
           "The Smurfs"
          ],
          [
           "50/50"
          ],
          [
           "50/50"
          ],
          [
           "Seven Psychopaths"
          ],
          [
           "One Day"
          ],
          [
           "One Day"
          ],
          [
           "One Day"
          ],
          [
           "Mirror Mirror"
          ],
          [
           "The Favourite"
          ],
          [
           "This Means War"
          ],
          [
           "The Founder"
          ],
          [
           "Grown Ups 2"
          ],
          [
           "Begin Again"
          ],
          [
           "Begin Again"
          ],
          [
           "The Equalizer 2"
          ],
          [
           "47 Ronin"
          ],
          [
           "Remember Me"
          ],
          [
           "Remember Me"
          ],
          [
           "Remember Me"
          ],
          [
           "Remember Me"
          ],
          [
           "Pompeii"
          ],
          [
           "Saving Mr. Banks"
          ],
          [
           "Straight Outta Compton"
          ],
          [
           "R.I.P.D."
          ],
          [
           "Unknown"
          ],
          [
           "Unknown"
          ],
          [
           "Unknown"
          ],
          [
           "Unknown"
          ],
          [
           "Ghost Rider: Spirit of Vengeance"
          ],
          [
           "Gifted"
          ],
          [
           "Gifted"
          ],
          [
           "Kubo and the Two Strings"
          ],
          [
           "Black Mass"
          ],
          [
           "Unfriended"
          ],
          [
           "The Lucky One"
          ],
          [
           "Abraham Lincoln: Vampire Hunter"
          ],
          [
           "The Neon Demon"
          ],
          [
           "Safe House"
          ],
          [
           "Safe House"
          ],
          [
           "Safe House"
          ],
          [
           "Blue Jasmine"
          ],
          [
           "Predators"
          ],
          [
           "Carol"
          ],
          [
           "Still Alice"
          ],
          [
           "Hanna"
          ],
          [
           "Vacation"
          ],
          [
           "Mechanic: Resurrection"
          ],
          [
           "A Monster Calls"
          ],
          [
           "The BFG"
          ],
          [
           "Unstoppable"
          ],
          [
           "Unstoppable"
          ],
          [
           "Unstoppable"
          ],
          [
           "Unstoppable"
          ],
          [
           "Unstoppable"
          ],
          [
           "Brooklyn"
          ],
          [
           "Brooklyn"
          ],
          [
           "The Longest Ride"
          ],
          [
           "Valentine's Day"
          ],
          [
           "The Walk"
          ],
          [
           "The Walk"
          ],
          [
           "Paddington"
          ],
          [
           "The Green Hornet"
          ],
          [
           "The Disaster Artist"
          ],
          [
           "Downsizing"
          ],
          [
           "Jigsaw"
          ],
          [
           "Pitch Perfect 3"
          ],
          [
           "Red Riding Hood"
          ],
          [
           "Little Fockers"
          ],
          [
           "Trolls"
          ],
          [
           "Parker"
          ],
          [
           "Machete"
          ],
          [
           "Teenage Mutant Ninja Turtles: Out of the Shadows"
          ],
          [
           "Money Monster"
          ],
          [
           "Resident Evil: The Final Chapter"
          ],
          [
           "Magic Mike"
          ],
          [
           "War Horse"
          ],
          [
           "The First Purge"
          ],
          [
           "Dumb and Dumber To"
          ],
          [
           "Burnt"
          ],
          [
           "Burnt"
          ],
          [
           "I Origins"
          ],
          [
           "Johnny English Reborn"
          ],
          [
           "Rio 2"
          ],
          [
           "The Spectacular Now"
          ],
          [
           "Abduction"
          ],
          [
           "Abduction"
          ],
          [
           "Abduction"
          ],
          [
           "Abduction"
          ],
          [
           "Abduction"
          ],
          [
           "Swiss Army Man"
          ],
          [
           "The Artist"
          ],
          [
           "The Artist"
          ],
          [
           "The Artist"
          ],
          [
           "Rings"
          ],
          [
           "The Call"
          ],
          [
           "The Call"
          ],
          [
           "The Call"
          ],
          [
           "End of Watch"
          ],
          [
           "Hitman: Agent 47"
          ],
          [
           "That Awkward Moment"
          ],
          [
           "Turbo"
          ],
          [
           "A Simple Favor"
          ],
          [
           "American Ultra"
          ],
          [
           "Mortal Engines"
          ],
          [
           "Beastly"
          ],
          [
           "Oculus"
          ],
          [
           "Date Night"
          ],
          [
           "Trainwreck"
          ],
          [
           "The Tree of Life"
          ],
          [
           "The Tree of Life"
          ],
          [
           "Blended"
          ],
          [
           "Letters to Juliet"
          ],
          [
           "Final Destination 5"
          ],
          [
           "Pan"
          ],
          [
           "The Last Stand"
          ],
          [
           "The Last Stand"
          ],
          [
           "Jack Ryan: Shadow Recruit"
          ],
          [
           "A Walk Among the Tombstones"
          ],
          [
           "Frankenweenie"
          ],
          [
           "Run All Night"
          ],
          [
           "Cloudy with a Chance of Meatballs 2"
          ],
          [
           "Blue Valentine"
          ],
          [
           "The Mechanic"
          ],
          [
           "Hotel Transylvania 3: Summer Vacation"
          ],
          [
           "Epic"
          ],
          [
           "Ouija"
          ],
          [
           "Mortdecai"
          ],
          [
           "Lawless"
          ],
          [
           "Lawless"
          ],
          [
           "Upside Down"
          ],
          [
           "Upside Down"
          ],
          [
           "Upside Down"
          ],
          [
           "Upside Down"
          ],
          [
           "Upside Down"
          ],
          [
           "Upside Down"
          ],
          [
           "Melancholia"
          ],
          [
           "Melancholia"
          ],
          [
           "Logan Lucky"
          ],
          [
           "The Bounty Hunter"
          ],
          [
           "Water for Elephants"
          ],
          [
           "Jobs"
          ],
          [
           "Scream 4"
          ],
          [
           "Shame"
          ],
          [
           "American Assassin"
          ],
          [
           "Mud"
          ],
          [
           "Tower Heist"
          ],
          [
           "Me and Earl and the Dying Girl"
          ],
          [
           "Mike and Dave Need Wedding Dates"
          ],
          [
           "Seventh Son"
          ],
          [
           "The Lincoln Lawyer"
          ],
          [
           "We Bought a Zoo"
          ],
          [
           "The Descendants"
          ],
          [
           "The Descendants"
          ],
          [
           "Devil"
          ],
          [
           "The Best of Me"
          ],
          [
           "Crazy Rich Asians"
          ],
          [
           "The Little Prince"
          ],
          [
           "The Little Prince"
          ],
          [
           "Knock Knock"
          ],
          [
           "Knock Knock"
          ],
          [
           "Buried"
          ],
          [
           "Buried"
          ],
          [
           "Buried"
          ],
          [
           "Get Hard"
          ],
          [
           "Get Hard"
          ],
          [
           "The Next Three Days"
          ],
          [
           "Fences"
          ],
          [
           "Fences"
          ],
          [
           "Man on a Ledge"
          ],
          [
           "Mary Poppins Returns"
          ],
          [
           "The Space Between Us"
          ],
          [
           "Project Almanac"
          ],
          [
           "The Emoji Movie"
          ],
          [
           "Safe Haven"
          ],
          [
           "Safe Haven"
          ],
          [
           "Immortals"
          ],
          [
           "The First Time"
          ],
          [
           "The First Time"
          ],
          [
           "Ferdinand"
          ],
          [
           "Puss in Boots"
          ],
          [
           "Jackie"
          ],
          [
           "Jackie"
          ],
          [
           "Jackie"
          ],
          [
           "Jackie"
          ],
          [
           "Ouija: Origin of Evil"
          ],
          [
           "Homefront"
          ],
          [
           "Anchorman 2: The Legend Continues"
          ],
          [
           "The Change-Up"
          ],
          [
           "The Ides of March"
          ],
          [
           "Inside Llewyn Davis"
          ],
          [
           "Mommy"
          ],
          [
           "Mommy"
          ],
          [
           "Charlie St. Cloud"
          ],
          [
           "The Lost City of Z"
          ],
          [
           "Only God Forgives"
          ],
          [
           "Hot Tub Time Machine"
          ],
          [
           "Zoolander 2"
          ],
          [
           "Colombiana"
          ],
          [
           "Locke"
          ],
          [
           "Inherent Vice"
          ],
          [
           "ParaNorman"
          ],
          [
           "Mr. Peabody & Sherman"
          ],
          [
           "The Watch"
          ],
          [
           "Selma"
          ],
          [
           "Season of the Witch"
          ],
          [
           "Trance"
          ],
          [
           "Trance"
          ],
          [
           "Trance"
          ],
          [
           "Trance"
          ],
          [
           "Trance"
          ],
          [
           "Trance"
          ],
          [
           "Paranormal Activity 2"
          ],
          [
           "Patriots Day"
          ],
          [
           "Movie 43"
          ],
          [
           "Upgrade"
          ],
          [
           "Upgrade"
          ],
          [
           "It's Kind of a Funny Story"
          ],
          [
           "The Master"
          ],
          [
           "The Master"
          ],
          [
           "The Master"
          ],
          [
           "The Master"
          ],
          [
           "Sicario: Day of the Soldado"
          ],
          [
           "Green Room"
          ],
          [
           "Killers"
          ],
          [
           "Killers"
          ],
          [
           "12 Strong"
          ],
          [
           "Storks"
          ],
          [
           "Insidious: The Last Key"
          ],
          [
           "We Need to Talk About Kevin"
          ],
          [
           "J. Edgar"
          ],
          [
           "The Big Sick"
          ],
          [
           "No Escape"
          ],
          [
           "Hardcore Henry"
          ],
          [
           "Never Let Me Go"
          ],
          [
           "Never Let Me Go"
          ],
          [
           "Gulliver's Travels"
          ],
          [
           "Stoker"
          ],
          [
           "3 Days to Kill"
          ],
          [
           "Ride Along"
          ],
          [
           "Ride Along"
          ],
          [
           "What's Your Number?"
          ],
          [
           "Anna Karenina"
          ],
          [
           "Triple 9"
          ],
          [
           "You're Next"
          ],
          [
           "Step Up Revolution"
          ],
          [
           "Den of Thieves"
          ],
          [
           "Premium Rush"
          ],
          [
           "Two Night Stand"
          ],
          [
           "We Are Your Friends"
          ],
          [
           "Aloha"
          ],
          [
           "The Snowman"
          ],
          [
           "Legend of the Guardians: The Owls of Ga'Hoole"
          ],
          [
           "The Drop"
          ],
          [
           "The Drop"
          ],
          [
           "The Drop"
          ],
          [
           "Last Vegas"
          ],
          [
           "Eat Pray Love"
          ],
          [
           "The Smurfs 2"
          ],
          [
           "Victor Frankenstein"
          ],
          [
           "Paranormal Activity 3"
          ],
          [
           "Burlesque"
          ],
          [
           "Burlesque"
          ],
          [
           "Pride and Prejudice and Zombies"
          ],
          [
           "Monte Carlo"
          ],
          [
           "Office Christmas Party"
          ],
          [
           "Eddie the Eagle"
          ],
          [
           "Green Zone"
          ],
          [
           "Alpha"
          ],
          [
           "Alpha"
          ],
          [
           "Alpha"
          ],
          [
           "Alpha"
          ],
          [
           "Blackhat"
          ],
          [
           "The SpongeBob Movie: Sponge Out of Water"
          ],
          [
           "The Darkest Minds"
          ],
          [
           "Priest"
          ],
          [
           "Attack the Block"
          ],
          [
           "Sinister 2"
          ],
          [
           "The Ghost Writer"
          ],
          [
           "What to Expect When You're Expecting"
          ],
          [
           "The Florida Project"
          ],
          [
           "Jack and Jill"
          ],
          [
           "Contraband"
          ],
          [
           "Magic Mike XXL"
          ],
          [
           "Seeking a Friend for the End of the World"
          ],
          [
           "Killing Them Softly"
          ],
          [
           "Midnight Special"
          ],
          [
           "Youth"
          ],
          [
           "Youth"
          ],
          [
           "Youth"
          ],
          [
           "To Rome with Love"
          ],
          [
           "Rough Night"
          ],
          [
           "Blair Witch"
          ],
          [
           "Killer Elite"
          ],
          [
           "I, Frankenstein"
          ],
          [
           "I Feel Pretty"
          ],
          [
           "The Foreigner"
          ],
          [
           "The Foreigner"
          ],
          [
           "The Foreigner"
          ],
          [
           "Machete Kills"
          ],
          [
           "Out of the Furnace"
          ],
          [
           "A Wrinkle in Time"
          ],
          [
           "The Counselor"
          ],
          [
           "St. Vincent"
          ],
          [
           "A Dangerous Method"
          ],
          [
           "Regression"
          ],
          [
           "The Invitation"
          ],
          [
           "Let Me In"
          ],
          [
           "Let Me In"
          ],
          [
           "Tooth Fairy"
          ],
          [
           "Alvin and the Chipmunks: Chipwrecked"
          ],
          [
           "Krampus"
          ],
          [
           "Battle of the Sexes"
          ],
          [
           "A Bad Moms Christmas"
          ],
          [
           "Before Midnight"
          ],
          [
           "The Crazies"
          ],
          [
           "Piranha 3D"
          ],
          [
           "Paranormal Activity 4"
          ],
          [
           "Leap!"
          ],
          [
           "The Boxtrolls"
          ],
          [
           "Hall Pass"
          ],
          [
           "The Wolfman"
          ],
          [
           "The Switch"
          ],
          [
           "Dark Skies"
          ],
          [
           "Lockout"
          ],
          [
           "Hot Pursuit"
          ],
          [
           "The Rite"
          ],
          [
           "Leap Year"
          ],
          [
           "Frozen"
          ],
          [
           "Frozen"
          ],
          [
           "Before We Go"
          ],
          [
           "Before We Go"
          ],
          [
           "Suffragette"
          ],
          [
           "The Campaign"
          ],
          [
           "The Campaign"
          ],
          [
           "Get Him to the Greek"
          ],
          [
           "I Spit on Your Grave"
          ],
          [
           "Repo Men"
          ],
          [
           "She's Out of My League"
          ],
          [
           "Blockers"
          ],
          [
           "Girls Trip"
          ],
          [
           "Nebraska"
          ],
          [
           "The Wedding Ringer"
          ],
          [
           "Drive Angry"
          ],
          [
           "Maggie"
          ],
          [
           "Maggie"
          ],
          [
           "The Forest"
          ],
          [
           "The Forest"
          ],
          [
           "The Forest"
          ],
          [
           "The Night Before"
          ],
          [
           "The Night Before"
          ],
          [
           "The Night Before"
          ],
          [
           "Dope"
          ],
          [
           "Nanny McPhee Returns"
          ],
          [
           "Philomena"
          ],
          [
           "The Finest Hours"
          ],
          [
           "The Infiltrator"
          ],
          [
           "Widows"
          ],
          [
           "Widows"
          ],
          [
           "Ride Along 2"
          ],
          [
           "Winter's Bone"
          ],
          [
           "Anomalisa"
          ],
          [
           "Sisters"
          ],
          [
           "Sisters"
          ],
          [
           "Sisters"
          ],
          [
           "Sisters"
          ],
          [
           "Sisters"
          ],
          [
           "Sisters"
          ],
          [
           "Dinner for Schmucks"
          ],
          [
           "Mile 22"
          ],
          [
           "The Incredible Burt Wonderstone"
          ],
          [
           "The Possession"
          ],
          [
           "Hunt for the Wilderpeople"
          ],
          [
           "Scouts Guide to the Zombie Apocalypse"
          ],
          [
           "Miss Sloane"
          ],
          [
           "Brick Mansions"
          ],
          [
           "The Nutcracker and the Four Realms"
          ],
          [
           "A Ghost Story"
          ],
          [
           "Child 44"
          ],
          [
           "Paul Blart: Mall Cop 2"
          ],
          [
           "The Iron Lady"
          ],
          [
           "Faster"
          ],
          [
           "The Peanuts Movie"
          ],
          [
           "Zookeeper"
          ],
          [
           "Winchester"
          ],
          [
           "A Haunted House"
          ],
          [
           "Dead Man Down"
          ],
          [
           "Flipped"
          ],
          [
           "Flipped"
          ],
          [
           "Delivery Man"
          ],
          [
           "Margin Call"
          ],
          [
           "The Kids Are All Right"
          ],
          [
           "Another Earth"
          ],
          [
           "Alvin and the Chipmunks: The Road Chip"
          ],
          [
           "The November Man"
          ],
          [
           "Eye in the Sky"
          ],
          [
           "Florence Foster Jenkins"
          ],
          [
           "Hereafter"
          ],
          [
           "Monsters"
          ],
          [
           "Monsters"
          ],
          [
           "Monsters"
          ],
          [
           "The Losers"
          ],
          [
           "The Losers"
          ],
          [
           "August: Osage County"
          ],
          [
           "Chernobyl Diaries"
          ],
          [
           "The Transporter Refueled"
          ],
          [
           "Skyline"
          ],
          [
           "That's My Boy"
          ],
          [
           "The Light Between Oceans"
          ],
          [
           "The Muppets"
          ],
          [
           "30 Minutes or Less"
          ],
          [
           "The Boss"
          ],
          [
           "Alexander and the Terrible, Horrible, No Good, Very Bad Day"
          ],
          [
           "Broken City"
          ],
          [
           "Here Comes the Boom"
          ],
          [
           "Sex and the City 2"
          ],
          [
           "The Legend of Hercules"
          ],
          [
           "The 15:17 to Paris"
          ],
          [
           "Cop Out"
          ],
          [
           "Edge of Darkness"
          ],
          [
           "A Most Violent Year"
          ],
          [
           "Safety Not Guaranteed"
          ],
          [
           "Free State of Jones"
          ],
          [
           "Take Shelter"
          ],
          [
           "Woman in Gold"
          ],
          [
           "The Hundred-Foot Journey"
          ],
          [
           "A Most Wanted Man"
          ],
          [
           "The Gambler"
          ],
          [
           "The Gambler"
          ],
          [
           "The Gambler"
          ],
          [
           "The Gambler"
          ],
          [
           "The Gambler"
          ],
          [
           "The Gambler"
          ],
          [
           "The Gambler"
          ],
          [
           "The Gambler"
          ],
          [
           "Instant Family"
          ],
          [
           "Stronger"
          ],
          [
           "Stronger"
          ],
          [
           "Stronger"
          ],
          [
           "Texas Chainsaw 3D"
          ],
          [
           "Paranormal Activity: The Ghost Dimension"
          ],
          [
           "Submarine"
          ],
          [
           "Runner Runner"
          ],
          [
           "The Best Exotic Marigold Hotel"
          ],
          [
           "Bachelorette"
          ],
          [
           "Mustang"
          ],
          [
           "Happy Feet Two"
          ],
          [
           "Paranormal Activity: The Marked Ones"
          ],
          [
           "Suspiria"
          ],
          [
           "The Art of Getting By"
          ],
          [
           "Haywire"
          ],
          [
           "Amour"
          ],
          [
           "The Five-Year Engagement"
          ],
          [
           "My Week with Marilyn"
          ],
          [
           "Diary of a Wimpy Kid"
          ],
          [
           "Paterson"
          ],
          [
           "Smurfs: The Lost Village"
          ],
          [
           "Tammy"
          ],
          [
           "The Darkest Hour"
          ],
          [
           "The Darkest Hour"
          ],
          [
           "You Again"
          ],
          [
           "Super"
          ],
          [
           "Super"
          ],
          [
           "Super"
          ],
          [
           "Morning Glory"
          ],
          [
           "Peppermint"
          ],
          [
           "Slender Man"
          ],
          [
           "Slender Man"
          ],
          [
           "Grudge Match"
          ],
          [
           "Fist Fight"
          ],
          [
           "Jonah Hex"
          ],
          [
           "Killer Joe"
          ],
          [
           "The Man Who Knew Infinity"
          ],
          [
           "Veronica Mars"
          ],
          [
           "All Eyez on Me"
          ],
          [
           "The Eagle"
          ],
          [
           "Wanderlust"
          ],
          [
           "Wanderlust"
          ],
          [
           "Wanderlust"
          ],
          [
           "Wanderlust"
          ],
          [
           "Arthur Christmas"
          ],
          [
           "The American"
          ],
          [
           "Wish Upon"
          ],
          [
           "Soul Surfer"
          ],
          [
           "Rock of Ages"
          ],
          [
           "A Thousand Words"
          ],
          [
           "The Water Diviner"
          ],
          [
           "Bullet to the Head"
          ],
          [
           "The Big Wedding"
          ],
          [
           "The Bye Bye Man"
          ],
          [
           "Fifty Shades of Black"
          ],
          [
           "Larry Crowne"
          ],
          [
           "Centurion"
          ],
          [
           "Dream House"
          ],
          [
           "Dream House"
          ],
          [
           "Polisse"
          ],
          [
           "Unsane"
          ],
          [
           "Home Again"
          ],
          [
           "Home Again"
          ],
          [
           "Vampires Suck"
          ],
          [
           "The Rum Diary"
          ],
          [
           "Peter Rabbit"
          ],
          [
           "The Spy Next Door"
          ],
          [
           "Entourage"
          ],
          [
           "Fruitvale Station"
          ],
          [
           "Keanu"
          ],
          [
           "Like Crazy"
          ],
          [
           "Like Crazy"
          ],
          [
           "The Hate U Give"
          ],
          [
           "The Words"
          ],
          [
           "Frances Ha"
          ],
          [
           "Big Mommas: Like Father, Like Son"
          ],
          [
           "Four Lions"
          ],
          [
           "Robot & Frank"
          ],
          [
           "The Green Inferno"
          ],
          [
           "Camp X-Ray"
          ],
          [
           "Trouble with the Curve"
          ],
          [
           "Hop"
          ],
          [
           "While We're Young"
          ],
          [
           "Beasts of the Southern Wild"
          ],
          [
           "Takers"
          ],
          [
           "The Odd Life of Timothy Green"
          ],
          [
           "Table 19"
          ],
          [
           "Young Adult"
          ],
          [
           "Tusk"
          ],
          [
           "Smallfoot"
          ],
          [
           "A Haunted House 2"
          ],
          [
           "Whiskey Tango Foxtrot"
          ],
          [
           "My Big Fat Greek Wedding 2"
          ],
          [
           "Mary Queen of Scots"
          ],
          [
           "Mary Queen of Scots"
          ],
          [
           "Something Borrowed"
          ],
          [
           "The Gallows"
          ],
          [
           "A Hologram for the King"
          ],
          [
           "Captain Underpants: The First Epic Movie"
          ],
          [
           "Act of Valor"
          ],
          [
           "The Gunman"
          ],
          [
           "The Gunman"
          ],
          [
           "13 Sins"
          ],
          [
           "The Man with the Iron Fists"
          ],
          [
           "The 33"
          ],
          [
           "The Guard"
          ],
          [
           "Don't Be Afraid of the Dark"
          ],
          [
           "The Fifth Estate"
          ],
          [
           "Biutiful"
          ],
          [
           "Labor Day"
          ],
          [
           "Free Fire"
          ],
          [
           "Beginners"
          ],
          [
           "Loving"
          ],
          [
           "The Nut Job"
          ],
          [
           "Palo Alto"
          ],
          [
           "Our Idiot Brother"
          ],
          [
           "The Last Exorcism"
          ],
          [
           "On the Road"
          ],
          [
           "On the Road"
          ],
          [
           "On the Road"
          ],
          [
           "On the Road"
          ],
          [
           "On the Road"
          ],
          [
           "On the Road"
          ],
          [
           "Sanctum"
          ],
          [
           "Hot Tub Time Machine 2"
          ],
          [
           "Legend"
          ]
         ],
         "hoverlabel": {
          "namelength": 0
         },
         "hovertemplate": "runtime_minutes=%{x}<br>vote_average=%{y}<br>production_budget=%{marker.size}<br>primary_title=%{customdata[0]}",
         "legendgroup": "",
         "marker": {
          "color": "#636efa",
          "size": [
           160000000,
           58000000,
           165000000,
           170000000,
           100000000,
           80000000,
           150000000,
           215000000,
           250000000,
           300000000,
           275000000,
           175000000,
           330600000,
           140000000,
           150000000,
           80000000,
           165000000,
           100000000,
           170000000,
           108000000,
           250000000,
           250000000,
           130000000,
           175000000,
           180000000,
           130000000,
           135000000,
           135000000,
           170000000,
           35000000,
           34000000,
           61000000,
           200000000,
           220000000,
           15000000,
           47000000,
           47000000,
           94000000,
           165000000,
           150000000,
           125000000,
           30000000,
           200000000,
           69000000,
           20000000,
           40000000,
           40000000,
           150000000,
           75000000,
           75000000,
           225000000,
           110000000,
           150000000,
           190000000,
           110000000,
           120000000,
           175000000,
           175000000,
           410600000,
           250000000,
           13000000,
           178000000,
           200000000,
           85000000,
           180000000,
           185000000,
           185000000,
           31000000,
           62000000,
           178000000,
           34000000,
           13000000,
           200000000,
           165000000,
           250000000,
           50000000,
           58000000,
           21000000,
           190000000,
           55000000,
           165000000,
           160000000,
           28000000,
           300000000,
           125000000,
           74000000,
           76000000,
           93000000,
           19500000,
           200000000,
           90000000,
           170000000,
           150000000,
           230000000,
           120000000,
           120000000,
           90000000,
           30000000,
           300000000,
           185000000,
           20000000,
           40000000,
           42000000,
           40000000,
           15000000,
           260000000,
           125000000,
           61000000,
           200000000,
           200000000,
           250000000,
           27000000,
           27000000,
           130000000,
           35000000,
           80000000,
           190000000,
           115000000,
           160000000,
           40000000,
           185000000,
           170000000,
           20000000,
           13000000,
           20000000,
           8500000,
           17000000,
           17000000,
           46000000,
           145000000,
           104000000,
           13000000,
           12000000,
           120000000,
           120000000,
           75000000,
           170000000,
           152000000,
           37000000,
           84000000,
           50000000,
           44500000,
           110000000,
           85000000,
           49000000,
           55000000,
           97000000,
           5000000,
           195000000,
           20000000,
           20000000,
           68000000,
           200000000,
           91000000,
           210000000,
           3000000,
           60000000,
           40000000,
           25000000,
           28000000,
           82000000,
           35000000,
           5000000,
           170000000,
           170000000,
           95000000,
           110000000,
           18000000,
           18000000,
           18000000,
           18000000,
           32000000,
           102000000,
           55000000,
           30000000,
           18000000,
           40000000,
           92000000,
           179000000,
           125000000,
           40000000,
           90000000,
           75000000,
           125000000,
           200000000,
           185000000,
           50000000,
           19000000,
           17000000,
           68000000,
           100000000,
           150000000,
           22500000,
           30000000,
           8000000,
           60000000,
           130000000,
           180000000,
           180000000,
           180000000,
           30000000,
           75000000,
           180000000,
           70000000,
           160000000,
           200000000,
           45000000,
           37000000,
           37000000,
           37000000,
           12000000,
           90000000,
           30000000,
           30000000,
           20000000,
           25000000,
           50000000,
           60000000,
           165000000,
           55000000,
           140000000,
           75000000,
           75000000,
           75000000,
           135000000,
           10000000,
           30000000,
           165000000,
           35000000,
           275000000,
           120000000,
           87500000,
           12000000,
           12000000,
           12000000,
           170000000,
           275000000,
           28000000,
           9000000,
           90000000,
           90000000,
           90000000,
           70000000,
           145000000,
           38000000,
           30000000,
           130000000,
           125000000,
           150000000,
           40000000,
           120000000,
           29000000,
           12000000,
           31000000,
           1500000,
           110000000,
           127000000,
           55000000,
           2000000,
           23000000,
           80000000,
           2000000,
           30000000,
           135000000,
           40000000,
           69000000,
           48000000,
           195000000,
           145000000,
           40000000,
           6500000,
           275000000,
           175000000,
           36000000,
           217000000,
           130000000,
           220000000,
           130000000,
           5000000,
           155000000,
           80000000,
           8500000,
           75000000,
           10000000,
           15000000,
           40000000,
           8000000,
           15000000,
           187500000,
           50000000,
           100000000,
           90000000,
           4000000,
           25000000,
           65000000,
           13000000,
           16000000,
           40000000,
           40000000,
           20000000,
           55000000,
           65000000,
           12000000,
           12000000,
           140000000,
           3500000,
           60000000,
           140000000,
           11000000,
           10000000,
           178000000,
           19000000,
           56200000,
           56200000,
           56200000,
           56200000,
           160000000,
           100000000,
           38000000,
           60000000,
           60000000,
           35000000,
           150000000,
           35000000,
           70000000,
           45000000,
           19000000,
           32500000,
           15000000,
           150000000,
           150000000,
           106000000,
           37000000,
           37000000,
           60000000,
           60000000,
           60000000,
           60000000,
           60000000,
           75000000,
           30000000,
           5500000,
           11000000,
           110000000,
           40000000,
           50000000,
           25000000,
           11500000,
           5000000,
           5000000,
           5000000,
           5000000,
           58000000,
           50200000,
           25000000,
           25000000,
           25000000,
           156000000,
           20000000,
           175000000,
           60000000,
           40000000,
           30000000,
           210000000,
           99000000,
           210000000,
           99000000,
           210000000,
           99000000,
           210000000,
           99000000,
           52500000,
           60000000,
           50000000,
           5000000,
           38000000,
           10000000,
           12000000,
           10000000,
           150000000,
           43000000,
           105000000,
           50000000,
           102000000,
           15000000,
           15000000,
           15000000,
           15000000,
           15000000,
           15000000,
           15000000,
           30000000,
           40000000,
           66000000,
           50000000,
           37000000,
           37000000,
           61000000,
           50000000,
           50000000,
           140000000,
           22000000,
           11000000,
           65000000,
           35000000,
           60000000,
           60000000,
           40000000,
           25000000,
           132000000,
           65000000,
           50000000,
           100000000,
           65000000,
           65000000,
           50000000,
           35000000,
           70000000,
           9000000,
           5000000,
           5000000,
           5000000,
           5000000,
           20000000,
           80000000,
           25000000,
           25000000,
           50000000,
           100000000,
           125000000,
           10000000,
           10000000,
           79000000,
           58000000,
           150000000,
           100000000,
           5000000,
           15000000,
           57500000,
           110000000,
           8000000,
           8000000,
           13500000,
           15000000,
           15000000,
           15000000,
           85000000,
           15000000,
           65000000,
           15000000,
           80000000,
           8000000,
           8000000,
           77000000,
           175000000,
           16000000,
           16000000,
           16000000,
           16000000,
           80000000,
           35000000,
           28000000,
           130000000,
           40000000,
           3700000,
           40000000,
           3700000,
           57000000,
           7000000,
           7000000,
           55000000,
           53000000,
           1000000,
           25000000,
           67500000,
           7500000,
           85000000,
           85000000,
           85000000,
           18000000,
           40000000,
           11800000,
           5000000,
           30000000,
           31000000,
           40000000,
           43000000,
           140000000,
           95000000,
           95000000,
           95000000,
           95000000,
           95000000,
           11000000,
           11000000,
           34000000,
           52000000,
           35000000,
           35000000,
           55000000,
           110000000,
           10000000,
           68000000,
           10000000,
           45000000,
           42000000,
           100000000,
           125000000,
           35000000,
           12500000,
           135000000,
           27000000,
           40000000,
           7000000,
           70000000,
           13000000,
           40000000,
           20000000,
           20000000,
           1000000,
           45000000,
           130000000,
           2500000,
           35000000,
           35000000,
           35000000,
           35000000,
           35000000,
           3000000,
           16000000,
           16000000,
           16000000,
           25000000,
           12800000,
           12800000,
           12800000,
           15000000,
           35000000,
           8000000,
           135000000,
           20000000,
           28000000,
           100000000,
           17000000,
           5000000,
           55000000,
           35000000,
           35000000,
           35000000,
           45000000,
           30000000,
           40000000,
           150000000,
           30000000,
           30000000,
           60000000,
           28000000,
           39000000,
           50000000,
           78000000,
           1000000,
           42500000,
           65000000,
           100000000,
           5000000,
           60000000,
           26000000,
           26000000,
           50000000,
           50000000,
           50000000,
           50000000,
           50000000,
           50000000,
           9400000,
           9400000,
           29000000,
           45000000,
           38000000,
           18000000,
           40000000,
           6500000,
           63000000,
           10000000,
           85000000,
           8000000,
           33000000,
           95000000,
           40000000,
           50000000,
           20000000,
           20000000,
           10000000,
           26000000,
           30000000,
           77500000,
           77500000,
           2000000,
           2000000,
           1987650,
           1987650,
           1987650,
           40000000,
           40000000,
           30000000,
           24000000,
           24000000,
           42000000,
           130000000,
           30000000,
           12000000,
           50000000,
           28000000,
           28000000,
           75000000,
           2000000,
           2000000,
           111000000,
           130000000,
           9000000,
           9000000,
           9000000,
           9000000,
           9000000,
           22000000,
           50000000,
           52000000,
           23000000,
           11000000,
           4900000,
           4900000,
           44000000,
           30000000,
           4800000,
           36000000,
           50000000,
           40000000,
           2000000,
           20000000,
           60000000,
           145000000,
           55000000,
           20000000,
           40000000,
           16000000,
           950000,
           16000000,
           950000,
           16000000,
           950000,
           3000000,
           40000000,
           10000000,
           3000000,
           3000000,
           8000000,
           37500000,
           37500000,
           37500000,
           37500000,
           35000000,
           5000000,
           75000000,
           75000000,
           35000000,
           70000000,
           10000000,
           7000000,
           35000000,
           5000000,
           5000000,
           2000000,
           15000000,
           15000000,
           112000000,
           12000000,
           28000000,
           25000000,
           25000000,
           20000000,
           49000000,
           20000000,
           1000000,
           33000000,
           30000000,
           35000000,
           1600000,
           2000000,
           37000000,
           35000000,
           100000000,
           12600000,
           12600000,
           12600000,
           28000000,
           60000000,
           110000000,
           40000000,
           5000000,
           55000000,
           55000000,
           28000000,
           20000000,
           45000000,
           23000000,
           100000000,
           51000000,
           51000000,
           51000000,
           51000000,
           70000000,
           74000000,
           34000000,
           60000000,
           13000000,
           10000000,
           45000000,
           37500000,
           2000000,
           79000000,
           25000000,
           14500000,
           10000000,
           15000000,
           18000000,
           13000000,
           13000000,
           13000000,
           21500000,
           20000000,
           10000000,
           70000000,
           65000000,
           32000000,
           35000000,
           35000000,
           35000000,
           20000000,
           22000000,
           103000000,
           25000000,
           13000000,
           20000000,
           20000000,
           1000000,
           20000000,
           20000000,
           48000000,
           80000000,
           15000000,
           25000000,
           28000000,
           3000000,
           19000000,
           24000000,
           5000000,
           30000000,
           60000000,
           68000000,
           150000000,
           19000000,
           3500000,
           20000000,
           35000000,
           37000000,
           19000000,
           150000000,
           150000000,
           3000000,
           3000000,
           14000000,
           95000000,
           95000000,
           40000000,
           1750000,
           32000000,
           20000000,
           21000000,
           28000000,
           12000000,
           23000000,
           50000000,
           4500000,
           4500000,
           10000000,
           10000000,
           10000000,
           25000000,
           25000000,
           25000000,
           7000000,
           35000000,
           12000000,
           70000000,
           47500000,
           40000000,
           40000000,
           40000000,
           2000000,
           8000000,
           30000000,
           30000000,
           30000000,
           30000000,
           30000000,
           30000000,
           69000000,
           35000000,
           32000000,
           14000000,
           2500000,
           15000000,
           18000000,
           28000000,
           132900000,
           100000,
           50000000,
           38000000,
           14000000,
           24000000,
           99000000,
           80000000,
           3500000,
           2500000,
           30000000,
           14000000,
           14000000,
           22000000,
           3400000,
           4000000,
           175000,
           90000000,
           15000000,
           13000000,
           29000000,
           50000000,
           500000,
           500000,
           500000,
           25000000,
           25000000,
           25000000,
           1000000,
           22000000,
           10000000,
           57500000,
           20000000,
           45000000,
           28000000,
           29000000,
           28000000,
           35000000,
           42000000,
           95000000,
           70000000,
           30000000,
           37000000,
           60000000,
           20000000,
           750000,
           50000000,
           4750000,
           11000000,
           22000000,
           15000000,
           25000000,
           3000000,
           25000000,
           3000000,
           25000000,
           3000000,
           25000000,
           3000000,
           48000000,
           30000000,
           30000000,
           30000000,
           20000000,
           10000000,
           1900000,
           30000000,
           10000000,
           3000000,
           1400000,
           135000000,
           5000000,
           20000000,
           4000000,
           23000000,
           9700000,
           30000000,
           10000000,
           15000000,
           5000000,
           60000000,
           20000000,
           34800000,
           34800000,
           20000000,
           2500000,
           2500000,
           2500000,
           40000000,
           25000000,
           10000000,
           10000000,
           40000000,
           25000000,
           47000000,
           10000000,
           10000000,
           6000000,
           45000000,
           25000000,
           32500000,
           32500000,
           32500000,
           32500000,
           85000000,
           20000000,
           12000000,
           18000000,
           70000000,
           40000000,
           22500000,
           55000000,
           32500000,
           7400000,
           5000000,
           30000000,
           15000000,
           50000000,
           50000000,
           8900000,
           1500000,
           15000000,
           15000000,
           20000000,
           45000000,
           50000000,
           28000000,
           30000000,
           900000,
           15000000,
           250000,
           250000,
           23000000,
           6000000,
           3000000,
           32000000,
           3750000,
           2500000,
           1000000,
           1000000,
           60000000,
           63000000,
           10000000,
           1800000,
           32000000,
           40000000,
           5000000,
           12000000,
           3000000,
           80000000,
           4000000,
           35000000,
           18000000,
           25000000,
           25000000,
           35000000,
           100000,
           35000000,
           38000000,
           12000000,
           40000000,
           40000000,
           4000000,
           15000000,
           25000000,
           6000000,
           25000000,
           26000000,
           35000000,
           18000000,
           10000000,
           3200000,
           9000000,
           30000000,
           1000000,
           5000000,
           1800000,
           25000000,
           25000000,
           25000000,
           25000000,
           25000000,
           25000000,
           30000000,
           14000000,
           25000000
          ],
          "sizemode": "area",
          "sizeref": 1026500,
          "symbol": "circle"
         },
         "mode": "markers",
         "name": "",
         "showlegend": false,
         "type": "scatter",
         "x": [
          148,
          108,
          169,
          121,
          165,
          142,
          120,
          124,
          147,
          149,
          164,
          123,
          141,
          124,
          115,
          138,
          115,
          180,
          124,
          144,
          169,
          151,
          117,
          133,
          130,
          146,
          156,
          80,
          136,
          135,
          113,
          149,
          143,
          136,
          114,
          116,
          86.1872470608802,
          129,
          102,
          112,
          123,
          101,
          132,
          95,
          128,
          89,
          40,
          108,
          115,
          98,
          143,
          91,
          106,
          116,
          119,
          127,
          105,
          98,
          136,
          144,
          108,
          144,
          103,
          139,
          97,
          93,
          86.1872470608802,
          99,
          168,
          113,
          113,
          108,
          97,
          101,
          161,
          106,
          133,
          122,
          131,
          134,
          98,
          137,
          117,
          120,
          124,
          91,
          98,
          105,
          123,
          142,
          119,
          130,
          140,
          129,
          124,
          116,
          129,
          113,
          148,
          164,
          134,
          139,
          109,
          125,
          123,
          100,
          129,
          131,
          104,
          118,
          136,
          105,
          57,
          118,
          109,
          102,
          132,
          126,
          143,
          120,
          118,
          128,
          106,
          103,
          112,
          117,
          80,
          90,
          153,
          102,
          141,
          118,
          115,
          109,
          86.1872470608802,
          87,
          127,
          140,
          110,
          105,
          112,
          120,
          114,
          91,
          120,
          132,
          122,
          117,
          154,
          129,
          99,
          124,
          134,
          114,
          165,
          85,
          116,
          126,
          127,
          130,
          103,
          109,
          103,
          130,
          70,
          88,
          127,
          97,
          74,
          90,
          86.1872470608802,
          93,
          172,
          118,
          121,
          94,
          138,
          98,
          127,
          97,
          142,
          119,
          108,
          130,
          114,
          122,
          116,
          89,
          112,
          115,
          103,
          113,
          116,
          95,
          92,
          130,
          100,
          137,
          126,
          80,
          98,
          89,
          110,
          119,
          123,
          106,
          92,
          77,
          133,
          80,
          123,
          158,
          75,
          94,
          113,
          146,
          112,
          96,
          120,
          134,
          110,
          121,
          113,
          58,
          98,
          94,
          112,
          93,
          98,
          135,
          100,
          100,
          70,
          118,
          143,
          113,
          150,
          103,
          103,
          96,
          90,
          87,
          92,
          97,
          112,
          115,
          95,
          135,
          90,
          114,
          123,
          115,
          109,
          138,
          103,
          114,
          98,
          105,
          94,
          130,
          118,
          100,
          124,
          107,
          128,
          140,
          108,
          114,
          93,
          121,
          99,
          132,
          126,
          97,
          154,
          107,
          131,
          100,
          96,
          113,
          89,
          137,
          102,
          110,
          109,
          140,
          140,
          135,
          93,
          107,
          103,
          106,
          165,
          97,
          83,
          86,
          94,
          104,
          71,
          109,
          119,
          95,
          88,
          86.1872470608802,
          95,
          86.1872470608802,
          130,
          150,
          120,
          108,
          113,
          92,
          125,
          86.1872470608802,
          86.1872470608802,
          86.1872470608802,
          109,
          126,
          119,
          95,
          118,
          92,
          131,
          110,
          115,
          95,
          131,
          125,
          140,
          103,
          72,
          124,
          86.1872470608802,
          100,
          75,
          53,
          124,
          80,
          99,
          110,
          125,
          90,
          107,
          117,
          94,
          113,
          108,
          102,
          90,
          50,
          52,
          94,
          119,
          106,
          108,
          86.1872470608802,
          73,
          107,
          100,
          102,
          99,
          108,
          122,
          140,
          140,
          92,
          92,
          116,
          116,
          60,
          60,
          157,
          113,
          116,
          94,
          111,
          127,
          102,
          96,
          99,
          117,
          94,
          134,
          114,
          50,
          71,
          100,
          110,
          90,
          89,
          86.1872470608802,
          104,
          105,
          132,
          114,
          125,
          101,
          109,
          141,
          76,
          127,
          106,
          116,
          95,
          91,
          141,
          92,
          121,
          117,
          92,
          150,
          133,
          109,
          104,
          137,
          130,
          111,
          118,
          104,
          86.1872470608802,
          86.1872470608802,
          81,
          90,
          107,
          106,
          140,
          86.1872470608802,
          115,
          107,
          102,
          106,
          86.1872470608802,
          94,
          103,
          103,
          122,
          98,
          95,
          96,
          103,
          100,
          77,
          110,
          107,
          135,
          118,
          106,
          119,
          103,
          115,
          101,
          68,
          104,
          121,
          128,
          113,
          85,
          86.1872470608802,
          86.1872470608802,
          105,
          125,
          147,
          96,
          113,
          113,
          96,
          96,
          96,
          86.1872470608802,
          101,
          101,
          123,
          83,
          101,
          105,
          117,
          86.1872470608802,
          115,
          86.1872470608802,
          98,
          107,
          118,
          101,
          111,
          99,
          98,
          108,
          117,
          98,
          53,
          65,
          52,
          84,
          117,
          83,
          123,
          125,
          89,
          123,
          95,
          119,
          104,
          135,
          92,
          93,
          100,
          98,
          92,
          118,
          105,
          112,
          98,
          107,
          110,
          146,
          98,
          109,
          101,
          86.1872470608802,
          106,
          101,
          101,
          95,
          106,
          86.1872470608802,
          84,
          90,
          106,
          97,
          100,
          100,
          53,
          102,
          94,
          90,
          109,
          109,
          96,
          94,
          96,
          117,
          96,
          128,
          86,
          104,
          88,
          125,
          139,
          60,
          117,
          105,
          92,
          111,
          107,
          93,
          105,
          114,
          87,
          114,
          95,
          112,
          93,
          97,
          102,
          89,
          107,
          116,
          90,
          109,
          86.1872470608802,
          81,
          86.1872470608802,
          70,
          86.1872470608802,
          135,
          86.1872470608802,
          118,
          110,
          120,
          128,
          111,
          101,
          112,
          130,
          104,
          105,
          98,
          102,
          118,
          124,
          115,
          80,
          80,
          118,
          120,
          93,
          86.1872470608802,
          99,
          55,
          95,
          88,
          95,
          100,
          90,
          133,
          139,
          117,
          102,
          130,
          120,
          106,
          86,
          115,
          120,
          110,
          95,
          90,
          108,
          90,
          100,
          126,
          100,
          108,
          99,
          100,
          119,
          112,
          101,
          104,
          139,
          135,
          99,
          141,
          90,
          101,
          101,
          108,
          85,
          148,
          92,
          92,
          102,
          128,
          95,
          83,
          83,
          101,
          101,
          86.1872470608802,
          86.1872470608802,
          91,
          133,
          94,
          100,
          86.1872470608802,
          101,
          138,
          86.1872470608802,
          86,
          86.1872470608802,
          122,
          95,
          100,
          137,
          130,
          87,
          103,
          112,
          137,
          120,
          103,
          96,
          103,
          86.1872470608802,
          85,
          99,
          117,
          99,
          87,
          106,
          129,
          115,
          95,
          99,
          140,
          91,
          86,
          96,
          105,
          119,
          97,
          106,
          50,
          86.1872470608802,
          105,
          133,
          105,
          110,
          83,
          119,
          86.1872470608802,
          108,
          109,
          105,
          106,
          115,
          116,
          80,
          96,
          90,
          133,
          92,
          104,
          87,
          88,
          97,
          128,
          110,
          111,
          91,
          109,
          115,
          101,
          97,
          112,
          107,
          124,
          124,
          112,
          101,
          89,
          116,
          92,
          110,
          113,
          145,
          100,
          107,
          116,
          109,
          117,
          102,
          99,
          106,
          100,
          116,
          74,
          101,
          87,
          98,
          121,
          104,
          109,
          101,
          88,
          88,
          89,
          96,
          105,
          103,
          101,
          97,
          95,
          87,
          114,
          100,
          93,
          102,
          95,
          84,
          106,
          85,
          60,
          109,
          108,
          111,
          104,
          102,
          122,
          115,
          101,
          104,
          95,
          88,
          98,
          93,
          109,
          101,
          81,
          86,
          103,
          109,
          98,
          117,
          127,
          129,
          79,
          102,
          100,
          90,
          118,
          53,
          102,
          86.1872470608802,
          72,
          86.1872470608802,
          114,
          94,
          100,
          92,
          101,
          93,
          132,
          90,
          99,
          92,
          137,
          94,
          105,
          98,
          88,
          102,
          99,
          86,
          118,
          90,
          90,
          105,
          107,
          106,
          92,
          92,
          108,
          102,
          111,
          129,
          94,
          45,
          97,
          97,
          112,
          121,
          86,
          96,
          92,
          116,
          133,
          103,
          83,
          99,
          81,
          109,
          105,
          146,
          99,
          94,
          107,
          117,
          125,
          86,
          139,
          121,
          109,
          122,
          122,
          105,
          105,
          111,
          111,
          52,
          52,
          121,
          121,
          118,
          119,
          125,
          47,
          92,
          88,
          97,
          88,
          124,
          87,
          97,
          100,
          84,
          152,
          83,
          93,
          127,
          124,
          99,
          94,
          118,
          90,
          97,
          89,
          52,
          105,
          96,
          140,
          92,
          107,
          101,
          93,
          52,
          113,
          91,
          81,
          102,
          108,
          107,
          139,
          114,
          86.1872470608802,
          98,
          58,
          86.1872470608802,
          97,
          105,
          90,
          112,
          123,
          91,
          111,
          92,
          89,
          96,
          92,
          98,
          97,
          86.1872470608802,
          84,
          127,
          98,
          104,
          97,
          82,
          119,
          95,
          94,
          104,
          85,
          100,
          86,
          86.1872470608802,
          133,
          102,
          86,
          107,
          97,
          89,
          100,
          117,
          111,
          95,
          97,
          93,
          107,
          105,
          87,
          94,
          102,
          96,
          86,
          112,
          94,
          119,
          124,
          112,
          81,
          98,
          89,
          110,
          115,
          86.1872470608802,
          93,
          95,
          127,
          96,
          99,
          128,
          148,
          111,
          91,
          105,
          123,
          85,
          100,
          90,
          87,
          124,
          90,
          87,
          89,
          39,
          121,
          108,
          93,
          134
         ],
         "xaxis": "x",
         "y": [
          8.3,
          7.6,
          8.2,
          7.9,
          8,
          7.1,
          7.4,
          6.6,
          7.4,
          8.3,
          7.7,
          5.9,
          7.3,
          6.9,
          6.7,
          8.1,
          7.3,
          7.9,
          6.8,
          7.7,
          7.2,
          5.8,
          7.1,
          7.4,
          7.5,
          7.4,
          7.4,
          7.4,
          7.7,
          7.2,
          7.1,
          7.9,
          7.1,
          6.5,
          8.1,
          7.4,
          7.4,
          7.6,
          7.8,
          6.7,
          6.8,
          7.2,
          7.5,
          7.2,
          7.9,
          6.3,
          6.3,
          7.7,
          7.4,
          7.4,
          6.5,
          7.2,
          7.4,
          6.7,
          7.5,
          7.3,
          8.2,
          8.2,
          6.4,
          7.3,
          7.6,
          6.5,
          7.7,
          6.9,
          7,
          6.9,
          6.9,
          8,
          7.7,
          7.6,
          7.4,
          7.6,
          7,
          7.3,
          7.6,
          6.3,
          7.4,
          7.1,
          6.8,
          8.1,
          7.7,
          6.8,
          7.1,
          6.2,
          6.4,
          6.4,
          6.9,
          7.2,
          7.2,
          6.4,
          6.7,
          7.3,
          7.6,
          6.6,
          6.5,
          6.5,
          6.8,
          6.8,
          6.4,
          7.4,
          7.9,
          8.1,
          6.8,
          5.4,
          7.9,
          7.5,
          7.1,
          6.6,
          7,
          7.6,
          6.9,
          7.1,
          7.1,
          7,
          6.8,
          6.4,
          7.4,
          6.3,
          6.8,
          7.2,
          6.3,
          6.5,
          7.7,
          7.8,
          7.5,
          7.7,
          7.3,
          7.3,
          8,
          7.7,
          7,
          8.1,
          8.2,
          6.4,
          6.4,
          6.1,
          5.9,
          7,
          6.8,
          8,
          6.9,
          7.2,
          6.1,
          6.9,
          6.7,
          7.2,
          5.9,
          7.9,
          6.1,
          7.8,
          7.8,
          6,
          6.9,
          7.1,
          5.8,
          6.2,
          6.1,
          6.8,
          8,
          7.3,
          6.1,
          6.6,
          6.9,
          6.2,
          6.2,
          6.3,
          6.8,
          6.2,
          6.2,
          6.2,
          6.2,
          7.2,
          6.8,
          6.1,
          7.3,
          7,
          6.8,
          5.2,
          5.3,
          6.4,
          7.2,
          6.3,
          6.9,
          7.2,
          5.1,
          6.7,
          7.1,
          5.6,
          7.3,
          6.1,
          6.2,
          5.9,
          7.4,
          6.5,
          6.8,
          6.4,
          5.1,
          6.6,
          7.1,
          7.1,
          6.3,
          6.3,
          5.8,
          6.2,
          6.3,
          5.9,
          6.2,
          7.3,
          7.3,
          7.3,
          7.9,
          7.3,
          7.5,
          7.5,
          8.2,
          8.1,
          6.7,
          7.1,
          5.1,
          7.6,
          5.5,
          5.9,
          5.9,
          5.9,
          6.8,
          7.3,
          7.4,
          6.1,
          6.5,
          6.6,
          4.4,
          4.4,
          8.1,
          8.1,
          8.1,
          6.5,
          6,
          6.4,
          6.6,
          6.6,
          6.6,
          6.6,
          6.2,
          7.3,
          5.8,
          6.3,
          6.8,
          6.1,
          6.7,
          7.2,
          6.1,
          6.8,
          6,
          6.7,
          6.9,
          6.6,
          6.1,
          6.1,
          6.4,
          8.3,
          6.7,
          6.5,
          7.4,
          6.6,
          6.9,
          6.5,
          6.1,
          5.6,
          6.5,
          7.1,
          5.6,
          6.1,
          6.5,
          7.2,
          6,
          6.8,
          5.6,
          6.3,
          6.6,
          6.3,
          6.7,
          7.5,
          6.1,
          8.2,
          6.5,
          6.3,
          6.3,
          7.6,
          6.7,
          6.3,
          6.1,
          5.9,
          7.5,
          6.5,
          6,
          6.3,
          7.7,
          6.5,
          6.5,
          6.7,
          6.5,
          6.3,
          6.4,
          6.4,
          6.7,
          6.6,
          6.3,
          5.7,
          7.5,
          6.3,
          5.9,
          5.5,
          5.7,
          5.7,
          5.7,
          5.7,
          5.9,
          6.1,
          6.2,
          5.6,
          5.6,
          5.7,
          6.4,
          7.2,
          6.7,
          6.7,
          7.5,
          6.5,
          6.9,
          5.8,
          5.8,
          6.7,
          6.9,
          6.9,
          6.5,
          6.5,
          6.5,
          6.5,
          6.5,
          6,
          7.3,
          5.9,
          7.4,
          6.3,
          5.3,
          6.2,
          6.8,
          5.8,
          6.2,
          6.2,
          6.2,
          6.2,
          6.2,
          6.6,
          6.2,
          6.2,
          6.2,
          6.7,
          6.5,
          6.7,
          5.9,
          6.2,
          6.8,
          6.3,
          6.3,
          6.3,
          6.3,
          6.3,
          6.3,
          6.3,
          6.3,
          6.9,
          6.3,
          7,
          5,
          6.2,
          7,
          7.3,
          7.2,
          5.6,
          6.6,
          5.9,
          7.1,
          6.5,
          6.1,
          6.1,
          6.1,
          6.1,
          6.1,
          6.1,
          6.1,
          7.1,
          6.2,
          6.1,
          6.8,
          7.1,
          7.1,
          6.5,
          7.3,
          7.3,
          5.4,
          5.9,
          7.3,
          5.7,
          5.5,
          7.1,
          7.1,
          7.4,
          6.5,
          6.4,
          6.8,
          7.1,
          5.8,
          7.4,
          7.4,
          6.7,
          5.8,
          5.9,
          7.2,
          6.3,
          6.3,
          6.3,
          6.3,
          7.2,
          5.8,
          7.8,
          7.8,
          6.7,
          6.2,
          6.1,
          7,
          7,
          5.9,
          6.2,
          4.6,
          6.6,
          7,
          6.1,
          5.9,
          5.6,
          7.1,
          7.1,
          6.8,
          7.2,
          7.2,
          7.2,
          5.8,
          7.7,
          6,
          7,
          5.9,
          7.2,
          7.2,
          6.4,
          6,
          7.1,
          7.1,
          7.1,
          7.1,
          5.4,
          7.4,
          7.7,
          5.6,
          6.6,
          6.6,
          6.6,
          6.6,
          4.8,
          7.9,
          7.9,
          7.7,
          6.4,
          5.4,
          6.9,
          5.6,
          6.6,
          6.4,
          6.4,
          6.4,
          7,
          6.1,
          7.4,
          7.5,
          6.6,
          6.2,
          5.6,
          7.1,
          6.2,
          6.4,
          6.4,
          6.4,
          6.4,
          6.4,
          7.3,
          7.3,
          7.5,
          5.8,
          6.9,
          6.9,
          7,
          5.5,
          7.2,
          5.1,
          6.1,
          6.5,
          5.9,
          5.6,
          6.6,
          5.8,
          6.3,
          5.9,
          6.4,
          5.9,
          6.1,
          7.2,
          5.8,
          5.5,
          6.4,
          6.4,
          7.6,
          6.1,
          6.3,
          6.6,
          5.8,
          5.8,
          5.8,
          5.8,
          5.8,
          6.9,
          7.4,
          7.4,
          7.4,
          4.9,
          6.7,
          6.7,
          6.7,
          7.3,
          5.6,
          6.1,
          6.1,
          6.6,
          6,
          6,
          6.1,
          6.4,
          6,
          5.8,
          6.6,
          6.6,
          6.7,
          6.9,
          6,
          5.9,
          5.9,
          5.9,
          6.1,
          6.3,
          6.8,
          6.4,
          6.4,
          6.9,
          6.3,
          6.8,
          6.4,
          5.1,
          5.4,
          7,
          7,
          6.2,
          6.2,
          6.2,
          6.2,
          6.2,
          6.2,
          7.1,
          7.1,
          6.7,
          5.7,
          6.9,
          6.1,
          6.2,
          7,
          6.3,
          7,
          6,
          7.6,
          6,
          5.3,
          7.1,
          6.7,
          6.8,
          6.8,
          5.9,
          7.3,
          7.1,
          7.6,
          7.6,
          5,
          5,
          6.6,
          6.6,
          6.6,
          6,
          6,
          7,
          6.8,
          6.8,
          6.3,
          6.6,
          7.1,
          6.5,
          5.4,
          7.1,
          7.1,
          5.8,
          7,
          7,
          7.1,
          6.3,
          6.4,
          6.4,
          6.4,
          6.4,
          6,
          6.5,
          6.1,
          6,
          6.7,
          7.2,
          8.3,
          8.3,
          6.9,
          6.2,
          5.8,
          6,
          4.7,
          6.5,
          6.9,
          6.6,
          6.8,
          6.6,
          5.4,
          7.5,
          5.3,
          6.6,
          6.6,
          6.6,
          6.6,
          6.6,
          6.6,
          5.7,
          6.9,
          4.4,
          7.4,
          7.4,
          7,
          7.1,
          7.1,
          7.1,
          7.1,
          6.7,
          6.8,
          5.8,
          5.8,
          5.6,
          6.5,
          6.1,
          7.6,
          6.2,
          7.4,
          6.8,
          6.2,
          6.8,
          6.8,
          5.1,
          6.6,
          6.1,
          6.2,
          6.2,
          6.4,
          6.7,
          5.8,
          6.6,
          6.8,
          6.6,
          6.2,
          6.5,
          6.3,
          5.3,
          5.1,
          6.6,
          6.7,
          6.7,
          6.7,
          6.4,
          6,
          5.7,
          5.8,
          5.9,
          7.1,
          7.1,
          5.7,
          6.2,
          5.6,
          7.2,
          6.4,
          5.9,
          5.9,
          5.9,
          5.9,
          5.3,
          5.7,
          6.8,
          5.5,
          6.4,
          5.8,
          6.8,
          5.9,
          7.4,
          4.1,
          6.2,
          6.2,
          6.4,
          6,
          6.3,
          6.9,
          6.9,
          6.9,
          5.7,
          5.6,
          5,
          6.2,
          5.2,
          6.4,
          6.7,
          6.7,
          6.7,
          5.5,
          6.6,
          5,
          5.1,
          7.1,
          6.3,
          5.5,
          6.5,
          6.7,
          6.7,
          5.3,
          5.5,
          6,
          6.9,
          6.3,
          7.4,
          6.2,
          5.3,
          5.4,
          7.2,
          6.7,
          5.5,
          5.7,
          6.1,
          6.1,
          5.9,
          5.6,
          5.9,
          6.7,
          5.8,
          5.8,
          6.5,
          6.5,
          7.3,
          5.7,
          5.7,
          5.9,
          6.3,
          6.2,
          6.1,
          6.1,
          6.8,
          7.4,
          6.5,
          5.3,
          5.3,
          5.3,
          5,
          5,
          5,
          6.1,
          6.1,
          6.1,
          7.2,
          6.1,
          7.4,
          6.4,
          6.6,
          6.5,
          6.5,
          6.2,
          6.9,
          7.1,
          5.9,
          5.9,
          5.9,
          5.9,
          5.9,
          5.9,
          5.6,
          6,
          5.4,
          5.9,
          7.8,
          6.2,
          7.4,
          5.9,
          6,
          7,
          6.2,
          5,
          6.4,
          6.2,
          6.6,
          5.3,
          5.7,
          5.5,
          6,
          7.4,
          7.4,
          6.2,
          6.8,
          6.6,
          6.7,
          5.8,
          6.1,
          7.1,
          6.7,
          5.9,
          6.2,
          6.2,
          6.2,
          6.2,
          6.2,
          6.9,
          5,
          5.4,
          4.8,
          5.5,
          7.1,
          6.6,
          5.6,
          5.8,
          6.2,
          5.9,
          6,
          5.9,
          4.5,
          5.3,
          5.4,
          6.3,
          6.6,
          6.9,
          6.6,
          7.2,
          7.4,
          7.3,
          6.5,
          5.8,
          5.8,
          5.8,
          5.8,
          5.8,
          5.8,
          5.8,
          5.8,
          7.6,
          7,
          7,
          7,
          5.3,
          5.2,
          7.4,
          5.6,
          6.9,
          5.4,
          8,
          5.9,
          5.3,
          7,
          6.5,
          5.6,
          7.7,
          5.8,
          6.7,
          6,
          7.1,
          6.2,
          5.2,
          4.9,
          4.9,
          6.2,
          6.6,
          6.6,
          6.6,
          6.3,
          6.5,
          4,
          4,
          6,
          6,
          4.6,
          6.5,
          7.2,
          6.7,
          6.4,
          6.1,
          5.4,
          5.4,
          5.4,
          5.4,
          6.7,
          5.8,
          5.4,
          7,
          6.1,
          6.1,
          6.8,
          5.4,
          5.8,
          5.1,
          4.4,
          5.8,
          6.1,
          6,
          6,
          7.8,
          6.2,
          5.9,
          5.9,
          4.1,
          5.7,
          6.5,
          5.7,
          6.2,
          7.4,
          6,
          6.5,
          6.5,
          8.2,
          6.6,
          7.4,
          5.5,
          7,
          6.9,
          5.2,
          6.8,
          6.7,
          5.6,
          5.9,
          6.9,
          6.2,
          6.7,
          6,
          5.7,
          5.3,
          6.6,
          5.5,
          6.2,
          5.8,
          6.6,
          6.6,
          6.1,
          4.8,
          5.9,
          6,
          6.3,
          5.7,
          5.7,
          6.3,
          5.3,
          6.2,
          6.9,
          5.5,
          5.9,
          7.2,
          6.9,
          6.3,
          6.9,
          6.7,
          5.6,
          6.4,
          6.1,
          5.6,
          5.6,
          5.6,
          5.6,
          5.6,
          5.6,
          5.6,
          5.9,
          5.1,
          6.2
         ],
         "yaxis": "y"
        },
        {
         "hoverlabel": {
          "namelength": 0
         },
         "hovertemplate": "<b>OLS trendline</b><br>vote_average = 0.011841 * runtime_minutes + 5.218859<br>R<sup>2</sup>=0.101427<br><br>runtime_minutes=%{x}<br>vote_average=%{y} <b>(trend)</b>",
         "legendgroup": "",
         "marker": {
          "color": "#636efa",
          "symbol": "circle"
         },
         "mode": "lines",
         "name": "",
         "showlegend": false,
         "type": "scatter",
         "x": [
          39,
          40,
          45,
          47,
          50,
          50,
          50,
          52,
          52,
          52,
          52,
          52,
          52,
          53,
          53,
          53,
          53,
          55,
          57,
          58,
          58,
          60,
          60,
          60,
          60,
          65,
          68,
          70,
          70,
          70,
          71,
          71,
          72,
          72,
          73,
          74,
          74,
          75,
          75,
          76,
          77,
          77,
          79,
          80,
          80,
          80,
          80,
          80,
          80,
          80,
          80,
          81,
          81,
          81,
          81,
          81,
          81,
          82,
          83,
          83,
          83,
          83,
          83,
          83,
          83,
          83,
          84,
          84,
          84,
          84,
          84,
          85,
          85,
          85,
          85,
          85,
          85,
          85,
          86,
          86,
          86,
          86,
          86,
          86,
          86,
          86,
          86,
          86,
          86,
          86,
          86.1872470608802,
          86.1872470608802,
          86.1872470608802,
          86.1872470608802,
          86.1872470608802,
          86.1872470608802,
          86.1872470608802,
          86.1872470608802,
          86.1872470608802,
          86.1872470608802,
          86.1872470608802,
          86.1872470608802,
          86.1872470608802,
          86.1872470608802,
          86.1872470608802,
          86.1872470608802,
          86.1872470608802,
          86.1872470608802,
          86.1872470608802,
          86.1872470608802,
          86.1872470608802,
          86.1872470608802,
          86.1872470608802,
          86.1872470608802,
          86.1872470608802,
          86.1872470608802,
          86.1872470608802,
          86.1872470608802,
          86.1872470608802,
          86.1872470608802,
          86.1872470608802,
          86.1872470608802,
          86.1872470608802,
          86.1872470608802,
          86.1872470608802,
          86.1872470608802,
          86.1872470608802,
          86.1872470608802,
          86.1872470608802,
          86.1872470608802,
          86.1872470608802,
          86.1872470608802,
          86.1872470608802,
          87,
          87,
          87,
          87,
          87,
          87,
          87,
          87,
          87,
          87,
          87,
          87,
          88,
          88,
          88,
          88,
          88,
          88,
          88,
          88,
          88,
          88,
          88,
          89,
          89,
          89,
          89,
          89,
          89,
          89,
          89,
          89,
          89,
          89,
          89,
          89,
          89,
          90,
          90,
          90,
          90,
          90,
          90,
          90,
          90,
          90,
          90,
          90,
          90,
          90,
          90,
          90,
          90,
          90,
          90,
          90,
          90,
          90,
          90,
          90,
          90,
          91,
          91,
          91,
          91,
          91,
          91,
          91,
          91,
          91,
          91,
          92,
          92,
          92,
          92,
          92,
          92,
          92,
          92,
          92,
          92,
          92,
          92,
          92,
          92,
          92,
          92,
          92,
          92,
          92,
          92,
          92,
          92,
          92,
          92,
          92,
          93,
          93,
          93,
          93,
          93,
          93,
          93,
          93,
          93,
          93,
          93,
          93,
          93,
          93,
          93,
          93,
          93,
          94,
          94,
          94,
          94,
          94,
          94,
          94,
          94,
          94,
          94,
          94,
          94,
          94,
          94,
          94,
          94,
          94,
          94,
          94,
          94,
          94,
          95,
          95,
          95,
          95,
          95,
          95,
          95,
          95,
          95,
          95,
          95,
          95,
          95,
          95,
          95,
          95,
          95,
          95,
          95,
          95,
          95,
          95,
          95,
          95,
          96,
          96,
          96,
          96,
          96,
          96,
          96,
          96,
          96,
          96,
          96,
          96,
          96,
          96,
          96,
          96,
          96,
          96,
          96,
          96,
          96,
          97,
          97,
          97,
          97,
          97,
          97,
          97,
          97,
          97,
          97,
          97,
          97,
          97,
          97,
          97,
          97,
          97,
          97,
          97,
          97,
          97,
          97,
          97,
          98,
          98,
          98,
          98,
          98,
          98,
          98,
          98,
          98,
          98,
          98,
          98,
          98,
          98,
          98,
          98,
          98,
          98,
          98,
          98,
          98,
          98,
          98,
          98,
          98,
          99,
          99,
          99,
          99,
          99,
          99,
          99,
          99,
          99,
          99,
          99,
          99,
          99,
          99,
          99,
          99,
          99,
          99,
          99,
          99,
          100,
          100,
          100,
          100,
          100,
          100,
          100,
          100,
          100,
          100,
          100,
          100,
          100,
          100,
          100,
          100,
          100,
          100,
          100,
          100,
          100,
          100,
          100,
          100,
          100,
          100,
          100,
          100,
          101,
          101,
          101,
          101,
          101,
          101,
          101,
          101,
          101,
          101,
          101,
          101,
          101,
          101,
          101,
          101,
          101,
          101,
          101,
          101,
          101,
          101,
          101,
          101,
          101,
          101,
          101,
          102,
          102,
          102,
          102,
          102,
          102,
          102,
          102,
          102,
          102,
          102,
          102,
          102,
          102,
          102,
          102,
          102,
          102,
          102,
          102,
          102,
          102,
          102,
          103,
          103,
          103,
          103,
          103,
          103,
          103,
          103,
          103,
          103,
          103,
          103,
          103,
          103,
          103,
          103,
          103,
          103,
          103,
          103,
          104,
          104,
          104,
          104,
          104,
          104,
          104,
          104,
          104,
          104,
          104,
          104,
          104,
          104,
          104,
          104,
          105,
          105,
          105,
          105,
          105,
          105,
          105,
          105,
          105,
          105,
          105,
          105,
          105,
          105,
          105,
          105,
          105,
          105,
          105,
          105,
          105,
          105,
          105,
          105,
          105,
          105,
          106,
          106,
          106,
          106,
          106,
          106,
          106,
          106,
          106,
          106,
          106,
          106,
          106,
          106,
          106,
          106,
          106,
          106,
          106,
          106,
          107,
          107,
          107,
          107,
          107,
          107,
          107,
          107,
          107,
          107,
          107,
          107,
          107,
          107,
          107,
          107,
          107,
          107,
          107,
          107,
          108,
          108,
          108,
          108,
          108,
          108,
          108,
          108,
          108,
          108,
          108,
          108,
          108,
          108,
          108,
          108,
          108,
          108,
          108,
          109,
          109,
          109,
          109,
          109,
          109,
          109,
          109,
          109,
          109,
          109,
          109,
          109,
          109,
          109,
          109,
          109,
          109,
          109,
          109,
          109,
          109,
          109,
          110,
          110,
          110,
          110,
          110,
          110,
          110,
          110,
          110,
          110,
          110,
          110,
          110,
          110,
          110,
          111,
          111,
          111,
          111,
          111,
          111,
          111,
          111,
          111,
          111,
          111,
          111,
          111,
          112,
          112,
          112,
          112,
          112,
          112,
          112,
          112,
          112,
          112,
          112,
          112,
          112,
          112,
          112,
          112,
          112,
          112,
          113,
          113,
          113,
          113,
          113,
          113,
          113,
          113,
          113,
          113,
          113,
          113,
          113,
          113,
          113,
          113,
          113,
          114,
          114,
          114,
          114,
          114,
          114,
          114,
          114,
          114,
          114,
          114,
          114,
          114,
          114,
          115,
          115,
          115,
          115,
          115,
          115,
          115,
          115,
          115,
          115,
          115,
          115,
          115,
          115,
          115,
          115,
          115,
          115,
          116,
          116,
          116,
          116,
          116,
          116,
          116,
          116,
          116,
          116,
          116,
          116,
          116,
          116,
          116,
          116,
          117,
          117,
          117,
          117,
          117,
          117,
          117,
          117,
          117,
          117,
          117,
          117,
          117,
          117,
          117,
          117,
          117,
          117,
          118,
          118,
          118,
          118,
          118,
          118,
          118,
          118,
          118,
          118,
          118,
          118,
          118,
          118,
          118,
          118,
          118,
          118,
          118,
          119,
          119,
          119,
          119,
          119,
          119,
          119,
          119,
          119,
          119,
          119,
          119,
          119,
          119,
          119,
          120,
          120,
          120,
          120,
          120,
          120,
          120,
          120,
          120,
          120,
          120,
          120,
          121,
          121,
          121,
          121,
          121,
          121,
          121,
          121,
          121,
          121,
          121,
          121,
          122,
          122,
          122,
          122,
          122,
          122,
          122,
          122,
          122,
          123,
          123,
          123,
          123,
          123,
          123,
          123,
          123,
          123,
          123,
          123,
          123,
          124,
          124,
          124,
          124,
          124,
          124,
          124,
          124,
          124,
          124,
          124,
          124,
          124,
          124,
          124,
          124,
          125,
          125,
          125,
          125,
          125,
          125,
          125,
          125,
          125,
          125,
          126,
          126,
          126,
          126,
          126,
          126,
          127,
          127,
          127,
          127,
          127,
          127,
          127,
          127,
          127,
          127,
          127,
          128,
          128,
          128,
          128,
          128,
          128,
          128,
          128,
          128,
          129,
          129,
          129,
          129,
          129,
          129,
          129,
          129,
          130,
          130,
          130,
          130,
          130,
          130,
          130,
          130,
          130,
          130,
          130,
          130,
          131,
          131,
          131,
          131,
          131,
          132,
          132,
          132,
          132,
          132,
          132,
          133,
          133,
          133,
          133,
          133,
          133,
          133,
          133,
          133,
          133,
          134,
          134,
          134,
          134,
          134,
          134,
          135,
          135,
          135,
          135,
          135,
          135,
          135,
          135,
          136,
          136,
          136,
          136,
          137,
          137,
          137,
          137,
          137,
          137,
          137,
          138,
          138,
          138,
          138,
          139,
          139,
          139,
          139,
          139,
          139,
          139,
          140,
          140,
          140,
          140,
          140,
          140,
          140,
          140,
          140,
          140,
          140,
          141,
          141,
          141,
          141,
          141,
          142,
          142,
          142,
          143,
          143,
          143,
          143,
          144,
          144,
          144,
          145,
          146,
          146,
          146,
          146,
          147,
          147,
          148,
          148,
          148,
          148,
          149,
          149,
          150,
          150,
          150,
          151,
          152,
          153,
          154,
          154,
          156,
          157,
          158,
          161,
          164,
          164,
          165,
          165,
          165,
          168,
          169,
          169,
          172,
          180
         ],
         "xaxis": "x",
         "y": [
          5.680645093344871,
          5.692485763798396,
          5.751689116066019,
          5.775370456973068,
          5.810892468333642,
          5.810892468333642,
          5.810892468333642,
          5.834573809240691,
          5.834573809240691,
          5.834573809240691,
          5.834573809240691,
          5.834573809240691,
          5.834573809240691,
          5.846414479694216,
          5.846414479694216,
          5.846414479694216,
          5.846414479694216,
          5.870095820601266,
          5.893777161508315,
          5.905617831961839,
          5.905617831961839,
          5.929299172868889,
          5.929299172868889,
          5.929299172868889,
          5.929299172868889,
          5.9885025251365125,
          6.024024536497087,
          6.047705877404136,
          6.047705877404136,
          6.047705877404136,
          6.059546547857661,
          6.059546547857661,
          6.071387218311186,
          6.071387218311186,
          6.083227888764711,
          6.095068559218235,
          6.095068559218235,
          6.10690922967176,
          6.10690922967176,
          6.118749900125284,
          6.130590570578809,
          6.130590570578809,
          6.154271911485859,
          6.166112581939383,
          6.166112581939383,
          6.166112581939383,
          6.166112581939383,
          6.166112581939383,
          6.166112581939383,
          6.166112581939383,
          6.166112581939383,
          6.177953252392908,
          6.177953252392908,
          6.177953252392908,
          6.177953252392908,
          6.177953252392908,
          6.177953252392908,
          6.189793922846432,
          6.201634593299957,
          6.201634593299957,
          6.201634593299957,
          6.201634593299957,
          6.201634593299957,
          6.201634593299957,
          6.201634593299957,
          6.201634593299957,
          6.213475263753482,
          6.213475263753482,
          6.213475263753482,
          6.213475263753482,
          6.213475263753482,
          6.225315934207007,
          6.225315934207007,
          6.225315934207007,
          6.225315934207007,
          6.225315934207007,
          6.225315934207007,
          6.225315934207007,
          6.237156604660531,
          6.237156604660531,
          6.237156604660531,
          6.237156604660531,
          6.237156604660531,
          6.237156604660531,
          6.237156604660531,
          6.237156604660531,
          6.237156604660531,
          6.237156604660531,
          6.237156604660531,
          6.237156604660531,
          6.239373735401805,
          6.239373735401805,
          6.239373735401805,
          6.239373735401805,
          6.239373735401805,
          6.239373735401805,
          6.239373735401805,
          6.239373735401805,
          6.239373735401805,
          6.239373735401805,
          6.239373735401805,
          6.239373735401805,
          6.239373735401805,
          6.239373735401805,
          6.239373735401805,
          6.239373735401805,
          6.239373735401805,
          6.239373735401805,
          6.239373735401805,
          6.239373735401805,
          6.239373735401805,
          6.239373735401805,
          6.239373735401805,
          6.239373735401805,
          6.239373735401805,
          6.239373735401805,
          6.239373735401805,
          6.239373735401805,
          6.239373735401805,
          6.239373735401805,
          6.239373735401805,
          6.239373735401805,
          6.239373735401805,
          6.239373735401805,
          6.239373735401805,
          6.239373735401805,
          6.239373735401805,
          6.239373735401805,
          6.239373735401805,
          6.239373735401805,
          6.239373735401805,
          6.239373735401805,
          6.239373735401805,
          6.248997275114056,
          6.248997275114056,
          6.248997275114056,
          6.248997275114056,
          6.248997275114056,
          6.248997275114056,
          6.248997275114056,
          6.248997275114056,
          6.248997275114056,
          6.248997275114056,
          6.248997275114056,
          6.248997275114056,
          6.26083794556758,
          6.26083794556758,
          6.26083794556758,
          6.26083794556758,
          6.26083794556758,
          6.26083794556758,
          6.26083794556758,
          6.26083794556758,
          6.26083794556758,
          6.26083794556758,
          6.26083794556758,
          6.272678616021105,
          6.272678616021105,
          6.272678616021105,
          6.272678616021105,
          6.272678616021105,
          6.272678616021105,
          6.272678616021105,
          6.272678616021105,
          6.272678616021105,
          6.272678616021105,
          6.272678616021105,
          6.272678616021105,
          6.272678616021105,
          6.272678616021105,
          6.28451928647463,
          6.28451928647463,
          6.28451928647463,
          6.28451928647463,
          6.28451928647463,
          6.28451928647463,
          6.28451928647463,
          6.28451928647463,
          6.28451928647463,
          6.28451928647463,
          6.28451928647463,
          6.28451928647463,
          6.28451928647463,
          6.28451928647463,
          6.28451928647463,
          6.28451928647463,
          6.28451928647463,
          6.28451928647463,
          6.28451928647463,
          6.28451928647463,
          6.28451928647463,
          6.28451928647463,
          6.28451928647463,
          6.28451928647463,
          6.296359956928155,
          6.296359956928155,
          6.296359956928155,
          6.296359956928155,
          6.296359956928155,
          6.296359956928155,
          6.296359956928155,
          6.296359956928155,
          6.296359956928155,
          6.296359956928155,
          6.308200627381679,
          6.308200627381679,
          6.308200627381679,
          6.308200627381679,
          6.308200627381679,
          6.308200627381679,
          6.308200627381679,
          6.308200627381679,
          6.308200627381679,
          6.308200627381679,
          6.308200627381679,
          6.308200627381679,
          6.308200627381679,
          6.308200627381679,
          6.308200627381679,
          6.308200627381679,
          6.308200627381679,
          6.308200627381679,
          6.308200627381679,
          6.308200627381679,
          6.308200627381679,
          6.308200627381679,
          6.308200627381679,
          6.308200627381679,
          6.308200627381679,
          6.320041297835204,
          6.320041297835204,
          6.320041297835204,
          6.320041297835204,
          6.320041297835204,
          6.320041297835204,
          6.320041297835204,
          6.320041297835204,
          6.320041297835204,
          6.320041297835204,
          6.320041297835204,
          6.320041297835204,
          6.320041297835204,
          6.320041297835204,
          6.320041297835204,
          6.320041297835204,
          6.320041297835204,
          6.331881968288728,
          6.331881968288728,
          6.331881968288728,
          6.331881968288728,
          6.331881968288728,
          6.331881968288728,
          6.331881968288728,
          6.331881968288728,
          6.331881968288728,
          6.331881968288728,
          6.331881968288728,
          6.331881968288728,
          6.331881968288728,
          6.331881968288728,
          6.331881968288728,
          6.331881968288728,
          6.331881968288728,
          6.331881968288728,
          6.331881968288728,
          6.331881968288728,
          6.331881968288728,
          6.343722638742253,
          6.343722638742253,
          6.343722638742253,
          6.343722638742253,
          6.343722638742253,
          6.343722638742253,
          6.343722638742253,
          6.343722638742253,
          6.343722638742253,
          6.343722638742253,
          6.343722638742253,
          6.343722638742253,
          6.343722638742253,
          6.343722638742253,
          6.343722638742253,
          6.343722638742253,
          6.343722638742253,
          6.343722638742253,
          6.343722638742253,
          6.343722638742253,
          6.343722638742253,
          6.343722638742253,
          6.343722638742253,
          6.343722638742253,
          6.355563309195778,
          6.355563309195778,
          6.355563309195778,
          6.355563309195778,
          6.355563309195778,
          6.355563309195778,
          6.355563309195778,
          6.355563309195778,
          6.355563309195778,
          6.355563309195778,
          6.355563309195778,
          6.355563309195778,
          6.355563309195778,
          6.355563309195778,
          6.355563309195778,
          6.355563309195778,
          6.355563309195778,
          6.355563309195778,
          6.355563309195778,
          6.355563309195778,
          6.355563309195778,
          6.367403979649303,
          6.367403979649303,
          6.367403979649303,
          6.367403979649303,
          6.367403979649303,
          6.367403979649303,
          6.367403979649303,
          6.367403979649303,
          6.367403979649303,
          6.367403979649303,
          6.367403979649303,
          6.367403979649303,
          6.367403979649303,
          6.367403979649303,
          6.367403979649303,
          6.367403979649303,
          6.367403979649303,
          6.367403979649303,
          6.367403979649303,
          6.367403979649303,
          6.367403979649303,
          6.367403979649303,
          6.367403979649303,
          6.3792446501028275,
          6.3792446501028275,
          6.3792446501028275,
          6.3792446501028275,
          6.3792446501028275,
          6.3792446501028275,
          6.3792446501028275,
          6.3792446501028275,
          6.3792446501028275,
          6.3792446501028275,
          6.3792446501028275,
          6.3792446501028275,
          6.3792446501028275,
          6.3792446501028275,
          6.3792446501028275,
          6.3792446501028275,
          6.3792446501028275,
          6.3792446501028275,
          6.3792446501028275,
          6.3792446501028275,
          6.3792446501028275,
          6.3792446501028275,
          6.3792446501028275,
          6.3792446501028275,
          6.3792446501028275,
          6.3910853205563525,
          6.3910853205563525,
          6.3910853205563525,
          6.3910853205563525,
          6.3910853205563525,
          6.3910853205563525,
          6.3910853205563525,
          6.3910853205563525,
          6.3910853205563525,
          6.3910853205563525,
          6.3910853205563525,
          6.3910853205563525,
          6.3910853205563525,
          6.3910853205563525,
          6.3910853205563525,
          6.3910853205563525,
          6.3910853205563525,
          6.3910853205563525,
          6.3910853205563525,
          6.3910853205563525,
          6.402925991009877,
          6.402925991009877,
          6.402925991009877,
          6.402925991009877,
          6.402925991009877,
          6.402925991009877,
          6.402925991009877,
          6.402925991009877,
          6.402925991009877,
          6.402925991009877,
          6.402925991009877,
          6.402925991009877,
          6.402925991009877,
          6.402925991009877,
          6.402925991009877,
          6.402925991009877,
          6.402925991009877,
          6.402925991009877,
          6.402925991009877,
          6.402925991009877,
          6.402925991009877,
          6.402925991009877,
          6.402925991009877,
          6.402925991009877,
          6.402925991009877,
          6.402925991009877,
          6.402925991009877,
          6.402925991009877,
          6.414766661463402,
          6.414766661463402,
          6.414766661463402,
          6.414766661463402,
          6.414766661463402,
          6.414766661463402,
          6.414766661463402,
          6.414766661463402,
          6.414766661463402,
          6.414766661463402,
          6.414766661463402,
          6.414766661463402,
          6.414766661463402,
          6.414766661463402,
          6.414766661463402,
          6.414766661463402,
          6.414766661463402,
          6.414766661463402,
          6.414766661463402,
          6.414766661463402,
          6.414766661463402,
          6.414766661463402,
          6.414766661463402,
          6.414766661463402,
          6.414766661463402,
          6.414766661463402,
          6.414766661463402,
          6.426607331916927,
          6.426607331916927,
          6.426607331916927,
          6.426607331916927,
          6.426607331916927,
          6.426607331916927,
          6.426607331916927,
          6.426607331916927,
          6.426607331916927,
          6.426607331916927,
          6.426607331916927,
          6.426607331916927,
          6.426607331916927,
          6.426607331916927,
          6.426607331916927,
          6.426607331916927,
          6.426607331916927,
          6.426607331916927,
          6.426607331916927,
          6.426607331916927,
          6.426607331916927,
          6.426607331916927,
          6.426607331916927,
          6.438448002370452,
          6.438448002370452,
          6.438448002370452,
          6.438448002370452,
          6.438448002370452,
          6.438448002370452,
          6.438448002370452,
          6.438448002370452,
          6.438448002370452,
          6.438448002370452,
          6.438448002370452,
          6.438448002370452,
          6.438448002370452,
          6.438448002370452,
          6.438448002370452,
          6.438448002370452,
          6.438448002370452,
          6.438448002370452,
          6.438448002370452,
          6.438448002370452,
          6.450288672823976,
          6.450288672823976,
          6.450288672823976,
          6.450288672823976,
          6.450288672823976,
          6.450288672823976,
          6.450288672823976,
          6.450288672823976,
          6.450288672823976,
          6.450288672823976,
          6.450288672823976,
          6.450288672823976,
          6.450288672823976,
          6.450288672823976,
          6.450288672823976,
          6.450288672823976,
          6.462129343277501,
          6.462129343277501,
          6.462129343277501,
          6.462129343277501,
          6.462129343277501,
          6.462129343277501,
          6.462129343277501,
          6.462129343277501,
          6.462129343277501,
          6.462129343277501,
          6.462129343277501,
          6.462129343277501,
          6.462129343277501,
          6.462129343277501,
          6.462129343277501,
          6.462129343277501,
          6.462129343277501,
          6.462129343277501,
          6.462129343277501,
          6.462129343277501,
          6.462129343277501,
          6.462129343277501,
          6.462129343277501,
          6.462129343277501,
          6.462129343277501,
          6.462129343277501,
          6.473970013731025,
          6.473970013731025,
          6.473970013731025,
          6.473970013731025,
          6.473970013731025,
          6.473970013731025,
          6.473970013731025,
          6.473970013731025,
          6.473970013731025,
          6.473970013731025,
          6.473970013731025,
          6.473970013731025,
          6.473970013731025,
          6.473970013731025,
          6.473970013731025,
          6.473970013731025,
          6.473970013731025,
          6.473970013731025,
          6.473970013731025,
          6.473970013731025,
          6.48581068418455,
          6.48581068418455,
          6.48581068418455,
          6.48581068418455,
          6.48581068418455,
          6.48581068418455,
          6.48581068418455,
          6.48581068418455,
          6.48581068418455,
          6.48581068418455,
          6.48581068418455,
          6.48581068418455,
          6.48581068418455,
          6.48581068418455,
          6.48581068418455,
          6.48581068418455,
          6.48581068418455,
          6.48581068418455,
          6.48581068418455,
          6.48581068418455,
          6.497651354638075,
          6.497651354638075,
          6.497651354638075,
          6.497651354638075,
          6.497651354638075,
          6.497651354638075,
          6.497651354638075,
          6.497651354638075,
          6.497651354638075,
          6.497651354638075,
          6.497651354638075,
          6.497651354638075,
          6.497651354638075,
          6.497651354638075,
          6.497651354638075,
          6.497651354638075,
          6.497651354638075,
          6.497651354638075,
          6.497651354638075,
          6.5094920250916,
          6.5094920250916,
          6.5094920250916,
          6.5094920250916,
          6.5094920250916,
          6.5094920250916,
          6.5094920250916,
          6.5094920250916,
          6.5094920250916,
          6.5094920250916,
          6.5094920250916,
          6.5094920250916,
          6.5094920250916,
          6.5094920250916,
          6.5094920250916,
          6.5094920250916,
          6.5094920250916,
          6.5094920250916,
          6.5094920250916,
          6.5094920250916,
          6.5094920250916,
          6.5094920250916,
          6.5094920250916,
          6.521332695545124,
          6.521332695545124,
          6.521332695545124,
          6.521332695545124,
          6.521332695545124,
          6.521332695545124,
          6.521332695545124,
          6.521332695545124,
          6.521332695545124,
          6.521332695545124,
          6.521332695545124,
          6.521332695545124,
          6.521332695545124,
          6.521332695545124,
          6.521332695545124,
          6.533173365998649,
          6.533173365998649,
          6.533173365998649,
          6.533173365998649,
          6.533173365998649,
          6.533173365998649,
          6.533173365998649,
          6.533173365998649,
          6.533173365998649,
          6.533173365998649,
          6.533173365998649,
          6.533173365998649,
          6.533173365998649,
          6.545014036452173,
          6.545014036452173,
          6.545014036452173,
          6.545014036452173,
          6.545014036452173,
          6.545014036452173,
          6.545014036452173,
          6.545014036452173,
          6.545014036452173,
          6.545014036452173,
          6.545014036452173,
          6.545014036452173,
          6.545014036452173,
          6.545014036452173,
          6.545014036452173,
          6.545014036452173,
          6.545014036452173,
          6.545014036452173,
          6.556854706905698,
          6.556854706905698,
          6.556854706905698,
          6.556854706905698,
          6.556854706905698,
          6.556854706905698,
          6.556854706905698,
          6.556854706905698,
          6.556854706905698,
          6.556854706905698,
          6.556854706905698,
          6.556854706905698,
          6.556854706905698,
          6.556854706905698,
          6.556854706905698,
          6.556854706905698,
          6.556854706905698,
          6.568695377359223,
          6.568695377359223,
          6.568695377359223,
          6.568695377359223,
          6.568695377359223,
          6.568695377359223,
          6.568695377359223,
          6.568695377359223,
          6.568695377359223,
          6.568695377359223,
          6.568695377359223,
          6.568695377359223,
          6.568695377359223,
          6.568695377359223,
          6.580536047812747,
          6.580536047812747,
          6.580536047812747,
          6.580536047812747,
          6.580536047812747,
          6.580536047812747,
          6.580536047812747,
          6.580536047812747,
          6.580536047812747,
          6.580536047812747,
          6.580536047812747,
          6.580536047812747,
          6.580536047812747,
          6.580536047812747,
          6.580536047812747,
          6.580536047812747,
          6.580536047812747,
          6.580536047812747,
          6.592376718266272,
          6.592376718266272,
          6.592376718266272,
          6.592376718266272,
          6.592376718266272,
          6.592376718266272,
          6.592376718266272,
          6.592376718266272,
          6.592376718266272,
          6.592376718266272,
          6.592376718266272,
          6.592376718266272,
          6.592376718266272,
          6.592376718266272,
          6.592376718266272,
          6.592376718266272,
          6.604217388719797,
          6.604217388719797,
          6.604217388719797,
          6.604217388719797,
          6.604217388719797,
          6.604217388719797,
          6.604217388719797,
          6.604217388719797,
          6.604217388719797,
          6.604217388719797,
          6.604217388719797,
          6.604217388719797,
          6.604217388719797,
          6.604217388719797,
          6.604217388719797,
          6.604217388719797,
          6.604217388719797,
          6.604217388719797,
          6.616058059173321,
          6.616058059173321,
          6.616058059173321,
          6.616058059173321,
          6.616058059173321,
          6.616058059173321,
          6.616058059173321,
          6.616058059173321,
          6.616058059173321,
          6.616058059173321,
          6.616058059173321,
          6.616058059173321,
          6.616058059173321,
          6.616058059173321,
          6.616058059173321,
          6.616058059173321,
          6.616058059173321,
          6.616058059173321,
          6.616058059173321,
          6.627898729626846,
          6.627898729626846,
          6.627898729626846,
          6.627898729626846,
          6.627898729626846,
          6.627898729626846,
          6.627898729626846,
          6.627898729626846,
          6.627898729626846,
          6.627898729626846,
          6.627898729626846,
          6.627898729626846,
          6.627898729626846,
          6.627898729626846,
          6.627898729626846,
          6.639739400080371,
          6.639739400080371,
          6.639739400080371,
          6.639739400080371,
          6.639739400080371,
          6.639739400080371,
          6.639739400080371,
          6.639739400080371,
          6.639739400080371,
          6.639739400080371,
          6.639739400080371,
          6.639739400080371,
          6.651580070533895,
          6.651580070533895,
          6.651580070533895,
          6.651580070533895,
          6.651580070533895,
          6.651580070533895,
          6.651580070533895,
          6.651580070533895,
          6.651580070533895,
          6.651580070533895,
          6.651580070533895,
          6.651580070533895,
          6.66342074098742,
          6.66342074098742,
          6.66342074098742,
          6.66342074098742,
          6.66342074098742,
          6.66342074098742,
          6.66342074098742,
          6.66342074098742,
          6.66342074098742,
          6.675261411440945,
          6.675261411440945,
          6.675261411440945,
          6.675261411440945,
          6.675261411440945,
          6.675261411440945,
          6.675261411440945,
          6.675261411440945,
          6.675261411440945,
          6.675261411440945,
          6.675261411440945,
          6.675261411440945,
          6.687102081894469,
          6.687102081894469,
          6.687102081894469,
          6.687102081894469,
          6.687102081894469,
          6.687102081894469,
          6.687102081894469,
          6.687102081894469,
          6.687102081894469,
          6.687102081894469,
          6.687102081894469,
          6.687102081894469,
          6.687102081894469,
          6.687102081894469,
          6.687102081894469,
          6.687102081894469,
          6.698942752347994,
          6.698942752347994,
          6.698942752347994,
          6.698942752347994,
          6.698942752347994,
          6.698942752347994,
          6.698942752347994,
          6.698942752347994,
          6.698942752347994,
          6.698942752347994,
          6.710783422801519,
          6.710783422801519,
          6.710783422801519,
          6.710783422801519,
          6.710783422801519,
          6.710783422801519,
          6.722624093255043,
          6.722624093255043,
          6.722624093255043,
          6.722624093255043,
          6.722624093255043,
          6.722624093255043,
          6.722624093255043,
          6.722624093255043,
          6.722624093255043,
          6.722624093255043,
          6.722624093255043,
          6.734464763708568,
          6.734464763708568,
          6.734464763708568,
          6.734464763708568,
          6.734464763708568,
          6.734464763708568,
          6.734464763708568,
          6.734464763708568,
          6.734464763708568,
          6.746305434162093,
          6.746305434162093,
          6.746305434162093,
          6.746305434162093,
          6.746305434162093,
          6.746305434162093,
          6.746305434162093,
          6.746305434162093,
          6.7581461046156175,
          6.7581461046156175,
          6.7581461046156175,
          6.7581461046156175,
          6.7581461046156175,
          6.7581461046156175,
          6.7581461046156175,
          6.7581461046156175,
          6.7581461046156175,
          6.7581461046156175,
          6.7581461046156175,
          6.7581461046156175,
          6.7699867750691425,
          6.7699867750691425,
          6.7699867750691425,
          6.7699867750691425,
          6.7699867750691425,
          6.7818274455226675,
          6.7818274455226675,
          6.7818274455226675,
          6.7818274455226675,
          6.7818274455226675,
          6.7818274455226675,
          6.793668115976192,
          6.793668115976192,
          6.793668115976192,
          6.793668115976192,
          6.793668115976192,
          6.793668115976192,
          6.793668115976192,
          6.793668115976192,
          6.793668115976192,
          6.793668115976192,
          6.805508786429717,
          6.805508786429717,
          6.805508786429717,
          6.805508786429717,
          6.805508786429717,
          6.805508786429717,
          6.817349456883242,
          6.817349456883242,
          6.817349456883242,
          6.817349456883242,
          6.817349456883242,
          6.817349456883242,
          6.817349456883242,
          6.817349456883242,
          6.829190127336766,
          6.829190127336766,
          6.829190127336766,
          6.829190127336766,
          6.841030797790291,
          6.841030797790291,
          6.841030797790291,
          6.841030797790291,
          6.841030797790291,
          6.841030797790291,
          6.841030797790291,
          6.852871468243816,
          6.852871468243816,
          6.852871468243816,
          6.852871468243816,
          6.86471213869734,
          6.86471213869734,
          6.86471213869734,
          6.86471213869734,
          6.86471213869734,
          6.86471213869734,
          6.86471213869734,
          6.876552809150865,
          6.876552809150865,
          6.876552809150865,
          6.876552809150865,
          6.876552809150865,
          6.876552809150865,
          6.876552809150865,
          6.876552809150865,
          6.876552809150865,
          6.876552809150865,
          6.876552809150865,
          6.88839347960439,
          6.88839347960439,
          6.88839347960439,
          6.88839347960439,
          6.88839347960439,
          6.900234150057914,
          6.900234150057914,
          6.900234150057914,
          6.912074820511439,
          6.912074820511439,
          6.912074820511439,
          6.912074820511439,
          6.923915490964964,
          6.923915490964964,
          6.923915490964964,
          6.935756161418488,
          6.947596831872013,
          6.947596831872013,
          6.947596831872013,
          6.947596831872013,
          6.959437502325537,
          6.959437502325537,
          6.971278172779062,
          6.971278172779062,
          6.971278172779062,
          6.971278172779062,
          6.983118843232587,
          6.983118843232587,
          6.994959513686112,
          6.994959513686112,
          6.994959513686112,
          7.006800184139636,
          7.018640854593161,
          7.030481525046685,
          7.04232219550021,
          7.04232219550021,
          7.06600353640726,
          7.077844206860784,
          7.089684877314309,
          7.125206888674883,
          7.1607289000354575,
          7.1607289000354575,
          7.172569570488982,
          7.172569570488982,
          7.172569570488982,
          7.208091581849557,
          7.219932252303081,
          7.219932252303081,
          7.255454263663655,
          7.350179627291853
         ],
         "yaxis": "y"
        }
       ],
       "layout": {
        "height": 600,
        "legend": {
         "itemsizing": "constant",
         "tracegroupgap": 0
        },
        "margin": {
         "t": 60
        },
        "template": {
         "data": {
          "bar": [
           {
            "error_x": {
             "color": "#2a3f5f"
            },
            "error_y": {
             "color": "#2a3f5f"
            },
            "marker": {
             "line": {
              "color": "#E5ECF6",
              "width": 0.5
             }
            },
            "type": "bar"
           }
          ],
          "barpolar": [
           {
            "marker": {
             "line": {
              "color": "#E5ECF6",
              "width": 0.5
             }
            },
            "type": "barpolar"
           }
          ],
          "carpet": [
           {
            "aaxis": {
             "endlinecolor": "#2a3f5f",
             "gridcolor": "white",
             "linecolor": "white",
             "minorgridcolor": "white",
             "startlinecolor": "#2a3f5f"
            },
            "baxis": {
             "endlinecolor": "#2a3f5f",
             "gridcolor": "white",
             "linecolor": "white",
             "minorgridcolor": "white",
             "startlinecolor": "#2a3f5f"
            },
            "type": "carpet"
           }
          ],
          "choropleth": [
           {
            "colorbar": {
             "outlinewidth": 0,
             "ticks": ""
            },
            "type": "choropleth"
           }
          ],
          "contour": [
           {
            "colorbar": {
             "outlinewidth": 0,
             "ticks": ""
            },
            "colorscale": [
             [
              0,
              "#0d0887"
             ],
             [
              0.1111111111111111,
              "#46039f"
             ],
             [
              0.2222222222222222,
              "#7201a8"
             ],
             [
              0.3333333333333333,
              "#9c179e"
             ],
             [
              0.4444444444444444,
              "#bd3786"
             ],
             [
              0.5555555555555556,
              "#d8576b"
             ],
             [
              0.6666666666666666,
              "#ed7953"
             ],
             [
              0.7777777777777778,
              "#fb9f3a"
             ],
             [
              0.8888888888888888,
              "#fdca26"
             ],
             [
              1,
              "#f0f921"
             ]
            ],
            "type": "contour"
           }
          ],
          "contourcarpet": [
           {
            "colorbar": {
             "outlinewidth": 0,
             "ticks": ""
            },
            "type": "contourcarpet"
           }
          ],
          "heatmap": [
           {
            "colorbar": {
             "outlinewidth": 0,
             "ticks": ""
            },
            "colorscale": [
             [
              0,
              "#0d0887"
             ],
             [
              0.1111111111111111,
              "#46039f"
             ],
             [
              0.2222222222222222,
              "#7201a8"
             ],
             [
              0.3333333333333333,
              "#9c179e"
             ],
             [
              0.4444444444444444,
              "#bd3786"
             ],
             [
              0.5555555555555556,
              "#d8576b"
             ],
             [
              0.6666666666666666,
              "#ed7953"
             ],
             [
              0.7777777777777778,
              "#fb9f3a"
             ],
             [
              0.8888888888888888,
              "#fdca26"
             ],
             [
              1,
              "#f0f921"
             ]
            ],
            "type": "heatmap"
           }
          ],
          "heatmapgl": [
           {
            "colorbar": {
             "outlinewidth": 0,
             "ticks": ""
            },
            "colorscale": [
             [
              0,
              "#0d0887"
             ],
             [
              0.1111111111111111,
              "#46039f"
             ],
             [
              0.2222222222222222,
              "#7201a8"
             ],
             [
              0.3333333333333333,
              "#9c179e"
             ],
             [
              0.4444444444444444,
              "#bd3786"
             ],
             [
              0.5555555555555556,
              "#d8576b"
             ],
             [
              0.6666666666666666,
              "#ed7953"
             ],
             [
              0.7777777777777778,
              "#fb9f3a"
             ],
             [
              0.8888888888888888,
              "#fdca26"
             ],
             [
              1,
              "#f0f921"
             ]
            ],
            "type": "heatmapgl"
           }
          ],
          "histogram": [
           {
            "marker": {
             "colorbar": {
              "outlinewidth": 0,
              "ticks": ""
             }
            },
            "type": "histogram"
           }
          ],
          "histogram2d": [
           {
            "colorbar": {
             "outlinewidth": 0,
             "ticks": ""
            },
            "colorscale": [
             [
              0,
              "#0d0887"
             ],
             [
              0.1111111111111111,
              "#46039f"
             ],
             [
              0.2222222222222222,
              "#7201a8"
             ],
             [
              0.3333333333333333,
              "#9c179e"
             ],
             [
              0.4444444444444444,
              "#bd3786"
             ],
             [
              0.5555555555555556,
              "#d8576b"
             ],
             [
              0.6666666666666666,
              "#ed7953"
             ],
             [
              0.7777777777777778,
              "#fb9f3a"
             ],
             [
              0.8888888888888888,
              "#fdca26"
             ],
             [
              1,
              "#f0f921"
             ]
            ],
            "type": "histogram2d"
           }
          ],
          "histogram2dcontour": [
           {
            "colorbar": {
             "outlinewidth": 0,
             "ticks": ""
            },
            "colorscale": [
             [
              0,
              "#0d0887"
             ],
             [
              0.1111111111111111,
              "#46039f"
             ],
             [
              0.2222222222222222,
              "#7201a8"
             ],
             [
              0.3333333333333333,
              "#9c179e"
             ],
             [
              0.4444444444444444,
              "#bd3786"
             ],
             [
              0.5555555555555556,
              "#d8576b"
             ],
             [
              0.6666666666666666,
              "#ed7953"
             ],
             [
              0.7777777777777778,
              "#fb9f3a"
             ],
             [
              0.8888888888888888,
              "#fdca26"
             ],
             [
              1,
              "#f0f921"
             ]
            ],
            "type": "histogram2dcontour"
           }
          ],
          "mesh3d": [
           {
            "colorbar": {
             "outlinewidth": 0,
             "ticks": ""
            },
            "type": "mesh3d"
           }
          ],
          "parcoords": [
           {
            "line": {
             "colorbar": {
              "outlinewidth": 0,
              "ticks": ""
             }
            },
            "type": "parcoords"
           }
          ],
          "scatter": [
           {
            "marker": {
             "colorbar": {
              "outlinewidth": 0,
              "ticks": ""
             }
            },
            "type": "scatter"
           }
          ],
          "scatter3d": [
           {
            "line": {
             "colorbar": {
              "outlinewidth": 0,
              "ticks": ""
             }
            },
            "marker": {
             "colorbar": {
              "outlinewidth": 0,
              "ticks": ""
             }
            },
            "type": "scatter3d"
           }
          ],
          "scattercarpet": [
           {
            "marker": {
             "colorbar": {
              "outlinewidth": 0,
              "ticks": ""
             }
            },
            "type": "scattercarpet"
           }
          ],
          "scattergeo": [
           {
            "marker": {
             "colorbar": {
              "outlinewidth": 0,
              "ticks": ""
             }
            },
            "type": "scattergeo"
           }
          ],
          "scattergl": [
           {
            "marker": {
             "colorbar": {
              "outlinewidth": 0,
              "ticks": ""
             }
            },
            "type": "scattergl"
           }
          ],
          "scattermapbox": [
           {
            "marker": {
             "colorbar": {
              "outlinewidth": 0,
              "ticks": ""
             }
            },
            "type": "scattermapbox"
           }
          ],
          "scatterpolar": [
           {
            "marker": {
             "colorbar": {
              "outlinewidth": 0,
              "ticks": ""
             }
            },
            "type": "scatterpolar"
           }
          ],
          "scatterpolargl": [
           {
            "marker": {
             "colorbar": {
              "outlinewidth": 0,
              "ticks": ""
             }
            },
            "type": "scatterpolargl"
           }
          ],
          "scatterternary": [
           {
            "marker": {
             "colorbar": {
              "outlinewidth": 0,
              "ticks": ""
             }
            },
            "type": "scatterternary"
           }
          ],
          "surface": [
           {
            "colorbar": {
             "outlinewidth": 0,
             "ticks": ""
            },
            "colorscale": [
             [
              0,
              "#0d0887"
             ],
             [
              0.1111111111111111,
              "#46039f"
             ],
             [
              0.2222222222222222,
              "#7201a8"
             ],
             [
              0.3333333333333333,
              "#9c179e"
             ],
             [
              0.4444444444444444,
              "#bd3786"
             ],
             [
              0.5555555555555556,
              "#d8576b"
             ],
             [
              0.6666666666666666,
              "#ed7953"
             ],
             [
              0.7777777777777778,
              "#fb9f3a"
             ],
             [
              0.8888888888888888,
              "#fdca26"
             ],
             [
              1,
              "#f0f921"
             ]
            ],
            "type": "surface"
           }
          ],
          "table": [
           {
            "cells": {
             "fill": {
              "color": "#EBF0F8"
             },
             "line": {
              "color": "white"
             }
            },
            "header": {
             "fill": {
              "color": "#C8D4E3"
             },
             "line": {
              "color": "white"
             }
            },
            "type": "table"
           }
          ]
         },
         "layout": {
          "annotationdefaults": {
           "arrowcolor": "#2a3f5f",
           "arrowhead": 0,
           "arrowwidth": 1
          },
          "colorscale": {
           "diverging": [
            [
             0,
             "#8e0152"
            ],
            [
             0.1,
             "#c51b7d"
            ],
            [
             0.2,
             "#de77ae"
            ],
            [
             0.3,
             "#f1b6da"
            ],
            [
             0.4,
             "#fde0ef"
            ],
            [
             0.5,
             "#f7f7f7"
            ],
            [
             0.6,
             "#e6f5d0"
            ],
            [
             0.7,
             "#b8e186"
            ],
            [
             0.8,
             "#7fbc41"
            ],
            [
             0.9,
             "#4d9221"
            ],
            [
             1,
             "#276419"
            ]
           ],
           "sequential": [
            [
             0,
             "#0d0887"
            ],
            [
             0.1111111111111111,
             "#46039f"
            ],
            [
             0.2222222222222222,
             "#7201a8"
            ],
            [
             0.3333333333333333,
             "#9c179e"
            ],
            [
             0.4444444444444444,
             "#bd3786"
            ],
            [
             0.5555555555555556,
             "#d8576b"
            ],
            [
             0.6666666666666666,
             "#ed7953"
            ],
            [
             0.7777777777777778,
             "#fb9f3a"
            ],
            [
             0.8888888888888888,
             "#fdca26"
            ],
            [
             1,
             "#f0f921"
            ]
           ],
           "sequentialminus": [
            [
             0,
             "#0d0887"
            ],
            [
             0.1111111111111111,
             "#46039f"
            ],
            [
             0.2222222222222222,
             "#7201a8"
            ],
            [
             0.3333333333333333,
             "#9c179e"
            ],
            [
             0.4444444444444444,
             "#bd3786"
            ],
            [
             0.5555555555555556,
             "#d8576b"
            ],
            [
             0.6666666666666666,
             "#ed7953"
            ],
            [
             0.7777777777777778,
             "#fb9f3a"
            ],
            [
             0.8888888888888888,
             "#fdca26"
            ],
            [
             1,
             "#f0f921"
            ]
           ]
          },
          "colorway": [
           "#636efa",
           "#EF553B",
           "#00cc96",
           "#ab63fa",
           "#FFA15A",
           "#19d3f3",
           "#FF6692",
           "#B6E880",
           "#FF97FF",
           "#FECB52"
          ],
          "font": {
           "color": "#2a3f5f"
          },
          "geo": {
           "bgcolor": "white",
           "lakecolor": "white",
           "landcolor": "#E5ECF6",
           "showlakes": true,
           "showland": true,
           "subunitcolor": "white"
          },
          "hoverlabel": {
           "align": "left"
          },
          "hovermode": "closest",
          "mapbox": {
           "style": "light"
          },
          "paper_bgcolor": "white",
          "plot_bgcolor": "#E5ECF6",
          "polar": {
           "angularaxis": {
            "gridcolor": "white",
            "linecolor": "white",
            "ticks": ""
           },
           "bgcolor": "#E5ECF6",
           "radialaxis": {
            "gridcolor": "white",
            "linecolor": "white",
            "ticks": ""
           }
          },
          "scene": {
           "xaxis": {
            "backgroundcolor": "#E5ECF6",
            "gridcolor": "white",
            "gridwidth": 2,
            "linecolor": "white",
            "showbackground": true,
            "ticks": "",
            "zerolinecolor": "white"
           },
           "yaxis": {
            "backgroundcolor": "#E5ECF6",
            "gridcolor": "white",
            "gridwidth": 2,
            "linecolor": "white",
            "showbackground": true,
            "ticks": "",
            "zerolinecolor": "white"
           },
           "zaxis": {
            "backgroundcolor": "#E5ECF6",
            "gridcolor": "white",
            "gridwidth": 2,
            "linecolor": "white",
            "showbackground": true,
            "ticks": "",
            "zerolinecolor": "white"
           }
          },
          "shapedefaults": {
           "line": {
            "color": "#2a3f5f"
           }
          },
          "ternary": {
           "aaxis": {
            "gridcolor": "white",
            "linecolor": "white",
            "ticks": ""
           },
           "baxis": {
            "gridcolor": "white",
            "linecolor": "white",
            "ticks": ""
           },
           "bgcolor": "#E5ECF6",
           "caxis": {
            "gridcolor": "white",
            "linecolor": "white",
            "ticks": ""
           }
          },
          "title": {
           "x": 0.05
          },
          "xaxis": {
           "automargin": true,
           "gridcolor": "white",
           "linecolor": "white",
           "ticks": "",
           "zerolinecolor": "white",
           "zerolinewidth": 2
          },
          "yaxis": {
           "automargin": true,
           "gridcolor": "white",
           "linecolor": "white",
           "ticks": "",
           "zerolinecolor": "white",
           "zerolinewidth": 2
          }
         }
        },
        "xaxis": {
         "anchor": "y",
         "domain": [
          0,
          0.98
         ],
         "title": {
          "text": "runtime_minutes"
         }
        },
        "yaxis": {
         "anchor": "x",
         "domain": [
          0,
          1
         ],
         "title": {
          "text": "vote_average"
         }
        }
       }
      },
      "text/html": [
       "<div>\n",
       "        \n",
       "        \n",
       "            <div id=\"f351bbf5-9b83-4cbc-a775-f94434e2f9a7\" class=\"plotly-graph-div\" style=\"height:600px; width:100%;\"></div>\n",
       "            <script type=\"text/javascript\">\n",
       "                require([\"plotly\"], function(Plotly) {\n",
       "                    window.PLOTLYENV=window.PLOTLYENV || {};\n",
       "                    \n",
       "                if (document.getElementById(\"f351bbf5-9b83-4cbc-a775-f94434e2f9a7\")) {\n",
       "                    Plotly.newPlot(\n",
       "                        'f351bbf5-9b83-4cbc-a775-f94434e2f9a7',\n",
       "                        [{\"customdata\": [[\"Inception\"], [\"Deadpool\"], [\"Interstellar\"], [\"Guardians of the Galaxy\"], [\"Django Unchained\"], [\"The Hunger Games\"], [\"Mad Max: Fury Road\"], [\"Jurassic World\"], [\"Captain America: Civil War\"], [\"Avengers: Infinity War\"], [\"The Dark Knight Rises\"], [\"Suicide Squad\"], [\"Avengers: Age of Ultron\"], [\"Captain America: The First Avenger\"], [\"Thor\"], [\"Shutter Island\"], [\"Doctor Strange\"], [\"The Wolf of Wall Street\"], [\"Iron Man 2\"], [\"The Martian\"], [\"The Hobbit: An Unexpected Journey\"], [\"Batman v Superman: Dawn of Justice\"], [\"Ant-Man\"], [\"Spider-Man: Homecoming\"], [\"Thor: Ragnarok\"], [\"The Hunger Games: Catching Fire\"], [\"The Revenant\"], [\"The Revenant\"], [\"Captain America: The Winter Soldier\"], [\"It\"], [\"The Maze Runner\"], [\"Gone Girl\"], [\"Skyfall\"], [\"The Amazing Spider-Man\"], [\"The Imitation Game\"], [\"Arrival\"], [\"Arrival\"], [\"Kingsman: The Secret Service\"], [\"Big Hero 6\"], [\"Thor: The Dark World\"], [\"The Hunger Games: Mockingjay - Part 1\"], [\"John Wick\"], [\"X-Men: Days of Future Past\"], [\"Despicable Me\"], [\"La La Land\"], [\"Lucy\"], [\"Lucy\"], [\"Zootopia\"], [\"Now You See Me\"], [\"Now You See Me\"], [\"Man of Steel\"], [\"Gravity\"], [\"Dunkirk\"], [\"World War Z\"], [\"Deadpool 2\"], [\"Life of Pi\"], [\"Coco\"], [\"Coco\"], [\"Pirates of the Caribbean: On Stranger Tides\"], [\"The Hobbit: The Battle of the Five Armies\"], [\"Black Swan\"], [\"X-Men: Apocalypse\"], [\"Toy Story 3\"], [\"Divergent\"], [\"Maleficent\"], [\"Brave\"], [\"Brave\"], [\"The Grand Budapest Hotel\"], [\"The Hateful Eight\"], [\"Edge of Tomorrow\"], [\"Baby Driver\"], [\"Ex Machina\"], [\"Finding Dory\"], [\"Wreck-It Ralph\"], [\"The Hobbit: The Desolation of Smaug\"], [\"Ted\"], [\"American Sniper\"], [\"Silver Linings Playbook\"], [\"Pacific Rim\"], [\"Bohemian Rhapsody\"], [\"How to Train Your Dragon\"], [\"The Hunger Games: Mockingjay - Part 2\"], [\"Kick-Ass\"], [\"Justice League\"], [\"Prometheus\"], [\"Minions\"], [\"Despicable Me 2\"], [\"Rise of the Planet of the Apes\"], [\"The Shape of Water\"], [\"The Amazing Spider-Man 2\"], [\"Jumanji: Welcome to the Jungle\"], [\"Dawn of the Planet of the Apes\"], [\"Ready Player One\"], [\"Pirates of the Caribbean: Dead Men Tell No Tales\"], [\"Oblivion\"], [\"Oblivion\"], [\"Now You See Me 2\"], [\"Looper\"], [\"Spectre\"], [\"Blade Runner 2049\"], [\"12 Years a Slave\"], [\"Hacksaw Ridge\"], [\"21 Jump Street\"], [\"Fifty Shades of Grey\"], [\"The Theory of Everything\"], [\"Tangled\"], [\"Sherlock Holmes: A Game of Shadows\"], [\"Maze Runner: The Scorch Trials\"], [\"Monsters University\"], [\"Incredibles 2\"], [\"The Fate of the Furious\"], [\"Limitless\"], [\"Limitless\"], [\"Ant-Man and the Wasp\"], [\"In Time\"], [\"The Hangover Part II\"], [\"Star Trek Into Darkness\"], [\"The Wolverine\"], [\"Aquaman\"], [\"The Social Network\"], [\"Kong: Skull Island\"], [\"Jurassic World: Fallen Kingdom\"], [\"Me Before You\"], [\"The Perks of Being a Wallflower\"], [\"The Conjuring\"], [\"Nightcrawler\"], [\"A Quiet Place\"], [\"A Quiet Place\"], [\"Prisoners\"], [\"How to Train Your Dragon 2\"], [\"Kingsman: The Golden Circle\"], [\"Room\"], [\"Three Billboards Outside Ebbing, Missouri\"], [\"Elysium\"], [\"Elysium\"], [\"The Secret Life of Pets\"], [\"Snow White and the Huntsman\"], [\"War for the Planet of the Apes\"], [\"We're the Millers\"], [\"The Greatest Showman\"], [\"22 Jump Street\"], [\"Argo\"], [\"San Andreas\"], [\"Hotel Transylvania\"], [\"Chappie\"], [\"The Equalizer\"], [\"Alien: Covenant\"], [\"Dallas Buyers Club\"], [\"Transformers: Dark of the Moon\"], [\"Spotlight\"], [\"Spotlight\"], [\"The Twilight Saga: Eclipse\"], [\"Fantastic Beasts: The Crimes of Grindelwald\"], [\"The Secret Life of Walter Mitty\"], [\"Transformers: Age of Extinction\"], [\"The Purge\"], [\"Baywatch\"], [\"Snowpiercer\"], [\"Hidden Figures\"], [\"The Big Short\"], [\"The Expendables\"], [\"Friends with Benefits\"], [\"10 Cloverfield Lane\"], [\"Tomorrowland\"], [\"Tomorrowland\"], [\"Ice Age: Continental Drift\"], [\"Real Steel\"], [\"Neighbors\"], [\"Neighbors\"], [\"Neighbors\"], [\"Neighbors\"], [\"Source Code\"], [\"Cloud Atlas\"], [\"Fifty Shades Darker\"], [\"Sicario\"], [\"127 Hours\"], [\"American Hustle\"], [\"A Good Day to Die Hard\"], [\"Jupiter Ascending\"], [\"The Boss Baby\"], [\"Bridge of Spies\"], [\"Tomb Raider\"], [\"Sing\"], [\"Fast Five\"], [\"Green Lantern\"], [\"Star Trek Beyond\"], [\"The Nice Guys\"], [\"Sausage Party\"], [\"Pitch Perfect\"], [\"Ted 2\"], [\"The Expendables 2\"], [\"Dark Shadows\"], [\"Nocturnal Animals\"], [\"The Cabin in the Woods\"], [\"Easy A\"], [\"Jack Reacher\"], [\"After Earth\"], [\"Valerian and the City of a Thousand Planets\"], [\"Hugo\"], [\"Hugo\"], [\"Warm Bodies\"], [\"Despicable Me 3\"], [\"The Legend of Tarzan\"], [\"Olympus Has Fallen\"], [\"Warcraft\"], [\"Cars 2\"], [\"Taken 2\"], [\"Creed\"], [\"Creed\"], [\"Creed\"], [\"About Time\"], [\"The Girl with the Dragon Tattoo\"], [\"Midnight in Paris\"], [\"Midnight in Paris\"], [\"Wonder\"], [\"The Help\"], [\"Super 8\"], [\"Sully\"], [\"Independence Day: Resurgence\"], [\"Captain Phillips\"], [\"G.I. Joe: Retaliation\"], [\"Inferno\"], [\"Inferno\"], [\"Inferno\"], [\"The Croods\"], [\"Lady Bird\"], [\"The Age of Adaline\"], [\"Shrek Forever After\"], [\"Horrible Bosses\"], [\"Solo: A Star Wars Story\"], [\"Fantastic Four\"], [\"Fantastic Four\"], [\"Lion\"], [\"Lion\"], [\"Lion\"], [\"Alice Through the Looking Glass\"], [\"The Lone Ranger\"], [\"Kick-Ass 2\"], [\"The Purge: Anarchy\"], [\"Rio\"], [\"Rio\"], [\"Rio\"], [\"Dracula Untold\"], [\"Rise of the Guardians\"], [\"The 5th Wave\"], [\"Atomic Blonde\"], [\"Megamind\"], [\"The Bourne Legacy\"], [\"Kung Fu Panda 2\"], [\"The Impossible\"], [\"Jason Bourne\"], [\"Pitch Perfect 2\"], [\"Paper Towns\"], [\"Flight\"], [\"Insidious\"], [\"Ender's Game\"], [\"Night at the Museum: Secret of the Tomb\"], [\"Fifty Shades Freed\"], [\"The Babadook\"], [\"Green Book\"], [\"The Book of Eli\"], [\"It Follows\"], [\"Southpaw\"], [\"Rango\"], [\"The Accountant\"], [\"Red Sparrow\"], [\"Taken 3\"], [\"Jack the Giant Slayer\"], [\"Madagascar 3: Europe's Most Wanted\"], [\"The Intern\"], [\"Annabelle\"], [\"John Carter\"], [\"King Arthur: Legend of the Sword\"], [\"Collateral Beauty\"], [\"Transformers: The Last Knight\"], [\"The Adventures of Tintin\"], [\"Battleship\"], [\"Salt\"], [\"Happy Death Day\"], [\"The Chronicles of Narnia: The Voyage of the Dawn Treader\"], [\"Hotel Transylvania 2\"], [\"Manchester by the Sea\"], [\"Grown Ups\"], [\"Love, Simon\"], [\"Annabelle: Creation\"], [\"The Karate Kid\"], [\"The Karate Kid\"], [\"BlacKkKlansman\"], [\"The Good Dinosaur\"], [\"Central Intelligence\"], [\"The Tourist\"], [\"Percy Jackson: Sea of Monsters\"], [\"Boyhood\"], [\"The Giver\"], [\"The Dictator\"], [\"The Shallows\"], [\"Moonrise Kingdom\"], [\"Paul\"], [\"Paul\"], [\"The World's End\"], [\"Crimson Peak\"], [\"Due Date\"], [\"Project X\"], [\"Project X\"], [\"Kung Fu Panda 3\"], [\"The Witch\"], [\"The Mortal Instruments: City of Bones\"], [\"Exodus: Gods and Kings\"], [\"I, Tonya\"], [\"The Purge: Election Year\"], [\"The Meg\"], [\"Bad Teacher\"], [\"Into the Woods\"], [\"Into the Woods\"], [\"Into the Woods\"], [\"Into the Woods\"], [\"The Sorcerer's Apprentice\"], [\"The Expendables 3\"], [\"Riddick\"], [\"The Dark Tower\"], [\"Jack Reacher: Never Go Back\"], [\"Neighbors 2: Sorority Rising\"], [\"White House Down\"], [\"True Grit\"], [\"Escape Plan\"], [\"Dredd\"], [\"The Book Thief\"], [\"Bridesmaids\"], [\"The Place Beyond the Pines\"], [\"The Great Wall\"], [\"The Great Wall\"], [\"Allied\"], [\"Game Night\"], [\"Game Night\"], [\"Joy\"], [\"Joy\"], [\"Joy\"], [\"Joy\"], [\"Joy\"], [\"Sucker Punch\"], [\"Darkest Hour\"], [\"Don Jon\"], [\"If I Stay\"], [\"The A-Team\"], [\"Sex Tape\"], [\"American Reunion\"], [\"Dear John\"], [\"Dirty Grandpa\"], [\"The Visit\"], [\"The Visit\"], [\"The Visit\"], [\"The Visit\"], [\"The Internship\"], [\"The Adjustment Bureau\"], [\"No Strings Attached\"], [\"No Strings Attached\"], [\"No Strings Attached\"], [\"Deepwater Horizon\"], [\"Bad Moms\"], [\"Cars 3\"], [\"London Has Fallen\"], [\"Horrible Bosses 2\"], [\"Steve Jobs\"], [\"Robin Hood\"], [\"Robin Hood\"], [\"Robin Hood\"], [\"Robin Hood\"], [\"Robin Hood\"], [\"Robin Hood\"], [\"Robin Hood\"], [\"Robin Hood\"], [\"Zero Dark Thirty\"], [\"Gangster Squad\"], [\"The Post\"], [\"Spring Breakers\"], [\"Why Him?\"], [\"Hereditary\"], [\"Hell or High Water\"], [\"Everything, Everything\"], [\"Wrath of the Titans\"], [\"The Heat\"], [\"Ice Age: Collision Course\"], [\"Snowden\"], [\"Bumblebee\"], [\"Mama\"], [\"Mama\"], [\"Mama\"], [\"Mama\"], [\"Mama\"], [\"Mama\"], [\"Mama\"], [\"The Vow\"], [\"The Commuter\"], [\"Need for Speed\"], [\"War Dogs\"], [\"The Town\"], [\"The Town\"], [\"2 Guns\"], [\"The Judge\"], [\"The Judge\"], [\"Gods of Egypt\"], [\"Hail, Caesar!\"], [\"The Fighter\"], [\"Resident Evil: Retribution\"], [\"Underworld: Blood Wars\"], [\"First Man\"], [\"First Man\"], [\"Lone Survivor\"], [\"The Grey\"], [\"Penguins of Madagascar\"], [\"Lincoln\"], [\"Moneyball\"], [\"Geostorm\"], [\"Unbroken\"], [\"Unbroken\"], [\"Creed II\"], [\"Identity Thief\"], [\"The Monuments Men\"], [\"The Edge of Seventeen\"], [\"Lights Out\"], [\"Lights Out\"], [\"Lights Out\"], [\"Lights Out\"], [\"The Last Song\"], [\"The Last Witch Hunter\"], [\"Warrior\"], [\"Warrior\"], [\"American Made\"], [\"The Other Guys\"], [\"Skyscraper\"], [\"Big Eyes\"], [\"Big Eyes\"], [\"Journey 2: The Mysterious Island\"], [\"Goosebumps\"], [\"The Last Airbender\"], [\"In the Heart of the Sea\"], [\"Before I Fall\"], [\"The Woman in Black\"], [\"Resident Evil: Afterlife\"], [\"The Smurfs\"], [\"50/50\"], [\"50/50\"], [\"Seven Psychopaths\"], [\"One Day\"], [\"One Day\"], [\"One Day\"], [\"Mirror Mirror\"], [\"The Favourite\"], [\"This Means War\"], [\"The Founder\"], [\"Grown Ups 2\"], [\"Begin Again\"], [\"Begin Again\"], [\"The Equalizer 2\"], [\"47 Ronin\"], [\"Remember Me\"], [\"Remember Me\"], [\"Remember Me\"], [\"Remember Me\"], [\"Pompeii\"], [\"Saving Mr. Banks\"], [\"Straight Outta Compton\"], [\"R.I.P.D.\"], [\"Unknown\"], [\"Unknown\"], [\"Unknown\"], [\"Unknown\"], [\"Ghost Rider: Spirit of Vengeance\"], [\"Gifted\"], [\"Gifted\"], [\"Kubo and the Two Strings\"], [\"Black Mass\"], [\"Unfriended\"], [\"The Lucky One\"], [\"Abraham Lincoln: Vampire Hunter\"], [\"The Neon Demon\"], [\"Safe House\"], [\"Safe House\"], [\"Safe House\"], [\"Blue Jasmine\"], [\"Predators\"], [\"Carol\"], [\"Still Alice\"], [\"Hanna\"], [\"Vacation\"], [\"Mechanic: Resurrection\"], [\"A Monster Calls\"], [\"The BFG\"], [\"Unstoppable\"], [\"Unstoppable\"], [\"Unstoppable\"], [\"Unstoppable\"], [\"Unstoppable\"], [\"Brooklyn\"], [\"Brooklyn\"], [\"The Longest Ride\"], [\"Valentine's Day\"], [\"The Walk\"], [\"The Walk\"], [\"Paddington\"], [\"The Green Hornet\"], [\"The Disaster Artist\"], [\"Downsizing\"], [\"Jigsaw\"], [\"Pitch Perfect 3\"], [\"Red Riding Hood\"], [\"Little Fockers\"], [\"Trolls\"], [\"Parker\"], [\"Machete\"], [\"Teenage Mutant Ninja Turtles: Out of the Shadows\"], [\"Money Monster\"], [\"Resident Evil: The Final Chapter\"], [\"Magic Mike\"], [\"War Horse\"], [\"The First Purge\"], [\"Dumb and Dumber To\"], [\"Burnt\"], [\"Burnt\"], [\"I Origins\"], [\"Johnny English Reborn\"], [\"Rio 2\"], [\"The Spectacular Now\"], [\"Abduction\"], [\"Abduction\"], [\"Abduction\"], [\"Abduction\"], [\"Abduction\"], [\"Swiss Army Man\"], [\"The Artist\"], [\"The Artist\"], [\"The Artist\"], [\"Rings\"], [\"The Call\"], [\"The Call\"], [\"The Call\"], [\"End of Watch\"], [\"Hitman: Agent 47\"], [\"That Awkward Moment\"], [\"Turbo\"], [\"A Simple Favor\"], [\"American Ultra\"], [\"Mortal Engines\"], [\"Beastly\"], [\"Oculus\"], [\"Date Night\"], [\"Trainwreck\"], [\"The Tree of Life\"], [\"The Tree of Life\"], [\"Blended\"], [\"Letters to Juliet\"], [\"Final Destination 5\"], [\"Pan\"], [\"The Last Stand\"], [\"The Last Stand\"], [\"Jack Ryan: Shadow Recruit\"], [\"A Walk Among the Tombstones\"], [\"Frankenweenie\"], [\"Run All Night\"], [\"Cloudy with a Chance of Meatballs 2\"], [\"Blue Valentine\"], [\"The Mechanic\"], [\"Hotel Transylvania 3: Summer Vacation\"], [\"Epic\"], [\"Ouija\"], [\"Mortdecai\"], [\"Lawless\"], [\"Lawless\"], [\"Upside Down\"], [\"Upside Down\"], [\"Upside Down\"], [\"Upside Down\"], [\"Upside Down\"], [\"Upside Down\"], [\"Melancholia\"], [\"Melancholia\"], [\"Logan Lucky\"], [\"The Bounty Hunter\"], [\"Water for Elephants\"], [\"Jobs\"], [\"Scream 4\"], [\"Shame\"], [\"American Assassin\"], [\"Mud\"], [\"Tower Heist\"], [\"Me and Earl and the Dying Girl\"], [\"Mike and Dave Need Wedding Dates\"], [\"Seventh Son\"], [\"The Lincoln Lawyer\"], [\"We Bought a Zoo\"], [\"The Descendants\"], [\"The Descendants\"], [\"Devil\"], [\"The Best of Me\"], [\"Crazy Rich Asians\"], [\"The Little Prince\"], [\"The Little Prince\"], [\"Knock Knock\"], [\"Knock Knock\"], [\"Buried\"], [\"Buried\"], [\"Buried\"], [\"Get Hard\"], [\"Get Hard\"], [\"The Next Three Days\"], [\"Fences\"], [\"Fences\"], [\"Man on a Ledge\"], [\"Mary Poppins Returns\"], [\"The Space Between Us\"], [\"Project Almanac\"], [\"The Emoji Movie\"], [\"Safe Haven\"], [\"Safe Haven\"], [\"Immortals\"], [\"The First Time\"], [\"The First Time\"], [\"Ferdinand\"], [\"Puss in Boots\"], [\"Jackie\"], [\"Jackie\"], [\"Jackie\"], [\"Jackie\"], [\"Ouija: Origin of Evil\"], [\"Homefront\"], [\"Anchorman 2: The Legend Continues\"], [\"The Change-Up\"], [\"The Ides of March\"], [\"Inside Llewyn Davis\"], [\"Mommy\"], [\"Mommy\"], [\"Charlie St. Cloud\"], [\"The Lost City of Z\"], [\"Only God Forgives\"], [\"Hot Tub Time Machine\"], [\"Zoolander 2\"], [\"Colombiana\"], [\"Locke\"], [\"Inherent Vice\"], [\"ParaNorman\"], [\"Mr. Peabody & Sherman\"], [\"The Watch\"], [\"Selma\"], [\"Season of the Witch\"], [\"Trance\"], [\"Trance\"], [\"Trance\"], [\"Trance\"], [\"Trance\"], [\"Trance\"], [\"Paranormal Activity 2\"], [\"Patriots Day\"], [\"Movie 43\"], [\"Upgrade\"], [\"Upgrade\"], [\"It's Kind of a Funny Story\"], [\"The Master\"], [\"The Master\"], [\"The Master\"], [\"The Master\"], [\"Sicario: Day of the Soldado\"], [\"Green Room\"], [\"Killers\"], [\"Killers\"], [\"12 Strong\"], [\"Storks\"], [\"Insidious: The Last Key\"], [\"We Need to Talk About Kevin\"], [\"J. Edgar\"], [\"The Big Sick\"], [\"No Escape\"], [\"Hardcore Henry\"], [\"Never Let Me Go\"], [\"Never Let Me Go\"], [\"Gulliver's Travels\"], [\"Stoker\"], [\"3 Days to Kill\"], [\"Ride Along\"], [\"Ride Along\"], [\"What's Your Number?\"], [\"Anna Karenina\"], [\"Triple 9\"], [\"You're Next\"], [\"Step Up Revolution\"], [\"Den of Thieves\"], [\"Premium Rush\"], [\"Two Night Stand\"], [\"We Are Your Friends\"], [\"Aloha\"], [\"The Snowman\"], [\"Legend of the Guardians: The Owls of Ga'Hoole\"], [\"The Drop\"], [\"The Drop\"], [\"The Drop\"], [\"Last Vegas\"], [\"Eat Pray Love\"], [\"The Smurfs 2\"], [\"Victor Frankenstein\"], [\"Paranormal Activity 3\"], [\"Burlesque\"], [\"Burlesque\"], [\"Pride and Prejudice and Zombies\"], [\"Monte Carlo\"], [\"Office Christmas Party\"], [\"Eddie the Eagle\"], [\"Green Zone\"], [\"Alpha\"], [\"Alpha\"], [\"Alpha\"], [\"Alpha\"], [\"Blackhat\"], [\"The SpongeBob Movie: Sponge Out of Water\"], [\"The Darkest Minds\"], [\"Priest\"], [\"Attack the Block\"], [\"Sinister 2\"], [\"The Ghost Writer\"], [\"What to Expect When You're Expecting\"], [\"The Florida Project\"], [\"Jack and Jill\"], [\"Contraband\"], [\"Magic Mike XXL\"], [\"Seeking a Friend for the End of the World\"], [\"Killing Them Softly\"], [\"Midnight Special\"], [\"Youth\"], [\"Youth\"], [\"Youth\"], [\"To Rome with Love\"], [\"Rough Night\"], [\"Blair Witch\"], [\"Killer Elite\"], [\"I, Frankenstein\"], [\"I Feel Pretty\"], [\"The Foreigner\"], [\"The Foreigner\"], [\"The Foreigner\"], [\"Machete Kills\"], [\"Out of the Furnace\"], [\"A Wrinkle in Time\"], [\"The Counselor\"], [\"St. Vincent\"], [\"A Dangerous Method\"], [\"Regression\"], [\"The Invitation\"], [\"Let Me In\"], [\"Let Me In\"], [\"Tooth Fairy\"], [\"Alvin and the Chipmunks: Chipwrecked\"], [\"Krampus\"], [\"Battle of the Sexes\"], [\"A Bad Moms Christmas\"], [\"Before Midnight\"], [\"The Crazies\"], [\"Piranha 3D\"], [\"Paranormal Activity 4\"], [\"Leap!\"], [\"The Boxtrolls\"], [\"Hall Pass\"], [\"The Wolfman\"], [\"The Switch\"], [\"Dark Skies\"], [\"Lockout\"], [\"Hot Pursuit\"], [\"The Rite\"], [\"Leap Year\"], [\"Frozen\"], [\"Frozen\"], [\"Before We Go\"], [\"Before We Go\"], [\"Suffragette\"], [\"The Campaign\"], [\"The Campaign\"], [\"Get Him to the Greek\"], [\"I Spit on Your Grave\"], [\"Repo Men\"], [\"She's Out of My League\"], [\"Blockers\"], [\"Girls Trip\"], [\"Nebraska\"], [\"The Wedding Ringer\"], [\"Drive Angry\"], [\"Maggie\"], [\"Maggie\"], [\"The Forest\"], [\"The Forest\"], [\"The Forest\"], [\"The Night Before\"], [\"The Night Before\"], [\"The Night Before\"], [\"Dope\"], [\"Nanny McPhee Returns\"], [\"Philomena\"], [\"The Finest Hours\"], [\"The Infiltrator\"], [\"Widows\"], [\"Widows\"], [\"Ride Along 2\"], [\"Winter's Bone\"], [\"Anomalisa\"], [\"Sisters\"], [\"Sisters\"], [\"Sisters\"], [\"Sisters\"], [\"Sisters\"], [\"Sisters\"], [\"Dinner for Schmucks\"], [\"Mile 22\"], [\"The Incredible Burt Wonderstone\"], [\"The Possession\"], [\"Hunt for the Wilderpeople\"], [\"Scouts Guide to the Zombie Apocalypse\"], [\"Miss Sloane\"], [\"Brick Mansions\"], [\"The Nutcracker and the Four Realms\"], [\"A Ghost Story\"], [\"Child 44\"], [\"Paul Blart: Mall Cop 2\"], [\"The Iron Lady\"], [\"Faster\"], [\"The Peanuts Movie\"], [\"Zookeeper\"], [\"Winchester\"], [\"A Haunted House\"], [\"Dead Man Down\"], [\"Flipped\"], [\"Flipped\"], [\"Delivery Man\"], [\"Margin Call\"], [\"The Kids Are All Right\"], [\"Another Earth\"], [\"Alvin and the Chipmunks: The Road Chip\"], [\"The November Man\"], [\"Eye in the Sky\"], [\"Florence Foster Jenkins\"], [\"Hereafter\"], [\"Monsters\"], [\"Monsters\"], [\"Monsters\"], [\"The Losers\"], [\"The Losers\"], [\"August: Osage County\"], [\"Chernobyl Diaries\"], [\"The Transporter Refueled\"], [\"Skyline\"], [\"That's My Boy\"], [\"The Light Between Oceans\"], [\"The Muppets\"], [\"30 Minutes or Less\"], [\"The Boss\"], [\"Alexander and the Terrible, Horrible, No Good, Very Bad Day\"], [\"Broken City\"], [\"Here Comes the Boom\"], [\"Sex and the City 2\"], [\"The Legend of Hercules\"], [\"The 15:17 to Paris\"], [\"Cop Out\"], [\"Edge of Darkness\"], [\"A Most Violent Year\"], [\"Safety Not Guaranteed\"], [\"Free State of Jones\"], [\"Take Shelter\"], [\"Woman in Gold\"], [\"The Hundred-Foot Journey\"], [\"A Most Wanted Man\"], [\"The Gambler\"], [\"The Gambler\"], [\"The Gambler\"], [\"The Gambler\"], [\"The Gambler\"], [\"The Gambler\"], [\"The Gambler\"], [\"The Gambler\"], [\"Instant Family\"], [\"Stronger\"], [\"Stronger\"], [\"Stronger\"], [\"Texas Chainsaw 3D\"], [\"Paranormal Activity: The Ghost Dimension\"], [\"Submarine\"], [\"Runner Runner\"], [\"The Best Exotic Marigold Hotel\"], [\"Bachelorette\"], [\"Mustang\"], [\"Happy Feet Two\"], [\"Paranormal Activity: The Marked Ones\"], [\"Suspiria\"], [\"The Art of Getting By\"], [\"Haywire\"], [\"Amour\"], [\"The Five-Year Engagement\"], [\"My Week with Marilyn\"], [\"Diary of a Wimpy Kid\"], [\"Paterson\"], [\"Smurfs: The Lost Village\"], [\"Tammy\"], [\"The Darkest Hour\"], [\"The Darkest Hour\"], [\"You Again\"], [\"Super\"], [\"Super\"], [\"Super\"], [\"Morning Glory\"], [\"Peppermint\"], [\"Slender Man\"], [\"Slender Man\"], [\"Grudge Match\"], [\"Fist Fight\"], [\"Jonah Hex\"], [\"Killer Joe\"], [\"The Man Who Knew Infinity\"], [\"Veronica Mars\"], [\"All Eyez on Me\"], [\"The Eagle\"], [\"Wanderlust\"], [\"Wanderlust\"], [\"Wanderlust\"], [\"Wanderlust\"], [\"Arthur Christmas\"], [\"The American\"], [\"Wish Upon\"], [\"Soul Surfer\"], [\"Rock of Ages\"], [\"A Thousand Words\"], [\"The Water Diviner\"], [\"Bullet to the Head\"], [\"The Big Wedding\"], [\"The Bye Bye Man\"], [\"Fifty Shades of Black\"], [\"Larry Crowne\"], [\"Centurion\"], [\"Dream House\"], [\"Dream House\"], [\"Polisse\"], [\"Unsane\"], [\"Home Again\"], [\"Home Again\"], [\"Vampires Suck\"], [\"The Rum Diary\"], [\"Peter Rabbit\"], [\"The Spy Next Door\"], [\"Entourage\"], [\"Fruitvale Station\"], [\"Keanu\"], [\"Like Crazy\"], [\"Like Crazy\"], [\"The Hate U Give\"], [\"The Words\"], [\"Frances Ha\"], [\"Big Mommas: Like Father, Like Son\"], [\"Four Lions\"], [\"Robot & Frank\"], [\"The Green Inferno\"], [\"Camp X-Ray\"], [\"Trouble with the Curve\"], [\"Hop\"], [\"While We're Young\"], [\"Beasts of the Southern Wild\"], [\"Takers\"], [\"The Odd Life of Timothy Green\"], [\"Table 19\"], [\"Young Adult\"], [\"Tusk\"], [\"Smallfoot\"], [\"A Haunted House 2\"], [\"Whiskey Tango Foxtrot\"], [\"My Big Fat Greek Wedding 2\"], [\"Mary Queen of Scots\"], [\"Mary Queen of Scots\"], [\"Something Borrowed\"], [\"The Gallows\"], [\"A Hologram for the King\"], [\"Captain Underpants: The First Epic Movie\"], [\"Act of Valor\"], [\"The Gunman\"], [\"The Gunman\"], [\"13 Sins\"], [\"The Man with the Iron Fists\"], [\"The 33\"], [\"The Guard\"], [\"Don't Be Afraid of the Dark\"], [\"The Fifth Estate\"], [\"Biutiful\"], [\"Labor Day\"], [\"Free Fire\"], [\"Beginners\"], [\"Loving\"], [\"The Nut Job\"], [\"Palo Alto\"], [\"Our Idiot Brother\"], [\"The Last Exorcism\"], [\"On the Road\"], [\"On the Road\"], [\"On the Road\"], [\"On the Road\"], [\"On the Road\"], [\"On the Road\"], [\"Sanctum\"], [\"Hot Tub Time Machine 2\"], [\"Legend\"]], \"hoverlabel\": {\"namelength\": 0}, \"hovertemplate\": \"runtime_minutes=%{x}<br>vote_average=%{y}<br>production_budget=%{marker.size}<br>primary_title=%{customdata[0]}\", \"legendgroup\": \"\", \"marker\": {\"color\": \"#636efa\", \"size\": [160000000, 58000000, 165000000, 170000000, 100000000, 80000000, 150000000, 215000000, 250000000, 300000000, 275000000, 175000000, 330600000, 140000000, 150000000, 80000000, 165000000, 100000000, 170000000, 108000000, 250000000, 250000000, 130000000, 175000000, 180000000, 130000000, 135000000, 135000000, 170000000, 35000000, 34000000, 61000000, 200000000, 220000000, 15000000, 47000000, 47000000, 94000000, 165000000, 150000000, 125000000, 30000000, 200000000, 69000000, 20000000, 40000000, 40000000, 150000000, 75000000, 75000000, 225000000, 110000000, 150000000, 190000000, 110000000, 120000000, 175000000, 175000000, 410600000, 250000000, 13000000, 178000000, 200000000, 85000000, 180000000, 185000000, 185000000, 31000000, 62000000, 178000000, 34000000, 13000000, 200000000, 165000000, 250000000, 50000000, 58000000, 21000000, 190000000, 55000000, 165000000, 160000000, 28000000, 300000000, 125000000, 74000000, 76000000, 93000000, 19500000, 200000000, 90000000, 170000000, 150000000, 230000000, 120000000, 120000000, 90000000, 30000000, 300000000, 185000000, 20000000, 40000000, 42000000, 40000000, 15000000, 260000000, 125000000, 61000000, 200000000, 200000000, 250000000, 27000000, 27000000, 130000000, 35000000, 80000000, 190000000, 115000000, 160000000, 40000000, 185000000, 170000000, 20000000, 13000000, 20000000, 8500000, 17000000, 17000000, 46000000, 145000000, 104000000, 13000000, 12000000, 120000000, 120000000, 75000000, 170000000, 152000000, 37000000, 84000000, 50000000, 44500000, 110000000, 85000000, 49000000, 55000000, 97000000, 5000000, 195000000, 20000000, 20000000, 68000000, 200000000, 91000000, 210000000, 3000000, 60000000, 40000000, 25000000, 28000000, 82000000, 35000000, 5000000, 170000000, 170000000, 95000000, 110000000, 18000000, 18000000, 18000000, 18000000, 32000000, 102000000, 55000000, 30000000, 18000000, 40000000, 92000000, 179000000, 125000000, 40000000, 90000000, 75000000, 125000000, 200000000, 185000000, 50000000, 19000000, 17000000, 68000000, 100000000, 150000000, 22500000, 30000000, 8000000, 60000000, 130000000, 180000000, 180000000, 180000000, 30000000, 75000000, 180000000, 70000000, 160000000, 200000000, 45000000, 37000000, 37000000, 37000000, 12000000, 90000000, 30000000, 30000000, 20000000, 25000000, 50000000, 60000000, 165000000, 55000000, 140000000, 75000000, 75000000, 75000000, 135000000, 10000000, 30000000, 165000000, 35000000, 275000000, 120000000, 87500000, 12000000, 12000000, 12000000, 170000000, 275000000, 28000000, 9000000, 90000000, 90000000, 90000000, 70000000, 145000000, 38000000, 30000000, 130000000, 125000000, 150000000, 40000000, 120000000, 29000000, 12000000, 31000000, 1500000, 110000000, 127000000, 55000000, 2000000, 23000000, 80000000, 2000000, 30000000, 135000000, 40000000, 69000000, 48000000, 195000000, 145000000, 40000000, 6500000, 275000000, 175000000, 36000000, 217000000, 130000000, 220000000, 130000000, 5000000, 155000000, 80000000, 8500000, 75000000, 10000000, 15000000, 40000000, 8000000, 15000000, 187500000, 50000000, 100000000, 90000000, 4000000, 25000000, 65000000, 13000000, 16000000, 40000000, 40000000, 20000000, 55000000, 65000000, 12000000, 12000000, 140000000, 3500000, 60000000, 140000000, 11000000, 10000000, 178000000, 19000000, 56200000, 56200000, 56200000, 56200000, 160000000, 100000000, 38000000, 60000000, 60000000, 35000000, 150000000, 35000000, 70000000, 45000000, 19000000, 32500000, 15000000, 150000000, 150000000, 106000000, 37000000, 37000000, 60000000, 60000000, 60000000, 60000000, 60000000, 75000000, 30000000, 5500000, 11000000, 110000000, 40000000, 50000000, 25000000, 11500000, 5000000, 5000000, 5000000, 5000000, 58000000, 50200000, 25000000, 25000000, 25000000, 156000000, 20000000, 175000000, 60000000, 40000000, 30000000, 210000000, 99000000, 210000000, 99000000, 210000000, 99000000, 210000000, 99000000, 52500000, 60000000, 50000000, 5000000, 38000000, 10000000, 12000000, 10000000, 150000000, 43000000, 105000000, 50000000, 102000000, 15000000, 15000000, 15000000, 15000000, 15000000, 15000000, 15000000, 30000000, 40000000, 66000000, 50000000, 37000000, 37000000, 61000000, 50000000, 50000000, 140000000, 22000000, 11000000, 65000000, 35000000, 60000000, 60000000, 40000000, 25000000, 132000000, 65000000, 50000000, 100000000, 65000000, 65000000, 50000000, 35000000, 70000000, 9000000, 5000000, 5000000, 5000000, 5000000, 20000000, 80000000, 25000000, 25000000, 50000000, 100000000, 125000000, 10000000, 10000000, 79000000, 58000000, 150000000, 100000000, 5000000, 15000000, 57500000, 110000000, 8000000, 8000000, 13500000, 15000000, 15000000, 15000000, 85000000, 15000000, 65000000, 15000000, 80000000, 8000000, 8000000, 77000000, 175000000, 16000000, 16000000, 16000000, 16000000, 80000000, 35000000, 28000000, 130000000, 40000000, 3700000, 40000000, 3700000, 57000000, 7000000, 7000000, 55000000, 53000000, 1000000, 25000000, 67500000, 7500000, 85000000, 85000000, 85000000, 18000000, 40000000, 11800000, 5000000, 30000000, 31000000, 40000000, 43000000, 140000000, 95000000, 95000000, 95000000, 95000000, 95000000, 11000000, 11000000, 34000000, 52000000, 35000000, 35000000, 55000000, 110000000, 10000000, 68000000, 10000000, 45000000, 42000000, 100000000, 125000000, 35000000, 12500000, 135000000, 27000000, 40000000, 7000000, 70000000, 13000000, 40000000, 20000000, 20000000, 1000000, 45000000, 130000000, 2500000, 35000000, 35000000, 35000000, 35000000, 35000000, 3000000, 16000000, 16000000, 16000000, 25000000, 12800000, 12800000, 12800000, 15000000, 35000000, 8000000, 135000000, 20000000, 28000000, 100000000, 17000000, 5000000, 55000000, 35000000, 35000000, 35000000, 45000000, 30000000, 40000000, 150000000, 30000000, 30000000, 60000000, 28000000, 39000000, 50000000, 78000000, 1000000, 42500000, 65000000, 100000000, 5000000, 60000000, 26000000, 26000000, 50000000, 50000000, 50000000, 50000000, 50000000, 50000000, 9400000, 9400000, 29000000, 45000000, 38000000, 18000000, 40000000, 6500000, 63000000, 10000000, 85000000, 8000000, 33000000, 95000000, 40000000, 50000000, 20000000, 20000000, 10000000, 26000000, 30000000, 77500000, 77500000, 2000000, 2000000, 1987650, 1987650, 1987650, 40000000, 40000000, 30000000, 24000000, 24000000, 42000000, 130000000, 30000000, 12000000, 50000000, 28000000, 28000000, 75000000, 2000000, 2000000, 111000000, 130000000, 9000000, 9000000, 9000000, 9000000, 9000000, 22000000, 50000000, 52000000, 23000000, 11000000, 4900000, 4900000, 44000000, 30000000, 4800000, 36000000, 50000000, 40000000, 2000000, 20000000, 60000000, 145000000, 55000000, 20000000, 40000000, 16000000, 950000, 16000000, 950000, 16000000, 950000, 3000000, 40000000, 10000000, 3000000, 3000000, 8000000, 37500000, 37500000, 37500000, 37500000, 35000000, 5000000, 75000000, 75000000, 35000000, 70000000, 10000000, 7000000, 35000000, 5000000, 5000000, 2000000, 15000000, 15000000, 112000000, 12000000, 28000000, 25000000, 25000000, 20000000, 49000000, 20000000, 1000000, 33000000, 30000000, 35000000, 1600000, 2000000, 37000000, 35000000, 100000000, 12600000, 12600000, 12600000, 28000000, 60000000, 110000000, 40000000, 5000000, 55000000, 55000000, 28000000, 20000000, 45000000, 23000000, 100000000, 51000000, 51000000, 51000000, 51000000, 70000000, 74000000, 34000000, 60000000, 13000000, 10000000, 45000000, 37500000, 2000000, 79000000, 25000000, 14500000, 10000000, 15000000, 18000000, 13000000, 13000000, 13000000, 21500000, 20000000, 10000000, 70000000, 65000000, 32000000, 35000000, 35000000, 35000000, 20000000, 22000000, 103000000, 25000000, 13000000, 20000000, 20000000, 1000000, 20000000, 20000000, 48000000, 80000000, 15000000, 25000000, 28000000, 3000000, 19000000, 24000000, 5000000, 30000000, 60000000, 68000000, 150000000, 19000000, 3500000, 20000000, 35000000, 37000000, 19000000, 150000000, 150000000, 3000000, 3000000, 14000000, 95000000, 95000000, 40000000, 1750000, 32000000, 20000000, 21000000, 28000000, 12000000, 23000000, 50000000, 4500000, 4500000, 10000000, 10000000, 10000000, 25000000, 25000000, 25000000, 7000000, 35000000, 12000000, 70000000, 47500000, 40000000, 40000000, 40000000, 2000000, 8000000, 30000000, 30000000, 30000000, 30000000, 30000000, 30000000, 69000000, 35000000, 32000000, 14000000, 2500000, 15000000, 18000000, 28000000, 132900000, 100000, 50000000, 38000000, 14000000, 24000000, 99000000, 80000000, 3500000, 2500000, 30000000, 14000000, 14000000, 22000000, 3400000, 4000000, 175000, 90000000, 15000000, 13000000, 29000000, 50000000, 500000, 500000, 500000, 25000000, 25000000, 25000000, 1000000, 22000000, 10000000, 57500000, 20000000, 45000000, 28000000, 29000000, 28000000, 35000000, 42000000, 95000000, 70000000, 30000000, 37000000, 60000000, 20000000, 750000, 50000000, 4750000, 11000000, 22000000, 15000000, 25000000, 3000000, 25000000, 3000000, 25000000, 3000000, 25000000, 3000000, 48000000, 30000000, 30000000, 30000000, 20000000, 10000000, 1900000, 30000000, 10000000, 3000000, 1400000, 135000000, 5000000, 20000000, 4000000, 23000000, 9700000, 30000000, 10000000, 15000000, 5000000, 60000000, 20000000, 34800000, 34800000, 20000000, 2500000, 2500000, 2500000, 40000000, 25000000, 10000000, 10000000, 40000000, 25000000, 47000000, 10000000, 10000000, 6000000, 45000000, 25000000, 32500000, 32500000, 32500000, 32500000, 85000000, 20000000, 12000000, 18000000, 70000000, 40000000, 22500000, 55000000, 32500000, 7400000, 5000000, 30000000, 15000000, 50000000, 50000000, 8900000, 1500000, 15000000, 15000000, 20000000, 45000000, 50000000, 28000000, 30000000, 900000, 15000000, 250000, 250000, 23000000, 6000000, 3000000, 32000000, 3750000, 2500000, 1000000, 1000000, 60000000, 63000000, 10000000, 1800000, 32000000, 40000000, 5000000, 12000000, 3000000, 80000000, 4000000, 35000000, 18000000, 25000000, 25000000, 35000000, 100000, 35000000, 38000000, 12000000, 40000000, 40000000, 4000000, 15000000, 25000000, 6000000, 25000000, 26000000, 35000000, 18000000, 10000000, 3200000, 9000000, 30000000, 1000000, 5000000, 1800000, 25000000, 25000000, 25000000, 25000000, 25000000, 25000000, 30000000, 14000000, 25000000], \"sizemode\": \"area\", \"sizeref\": 1026500.0, \"symbol\": \"circle\"}, \"mode\": \"markers\", \"name\": \"\", \"showlegend\": false, \"type\": \"scatter\", \"x\": [148.0, 108.0, 169.0, 121.0, 165.0, 142.0, 120.0, 124.0, 147.0, 149.0, 164.0, 123.0, 141.0, 124.0, 115.0, 138.0, 115.0, 180.0, 124.0, 144.0, 169.0, 151.0, 117.0, 133.0, 130.0, 146.0, 156.0, 80.0, 136.0, 135.0, 113.0, 149.0, 143.0, 136.0, 114.0, 116.0, 86.1872470608802, 129.0, 102.0, 112.0, 123.0, 101.0, 132.0, 95.0, 128.0, 89.0, 40.0, 108.0, 115.0, 98.0, 143.0, 91.0, 106.0, 116.0, 119.0, 127.0, 105.0, 98.0, 136.0, 144.0, 108.0, 144.0, 103.0, 139.0, 97.0, 93.0, 86.1872470608802, 99.0, 168.0, 113.0, 113.0, 108.0, 97.0, 101.0, 161.0, 106.0, 133.0, 122.0, 131.0, 134.0, 98.0, 137.0, 117.0, 120.0, 124.0, 91.0, 98.0, 105.0, 123.0, 142.0, 119.0, 130.0, 140.0, 129.0, 124.0, 116.0, 129.0, 113.0, 148.0, 164.0, 134.0, 139.0, 109.0, 125.0, 123.0, 100.0, 129.0, 131.0, 104.0, 118.0, 136.0, 105.0, 57.0, 118.0, 109.0, 102.0, 132.0, 126.0, 143.0, 120.0, 118.0, 128.0, 106.0, 103.0, 112.0, 117.0, 80.0, 90.0, 153.0, 102.0, 141.0, 118.0, 115.0, 109.0, 86.1872470608802, 87.0, 127.0, 140.0, 110.0, 105.0, 112.0, 120.0, 114.0, 91.0, 120.0, 132.0, 122.0, 117.0, 154.0, 129.0, 99.0, 124.0, 134.0, 114.0, 165.0, 85.0, 116.0, 126.0, 127.0, 130.0, 103.0, 109.0, 103.0, 130.0, 70.0, 88.0, 127.0, 97.0, 74.0, 90.0, 86.1872470608802, 93.0, 172.0, 118.0, 121.0, 94.0, 138.0, 98.0, 127.0, 97.0, 142.0, 119.0, 108.0, 130.0, 114.0, 122.0, 116.0, 89.0, 112.0, 115.0, 103.0, 113.0, 116.0, 95.0, 92.0, 130.0, 100.0, 137.0, 126.0, 80.0, 98.0, 89.0, 110.0, 119.0, 123.0, 106.0, 92.0, 77.0, 133.0, 80.0, 123.0, 158.0, 75.0, 94.0, 113.0, 146.0, 112.0, 96.0, 120.0, 134.0, 110.0, 121.0, 113.0, 58.0, 98.0, 94.0, 112.0, 93.0, 98.0, 135.0, 100.0, 100.0, 70.0, 118.0, 143.0, 113.0, 150.0, 103.0, 103.0, 96.0, 90.0, 87.0, 92.0, 97.0, 112.0, 115.0, 95.0, 135.0, 90.0, 114.0, 123.0, 115.0, 109.0, 138.0, 103.0, 114.0, 98.0, 105.0, 94.0, 130.0, 118.0, 100.0, 124.0, 107.0, 128.0, 140.0, 108.0, 114.0, 93.0, 121.0, 99.0, 132.0, 126.0, 97.0, 154.0, 107.0, 131.0, 100.0, 96.0, 113.0, 89.0, 137.0, 102.0, 110.0, 109.0, 140.0, 140.0, 135.0, 93.0, 107.0, 103.0, 106.0, 165.0, 97.0, 83.0, 86.0, 94.0, 104.0, 71.0, 109.0, 119.0, 95.0, 88.0, 86.1872470608802, 95.0, 86.1872470608802, 130.0, 150.0, 120.0, 108.0, 113.0, 92.0, 125.0, 86.1872470608802, 86.1872470608802, 86.1872470608802, 109.0, 126.0, 119.0, 95.0, 118.0, 92.0, 131.0, 110.0, 115.0, 95.0, 131.0, 125.0, 140.0, 103.0, 72.0, 124.0, 86.1872470608802, 100.0, 75.0, 53.0, 124.0, 80.0, 99.0, 110.0, 125.0, 90.0, 107.0, 117.0, 94.0, 113.0, 108.0, 102.0, 90.0, 50.0, 52.0, 94.0, 119.0, 106.0, 108.0, 86.1872470608802, 73.0, 107.0, 100.0, 102.0, 99.0, 108.0, 122.0, 140.0, 140.0, 92.0, 92.0, 116.0, 116.0, 60.0, 60.0, 157.0, 113.0, 116.0, 94.0, 111.0, 127.0, 102.0, 96.0, 99.0, 117.0, 94.0, 134.0, 114.0, 50.0, 71.0, 100.0, 110.0, 90.0, 89.0, 86.1872470608802, 104.0, 105.0, 132.0, 114.0, 125.0, 101.0, 109.0, 141.0, 76.0, 127.0, 106.0, 116.0, 95.0, 91.0, 141.0, 92.0, 121.0, 117.0, 92.0, 150.0, 133.0, 109.0, 104.0, 137.0, 130.0, 111.0, 118.0, 104.0, 86.1872470608802, 86.1872470608802, 81.0, 90.0, 107.0, 106.0, 140.0, 86.1872470608802, 115.0, 107.0, 102.0, 106.0, 86.1872470608802, 94.0, 103.0, 103.0, 122.0, 98.0, 95.0, 96.0, 103.0, 100.0, 77.0, 110.0, 107.0, 135.0, 118.0, 106.0, 119.0, 103.0, 115.0, 101.0, 68.0, 104.0, 121.0, 128.0, 113.0, 85.0, 86.1872470608802, 86.1872470608802, 105.0, 125.0, 147.0, 96.0, 113.0, 113.0, 96.0, 96.0, 96.0, 86.1872470608802, 101.0, 101.0, 123.0, 83.0, 101.0, 105.0, 117.0, 86.1872470608802, 115.0, 86.1872470608802, 98.0, 107.0, 118.0, 101.0, 111.0, 99.0, 98.0, 108.0, 117.0, 98.0, 53.0, 65.0, 52.0, 84.0, 117.0, 83.0, 123.0, 125.0, 89.0, 123.0, 95.0, 119.0, 104.0, 135.0, 92.0, 93.0, 100.0, 98.0, 92.0, 118.0, 105.0, 112.0, 98.0, 107.0, 110.0, 146.0, 98.0, 109.0, 101.0, 86.1872470608802, 106.0, 101.0, 101.0, 95.0, 106.0, 86.1872470608802, 84.0, 90.0, 106.0, 97.0, 100.0, 100.0, 53.0, 102.0, 94.0, 90.0, 109.0, 109.0, 96.0, 94.0, 96.0, 117.0, 96.0, 128.0, 86.0, 104.0, 88.0, 125.0, 139.0, 60.0, 117.0, 105.0, 92.0, 111.0, 107.0, 93.0, 105.0, 114.0, 87.0, 114.0, 95.0, 112.0, 93.0, 97.0, 102.0, 89.0, 107.0, 116.0, 90.0, 109.0, 86.1872470608802, 81.0, 86.1872470608802, 70.0, 86.1872470608802, 135.0, 86.1872470608802, 118.0, 110.0, 120.0, 128.0, 111.0, 101.0, 112.0, 130.0, 104.0, 105.0, 98.0, 102.0, 118.0, 124.0, 115.0, 80.0, 80.0, 118.0, 120.0, 93.0, 86.1872470608802, 99.0, 55.0, 95.0, 88.0, 95.0, 100.0, 90.0, 133.0, 139.0, 117.0, 102.0, 130.0, 120.0, 106.0, 86.0, 115.0, 120.0, 110.0, 95.0, 90.0, 108.0, 90.0, 100.0, 126.0, 100.0, 108.0, 99.0, 100.0, 119.0, 112.0, 101.0, 104.0, 139.0, 135.0, 99.0, 141.0, 90.0, 101.0, 101.0, 108.0, 85.0, 148.0, 92.0, 92.0, 102.0, 128.0, 95.0, 83.0, 83.0, 101.0, 101.0, 86.1872470608802, 86.1872470608802, 91.0, 133.0, 94.0, 100.0, 86.1872470608802, 101.0, 138.0, 86.1872470608802, 86.0, 86.1872470608802, 122.0, 95.0, 100.0, 137.0, 130.0, 87.0, 103.0, 112.0, 137.0, 120.0, 103.0, 96.0, 103.0, 86.1872470608802, 85.0, 99.0, 117.0, 99.0, 87.0, 106.0, 129.0, 115.0, 95.0, 99.0, 140.0, 91.0, 86.0, 96.0, 105.0, 119.0, 97.0, 106.0, 50.0, 86.1872470608802, 105.0, 133.0, 105.0, 110.0, 83.0, 119.0, 86.1872470608802, 108.0, 109.0, 105.0, 106.0, 115.0, 116.0, 80.0, 96.0, 90.0, 133.0, 92.0, 104.0, 87.0, 88.0, 97.0, 128.0, 110.0, 111.0, 91.0, 109.0, 115.0, 101.0, 97.0, 112.0, 107.0, 124.0, 124.0, 112.0, 101.0, 89.0, 116.0, 92.0, 110.0, 113.0, 145.0, 100.0, 107.0, 116.0, 109.0, 117.0, 102.0, 99.0, 106.0, 100.0, 116.0, 74.0, 101.0, 87.0, 98.0, 121.0, 104.0, 109.0, 101.0, 88.0, 88.0, 89.0, 96.0, 105.0, 103.0, 101.0, 97.0, 95.0, 87.0, 114.0, 100.0, 93.0, 102.0, 95.0, 84.0, 106.0, 85.0, 60.0, 109.0, 108.0, 111.0, 104.0, 102.0, 122.0, 115.0, 101.0, 104.0, 95.0, 88.0, 98.0, 93.0, 109.0, 101.0, 81.0, 86.0, 103.0, 109.0, 98.0, 117.0, 127.0, 129.0, 79.0, 102.0, 100.0, 90.0, 118.0, 53.0, 102.0, 86.1872470608802, 72.0, 86.1872470608802, 114.0, 94.0, 100.0, 92.0, 101.0, 93.0, 132.0, 90.0, 99.0, 92.0, 137.0, 94.0, 105.0, 98.0, 88.0, 102.0, 99.0, 86.0, 118.0, 90.0, 90.0, 105.0, 107.0, 106.0, 92.0, 92.0, 108.0, 102.0, 111.0, 129.0, 94.0, 45.0, 97.0, 97.0, 112.0, 121.0, 86.0, 96.0, 92.0, 116.0, 133.0, 103.0, 83.0, 99.0, 81.0, 109.0, 105.0, 146.0, 99.0, 94.0, 107.0, 117.0, 125.0, 86.0, 139.0, 121.0, 109.0, 122.0, 122.0, 105.0, 105.0, 111.0, 111.0, 52.0, 52.0, 121.0, 121.0, 118.0, 119.0, 125.0, 47.0, 92.0, 88.0, 97.0, 88.0, 124.0, 87.0, 97.0, 100.0, 84.0, 152.0, 83.0, 93.0, 127.0, 124.0, 99.0, 94.0, 118.0, 90.0, 97.0, 89.0, 52.0, 105.0, 96.0, 140.0, 92.0, 107.0, 101.0, 93.0, 52.0, 113.0, 91.0, 81.0, 102.0, 108.0, 107.0, 139.0, 114.0, 86.1872470608802, 98.0, 58.0, 86.1872470608802, 97.0, 105.0, 90.0, 112.0, 123.0, 91.0, 111.0, 92.0, 89.0, 96.0, 92.0, 98.0, 97.0, 86.1872470608802, 84.0, 127.0, 98.0, 104.0, 97.0, 82.0, 119.0, 95.0, 94.0, 104.0, 85.0, 100.0, 86.0, 86.1872470608802, 133.0, 102.0, 86.0, 107.0, 97.0, 89.0, 100.0, 117.0, 111.0, 95.0, 97.0, 93.0, 107.0, 105.0, 87.0, 94.0, 102.0, 96.0, 86.0, 112.0, 94.0, 119.0, 124.0, 112.0, 81.0, 98.0, 89.0, 110.0, 115.0, 86.1872470608802, 93.0, 95.0, 127.0, 96.0, 99.0, 128.0, 148.0, 111.0, 91.0, 105.0, 123.0, 85.0, 100.0, 90.0, 87.0, 124.0, 90.0, 87.0, 89.0, 39.0, 121.0, 108.0, 93.0, 134.0], \"xaxis\": \"x\", \"y\": [8.3, 7.6, 8.2, 7.9, 8.0, 7.1, 7.4, 6.6, 7.4, 8.3, 7.7, 5.9, 7.3, 6.9, 6.7, 8.1, 7.3, 7.9, 6.8, 7.7, 7.2, 5.8, 7.1, 7.4, 7.5, 7.4, 7.4, 7.4, 7.7, 7.2, 7.1, 7.9, 7.1, 6.5, 8.1, 7.4, 7.4, 7.6, 7.8, 6.7, 6.8, 7.2, 7.5, 7.2, 7.9, 6.3, 6.3, 7.7, 7.4, 7.4, 6.5, 7.2, 7.4, 6.7, 7.5, 7.3, 8.2, 8.2, 6.4, 7.3, 7.6, 6.5, 7.7, 6.9, 7.0, 6.9, 6.9, 8.0, 7.7, 7.6, 7.4, 7.6, 7.0, 7.3, 7.6, 6.3, 7.4, 7.1, 6.8, 8.1, 7.7, 6.8, 7.1, 6.2, 6.4, 6.4, 6.9, 7.2, 7.2, 6.4, 6.7, 7.3, 7.6, 6.6, 6.5, 6.5, 6.8, 6.8, 6.4, 7.4, 7.9, 8.1, 6.8, 5.4, 7.9, 7.5, 7.1, 6.6, 7.0, 7.6, 6.9, 7.1, 7.1, 7.0, 6.8, 6.4, 7.4, 6.3, 6.8, 7.2, 6.3, 6.5, 7.7, 7.8, 7.5, 7.7, 7.3, 7.3, 8.0, 7.7, 7.0, 8.1, 8.2, 6.4, 6.4, 6.1, 5.9, 7.0, 6.8, 8.0, 6.9, 7.2, 6.1, 6.9, 6.7, 7.2, 5.9, 7.9, 6.1, 7.8, 7.8, 6.0, 6.9, 7.1, 5.8, 6.2, 6.1, 6.8, 8.0, 7.3, 6.1, 6.6, 6.9, 6.2, 6.2, 6.3, 6.8, 6.2, 6.2, 6.2, 6.2, 7.2, 6.8, 6.1, 7.3, 7.0, 6.8, 5.2, 5.3, 6.4, 7.2, 6.3, 6.9, 7.2, 5.1, 6.7, 7.1, 5.6, 7.3, 6.1, 6.2, 5.9, 7.4, 6.5, 6.8, 6.4, 5.1, 6.6, 7.1, 7.1, 6.3, 6.3, 5.8, 6.2, 6.3, 5.9, 6.2, 7.3, 7.3, 7.3, 7.9, 7.3, 7.5, 7.5, 8.2, 8.1, 6.7, 7.1, 5.1, 7.6, 5.5, 5.9, 5.9, 5.9, 6.8, 7.3, 7.4, 6.1, 6.5, 6.6, 4.4, 4.4, 8.1, 8.1, 8.1, 6.5, 6.0, 6.4, 6.6, 6.6, 6.6, 6.6, 6.2, 7.3, 5.8, 6.3, 6.8, 6.1, 6.7, 7.2, 6.1, 6.8, 6.0, 6.7, 6.9, 6.6, 6.1, 6.1, 6.4, 8.3, 6.7, 6.5, 7.4, 6.6, 6.9, 6.5, 6.1, 5.6, 6.5, 7.1, 5.6, 6.1, 6.5, 7.2, 6.0, 6.8, 5.6, 6.3, 6.6, 6.3, 6.7, 7.5, 6.1, 8.2, 6.5, 6.3, 6.3, 7.6, 6.7, 6.3, 6.1, 5.9, 7.5, 6.5, 6.0, 6.3, 7.7, 6.5, 6.5, 6.7, 6.5, 6.3, 6.4, 6.4, 6.7, 6.6, 6.3, 5.7, 7.5, 6.3, 5.9, 5.5, 5.7, 5.7, 5.7, 5.7, 5.9, 6.1, 6.2, 5.6, 5.6, 5.7, 6.4, 7.2, 6.7, 6.7, 7.5, 6.5, 6.9, 5.8, 5.8, 6.7, 6.9, 6.9, 6.5, 6.5, 6.5, 6.5, 6.5, 6.0, 7.3, 5.9, 7.4, 6.3, 5.3, 6.2, 6.8, 5.8, 6.2, 6.2, 6.2, 6.2, 6.2, 6.6, 6.2, 6.2, 6.2, 6.7, 6.5, 6.7, 5.9, 6.2, 6.8, 6.3, 6.3, 6.3, 6.3, 6.3, 6.3, 6.3, 6.3, 6.9, 6.3, 7.0, 5.0, 6.2, 7.0, 7.3, 7.2, 5.6, 6.6, 5.9, 7.1, 6.5, 6.1, 6.1, 6.1, 6.1, 6.1, 6.1, 6.1, 7.1, 6.2, 6.1, 6.8, 7.1, 7.1, 6.5, 7.3, 7.3, 5.4, 5.9, 7.3, 5.7, 5.5, 7.1, 7.1, 7.4, 6.5, 6.4, 6.8, 7.1, 5.8, 7.4, 7.4, 6.7, 5.8, 5.9, 7.2, 6.3, 6.3, 6.3, 6.3, 7.2, 5.8, 7.8, 7.8, 6.7, 6.2, 6.1, 7.0, 7.0, 5.9, 6.2, 4.6, 6.6, 7.0, 6.1, 5.9, 5.6, 7.1, 7.1, 6.8, 7.2, 7.2, 7.2, 5.8, 7.7, 6.0, 7.0, 5.9, 7.2, 7.2, 6.4, 6.0, 7.1, 7.1, 7.1, 7.1, 5.4, 7.4, 7.7, 5.6, 6.6, 6.6, 6.6, 6.6, 4.8, 7.9, 7.9, 7.7, 6.4, 5.4, 6.9, 5.6, 6.6, 6.4, 6.4, 6.4, 7.0, 6.1, 7.4, 7.5, 6.6, 6.2, 5.6, 7.1, 6.2, 6.4, 6.4, 6.4, 6.4, 6.4, 7.3, 7.3, 7.5, 5.8, 6.9, 6.9, 7.0, 5.5, 7.2, 5.1, 6.1, 6.5, 5.9, 5.6, 6.6, 5.8, 6.3, 5.9, 6.4, 5.9, 6.1, 7.2, 5.8, 5.5, 6.4, 6.4, 7.6, 6.1, 6.3, 6.6, 5.8, 5.8, 5.8, 5.8, 5.8, 6.9, 7.4, 7.4, 7.4, 4.9, 6.7, 6.7, 6.7, 7.3, 5.6, 6.1, 6.1, 6.6, 6.0, 6.0, 6.1, 6.4, 6.0, 5.8, 6.6, 6.6, 6.7, 6.9, 6.0, 5.9, 5.9, 5.9, 6.1, 6.3, 6.8, 6.4, 6.4, 6.9, 6.3, 6.8, 6.4, 5.1, 5.4, 7.0, 7.0, 6.2, 6.2, 6.2, 6.2, 6.2, 6.2, 7.1, 7.1, 6.7, 5.7, 6.9, 6.1, 6.2, 7.0, 6.3, 7.0, 6.0, 7.6, 6.0, 5.3, 7.1, 6.7, 6.8, 6.8, 5.9, 7.3, 7.1, 7.6, 7.6, 5.0, 5.0, 6.6, 6.6, 6.6, 6.0, 6.0, 7.0, 6.8, 6.8, 6.3, 6.6, 7.1, 6.5, 5.4, 7.1, 7.1, 5.8, 7.0, 7.0, 7.1, 6.3, 6.4, 6.4, 6.4, 6.4, 6.0, 6.5, 6.1, 6.0, 6.7, 7.2, 8.3, 8.3, 6.9, 6.2, 5.8, 6.0, 4.7, 6.5, 6.9, 6.6, 6.8, 6.6, 5.4, 7.5, 5.3, 6.6, 6.6, 6.6, 6.6, 6.6, 6.6, 5.7, 6.9, 4.4, 7.4, 7.4, 7.0, 7.1, 7.1, 7.1, 7.1, 6.7, 6.8, 5.8, 5.8, 5.6, 6.5, 6.1, 7.6, 6.2, 7.4, 6.8, 6.2, 6.8, 6.8, 5.1, 6.6, 6.1, 6.2, 6.2, 6.4, 6.7, 5.8, 6.6, 6.8, 6.6, 6.2, 6.5, 6.3, 5.3, 5.1, 6.6, 6.7, 6.7, 6.7, 6.4, 6.0, 5.7, 5.8, 5.9, 7.1, 7.1, 5.7, 6.2, 5.6, 7.2, 6.4, 5.9, 5.9, 5.9, 5.9, 5.3, 5.7, 6.8, 5.5, 6.4, 5.8, 6.8, 5.9, 7.4, 4.1, 6.2, 6.2, 6.4, 6.0, 6.3, 6.9, 6.9, 6.9, 5.7, 5.6, 5.0, 6.2, 5.2, 6.4, 6.7, 6.7, 6.7, 5.5, 6.6, 5.0, 5.1, 7.1, 6.3, 5.5, 6.5, 6.7, 6.7, 5.3, 5.5, 6.0, 6.9, 6.3, 7.4, 6.2, 5.3, 5.4, 7.2, 6.7, 5.5, 5.7, 6.1, 6.1, 5.9, 5.6, 5.9, 6.7, 5.8, 5.8, 6.5, 6.5, 7.3, 5.7, 5.7, 5.9, 6.3, 6.2, 6.1, 6.1, 6.8, 7.4, 6.5, 5.3, 5.3, 5.3, 5.0, 5.0, 5.0, 6.1, 6.1, 6.1, 7.2, 6.1, 7.4, 6.4, 6.6, 6.5, 6.5, 6.2, 6.9, 7.1, 5.9, 5.9, 5.9, 5.9, 5.9, 5.9, 5.6, 6.0, 5.4, 5.9, 7.8, 6.2, 7.4, 5.9, 6.0, 7.0, 6.2, 5.0, 6.4, 6.2, 6.6, 5.3, 5.7, 5.5, 6.0, 7.4, 7.4, 6.2, 6.8, 6.6, 6.7, 5.8, 6.1, 7.1, 6.7, 5.9, 6.2, 6.2, 6.2, 6.2, 6.2, 6.9, 5.0, 5.4, 4.8, 5.5, 7.1, 6.6, 5.6, 5.8, 6.2, 5.9, 6.0, 5.9, 4.5, 5.3, 5.4, 6.3, 6.6, 6.9, 6.6, 7.2, 7.4, 7.3, 6.5, 5.8, 5.8, 5.8, 5.8, 5.8, 5.8, 5.8, 5.8, 7.6, 7.0, 7.0, 7.0, 5.3, 5.2, 7.4, 5.6, 6.9, 5.4, 8.0, 5.9, 5.3, 7.0, 6.5, 5.6, 7.7, 5.8, 6.7, 6.0, 7.1, 6.2, 5.2, 4.9, 4.9, 6.2, 6.6, 6.6, 6.6, 6.3, 6.5, 4.0, 4.0, 6.0, 6.0, 4.6, 6.5, 7.2, 6.7, 6.4, 6.1, 5.4, 5.4, 5.4, 5.4, 6.7, 5.8, 5.4, 7.0, 6.1, 6.1, 6.8, 5.4, 5.8, 5.1, 4.4, 5.8, 6.1, 6.0, 6.0, 7.8, 6.2, 5.9, 5.9, 4.1, 5.7, 6.5, 5.7, 6.2, 7.4, 6.0, 6.5, 6.5, 8.2, 6.6, 7.4, 5.5, 7.0, 6.9, 5.2, 6.8, 6.7, 5.6, 5.9, 6.9, 6.2, 6.7, 6.0, 5.7, 5.3, 6.6, 5.5, 6.2, 5.8, 6.6, 6.6, 6.1, 4.8, 5.9, 6.0, 6.3, 5.7, 5.7, 6.3, 5.3, 6.2, 6.9, 5.5, 5.9, 7.2, 6.9, 6.3, 6.9, 6.7, 5.6, 6.4, 6.1, 5.6, 5.6, 5.6, 5.6, 5.6, 5.6, 5.6, 5.9, 5.1, 6.2], \"yaxis\": \"y\"}, {\"hoverlabel\": {\"namelength\": 0}, \"hovertemplate\": \"<b>OLS trendline</b><br>vote_average = 0.011841 * runtime_minutes + 5.218859<br>R<sup>2</sup>=0.101427<br><br>runtime_minutes=%{x}<br>vote_average=%{y} <b>(trend)</b>\", \"legendgroup\": \"\", \"marker\": {\"color\": \"#636efa\", \"symbol\": \"circle\"}, \"mode\": \"lines\", \"name\": \"\", \"showlegend\": false, \"type\": \"scatter\", \"x\": [39.0, 40.0, 45.0, 47.0, 50.0, 50.0, 50.0, 52.0, 52.0, 52.0, 52.0, 52.0, 52.0, 53.0, 53.0, 53.0, 53.0, 55.0, 57.0, 58.0, 58.0, 60.0, 60.0, 60.0, 60.0, 65.0, 68.0, 70.0, 70.0, 70.0, 71.0, 71.0, 72.0, 72.0, 73.0, 74.0, 74.0, 75.0, 75.0, 76.0, 77.0, 77.0, 79.0, 80.0, 80.0, 80.0, 80.0, 80.0, 80.0, 80.0, 80.0, 81.0, 81.0, 81.0, 81.0, 81.0, 81.0, 82.0, 83.0, 83.0, 83.0, 83.0, 83.0, 83.0, 83.0, 83.0, 84.0, 84.0, 84.0, 84.0, 84.0, 85.0, 85.0, 85.0, 85.0, 85.0, 85.0, 85.0, 86.0, 86.0, 86.0, 86.0, 86.0, 86.0, 86.0, 86.0, 86.0, 86.0, 86.0, 86.0, 86.1872470608802, 86.1872470608802, 86.1872470608802, 86.1872470608802, 86.1872470608802, 86.1872470608802, 86.1872470608802, 86.1872470608802, 86.1872470608802, 86.1872470608802, 86.1872470608802, 86.1872470608802, 86.1872470608802, 86.1872470608802, 86.1872470608802, 86.1872470608802, 86.1872470608802, 86.1872470608802, 86.1872470608802, 86.1872470608802, 86.1872470608802, 86.1872470608802, 86.1872470608802, 86.1872470608802, 86.1872470608802, 86.1872470608802, 86.1872470608802, 86.1872470608802, 86.1872470608802, 86.1872470608802, 86.1872470608802, 86.1872470608802, 86.1872470608802, 86.1872470608802, 86.1872470608802, 86.1872470608802, 86.1872470608802, 86.1872470608802, 86.1872470608802, 86.1872470608802, 86.1872470608802, 86.1872470608802, 86.1872470608802, 87.0, 87.0, 87.0, 87.0, 87.0, 87.0, 87.0, 87.0, 87.0, 87.0, 87.0, 87.0, 88.0, 88.0, 88.0, 88.0, 88.0, 88.0, 88.0, 88.0, 88.0, 88.0, 88.0, 89.0, 89.0, 89.0, 89.0, 89.0, 89.0, 89.0, 89.0, 89.0, 89.0, 89.0, 89.0, 89.0, 89.0, 90.0, 90.0, 90.0, 90.0, 90.0, 90.0, 90.0, 90.0, 90.0, 90.0, 90.0, 90.0, 90.0, 90.0, 90.0, 90.0, 90.0, 90.0, 90.0, 90.0, 90.0, 90.0, 90.0, 90.0, 91.0, 91.0, 91.0, 91.0, 91.0, 91.0, 91.0, 91.0, 91.0, 91.0, 92.0, 92.0, 92.0, 92.0, 92.0, 92.0, 92.0, 92.0, 92.0, 92.0, 92.0, 92.0, 92.0, 92.0, 92.0, 92.0, 92.0, 92.0, 92.0, 92.0, 92.0, 92.0, 92.0, 92.0, 92.0, 93.0, 93.0, 93.0, 93.0, 93.0, 93.0, 93.0, 93.0, 93.0, 93.0, 93.0, 93.0, 93.0, 93.0, 93.0, 93.0, 93.0, 94.0, 94.0, 94.0, 94.0, 94.0, 94.0, 94.0, 94.0, 94.0, 94.0, 94.0, 94.0, 94.0, 94.0, 94.0, 94.0, 94.0, 94.0, 94.0, 94.0, 94.0, 95.0, 95.0, 95.0, 95.0, 95.0, 95.0, 95.0, 95.0, 95.0, 95.0, 95.0, 95.0, 95.0, 95.0, 95.0, 95.0, 95.0, 95.0, 95.0, 95.0, 95.0, 95.0, 95.0, 95.0, 96.0, 96.0, 96.0, 96.0, 96.0, 96.0, 96.0, 96.0, 96.0, 96.0, 96.0, 96.0, 96.0, 96.0, 96.0, 96.0, 96.0, 96.0, 96.0, 96.0, 96.0, 97.0, 97.0, 97.0, 97.0, 97.0, 97.0, 97.0, 97.0, 97.0, 97.0, 97.0, 97.0, 97.0, 97.0, 97.0, 97.0, 97.0, 97.0, 97.0, 97.0, 97.0, 97.0, 97.0, 98.0, 98.0, 98.0, 98.0, 98.0, 98.0, 98.0, 98.0, 98.0, 98.0, 98.0, 98.0, 98.0, 98.0, 98.0, 98.0, 98.0, 98.0, 98.0, 98.0, 98.0, 98.0, 98.0, 98.0, 98.0, 99.0, 99.0, 99.0, 99.0, 99.0, 99.0, 99.0, 99.0, 99.0, 99.0, 99.0, 99.0, 99.0, 99.0, 99.0, 99.0, 99.0, 99.0, 99.0, 99.0, 100.0, 100.0, 100.0, 100.0, 100.0, 100.0, 100.0, 100.0, 100.0, 100.0, 100.0, 100.0, 100.0, 100.0, 100.0, 100.0, 100.0, 100.0, 100.0, 100.0, 100.0, 100.0, 100.0, 100.0, 100.0, 100.0, 100.0, 100.0, 101.0, 101.0, 101.0, 101.0, 101.0, 101.0, 101.0, 101.0, 101.0, 101.0, 101.0, 101.0, 101.0, 101.0, 101.0, 101.0, 101.0, 101.0, 101.0, 101.0, 101.0, 101.0, 101.0, 101.0, 101.0, 101.0, 101.0, 102.0, 102.0, 102.0, 102.0, 102.0, 102.0, 102.0, 102.0, 102.0, 102.0, 102.0, 102.0, 102.0, 102.0, 102.0, 102.0, 102.0, 102.0, 102.0, 102.0, 102.0, 102.0, 102.0, 103.0, 103.0, 103.0, 103.0, 103.0, 103.0, 103.0, 103.0, 103.0, 103.0, 103.0, 103.0, 103.0, 103.0, 103.0, 103.0, 103.0, 103.0, 103.0, 103.0, 104.0, 104.0, 104.0, 104.0, 104.0, 104.0, 104.0, 104.0, 104.0, 104.0, 104.0, 104.0, 104.0, 104.0, 104.0, 104.0, 105.0, 105.0, 105.0, 105.0, 105.0, 105.0, 105.0, 105.0, 105.0, 105.0, 105.0, 105.0, 105.0, 105.0, 105.0, 105.0, 105.0, 105.0, 105.0, 105.0, 105.0, 105.0, 105.0, 105.0, 105.0, 105.0, 106.0, 106.0, 106.0, 106.0, 106.0, 106.0, 106.0, 106.0, 106.0, 106.0, 106.0, 106.0, 106.0, 106.0, 106.0, 106.0, 106.0, 106.0, 106.0, 106.0, 107.0, 107.0, 107.0, 107.0, 107.0, 107.0, 107.0, 107.0, 107.0, 107.0, 107.0, 107.0, 107.0, 107.0, 107.0, 107.0, 107.0, 107.0, 107.0, 107.0, 108.0, 108.0, 108.0, 108.0, 108.0, 108.0, 108.0, 108.0, 108.0, 108.0, 108.0, 108.0, 108.0, 108.0, 108.0, 108.0, 108.0, 108.0, 108.0, 109.0, 109.0, 109.0, 109.0, 109.0, 109.0, 109.0, 109.0, 109.0, 109.0, 109.0, 109.0, 109.0, 109.0, 109.0, 109.0, 109.0, 109.0, 109.0, 109.0, 109.0, 109.0, 109.0, 110.0, 110.0, 110.0, 110.0, 110.0, 110.0, 110.0, 110.0, 110.0, 110.0, 110.0, 110.0, 110.0, 110.0, 110.0, 111.0, 111.0, 111.0, 111.0, 111.0, 111.0, 111.0, 111.0, 111.0, 111.0, 111.0, 111.0, 111.0, 112.0, 112.0, 112.0, 112.0, 112.0, 112.0, 112.0, 112.0, 112.0, 112.0, 112.0, 112.0, 112.0, 112.0, 112.0, 112.0, 112.0, 112.0, 113.0, 113.0, 113.0, 113.0, 113.0, 113.0, 113.0, 113.0, 113.0, 113.0, 113.0, 113.0, 113.0, 113.0, 113.0, 113.0, 113.0, 114.0, 114.0, 114.0, 114.0, 114.0, 114.0, 114.0, 114.0, 114.0, 114.0, 114.0, 114.0, 114.0, 114.0, 115.0, 115.0, 115.0, 115.0, 115.0, 115.0, 115.0, 115.0, 115.0, 115.0, 115.0, 115.0, 115.0, 115.0, 115.0, 115.0, 115.0, 115.0, 116.0, 116.0, 116.0, 116.0, 116.0, 116.0, 116.0, 116.0, 116.0, 116.0, 116.0, 116.0, 116.0, 116.0, 116.0, 116.0, 117.0, 117.0, 117.0, 117.0, 117.0, 117.0, 117.0, 117.0, 117.0, 117.0, 117.0, 117.0, 117.0, 117.0, 117.0, 117.0, 117.0, 117.0, 118.0, 118.0, 118.0, 118.0, 118.0, 118.0, 118.0, 118.0, 118.0, 118.0, 118.0, 118.0, 118.0, 118.0, 118.0, 118.0, 118.0, 118.0, 118.0, 119.0, 119.0, 119.0, 119.0, 119.0, 119.0, 119.0, 119.0, 119.0, 119.0, 119.0, 119.0, 119.0, 119.0, 119.0, 120.0, 120.0, 120.0, 120.0, 120.0, 120.0, 120.0, 120.0, 120.0, 120.0, 120.0, 120.0, 121.0, 121.0, 121.0, 121.0, 121.0, 121.0, 121.0, 121.0, 121.0, 121.0, 121.0, 121.0, 122.0, 122.0, 122.0, 122.0, 122.0, 122.0, 122.0, 122.0, 122.0, 123.0, 123.0, 123.0, 123.0, 123.0, 123.0, 123.0, 123.0, 123.0, 123.0, 123.0, 123.0, 124.0, 124.0, 124.0, 124.0, 124.0, 124.0, 124.0, 124.0, 124.0, 124.0, 124.0, 124.0, 124.0, 124.0, 124.0, 124.0, 125.0, 125.0, 125.0, 125.0, 125.0, 125.0, 125.0, 125.0, 125.0, 125.0, 126.0, 126.0, 126.0, 126.0, 126.0, 126.0, 127.0, 127.0, 127.0, 127.0, 127.0, 127.0, 127.0, 127.0, 127.0, 127.0, 127.0, 128.0, 128.0, 128.0, 128.0, 128.0, 128.0, 128.0, 128.0, 128.0, 129.0, 129.0, 129.0, 129.0, 129.0, 129.0, 129.0, 129.0, 130.0, 130.0, 130.0, 130.0, 130.0, 130.0, 130.0, 130.0, 130.0, 130.0, 130.0, 130.0, 131.0, 131.0, 131.0, 131.0, 131.0, 132.0, 132.0, 132.0, 132.0, 132.0, 132.0, 133.0, 133.0, 133.0, 133.0, 133.0, 133.0, 133.0, 133.0, 133.0, 133.0, 134.0, 134.0, 134.0, 134.0, 134.0, 134.0, 135.0, 135.0, 135.0, 135.0, 135.0, 135.0, 135.0, 135.0, 136.0, 136.0, 136.0, 136.0, 137.0, 137.0, 137.0, 137.0, 137.0, 137.0, 137.0, 138.0, 138.0, 138.0, 138.0, 139.0, 139.0, 139.0, 139.0, 139.0, 139.0, 139.0, 140.0, 140.0, 140.0, 140.0, 140.0, 140.0, 140.0, 140.0, 140.0, 140.0, 140.0, 141.0, 141.0, 141.0, 141.0, 141.0, 142.0, 142.0, 142.0, 143.0, 143.0, 143.0, 143.0, 144.0, 144.0, 144.0, 145.0, 146.0, 146.0, 146.0, 146.0, 147.0, 147.0, 148.0, 148.0, 148.0, 148.0, 149.0, 149.0, 150.0, 150.0, 150.0, 151.0, 152.0, 153.0, 154.0, 154.0, 156.0, 157.0, 158.0, 161.0, 164.0, 164.0, 165.0, 165.0, 165.0, 168.0, 169.0, 169.0, 172.0, 180.0], \"xaxis\": \"x\", \"y\": [5.680645093344871, 5.692485763798396, 5.751689116066019, 5.775370456973068, 5.810892468333642, 5.810892468333642, 5.810892468333642, 5.834573809240691, 5.834573809240691, 5.834573809240691, 5.834573809240691, 5.834573809240691, 5.834573809240691, 5.846414479694216, 5.846414479694216, 5.846414479694216, 5.846414479694216, 5.870095820601266, 5.893777161508315, 5.905617831961839, 5.905617831961839, 5.929299172868889, 5.929299172868889, 5.929299172868889, 5.929299172868889, 5.9885025251365125, 6.024024536497087, 6.047705877404136, 6.047705877404136, 6.047705877404136, 6.059546547857661, 6.059546547857661, 6.071387218311186, 6.071387218311186, 6.083227888764711, 6.095068559218235, 6.095068559218235, 6.10690922967176, 6.10690922967176, 6.118749900125284, 6.130590570578809, 6.130590570578809, 6.154271911485859, 6.166112581939383, 6.166112581939383, 6.166112581939383, 6.166112581939383, 6.166112581939383, 6.166112581939383, 6.166112581939383, 6.166112581939383, 6.177953252392908, 6.177953252392908, 6.177953252392908, 6.177953252392908, 6.177953252392908, 6.177953252392908, 6.189793922846432, 6.201634593299957, 6.201634593299957, 6.201634593299957, 6.201634593299957, 6.201634593299957, 6.201634593299957, 6.201634593299957, 6.201634593299957, 6.213475263753482, 6.213475263753482, 6.213475263753482, 6.213475263753482, 6.213475263753482, 6.225315934207007, 6.225315934207007, 6.225315934207007, 6.225315934207007, 6.225315934207007, 6.225315934207007, 6.225315934207007, 6.237156604660531, 6.237156604660531, 6.237156604660531, 6.237156604660531, 6.237156604660531, 6.237156604660531, 6.237156604660531, 6.237156604660531, 6.237156604660531, 6.237156604660531, 6.237156604660531, 6.237156604660531, 6.239373735401805, 6.239373735401805, 6.239373735401805, 6.239373735401805, 6.239373735401805, 6.239373735401805, 6.239373735401805, 6.239373735401805, 6.239373735401805, 6.239373735401805, 6.239373735401805, 6.239373735401805, 6.239373735401805, 6.239373735401805, 6.239373735401805, 6.239373735401805, 6.239373735401805, 6.239373735401805, 6.239373735401805, 6.239373735401805, 6.239373735401805, 6.239373735401805, 6.239373735401805, 6.239373735401805, 6.239373735401805, 6.239373735401805, 6.239373735401805, 6.239373735401805, 6.239373735401805, 6.239373735401805, 6.239373735401805, 6.239373735401805, 6.239373735401805, 6.239373735401805, 6.239373735401805, 6.239373735401805, 6.239373735401805, 6.239373735401805, 6.239373735401805, 6.239373735401805, 6.239373735401805, 6.239373735401805, 6.239373735401805, 6.248997275114056, 6.248997275114056, 6.248997275114056, 6.248997275114056, 6.248997275114056, 6.248997275114056, 6.248997275114056, 6.248997275114056, 6.248997275114056, 6.248997275114056, 6.248997275114056, 6.248997275114056, 6.26083794556758, 6.26083794556758, 6.26083794556758, 6.26083794556758, 6.26083794556758, 6.26083794556758, 6.26083794556758, 6.26083794556758, 6.26083794556758, 6.26083794556758, 6.26083794556758, 6.272678616021105, 6.272678616021105, 6.272678616021105, 6.272678616021105, 6.272678616021105, 6.272678616021105, 6.272678616021105, 6.272678616021105, 6.272678616021105, 6.272678616021105, 6.272678616021105, 6.272678616021105, 6.272678616021105, 6.272678616021105, 6.28451928647463, 6.28451928647463, 6.28451928647463, 6.28451928647463, 6.28451928647463, 6.28451928647463, 6.28451928647463, 6.28451928647463, 6.28451928647463, 6.28451928647463, 6.28451928647463, 6.28451928647463, 6.28451928647463, 6.28451928647463, 6.28451928647463, 6.28451928647463, 6.28451928647463, 6.28451928647463, 6.28451928647463, 6.28451928647463, 6.28451928647463, 6.28451928647463, 6.28451928647463, 6.28451928647463, 6.296359956928155, 6.296359956928155, 6.296359956928155, 6.296359956928155, 6.296359956928155, 6.296359956928155, 6.296359956928155, 6.296359956928155, 6.296359956928155, 6.296359956928155, 6.308200627381679, 6.308200627381679, 6.308200627381679, 6.308200627381679, 6.308200627381679, 6.308200627381679, 6.308200627381679, 6.308200627381679, 6.308200627381679, 6.308200627381679, 6.308200627381679, 6.308200627381679, 6.308200627381679, 6.308200627381679, 6.308200627381679, 6.308200627381679, 6.308200627381679, 6.308200627381679, 6.308200627381679, 6.308200627381679, 6.308200627381679, 6.308200627381679, 6.308200627381679, 6.308200627381679, 6.308200627381679, 6.320041297835204, 6.320041297835204, 6.320041297835204, 6.320041297835204, 6.320041297835204, 6.320041297835204, 6.320041297835204, 6.320041297835204, 6.320041297835204, 6.320041297835204, 6.320041297835204, 6.320041297835204, 6.320041297835204, 6.320041297835204, 6.320041297835204, 6.320041297835204, 6.320041297835204, 6.331881968288728, 6.331881968288728, 6.331881968288728, 6.331881968288728, 6.331881968288728, 6.331881968288728, 6.331881968288728, 6.331881968288728, 6.331881968288728, 6.331881968288728, 6.331881968288728, 6.331881968288728, 6.331881968288728, 6.331881968288728, 6.331881968288728, 6.331881968288728, 6.331881968288728, 6.331881968288728, 6.331881968288728, 6.331881968288728, 6.331881968288728, 6.343722638742253, 6.343722638742253, 6.343722638742253, 6.343722638742253, 6.343722638742253, 6.343722638742253, 6.343722638742253, 6.343722638742253, 6.343722638742253, 6.343722638742253, 6.343722638742253, 6.343722638742253, 6.343722638742253, 6.343722638742253, 6.343722638742253, 6.343722638742253, 6.343722638742253, 6.343722638742253, 6.343722638742253, 6.343722638742253, 6.343722638742253, 6.343722638742253, 6.343722638742253, 6.343722638742253, 6.355563309195778, 6.355563309195778, 6.355563309195778, 6.355563309195778, 6.355563309195778, 6.355563309195778, 6.355563309195778, 6.355563309195778, 6.355563309195778, 6.355563309195778, 6.355563309195778, 6.355563309195778, 6.355563309195778, 6.355563309195778, 6.355563309195778, 6.355563309195778, 6.355563309195778, 6.355563309195778, 6.355563309195778, 6.355563309195778, 6.355563309195778, 6.367403979649303, 6.367403979649303, 6.367403979649303, 6.367403979649303, 6.367403979649303, 6.367403979649303, 6.367403979649303, 6.367403979649303, 6.367403979649303, 6.367403979649303, 6.367403979649303, 6.367403979649303, 6.367403979649303, 6.367403979649303, 6.367403979649303, 6.367403979649303, 6.367403979649303, 6.367403979649303, 6.367403979649303, 6.367403979649303, 6.367403979649303, 6.367403979649303, 6.367403979649303, 6.3792446501028275, 6.3792446501028275, 6.3792446501028275, 6.3792446501028275, 6.3792446501028275, 6.3792446501028275, 6.3792446501028275, 6.3792446501028275, 6.3792446501028275, 6.3792446501028275, 6.3792446501028275, 6.3792446501028275, 6.3792446501028275, 6.3792446501028275, 6.3792446501028275, 6.3792446501028275, 6.3792446501028275, 6.3792446501028275, 6.3792446501028275, 6.3792446501028275, 6.3792446501028275, 6.3792446501028275, 6.3792446501028275, 6.3792446501028275, 6.3792446501028275, 6.3910853205563525, 6.3910853205563525, 6.3910853205563525, 6.3910853205563525, 6.3910853205563525, 6.3910853205563525, 6.3910853205563525, 6.3910853205563525, 6.3910853205563525, 6.3910853205563525, 6.3910853205563525, 6.3910853205563525, 6.3910853205563525, 6.3910853205563525, 6.3910853205563525, 6.3910853205563525, 6.3910853205563525, 6.3910853205563525, 6.3910853205563525, 6.3910853205563525, 6.402925991009877, 6.402925991009877, 6.402925991009877, 6.402925991009877, 6.402925991009877, 6.402925991009877, 6.402925991009877, 6.402925991009877, 6.402925991009877, 6.402925991009877, 6.402925991009877, 6.402925991009877, 6.402925991009877, 6.402925991009877, 6.402925991009877, 6.402925991009877, 6.402925991009877, 6.402925991009877, 6.402925991009877, 6.402925991009877, 6.402925991009877, 6.402925991009877, 6.402925991009877, 6.402925991009877, 6.402925991009877, 6.402925991009877, 6.402925991009877, 6.402925991009877, 6.414766661463402, 6.414766661463402, 6.414766661463402, 6.414766661463402, 6.414766661463402, 6.414766661463402, 6.414766661463402, 6.414766661463402, 6.414766661463402, 6.414766661463402, 6.414766661463402, 6.414766661463402, 6.414766661463402, 6.414766661463402, 6.414766661463402, 6.414766661463402, 6.414766661463402, 6.414766661463402, 6.414766661463402, 6.414766661463402, 6.414766661463402, 6.414766661463402, 6.414766661463402, 6.414766661463402, 6.414766661463402, 6.414766661463402, 6.414766661463402, 6.426607331916927, 6.426607331916927, 6.426607331916927, 6.426607331916927, 6.426607331916927, 6.426607331916927, 6.426607331916927, 6.426607331916927, 6.426607331916927, 6.426607331916927, 6.426607331916927, 6.426607331916927, 6.426607331916927, 6.426607331916927, 6.426607331916927, 6.426607331916927, 6.426607331916927, 6.426607331916927, 6.426607331916927, 6.426607331916927, 6.426607331916927, 6.426607331916927, 6.426607331916927, 6.438448002370452, 6.438448002370452, 6.438448002370452, 6.438448002370452, 6.438448002370452, 6.438448002370452, 6.438448002370452, 6.438448002370452, 6.438448002370452, 6.438448002370452, 6.438448002370452, 6.438448002370452, 6.438448002370452, 6.438448002370452, 6.438448002370452, 6.438448002370452, 6.438448002370452, 6.438448002370452, 6.438448002370452, 6.438448002370452, 6.450288672823976, 6.450288672823976, 6.450288672823976, 6.450288672823976, 6.450288672823976, 6.450288672823976, 6.450288672823976, 6.450288672823976, 6.450288672823976, 6.450288672823976, 6.450288672823976, 6.450288672823976, 6.450288672823976, 6.450288672823976, 6.450288672823976, 6.450288672823976, 6.462129343277501, 6.462129343277501, 6.462129343277501, 6.462129343277501, 6.462129343277501, 6.462129343277501, 6.462129343277501, 6.462129343277501, 6.462129343277501, 6.462129343277501, 6.462129343277501, 6.462129343277501, 6.462129343277501, 6.462129343277501, 6.462129343277501, 6.462129343277501, 6.462129343277501, 6.462129343277501, 6.462129343277501, 6.462129343277501, 6.462129343277501, 6.462129343277501, 6.462129343277501, 6.462129343277501, 6.462129343277501, 6.462129343277501, 6.473970013731025, 6.473970013731025, 6.473970013731025, 6.473970013731025, 6.473970013731025, 6.473970013731025, 6.473970013731025, 6.473970013731025, 6.473970013731025, 6.473970013731025, 6.473970013731025, 6.473970013731025, 6.473970013731025, 6.473970013731025, 6.473970013731025, 6.473970013731025, 6.473970013731025, 6.473970013731025, 6.473970013731025, 6.473970013731025, 6.48581068418455, 6.48581068418455, 6.48581068418455, 6.48581068418455, 6.48581068418455, 6.48581068418455, 6.48581068418455, 6.48581068418455, 6.48581068418455, 6.48581068418455, 6.48581068418455, 6.48581068418455, 6.48581068418455, 6.48581068418455, 6.48581068418455, 6.48581068418455, 6.48581068418455, 6.48581068418455, 6.48581068418455, 6.48581068418455, 6.497651354638075, 6.497651354638075, 6.497651354638075, 6.497651354638075, 6.497651354638075, 6.497651354638075, 6.497651354638075, 6.497651354638075, 6.497651354638075, 6.497651354638075, 6.497651354638075, 6.497651354638075, 6.497651354638075, 6.497651354638075, 6.497651354638075, 6.497651354638075, 6.497651354638075, 6.497651354638075, 6.497651354638075, 6.5094920250916, 6.5094920250916, 6.5094920250916, 6.5094920250916, 6.5094920250916, 6.5094920250916, 6.5094920250916, 6.5094920250916, 6.5094920250916, 6.5094920250916, 6.5094920250916, 6.5094920250916, 6.5094920250916, 6.5094920250916, 6.5094920250916, 6.5094920250916, 6.5094920250916, 6.5094920250916, 6.5094920250916, 6.5094920250916, 6.5094920250916, 6.5094920250916, 6.5094920250916, 6.521332695545124, 6.521332695545124, 6.521332695545124, 6.521332695545124, 6.521332695545124, 6.521332695545124, 6.521332695545124, 6.521332695545124, 6.521332695545124, 6.521332695545124, 6.521332695545124, 6.521332695545124, 6.521332695545124, 6.521332695545124, 6.521332695545124, 6.533173365998649, 6.533173365998649, 6.533173365998649, 6.533173365998649, 6.533173365998649, 6.533173365998649, 6.533173365998649, 6.533173365998649, 6.533173365998649, 6.533173365998649, 6.533173365998649, 6.533173365998649, 6.533173365998649, 6.545014036452173, 6.545014036452173, 6.545014036452173, 6.545014036452173, 6.545014036452173, 6.545014036452173, 6.545014036452173, 6.545014036452173, 6.545014036452173, 6.545014036452173, 6.545014036452173, 6.545014036452173, 6.545014036452173, 6.545014036452173, 6.545014036452173, 6.545014036452173, 6.545014036452173, 6.545014036452173, 6.556854706905698, 6.556854706905698, 6.556854706905698, 6.556854706905698, 6.556854706905698, 6.556854706905698, 6.556854706905698, 6.556854706905698, 6.556854706905698, 6.556854706905698, 6.556854706905698, 6.556854706905698, 6.556854706905698, 6.556854706905698, 6.556854706905698, 6.556854706905698, 6.556854706905698, 6.568695377359223, 6.568695377359223, 6.568695377359223, 6.568695377359223, 6.568695377359223, 6.568695377359223, 6.568695377359223, 6.568695377359223, 6.568695377359223, 6.568695377359223, 6.568695377359223, 6.568695377359223, 6.568695377359223, 6.568695377359223, 6.580536047812747, 6.580536047812747, 6.580536047812747, 6.580536047812747, 6.580536047812747, 6.580536047812747, 6.580536047812747, 6.580536047812747, 6.580536047812747, 6.580536047812747, 6.580536047812747, 6.580536047812747, 6.580536047812747, 6.580536047812747, 6.580536047812747, 6.580536047812747, 6.580536047812747, 6.580536047812747, 6.592376718266272, 6.592376718266272, 6.592376718266272, 6.592376718266272, 6.592376718266272, 6.592376718266272, 6.592376718266272, 6.592376718266272, 6.592376718266272, 6.592376718266272, 6.592376718266272, 6.592376718266272, 6.592376718266272, 6.592376718266272, 6.592376718266272, 6.592376718266272, 6.604217388719797, 6.604217388719797, 6.604217388719797, 6.604217388719797, 6.604217388719797, 6.604217388719797, 6.604217388719797, 6.604217388719797, 6.604217388719797, 6.604217388719797, 6.604217388719797, 6.604217388719797, 6.604217388719797, 6.604217388719797, 6.604217388719797, 6.604217388719797, 6.604217388719797, 6.604217388719797, 6.616058059173321, 6.616058059173321, 6.616058059173321, 6.616058059173321, 6.616058059173321, 6.616058059173321, 6.616058059173321, 6.616058059173321, 6.616058059173321, 6.616058059173321, 6.616058059173321, 6.616058059173321, 6.616058059173321, 6.616058059173321, 6.616058059173321, 6.616058059173321, 6.616058059173321, 6.616058059173321, 6.616058059173321, 6.627898729626846, 6.627898729626846, 6.627898729626846, 6.627898729626846, 6.627898729626846, 6.627898729626846, 6.627898729626846, 6.627898729626846, 6.627898729626846, 6.627898729626846, 6.627898729626846, 6.627898729626846, 6.627898729626846, 6.627898729626846, 6.627898729626846, 6.639739400080371, 6.639739400080371, 6.639739400080371, 6.639739400080371, 6.639739400080371, 6.639739400080371, 6.639739400080371, 6.639739400080371, 6.639739400080371, 6.639739400080371, 6.639739400080371, 6.639739400080371, 6.651580070533895, 6.651580070533895, 6.651580070533895, 6.651580070533895, 6.651580070533895, 6.651580070533895, 6.651580070533895, 6.651580070533895, 6.651580070533895, 6.651580070533895, 6.651580070533895, 6.651580070533895, 6.66342074098742, 6.66342074098742, 6.66342074098742, 6.66342074098742, 6.66342074098742, 6.66342074098742, 6.66342074098742, 6.66342074098742, 6.66342074098742, 6.675261411440945, 6.675261411440945, 6.675261411440945, 6.675261411440945, 6.675261411440945, 6.675261411440945, 6.675261411440945, 6.675261411440945, 6.675261411440945, 6.675261411440945, 6.675261411440945, 6.675261411440945, 6.687102081894469, 6.687102081894469, 6.687102081894469, 6.687102081894469, 6.687102081894469, 6.687102081894469, 6.687102081894469, 6.687102081894469, 6.687102081894469, 6.687102081894469, 6.687102081894469, 6.687102081894469, 6.687102081894469, 6.687102081894469, 6.687102081894469, 6.687102081894469, 6.698942752347994, 6.698942752347994, 6.698942752347994, 6.698942752347994, 6.698942752347994, 6.698942752347994, 6.698942752347994, 6.698942752347994, 6.698942752347994, 6.698942752347994, 6.710783422801519, 6.710783422801519, 6.710783422801519, 6.710783422801519, 6.710783422801519, 6.710783422801519, 6.722624093255043, 6.722624093255043, 6.722624093255043, 6.722624093255043, 6.722624093255043, 6.722624093255043, 6.722624093255043, 6.722624093255043, 6.722624093255043, 6.722624093255043, 6.722624093255043, 6.734464763708568, 6.734464763708568, 6.734464763708568, 6.734464763708568, 6.734464763708568, 6.734464763708568, 6.734464763708568, 6.734464763708568, 6.734464763708568, 6.746305434162093, 6.746305434162093, 6.746305434162093, 6.746305434162093, 6.746305434162093, 6.746305434162093, 6.746305434162093, 6.746305434162093, 6.7581461046156175, 6.7581461046156175, 6.7581461046156175, 6.7581461046156175, 6.7581461046156175, 6.7581461046156175, 6.7581461046156175, 6.7581461046156175, 6.7581461046156175, 6.7581461046156175, 6.7581461046156175, 6.7581461046156175, 6.7699867750691425, 6.7699867750691425, 6.7699867750691425, 6.7699867750691425, 6.7699867750691425, 6.7818274455226675, 6.7818274455226675, 6.7818274455226675, 6.7818274455226675, 6.7818274455226675, 6.7818274455226675, 6.793668115976192, 6.793668115976192, 6.793668115976192, 6.793668115976192, 6.793668115976192, 6.793668115976192, 6.793668115976192, 6.793668115976192, 6.793668115976192, 6.793668115976192, 6.805508786429717, 6.805508786429717, 6.805508786429717, 6.805508786429717, 6.805508786429717, 6.805508786429717, 6.817349456883242, 6.817349456883242, 6.817349456883242, 6.817349456883242, 6.817349456883242, 6.817349456883242, 6.817349456883242, 6.817349456883242, 6.829190127336766, 6.829190127336766, 6.829190127336766, 6.829190127336766, 6.841030797790291, 6.841030797790291, 6.841030797790291, 6.841030797790291, 6.841030797790291, 6.841030797790291, 6.841030797790291, 6.852871468243816, 6.852871468243816, 6.852871468243816, 6.852871468243816, 6.86471213869734, 6.86471213869734, 6.86471213869734, 6.86471213869734, 6.86471213869734, 6.86471213869734, 6.86471213869734, 6.876552809150865, 6.876552809150865, 6.876552809150865, 6.876552809150865, 6.876552809150865, 6.876552809150865, 6.876552809150865, 6.876552809150865, 6.876552809150865, 6.876552809150865, 6.876552809150865, 6.88839347960439, 6.88839347960439, 6.88839347960439, 6.88839347960439, 6.88839347960439, 6.900234150057914, 6.900234150057914, 6.900234150057914, 6.912074820511439, 6.912074820511439, 6.912074820511439, 6.912074820511439, 6.923915490964964, 6.923915490964964, 6.923915490964964, 6.935756161418488, 6.947596831872013, 6.947596831872013, 6.947596831872013, 6.947596831872013, 6.959437502325537, 6.959437502325537, 6.971278172779062, 6.971278172779062, 6.971278172779062, 6.971278172779062, 6.983118843232587, 6.983118843232587, 6.994959513686112, 6.994959513686112, 6.994959513686112, 7.006800184139636, 7.018640854593161, 7.030481525046685, 7.04232219550021, 7.04232219550021, 7.06600353640726, 7.077844206860784, 7.089684877314309, 7.125206888674883, 7.1607289000354575, 7.1607289000354575, 7.172569570488982, 7.172569570488982, 7.172569570488982, 7.208091581849557, 7.219932252303081, 7.219932252303081, 7.255454263663655, 7.350179627291853], \"yaxis\": \"y\"}],\n",
       "                        {\"height\": 600, \"legend\": {\"itemsizing\": \"constant\", \"tracegroupgap\": 0}, \"margin\": {\"t\": 60}, \"template\": {\"data\": {\"bar\": [{\"error_x\": {\"color\": \"#2a3f5f\"}, \"error_y\": {\"color\": \"#2a3f5f\"}, \"marker\": {\"line\": {\"color\": \"#E5ECF6\", \"width\": 0.5}}, \"type\": \"bar\"}], \"barpolar\": [{\"marker\": {\"line\": {\"color\": \"#E5ECF6\", \"width\": 0.5}}, \"type\": \"barpolar\"}], \"carpet\": [{\"aaxis\": {\"endlinecolor\": \"#2a3f5f\", \"gridcolor\": \"white\", \"linecolor\": \"white\", \"minorgridcolor\": \"white\", \"startlinecolor\": \"#2a3f5f\"}, \"baxis\": {\"endlinecolor\": \"#2a3f5f\", \"gridcolor\": \"white\", \"linecolor\": \"white\", \"minorgridcolor\": \"white\", \"startlinecolor\": \"#2a3f5f\"}, \"type\": \"carpet\"}], \"choropleth\": [{\"colorbar\": {\"outlinewidth\": 0, \"ticks\": \"\"}, \"type\": \"choropleth\"}], \"contour\": [{\"colorbar\": {\"outlinewidth\": 0, \"ticks\": \"\"}, \"colorscale\": [[0.0, \"#0d0887\"], [0.1111111111111111, \"#46039f\"], [0.2222222222222222, \"#7201a8\"], [0.3333333333333333, \"#9c179e\"], [0.4444444444444444, \"#bd3786\"], [0.5555555555555556, \"#d8576b\"], [0.6666666666666666, \"#ed7953\"], [0.7777777777777778, \"#fb9f3a\"], [0.8888888888888888, \"#fdca26\"], [1.0, \"#f0f921\"]], \"type\": \"contour\"}], \"contourcarpet\": [{\"colorbar\": {\"outlinewidth\": 0, \"ticks\": \"\"}, \"type\": \"contourcarpet\"}], \"heatmap\": [{\"colorbar\": {\"outlinewidth\": 0, \"ticks\": \"\"}, \"colorscale\": [[0.0, \"#0d0887\"], [0.1111111111111111, \"#46039f\"], [0.2222222222222222, \"#7201a8\"], [0.3333333333333333, \"#9c179e\"], [0.4444444444444444, \"#bd3786\"], [0.5555555555555556, \"#d8576b\"], [0.6666666666666666, \"#ed7953\"], [0.7777777777777778, \"#fb9f3a\"], [0.8888888888888888, \"#fdca26\"], [1.0, \"#f0f921\"]], \"type\": \"heatmap\"}], \"heatmapgl\": [{\"colorbar\": {\"outlinewidth\": 0, \"ticks\": \"\"}, \"colorscale\": [[0.0, \"#0d0887\"], [0.1111111111111111, \"#46039f\"], [0.2222222222222222, \"#7201a8\"], [0.3333333333333333, \"#9c179e\"], [0.4444444444444444, \"#bd3786\"], [0.5555555555555556, \"#d8576b\"], [0.6666666666666666, \"#ed7953\"], [0.7777777777777778, \"#fb9f3a\"], [0.8888888888888888, \"#fdca26\"], [1.0, \"#f0f921\"]], \"type\": \"heatmapgl\"}], \"histogram\": [{\"marker\": {\"colorbar\": {\"outlinewidth\": 0, \"ticks\": \"\"}}, \"type\": \"histogram\"}], \"histogram2d\": [{\"colorbar\": {\"outlinewidth\": 0, \"ticks\": \"\"}, \"colorscale\": [[0.0, \"#0d0887\"], [0.1111111111111111, \"#46039f\"], [0.2222222222222222, \"#7201a8\"], [0.3333333333333333, \"#9c179e\"], [0.4444444444444444, \"#bd3786\"], [0.5555555555555556, \"#d8576b\"], [0.6666666666666666, \"#ed7953\"], [0.7777777777777778, \"#fb9f3a\"], [0.8888888888888888, \"#fdca26\"], [1.0, \"#f0f921\"]], \"type\": \"histogram2d\"}], \"histogram2dcontour\": [{\"colorbar\": {\"outlinewidth\": 0, \"ticks\": \"\"}, \"colorscale\": [[0.0, \"#0d0887\"], [0.1111111111111111, \"#46039f\"], [0.2222222222222222, \"#7201a8\"], [0.3333333333333333, \"#9c179e\"], [0.4444444444444444, \"#bd3786\"], [0.5555555555555556, \"#d8576b\"], [0.6666666666666666, \"#ed7953\"], [0.7777777777777778, \"#fb9f3a\"], [0.8888888888888888, \"#fdca26\"], [1.0, \"#f0f921\"]], \"type\": \"histogram2dcontour\"}], \"mesh3d\": [{\"colorbar\": {\"outlinewidth\": 0, \"ticks\": \"\"}, \"type\": \"mesh3d\"}], \"parcoords\": [{\"line\": {\"colorbar\": {\"outlinewidth\": 0, \"ticks\": \"\"}}, \"type\": \"parcoords\"}], \"scatter\": [{\"marker\": {\"colorbar\": {\"outlinewidth\": 0, \"ticks\": \"\"}}, \"type\": \"scatter\"}], \"scatter3d\": [{\"line\": {\"colorbar\": {\"outlinewidth\": 0, \"ticks\": \"\"}}, \"marker\": {\"colorbar\": {\"outlinewidth\": 0, \"ticks\": \"\"}}, \"type\": \"scatter3d\"}], \"scattercarpet\": [{\"marker\": {\"colorbar\": {\"outlinewidth\": 0, \"ticks\": \"\"}}, \"type\": \"scattercarpet\"}], \"scattergeo\": [{\"marker\": {\"colorbar\": {\"outlinewidth\": 0, \"ticks\": \"\"}}, \"type\": \"scattergeo\"}], \"scattergl\": [{\"marker\": {\"colorbar\": {\"outlinewidth\": 0, \"ticks\": \"\"}}, \"type\": \"scattergl\"}], \"scattermapbox\": [{\"marker\": {\"colorbar\": {\"outlinewidth\": 0, \"ticks\": \"\"}}, \"type\": \"scattermapbox\"}], \"scatterpolar\": [{\"marker\": {\"colorbar\": {\"outlinewidth\": 0, \"ticks\": \"\"}}, \"type\": \"scatterpolar\"}], \"scatterpolargl\": [{\"marker\": {\"colorbar\": {\"outlinewidth\": 0, \"ticks\": \"\"}}, \"type\": \"scatterpolargl\"}], \"scatterternary\": [{\"marker\": {\"colorbar\": {\"outlinewidth\": 0, \"ticks\": \"\"}}, \"type\": \"scatterternary\"}], \"surface\": [{\"colorbar\": {\"outlinewidth\": 0, \"ticks\": \"\"}, \"colorscale\": [[0.0, \"#0d0887\"], [0.1111111111111111, \"#46039f\"], [0.2222222222222222, \"#7201a8\"], [0.3333333333333333, \"#9c179e\"], [0.4444444444444444, \"#bd3786\"], [0.5555555555555556, \"#d8576b\"], [0.6666666666666666, \"#ed7953\"], [0.7777777777777778, \"#fb9f3a\"], [0.8888888888888888, \"#fdca26\"], [1.0, \"#f0f921\"]], \"type\": \"surface\"}], \"table\": [{\"cells\": {\"fill\": {\"color\": \"#EBF0F8\"}, \"line\": {\"color\": \"white\"}}, \"header\": {\"fill\": {\"color\": \"#C8D4E3\"}, \"line\": {\"color\": \"white\"}}, \"type\": \"table\"}]}, \"layout\": {\"annotationdefaults\": {\"arrowcolor\": \"#2a3f5f\", \"arrowhead\": 0, \"arrowwidth\": 1}, \"colorscale\": {\"diverging\": [[0, \"#8e0152\"], [0.1, \"#c51b7d\"], [0.2, \"#de77ae\"], [0.3, \"#f1b6da\"], [0.4, \"#fde0ef\"], [0.5, \"#f7f7f7\"], [0.6, \"#e6f5d0\"], [0.7, \"#b8e186\"], [0.8, \"#7fbc41\"], [0.9, \"#4d9221\"], [1, \"#276419\"]], \"sequential\": [[0.0, \"#0d0887\"], [0.1111111111111111, \"#46039f\"], [0.2222222222222222, \"#7201a8\"], [0.3333333333333333, \"#9c179e\"], [0.4444444444444444, \"#bd3786\"], [0.5555555555555556, \"#d8576b\"], [0.6666666666666666, \"#ed7953\"], [0.7777777777777778, \"#fb9f3a\"], [0.8888888888888888, \"#fdca26\"], [1.0, \"#f0f921\"]], \"sequentialminus\": [[0.0, \"#0d0887\"], [0.1111111111111111, \"#46039f\"], [0.2222222222222222, \"#7201a8\"], [0.3333333333333333, \"#9c179e\"], [0.4444444444444444, \"#bd3786\"], [0.5555555555555556, \"#d8576b\"], [0.6666666666666666, \"#ed7953\"], [0.7777777777777778, \"#fb9f3a\"], [0.8888888888888888, \"#fdca26\"], [1.0, \"#f0f921\"]]}, \"colorway\": [\"#636efa\", \"#EF553B\", \"#00cc96\", \"#ab63fa\", \"#FFA15A\", \"#19d3f3\", \"#FF6692\", \"#B6E880\", \"#FF97FF\", \"#FECB52\"], \"font\": {\"color\": \"#2a3f5f\"}, \"geo\": {\"bgcolor\": \"white\", \"lakecolor\": \"white\", \"landcolor\": \"#E5ECF6\", \"showlakes\": true, \"showland\": true, \"subunitcolor\": \"white\"}, \"hoverlabel\": {\"align\": \"left\"}, \"hovermode\": \"closest\", \"mapbox\": {\"style\": \"light\"}, \"paper_bgcolor\": \"white\", \"plot_bgcolor\": \"#E5ECF6\", \"polar\": {\"angularaxis\": {\"gridcolor\": \"white\", \"linecolor\": \"white\", \"ticks\": \"\"}, \"bgcolor\": \"#E5ECF6\", \"radialaxis\": {\"gridcolor\": \"white\", \"linecolor\": \"white\", \"ticks\": \"\"}}, \"scene\": {\"xaxis\": {\"backgroundcolor\": \"#E5ECF6\", \"gridcolor\": \"white\", \"gridwidth\": 2, \"linecolor\": \"white\", \"showbackground\": true, \"ticks\": \"\", \"zerolinecolor\": \"white\"}, \"yaxis\": {\"backgroundcolor\": \"#E5ECF6\", \"gridcolor\": \"white\", \"gridwidth\": 2, \"linecolor\": \"white\", \"showbackground\": true, \"ticks\": \"\", \"zerolinecolor\": \"white\"}, \"zaxis\": {\"backgroundcolor\": \"#E5ECF6\", \"gridcolor\": \"white\", \"gridwidth\": 2, \"linecolor\": \"white\", \"showbackground\": true, \"ticks\": \"\", \"zerolinecolor\": \"white\"}}, \"shapedefaults\": {\"line\": {\"color\": \"#2a3f5f\"}}, \"ternary\": {\"aaxis\": {\"gridcolor\": \"white\", \"linecolor\": \"white\", \"ticks\": \"\"}, \"baxis\": {\"gridcolor\": \"white\", \"linecolor\": \"white\", \"ticks\": \"\"}, \"bgcolor\": \"#E5ECF6\", \"caxis\": {\"gridcolor\": \"white\", \"linecolor\": \"white\", \"ticks\": \"\"}}, \"title\": {\"x\": 0.05}, \"xaxis\": {\"automargin\": true, \"gridcolor\": \"white\", \"linecolor\": \"white\", \"ticks\": \"\", \"zerolinecolor\": \"white\", \"zerolinewidth\": 2}, \"yaxis\": {\"automargin\": true, \"gridcolor\": \"white\", \"linecolor\": \"white\", \"ticks\": \"\", \"zerolinecolor\": \"white\", \"zerolinewidth\": 2}}}, \"xaxis\": {\"anchor\": \"y\", \"domain\": [0.0, 0.98], \"title\": {\"text\": \"runtime_minutes\"}}, \"yaxis\": {\"anchor\": \"x\", \"domain\": [0.0, 1.0], \"title\": {\"text\": \"vote_average\"}}},\n",
       "                        {\"responsive\": true}\n",
       "                    ).then(function(){\n",
       "                            \n",
       "var gd = document.getElementById('f351bbf5-9b83-4cbc-a775-f94434e2f9a7');\n",
       "var x = new MutationObserver(function (mutations, observer) {{\n",
       "        var display = window.getComputedStyle(gd).display;\n",
       "        if (!display || display === 'none') {{\n",
       "            console.log([gd, 'removed!']);\n",
       "            Plotly.purge(gd);\n",
       "            observer.disconnect();\n",
       "        }}\n",
       "}});\n",
       "\n",
       "// Listen for the removal of the full notebook cells\n",
       "var notebookContainer = gd.closest('#notebook-container');\n",
       "if (notebookContainer) {{\n",
       "    x.observe(notebookContainer, {childList: true});\n",
       "}}\n",
       "\n",
       "// Listen for the clearing of the current output cell\n",
       "var outputEl = gd.closest('.output');\n",
       "if (outputEl) {{\n",
       "    x.observe(outputEl, {childList: true});\n",
       "}}\n",
       "\n",
       "                        })\n",
       "                };\n",
       "                });\n",
       "            </script>\n",
       "        </div>"
      ]
     },
     "metadata": {},
     "output_type": "display_data"
    }
   ],
   "source": [
    "#Graph of Vote Average over Runtime\n",
    "print('Ratings over Runtime')\n",
    "print('Clear correlation between longer runtim and better rating')\n",
    "fig2 = px.scatter(df4, x='runtime_minutes', y='vote_average',\n",
    "                size = 'production_budget', trendline = 'ols',\n",
    "                hover_data=['primary_title'])\n",
    "fig2.show()"
   ]
  },
  {
   "cell_type": "markdown",
   "metadata": {},
   "source": [
    "### Studio:"
   ]
  },
  {
   "cell_type": "markdown",
   "metadata": {},
   "source": [
    "Given that production doesn't correlate meaningfully with ratings, let's search for Studios with experience making movies that can create well rated movies on a modest budget.  From there, we can partner with or acquire some of these studios to build a pipeline of high quality movies!"
   ]
  },
  {
   "cell_type": "code",
   "execution_count": 131,
   "metadata": {
    "scrolled": false
   },
   "outputs": [
    {
     "name": "stdout",
     "output_type": "stream",
     "text": [
      "Top 100 Studios Based on Budget, Rating, Number of Movies (color), and Domestic Gross (size):\n"
     ]
    },
    {
     "data": {
      "application/vnd.plotly.v1+json": {
       "config": {
        "plotlyServerURL": "https://plot.ly"
       },
       "data": [
        {
         "customdata": [
          [
           "Orch."
          ],
          [
           "Cleopatra"
          ],
          [
           "Neon"
          ],
          [
           "Osci."
          ],
          [
           "MBox"
          ],
          [
           "Amazon"
          ],
          [
           "GrtIndia"
          ],
          [
           "IM"
          ],
          [
           "WHE"
          ],
          [
           "Gold."
          ],
          [
           "Wein."
          ],
          [
           "EOne"
          ],
          [
           "Jan."
          ],
          [
           "FoxS"
          ],
          [
           "SPC"
          ],
          [
           "BV"
          ],
          [
           "Cohen"
          ],
          [
           "A24"
          ],
          [
           "BST"
          ],
          [
           "Drft."
          ],
          [
           "Focus"
          ],
          [
           "TriS"
          ],
          [
           "P/DW"
          ],
          [
           "RAtt."
          ],
          [
           "Saban"
          ],
          [
           "STX"
          ],
          [
           "LG/S"
          ],
          [
           "WB"
          ],
          [
           "App."
          ],
          [
           "Trib."
          ],
          [
           "ParV"
          ],
          [
           "Sum."
          ],
          [
           "MGM"
          ],
          [
           "Magn."
          ],
          [
           "WB (NL)"
          ],
          [
           "Par."
          ],
          [
           "Fox"
          ],
          [
           "LD"
          ],
          [
           "IFC"
          ],
          [
           "LGF"
          ],
          [
           "RTWC"
          ],
          [
           "CBS"
          ],
          [
           "ORF"
          ],
          [
           "Uni."
          ],
          [
           "Rela."
          ],
          [
           "Sony"
          ],
          [
           "BG"
          ],
          [
           "ATO"
          ],
          [
           "Free"
          ],
          [
           "Mira."
          ],
          [
           "SMod"
          ],
          [
           "ALP"
          ],
          [
           "MNE"
          ],
          [
           "FD"
          ],
          [
           "BH Tilt"
          ],
          [
           "EC"
          ],
          [
           "Over."
          ],
          [
           "SGem"
          ],
          [
           "Studio 8"
          ],
          [
           "CE"
          ],
          [
           "Global Road"
          ],
          [
           "W/Dim."
          ],
          [
           "KE"
          ],
          [
           "Anch."
          ],
          [
           "TFA"
          ],
          [
           "Annapurna"
          ],
          [
           "ENTMP"
          ],
          [
           "Alc"
          ],
          [
           "VE"
          ],
          [
           "LGP"
          ],
          [
           "OMNI/FSR"
          ]
         ],
         "hoverlabel": {
          "namelength": 0
         },
         "hovertemplate": "avg_budg=%{x}<br>avg_rating=%{y}<br>avg_dom_gross=%{marker.size}<br>studio=%{customdata[0]}<br>num_movies=%{marker.color}",
         "legendgroup": "",
         "marker": {
          "color": [
           1,
           1,
           1,
           3,
           2,
           1,
           1,
           1,
           1,
           5,
           52,
           4,
           1,
           60,
           23,
           74,
           3,
           21,
           8,
           3,
           41,
           19,
           10,
           34,
           1,
           16,
           26,
           101,
           2,
           1,
           3,
           15,
           2,
           12,
           49,
           80,
           126,
           2,
           23,
           65,
           8,
           10,
           29,
           160,
           27,
           73,
           4,
           1,
           2,
           1,
           1,
           3,
           12,
           9,
           6,
           3,
           5,
           27,
           5,
           1,
           1,
           6,
           2,
           3,
           1,
           4,
           1,
           1,
           1,
           2,
           1
          ],
          "coloraxis": "coloraxis",
          "size": [
           5205471,
           82703,
           30014534,
           1796292.3333333333,
           53171426.5,
           2483472,
           18985794,
           641054,
           382946,
           712089.6,
           28418185.846153848,
           666092.75,
           611709,
           17696792.333333332,
           10852048.56521739,
           163245049.64864865,
           1134942,
           11414009.952380951,
           9834125.75,
           257827.66666666666,
           24756402.341463413,
           49438552.78947368,
           168291468.6,
           5739868.382352941,
           2429989,
           38022224.0625,
           47619975.961538464,
           86608786.06930692,
           3573673,
           767732,
           3686736,
           42822165.2,
           82992874,
           681483.5,
           83819546.97959183,
           77970755.2125,
           82968085.26984127,
           4051199.5,
           5501708.9130434785,
           49669417.06153846,
           2592369.125,
           26590368.6,
           21425556.44827586,
           82676103.01875,
           36676040.37037037,
           92570227.08219178,
           15142707.75,
           2039869,
           60556,
           27758465,
           1065429,
           42472,
           2217436,
           26549221.888888888,
           9261107.333333334,
           8810203.333333334,
           13402723,
           42919199.2962963,
           33482069.8,
           15160801,
           6708137,
           29094716,
           0,
           47070,
           32251,
           28030415.25,
           6115824,
           17472,
           4286367,
           36336,
           1186538
          ],
          "sizemode": "area",
          "sizeref": 420728.6715,
          "symbol": "circle"
         },
         "mode": "markers",
         "name": "",
         "showlegend": false,
         "type": "scatter",
         "x": [
          2500000,
          8000000,
          11000000,
          4333333.333333333,
          46300000,
          20000000,
          30000000,
          4000000,
          7000000,
          4300000,
          19550000,
          40275000,
          5500000,
          11162666.666666666,
          10458695.652173912,
          126208108.1081081,
          7133333.333333333,
          6814285.714285715,
          13562500,
          1916666.6666666667,
          20919512.19512195,
          33442105.263157893,
          133400000,
          11866176.470588235,
          16000000,
          35568750,
          55942307.692307696,
          78800990.0990099,
          9500000,
          1000000,
          3500000,
          28706666.666666668,
          43000000,
          5360000,
          50787755.10204082,
          59775000,
          69464285.71428572,
          10000000,
          11503043.47826087,
          34428660.76923077,
          9600000,
          19200000,
          20979310.344827585,
          53957500,
          26981481.48148148,
          67424657.53424658,
          18750000,
          12500000,
          6250000,
          19000000,
          4000000,
          26000000,
          30166666.666666668,
          29138888.888888888,
          2833333.3333333335,
          16666666.666666666,
          20600000,
          29351851.85185185,
          46800000,
          18000000,
          15000000,
          24583333.333333332,
          18000000,
          9583333.333333334,
          6000000,
          35250000,
          40000000,
          10000000,
          10000000,
          2000000,
          20000000
         ],
         "xaxis": "x",
         "y": [
          7.8,
          7.5,
          7.5,
          7.433333333333333,
          7.3,
          7,
          7,
          7,
          7,
          6.959999999999999,
          6.923076923076923,
          6.9,
          6.9,
          6.813333333333334,
          6.765217391304349,
          6.764864864864864,
          6.733333333333333,
          6.714285714285715,
          6.675000000000002,
          6.666666666666667,
          6.648780487804877,
          6.6421052631578945,
          6.519999999999999,
          6.51176470588235,
          6.5,
          6.4625,
          6.453846153846156,
          6.426732673267327,
          6.4,
          6.4,
          6.3999999999999995,
          6.366666666666668,
          6.35,
          6.333333333333335,
          6.312244897959182,
          6.303749999999999,
          6.300793650793654,
          6.3,
          6.291304347826086,
          6.273846153846155,
          6.262499999999999,
          6.249999999999999,
          6.227586206896552,
          6.163749999999996,
          6.155555555555555,
          6.130136986301369,
          6.125,
          6.1,
          6.1,
          6.1,
          6.1,
          6.099999999999999,
          6.083333333333335,
          6.055555555555555,
          6.016666666666666,
          6,
          6,
          5.988888888888891,
          5.98,
          5.9,
          5.9,
          5.8500000000000005,
          5.8,
          5.7,
          5.6,
          5.425000000000001,
          5.4,
          5.2,
          5.2,
          5,
          4.4
         ],
         "yaxis": "y"
        }
       ],
       "layout": {
        "coloraxis": {
         "colorbar": {
          "title": {
           "text": "num_movies"
          }
         },
         "colorscale": [
          [
           0,
           "#0d0887"
          ],
          [
           0.1111111111111111,
           "#46039f"
          ],
          [
           0.2222222222222222,
           "#7201a8"
          ],
          [
           0.3333333333333333,
           "#9c179e"
          ],
          [
           0.4444444444444444,
           "#bd3786"
          ],
          [
           0.5555555555555556,
           "#d8576b"
          ],
          [
           0.6666666666666666,
           "#ed7953"
          ],
          [
           0.7777777777777778,
           "#fb9f3a"
          ],
          [
           0.8888888888888888,
           "#fdca26"
          ],
          [
           1,
           "#f0f921"
          ]
         ]
        },
        "height": 600,
        "legend": {
         "itemsizing": "constant",
         "tracegroupgap": 0
        },
        "margin": {
         "t": 60
        },
        "template": {
         "data": {
          "bar": [
           {
            "error_x": {
             "color": "#2a3f5f"
            },
            "error_y": {
             "color": "#2a3f5f"
            },
            "marker": {
             "line": {
              "color": "#E5ECF6",
              "width": 0.5
             }
            },
            "type": "bar"
           }
          ],
          "barpolar": [
           {
            "marker": {
             "line": {
              "color": "#E5ECF6",
              "width": 0.5
             }
            },
            "type": "barpolar"
           }
          ],
          "carpet": [
           {
            "aaxis": {
             "endlinecolor": "#2a3f5f",
             "gridcolor": "white",
             "linecolor": "white",
             "minorgridcolor": "white",
             "startlinecolor": "#2a3f5f"
            },
            "baxis": {
             "endlinecolor": "#2a3f5f",
             "gridcolor": "white",
             "linecolor": "white",
             "minorgridcolor": "white",
             "startlinecolor": "#2a3f5f"
            },
            "type": "carpet"
           }
          ],
          "choropleth": [
           {
            "colorbar": {
             "outlinewidth": 0,
             "ticks": ""
            },
            "type": "choropleth"
           }
          ],
          "contour": [
           {
            "colorbar": {
             "outlinewidth": 0,
             "ticks": ""
            },
            "colorscale": [
             [
              0,
              "#0d0887"
             ],
             [
              0.1111111111111111,
              "#46039f"
             ],
             [
              0.2222222222222222,
              "#7201a8"
             ],
             [
              0.3333333333333333,
              "#9c179e"
             ],
             [
              0.4444444444444444,
              "#bd3786"
             ],
             [
              0.5555555555555556,
              "#d8576b"
             ],
             [
              0.6666666666666666,
              "#ed7953"
             ],
             [
              0.7777777777777778,
              "#fb9f3a"
             ],
             [
              0.8888888888888888,
              "#fdca26"
             ],
             [
              1,
              "#f0f921"
             ]
            ],
            "type": "contour"
           }
          ],
          "contourcarpet": [
           {
            "colorbar": {
             "outlinewidth": 0,
             "ticks": ""
            },
            "type": "contourcarpet"
           }
          ],
          "heatmap": [
           {
            "colorbar": {
             "outlinewidth": 0,
             "ticks": ""
            },
            "colorscale": [
             [
              0,
              "#0d0887"
             ],
             [
              0.1111111111111111,
              "#46039f"
             ],
             [
              0.2222222222222222,
              "#7201a8"
             ],
             [
              0.3333333333333333,
              "#9c179e"
             ],
             [
              0.4444444444444444,
              "#bd3786"
             ],
             [
              0.5555555555555556,
              "#d8576b"
             ],
             [
              0.6666666666666666,
              "#ed7953"
             ],
             [
              0.7777777777777778,
              "#fb9f3a"
             ],
             [
              0.8888888888888888,
              "#fdca26"
             ],
             [
              1,
              "#f0f921"
             ]
            ],
            "type": "heatmap"
           }
          ],
          "heatmapgl": [
           {
            "colorbar": {
             "outlinewidth": 0,
             "ticks": ""
            },
            "colorscale": [
             [
              0,
              "#0d0887"
             ],
             [
              0.1111111111111111,
              "#46039f"
             ],
             [
              0.2222222222222222,
              "#7201a8"
             ],
             [
              0.3333333333333333,
              "#9c179e"
             ],
             [
              0.4444444444444444,
              "#bd3786"
             ],
             [
              0.5555555555555556,
              "#d8576b"
             ],
             [
              0.6666666666666666,
              "#ed7953"
             ],
             [
              0.7777777777777778,
              "#fb9f3a"
             ],
             [
              0.8888888888888888,
              "#fdca26"
             ],
             [
              1,
              "#f0f921"
             ]
            ],
            "type": "heatmapgl"
           }
          ],
          "histogram": [
           {
            "marker": {
             "colorbar": {
              "outlinewidth": 0,
              "ticks": ""
             }
            },
            "type": "histogram"
           }
          ],
          "histogram2d": [
           {
            "colorbar": {
             "outlinewidth": 0,
             "ticks": ""
            },
            "colorscale": [
             [
              0,
              "#0d0887"
             ],
             [
              0.1111111111111111,
              "#46039f"
             ],
             [
              0.2222222222222222,
              "#7201a8"
             ],
             [
              0.3333333333333333,
              "#9c179e"
             ],
             [
              0.4444444444444444,
              "#bd3786"
             ],
             [
              0.5555555555555556,
              "#d8576b"
             ],
             [
              0.6666666666666666,
              "#ed7953"
             ],
             [
              0.7777777777777778,
              "#fb9f3a"
             ],
             [
              0.8888888888888888,
              "#fdca26"
             ],
             [
              1,
              "#f0f921"
             ]
            ],
            "type": "histogram2d"
           }
          ],
          "histogram2dcontour": [
           {
            "colorbar": {
             "outlinewidth": 0,
             "ticks": ""
            },
            "colorscale": [
             [
              0,
              "#0d0887"
             ],
             [
              0.1111111111111111,
              "#46039f"
             ],
             [
              0.2222222222222222,
              "#7201a8"
             ],
             [
              0.3333333333333333,
              "#9c179e"
             ],
             [
              0.4444444444444444,
              "#bd3786"
             ],
             [
              0.5555555555555556,
              "#d8576b"
             ],
             [
              0.6666666666666666,
              "#ed7953"
             ],
             [
              0.7777777777777778,
              "#fb9f3a"
             ],
             [
              0.8888888888888888,
              "#fdca26"
             ],
             [
              1,
              "#f0f921"
             ]
            ],
            "type": "histogram2dcontour"
           }
          ],
          "mesh3d": [
           {
            "colorbar": {
             "outlinewidth": 0,
             "ticks": ""
            },
            "type": "mesh3d"
           }
          ],
          "parcoords": [
           {
            "line": {
             "colorbar": {
              "outlinewidth": 0,
              "ticks": ""
             }
            },
            "type": "parcoords"
           }
          ],
          "scatter": [
           {
            "marker": {
             "colorbar": {
              "outlinewidth": 0,
              "ticks": ""
             }
            },
            "type": "scatter"
           }
          ],
          "scatter3d": [
           {
            "line": {
             "colorbar": {
              "outlinewidth": 0,
              "ticks": ""
             }
            },
            "marker": {
             "colorbar": {
              "outlinewidth": 0,
              "ticks": ""
             }
            },
            "type": "scatter3d"
           }
          ],
          "scattercarpet": [
           {
            "marker": {
             "colorbar": {
              "outlinewidth": 0,
              "ticks": ""
             }
            },
            "type": "scattercarpet"
           }
          ],
          "scattergeo": [
           {
            "marker": {
             "colorbar": {
              "outlinewidth": 0,
              "ticks": ""
             }
            },
            "type": "scattergeo"
           }
          ],
          "scattergl": [
           {
            "marker": {
             "colorbar": {
              "outlinewidth": 0,
              "ticks": ""
             }
            },
            "type": "scattergl"
           }
          ],
          "scattermapbox": [
           {
            "marker": {
             "colorbar": {
              "outlinewidth": 0,
              "ticks": ""
             }
            },
            "type": "scattermapbox"
           }
          ],
          "scatterpolar": [
           {
            "marker": {
             "colorbar": {
              "outlinewidth": 0,
              "ticks": ""
             }
            },
            "type": "scatterpolar"
           }
          ],
          "scatterpolargl": [
           {
            "marker": {
             "colorbar": {
              "outlinewidth": 0,
              "ticks": ""
             }
            },
            "type": "scatterpolargl"
           }
          ],
          "scatterternary": [
           {
            "marker": {
             "colorbar": {
              "outlinewidth": 0,
              "ticks": ""
             }
            },
            "type": "scatterternary"
           }
          ],
          "surface": [
           {
            "colorbar": {
             "outlinewidth": 0,
             "ticks": ""
            },
            "colorscale": [
             [
              0,
              "#0d0887"
             ],
             [
              0.1111111111111111,
              "#46039f"
             ],
             [
              0.2222222222222222,
              "#7201a8"
             ],
             [
              0.3333333333333333,
              "#9c179e"
             ],
             [
              0.4444444444444444,
              "#bd3786"
             ],
             [
              0.5555555555555556,
              "#d8576b"
             ],
             [
              0.6666666666666666,
              "#ed7953"
             ],
             [
              0.7777777777777778,
              "#fb9f3a"
             ],
             [
              0.8888888888888888,
              "#fdca26"
             ],
             [
              1,
              "#f0f921"
             ]
            ],
            "type": "surface"
           }
          ],
          "table": [
           {
            "cells": {
             "fill": {
              "color": "#EBF0F8"
             },
             "line": {
              "color": "white"
             }
            },
            "header": {
             "fill": {
              "color": "#C8D4E3"
             },
             "line": {
              "color": "white"
             }
            },
            "type": "table"
           }
          ]
         },
         "layout": {
          "annotationdefaults": {
           "arrowcolor": "#2a3f5f",
           "arrowhead": 0,
           "arrowwidth": 1
          },
          "colorscale": {
           "diverging": [
            [
             0,
             "#8e0152"
            ],
            [
             0.1,
             "#c51b7d"
            ],
            [
             0.2,
             "#de77ae"
            ],
            [
             0.3,
             "#f1b6da"
            ],
            [
             0.4,
             "#fde0ef"
            ],
            [
             0.5,
             "#f7f7f7"
            ],
            [
             0.6,
             "#e6f5d0"
            ],
            [
             0.7,
             "#b8e186"
            ],
            [
             0.8,
             "#7fbc41"
            ],
            [
             0.9,
             "#4d9221"
            ],
            [
             1,
             "#276419"
            ]
           ],
           "sequential": [
            [
             0,
             "#0d0887"
            ],
            [
             0.1111111111111111,
             "#46039f"
            ],
            [
             0.2222222222222222,
             "#7201a8"
            ],
            [
             0.3333333333333333,
             "#9c179e"
            ],
            [
             0.4444444444444444,
             "#bd3786"
            ],
            [
             0.5555555555555556,
             "#d8576b"
            ],
            [
             0.6666666666666666,
             "#ed7953"
            ],
            [
             0.7777777777777778,
             "#fb9f3a"
            ],
            [
             0.8888888888888888,
             "#fdca26"
            ],
            [
             1,
             "#f0f921"
            ]
           ],
           "sequentialminus": [
            [
             0,
             "#0d0887"
            ],
            [
             0.1111111111111111,
             "#46039f"
            ],
            [
             0.2222222222222222,
             "#7201a8"
            ],
            [
             0.3333333333333333,
             "#9c179e"
            ],
            [
             0.4444444444444444,
             "#bd3786"
            ],
            [
             0.5555555555555556,
             "#d8576b"
            ],
            [
             0.6666666666666666,
             "#ed7953"
            ],
            [
             0.7777777777777778,
             "#fb9f3a"
            ],
            [
             0.8888888888888888,
             "#fdca26"
            ],
            [
             1,
             "#f0f921"
            ]
           ]
          },
          "colorway": [
           "#636efa",
           "#EF553B",
           "#00cc96",
           "#ab63fa",
           "#FFA15A",
           "#19d3f3",
           "#FF6692",
           "#B6E880",
           "#FF97FF",
           "#FECB52"
          ],
          "font": {
           "color": "#2a3f5f"
          },
          "geo": {
           "bgcolor": "white",
           "lakecolor": "white",
           "landcolor": "#E5ECF6",
           "showlakes": true,
           "showland": true,
           "subunitcolor": "white"
          },
          "hoverlabel": {
           "align": "left"
          },
          "hovermode": "closest",
          "mapbox": {
           "style": "light"
          },
          "paper_bgcolor": "white",
          "plot_bgcolor": "#E5ECF6",
          "polar": {
           "angularaxis": {
            "gridcolor": "white",
            "linecolor": "white",
            "ticks": ""
           },
           "bgcolor": "#E5ECF6",
           "radialaxis": {
            "gridcolor": "white",
            "linecolor": "white",
            "ticks": ""
           }
          },
          "scene": {
           "xaxis": {
            "backgroundcolor": "#E5ECF6",
            "gridcolor": "white",
            "gridwidth": 2,
            "linecolor": "white",
            "showbackground": true,
            "ticks": "",
            "zerolinecolor": "white"
           },
           "yaxis": {
            "backgroundcolor": "#E5ECF6",
            "gridcolor": "white",
            "gridwidth": 2,
            "linecolor": "white",
            "showbackground": true,
            "ticks": "",
            "zerolinecolor": "white"
           },
           "zaxis": {
            "backgroundcolor": "#E5ECF6",
            "gridcolor": "white",
            "gridwidth": 2,
            "linecolor": "white",
            "showbackground": true,
            "ticks": "",
            "zerolinecolor": "white"
           }
          },
          "shapedefaults": {
           "line": {
            "color": "#2a3f5f"
           }
          },
          "ternary": {
           "aaxis": {
            "gridcolor": "white",
            "linecolor": "white",
            "ticks": ""
           },
           "baxis": {
            "gridcolor": "white",
            "linecolor": "white",
            "ticks": ""
           },
           "bgcolor": "#E5ECF6",
           "caxis": {
            "gridcolor": "white",
            "linecolor": "white",
            "ticks": ""
           }
          },
          "title": {
           "x": 0.05
          },
          "xaxis": {
           "automargin": true,
           "gridcolor": "white",
           "linecolor": "white",
           "ticks": "",
           "zerolinecolor": "white",
           "zerolinewidth": 2
          },
          "yaxis": {
           "automargin": true,
           "gridcolor": "white",
           "linecolor": "white",
           "ticks": "",
           "zerolinecolor": "white",
           "zerolinewidth": 2
          }
         }
        },
        "xaxis": {
         "anchor": "y",
         "domain": [
          0,
          0.98
         ],
         "title": {
          "text": "avg_budg"
         }
        },
        "yaxis": {
         "anchor": "x",
         "domain": [
          0,
          1
         ],
         "title": {
          "text": "avg_rating"
         }
        }
       }
      },
      "text/html": [
       "<div>\n",
       "        \n",
       "        \n",
       "            <div id=\"54f95f14-bd54-44da-94af-1a4de67a31ac\" class=\"plotly-graph-div\" style=\"height:600px; width:100%;\"></div>\n",
       "            <script type=\"text/javascript\">\n",
       "                require([\"plotly\"], function(Plotly) {\n",
       "                    window.PLOTLYENV=window.PLOTLYENV || {};\n",
       "                    \n",
       "                if (document.getElementById(\"54f95f14-bd54-44da-94af-1a4de67a31ac\")) {\n",
       "                    Plotly.newPlot(\n",
       "                        '54f95f14-bd54-44da-94af-1a4de67a31ac',\n",
       "                        [{\"customdata\": [[\"Orch.\"], [\"Cleopatra\"], [\"Neon\"], [\"Osci.\"], [\"MBox\"], [\"Amazon\"], [\"GrtIndia\"], [\"IM\"], [\"WHE\"], [\"Gold.\"], [\"Wein.\"], [\"EOne\"], [\"Jan.\"], [\"FoxS\"], [\"SPC\"], [\"BV\"], [\"Cohen\"], [\"A24\"], [\"BST\"], [\"Drft.\"], [\"Focus\"], [\"TriS\"], [\"P/DW\"], [\"RAtt.\"], [\"Saban\"], [\"STX\"], [\"LG/S\"], [\"WB\"], [\"App.\"], [\"Trib.\"], [\"ParV\"], [\"Sum.\"], [\"MGM\"], [\"Magn.\"], [\"WB (NL)\"], [\"Par.\"], [\"Fox\"], [\"LD\"], [\"IFC\"], [\"LGF\"], [\"RTWC\"], [\"CBS\"], [\"ORF\"], [\"Uni.\"], [\"Rela.\"], [\"Sony\"], [\"BG\"], [\"ATO\"], [\"Free\"], [\"Mira.\"], [\"SMod\"], [\"ALP\"], [\"MNE\"], [\"FD\"], [\"BH Tilt\"], [\"EC\"], [\"Over.\"], [\"SGem\"], [\"Studio 8\"], [\"CE\"], [\"Global Road\"], [\"W/Dim.\"], [\"KE\"], [\"Anch.\"], [\"TFA\"], [\"Annapurna\"], [\"ENTMP\"], [\"Alc\"], [\"VE\"], [\"LGP\"], [\"OMNI/FSR\"]], \"hoverlabel\": {\"namelength\": 0}, \"hovertemplate\": \"avg_budg=%{x}<br>avg_rating=%{y}<br>avg_dom_gross=%{marker.size}<br>studio=%{customdata[0]}<br>num_movies=%{marker.color}\", \"legendgroup\": \"\", \"marker\": {\"color\": [1, 1, 1, 3, 2, 1, 1, 1, 1, 5, 52, 4, 1, 60, 23, 74, 3, 21, 8, 3, 41, 19, 10, 34, 1, 16, 26, 101, 2, 1, 3, 15, 2, 12, 49, 80, 126, 2, 23, 65, 8, 10, 29, 160, 27, 73, 4, 1, 2, 1, 1, 3, 12, 9, 6, 3, 5, 27, 5, 1, 1, 6, 2, 3, 1, 4, 1, 1, 1, 2, 1], \"coloraxis\": \"coloraxis\", \"size\": [5205471.0, 82703.0, 30014534.0, 1796292.3333333333, 53171426.5, 2483472.0, 18985794.0, 641054.0, 382946.0, 712089.6, 28418185.846153848, 666092.75, 611709.0, 17696792.333333332, 10852048.56521739, 163245049.64864865, 1134942.0, 11414009.952380951, 9834125.75, 257827.66666666666, 24756402.341463413, 49438552.78947368, 168291468.6, 5739868.382352941, 2429989.0, 38022224.0625, 47619975.961538464, 86608786.06930692, 3573673.0, 767732.0, 3686736.0, 42822165.2, 82992874.0, 681483.5, 83819546.97959183, 77970755.2125, 82968085.26984127, 4051199.5, 5501708.9130434785, 49669417.06153846, 2592369.125, 26590368.6, 21425556.44827586, 82676103.01875, 36676040.37037037, 92570227.08219178, 15142707.75, 2039869.0, 60556.0, 27758465.0, 1065429.0, 42472.0, 2217436.0, 26549221.888888888, 9261107.333333334, 8810203.333333334, 13402723.0, 42919199.2962963, 33482069.8, 15160801.0, 6708137.0, 29094716.0, 0.0, 47070.0, 32251.0, 28030415.25, 6115824.0, 17472.0, 4286367.0, 36336.0, 1186538.0], \"sizemode\": \"area\", \"sizeref\": 420728.6715, \"symbol\": \"circle\"}, \"mode\": \"markers\", \"name\": \"\", \"showlegend\": false, \"type\": \"scatter\", \"x\": [2500000.0, 8000000.0, 11000000.0, 4333333.333333333, 46300000.0, 20000000.0, 30000000.0, 4000000.0, 7000000.0, 4300000.0, 19550000.0, 40275000.0, 5500000.0, 11162666.666666666, 10458695.652173912, 126208108.1081081, 7133333.333333333, 6814285.714285715, 13562500.0, 1916666.6666666667, 20919512.19512195, 33442105.263157893, 133400000.0, 11866176.470588235, 16000000.0, 35568750.0, 55942307.692307696, 78800990.0990099, 9500000.0, 1000000.0, 3500000.0, 28706666.666666668, 43000000.0, 5360000.0, 50787755.10204082, 59775000.0, 69464285.71428572, 10000000.0, 11503043.47826087, 34428660.76923077, 9600000.0, 19200000.0, 20979310.344827585, 53957500.0, 26981481.48148148, 67424657.53424658, 18750000.0, 12500000.0, 6250000.0, 19000000.0, 4000000.0, 26000000.0, 30166666.666666668, 29138888.888888888, 2833333.3333333335, 16666666.666666666, 20600000.0, 29351851.85185185, 46800000.0, 18000000.0, 15000000.0, 24583333.333333332, 18000000.0, 9583333.333333334, 6000000.0, 35250000.0, 40000000.0, 10000000.0, 10000000.0, 2000000.0, 20000000.0], \"xaxis\": \"x\", \"y\": [7.8, 7.5, 7.5, 7.433333333333333, 7.3, 7.0, 7.0, 7.0, 7.0, 6.959999999999999, 6.923076923076923, 6.9, 6.9, 6.813333333333334, 6.765217391304349, 6.764864864864864, 6.733333333333333, 6.714285714285715, 6.675000000000002, 6.666666666666667, 6.648780487804877, 6.6421052631578945, 6.519999999999999, 6.51176470588235, 6.5, 6.4625, 6.453846153846156, 6.426732673267327, 6.4, 6.4, 6.3999999999999995, 6.366666666666668, 6.35, 6.333333333333335, 6.312244897959182, 6.303749999999999, 6.300793650793654, 6.3, 6.291304347826086, 6.273846153846155, 6.262499999999999, 6.249999999999999, 6.227586206896552, 6.163749999999996, 6.155555555555555, 6.130136986301369, 6.125, 6.1, 6.1, 6.1, 6.1, 6.099999999999999, 6.083333333333335, 6.055555555555555, 6.016666666666666, 6.0, 6.0, 5.988888888888891, 5.98, 5.9, 5.9, 5.8500000000000005, 5.8, 5.7, 5.6, 5.425000000000001, 5.4, 5.2, 5.2, 5.0, 4.4], \"yaxis\": \"y\"}],\n",
       "                        {\"coloraxis\": {\"colorbar\": {\"title\": {\"text\": \"num_movies\"}}, \"colorscale\": [[0.0, \"#0d0887\"], [0.1111111111111111, \"#46039f\"], [0.2222222222222222, \"#7201a8\"], [0.3333333333333333, \"#9c179e\"], [0.4444444444444444, \"#bd3786\"], [0.5555555555555556, \"#d8576b\"], [0.6666666666666666, \"#ed7953\"], [0.7777777777777778, \"#fb9f3a\"], [0.8888888888888888, \"#fdca26\"], [1.0, \"#f0f921\"]]}, \"height\": 600, \"legend\": {\"itemsizing\": \"constant\", \"tracegroupgap\": 0}, \"margin\": {\"t\": 60}, \"template\": {\"data\": {\"bar\": [{\"error_x\": {\"color\": \"#2a3f5f\"}, \"error_y\": {\"color\": \"#2a3f5f\"}, \"marker\": {\"line\": {\"color\": \"#E5ECF6\", \"width\": 0.5}}, \"type\": \"bar\"}], \"barpolar\": [{\"marker\": {\"line\": {\"color\": \"#E5ECF6\", \"width\": 0.5}}, \"type\": \"barpolar\"}], \"carpet\": [{\"aaxis\": {\"endlinecolor\": \"#2a3f5f\", \"gridcolor\": \"white\", \"linecolor\": \"white\", \"minorgridcolor\": \"white\", \"startlinecolor\": \"#2a3f5f\"}, \"baxis\": {\"endlinecolor\": \"#2a3f5f\", \"gridcolor\": \"white\", \"linecolor\": \"white\", \"minorgridcolor\": \"white\", \"startlinecolor\": \"#2a3f5f\"}, \"type\": \"carpet\"}], \"choropleth\": [{\"colorbar\": {\"outlinewidth\": 0, \"ticks\": \"\"}, \"type\": \"choropleth\"}], \"contour\": [{\"colorbar\": {\"outlinewidth\": 0, \"ticks\": \"\"}, \"colorscale\": [[0.0, \"#0d0887\"], [0.1111111111111111, \"#46039f\"], [0.2222222222222222, \"#7201a8\"], [0.3333333333333333, \"#9c179e\"], [0.4444444444444444, \"#bd3786\"], [0.5555555555555556, \"#d8576b\"], [0.6666666666666666, \"#ed7953\"], [0.7777777777777778, \"#fb9f3a\"], [0.8888888888888888, \"#fdca26\"], [1.0, \"#f0f921\"]], \"type\": \"contour\"}], \"contourcarpet\": [{\"colorbar\": {\"outlinewidth\": 0, \"ticks\": \"\"}, \"type\": \"contourcarpet\"}], \"heatmap\": [{\"colorbar\": {\"outlinewidth\": 0, \"ticks\": \"\"}, \"colorscale\": [[0.0, \"#0d0887\"], [0.1111111111111111, \"#46039f\"], [0.2222222222222222, \"#7201a8\"], [0.3333333333333333, \"#9c179e\"], [0.4444444444444444, \"#bd3786\"], [0.5555555555555556, \"#d8576b\"], [0.6666666666666666, \"#ed7953\"], [0.7777777777777778, \"#fb9f3a\"], [0.8888888888888888, \"#fdca26\"], [1.0, \"#f0f921\"]], \"type\": \"heatmap\"}], \"heatmapgl\": [{\"colorbar\": {\"outlinewidth\": 0, \"ticks\": \"\"}, \"colorscale\": [[0.0, \"#0d0887\"], [0.1111111111111111, \"#46039f\"], [0.2222222222222222, \"#7201a8\"], [0.3333333333333333, \"#9c179e\"], [0.4444444444444444, \"#bd3786\"], [0.5555555555555556, \"#d8576b\"], [0.6666666666666666, \"#ed7953\"], [0.7777777777777778, \"#fb9f3a\"], [0.8888888888888888, \"#fdca26\"], [1.0, \"#f0f921\"]], \"type\": \"heatmapgl\"}], \"histogram\": [{\"marker\": {\"colorbar\": {\"outlinewidth\": 0, \"ticks\": \"\"}}, \"type\": \"histogram\"}], \"histogram2d\": [{\"colorbar\": {\"outlinewidth\": 0, \"ticks\": \"\"}, \"colorscale\": [[0.0, \"#0d0887\"], [0.1111111111111111, \"#46039f\"], [0.2222222222222222, \"#7201a8\"], [0.3333333333333333, \"#9c179e\"], [0.4444444444444444, \"#bd3786\"], [0.5555555555555556, \"#d8576b\"], [0.6666666666666666, \"#ed7953\"], [0.7777777777777778, \"#fb9f3a\"], [0.8888888888888888, \"#fdca26\"], [1.0, \"#f0f921\"]], \"type\": \"histogram2d\"}], \"histogram2dcontour\": [{\"colorbar\": {\"outlinewidth\": 0, \"ticks\": \"\"}, \"colorscale\": [[0.0, \"#0d0887\"], [0.1111111111111111, \"#46039f\"], [0.2222222222222222, \"#7201a8\"], [0.3333333333333333, \"#9c179e\"], [0.4444444444444444, \"#bd3786\"], [0.5555555555555556, \"#d8576b\"], [0.6666666666666666, \"#ed7953\"], [0.7777777777777778, \"#fb9f3a\"], [0.8888888888888888, \"#fdca26\"], [1.0, \"#f0f921\"]], \"type\": \"histogram2dcontour\"}], \"mesh3d\": [{\"colorbar\": {\"outlinewidth\": 0, \"ticks\": \"\"}, \"type\": \"mesh3d\"}], \"parcoords\": [{\"line\": {\"colorbar\": {\"outlinewidth\": 0, \"ticks\": \"\"}}, \"type\": \"parcoords\"}], \"scatter\": [{\"marker\": {\"colorbar\": {\"outlinewidth\": 0, \"ticks\": \"\"}}, \"type\": \"scatter\"}], \"scatter3d\": [{\"line\": {\"colorbar\": {\"outlinewidth\": 0, \"ticks\": \"\"}}, \"marker\": {\"colorbar\": {\"outlinewidth\": 0, \"ticks\": \"\"}}, \"type\": \"scatter3d\"}], \"scattercarpet\": [{\"marker\": {\"colorbar\": {\"outlinewidth\": 0, \"ticks\": \"\"}}, \"type\": \"scattercarpet\"}], \"scattergeo\": [{\"marker\": {\"colorbar\": {\"outlinewidth\": 0, \"ticks\": \"\"}}, \"type\": \"scattergeo\"}], \"scattergl\": [{\"marker\": {\"colorbar\": {\"outlinewidth\": 0, \"ticks\": \"\"}}, \"type\": \"scattergl\"}], \"scattermapbox\": [{\"marker\": {\"colorbar\": {\"outlinewidth\": 0, \"ticks\": \"\"}}, \"type\": \"scattermapbox\"}], \"scatterpolar\": [{\"marker\": {\"colorbar\": {\"outlinewidth\": 0, \"ticks\": \"\"}}, \"type\": \"scatterpolar\"}], \"scatterpolargl\": [{\"marker\": {\"colorbar\": {\"outlinewidth\": 0, \"ticks\": \"\"}}, \"type\": \"scatterpolargl\"}], \"scatterternary\": [{\"marker\": {\"colorbar\": {\"outlinewidth\": 0, \"ticks\": \"\"}}, \"type\": \"scatterternary\"}], \"surface\": [{\"colorbar\": {\"outlinewidth\": 0, \"ticks\": \"\"}, \"colorscale\": [[0.0, \"#0d0887\"], [0.1111111111111111, \"#46039f\"], [0.2222222222222222, \"#7201a8\"], [0.3333333333333333, \"#9c179e\"], [0.4444444444444444, \"#bd3786\"], [0.5555555555555556, \"#d8576b\"], [0.6666666666666666, \"#ed7953\"], [0.7777777777777778, \"#fb9f3a\"], [0.8888888888888888, \"#fdca26\"], [1.0, \"#f0f921\"]], \"type\": \"surface\"}], \"table\": [{\"cells\": {\"fill\": {\"color\": \"#EBF0F8\"}, \"line\": {\"color\": \"white\"}}, \"header\": {\"fill\": {\"color\": \"#C8D4E3\"}, \"line\": {\"color\": \"white\"}}, \"type\": \"table\"}]}, \"layout\": {\"annotationdefaults\": {\"arrowcolor\": \"#2a3f5f\", \"arrowhead\": 0, \"arrowwidth\": 1}, \"colorscale\": {\"diverging\": [[0, \"#8e0152\"], [0.1, \"#c51b7d\"], [0.2, \"#de77ae\"], [0.3, \"#f1b6da\"], [0.4, \"#fde0ef\"], [0.5, \"#f7f7f7\"], [0.6, \"#e6f5d0\"], [0.7, \"#b8e186\"], [0.8, \"#7fbc41\"], [0.9, \"#4d9221\"], [1, \"#276419\"]], \"sequential\": [[0.0, \"#0d0887\"], [0.1111111111111111, \"#46039f\"], [0.2222222222222222, \"#7201a8\"], [0.3333333333333333, \"#9c179e\"], [0.4444444444444444, \"#bd3786\"], [0.5555555555555556, \"#d8576b\"], [0.6666666666666666, \"#ed7953\"], [0.7777777777777778, \"#fb9f3a\"], [0.8888888888888888, \"#fdca26\"], [1.0, \"#f0f921\"]], \"sequentialminus\": [[0.0, \"#0d0887\"], [0.1111111111111111, \"#46039f\"], [0.2222222222222222, \"#7201a8\"], [0.3333333333333333, \"#9c179e\"], [0.4444444444444444, \"#bd3786\"], [0.5555555555555556, \"#d8576b\"], [0.6666666666666666, \"#ed7953\"], [0.7777777777777778, \"#fb9f3a\"], [0.8888888888888888, \"#fdca26\"], [1.0, \"#f0f921\"]]}, \"colorway\": [\"#636efa\", \"#EF553B\", \"#00cc96\", \"#ab63fa\", \"#FFA15A\", \"#19d3f3\", \"#FF6692\", \"#B6E880\", \"#FF97FF\", \"#FECB52\"], \"font\": {\"color\": \"#2a3f5f\"}, \"geo\": {\"bgcolor\": \"white\", \"lakecolor\": \"white\", \"landcolor\": \"#E5ECF6\", \"showlakes\": true, \"showland\": true, \"subunitcolor\": \"white\"}, \"hoverlabel\": {\"align\": \"left\"}, \"hovermode\": \"closest\", \"mapbox\": {\"style\": \"light\"}, \"paper_bgcolor\": \"white\", \"plot_bgcolor\": \"#E5ECF6\", \"polar\": {\"angularaxis\": {\"gridcolor\": \"white\", \"linecolor\": \"white\", \"ticks\": \"\"}, \"bgcolor\": \"#E5ECF6\", \"radialaxis\": {\"gridcolor\": \"white\", \"linecolor\": \"white\", \"ticks\": \"\"}}, \"scene\": {\"xaxis\": {\"backgroundcolor\": \"#E5ECF6\", \"gridcolor\": \"white\", \"gridwidth\": 2, \"linecolor\": \"white\", \"showbackground\": true, \"ticks\": \"\", \"zerolinecolor\": \"white\"}, \"yaxis\": {\"backgroundcolor\": \"#E5ECF6\", \"gridcolor\": \"white\", \"gridwidth\": 2, \"linecolor\": \"white\", \"showbackground\": true, \"ticks\": \"\", \"zerolinecolor\": \"white\"}, \"zaxis\": {\"backgroundcolor\": \"#E5ECF6\", \"gridcolor\": \"white\", \"gridwidth\": 2, \"linecolor\": \"white\", \"showbackground\": true, \"ticks\": \"\", \"zerolinecolor\": \"white\"}}, \"shapedefaults\": {\"line\": {\"color\": \"#2a3f5f\"}}, \"ternary\": {\"aaxis\": {\"gridcolor\": \"white\", \"linecolor\": \"white\", \"ticks\": \"\"}, \"baxis\": {\"gridcolor\": \"white\", \"linecolor\": \"white\", \"ticks\": \"\"}, \"bgcolor\": \"#E5ECF6\", \"caxis\": {\"gridcolor\": \"white\", \"linecolor\": \"white\", \"ticks\": \"\"}}, \"title\": {\"x\": 0.05}, \"xaxis\": {\"automargin\": true, \"gridcolor\": \"white\", \"linecolor\": \"white\", \"ticks\": \"\", \"zerolinecolor\": \"white\", \"zerolinewidth\": 2}, \"yaxis\": {\"automargin\": true, \"gridcolor\": \"white\", \"linecolor\": \"white\", \"ticks\": \"\", \"zerolinecolor\": \"white\", \"zerolinewidth\": 2}}}, \"xaxis\": {\"anchor\": \"y\", \"domain\": [0.0, 0.98], \"title\": {\"text\": \"avg_budg\"}}, \"yaxis\": {\"anchor\": \"x\", \"domain\": [0.0, 1.0], \"title\": {\"text\": \"avg_rating\"}}},\n",
       "                        {\"responsive\": true}\n",
       "                    ).then(function(){\n",
       "                            \n",
       "var gd = document.getElementById('54f95f14-bd54-44da-94af-1a4de67a31ac');\n",
       "var x = new MutationObserver(function (mutations, observer) {{\n",
       "        var display = window.getComputedStyle(gd).display;\n",
       "        if (!display || display === 'none') {{\n",
       "            console.log([gd, 'removed!']);\n",
       "            Plotly.purge(gd);\n",
       "            observer.disconnect();\n",
       "        }}\n",
       "}});\n",
       "\n",
       "// Listen for the removal of the full notebook cells\n",
       "var notebookContainer = gd.closest('#notebook-container');\n",
       "if (notebookContainer) {{\n",
       "    x.observe(notebookContainer, {childList: true});\n",
       "}}\n",
       "\n",
       "// Listen for the clearing of the current output cell\n",
       "var outputEl = gd.closest('.output');\n",
       "if (outputEl) {{\n",
       "    x.observe(outputEl, {childList: true});\n",
       "}}\n",
       "\n",
       "                        })\n",
       "                };\n",
       "                });\n",
       "            </script>\n",
       "        </div>"
      ]
     },
     "metadata": {},
     "output_type": "display_data"
    }
   ],
   "source": [
    "#Graph of studio success\n",
    "print('Top 100 Studios Based on Budget, Rating, Number of Movies (color), and Domestic Gross (size):')\n",
    "fig3 = px.scatter(df5, x='avg_budg', y='avg_rating',\n",
    "                size = 'avg_dom_gross', color = 'num_movies',\n",
    "                hover_data=['studio'])\n",
    "fig3.show()"
   ]
  },
  {
   "cell_type": "markdown",
   "metadata": {},
   "source": [
    "### Genre:"
   ]
  },
  {
   "cell_type": "markdown",
   "metadata": {},
   "source": [
    "Here we see that mystery films and biography films often rate the best.  Obviously we can't focus on these movies and nothing else (you need variety), but it might help to have more of these films than the average studio or streaming service. "
   ]
  },
  {
   "cell_type": "code",
   "execution_count": 132,
   "metadata": {},
   "outputs": [
    {
     "name": "stdout",
     "output_type": "stream",
     "text": [
      "Genres to Target on Basis of Average Rating:\n"
     ]
    },
    {
     "data": {
      "application/vnd.plotly.v1+json": {
       "config": {
        "plotlyServerURL": "https://plot.ly"
       },
       "data": [
        {
         "alignmentgroup": "True",
         "customdata": [
          [
           "Action"
          ],
          [
           "Action"
          ],
          [
           "Adventure"
          ],
          [
           "Action"
          ],
          [
           "Drama"
          ],
          [
           "Action"
          ],
          [
           "Action"
          ],
          [
           "Action"
          ],
          [
           "Action"
          ],
          [
           "Action"
          ],
          [
           "Action"
          ],
          [
           "Action"
          ],
          [
           "Action"
          ],
          [
           "Action"
          ],
          [
           "Action"
          ],
          [
           "Mystery"
          ],
          [
           "Action"
          ],
          [
           "Biography"
          ],
          [
           "Action"
          ],
          [
           "Adventure"
          ],
          [
           "Adventure"
          ],
          [
           "Action"
          ],
          [
           "Action"
          ],
          [
           "Action"
          ],
          [
           "Action"
          ],
          [
           "Action"
          ],
          [
           "Action"
          ],
          [
           "Horror"
          ],
          [
           "Action"
          ],
          [
           "Horror"
          ],
          [
           "Action"
          ],
          [
           "Drama"
          ],
          [
           "Action"
          ],
          [
           "Action"
          ],
          [
           "Biography"
          ],
          [
           "Drama"
          ],
          [
           "Documentary"
          ],
          [
           "Action"
          ],
          [
           "Action"
          ],
          [
           "Action"
          ],
          [
           "Action"
          ],
          [
           "Action"
          ],
          [
           "Action"
          ],
          [
           "Animation"
          ],
          [
           "Comedy"
          ],
          [
           "Action"
          ],
          [
           "Documentary"
          ],
          [
           "Adventure"
          ],
          [
           "Crime"
          ],
          [
           "Drama"
          ],
          [
           "Action"
          ],
          [
           "Drama"
          ],
          [
           "Action"
          ],
          [
           "Action"
          ],
          [
           "Action"
          ],
          [
           "Adventure"
          ],
          [
           "Adventure"
          ],
          [
           "Horror"
          ],
          [
           "Action"
          ],
          [
           "Adventure"
          ],
          [
           "Drama"
          ],
          [
           "Action"
          ],
          [
           "Adventure"
          ],
          [
           "Action"
          ],
          [
           "Action"
          ],
          [
           "Adventure"
          ],
          [
           "Drama"
          ],
          [
           "Adventure"
          ],
          [
           "Crime"
          ],
          [
           "Action"
          ],
          [
           "Action"
          ],
          [
           "Drama"
          ],
          [
           "Adventure"
          ],
          [
           "Adventure"
          ],
          [
           "Adventure"
          ],
          [
           "Comedy"
          ],
          [
           "Action"
          ],
          [
           "Comedy"
          ],
          [
           "Action"
          ],
          [
           "Biography"
          ],
          [
           "Action"
          ],
          [
           "Action"
          ],
          [
           "Action"
          ],
          [
           "Action"
          ],
          [
           "Adventure"
          ],
          [
           "Adventure"
          ],
          [
           "Adventure"
          ],
          [
           "Action"
          ],
          [
           "Adventure"
          ],
          [
           "Action"
          ],
          [
           "Action"
          ],
          [
           "Action"
          ],
          [
           "Action"
          ],
          [
           "Action"
          ],
          [
           "Action"
          ],
          [
           "Thriller"
          ],
          [
           "Action"
          ],
          [
           "Action"
          ],
          [
           "Action"
          ],
          [
           "Drama"
          ],
          [
           "Biography"
          ],
          [
           "Biography"
          ],
          [
           "Action"
          ],
          [
           "Drama"
          ],
          [
           "Biography"
          ],
          [
           "Adventure"
          ],
          [
           "Action"
          ],
          [
           "Action"
          ],
          [
           "Adventure"
          ],
          [
           "Action"
          ],
          [
           "Action"
          ],
          [
           "Mystery"
          ],
          [
           "Documentary"
          ],
          [
           "Action"
          ],
          [
           "Action"
          ],
          [
           "Comedy"
          ],
          [
           "Action"
          ],
          [
           "Action"
          ],
          [
           "Action"
          ],
          [
           "Biography"
          ],
          [
           "Action"
          ],
          [
           "Action"
          ],
          [
           "Drama"
          ],
          [
           "Drama"
          ],
          [
           "Horror"
          ],
          [
           "Crime"
          ],
          [
           "Documentary"
          ],
          [
           "Drama"
          ],
          [
           "Crime"
          ],
          [
           "Action"
          ],
          [
           "Action"
          ],
          [
           "Drama"
          ],
          [
           "Crime"
          ],
          [
           "Action"
          ],
          [
           "Drama"
          ],
          [
           "Adventure"
          ],
          [
           "Action"
          ],
          [
           "Action"
          ],
          [
           "Comedy"
          ],
          [
           "Biography"
          ],
          [
           "Action"
          ],
          [
           "Biography"
          ],
          [
           "Action"
          ],
          [
           "Animation"
          ],
          [
           "Action"
          ],
          [
           "Action"
          ],
          [
           "Horror"
          ],
          [
           "Biography"
          ],
          [
           "Action"
          ],
          [
           "Crime"
          ],
          [
           "Drama"
          ],
          [
           "Adventure"
          ],
          [
           "Adventure"
          ],
          [
           "Adventure"
          ],
          [
           "Action"
          ],
          [
           "Horror"
          ],
          [
           "Action"
          ],
          [
           "Action"
          ],
          [
           "Biography"
          ],
          [
           "Biography"
          ],
          [
           "Action"
          ],
          [
           "Comedy"
          ],
          [
           "Drama"
          ],
          [
           "Action"
          ],
          [
           "Documentary"
          ],
          [
           "Adventure"
          ],
          [
           "Action"
          ],
          [
           "Comedy"
          ],
          [
           "Documentary"
          ],
          [
           "Comedy"
          ],
          [
           "Drama"
          ],
          [
           "Action"
          ],
          [
           "Action"
          ],
          [
           "Drama"
          ],
          [
           "Action"
          ],
          [
           "Adventure"
          ],
          [
           "Crime"
          ],
          [
           "Action"
          ],
          [
           "Action"
          ],
          [
           "Adventure"
          ],
          [
           "Drama"
          ],
          [
           "Action"
          ],
          [
           "Animation"
          ],
          [
           "Action"
          ],
          [
           "Action"
          ],
          [
           "Action"
          ],
          [
           "Action"
          ],
          [
           "Adventure"
          ],
          [
           "Comedy"
          ],
          [
           "Comedy"
          ],
          [
           "Action"
          ],
          [
           "Comedy"
          ],
          [
           "Drama"
          ],
          [
           "Horror"
          ],
          [
           "Comedy"
          ],
          [
           "Action"
          ],
          [
           "Action"
          ],
          [
           "Action"
          ],
          [
           "Adventure"
          ],
          [
           "Documentary"
          ],
          [
           "Comedy"
          ],
          [
           "Adventure"
          ],
          [
           "Action"
          ],
          [
           "Action"
          ],
          [
           "Action"
          ],
          [
           "Adventure"
          ],
          [
           "Action"
          ],
          [
           "Horror"
          ],
          [
           "Drama"
          ],
          [
           "Crime"
          ],
          [
           "Comedy"
          ],
          [
           "Crime"
          ],
          [
           "Comedy"
          ],
          [
           "Comedy"
          ],
          [
           "Drama"
          ],
          [
           "Drama"
          ],
          [
           "Mystery"
          ],
          [
           "Biography"
          ],
          [
           "Action"
          ],
          [
           "Biography"
          ],
          [
           "Action"
          ],
          [
           "Action"
          ],
          [
           "Drama"
          ],
          [
           "Horror"
          ],
          [
           "Action"
          ],
          [
           "Comedy"
          ],
          [
           "Drama"
          ],
          [
           "Adventure"
          ],
          [
           "Comedy"
          ],
          [
           "Action"
          ],
          [
           "Action"
          ],
          [
           "Action"
          ],
          [
           "Comedy"
          ],
          [
           "Biography"
          ],
          [
           "Action"
          ],
          [
           "Adventure"
          ],
          [
           "Action"
          ],
          [
           "Action"
          ],
          [
           "Action"
          ],
          [
           "Adventure"
          ],
          [
           "Documentary"
          ],
          [
           "Drama"
          ],
          [
           "Action"
          ],
          [
           "Action"
          ],
          [
           "Action"
          ],
          [
           "Action"
          ],
          [
           "Action"
          ],
          [
           "Action"
          ],
          [
           "Action"
          ],
          [
           "Drama"
          ],
          [
           "Action"
          ],
          [
           "Comedy"
          ],
          [
           "Comedy"
          ],
          [
           "Drama"
          ],
          [
           "Horror"
          ],
          [
           "Action"
          ],
          [
           "Adventure"
          ],
          [
           "Drama"
          ],
          [
           "Drama"
          ],
          [
           "Biography"
          ],
          [
           "Action"
          ],
          [
           "Horror"
          ],
          [
           "Drama"
          ],
          [
           "Adventure"
          ],
          [
           "Action"
          ],
          [
           "Action"
          ],
          [
           "Action"
          ],
          [
           "Adventure"
          ],
          [
           "Adventure"
          ],
          [
           "Comedy"
          ],
          [
           "Horror"
          ],
          [
           "Action"
          ],
          [
           "Action"
          ],
          [
           "Drama"
          ],
          [
           "Action"
          ],
          [
           "Action"
          ],
          [
           "Action"
          ],
          [
           "Action"
          ],
          [
           "Horror"
          ],
          [
           "Adventure"
          ],
          [
           "Animation"
          ],
          [
           "Drama"
          ],
          [
           "Comedy"
          ],
          [
           "Comedy"
          ],
          [
           "Horror"
          ],
          [
           "Action"
          ],
          [
           "Action"
          ],
          [
           "Biography"
          ],
          [
           "Adventure"
          ],
          [
           "Action"
          ],
          [
           "Action"
          ],
          [
           "Adventure"
          ],
          [
           "Drama"
          ],
          [
           "Drama"
          ],
          [
           "Comedy"
          ],
          [
           "Drama"
          ],
          [
           "Adventure"
          ],
          [
           "Adventure"
          ],
          [
           "Drama"
          ],
          [
           "Action"
          ],
          [
           "Drama"
          ],
          [
           "Adventure"
          ],
          [
           "Comedy"
          ],
          [
           "Mystery"
          ],
          [
           "Action"
          ],
          [
           "Horror"
          ],
          [
           "Action"
          ],
          [
           "Action"
          ],
          [
           "Biography"
          ],
          [
           "Action"
          ],
          [
           "Action"
          ],
          [
           "Comedy"
          ],
          [
           "Adventure"
          ],
          [
           "Comedy"
          ],
          [
           "Thriller"
          ],
          [
           "Fantasy"
          ],
          [
           "Action"
          ],
          [
           "Action"
          ],
          [
           "Action"
          ],
          [
           "Action"
          ],
          [
           "Action"
          ],
          [
           "Comedy"
          ],
          [
           "Action"
          ],
          [
           "Adventure"
          ],
          [
           "Action"
          ],
          [
           "Action"
          ],
          [
           "Drama"
          ],
          [
           "Comedy"
          ],
          [
           "Crime"
          ],
          [
           "Action"
          ],
          [
           "Documentary"
          ],
          [
           "Action"
          ],
          [
           "Comedy"
          ],
          [
           "Action"
          ],
          [
           "Drama"
          ],
          [
           "Documentary"
          ],
          [
           "Drama"
          ],
          [
           "Drama"
          ],
          [
           "Drama"
          ],
          [
           "Action"
          ],
          [
           "Biography"
          ],
          [
           "Comedy"
          ],
          [
           "Drama"
          ],
          [
           "Action"
          ],
          [
           "Comedy"
          ],
          [
           "Comedy"
          ],
          [
           "Drama"
          ],
          [
           "Comedy"
          ],
          [
           "Comedy"
          ],
          [
           "Thriller"
          ],
          [
           "Documentary"
          ],
          [
           "Horror"
          ],
          [
           "Comedy"
          ],
          [
           "Romance"
          ],
          [
           "Comedy"
          ],
          [
           "Animation"
          ],
          [
           "Comedy"
          ],
          [
           "Action"
          ],
          [
           "Comedy"
          ],
          [
           "Adventure"
          ],
          [
           "Action"
          ],
          [
           "Comedy"
          ],
          [
           "Biography"
          ],
          [
           "Action"
          ],
          [
           "Action"
          ],
          [
           "Action"
          ],
          [
           "Action"
          ],
          [
           "Action"
          ],
          [
           "Action"
          ],
          [
           "Action"
          ],
          [
           "Action"
          ],
          [
           "Drama"
          ],
          [
           "Action"
          ],
          [
           "Biography"
          ],
          [
           "Comedy"
          ],
          [
           "Comedy"
          ],
          [
           "Drama"
          ],
          [
           "Action"
          ],
          [
           "Drama"
          ],
          [
           "Action"
          ],
          [
           "Action"
          ],
          [
           "Adventure"
          ],
          [
           "Biography"
          ],
          [
           "Action"
          ],
          [
           "Drama"
          ],
          [
           "Drama"
          ],
          [
           "Horror"
          ],
          [
           "Drama"
          ],
          [
           "Drama"
          ],
          [
           "Documentary"
          ],
          [
           "Drama"
          ],
          [
           "Drama"
          ],
          [
           "Action"
          ],
          [
           "Action"
          ],
          [
           "Comedy"
          ],
          [
           "Crime"
          ],
          [
           "Horror"
          ],
          [
           "Action"
          ],
          [
           "Crime"
          ],
          [
           "Documentary"
          ],
          [
           "Action"
          ],
          [
           "Comedy"
          ],
          [
           "Biography"
          ],
          [
           "Action"
          ],
          [
           "Action"
          ],
          [
           "Biography"
          ],
          [
           "Documentary"
          ],
          [
           "Action"
          ],
          [
           "Action"
          ],
          [
           "Adventure"
          ],
          [
           "Biography"
          ],
          [
           "Biography"
          ],
          [
           "Action"
          ],
          [
           "Drama"
          ],
          [
           "Biography"
          ],
          [
           "Drama"
          ],
          [
           "Adventure"
          ],
          [
           "Comedy"
          ],
          [
           "Comedy"
          ],
          [
           "Drama"
          ],
          [
           "Drama"
          ],
          [
           "Drama"
          ],
          [
           "Documentary"
          ],
          [
           "Drama"
          ],
          [
           "Action"
          ],
          [
           "Drama"
          ],
          [
           "Drama"
          ],
          [
           "Action"
          ],
          [
           "Action"
          ],
          [
           "Action"
          ],
          [
           "Biography"
          ],
          [
           "Documentary"
          ],
          [
           "Action"
          ],
          [
           "Adventure"
          ],
          [
           "Action"
          ],
          [
           "Action"
          ],
          [
           "Drama"
          ],
          [
           "Drama"
          ],
          [
           "Action"
          ],
          [
           "Adventure"
          ],
          [
           "Comedy"
          ],
          [
           "Documentary"
          ],
          [
           "Comedy"
          ],
          [
           "Drama"
          ],
          [
           "Drama"
          ],
          [
           "Drama"
          ],
          [
           "Adventure"
          ],
          [
           "Biography"
          ],
          [
           "Action"
          ],
          [
           "Biography"
          ],
          [
           "Comedy"
          ],
          [
           "Drama"
          ],
          [
           "Comedy"
          ],
          [
           "Action"
          ],
          [
           "Action"
          ],
          [
           "Drama"
          ],
          [
           "Comedy"
          ],
          [
           "Comedy"
          ],
          [
           "Thriller"
          ],
          [
           "Action"
          ],
          [
           "Biography"
          ],
          [
           "Biography"
          ],
          [
           "Action"
          ],
          [
           "Action"
          ],
          [
           "Action"
          ],
          [
           "Drama"
          ],
          [
           "Drama"
          ],
          [
           "Action"
          ],
          [
           "Documentary"
          ],
          [
           "Drama"
          ],
          [
           "Action"
          ],
          [
           "Biography"
          ],
          [
           "Horror"
          ],
          [
           "Drama"
          ],
          [
           "Action"
          ],
          [
           "Horror"
          ],
          [
           "Action"
          ],
          [
           "Action"
          ],
          [
           "Horror"
          ],
          [
           "Drama"
          ],
          [
           "Action"
          ],
          [
           "Drama"
          ],
          [
           "Drama"
          ],
          [
           "Action"
          ],
          [
           "Adventure"
          ],
          [
           "Action"
          ],
          [
           "Animation"
          ],
          [
           "Adventure"
          ],
          [
           "Action"
          ],
          [
           "Biography"
          ],
          [
           "Documentary"
          ],
          [
           "Documentary"
          ],
          [
           "Documentary"
          ],
          [
           "Drama"
          ],
          [
           "Drama"
          ],
          [
           "Drama"
          ],
          [
           "Comedy"
          ],
          [
           "Crime"
          ],
          [
           "Adventure"
          ],
          [
           "Adventure"
          ],
          [
           "Action"
          ],
          [
           "Biography"
          ],
          [
           "Drama"
          ],
          [
           "Crime"
          ],
          [
           "Comedy"
          ],
          [
           "Fantasy"
          ],
          [
           "Comedy"
          ],
          [
           "Adventure"
          ],
          [
           "Action"
          ],
          [
           "Action"
          ],
          [
           "Action"
          ],
          [
           "Crime"
          ],
          [
           "Action"
          ],
          [
           "Comedy"
          ],
          [
           "Drama"
          ],
          [
           "Action"
          ],
          [
           "Adventure"
          ],
          [
           "Comedy"
          ],
          [
           "Comedy"
          ],
          [
           "Drama"
          ],
          [
           "Action"
          ],
          [
           "Adventure"
          ],
          [
           "Comedy"
          ],
          [
           "Action"
          ],
          [
           "Drama"
          ],
          [
           "Horror"
          ],
          [
           "Action"
          ],
          [
           "Action"
          ],
          [
           "Adventure"
          ],
          [
           "Comedy"
          ],
          [
           "Thriller"
          ],
          [
           "Mystery"
          ],
          [
           "Drama"
          ],
          [
           "Crime"
          ],
          [
           "Drama"
          ],
          [
           "Thriller"
          ],
          [
           "Action"
          ],
          [
           "Action"
          ],
          [
           "Comedy"
          ],
          [
           "Adventure"
          ],
          [
           "Comedy"
          ],
          [
           "Action"
          ],
          [
           "Action"
          ],
          [
           "Drama"
          ],
          [
           "Horror"
          ],
          [
           "Comedy"
          ],
          [
           "Comedy"
          ],
          [
           "Drama"
          ],
          [
           "Documentary"
          ],
          [
           "Comedy"
          ],
          [
           "Adventure"
          ],
          [
           "Horror"
          ],
          [
           "Adventure"
          ],
          [
           "Action"
          ],
          [
           "Drama"
          ],
          [
           "Action"
          ],
          [
           "Action"
          ],
          [
           "Animation"
          ],
          [
           "Action"
          ],
          [
           "Adventure"
          ],
          [
           "Drama"
          ],
          [
           "Action"
          ],
          [
           "Adventure"
          ],
          [
           "Adventure"
          ],
          [
           "Horror"
          ],
          [
           "Action"
          ],
          [
           "Crime"
          ],
          [
           "Action"
          ],
          [
           "Drama"
          ],
          [
           "Drama"
          ],
          [
           "Drama"
          ],
          [
           "Documentary"
          ],
          [
           "Biography"
          ],
          [
           "Comedy"
          ],
          [
           "Drama"
          ],
          [
           "Documentary"
          ],
          [
           "Comedy"
          ],
          [
           "Action"
          ],
          [
           "Drama"
          ],
          [
           "Biography"
          ],
          [
           "Horror"
          ],
          [
           "Drama"
          ],
          [
           "Action"
          ],
          [
           "Drama"
          ],
          [
           "Action"
          ],
          [
           "Comedy"
          ],
          [
           "Adventure"
          ],
          [
           "Action"
          ],
          [
           "Crime"
          ],
          [
           "Comedy"
          ],
          [
           "Comedy"
          ],
          [
           "Drama"
          ],
          [
           "Horror"
          ],
          [
           "Drama"
          ],
          [
           "Comedy"
          ],
          [
           "Action"
          ],
          [
           "Documentary"
          ],
          [
           "Drama"
          ],
          [
           "Horror"
          ],
          [
           "Drama"
          ],
          [
           "Documentary"
          ],
          [
           "Thriller"
          ],
          [
           "Comedy"
          ],
          [
           "Comedy"
          ],
          [
           "Action"
          ],
          [
           "Drama"
          ],
          [
           "Drama"
          ],
          [
           "Action"
          ],
          [
           "Comedy"
          ],
          [
           "Adventure"
          ],
          [
           "Drama"
          ],
          [
           "Adventure"
          ],
          [
           "Drama"
          ],
          [
           "Horror"
          ],
          [
           "Action"
          ],
          [
           "Comedy"
          ],
          [
           "Drama"
          ],
          [
           "Adventure"
          ],
          [
           "Action"
          ],
          [
           "Biography"
          ],
          [
           "Action"
          ],
          [
           "Comedy"
          ],
          [
           "Comedy"
          ],
          [
           "Drama"
          ],
          [
           "Action"
          ],
          [
           "Comedy"
          ],
          [
           "Comedy"
          ],
          [
           "Drama"
          ],
          [
           "Drama"
          ],
          [
           "Drama"
          ],
          [
           "Drama"
          ],
          [
           "Drama"
          ],
          [
           "Adventure"
          ],
          [
           "Crime"
          ],
          [
           "Comedy"
          ],
          [
           "Comedy"
          ],
          [
           "Action"
          ],
          [
           "Drama"
          ],
          [
           "Comedy"
          ],
          [
           "Adventure"
          ],
          [
           "Adventure"
          ],
          [
           "Action"
          ],
          [
           "Biography"
          ],
          [
           "Action"
          ],
          [
           "Horror"
          ],
          [
           "Horror"
          ],
          [
           "Crime"
          ],
          [
           "Crime"
          ],
          [
           "Documentary"
          ],
          [
           "Documentary"
          ],
          [
           "Horror"
          ],
          [
           "Action"
          ],
          [
           "Comedy"
          ],
          [
           "Action"
          ],
          [
           "Drama"
          ],
          [
           "Comedy"
          ],
          [
           "Drama"
          ],
          [
           "Documentary"
          ],
          [
           "Action"
          ],
          [
           "Documentary"
          ],
          [
           "Action"
          ],
          [
           "Horror"
          ],
          [
           "Action"
          ],
          [
           "Action"
          ],
          [
           "Action"
          ],
          [
           "Adventure"
          ],
          [
           "Horror"
          ],
          [
           "Drama"
          ],
          [
           "Biography"
          ],
          [
           "Comedy"
          ],
          [
           "Action"
          ],
          [
           "Action"
          ],
          [
           "Drama"
          ],
          [
           "Drama"
          ],
          [
           "Adventure"
          ],
          [
           "Drama"
          ],
          [
           "Action"
          ],
          [
           "Action"
          ],
          [
           "Action"
          ],
          [
           "Comedy"
          ],
          [
           "Drama"
          ],
          [
           "Crime"
          ],
          [
           "Action"
          ],
          [
           "Drama"
          ],
          [
           "Action"
          ],
          [
           "Action"
          ],
          [
           "Comedy"
          ],
          [
           "Drama"
          ],
          [
           "Comedy"
          ],
          [
           "Crime"
          ],
          [
           "Action"
          ],
          [
           "Crime"
          ],
          [
           "Documentary"
          ],
          [
           "Documentary"
          ],
          [
           "Comedy"
          ],
          [
           "Drama"
          ],
          [
           "Adventure"
          ],
          [
           "Drama"
          ],
          [
           "Horror"
          ],
          [
           "Drama"
          ],
          [
           "Drama"
          ],
          [
           "Action"
          ],
          [
           "Adventure"
          ],
          [
           "Comedy"
          ],
          [
           "Biography"
          ],
          [
           "Action"
          ],
          [
           "Crime"
          ],
          [
           "Drama"
          ],
          [
           "Adventure"
          ],
          [
           "Crime"
          ],
          [
           "Action"
          ],
          [
           "Adventure"
          ],
          [
           "Action"
          ],
          [
           "Action"
          ],
          [
           "Action"
          ],
          [
           "Horror"
          ],
          [
           "Drama"
          ],
          [
           "Comedy"
          ],
          [
           "Drama"
          ],
          [
           "Comedy"
          ],
          [
           "Action"
          ],
          [
           "Comedy"
          ],
          [
           "Adventure"
          ],
          [
           "Crime"
          ],
          [
           "Action"
          ],
          [
           "Drama"
          ],
          [
           "Comedy"
          ],
          [
           "Drama"
          ],
          [
           "Comedy"
          ],
          [
           "Comedy"
          ],
          [
           "Horror"
          ],
          [
           "Action"
          ],
          [
           "Action"
          ],
          [
           "Comedy"
          ],
          [
           "Action"
          ],
          [
           "Action"
          ],
          [
           "Comedy"
          ],
          [
           "Action"
          ],
          [
           "Crime"
          ],
          [
           "Adventure"
          ],
          [
           "Crime"
          ],
          [
           "Comedy"
          ],
          [
           "Biography"
          ],
          [
           "Crime"
          ],
          [
           "Drama"
          ],
          [
           "Drama"
          ],
          [
           "Horror"
          ],
          [
           "Comedy"
          ],
          [
           "Adventure"
          ],
          [
           "Comedy"
          ],
          [
           "Biography"
          ],
          [
           "Adventure"
          ],
          [
           "Drama"
          ],
          [
           "Horror"
          ],
          [
           "Comedy"
          ],
          [
           "Horror"
          ],
          [
           "Adventure"
          ],
          [
           "Adventure"
          ],
          [
           "Comedy"
          ],
          [
           "Drama"
          ],
          [
           "Comedy"
          ],
          [
           "Horror"
          ],
          [
           "Action"
          ],
          [
           "Action"
          ],
          [
           "Drama"
          ],
          [
           "Comedy"
          ],
          [
           "Adventure"
          ],
          [
           "Adventure"
          ],
          [
           "Comedy"
          ],
          [
           "Documentary"
          ],
          [
           "Biography"
          ],
          [
           "Comedy"
          ],
          [
           "Documentary"
          ],
          [
           "Adventure"
          ],
          [
           "Horror"
          ],
          [
           "Action"
          ],
          [
           "Comedy"
          ],
          [
           "Comedy"
          ],
          [
           "Comedy"
          ],
          [
           "Adventure"
          ],
          [
           "Comedy"
          ],
          [
           "Action"
          ],
          [
           "Drama"
          ],
          [
           "Drama"
          ],
          [
           "Horror"
          ],
          [
           "Horror"
          ],
          [
           "Drama"
          ],
          [
           "Adventure"
          ],
          [
           "Horror"
          ],
          [
           "Documentary"
          ],
          [
           "Comedy"
          ],
          [
           "Comedy"
          ],
          [
           "Biography"
          ],
          [
           "Action"
          ],
          [
           "Biography"
          ],
          [
           "Crime"
          ],
          [
           "Comedy"
          ],
          [
           "Action"
          ],
          [
           "Drama"
          ],
          [
           "Animation"
          ],
          [
           "Comedy"
          ],
          [
           "Biography"
          ],
          [
           "Drama"
          ],
          [
           "Comedy"
          ],
          [
           "Biography"
          ],
          [
           "Action"
          ],
          [
           "Comedy"
          ],
          [
           "Action"
          ],
          [
           "Adventure"
          ],
          [
           "Horror"
          ],
          [
           "Adventure"
          ],
          [
           "Action"
          ],
          [
           "Drama"
          ],
          [
           "Action"
          ],
          [
           "Adventure"
          ],
          [
           "Drama"
          ],
          [
           "Crime"
          ],
          [
           "Action"
          ],
          [
           "Biography"
          ],
          [
           "Action"
          ],
          [
           "Adventure"
          ],
          [
           "Comedy"
          ],
          [
           "Biography"
          ],
          [
           "Comedy"
          ],
          [
           "Action"
          ],
          [
           "Comedy"
          ],
          [
           "Drama"
          ],
          [
           "Comedy"
          ],
          [
           "Drama"
          ],
          [
           "Comedy"
          ],
          [
           "Drama"
          ],
          [
           "Adventure"
          ],
          [
           "Action"
          ],
          [
           "Drama"
          ],
          [
           "Biography"
          ],
          [
           "Drama"
          ],
          [
           "Drama"
          ],
          [
           "Documentary"
          ],
          [
           "Drama"
          ],
          [
           "Action"
          ],
          [
           "Drama"
          ],
          [
           "Comedy"
          ],
          [
           "Horror"
          ],
          [
           "Action"
          ],
          [
           "Action"
          ],
          [
           "Comedy"
          ],
          [
           "Drama"
          ],
          [
           "Adventure"
          ],
          [
           "Action"
          ],
          [
           "Comedy"
          ],
          [
           "Comedy"
          ],
          [
           "Crime"
          ],
          [
           "Action"
          ],
          [
           "Comedy"
          ],
          [
           "Action"
          ],
          [
           "Biography"
          ],
          [
           "Action"
          ],
          [
           "Crime"
          ],
          [
           "Crime"
          ],
          [
           "Comedy"
          ],
          [
           "Action"
          ],
          [
           "Drama"
          ],
          [
           "Biography"
          ],
          [
           "Comedy"
          ],
          [
           "Crime"
          ],
          [
           "Drama"
          ],
          [
           "Drama"
          ],
          [
           "Crime"
          ],
          [
           "Crime"
          ],
          [
           "Documentary"
          ],
          [
           "Documentary"
          ],
          [
           "Action"
          ],
          [
           "Action"
          ],
          [
           "Comedy"
          ],
          [
           "Biography"
          ],
          [
           "Drama"
          ],
          [
           "Action"
          ],
          [
           "Horror"
          ],
          [
           "Horror"
          ],
          [
           "Comedy"
          ],
          [
           "Crime"
          ],
          [
           "Comedy"
          ],
          [
           "Comedy"
          ],
          [
           "Drama"
          ],
          [
           "Adventure"
          ],
          [
           "Horror"
          ],
          [
           "Fantasy"
          ],
          [
           "Drama"
          ],
          [
           "Action"
          ],
          [
           "Drama"
          ],
          [
           "Comedy"
          ],
          [
           "Biography"
          ],
          [
           "Comedy"
          ],
          [
           "Comedy"
          ],
          [
           "Adventure"
          ],
          [
           "Comedy"
          ],
          [
           "Action"
          ],
          [
           "Documentary"
          ],
          [
           "Comedy"
          ],
          [
           "Action"
          ],
          [
           "Drama"
          ],
          [
           "Adventure"
          ],
          [
           "Comedy"
          ],
          [
           "Action"
          ],
          [
           "Horror"
          ],
          [
           "Adventure"
          ],
          [
           "Comedy"
          ],
          [
           "Comedy"
          ],
          [
           "Action"
          ],
          [
           "Crime"
          ],
          [
           "Biography"
          ],
          [
           "Crime"
          ],
          [
           "Biography"
          ],
          [
           "Action"
          ],
          [
           "Fantasy"
          ],
          [
           "Comedy"
          ],
          [
           "Drama"
          ],
          [
           "Documentary"
          ],
          [
           "Adventure"
          ],
          [
           "Crime"
          ],
          [
           "Drama"
          ],
          [
           "Biography"
          ],
          [
           "Comedy"
          ],
          [
           "Comedy"
          ],
          [
           "Drama"
          ],
          [
           "Action"
          ],
          [
           "Comedy"
          ],
          [
           "Drama"
          ],
          [
           "Comedy"
          ],
          [
           "Comedy"
          ],
          [
           "Action"
          ],
          [
           "Comedy"
          ],
          [
           "Drama"
          ],
          [
           "Crime"
          ],
          [
           "Drama"
          ],
          [
           "Drama"
          ],
          [
           "Comedy"
          ],
          [
           "Comedy"
          ],
          [
           "Comedy"
          ],
          [
           "Adventure"
          ],
          [
           "Action"
          ],
          [
           "Comedy"
          ],
          [
           "Biography"
          ],
          [
           "Action"
          ],
          [
           "Drama"
          ],
          [
           "Drama"
          ],
          [
           "Crime"
          ],
          [
           "Drama"
          ],
          [
           "Comedy"
          ],
          [
           "Action"
          ],
          [
           "Comedy"
          ],
          [
           "Comedy"
          ],
          [
           "Adventure"
          ],
          [
           "Drama"
          ],
          [
           "Drama"
          ],
          [
           "Adventure"
          ],
          [
           "Comedy"
          ],
          [
           "Adventure"
          ],
          [
           "Action"
          ],
          [
           "Comedy"
          ],
          [
           "Comedy"
          ],
          [
           "Comedy"
          ],
          [
           "Comedy"
          ],
          [
           "Adventure"
          ],
          [
           "Comedy"
          ],
          [
           "Biography"
          ],
          [
           "Comedy"
          ],
          [
           "Biography"
          ],
          [
           "Biography"
          ],
          [
           "Comedy"
          ],
          [
           "Horror"
          ],
          [
           "Comedy"
          ],
          [
           "Action"
          ],
          [
           "Action"
          ],
          [
           "Action"
          ],
          [
           "Western"
          ],
          [
           "Horror"
          ],
          [
           "Action"
          ],
          [
           "Biography"
          ],
          [
           "Comedy"
          ],
          [
           "Fantasy"
          ],
          [
           "Biography"
          ],
          [
           "Drama"
          ],
          [
           "Drama"
          ],
          [
           "Action"
          ],
          [
           "Comedy"
          ],
          [
           "Biography"
          ],
          [
           "Adventure"
          ],
          [
           "Drama"
          ],
          [
           "Comedy"
          ],
          [
           "Drama"
          ],
          [
           "Adventure"
          ],
          [
           "Drama"
          ],
          [
           "Documentary"
          ],
          [
           "Drama"
          ],
          [
           "Documentary"
          ],
          [
           "Drama"
          ],
          [
           "Adventure"
          ],
          [
           "Comedy"
          ],
          [
           "Horror"
          ]
         ],
         "hoverlabel": {
          "namelength": 0
         },
         "hovertemplate": "G1=%{customdata[0]}<br>vote_average=%{y}",
         "legendgroup": "",
         "marker": {
          "color": "#636efa"
         },
         "name": "",
         "notched": false,
         "offsetgroup": "",
         "orientation": "v",
         "showlegend": false,
         "type": "box",
         "x": [
          "Action",
          "Action",
          "Adventure",
          "Action",
          "Drama",
          "Action",
          "Action",
          "Action",
          "Action",
          "Action",
          "Action",
          "Action",
          "Action",
          "Action",
          "Action",
          "Mystery",
          "Action",
          "Biography",
          "Action",
          "Adventure",
          "Adventure",
          "Action",
          "Action",
          "Action",
          "Action",
          "Action",
          "Action",
          "Horror",
          "Action",
          "Horror",
          "Action",
          "Drama",
          "Action",
          "Action",
          "Biography",
          "Drama",
          "Documentary",
          "Action",
          "Action",
          "Action",
          "Action",
          "Action",
          "Action",
          "Animation",
          "Comedy",
          "Action",
          "Documentary",
          "Adventure",
          "Crime",
          "Drama",
          "Action",
          "Drama",
          "Action",
          "Action",
          "Action",
          "Adventure",
          "Adventure",
          "Horror",
          "Action",
          "Adventure",
          "Drama",
          "Action",
          "Adventure",
          "Action",
          "Action",
          "Adventure",
          "Drama",
          "Adventure",
          "Crime",
          "Action",
          "Action",
          "Drama",
          "Adventure",
          "Adventure",
          "Adventure",
          "Comedy",
          "Action",
          "Comedy",
          "Action",
          "Biography",
          "Action",
          "Action",
          "Action",
          "Action",
          "Adventure",
          "Adventure",
          "Adventure",
          "Action",
          "Adventure",
          "Action",
          "Action",
          "Action",
          "Action",
          "Action",
          "Action",
          "Thriller",
          "Action",
          "Action",
          "Action",
          "Drama",
          "Biography",
          "Biography",
          "Action",
          "Drama",
          "Biography",
          "Adventure",
          "Action",
          "Action",
          "Adventure",
          "Action",
          "Action",
          "Mystery",
          "Documentary",
          "Action",
          "Action",
          "Comedy",
          "Action",
          "Action",
          "Action",
          "Biography",
          "Action",
          "Action",
          "Drama",
          "Drama",
          "Horror",
          "Crime",
          "Documentary",
          "Drama",
          "Crime",
          "Action",
          "Action",
          "Drama",
          "Crime",
          "Action",
          "Drama",
          "Adventure",
          "Action",
          "Action",
          "Comedy",
          "Biography",
          "Action",
          "Biography",
          "Action",
          "Animation",
          "Action",
          "Action",
          "Horror",
          "Biography",
          "Action",
          "Crime",
          "Drama",
          "Adventure",
          "Adventure",
          "Adventure",
          "Action",
          "Horror",
          "Action",
          "Action",
          "Biography",
          "Biography",
          "Action",
          "Comedy",
          "Drama",
          "Action",
          "Documentary",
          "Adventure",
          "Action",
          "Comedy",
          "Documentary",
          "Comedy",
          "Drama",
          "Action",
          "Action",
          "Drama",
          "Action",
          "Adventure",
          "Crime",
          "Action",
          "Action",
          "Adventure",
          "Drama",
          "Action",
          "Animation",
          "Action",
          "Action",
          "Action",
          "Action",
          "Adventure",
          "Comedy",
          "Comedy",
          "Action",
          "Comedy",
          "Drama",
          "Horror",
          "Comedy",
          "Action",
          "Action",
          "Action",
          "Adventure",
          "Documentary",
          "Comedy",
          "Adventure",
          "Action",
          "Action",
          "Action",
          "Adventure",
          "Action",
          "Horror",
          "Drama",
          "Crime",
          "Comedy",
          "Crime",
          "Comedy",
          "Comedy",
          "Drama",
          "Drama",
          "Mystery",
          "Biography",
          "Action",
          "Biography",
          "Action",
          "Action",
          "Drama",
          "Horror",
          "Action",
          "Comedy",
          "Drama",
          "Adventure",
          "Comedy",
          "Action",
          "Action",
          "Action",
          "Comedy",
          "Biography",
          "Action",
          "Adventure",
          "Action",
          "Action",
          "Action",
          "Adventure",
          "Documentary",
          "Drama",
          "Action",
          "Action",
          "Action",
          "Action",
          "Action",
          "Action",
          "Action",
          "Drama",
          "Action",
          "Comedy",
          "Comedy",
          "Drama",
          "Horror",
          "Action",
          "Adventure",
          "Drama",
          "Drama",
          "Biography",
          "Action",
          "Horror",
          "Drama",
          "Adventure",
          "Action",
          "Action",
          "Action",
          "Adventure",
          "Adventure",
          "Comedy",
          "Horror",
          "Action",
          "Action",
          "Drama",
          "Action",
          "Action",
          "Action",
          "Action",
          "Horror",
          "Adventure",
          "Animation",
          "Drama",
          "Comedy",
          "Comedy",
          "Horror",
          "Action",
          "Action",
          "Biography",
          "Adventure",
          "Action",
          "Action",
          "Adventure",
          "Drama",
          "Drama",
          "Comedy",
          "Drama",
          "Adventure",
          "Adventure",
          "Drama",
          "Action",
          "Drama",
          "Adventure",
          "Comedy",
          "Mystery",
          "Action",
          "Horror",
          "Action",
          "Action",
          "Biography",
          "Action",
          "Action",
          "Comedy",
          "Adventure",
          "Comedy",
          "Thriller",
          "Fantasy",
          "Action",
          "Action",
          "Action",
          "Action",
          "Action",
          "Comedy",
          "Action",
          "Adventure",
          "Action",
          "Action",
          "Drama",
          "Comedy",
          "Crime",
          "Action",
          "Documentary",
          "Action",
          "Comedy",
          "Action",
          "Drama",
          "Documentary",
          "Drama",
          "Drama",
          "Drama",
          "Action",
          "Biography",
          "Comedy",
          "Drama",
          "Action",
          "Comedy",
          "Comedy",
          "Drama",
          "Comedy",
          "Comedy",
          "Thriller",
          "Documentary",
          "Horror",
          "Comedy",
          "Romance",
          "Comedy",
          "Animation",
          "Comedy",
          "Action",
          "Comedy",
          "Adventure",
          "Action",
          "Comedy",
          "Biography",
          "Action",
          "Action",
          "Action",
          "Action",
          "Action",
          "Action",
          "Action",
          "Action",
          "Drama",
          "Action",
          "Biography",
          "Comedy",
          "Comedy",
          "Drama",
          "Action",
          "Drama",
          "Action",
          "Action",
          "Adventure",
          "Biography",
          "Action",
          "Drama",
          "Drama",
          "Horror",
          "Drama",
          "Drama",
          "Documentary",
          "Drama",
          "Drama",
          "Action",
          "Action",
          "Comedy",
          "Crime",
          "Horror",
          "Action",
          "Crime",
          "Documentary",
          "Action",
          "Comedy",
          "Biography",
          "Action",
          "Action",
          "Biography",
          "Documentary",
          "Action",
          "Action",
          "Adventure",
          "Biography",
          "Biography",
          "Action",
          "Drama",
          "Biography",
          "Drama",
          "Adventure",
          "Comedy",
          "Comedy",
          "Drama",
          "Drama",
          "Drama",
          "Documentary",
          "Drama",
          "Action",
          "Drama",
          "Drama",
          "Action",
          "Action",
          "Action",
          "Biography",
          "Documentary",
          "Action",
          "Adventure",
          "Action",
          "Action",
          "Drama",
          "Drama",
          "Action",
          "Adventure",
          "Comedy",
          "Documentary",
          "Comedy",
          "Drama",
          "Drama",
          "Drama",
          "Adventure",
          "Biography",
          "Action",
          "Biography",
          "Comedy",
          "Drama",
          "Comedy",
          "Action",
          "Action",
          "Drama",
          "Comedy",
          "Comedy",
          "Thriller",
          "Action",
          "Biography",
          "Biography",
          "Action",
          "Action",
          "Action",
          "Drama",
          "Drama",
          "Action",
          "Documentary",
          "Drama",
          "Action",
          "Biography",
          "Horror",
          "Drama",
          "Action",
          "Horror",
          "Action",
          "Action",
          "Horror",
          "Drama",
          "Action",
          "Drama",
          "Drama",
          "Action",
          "Adventure",
          "Action",
          "Animation",
          "Adventure",
          "Action",
          "Biography",
          "Documentary",
          "Documentary",
          "Documentary",
          "Drama",
          "Drama",
          "Drama",
          "Comedy",
          "Crime",
          "Adventure",
          "Adventure",
          "Action",
          "Biography",
          "Drama",
          "Crime",
          "Comedy",
          "Fantasy",
          "Comedy",
          "Adventure",
          "Action",
          "Action",
          "Action",
          "Crime",
          "Action",
          "Comedy",
          "Drama",
          "Action",
          "Adventure",
          "Comedy",
          "Comedy",
          "Drama",
          "Action",
          "Adventure",
          "Comedy",
          "Action",
          "Drama",
          "Horror",
          "Action",
          "Action",
          "Adventure",
          "Comedy",
          "Thriller",
          "Mystery",
          "Drama",
          "Crime",
          "Drama",
          "Thriller",
          "Action",
          "Action",
          "Comedy",
          "Adventure",
          "Comedy",
          "Action",
          "Action",
          "Drama",
          "Horror",
          "Comedy",
          "Comedy",
          "Drama",
          "Documentary",
          "Comedy",
          "Adventure",
          "Horror",
          "Adventure",
          "Action",
          "Drama",
          "Action",
          "Action",
          "Animation",
          "Action",
          "Adventure",
          "Drama",
          "Action",
          "Adventure",
          "Adventure",
          "Horror",
          "Action",
          "Crime",
          "Action",
          "Drama",
          "Drama",
          "Drama",
          "Documentary",
          "Biography",
          "Comedy",
          "Drama",
          "Documentary",
          "Comedy",
          "Action",
          "Drama",
          "Biography",
          "Horror",
          "Drama",
          "Action",
          "Drama",
          "Action",
          "Comedy",
          "Adventure",
          "Action",
          "Crime",
          "Comedy",
          "Comedy",
          "Drama",
          "Horror",
          "Drama",
          "Comedy",
          "Action",
          "Documentary",
          "Drama",
          "Horror",
          "Drama",
          "Documentary",
          "Thriller",
          "Comedy",
          "Comedy",
          "Action",
          "Drama",
          "Drama",
          "Action",
          "Comedy",
          "Adventure",
          "Drama",
          "Adventure",
          "Drama",
          "Horror",
          "Action",
          "Comedy",
          "Drama",
          "Adventure",
          "Action",
          "Biography",
          "Action",
          "Comedy",
          "Comedy",
          "Drama",
          "Action",
          "Comedy",
          "Comedy",
          "Drama",
          "Drama",
          "Drama",
          "Drama",
          "Drama",
          "Adventure",
          "Crime",
          "Comedy",
          "Comedy",
          "Action",
          "Drama",
          "Comedy",
          "Adventure",
          "Adventure",
          "Action",
          "Biography",
          "Action",
          "Horror",
          "Horror",
          "Crime",
          "Crime",
          "Documentary",
          "Documentary",
          "Horror",
          "Action",
          "Comedy",
          "Action",
          "Drama",
          "Comedy",
          "Drama",
          "Documentary",
          "Action",
          "Documentary",
          "Action",
          "Horror",
          "Action",
          "Action",
          "Action",
          "Adventure",
          "Horror",
          "Drama",
          "Biography",
          "Comedy",
          "Action",
          "Action",
          "Drama",
          "Drama",
          "Adventure",
          "Drama",
          "Action",
          "Action",
          "Action",
          "Comedy",
          "Drama",
          "Crime",
          "Action",
          "Drama",
          "Action",
          "Action",
          "Comedy",
          "Drama",
          "Comedy",
          "Crime",
          "Action",
          "Crime",
          "Documentary",
          "Documentary",
          "Comedy",
          "Drama",
          "Adventure",
          "Drama",
          "Horror",
          "Drama",
          "Drama",
          "Action",
          "Adventure",
          "Comedy",
          "Biography",
          "Action",
          "Crime",
          "Drama",
          "Adventure",
          "Crime",
          "Action",
          "Adventure",
          "Action",
          "Action",
          "Action",
          "Horror",
          "Drama",
          "Comedy",
          "Drama",
          "Comedy",
          "Action",
          "Comedy",
          "Adventure",
          "Crime",
          "Action",
          "Drama",
          "Comedy",
          "Drama",
          "Comedy",
          "Comedy",
          "Horror",
          "Action",
          "Action",
          "Comedy",
          "Action",
          "Action",
          "Comedy",
          "Action",
          "Crime",
          "Adventure",
          "Crime",
          "Comedy",
          "Biography",
          "Crime",
          "Drama",
          "Drama",
          "Horror",
          "Comedy",
          "Adventure",
          "Comedy",
          "Biography",
          "Adventure",
          "Drama",
          "Horror",
          "Comedy",
          "Horror",
          "Adventure",
          "Adventure",
          "Comedy",
          "Drama",
          "Comedy",
          "Horror",
          "Action",
          "Action",
          "Drama",
          "Comedy",
          "Adventure",
          "Adventure",
          "Comedy",
          "Documentary",
          "Biography",
          "Comedy",
          "Documentary",
          "Adventure",
          "Horror",
          "Action",
          "Comedy",
          "Comedy",
          "Comedy",
          "Adventure",
          "Comedy",
          "Action",
          "Drama",
          "Drama",
          "Horror",
          "Horror",
          "Drama",
          "Adventure",
          "Horror",
          "Documentary",
          "Comedy",
          "Comedy",
          "Biography",
          "Action",
          "Biography",
          "Crime",
          "Comedy",
          "Action",
          "Drama",
          "Animation",
          "Comedy",
          "Biography",
          "Drama",
          "Comedy",
          "Biography",
          "Action",
          "Comedy",
          "Action",
          "Adventure",
          "Horror",
          "Adventure",
          "Action",
          "Drama",
          "Action",
          "Adventure",
          "Drama",
          "Crime",
          "Action",
          "Biography",
          "Action",
          "Adventure",
          "Comedy",
          "Biography",
          "Comedy",
          "Action",
          "Comedy",
          "Drama",
          "Comedy",
          "Drama",
          "Comedy",
          "Drama",
          "Adventure",
          "Action",
          "Drama",
          "Biography",
          "Drama",
          "Drama",
          "Documentary",
          "Drama",
          "Action",
          "Drama",
          "Comedy",
          "Horror",
          "Action",
          "Action",
          "Comedy",
          "Drama",
          "Adventure",
          "Action",
          "Comedy",
          "Comedy",
          "Crime",
          "Action",
          "Comedy",
          "Action",
          "Biography",
          "Action",
          "Crime",
          "Crime",
          "Comedy",
          "Action",
          "Drama",
          "Biography",
          "Comedy",
          "Crime",
          "Drama",
          "Drama",
          "Crime",
          "Crime",
          "Documentary",
          "Documentary",
          "Action",
          "Action",
          "Comedy",
          "Biography",
          "Drama",
          "Action",
          "Horror",
          "Horror",
          "Comedy",
          "Crime",
          "Comedy",
          "Comedy",
          "Drama",
          "Adventure",
          "Horror",
          "Fantasy",
          "Drama",
          "Action",
          "Drama",
          "Comedy",
          "Biography",
          "Comedy",
          "Comedy",
          "Adventure",
          "Comedy",
          "Action",
          "Documentary",
          "Comedy",
          "Action",
          "Drama",
          "Adventure",
          "Comedy",
          "Action",
          "Horror",
          "Adventure",
          "Comedy",
          "Comedy",
          "Action",
          "Crime",
          "Biography",
          "Crime",
          "Biography",
          "Action",
          "Fantasy",
          "Comedy",
          "Drama",
          "Documentary",
          "Adventure",
          "Crime",
          "Drama",
          "Biography",
          "Comedy",
          "Comedy",
          "Drama",
          "Action",
          "Comedy",
          "Drama",
          "Comedy",
          "Comedy",
          "Action",
          "Comedy",
          "Drama",
          "Crime",
          "Drama",
          "Drama",
          "Comedy",
          "Comedy",
          "Comedy",
          "Adventure",
          "Action",
          "Comedy",
          "Biography",
          "Action",
          "Drama",
          "Drama",
          "Crime",
          "Drama",
          "Comedy",
          "Action",
          "Comedy",
          "Comedy",
          "Adventure",
          "Drama",
          "Drama",
          "Adventure",
          "Comedy",
          "Adventure",
          "Action",
          "Comedy",
          "Comedy",
          "Comedy",
          "Comedy",
          "Adventure",
          "Comedy",
          "Biography",
          "Comedy",
          "Biography",
          "Biography",
          "Comedy",
          "Horror",
          "Comedy",
          "Action",
          "Action",
          "Action",
          "Western",
          "Horror",
          "Action",
          "Biography",
          "Comedy",
          "Fantasy",
          "Biography",
          "Drama",
          "Drama",
          "Action",
          "Comedy",
          "Biography",
          "Adventure",
          "Drama",
          "Comedy",
          "Drama",
          "Adventure",
          "Drama",
          "Documentary",
          "Drama",
          "Documentary",
          "Drama",
          "Adventure",
          "Comedy",
          "Horror"
         ],
         "x0": " ",
         "xaxis": "x",
         "y": [
          8.3,
          7.6,
          8.2,
          7.9,
          8,
          7.1,
          7.4,
          6.6,
          7.4,
          8.3,
          7.7,
          5.9,
          7.3,
          6.9,
          6.7,
          8.1,
          7.3,
          7.9,
          6.8,
          7.7,
          7.2,
          5.8,
          7.1,
          7.4,
          7.5,
          7.4,
          7.4,
          7.4,
          7.7,
          7.2,
          7.1,
          7.9,
          7.1,
          6.5,
          8.1,
          7.4,
          7.4,
          7.6,
          7.8,
          6.7,
          6.8,
          7.2,
          7.5,
          7.2,
          7.9,
          6.3,
          6.3,
          7.7,
          7.4,
          7.4,
          6.5,
          7.2,
          7.4,
          6.7,
          7.5,
          7.3,
          8.2,
          8.2,
          6.4,
          7.3,
          7.6,
          6.5,
          7.7,
          6.9,
          7,
          6.9,
          6.9,
          8,
          7.7,
          7.6,
          7.4,
          7.6,
          7,
          7.3,
          7.6,
          6.3,
          7.4,
          7.1,
          6.8,
          8.1,
          7.7,
          6.8,
          7.1,
          6.2,
          6.4,
          6.4,
          6.9,
          7.2,
          7.2,
          6.4,
          6.7,
          7.3,
          7.6,
          6.6,
          6.5,
          6.5,
          6.8,
          6.8,
          6.4,
          7.4,
          7.9,
          8.1,
          6.8,
          5.4,
          7.9,
          7.5,
          7.1,
          6.6,
          7,
          7.6,
          6.9,
          7.1,
          7.1,
          7,
          6.8,
          6.4,
          7.4,
          6.3,
          6.8,
          7.2,
          6.3,
          6.5,
          7.7,
          7.8,
          7.5,
          7.7,
          7.3,
          7.3,
          8,
          7.7,
          7,
          8.1,
          8.2,
          6.4,
          6.4,
          6.1,
          5.9,
          7,
          6.8,
          8,
          6.9,
          7.2,
          6.1,
          6.9,
          6.7,
          7.2,
          5.9,
          7.9,
          6.1,
          7.8,
          7.8,
          6,
          6.9,
          7.1,
          5.8,
          6.2,
          6.1,
          6.8,
          8,
          7.3,
          6.1,
          6.6,
          6.9,
          6.2,
          6.2,
          6.3,
          6.8,
          6.2,
          6.2,
          6.2,
          6.2,
          7.2,
          6.8,
          6.1,
          7.3,
          7,
          6.8,
          5.2,
          5.3,
          6.4,
          7.2,
          6.3,
          6.9,
          7.2,
          5.1,
          6.7,
          7.1,
          5.6,
          7.3,
          6.1,
          6.2,
          5.9,
          7.4,
          6.5,
          6.8,
          6.4,
          5.1,
          6.6,
          7.1,
          7.1,
          6.3,
          6.3,
          5.8,
          6.2,
          6.3,
          5.9,
          6.2,
          7.3,
          7.3,
          7.3,
          7.9,
          7.3,
          7.5,
          7.5,
          8.2,
          8.1,
          6.7,
          7.1,
          5.1,
          7.6,
          5.5,
          5.9,
          5.9,
          5.9,
          6.8,
          7.3,
          7.4,
          6.1,
          6.5,
          6.6,
          4.4,
          4.4,
          8.1,
          8.1,
          8.1,
          6.5,
          6,
          6.4,
          6.6,
          6.6,
          6.6,
          6.6,
          6.2,
          7.3,
          5.8,
          6.3,
          6.8,
          6.1,
          6.7,
          7.2,
          6.1,
          6.8,
          6,
          6.7,
          6.9,
          6.6,
          6.1,
          6.1,
          6.4,
          8.3,
          6.7,
          6.5,
          7.4,
          6.6,
          6.9,
          6.5,
          6.1,
          5.6,
          6.5,
          7.1,
          5.6,
          6.1,
          6.5,
          7.2,
          6,
          6.8,
          5.6,
          6.3,
          6.6,
          6.3,
          6.7,
          7.5,
          6.1,
          8.2,
          6.5,
          6.3,
          6.3,
          7.6,
          6.7,
          6.3,
          6.1,
          5.9,
          7.5,
          6.5,
          6,
          6.3,
          7.7,
          6.5,
          6.5,
          6.7,
          6.5,
          6.3,
          6.4,
          6.4,
          6.7,
          6.6,
          6.3,
          5.7,
          7.5,
          6.3,
          5.9,
          5.5,
          5.7,
          5.7,
          5.7,
          5.7,
          5.9,
          6.1,
          6.2,
          5.6,
          5.6,
          5.7,
          6.4,
          7.2,
          6.7,
          6.7,
          7.5,
          6.5,
          6.9,
          5.8,
          5.8,
          6.7,
          6.9,
          6.9,
          6.5,
          6.5,
          6.5,
          6.5,
          6.5,
          6,
          7.3,
          5.9,
          7.4,
          6.3,
          5.3,
          6.2,
          6.8,
          5.8,
          6.2,
          6.2,
          6.2,
          6.2,
          6.2,
          6.6,
          6.2,
          6.2,
          6.2,
          6.7,
          6.5,
          6.7,
          5.9,
          6.2,
          6.8,
          6.3,
          6.3,
          6.3,
          6.3,
          6.3,
          6.3,
          6.3,
          6.3,
          6.9,
          6.3,
          7,
          5,
          6.2,
          7,
          7.3,
          7.2,
          5.6,
          6.6,
          5.9,
          7.1,
          6.5,
          6.1,
          6.1,
          6.1,
          6.1,
          6.1,
          6.1,
          6.1,
          7.1,
          6.2,
          6.1,
          6.8,
          7.1,
          7.1,
          6.5,
          7.3,
          7.3,
          5.4,
          5.9,
          7.3,
          5.7,
          5.5,
          7.1,
          7.1,
          7.4,
          6.5,
          6.4,
          6.8,
          7.1,
          5.8,
          7.4,
          7.4,
          6.7,
          5.8,
          5.9,
          7.2,
          6.3,
          6.3,
          6.3,
          6.3,
          7.2,
          5.8,
          7.8,
          7.8,
          6.7,
          6.2,
          6.1,
          7,
          7,
          5.9,
          6.2,
          4.6,
          6.6,
          7,
          6.1,
          5.9,
          5.6,
          7.1,
          7.1,
          6.8,
          7.2,
          7.2,
          7.2,
          5.8,
          7.7,
          6,
          7,
          5.9,
          7.2,
          7.2,
          6.4,
          6,
          7.1,
          7.1,
          7.1,
          7.1,
          5.4,
          7.4,
          7.7,
          5.6,
          6.6,
          6.6,
          6.6,
          6.6,
          4.8,
          7.9,
          7.9,
          7.7,
          6.4,
          5.4,
          6.9,
          5.6,
          6.6,
          6.4,
          6.4,
          6.4,
          7,
          6.1,
          7.4,
          7.5,
          6.6,
          6.2,
          5.6,
          7.1,
          6.2,
          6.4,
          6.4,
          6.4,
          6.4,
          6.4,
          7.3,
          7.3,
          7.5,
          5.8,
          6.9,
          6.9,
          7,
          5.5,
          7.2,
          5.1,
          6.1,
          6.5,
          5.9,
          5.6,
          6.6,
          5.8,
          6.3,
          5.9,
          6.4,
          5.9,
          6.1,
          7.2,
          5.8,
          5.5,
          6.4,
          6.4,
          7.6,
          6.1,
          6.3,
          6.6,
          5.8,
          5.8,
          5.8,
          5.8,
          5.8,
          6.9,
          7.4,
          7.4,
          7.4,
          4.9,
          6.7,
          6.7,
          6.7,
          7.3,
          5.6,
          6.1,
          6.1,
          6.6,
          6,
          6,
          6.1,
          6.4,
          6,
          5.8,
          6.6,
          6.6,
          6.7,
          6.9,
          6,
          5.9,
          5.9,
          5.9,
          6.1,
          6.3,
          6.8,
          6.4,
          6.4,
          6.9,
          6.3,
          6.8,
          6.4,
          5.1,
          5.4,
          7,
          7,
          6.2,
          6.2,
          6.2,
          6.2,
          6.2,
          6.2,
          7.1,
          7.1,
          6.7,
          5.7,
          6.9,
          6.1,
          6.2,
          7,
          6.3,
          7,
          6,
          7.6,
          6,
          5.3,
          7.1,
          6.7,
          6.8,
          6.8,
          5.9,
          7.3,
          7.1,
          7.6,
          7.6,
          5,
          5,
          6.6,
          6.6,
          6.6,
          6,
          6,
          7,
          6.8,
          6.8,
          6.3,
          6.6,
          7.1,
          6.5,
          5.4,
          7.1,
          7.1,
          5.8,
          7,
          7,
          7.1,
          6.3,
          6.4,
          6.4,
          6.4,
          6.4,
          6,
          6.5,
          6.1,
          6,
          6.7,
          7.2,
          8.3,
          8.3,
          6.9,
          6.2,
          5.8,
          6,
          4.7,
          6.5,
          6.9,
          6.6,
          6.8,
          6.6,
          5.4,
          7.5,
          5.3,
          6.6,
          6.6,
          6.6,
          6.6,
          6.6,
          6.6,
          5.7,
          6.9,
          4.4,
          7.4,
          7.4,
          7,
          7.1,
          7.1,
          7.1,
          7.1,
          6.7,
          6.8,
          5.8,
          5.8,
          5.6,
          6.5,
          6.1,
          7.6,
          6.2,
          7.4,
          6.8,
          6.2,
          6.8,
          6.8,
          5.1,
          6.6,
          6.1,
          6.2,
          6.2,
          6.4,
          6.7,
          5.8,
          6.6,
          6.8,
          6.6,
          6.2,
          6.5,
          6.3,
          5.3,
          5.1,
          6.6,
          6.7,
          6.7,
          6.7,
          6.4,
          6,
          5.7,
          5.8,
          5.9,
          7.1,
          7.1,
          5.7,
          6.2,
          5.6,
          7.2,
          6.4,
          5.9,
          5.9,
          5.9,
          5.9,
          5.3,
          5.7,
          6.8,
          5.5,
          6.4,
          5.8,
          6.8,
          5.9,
          7.4,
          4.1,
          6.2,
          6.2,
          6.4,
          6,
          6.3,
          6.9,
          6.9,
          6.9,
          5.7,
          5.6,
          5,
          6.2,
          5.2,
          6.4,
          6.7,
          6.7,
          6.7,
          5.5,
          6.6,
          5,
          5.1,
          7.1,
          6.3,
          5.5,
          6.5,
          6.7,
          6.7,
          5.3,
          5.5,
          6,
          6.9,
          6.3,
          7.4,
          6.2,
          5.3,
          5.4,
          7.2,
          6.7,
          5.5,
          5.7,
          6.1,
          6.1,
          5.9,
          5.6,
          5.9,
          6.7,
          5.8,
          5.8,
          6.5,
          6.5,
          7.3,
          5.7,
          5.7,
          5.9,
          6.3,
          6.2,
          6.1,
          6.1,
          6.8,
          7.4,
          6.5,
          5.3,
          5.3,
          5.3,
          5,
          5,
          5,
          6.1,
          6.1,
          6.1,
          7.2,
          6.1,
          7.4,
          6.4,
          6.6,
          6.5,
          6.5,
          6.2,
          6.9,
          7.1,
          5.9,
          5.9,
          5.9,
          5.9,
          5.9,
          5.9,
          5.6,
          6,
          5.4,
          5.9,
          7.8,
          6.2,
          7.4,
          5.9,
          6,
          7,
          6.2,
          5,
          6.4,
          6.2,
          6.6,
          5.3,
          5.7,
          5.5,
          6,
          7.4,
          7.4,
          6.2,
          6.8,
          6.6,
          6.7,
          5.8,
          6.1,
          7.1,
          6.7,
          5.9,
          6.2,
          6.2,
          6.2,
          6.2,
          6.2,
          6.9,
          5,
          5.4,
          4.8,
          5.5,
          7.1,
          6.6,
          5.6,
          5.8,
          6.2,
          5.9,
          6,
          5.9,
          4.5,
          5.3,
          5.4,
          6.3,
          6.6,
          6.9,
          6.6,
          7.2,
          7.4,
          7.3,
          6.5,
          5.8,
          5.8,
          5.8,
          5.8,
          5.8,
          5.8,
          5.8,
          5.8,
          7.6,
          7,
          7,
          7,
          5.3,
          5.2,
          7.4,
          5.6,
          6.9,
          5.4,
          8,
          5.9,
          5.3,
          7,
          6.5,
          5.6,
          7.7,
          5.8,
          6.7,
          6,
          7.1,
          6.2,
          5.2,
          4.9,
          4.9,
          6.2,
          6.6,
          6.6,
          6.6,
          6.3,
          6.5,
          4,
          4,
          6,
          6,
          4.6,
          6.5,
          7.2,
          6.7,
          6.4,
          6.1,
          5.4,
          5.4,
          5.4,
          5.4,
          6.7,
          5.8,
          5.4,
          7,
          6.1,
          6.1,
          6.8,
          5.4,
          5.8,
          5.1,
          4.4,
          5.8,
          6.1,
          6,
          6,
          7.8,
          6.2,
          5.9,
          5.9,
          4.1,
          5.7,
          6.5,
          5.7,
          6.2,
          7.4,
          6,
          6.5,
          6.5,
          8.2,
          6.6,
          7.4,
          5.5,
          7,
          6.9,
          5.2,
          6.8,
          6.7,
          5.6,
          5.9,
          6.9,
          6.2,
          6.7,
          6,
          5.7,
          5.3,
          6.6,
          5.5,
          6.2,
          5.8,
          6.6,
          6.6,
          6.1,
          4.8,
          5.9,
          6,
          6.3,
          5.7,
          5.7,
          6.3,
          5.3,
          6.2,
          6.9,
          5.5,
          5.9,
          7.2,
          6.9,
          6.3,
          6.9,
          6.7,
          5.6,
          6.4,
          6.1,
          5.6,
          5.6,
          5.6,
          5.6,
          5.6,
          5.6,
          5.6,
          5.9,
          5.1,
          6.2
         ],
         "y0": " ",
         "yaxis": "y"
        }
       ],
       "layout": {
        "boxmode": "group",
        "height": 600,
        "legend": {
         "tracegroupgap": 0
        },
        "margin": {
         "t": 60
        },
        "template": {
         "data": {
          "bar": [
           {
            "error_x": {
             "color": "#2a3f5f"
            },
            "error_y": {
             "color": "#2a3f5f"
            },
            "marker": {
             "line": {
              "color": "#E5ECF6",
              "width": 0.5
             }
            },
            "type": "bar"
           }
          ],
          "barpolar": [
           {
            "marker": {
             "line": {
              "color": "#E5ECF6",
              "width": 0.5
             }
            },
            "type": "barpolar"
           }
          ],
          "carpet": [
           {
            "aaxis": {
             "endlinecolor": "#2a3f5f",
             "gridcolor": "white",
             "linecolor": "white",
             "minorgridcolor": "white",
             "startlinecolor": "#2a3f5f"
            },
            "baxis": {
             "endlinecolor": "#2a3f5f",
             "gridcolor": "white",
             "linecolor": "white",
             "minorgridcolor": "white",
             "startlinecolor": "#2a3f5f"
            },
            "type": "carpet"
           }
          ],
          "choropleth": [
           {
            "colorbar": {
             "outlinewidth": 0,
             "ticks": ""
            },
            "type": "choropleth"
           }
          ],
          "contour": [
           {
            "colorbar": {
             "outlinewidth": 0,
             "ticks": ""
            },
            "colorscale": [
             [
              0,
              "#0d0887"
             ],
             [
              0.1111111111111111,
              "#46039f"
             ],
             [
              0.2222222222222222,
              "#7201a8"
             ],
             [
              0.3333333333333333,
              "#9c179e"
             ],
             [
              0.4444444444444444,
              "#bd3786"
             ],
             [
              0.5555555555555556,
              "#d8576b"
             ],
             [
              0.6666666666666666,
              "#ed7953"
             ],
             [
              0.7777777777777778,
              "#fb9f3a"
             ],
             [
              0.8888888888888888,
              "#fdca26"
             ],
             [
              1,
              "#f0f921"
             ]
            ],
            "type": "contour"
           }
          ],
          "contourcarpet": [
           {
            "colorbar": {
             "outlinewidth": 0,
             "ticks": ""
            },
            "type": "contourcarpet"
           }
          ],
          "heatmap": [
           {
            "colorbar": {
             "outlinewidth": 0,
             "ticks": ""
            },
            "colorscale": [
             [
              0,
              "#0d0887"
             ],
             [
              0.1111111111111111,
              "#46039f"
             ],
             [
              0.2222222222222222,
              "#7201a8"
             ],
             [
              0.3333333333333333,
              "#9c179e"
             ],
             [
              0.4444444444444444,
              "#bd3786"
             ],
             [
              0.5555555555555556,
              "#d8576b"
             ],
             [
              0.6666666666666666,
              "#ed7953"
             ],
             [
              0.7777777777777778,
              "#fb9f3a"
             ],
             [
              0.8888888888888888,
              "#fdca26"
             ],
             [
              1,
              "#f0f921"
             ]
            ],
            "type": "heatmap"
           }
          ],
          "heatmapgl": [
           {
            "colorbar": {
             "outlinewidth": 0,
             "ticks": ""
            },
            "colorscale": [
             [
              0,
              "#0d0887"
             ],
             [
              0.1111111111111111,
              "#46039f"
             ],
             [
              0.2222222222222222,
              "#7201a8"
             ],
             [
              0.3333333333333333,
              "#9c179e"
             ],
             [
              0.4444444444444444,
              "#bd3786"
             ],
             [
              0.5555555555555556,
              "#d8576b"
             ],
             [
              0.6666666666666666,
              "#ed7953"
             ],
             [
              0.7777777777777778,
              "#fb9f3a"
             ],
             [
              0.8888888888888888,
              "#fdca26"
             ],
             [
              1,
              "#f0f921"
             ]
            ],
            "type": "heatmapgl"
           }
          ],
          "histogram": [
           {
            "marker": {
             "colorbar": {
              "outlinewidth": 0,
              "ticks": ""
             }
            },
            "type": "histogram"
           }
          ],
          "histogram2d": [
           {
            "colorbar": {
             "outlinewidth": 0,
             "ticks": ""
            },
            "colorscale": [
             [
              0,
              "#0d0887"
             ],
             [
              0.1111111111111111,
              "#46039f"
             ],
             [
              0.2222222222222222,
              "#7201a8"
             ],
             [
              0.3333333333333333,
              "#9c179e"
             ],
             [
              0.4444444444444444,
              "#bd3786"
             ],
             [
              0.5555555555555556,
              "#d8576b"
             ],
             [
              0.6666666666666666,
              "#ed7953"
             ],
             [
              0.7777777777777778,
              "#fb9f3a"
             ],
             [
              0.8888888888888888,
              "#fdca26"
             ],
             [
              1,
              "#f0f921"
             ]
            ],
            "type": "histogram2d"
           }
          ],
          "histogram2dcontour": [
           {
            "colorbar": {
             "outlinewidth": 0,
             "ticks": ""
            },
            "colorscale": [
             [
              0,
              "#0d0887"
             ],
             [
              0.1111111111111111,
              "#46039f"
             ],
             [
              0.2222222222222222,
              "#7201a8"
             ],
             [
              0.3333333333333333,
              "#9c179e"
             ],
             [
              0.4444444444444444,
              "#bd3786"
             ],
             [
              0.5555555555555556,
              "#d8576b"
             ],
             [
              0.6666666666666666,
              "#ed7953"
             ],
             [
              0.7777777777777778,
              "#fb9f3a"
             ],
             [
              0.8888888888888888,
              "#fdca26"
             ],
             [
              1,
              "#f0f921"
             ]
            ],
            "type": "histogram2dcontour"
           }
          ],
          "mesh3d": [
           {
            "colorbar": {
             "outlinewidth": 0,
             "ticks": ""
            },
            "type": "mesh3d"
           }
          ],
          "parcoords": [
           {
            "line": {
             "colorbar": {
              "outlinewidth": 0,
              "ticks": ""
             }
            },
            "type": "parcoords"
           }
          ],
          "scatter": [
           {
            "marker": {
             "colorbar": {
              "outlinewidth": 0,
              "ticks": ""
             }
            },
            "type": "scatter"
           }
          ],
          "scatter3d": [
           {
            "line": {
             "colorbar": {
              "outlinewidth": 0,
              "ticks": ""
             }
            },
            "marker": {
             "colorbar": {
              "outlinewidth": 0,
              "ticks": ""
             }
            },
            "type": "scatter3d"
           }
          ],
          "scattercarpet": [
           {
            "marker": {
             "colorbar": {
              "outlinewidth": 0,
              "ticks": ""
             }
            },
            "type": "scattercarpet"
           }
          ],
          "scattergeo": [
           {
            "marker": {
             "colorbar": {
              "outlinewidth": 0,
              "ticks": ""
             }
            },
            "type": "scattergeo"
           }
          ],
          "scattergl": [
           {
            "marker": {
             "colorbar": {
              "outlinewidth": 0,
              "ticks": ""
             }
            },
            "type": "scattergl"
           }
          ],
          "scattermapbox": [
           {
            "marker": {
             "colorbar": {
              "outlinewidth": 0,
              "ticks": ""
             }
            },
            "type": "scattermapbox"
           }
          ],
          "scatterpolar": [
           {
            "marker": {
             "colorbar": {
              "outlinewidth": 0,
              "ticks": ""
             }
            },
            "type": "scatterpolar"
           }
          ],
          "scatterpolargl": [
           {
            "marker": {
             "colorbar": {
              "outlinewidth": 0,
              "ticks": ""
             }
            },
            "type": "scatterpolargl"
           }
          ],
          "scatterternary": [
           {
            "marker": {
             "colorbar": {
              "outlinewidth": 0,
              "ticks": ""
             }
            },
            "type": "scatterternary"
           }
          ],
          "surface": [
           {
            "colorbar": {
             "outlinewidth": 0,
             "ticks": ""
            },
            "colorscale": [
             [
              0,
              "#0d0887"
             ],
             [
              0.1111111111111111,
              "#46039f"
             ],
             [
              0.2222222222222222,
              "#7201a8"
             ],
             [
              0.3333333333333333,
              "#9c179e"
             ],
             [
              0.4444444444444444,
              "#bd3786"
             ],
             [
              0.5555555555555556,
              "#d8576b"
             ],
             [
              0.6666666666666666,
              "#ed7953"
             ],
             [
              0.7777777777777778,
              "#fb9f3a"
             ],
             [
              0.8888888888888888,
              "#fdca26"
             ],
             [
              1,
              "#f0f921"
             ]
            ],
            "type": "surface"
           }
          ],
          "table": [
           {
            "cells": {
             "fill": {
              "color": "#EBF0F8"
             },
             "line": {
              "color": "white"
             }
            },
            "header": {
             "fill": {
              "color": "#C8D4E3"
             },
             "line": {
              "color": "white"
             }
            },
            "type": "table"
           }
          ]
         },
         "layout": {
          "annotationdefaults": {
           "arrowcolor": "#2a3f5f",
           "arrowhead": 0,
           "arrowwidth": 1
          },
          "colorscale": {
           "diverging": [
            [
             0,
             "#8e0152"
            ],
            [
             0.1,
             "#c51b7d"
            ],
            [
             0.2,
             "#de77ae"
            ],
            [
             0.3,
             "#f1b6da"
            ],
            [
             0.4,
             "#fde0ef"
            ],
            [
             0.5,
             "#f7f7f7"
            ],
            [
             0.6,
             "#e6f5d0"
            ],
            [
             0.7,
             "#b8e186"
            ],
            [
             0.8,
             "#7fbc41"
            ],
            [
             0.9,
             "#4d9221"
            ],
            [
             1,
             "#276419"
            ]
           ],
           "sequential": [
            [
             0,
             "#0d0887"
            ],
            [
             0.1111111111111111,
             "#46039f"
            ],
            [
             0.2222222222222222,
             "#7201a8"
            ],
            [
             0.3333333333333333,
             "#9c179e"
            ],
            [
             0.4444444444444444,
             "#bd3786"
            ],
            [
             0.5555555555555556,
             "#d8576b"
            ],
            [
             0.6666666666666666,
             "#ed7953"
            ],
            [
             0.7777777777777778,
             "#fb9f3a"
            ],
            [
             0.8888888888888888,
             "#fdca26"
            ],
            [
             1,
             "#f0f921"
            ]
           ],
           "sequentialminus": [
            [
             0,
             "#0d0887"
            ],
            [
             0.1111111111111111,
             "#46039f"
            ],
            [
             0.2222222222222222,
             "#7201a8"
            ],
            [
             0.3333333333333333,
             "#9c179e"
            ],
            [
             0.4444444444444444,
             "#bd3786"
            ],
            [
             0.5555555555555556,
             "#d8576b"
            ],
            [
             0.6666666666666666,
             "#ed7953"
            ],
            [
             0.7777777777777778,
             "#fb9f3a"
            ],
            [
             0.8888888888888888,
             "#fdca26"
            ],
            [
             1,
             "#f0f921"
            ]
           ]
          },
          "colorway": [
           "#636efa",
           "#EF553B",
           "#00cc96",
           "#ab63fa",
           "#FFA15A",
           "#19d3f3",
           "#FF6692",
           "#B6E880",
           "#FF97FF",
           "#FECB52"
          ],
          "font": {
           "color": "#2a3f5f"
          },
          "geo": {
           "bgcolor": "white",
           "lakecolor": "white",
           "landcolor": "#E5ECF6",
           "showlakes": true,
           "showland": true,
           "subunitcolor": "white"
          },
          "hoverlabel": {
           "align": "left"
          },
          "hovermode": "closest",
          "mapbox": {
           "style": "light"
          },
          "paper_bgcolor": "white",
          "plot_bgcolor": "#E5ECF6",
          "polar": {
           "angularaxis": {
            "gridcolor": "white",
            "linecolor": "white",
            "ticks": ""
           },
           "bgcolor": "#E5ECF6",
           "radialaxis": {
            "gridcolor": "white",
            "linecolor": "white",
            "ticks": ""
           }
          },
          "scene": {
           "xaxis": {
            "backgroundcolor": "#E5ECF6",
            "gridcolor": "white",
            "gridwidth": 2,
            "linecolor": "white",
            "showbackground": true,
            "ticks": "",
            "zerolinecolor": "white"
           },
           "yaxis": {
            "backgroundcolor": "#E5ECF6",
            "gridcolor": "white",
            "gridwidth": 2,
            "linecolor": "white",
            "showbackground": true,
            "ticks": "",
            "zerolinecolor": "white"
           },
           "zaxis": {
            "backgroundcolor": "#E5ECF6",
            "gridcolor": "white",
            "gridwidth": 2,
            "linecolor": "white",
            "showbackground": true,
            "ticks": "",
            "zerolinecolor": "white"
           }
          },
          "shapedefaults": {
           "line": {
            "color": "#2a3f5f"
           }
          },
          "ternary": {
           "aaxis": {
            "gridcolor": "white",
            "linecolor": "white",
            "ticks": ""
           },
           "baxis": {
            "gridcolor": "white",
            "linecolor": "white",
            "ticks": ""
           },
           "bgcolor": "#E5ECF6",
           "caxis": {
            "gridcolor": "white",
            "linecolor": "white",
            "ticks": ""
           }
          },
          "title": {
           "x": 0.05
          },
          "xaxis": {
           "automargin": true,
           "gridcolor": "white",
           "linecolor": "white",
           "ticks": "",
           "zerolinecolor": "white",
           "zerolinewidth": 2
          },
          "yaxis": {
           "automargin": true,
           "gridcolor": "white",
           "linecolor": "white",
           "ticks": "",
           "zerolinecolor": "white",
           "zerolinewidth": 2
          }
         }
        },
        "xaxis": {
         "anchor": "y",
         "domain": [
          0,
          0.98
         ],
         "title": {
          "text": "G1"
         }
        },
        "yaxis": {
         "anchor": "x",
         "domain": [
          0,
          1
         ],
         "title": {
          "text": "vote_average"
         }
        }
       }
      },
      "text/html": [
       "<div>\n",
       "        \n",
       "        \n",
       "            <div id=\"b1018e99-8bcf-4dc4-a573-226fa6854c9d\" class=\"plotly-graph-div\" style=\"height:600px; width:100%;\"></div>\n",
       "            <script type=\"text/javascript\">\n",
       "                require([\"plotly\"], function(Plotly) {\n",
       "                    window.PLOTLYENV=window.PLOTLYENV || {};\n",
       "                    \n",
       "                if (document.getElementById(\"b1018e99-8bcf-4dc4-a573-226fa6854c9d\")) {\n",
       "                    Plotly.newPlot(\n",
       "                        'b1018e99-8bcf-4dc4-a573-226fa6854c9d',\n",
       "                        [{\"alignmentgroup\": \"True\", \"customdata\": [[\"Action\"], [\"Action\"], [\"Adventure\"], [\"Action\"], [\"Drama\"], [\"Action\"], [\"Action\"], [\"Action\"], [\"Action\"], [\"Action\"], [\"Action\"], [\"Action\"], [\"Action\"], [\"Action\"], [\"Action\"], [\"Mystery\"], [\"Action\"], [\"Biography\"], [\"Action\"], [\"Adventure\"], [\"Adventure\"], [\"Action\"], [\"Action\"], [\"Action\"], [\"Action\"], [\"Action\"], [\"Action\"], [\"Horror\"], [\"Action\"], [\"Horror\"], [\"Action\"], [\"Drama\"], [\"Action\"], [\"Action\"], [\"Biography\"], [\"Drama\"], [\"Documentary\"], [\"Action\"], [\"Action\"], [\"Action\"], [\"Action\"], [\"Action\"], [\"Action\"], [\"Animation\"], [\"Comedy\"], [\"Action\"], [\"Documentary\"], [\"Adventure\"], [\"Crime\"], [\"Drama\"], [\"Action\"], [\"Drama\"], [\"Action\"], [\"Action\"], [\"Action\"], [\"Adventure\"], [\"Adventure\"], [\"Horror\"], [\"Action\"], [\"Adventure\"], [\"Drama\"], [\"Action\"], [\"Adventure\"], [\"Action\"], [\"Action\"], [\"Adventure\"], [\"Drama\"], [\"Adventure\"], [\"Crime\"], [\"Action\"], [\"Action\"], [\"Drama\"], [\"Adventure\"], [\"Adventure\"], [\"Adventure\"], [\"Comedy\"], [\"Action\"], [\"Comedy\"], [\"Action\"], [\"Biography\"], [\"Action\"], [\"Action\"], [\"Action\"], [\"Action\"], [\"Adventure\"], [\"Adventure\"], [\"Adventure\"], [\"Action\"], [\"Adventure\"], [\"Action\"], [\"Action\"], [\"Action\"], [\"Action\"], [\"Action\"], [\"Action\"], [\"Thriller\"], [\"Action\"], [\"Action\"], [\"Action\"], [\"Drama\"], [\"Biography\"], [\"Biography\"], [\"Action\"], [\"Drama\"], [\"Biography\"], [\"Adventure\"], [\"Action\"], [\"Action\"], [\"Adventure\"], [\"Action\"], [\"Action\"], [\"Mystery\"], [\"Documentary\"], [\"Action\"], [\"Action\"], [\"Comedy\"], [\"Action\"], [\"Action\"], [\"Action\"], [\"Biography\"], [\"Action\"], [\"Action\"], [\"Drama\"], [\"Drama\"], [\"Horror\"], [\"Crime\"], [\"Documentary\"], [\"Drama\"], [\"Crime\"], [\"Action\"], [\"Action\"], [\"Drama\"], [\"Crime\"], [\"Action\"], [\"Drama\"], [\"Adventure\"], [\"Action\"], [\"Action\"], [\"Comedy\"], [\"Biography\"], [\"Action\"], [\"Biography\"], [\"Action\"], [\"Animation\"], [\"Action\"], [\"Action\"], [\"Horror\"], [\"Biography\"], [\"Action\"], [\"Crime\"], [\"Drama\"], [\"Adventure\"], [\"Adventure\"], [\"Adventure\"], [\"Action\"], [\"Horror\"], [\"Action\"], [\"Action\"], [\"Biography\"], [\"Biography\"], [\"Action\"], [\"Comedy\"], [\"Drama\"], [\"Action\"], [\"Documentary\"], [\"Adventure\"], [\"Action\"], [\"Comedy\"], [\"Documentary\"], [\"Comedy\"], [\"Drama\"], [\"Action\"], [\"Action\"], [\"Drama\"], [\"Action\"], [\"Adventure\"], [\"Crime\"], [\"Action\"], [\"Action\"], [\"Adventure\"], [\"Drama\"], [\"Action\"], [\"Animation\"], [\"Action\"], [\"Action\"], [\"Action\"], [\"Action\"], [\"Adventure\"], [\"Comedy\"], [\"Comedy\"], [\"Action\"], [\"Comedy\"], [\"Drama\"], [\"Horror\"], [\"Comedy\"], [\"Action\"], [\"Action\"], [\"Action\"], [\"Adventure\"], [\"Documentary\"], [\"Comedy\"], [\"Adventure\"], [\"Action\"], [\"Action\"], [\"Action\"], [\"Adventure\"], [\"Action\"], [\"Horror\"], [\"Drama\"], [\"Crime\"], [\"Comedy\"], [\"Crime\"], [\"Comedy\"], [\"Comedy\"], [\"Drama\"], [\"Drama\"], [\"Mystery\"], [\"Biography\"], [\"Action\"], [\"Biography\"], [\"Action\"], [\"Action\"], [\"Drama\"], [\"Horror\"], [\"Action\"], [\"Comedy\"], [\"Drama\"], [\"Adventure\"], [\"Comedy\"], [\"Action\"], [\"Action\"], [\"Action\"], [\"Comedy\"], [\"Biography\"], [\"Action\"], [\"Adventure\"], [\"Action\"], [\"Action\"], [\"Action\"], [\"Adventure\"], [\"Documentary\"], [\"Drama\"], [\"Action\"], [\"Action\"], [\"Action\"], [\"Action\"], [\"Action\"], [\"Action\"], [\"Action\"], [\"Drama\"], [\"Action\"], [\"Comedy\"], [\"Comedy\"], [\"Drama\"], [\"Horror\"], [\"Action\"], [\"Adventure\"], [\"Drama\"], [\"Drama\"], [\"Biography\"], [\"Action\"], [\"Horror\"], [\"Drama\"], [\"Adventure\"], [\"Action\"], [\"Action\"], [\"Action\"], [\"Adventure\"], [\"Adventure\"], [\"Comedy\"], [\"Horror\"], [\"Action\"], [\"Action\"], [\"Drama\"], [\"Action\"], [\"Action\"], [\"Action\"], [\"Action\"], [\"Horror\"], [\"Adventure\"], [\"Animation\"], [\"Drama\"], [\"Comedy\"], [\"Comedy\"], [\"Horror\"], [\"Action\"], [\"Action\"], [\"Biography\"], [\"Adventure\"], [\"Action\"], [\"Action\"], [\"Adventure\"], [\"Drama\"], [\"Drama\"], [\"Comedy\"], [\"Drama\"], [\"Adventure\"], [\"Adventure\"], [\"Drama\"], [\"Action\"], [\"Drama\"], [\"Adventure\"], [\"Comedy\"], [\"Mystery\"], [\"Action\"], [\"Horror\"], [\"Action\"], [\"Action\"], [\"Biography\"], [\"Action\"], [\"Action\"], [\"Comedy\"], [\"Adventure\"], [\"Comedy\"], [\"Thriller\"], [\"Fantasy\"], [\"Action\"], [\"Action\"], [\"Action\"], [\"Action\"], [\"Action\"], [\"Comedy\"], [\"Action\"], [\"Adventure\"], [\"Action\"], [\"Action\"], [\"Drama\"], [\"Comedy\"], [\"Crime\"], [\"Action\"], [\"Documentary\"], [\"Action\"], [\"Comedy\"], [\"Action\"], [\"Drama\"], [\"Documentary\"], [\"Drama\"], [\"Drama\"], [\"Drama\"], [\"Action\"], [\"Biography\"], [\"Comedy\"], [\"Drama\"], [\"Action\"], [\"Comedy\"], [\"Comedy\"], [\"Drama\"], [\"Comedy\"], [\"Comedy\"], [\"Thriller\"], [\"Documentary\"], [\"Horror\"], [\"Comedy\"], [\"Romance\"], [\"Comedy\"], [\"Animation\"], [\"Comedy\"], [\"Action\"], [\"Comedy\"], [\"Adventure\"], [\"Action\"], [\"Comedy\"], [\"Biography\"], [\"Action\"], [\"Action\"], [\"Action\"], [\"Action\"], [\"Action\"], [\"Action\"], [\"Action\"], [\"Action\"], [\"Drama\"], [\"Action\"], [\"Biography\"], [\"Comedy\"], [\"Comedy\"], [\"Drama\"], [\"Action\"], [\"Drama\"], [\"Action\"], [\"Action\"], [\"Adventure\"], [\"Biography\"], [\"Action\"], [\"Drama\"], [\"Drama\"], [\"Horror\"], [\"Drama\"], [\"Drama\"], [\"Documentary\"], [\"Drama\"], [\"Drama\"], [\"Action\"], [\"Action\"], [\"Comedy\"], [\"Crime\"], [\"Horror\"], [\"Action\"], [\"Crime\"], [\"Documentary\"], [\"Action\"], [\"Comedy\"], [\"Biography\"], [\"Action\"], [\"Action\"], [\"Biography\"], [\"Documentary\"], [\"Action\"], [\"Action\"], [\"Adventure\"], [\"Biography\"], [\"Biography\"], [\"Action\"], [\"Drama\"], [\"Biography\"], [\"Drama\"], [\"Adventure\"], [\"Comedy\"], [\"Comedy\"], [\"Drama\"], [\"Drama\"], [\"Drama\"], [\"Documentary\"], [\"Drama\"], [\"Action\"], [\"Drama\"], [\"Drama\"], [\"Action\"], [\"Action\"], [\"Action\"], [\"Biography\"], [\"Documentary\"], [\"Action\"], [\"Adventure\"], [\"Action\"], [\"Action\"], [\"Drama\"], [\"Drama\"], [\"Action\"], [\"Adventure\"], [\"Comedy\"], [\"Documentary\"], [\"Comedy\"], [\"Drama\"], [\"Drama\"], [\"Drama\"], [\"Adventure\"], [\"Biography\"], [\"Action\"], [\"Biography\"], [\"Comedy\"], [\"Drama\"], [\"Comedy\"], [\"Action\"], [\"Action\"], [\"Drama\"], [\"Comedy\"], [\"Comedy\"], [\"Thriller\"], [\"Action\"], [\"Biography\"], [\"Biography\"], [\"Action\"], [\"Action\"], [\"Action\"], [\"Drama\"], [\"Drama\"], [\"Action\"], [\"Documentary\"], [\"Drama\"], [\"Action\"], [\"Biography\"], [\"Horror\"], [\"Drama\"], [\"Action\"], [\"Horror\"], [\"Action\"], [\"Action\"], [\"Horror\"], [\"Drama\"], [\"Action\"], [\"Drama\"], [\"Drama\"], [\"Action\"], [\"Adventure\"], [\"Action\"], [\"Animation\"], [\"Adventure\"], [\"Action\"], [\"Biography\"], [\"Documentary\"], [\"Documentary\"], [\"Documentary\"], [\"Drama\"], [\"Drama\"], [\"Drama\"], [\"Comedy\"], [\"Crime\"], [\"Adventure\"], [\"Adventure\"], [\"Action\"], [\"Biography\"], [\"Drama\"], [\"Crime\"], [\"Comedy\"], [\"Fantasy\"], [\"Comedy\"], [\"Adventure\"], [\"Action\"], [\"Action\"], [\"Action\"], [\"Crime\"], [\"Action\"], [\"Comedy\"], [\"Drama\"], [\"Action\"], [\"Adventure\"], [\"Comedy\"], [\"Comedy\"], [\"Drama\"], [\"Action\"], [\"Adventure\"], [\"Comedy\"], [\"Action\"], [\"Drama\"], [\"Horror\"], [\"Action\"], [\"Action\"], [\"Adventure\"], [\"Comedy\"], [\"Thriller\"], [\"Mystery\"], [\"Drama\"], [\"Crime\"], [\"Drama\"], [\"Thriller\"], [\"Action\"], [\"Action\"], [\"Comedy\"], [\"Adventure\"], [\"Comedy\"], [\"Action\"], [\"Action\"], [\"Drama\"], [\"Horror\"], [\"Comedy\"], [\"Comedy\"], [\"Drama\"], [\"Documentary\"], [\"Comedy\"], [\"Adventure\"], [\"Horror\"], [\"Adventure\"], [\"Action\"], [\"Drama\"], [\"Action\"], [\"Action\"], [\"Animation\"], [\"Action\"], [\"Adventure\"], [\"Drama\"], [\"Action\"], [\"Adventure\"], [\"Adventure\"], [\"Horror\"], [\"Action\"], [\"Crime\"], [\"Action\"], [\"Drama\"], [\"Drama\"], [\"Drama\"], [\"Documentary\"], [\"Biography\"], [\"Comedy\"], [\"Drama\"], [\"Documentary\"], [\"Comedy\"], [\"Action\"], [\"Drama\"], [\"Biography\"], [\"Horror\"], [\"Drama\"], [\"Action\"], [\"Drama\"], [\"Action\"], [\"Comedy\"], [\"Adventure\"], [\"Action\"], [\"Crime\"], [\"Comedy\"], [\"Comedy\"], [\"Drama\"], [\"Horror\"], [\"Drama\"], [\"Comedy\"], [\"Action\"], [\"Documentary\"], [\"Drama\"], [\"Horror\"], [\"Drama\"], [\"Documentary\"], [\"Thriller\"], [\"Comedy\"], [\"Comedy\"], [\"Action\"], [\"Drama\"], [\"Drama\"], [\"Action\"], [\"Comedy\"], [\"Adventure\"], [\"Drama\"], [\"Adventure\"], [\"Drama\"], [\"Horror\"], [\"Action\"], [\"Comedy\"], [\"Drama\"], [\"Adventure\"], [\"Action\"], [\"Biography\"], [\"Action\"], [\"Comedy\"], [\"Comedy\"], [\"Drama\"], [\"Action\"], [\"Comedy\"], [\"Comedy\"], [\"Drama\"], [\"Drama\"], [\"Drama\"], [\"Drama\"], [\"Drama\"], [\"Adventure\"], [\"Crime\"], [\"Comedy\"], [\"Comedy\"], [\"Action\"], [\"Drama\"], [\"Comedy\"], [\"Adventure\"], [\"Adventure\"], [\"Action\"], [\"Biography\"], [\"Action\"], [\"Horror\"], [\"Horror\"], [\"Crime\"], [\"Crime\"], [\"Documentary\"], [\"Documentary\"], [\"Horror\"], [\"Action\"], [\"Comedy\"], [\"Action\"], [\"Drama\"], [\"Comedy\"], [\"Drama\"], [\"Documentary\"], [\"Action\"], [\"Documentary\"], [\"Action\"], [\"Horror\"], [\"Action\"], [\"Action\"], [\"Action\"], [\"Adventure\"], [\"Horror\"], [\"Drama\"], [\"Biography\"], [\"Comedy\"], [\"Action\"], [\"Action\"], [\"Drama\"], [\"Drama\"], [\"Adventure\"], [\"Drama\"], [\"Action\"], [\"Action\"], [\"Action\"], [\"Comedy\"], [\"Drama\"], [\"Crime\"], [\"Action\"], [\"Drama\"], [\"Action\"], [\"Action\"], [\"Comedy\"], [\"Drama\"], [\"Comedy\"], [\"Crime\"], [\"Action\"], [\"Crime\"], [\"Documentary\"], [\"Documentary\"], [\"Comedy\"], [\"Drama\"], [\"Adventure\"], [\"Drama\"], [\"Horror\"], [\"Drama\"], [\"Drama\"], [\"Action\"], [\"Adventure\"], [\"Comedy\"], [\"Biography\"], [\"Action\"], [\"Crime\"], [\"Drama\"], [\"Adventure\"], [\"Crime\"], [\"Action\"], [\"Adventure\"], [\"Action\"], [\"Action\"], [\"Action\"], [\"Horror\"], [\"Drama\"], [\"Comedy\"], [\"Drama\"], [\"Comedy\"], [\"Action\"], [\"Comedy\"], [\"Adventure\"], [\"Crime\"], [\"Action\"], [\"Drama\"], [\"Comedy\"], [\"Drama\"], [\"Comedy\"], [\"Comedy\"], [\"Horror\"], [\"Action\"], [\"Action\"], [\"Comedy\"], [\"Action\"], [\"Action\"], [\"Comedy\"], [\"Action\"], [\"Crime\"], [\"Adventure\"], [\"Crime\"], [\"Comedy\"], [\"Biography\"], [\"Crime\"], [\"Drama\"], [\"Drama\"], [\"Horror\"], [\"Comedy\"], [\"Adventure\"], [\"Comedy\"], [\"Biography\"], [\"Adventure\"], [\"Drama\"], [\"Horror\"], [\"Comedy\"], [\"Horror\"], [\"Adventure\"], [\"Adventure\"], [\"Comedy\"], [\"Drama\"], [\"Comedy\"], [\"Horror\"], [\"Action\"], [\"Action\"], [\"Drama\"], [\"Comedy\"], [\"Adventure\"], [\"Adventure\"], [\"Comedy\"], [\"Documentary\"], [\"Biography\"], [\"Comedy\"], [\"Documentary\"], [\"Adventure\"], [\"Horror\"], [\"Action\"], [\"Comedy\"], [\"Comedy\"], [\"Comedy\"], [\"Adventure\"], [\"Comedy\"], [\"Action\"], [\"Drama\"], [\"Drama\"], [\"Horror\"], [\"Horror\"], [\"Drama\"], [\"Adventure\"], [\"Horror\"], [\"Documentary\"], [\"Comedy\"], [\"Comedy\"], [\"Biography\"], [\"Action\"], [\"Biography\"], [\"Crime\"], [\"Comedy\"], [\"Action\"], [\"Drama\"], [\"Animation\"], [\"Comedy\"], [\"Biography\"], [\"Drama\"], [\"Comedy\"], [\"Biography\"], [\"Action\"], [\"Comedy\"], [\"Action\"], [\"Adventure\"], [\"Horror\"], [\"Adventure\"], [\"Action\"], [\"Drama\"], [\"Action\"], [\"Adventure\"], [\"Drama\"], [\"Crime\"], [\"Action\"], [\"Biography\"], [\"Action\"], [\"Adventure\"], [\"Comedy\"], [\"Biography\"], [\"Comedy\"], [\"Action\"], [\"Comedy\"], [\"Drama\"], [\"Comedy\"], [\"Drama\"], [\"Comedy\"], [\"Drama\"], [\"Adventure\"], [\"Action\"], [\"Drama\"], [\"Biography\"], [\"Drama\"], [\"Drama\"], [\"Documentary\"], [\"Drama\"], [\"Action\"], [\"Drama\"], [\"Comedy\"], [\"Horror\"], [\"Action\"], [\"Action\"], [\"Comedy\"], [\"Drama\"], [\"Adventure\"], [\"Action\"], [\"Comedy\"], [\"Comedy\"], [\"Crime\"], [\"Action\"], [\"Comedy\"], [\"Action\"], [\"Biography\"], [\"Action\"], [\"Crime\"], [\"Crime\"], [\"Comedy\"], [\"Action\"], [\"Drama\"], [\"Biography\"], [\"Comedy\"], [\"Crime\"], [\"Drama\"], [\"Drama\"], [\"Crime\"], [\"Crime\"], [\"Documentary\"], [\"Documentary\"], [\"Action\"], [\"Action\"], [\"Comedy\"], [\"Biography\"], [\"Drama\"], [\"Action\"], [\"Horror\"], [\"Horror\"], [\"Comedy\"], [\"Crime\"], [\"Comedy\"], [\"Comedy\"], [\"Drama\"], [\"Adventure\"], [\"Horror\"], [\"Fantasy\"], [\"Drama\"], [\"Action\"], [\"Drama\"], [\"Comedy\"], [\"Biography\"], [\"Comedy\"], [\"Comedy\"], [\"Adventure\"], [\"Comedy\"], [\"Action\"], [\"Documentary\"], [\"Comedy\"], [\"Action\"], [\"Drama\"], [\"Adventure\"], [\"Comedy\"], [\"Action\"], [\"Horror\"], [\"Adventure\"], [\"Comedy\"], [\"Comedy\"], [\"Action\"], [\"Crime\"], [\"Biography\"], [\"Crime\"], [\"Biography\"], [\"Action\"], [\"Fantasy\"], [\"Comedy\"], [\"Drama\"], [\"Documentary\"], [\"Adventure\"], [\"Crime\"], [\"Drama\"], [\"Biography\"], [\"Comedy\"], [\"Comedy\"], [\"Drama\"], [\"Action\"], [\"Comedy\"], [\"Drama\"], [\"Comedy\"], [\"Comedy\"], [\"Action\"], [\"Comedy\"], [\"Drama\"], [\"Crime\"], [\"Drama\"], [\"Drama\"], [\"Comedy\"], [\"Comedy\"], [\"Comedy\"], [\"Adventure\"], [\"Action\"], [\"Comedy\"], [\"Biography\"], [\"Action\"], [\"Drama\"], [\"Drama\"], [\"Crime\"], [\"Drama\"], [\"Comedy\"], [\"Action\"], [\"Comedy\"], [\"Comedy\"], [\"Adventure\"], [\"Drama\"], [\"Drama\"], [\"Adventure\"], [\"Comedy\"], [\"Adventure\"], [\"Action\"], [\"Comedy\"], [\"Comedy\"], [\"Comedy\"], [\"Comedy\"], [\"Adventure\"], [\"Comedy\"], [\"Biography\"], [\"Comedy\"], [\"Biography\"], [\"Biography\"], [\"Comedy\"], [\"Horror\"], [\"Comedy\"], [\"Action\"], [\"Action\"], [\"Action\"], [\"Western\"], [\"Horror\"], [\"Action\"], [\"Biography\"], [\"Comedy\"], [\"Fantasy\"], [\"Biography\"], [\"Drama\"], [\"Drama\"], [\"Action\"], [\"Comedy\"], [\"Biography\"], [\"Adventure\"], [\"Drama\"], [\"Comedy\"], [\"Drama\"], [\"Adventure\"], [\"Drama\"], [\"Documentary\"], [\"Drama\"], [\"Documentary\"], [\"Drama\"], [\"Adventure\"], [\"Comedy\"], [\"Horror\"]], \"hoverlabel\": {\"namelength\": 0}, \"hovertemplate\": \"G1=%{customdata[0]}<br>vote_average=%{y}\", \"legendgroup\": \"\", \"marker\": {\"color\": \"#636efa\"}, \"name\": \"\", \"notched\": false, \"offsetgroup\": \"\", \"orientation\": \"v\", \"showlegend\": false, \"type\": \"box\", \"x\": [\"Action\", \"Action\", \"Adventure\", \"Action\", \"Drama\", \"Action\", \"Action\", \"Action\", \"Action\", \"Action\", \"Action\", \"Action\", \"Action\", \"Action\", \"Action\", \"Mystery\", \"Action\", \"Biography\", \"Action\", \"Adventure\", \"Adventure\", \"Action\", \"Action\", \"Action\", \"Action\", \"Action\", \"Action\", \"Horror\", \"Action\", \"Horror\", \"Action\", \"Drama\", \"Action\", \"Action\", \"Biography\", \"Drama\", \"Documentary\", \"Action\", \"Action\", \"Action\", \"Action\", \"Action\", \"Action\", \"Animation\", \"Comedy\", \"Action\", \"Documentary\", \"Adventure\", \"Crime\", \"Drama\", \"Action\", \"Drama\", \"Action\", \"Action\", \"Action\", \"Adventure\", \"Adventure\", \"Horror\", \"Action\", \"Adventure\", \"Drama\", \"Action\", \"Adventure\", \"Action\", \"Action\", \"Adventure\", \"Drama\", \"Adventure\", \"Crime\", \"Action\", \"Action\", \"Drama\", \"Adventure\", \"Adventure\", \"Adventure\", \"Comedy\", \"Action\", \"Comedy\", \"Action\", \"Biography\", \"Action\", \"Action\", \"Action\", \"Action\", \"Adventure\", \"Adventure\", \"Adventure\", \"Action\", \"Adventure\", \"Action\", \"Action\", \"Action\", \"Action\", \"Action\", \"Action\", \"Thriller\", \"Action\", \"Action\", \"Action\", \"Drama\", \"Biography\", \"Biography\", \"Action\", \"Drama\", \"Biography\", \"Adventure\", \"Action\", \"Action\", \"Adventure\", \"Action\", \"Action\", \"Mystery\", \"Documentary\", \"Action\", \"Action\", \"Comedy\", \"Action\", \"Action\", \"Action\", \"Biography\", \"Action\", \"Action\", \"Drama\", \"Drama\", \"Horror\", \"Crime\", \"Documentary\", \"Drama\", \"Crime\", \"Action\", \"Action\", \"Drama\", \"Crime\", \"Action\", \"Drama\", \"Adventure\", \"Action\", \"Action\", \"Comedy\", \"Biography\", \"Action\", \"Biography\", \"Action\", \"Animation\", \"Action\", \"Action\", \"Horror\", \"Biography\", \"Action\", \"Crime\", \"Drama\", \"Adventure\", \"Adventure\", \"Adventure\", \"Action\", \"Horror\", \"Action\", \"Action\", \"Biography\", \"Biography\", \"Action\", \"Comedy\", \"Drama\", \"Action\", \"Documentary\", \"Adventure\", \"Action\", \"Comedy\", \"Documentary\", \"Comedy\", \"Drama\", \"Action\", \"Action\", \"Drama\", \"Action\", \"Adventure\", \"Crime\", \"Action\", \"Action\", \"Adventure\", \"Drama\", \"Action\", \"Animation\", \"Action\", \"Action\", \"Action\", \"Action\", \"Adventure\", \"Comedy\", \"Comedy\", \"Action\", \"Comedy\", \"Drama\", \"Horror\", \"Comedy\", \"Action\", \"Action\", \"Action\", \"Adventure\", \"Documentary\", \"Comedy\", \"Adventure\", \"Action\", \"Action\", \"Action\", \"Adventure\", \"Action\", \"Horror\", \"Drama\", \"Crime\", \"Comedy\", \"Crime\", \"Comedy\", \"Comedy\", \"Drama\", \"Drama\", \"Mystery\", \"Biography\", \"Action\", \"Biography\", \"Action\", \"Action\", \"Drama\", \"Horror\", \"Action\", \"Comedy\", \"Drama\", \"Adventure\", \"Comedy\", \"Action\", \"Action\", \"Action\", \"Comedy\", \"Biography\", \"Action\", \"Adventure\", \"Action\", \"Action\", \"Action\", \"Adventure\", \"Documentary\", \"Drama\", \"Action\", \"Action\", \"Action\", \"Action\", \"Action\", \"Action\", \"Action\", \"Drama\", \"Action\", \"Comedy\", \"Comedy\", \"Drama\", \"Horror\", \"Action\", \"Adventure\", \"Drama\", \"Drama\", \"Biography\", \"Action\", \"Horror\", \"Drama\", \"Adventure\", \"Action\", \"Action\", \"Action\", \"Adventure\", \"Adventure\", \"Comedy\", \"Horror\", \"Action\", \"Action\", \"Drama\", \"Action\", \"Action\", \"Action\", \"Action\", \"Horror\", \"Adventure\", \"Animation\", \"Drama\", \"Comedy\", \"Comedy\", \"Horror\", \"Action\", \"Action\", \"Biography\", \"Adventure\", \"Action\", \"Action\", \"Adventure\", \"Drama\", \"Drama\", \"Comedy\", \"Drama\", \"Adventure\", \"Adventure\", \"Drama\", \"Action\", \"Drama\", \"Adventure\", \"Comedy\", \"Mystery\", \"Action\", \"Horror\", \"Action\", \"Action\", \"Biography\", \"Action\", \"Action\", \"Comedy\", \"Adventure\", \"Comedy\", \"Thriller\", \"Fantasy\", \"Action\", \"Action\", \"Action\", \"Action\", \"Action\", \"Comedy\", \"Action\", \"Adventure\", \"Action\", \"Action\", \"Drama\", \"Comedy\", \"Crime\", \"Action\", \"Documentary\", \"Action\", \"Comedy\", \"Action\", \"Drama\", \"Documentary\", \"Drama\", \"Drama\", \"Drama\", \"Action\", \"Biography\", \"Comedy\", \"Drama\", \"Action\", \"Comedy\", \"Comedy\", \"Drama\", \"Comedy\", \"Comedy\", \"Thriller\", \"Documentary\", \"Horror\", \"Comedy\", \"Romance\", \"Comedy\", \"Animation\", \"Comedy\", \"Action\", \"Comedy\", \"Adventure\", \"Action\", \"Comedy\", \"Biography\", \"Action\", \"Action\", \"Action\", \"Action\", \"Action\", \"Action\", \"Action\", \"Action\", \"Drama\", \"Action\", \"Biography\", \"Comedy\", \"Comedy\", \"Drama\", \"Action\", \"Drama\", \"Action\", \"Action\", \"Adventure\", \"Biography\", \"Action\", \"Drama\", \"Drama\", \"Horror\", \"Drama\", \"Drama\", \"Documentary\", \"Drama\", \"Drama\", \"Action\", \"Action\", \"Comedy\", \"Crime\", \"Horror\", \"Action\", \"Crime\", \"Documentary\", \"Action\", \"Comedy\", \"Biography\", \"Action\", \"Action\", \"Biography\", \"Documentary\", \"Action\", \"Action\", \"Adventure\", \"Biography\", \"Biography\", \"Action\", \"Drama\", \"Biography\", \"Drama\", \"Adventure\", \"Comedy\", \"Comedy\", \"Drama\", \"Drama\", \"Drama\", \"Documentary\", \"Drama\", \"Action\", \"Drama\", \"Drama\", \"Action\", \"Action\", \"Action\", \"Biography\", \"Documentary\", \"Action\", \"Adventure\", \"Action\", \"Action\", \"Drama\", \"Drama\", \"Action\", \"Adventure\", \"Comedy\", \"Documentary\", \"Comedy\", \"Drama\", \"Drama\", \"Drama\", \"Adventure\", \"Biography\", \"Action\", \"Biography\", \"Comedy\", \"Drama\", \"Comedy\", \"Action\", \"Action\", \"Drama\", \"Comedy\", \"Comedy\", \"Thriller\", \"Action\", \"Biography\", \"Biography\", \"Action\", \"Action\", \"Action\", \"Drama\", \"Drama\", \"Action\", \"Documentary\", \"Drama\", \"Action\", \"Biography\", \"Horror\", \"Drama\", \"Action\", \"Horror\", \"Action\", \"Action\", \"Horror\", \"Drama\", \"Action\", \"Drama\", \"Drama\", \"Action\", \"Adventure\", \"Action\", \"Animation\", \"Adventure\", \"Action\", \"Biography\", \"Documentary\", \"Documentary\", \"Documentary\", \"Drama\", \"Drama\", \"Drama\", \"Comedy\", \"Crime\", \"Adventure\", \"Adventure\", \"Action\", \"Biography\", \"Drama\", \"Crime\", \"Comedy\", \"Fantasy\", \"Comedy\", \"Adventure\", \"Action\", \"Action\", \"Action\", \"Crime\", \"Action\", \"Comedy\", \"Drama\", \"Action\", \"Adventure\", \"Comedy\", \"Comedy\", \"Drama\", \"Action\", \"Adventure\", \"Comedy\", \"Action\", \"Drama\", \"Horror\", \"Action\", \"Action\", \"Adventure\", \"Comedy\", \"Thriller\", \"Mystery\", \"Drama\", \"Crime\", \"Drama\", \"Thriller\", \"Action\", \"Action\", \"Comedy\", \"Adventure\", \"Comedy\", \"Action\", \"Action\", \"Drama\", \"Horror\", \"Comedy\", \"Comedy\", \"Drama\", \"Documentary\", \"Comedy\", \"Adventure\", \"Horror\", \"Adventure\", \"Action\", \"Drama\", \"Action\", \"Action\", \"Animation\", \"Action\", \"Adventure\", \"Drama\", \"Action\", \"Adventure\", \"Adventure\", \"Horror\", \"Action\", \"Crime\", \"Action\", \"Drama\", \"Drama\", \"Drama\", \"Documentary\", \"Biography\", \"Comedy\", \"Drama\", \"Documentary\", \"Comedy\", \"Action\", \"Drama\", \"Biography\", \"Horror\", \"Drama\", \"Action\", \"Drama\", \"Action\", \"Comedy\", \"Adventure\", \"Action\", \"Crime\", \"Comedy\", \"Comedy\", \"Drama\", \"Horror\", \"Drama\", \"Comedy\", \"Action\", \"Documentary\", \"Drama\", \"Horror\", \"Drama\", \"Documentary\", \"Thriller\", \"Comedy\", \"Comedy\", \"Action\", \"Drama\", \"Drama\", \"Action\", \"Comedy\", \"Adventure\", \"Drama\", \"Adventure\", \"Drama\", \"Horror\", \"Action\", \"Comedy\", \"Drama\", \"Adventure\", \"Action\", \"Biography\", \"Action\", \"Comedy\", \"Comedy\", \"Drama\", \"Action\", \"Comedy\", \"Comedy\", \"Drama\", \"Drama\", \"Drama\", \"Drama\", \"Drama\", \"Adventure\", \"Crime\", \"Comedy\", \"Comedy\", \"Action\", \"Drama\", \"Comedy\", \"Adventure\", \"Adventure\", \"Action\", \"Biography\", \"Action\", \"Horror\", \"Horror\", \"Crime\", \"Crime\", \"Documentary\", \"Documentary\", \"Horror\", \"Action\", \"Comedy\", \"Action\", \"Drama\", \"Comedy\", \"Drama\", \"Documentary\", \"Action\", \"Documentary\", \"Action\", \"Horror\", \"Action\", \"Action\", \"Action\", \"Adventure\", \"Horror\", \"Drama\", \"Biography\", \"Comedy\", \"Action\", \"Action\", \"Drama\", \"Drama\", \"Adventure\", \"Drama\", \"Action\", \"Action\", \"Action\", \"Comedy\", \"Drama\", \"Crime\", \"Action\", \"Drama\", \"Action\", \"Action\", \"Comedy\", \"Drama\", \"Comedy\", \"Crime\", \"Action\", \"Crime\", \"Documentary\", \"Documentary\", \"Comedy\", \"Drama\", \"Adventure\", \"Drama\", \"Horror\", \"Drama\", \"Drama\", \"Action\", \"Adventure\", \"Comedy\", \"Biography\", \"Action\", \"Crime\", \"Drama\", \"Adventure\", \"Crime\", \"Action\", \"Adventure\", \"Action\", \"Action\", \"Action\", \"Horror\", \"Drama\", \"Comedy\", \"Drama\", \"Comedy\", \"Action\", \"Comedy\", \"Adventure\", \"Crime\", \"Action\", \"Drama\", \"Comedy\", \"Drama\", \"Comedy\", \"Comedy\", \"Horror\", \"Action\", \"Action\", \"Comedy\", \"Action\", \"Action\", \"Comedy\", \"Action\", \"Crime\", \"Adventure\", \"Crime\", \"Comedy\", \"Biography\", \"Crime\", \"Drama\", \"Drama\", \"Horror\", \"Comedy\", \"Adventure\", \"Comedy\", \"Biography\", \"Adventure\", \"Drama\", \"Horror\", \"Comedy\", \"Horror\", \"Adventure\", \"Adventure\", \"Comedy\", \"Drama\", \"Comedy\", \"Horror\", \"Action\", \"Action\", \"Drama\", \"Comedy\", \"Adventure\", \"Adventure\", \"Comedy\", \"Documentary\", \"Biography\", \"Comedy\", \"Documentary\", \"Adventure\", \"Horror\", \"Action\", \"Comedy\", \"Comedy\", \"Comedy\", \"Adventure\", \"Comedy\", \"Action\", \"Drama\", \"Drama\", \"Horror\", \"Horror\", \"Drama\", \"Adventure\", \"Horror\", \"Documentary\", \"Comedy\", \"Comedy\", \"Biography\", \"Action\", \"Biography\", \"Crime\", \"Comedy\", \"Action\", \"Drama\", \"Animation\", \"Comedy\", \"Biography\", \"Drama\", \"Comedy\", \"Biography\", \"Action\", \"Comedy\", \"Action\", \"Adventure\", \"Horror\", \"Adventure\", \"Action\", \"Drama\", \"Action\", \"Adventure\", \"Drama\", \"Crime\", \"Action\", \"Biography\", \"Action\", \"Adventure\", \"Comedy\", \"Biography\", \"Comedy\", \"Action\", \"Comedy\", \"Drama\", \"Comedy\", \"Drama\", \"Comedy\", \"Drama\", \"Adventure\", \"Action\", \"Drama\", \"Biography\", \"Drama\", \"Drama\", \"Documentary\", \"Drama\", \"Action\", \"Drama\", \"Comedy\", \"Horror\", \"Action\", \"Action\", \"Comedy\", \"Drama\", \"Adventure\", \"Action\", \"Comedy\", \"Comedy\", \"Crime\", \"Action\", \"Comedy\", \"Action\", \"Biography\", \"Action\", \"Crime\", \"Crime\", \"Comedy\", \"Action\", \"Drama\", \"Biography\", \"Comedy\", \"Crime\", \"Drama\", \"Drama\", \"Crime\", \"Crime\", \"Documentary\", \"Documentary\", \"Action\", \"Action\", \"Comedy\", \"Biography\", \"Drama\", \"Action\", \"Horror\", \"Horror\", \"Comedy\", \"Crime\", \"Comedy\", \"Comedy\", \"Drama\", \"Adventure\", \"Horror\", \"Fantasy\", \"Drama\", \"Action\", \"Drama\", \"Comedy\", \"Biography\", \"Comedy\", \"Comedy\", \"Adventure\", \"Comedy\", \"Action\", \"Documentary\", \"Comedy\", \"Action\", \"Drama\", \"Adventure\", \"Comedy\", \"Action\", \"Horror\", \"Adventure\", \"Comedy\", \"Comedy\", \"Action\", \"Crime\", \"Biography\", \"Crime\", \"Biography\", \"Action\", \"Fantasy\", \"Comedy\", \"Drama\", \"Documentary\", \"Adventure\", \"Crime\", \"Drama\", \"Biography\", \"Comedy\", \"Comedy\", \"Drama\", \"Action\", \"Comedy\", \"Drama\", \"Comedy\", \"Comedy\", \"Action\", \"Comedy\", \"Drama\", \"Crime\", \"Drama\", \"Drama\", \"Comedy\", \"Comedy\", \"Comedy\", \"Adventure\", \"Action\", \"Comedy\", \"Biography\", \"Action\", \"Drama\", \"Drama\", \"Crime\", \"Drama\", \"Comedy\", \"Action\", \"Comedy\", \"Comedy\", \"Adventure\", \"Drama\", \"Drama\", \"Adventure\", \"Comedy\", \"Adventure\", \"Action\", \"Comedy\", \"Comedy\", \"Comedy\", \"Comedy\", \"Adventure\", \"Comedy\", \"Biography\", \"Comedy\", \"Biography\", \"Biography\", \"Comedy\", \"Horror\", \"Comedy\", \"Action\", \"Action\", \"Action\", \"Western\", \"Horror\", \"Action\", \"Biography\", \"Comedy\", \"Fantasy\", \"Biography\", \"Drama\", \"Drama\", \"Action\", \"Comedy\", \"Biography\", \"Adventure\", \"Drama\", \"Comedy\", \"Drama\", \"Adventure\", \"Drama\", \"Documentary\", \"Drama\", \"Documentary\", \"Drama\", \"Adventure\", \"Comedy\", \"Horror\"], \"x0\": \" \", \"xaxis\": \"x\", \"y\": [8.3, 7.6, 8.2, 7.9, 8.0, 7.1, 7.4, 6.6, 7.4, 8.3, 7.7, 5.9, 7.3, 6.9, 6.7, 8.1, 7.3, 7.9, 6.8, 7.7, 7.2, 5.8, 7.1, 7.4, 7.5, 7.4, 7.4, 7.4, 7.7, 7.2, 7.1, 7.9, 7.1, 6.5, 8.1, 7.4, 7.4, 7.6, 7.8, 6.7, 6.8, 7.2, 7.5, 7.2, 7.9, 6.3, 6.3, 7.7, 7.4, 7.4, 6.5, 7.2, 7.4, 6.7, 7.5, 7.3, 8.2, 8.2, 6.4, 7.3, 7.6, 6.5, 7.7, 6.9, 7.0, 6.9, 6.9, 8.0, 7.7, 7.6, 7.4, 7.6, 7.0, 7.3, 7.6, 6.3, 7.4, 7.1, 6.8, 8.1, 7.7, 6.8, 7.1, 6.2, 6.4, 6.4, 6.9, 7.2, 7.2, 6.4, 6.7, 7.3, 7.6, 6.6, 6.5, 6.5, 6.8, 6.8, 6.4, 7.4, 7.9, 8.1, 6.8, 5.4, 7.9, 7.5, 7.1, 6.6, 7.0, 7.6, 6.9, 7.1, 7.1, 7.0, 6.8, 6.4, 7.4, 6.3, 6.8, 7.2, 6.3, 6.5, 7.7, 7.8, 7.5, 7.7, 7.3, 7.3, 8.0, 7.7, 7.0, 8.1, 8.2, 6.4, 6.4, 6.1, 5.9, 7.0, 6.8, 8.0, 6.9, 7.2, 6.1, 6.9, 6.7, 7.2, 5.9, 7.9, 6.1, 7.8, 7.8, 6.0, 6.9, 7.1, 5.8, 6.2, 6.1, 6.8, 8.0, 7.3, 6.1, 6.6, 6.9, 6.2, 6.2, 6.3, 6.8, 6.2, 6.2, 6.2, 6.2, 7.2, 6.8, 6.1, 7.3, 7.0, 6.8, 5.2, 5.3, 6.4, 7.2, 6.3, 6.9, 7.2, 5.1, 6.7, 7.1, 5.6, 7.3, 6.1, 6.2, 5.9, 7.4, 6.5, 6.8, 6.4, 5.1, 6.6, 7.1, 7.1, 6.3, 6.3, 5.8, 6.2, 6.3, 5.9, 6.2, 7.3, 7.3, 7.3, 7.9, 7.3, 7.5, 7.5, 8.2, 8.1, 6.7, 7.1, 5.1, 7.6, 5.5, 5.9, 5.9, 5.9, 6.8, 7.3, 7.4, 6.1, 6.5, 6.6, 4.4, 4.4, 8.1, 8.1, 8.1, 6.5, 6.0, 6.4, 6.6, 6.6, 6.6, 6.6, 6.2, 7.3, 5.8, 6.3, 6.8, 6.1, 6.7, 7.2, 6.1, 6.8, 6.0, 6.7, 6.9, 6.6, 6.1, 6.1, 6.4, 8.3, 6.7, 6.5, 7.4, 6.6, 6.9, 6.5, 6.1, 5.6, 6.5, 7.1, 5.6, 6.1, 6.5, 7.2, 6.0, 6.8, 5.6, 6.3, 6.6, 6.3, 6.7, 7.5, 6.1, 8.2, 6.5, 6.3, 6.3, 7.6, 6.7, 6.3, 6.1, 5.9, 7.5, 6.5, 6.0, 6.3, 7.7, 6.5, 6.5, 6.7, 6.5, 6.3, 6.4, 6.4, 6.7, 6.6, 6.3, 5.7, 7.5, 6.3, 5.9, 5.5, 5.7, 5.7, 5.7, 5.7, 5.9, 6.1, 6.2, 5.6, 5.6, 5.7, 6.4, 7.2, 6.7, 6.7, 7.5, 6.5, 6.9, 5.8, 5.8, 6.7, 6.9, 6.9, 6.5, 6.5, 6.5, 6.5, 6.5, 6.0, 7.3, 5.9, 7.4, 6.3, 5.3, 6.2, 6.8, 5.8, 6.2, 6.2, 6.2, 6.2, 6.2, 6.6, 6.2, 6.2, 6.2, 6.7, 6.5, 6.7, 5.9, 6.2, 6.8, 6.3, 6.3, 6.3, 6.3, 6.3, 6.3, 6.3, 6.3, 6.9, 6.3, 7.0, 5.0, 6.2, 7.0, 7.3, 7.2, 5.6, 6.6, 5.9, 7.1, 6.5, 6.1, 6.1, 6.1, 6.1, 6.1, 6.1, 6.1, 7.1, 6.2, 6.1, 6.8, 7.1, 7.1, 6.5, 7.3, 7.3, 5.4, 5.9, 7.3, 5.7, 5.5, 7.1, 7.1, 7.4, 6.5, 6.4, 6.8, 7.1, 5.8, 7.4, 7.4, 6.7, 5.8, 5.9, 7.2, 6.3, 6.3, 6.3, 6.3, 7.2, 5.8, 7.8, 7.8, 6.7, 6.2, 6.1, 7.0, 7.0, 5.9, 6.2, 4.6, 6.6, 7.0, 6.1, 5.9, 5.6, 7.1, 7.1, 6.8, 7.2, 7.2, 7.2, 5.8, 7.7, 6.0, 7.0, 5.9, 7.2, 7.2, 6.4, 6.0, 7.1, 7.1, 7.1, 7.1, 5.4, 7.4, 7.7, 5.6, 6.6, 6.6, 6.6, 6.6, 4.8, 7.9, 7.9, 7.7, 6.4, 5.4, 6.9, 5.6, 6.6, 6.4, 6.4, 6.4, 7.0, 6.1, 7.4, 7.5, 6.6, 6.2, 5.6, 7.1, 6.2, 6.4, 6.4, 6.4, 6.4, 6.4, 7.3, 7.3, 7.5, 5.8, 6.9, 6.9, 7.0, 5.5, 7.2, 5.1, 6.1, 6.5, 5.9, 5.6, 6.6, 5.8, 6.3, 5.9, 6.4, 5.9, 6.1, 7.2, 5.8, 5.5, 6.4, 6.4, 7.6, 6.1, 6.3, 6.6, 5.8, 5.8, 5.8, 5.8, 5.8, 6.9, 7.4, 7.4, 7.4, 4.9, 6.7, 6.7, 6.7, 7.3, 5.6, 6.1, 6.1, 6.6, 6.0, 6.0, 6.1, 6.4, 6.0, 5.8, 6.6, 6.6, 6.7, 6.9, 6.0, 5.9, 5.9, 5.9, 6.1, 6.3, 6.8, 6.4, 6.4, 6.9, 6.3, 6.8, 6.4, 5.1, 5.4, 7.0, 7.0, 6.2, 6.2, 6.2, 6.2, 6.2, 6.2, 7.1, 7.1, 6.7, 5.7, 6.9, 6.1, 6.2, 7.0, 6.3, 7.0, 6.0, 7.6, 6.0, 5.3, 7.1, 6.7, 6.8, 6.8, 5.9, 7.3, 7.1, 7.6, 7.6, 5.0, 5.0, 6.6, 6.6, 6.6, 6.0, 6.0, 7.0, 6.8, 6.8, 6.3, 6.6, 7.1, 6.5, 5.4, 7.1, 7.1, 5.8, 7.0, 7.0, 7.1, 6.3, 6.4, 6.4, 6.4, 6.4, 6.0, 6.5, 6.1, 6.0, 6.7, 7.2, 8.3, 8.3, 6.9, 6.2, 5.8, 6.0, 4.7, 6.5, 6.9, 6.6, 6.8, 6.6, 5.4, 7.5, 5.3, 6.6, 6.6, 6.6, 6.6, 6.6, 6.6, 5.7, 6.9, 4.4, 7.4, 7.4, 7.0, 7.1, 7.1, 7.1, 7.1, 6.7, 6.8, 5.8, 5.8, 5.6, 6.5, 6.1, 7.6, 6.2, 7.4, 6.8, 6.2, 6.8, 6.8, 5.1, 6.6, 6.1, 6.2, 6.2, 6.4, 6.7, 5.8, 6.6, 6.8, 6.6, 6.2, 6.5, 6.3, 5.3, 5.1, 6.6, 6.7, 6.7, 6.7, 6.4, 6.0, 5.7, 5.8, 5.9, 7.1, 7.1, 5.7, 6.2, 5.6, 7.2, 6.4, 5.9, 5.9, 5.9, 5.9, 5.3, 5.7, 6.8, 5.5, 6.4, 5.8, 6.8, 5.9, 7.4, 4.1, 6.2, 6.2, 6.4, 6.0, 6.3, 6.9, 6.9, 6.9, 5.7, 5.6, 5.0, 6.2, 5.2, 6.4, 6.7, 6.7, 6.7, 5.5, 6.6, 5.0, 5.1, 7.1, 6.3, 5.5, 6.5, 6.7, 6.7, 5.3, 5.5, 6.0, 6.9, 6.3, 7.4, 6.2, 5.3, 5.4, 7.2, 6.7, 5.5, 5.7, 6.1, 6.1, 5.9, 5.6, 5.9, 6.7, 5.8, 5.8, 6.5, 6.5, 7.3, 5.7, 5.7, 5.9, 6.3, 6.2, 6.1, 6.1, 6.8, 7.4, 6.5, 5.3, 5.3, 5.3, 5.0, 5.0, 5.0, 6.1, 6.1, 6.1, 7.2, 6.1, 7.4, 6.4, 6.6, 6.5, 6.5, 6.2, 6.9, 7.1, 5.9, 5.9, 5.9, 5.9, 5.9, 5.9, 5.6, 6.0, 5.4, 5.9, 7.8, 6.2, 7.4, 5.9, 6.0, 7.0, 6.2, 5.0, 6.4, 6.2, 6.6, 5.3, 5.7, 5.5, 6.0, 7.4, 7.4, 6.2, 6.8, 6.6, 6.7, 5.8, 6.1, 7.1, 6.7, 5.9, 6.2, 6.2, 6.2, 6.2, 6.2, 6.9, 5.0, 5.4, 4.8, 5.5, 7.1, 6.6, 5.6, 5.8, 6.2, 5.9, 6.0, 5.9, 4.5, 5.3, 5.4, 6.3, 6.6, 6.9, 6.6, 7.2, 7.4, 7.3, 6.5, 5.8, 5.8, 5.8, 5.8, 5.8, 5.8, 5.8, 5.8, 7.6, 7.0, 7.0, 7.0, 5.3, 5.2, 7.4, 5.6, 6.9, 5.4, 8.0, 5.9, 5.3, 7.0, 6.5, 5.6, 7.7, 5.8, 6.7, 6.0, 7.1, 6.2, 5.2, 4.9, 4.9, 6.2, 6.6, 6.6, 6.6, 6.3, 6.5, 4.0, 4.0, 6.0, 6.0, 4.6, 6.5, 7.2, 6.7, 6.4, 6.1, 5.4, 5.4, 5.4, 5.4, 6.7, 5.8, 5.4, 7.0, 6.1, 6.1, 6.8, 5.4, 5.8, 5.1, 4.4, 5.8, 6.1, 6.0, 6.0, 7.8, 6.2, 5.9, 5.9, 4.1, 5.7, 6.5, 5.7, 6.2, 7.4, 6.0, 6.5, 6.5, 8.2, 6.6, 7.4, 5.5, 7.0, 6.9, 5.2, 6.8, 6.7, 5.6, 5.9, 6.9, 6.2, 6.7, 6.0, 5.7, 5.3, 6.6, 5.5, 6.2, 5.8, 6.6, 6.6, 6.1, 4.8, 5.9, 6.0, 6.3, 5.7, 5.7, 6.3, 5.3, 6.2, 6.9, 5.5, 5.9, 7.2, 6.9, 6.3, 6.9, 6.7, 5.6, 6.4, 6.1, 5.6, 5.6, 5.6, 5.6, 5.6, 5.6, 5.6, 5.9, 5.1, 6.2], \"y0\": \" \", \"yaxis\": \"y\"}],\n",
       "                        {\"boxmode\": \"group\", \"height\": 600, \"legend\": {\"tracegroupgap\": 0}, \"margin\": {\"t\": 60}, \"template\": {\"data\": {\"bar\": [{\"error_x\": {\"color\": \"#2a3f5f\"}, \"error_y\": {\"color\": \"#2a3f5f\"}, \"marker\": {\"line\": {\"color\": \"#E5ECF6\", \"width\": 0.5}}, \"type\": \"bar\"}], \"barpolar\": [{\"marker\": {\"line\": {\"color\": \"#E5ECF6\", \"width\": 0.5}}, \"type\": \"barpolar\"}], \"carpet\": [{\"aaxis\": {\"endlinecolor\": \"#2a3f5f\", \"gridcolor\": \"white\", \"linecolor\": \"white\", \"minorgridcolor\": \"white\", \"startlinecolor\": \"#2a3f5f\"}, \"baxis\": {\"endlinecolor\": \"#2a3f5f\", \"gridcolor\": \"white\", \"linecolor\": \"white\", \"minorgridcolor\": \"white\", \"startlinecolor\": \"#2a3f5f\"}, \"type\": \"carpet\"}], \"choropleth\": [{\"colorbar\": {\"outlinewidth\": 0, \"ticks\": \"\"}, \"type\": \"choropleth\"}], \"contour\": [{\"colorbar\": {\"outlinewidth\": 0, \"ticks\": \"\"}, \"colorscale\": [[0.0, \"#0d0887\"], [0.1111111111111111, \"#46039f\"], [0.2222222222222222, \"#7201a8\"], [0.3333333333333333, \"#9c179e\"], [0.4444444444444444, \"#bd3786\"], [0.5555555555555556, \"#d8576b\"], [0.6666666666666666, \"#ed7953\"], [0.7777777777777778, \"#fb9f3a\"], [0.8888888888888888, \"#fdca26\"], [1.0, \"#f0f921\"]], \"type\": \"contour\"}], \"contourcarpet\": [{\"colorbar\": {\"outlinewidth\": 0, \"ticks\": \"\"}, \"type\": \"contourcarpet\"}], \"heatmap\": [{\"colorbar\": {\"outlinewidth\": 0, \"ticks\": \"\"}, \"colorscale\": [[0.0, \"#0d0887\"], [0.1111111111111111, \"#46039f\"], [0.2222222222222222, \"#7201a8\"], [0.3333333333333333, \"#9c179e\"], [0.4444444444444444, \"#bd3786\"], [0.5555555555555556, \"#d8576b\"], [0.6666666666666666, \"#ed7953\"], [0.7777777777777778, \"#fb9f3a\"], [0.8888888888888888, \"#fdca26\"], [1.0, \"#f0f921\"]], \"type\": \"heatmap\"}], \"heatmapgl\": [{\"colorbar\": {\"outlinewidth\": 0, \"ticks\": \"\"}, \"colorscale\": [[0.0, \"#0d0887\"], [0.1111111111111111, \"#46039f\"], [0.2222222222222222, \"#7201a8\"], [0.3333333333333333, \"#9c179e\"], [0.4444444444444444, \"#bd3786\"], [0.5555555555555556, \"#d8576b\"], [0.6666666666666666, \"#ed7953\"], [0.7777777777777778, \"#fb9f3a\"], [0.8888888888888888, \"#fdca26\"], [1.0, \"#f0f921\"]], \"type\": \"heatmapgl\"}], \"histogram\": [{\"marker\": {\"colorbar\": {\"outlinewidth\": 0, \"ticks\": \"\"}}, \"type\": \"histogram\"}], \"histogram2d\": [{\"colorbar\": {\"outlinewidth\": 0, \"ticks\": \"\"}, \"colorscale\": [[0.0, \"#0d0887\"], [0.1111111111111111, \"#46039f\"], [0.2222222222222222, \"#7201a8\"], [0.3333333333333333, \"#9c179e\"], [0.4444444444444444, \"#bd3786\"], [0.5555555555555556, \"#d8576b\"], [0.6666666666666666, \"#ed7953\"], [0.7777777777777778, \"#fb9f3a\"], [0.8888888888888888, \"#fdca26\"], [1.0, \"#f0f921\"]], \"type\": \"histogram2d\"}], \"histogram2dcontour\": [{\"colorbar\": {\"outlinewidth\": 0, \"ticks\": \"\"}, \"colorscale\": [[0.0, \"#0d0887\"], [0.1111111111111111, \"#46039f\"], [0.2222222222222222, \"#7201a8\"], [0.3333333333333333, \"#9c179e\"], [0.4444444444444444, \"#bd3786\"], [0.5555555555555556, \"#d8576b\"], [0.6666666666666666, \"#ed7953\"], [0.7777777777777778, \"#fb9f3a\"], [0.8888888888888888, \"#fdca26\"], [1.0, \"#f0f921\"]], \"type\": \"histogram2dcontour\"}], \"mesh3d\": [{\"colorbar\": {\"outlinewidth\": 0, \"ticks\": \"\"}, \"type\": \"mesh3d\"}], \"parcoords\": [{\"line\": {\"colorbar\": {\"outlinewidth\": 0, \"ticks\": \"\"}}, \"type\": \"parcoords\"}], \"scatter\": [{\"marker\": {\"colorbar\": {\"outlinewidth\": 0, \"ticks\": \"\"}}, \"type\": \"scatter\"}], \"scatter3d\": [{\"line\": {\"colorbar\": {\"outlinewidth\": 0, \"ticks\": \"\"}}, \"marker\": {\"colorbar\": {\"outlinewidth\": 0, \"ticks\": \"\"}}, \"type\": \"scatter3d\"}], \"scattercarpet\": [{\"marker\": {\"colorbar\": {\"outlinewidth\": 0, \"ticks\": \"\"}}, \"type\": \"scattercarpet\"}], \"scattergeo\": [{\"marker\": {\"colorbar\": {\"outlinewidth\": 0, \"ticks\": \"\"}}, \"type\": \"scattergeo\"}], \"scattergl\": [{\"marker\": {\"colorbar\": {\"outlinewidth\": 0, \"ticks\": \"\"}}, \"type\": \"scattergl\"}], \"scattermapbox\": [{\"marker\": {\"colorbar\": {\"outlinewidth\": 0, \"ticks\": \"\"}}, \"type\": \"scattermapbox\"}], \"scatterpolar\": [{\"marker\": {\"colorbar\": {\"outlinewidth\": 0, \"ticks\": \"\"}}, \"type\": \"scatterpolar\"}], \"scatterpolargl\": [{\"marker\": {\"colorbar\": {\"outlinewidth\": 0, \"ticks\": \"\"}}, \"type\": \"scatterpolargl\"}], \"scatterternary\": [{\"marker\": {\"colorbar\": {\"outlinewidth\": 0, \"ticks\": \"\"}}, \"type\": \"scatterternary\"}], \"surface\": [{\"colorbar\": {\"outlinewidth\": 0, \"ticks\": \"\"}, \"colorscale\": [[0.0, \"#0d0887\"], [0.1111111111111111, \"#46039f\"], [0.2222222222222222, \"#7201a8\"], [0.3333333333333333, \"#9c179e\"], [0.4444444444444444, \"#bd3786\"], [0.5555555555555556, \"#d8576b\"], [0.6666666666666666, \"#ed7953\"], [0.7777777777777778, \"#fb9f3a\"], [0.8888888888888888, \"#fdca26\"], [1.0, \"#f0f921\"]], \"type\": \"surface\"}], \"table\": [{\"cells\": {\"fill\": {\"color\": \"#EBF0F8\"}, \"line\": {\"color\": \"white\"}}, \"header\": {\"fill\": {\"color\": \"#C8D4E3\"}, \"line\": {\"color\": \"white\"}}, \"type\": \"table\"}]}, \"layout\": {\"annotationdefaults\": {\"arrowcolor\": \"#2a3f5f\", \"arrowhead\": 0, \"arrowwidth\": 1}, \"colorscale\": {\"diverging\": [[0, \"#8e0152\"], [0.1, \"#c51b7d\"], [0.2, \"#de77ae\"], [0.3, \"#f1b6da\"], [0.4, \"#fde0ef\"], [0.5, \"#f7f7f7\"], [0.6, \"#e6f5d0\"], [0.7, \"#b8e186\"], [0.8, \"#7fbc41\"], [0.9, \"#4d9221\"], [1, \"#276419\"]], \"sequential\": [[0.0, \"#0d0887\"], [0.1111111111111111, \"#46039f\"], [0.2222222222222222, \"#7201a8\"], [0.3333333333333333, \"#9c179e\"], [0.4444444444444444, \"#bd3786\"], [0.5555555555555556, \"#d8576b\"], [0.6666666666666666, \"#ed7953\"], [0.7777777777777778, \"#fb9f3a\"], [0.8888888888888888, \"#fdca26\"], [1.0, \"#f0f921\"]], \"sequentialminus\": [[0.0, \"#0d0887\"], [0.1111111111111111, \"#46039f\"], [0.2222222222222222, \"#7201a8\"], [0.3333333333333333, \"#9c179e\"], [0.4444444444444444, \"#bd3786\"], [0.5555555555555556, \"#d8576b\"], [0.6666666666666666, \"#ed7953\"], [0.7777777777777778, \"#fb9f3a\"], [0.8888888888888888, \"#fdca26\"], [1.0, \"#f0f921\"]]}, \"colorway\": [\"#636efa\", \"#EF553B\", \"#00cc96\", \"#ab63fa\", \"#FFA15A\", \"#19d3f3\", \"#FF6692\", \"#B6E880\", \"#FF97FF\", \"#FECB52\"], \"font\": {\"color\": \"#2a3f5f\"}, \"geo\": {\"bgcolor\": \"white\", \"lakecolor\": \"white\", \"landcolor\": \"#E5ECF6\", \"showlakes\": true, \"showland\": true, \"subunitcolor\": \"white\"}, \"hoverlabel\": {\"align\": \"left\"}, \"hovermode\": \"closest\", \"mapbox\": {\"style\": \"light\"}, \"paper_bgcolor\": \"white\", \"plot_bgcolor\": \"#E5ECF6\", \"polar\": {\"angularaxis\": {\"gridcolor\": \"white\", \"linecolor\": \"white\", \"ticks\": \"\"}, \"bgcolor\": \"#E5ECF6\", \"radialaxis\": {\"gridcolor\": \"white\", \"linecolor\": \"white\", \"ticks\": \"\"}}, \"scene\": {\"xaxis\": {\"backgroundcolor\": \"#E5ECF6\", \"gridcolor\": \"white\", \"gridwidth\": 2, \"linecolor\": \"white\", \"showbackground\": true, \"ticks\": \"\", \"zerolinecolor\": \"white\"}, \"yaxis\": {\"backgroundcolor\": \"#E5ECF6\", \"gridcolor\": \"white\", \"gridwidth\": 2, \"linecolor\": \"white\", \"showbackground\": true, \"ticks\": \"\", \"zerolinecolor\": \"white\"}, \"zaxis\": {\"backgroundcolor\": \"#E5ECF6\", \"gridcolor\": \"white\", \"gridwidth\": 2, \"linecolor\": \"white\", \"showbackground\": true, \"ticks\": \"\", \"zerolinecolor\": \"white\"}}, \"shapedefaults\": {\"line\": {\"color\": \"#2a3f5f\"}}, \"ternary\": {\"aaxis\": {\"gridcolor\": \"white\", \"linecolor\": \"white\", \"ticks\": \"\"}, \"baxis\": {\"gridcolor\": \"white\", \"linecolor\": \"white\", \"ticks\": \"\"}, \"bgcolor\": \"#E5ECF6\", \"caxis\": {\"gridcolor\": \"white\", \"linecolor\": \"white\", \"ticks\": \"\"}}, \"title\": {\"x\": 0.05}, \"xaxis\": {\"automargin\": true, \"gridcolor\": \"white\", \"linecolor\": \"white\", \"ticks\": \"\", \"zerolinecolor\": \"white\", \"zerolinewidth\": 2}, \"yaxis\": {\"automargin\": true, \"gridcolor\": \"white\", \"linecolor\": \"white\", \"ticks\": \"\", \"zerolinecolor\": \"white\", \"zerolinewidth\": 2}}}, \"xaxis\": {\"anchor\": \"y\", \"domain\": [0.0, 0.98], \"title\": {\"text\": \"G1\"}}, \"yaxis\": {\"anchor\": \"x\", \"domain\": [0.0, 1.0], \"title\": {\"text\": \"vote_average\"}}},\n",
       "                        {\"responsive\": true}\n",
       "                    ).then(function(){\n",
       "                            \n",
       "var gd = document.getElementById('b1018e99-8bcf-4dc4-a573-226fa6854c9d');\n",
       "var x = new MutationObserver(function (mutations, observer) {{\n",
       "        var display = window.getComputedStyle(gd).display;\n",
       "        if (!display || display === 'none') {{\n",
       "            console.log([gd, 'removed!']);\n",
       "            Plotly.purge(gd);\n",
       "            observer.disconnect();\n",
       "        }}\n",
       "}});\n",
       "\n",
       "// Listen for the removal of the full notebook cells\n",
       "var notebookContainer = gd.closest('#notebook-container');\n",
       "if (notebookContainer) {{\n",
       "    x.observe(notebookContainer, {childList: true});\n",
       "}}\n",
       "\n",
       "// Listen for the clearing of the current output cell\n",
       "var outputEl = gd.closest('.output');\n",
       "if (outputEl) {{\n",
       "    x.observe(outputEl, {childList: true});\n",
       "}}\n",
       "\n",
       "                        })\n",
       "                };\n",
       "                });\n",
       "            </script>\n",
       "        </div>"
      ]
     },
     "metadata": {},
     "output_type": "display_data"
    }
   ],
   "source": [
    "print('Genres to Target on Basis of Average Rating:')\n",
    "fig4 = px.box(df4, x='G1', y='vote_average',\n",
    "                hover_data=['G1'])\n",
    "fig4.show()"
   ]
  },
  {
   "cell_type": "markdown",
   "metadata": {},
   "source": [
    "### Directors:"
   ]
  },
  {
   "cell_type": "code",
   "execution_count": 133,
   "metadata": {
    "scrolled": false
   },
   "outputs": [
    {
     "name": "stdout",
     "output_type": "stream",
     "text": [
      "Which directors can create the most successful movies with reasonable budgets?\n",
      "Top 100 directors by domestic gross\n"
     ]
    },
    {
     "data": {
      "application/vnd.plotly.v1+json": {
       "config": {
        "plotlyServerURL": "https://plot.ly"
       },
       "data": [
        {
         "customdata": [
          [
           "Anthony Russo",
           3
          ],
          [
           "Joe Russo",
           3
          ],
          [
           "Francis Lawrence",
           5
          ],
          [
           "Jon Favreau",
           4
          ],
          [
           "Joss Whedon",
           4
          ],
          [
           "Christopher Nolan",
           4
          ],
          [
           "Chris Renaud",
           3
          ],
          [
           "Zack Snyder",
           5
          ],
          [
           "Pierre Coffin",
           3
          ],
          [
           "Bill Condon",
           3
          ],
          [
           "Zane Burden",
           2
          ],
          [
           "Marilyn Barnes",
           2
          ],
          [
           "Ryan Coogler",
           3
          ],
          [
           "Peter Jackson",
           3
          ],
          [
           "Michael Bay",
           4
          ],
          [
           "Paul Feig",
           5
          ],
          [
           "Brad Bird",
           2
          ],
          [
           "Mike Mitchell",
           4
          ],
          [
           "Steven Spielberg",
           7
          ],
          [
           "Bryan Singer",
           4
          ],
          [
           "Colin Trevorrow",
           2
          ],
          [
           "Ridley Scott",
           7
          ],
          [
           "Clint Eastwood",
           6
          ],
          [
           "Lee Unkrich",
           2
          ],
          [
           "Kyle Balda",
           2
          ],
          [
           "Phil Lord",
           3
          ],
          [
           "Christopher Miller",
           3
          ],
          [
           "Andrew Stanton",
           2
          ],
          [
           "Jake Kasdan",
           3
          ],
          [
           "Byron Howard",
           2
          ],
          [
           "Rob Marshall",
           3
          ],
          [
           "Tom McGrath",
           3
          ],
          [
           "Rich Moore",
           2
          ],
          [
           "James Wan",
           3
          ],
          [
           "David Yates",
           3
          ],
          [
           "Sam Mendes",
           2
          ],
          [
           "Don Hall",
           3
          ],
          [
           "Marc Webb",
           3
          ],
          [
           "Angus MacLane",
           1
          ],
          [
           "Genndy Tartakovsky",
           3
          ],
          [
           "Jon M. Chu",
           6
          ],
          [
           "Chris Williams",
           2
          ],
          [
           "Kenneth Branagh",
           3
          ],
          [
           "Tim Burton",
           5
          ],
          [
           "David Ayer",
           5
          ],
          [
           "Antoine Fuqua",
           5
          ],
          [
           "Tim Story",
           7
          ],
          [
           "J.A. Bayona",
           3
          ],
          [
           "James Mangold",
           3
          ],
          [
           "David O. Russell",
           5
          ],
          [
           "Gary Ross",
           2
          ],
          [
           "David Leitch",
           3
          ],
          [
           "Patty Jenkins",
           1
          ],
          [
           "Michael Colburn",
           1
          ],
          [
           "Renzo Aneröd",
           1
          ],
          [
           "Hanna Aneröd",
           1
          ],
          [
           "Jonathan Liebesman",
           3
          ],
          [
           "Brad Peyton",
           5
          ],
          [
           "Jun Falkenstein",
           2
          ],
          [
           "Kevin Johnson",
           2
          ],
          [
           "Chris Sanders",
           2
          ],
          [
           "Chris Buck",
           1
          ],
          [
           "Jennifer Lee",
           1
          ],
          [
           "Adam Green",
           1
          ],
          [
           "Andy Muschietti",
           2
          ],
          [
           "Todd Phillips",
           3
          ],
          [
           "Peyton Reed",
           2
          ],
          [
           "M. Night Shyamalan",
           4
          ],
          [
           "Dean DeBlois",
           2
          ],
          [
           "F. Gary Gray",
           2
          ],
          [
           "Dennis Dugan",
           3
          ],
          [
           "Justin Lin",
           2
          ],
          [
           "Yarrow Cheney",
           1
          ],
          [
           "Nicholas Stoller",
           5
          ],
          [
           "Matt Reeves",
           3
          ],
          [
           "David Fincher",
           3
          ],
          [
           "Adam McKay",
           4
          ],
          [
           "Tim Miller",
           1
          ],
          [
           "Carlos Saldanha",
           3
          ],
          [
           "Ronnie Del Carmen",
           1
          ],
          [
           "Pete Docter",
           1
          ],
          [
           "Artie Mandelberg",
           1
          ],
          [
           "Alastair Siddons",
           1
          ],
          [
           "J.J. Abrams",
           2
          ],
          [
           "Ron Howard",
           5
          ],
          [
           "Kay Cannon",
           3
          ],
          [
           "Rawson Marshall Thurber",
           3
          ],
          [
           "Shawn Levy",
           4
          ],
          [
           "Jared Bush",
           1
          ],
          [
           "Neil Burger",
           3
          ],
          [
           "Gareth Edwards",
           3
          ],
          [
           "Jon Watts",
           2
          ],
          [
           "James Fotopoulos",
           2
          ],
          [
           "Fernando J. Scarpa",
           2
          ],
          [
           "Giuseppe Malpasso",
           2
          ],
          [
           "James Gunn",
           2
          ],
          [
           "Martin Scorsese",
           4
          ],
          [
           "Jennifer Yuh Nelson",
           3
          ],
          [
           "David Gordon Green",
           8
          ],
          [
           "Peter Berg",
           6
          ]
         ],
         "hoverlabel": {
          "namelength": 0
         },
         "hovertemplate": "tot_dom_gross=%{x}<br>avg_rating=%{y}<br>primary_name=%{customdata[0]}<br>num_movies=%{customdata[1]}<br>avg_budg=%{marker.color}",
         "legendgroup": "",
         "marker": {
          "color": [
           240000000,
           240000000,
           104400000,
           112825000,
           155900000,
           187500000,
           73333333.33333333,
           190000000,
           73333333.33333333,
           68666666.66666667,
           90000000,
           90000000,
           79300000,
           250000000,
           162000000,
           53900000,
           185000000,
           111000000,
           92142857.14285716,
           157000000,
           107875000,
           114857142.85714284,
           45500000,
           187500000,
           74500000,
           50666666.66666666,
           50666666.66666666,
           237500000,
           49666666.66666666,
           205000000,
           198933333.3333333,
           133333333.33333331,
           157500000,
           60500000,
           186666666.66666663,
           250000000,
           115000000,
           142333333.33333334,
           200000000,
           76666666.66666667,
           51333333.33333334,
           157500000,
           82633333.33333333,
           80400000,
           79000000,
           64400000,
           16321428.57142857,
           84333333.33333333,
           119666666.66666669,
           31600000,
           65000000,
           56666666.66666666,
           150000000,
           150000000,
           150000000,
           150000000,
           96166666.66666669,
           79800000,
           101000000,
           101000000,
           150000000,
           150000000,
           150000000,
           150000000,
           25000000,
           65000000,
           130000000,
           72500000,
           155000000,
           139000000,
           78000000,
           155000000,
           75000000,
           38600000,
           114000000,
           63666666.66666666,
           59500000,
           58000000,
           110333333.33333331,
           175000000,
           175000000,
           175000000,
           175000000,
           120000000,
           111600000,
           39633333.333333336,
           70666666.66666667,
           87500000,
           150000000,
           49833333.33333334,
           95166666.66666669,
           90000000,
           101500000,
           101500000,
           101500000,
           86250000,
           101625000,
           108000000,
           17290625,
           82750000
          ],
          "coloraxis": "coloraxis",
          "line": {
           "width": 1
          },
          "size": 15,
          "symbol": "circle"
         },
         "mode": "markers",
         "name": "",
         "showlegend": false,
         "type": "scatter",
         "x": [
          1346646789,
          1346646789,
          1149112056,
          1142562693,
          1128220169,
          1118801468,
          987963700,
          942497822,
          884203670,
          883325603,
          880071431,
          880071431,
          825926145,
          816490211,
          777873593,
          752904932,
          702018066,
          688545272,
          687074317,
          670854965,
          656281582,
          647472782,
          628572675,
          624730895,
          600670070,
          587951722,
          587951722,
          559354240,
          543345245,
          542090184,
          541024685,
          539810368,
          530680925,
          526471098,
          520236537,
          504434452,
          497977718,
          489685808,
          486295561,
          485513250,
          479730294,
          471284872,
          467181977,
          463688078,
          462429849,
          448397300,
          445182672,
          440480465,
          435256955,
          432279006,
          428820728,
          419203495,
          412563408,
          412563408,
          412563408,
          412563408,
          410140752,
          408464882,
          408344079,
          408344079,
          404749657,
          400738009,
          400738009,
          400738009,
          399109928,
          398037871,
          396850903,
          395641974,
          394584156,
          386962550,
          369827868,
          368879665,
          368384330,
          367960619,
          367560686,
          367245676,
          364668837,
          363070709,
          359568624,
          356461711,
          356461711,
          356461711,
          356461711,
          355782840,
          348554758,
          346462848,
          346255110,
          342594098,
          341268248,
          338432847,
          337227664,
          334335692,
          334191110,
          334191110,
          334191110,
          333499828,
          325878312,
          321473373,
          321466961,
          320818159
         ],
         "xaxis": "x",
         "y": [
          7.800000000000002,
          7.800000000000002,
          6.880000000000001,
          7.15,
          7.425,
          7.9,
          6.733333333333333,
          6.22,
          6.800000000000002,
          7.1000000000000005,
          7.7,
          7.7,
          6.6000000000000005,
          7.366666666666667,
          6,
          6.1,
          6.9,
          5.975,
          6.9714285714285715,
          6.925,
          6.75,
          6.2,
          6.466666666666666,
          7.949999999999998,
          6.35,
          7.033333333333334,
          7.033333333333334,
          6.55,
          5.833333333333332,
          7.6,
          6.233333333333333,
          6.566666666666667,
          7.5,
          7.066666666666667,
          6.7,
          6.75,
          7.066666666666666,
          6.933333333333334,
          7,
          6.800000000000002,
          6.1000000000000005,
          7.15,
          6.7,
          6.58,
          6.460000000000001,
          6.6800000000000015,
          6.628571428571429,
          6.933333333333334,
          6.133333333333333,
          6.34,
          6.85,
          7,
          5.9,
          5.9,
          5.9,
          5.9,
          5.7333333333333325,
          5.659999999999998,
          6.8,
          6.8,
          7.25,
          5.8,
          5.8,
          5.8,
          6.65,
          6.5,
          7.05,
          5.3,
          7.7,
          7.300000000000002,
          5.366666666666667,
          6.95,
          6.1,
          6.0200000000000005,
          7,
          7.466666666666666,
          5.9750000000000005,
          7.6,
          6.666666666666668,
          4.4,
          4.4,
          4.4,
          4.4,
          7.050000000000002,
          6.419999999999999,
          6.5,
          6.4,
          6.275,
          7.7,
          7.099999999999999,
          6.133333333333333,
          6.6,
          6.6,
          6.6,
          6.6,
          7.25,
          7.549999999999999,
          6.7333333333333325,
          5.825,
          5.9833333333333325
         ],
         "yaxis": "y"
        }
       ],
       "layout": {
        "coloraxis": {
         "colorbar": {
          "title": {
           "text": "avg_budg"
          }
         },
         "colorscale": [
          [
           0,
           "#0d0887"
          ],
          [
           0.1111111111111111,
           "#46039f"
          ],
          [
           0.2222222222222222,
           "#7201a8"
          ],
          [
           0.3333333333333333,
           "#9c179e"
          ],
          [
           0.4444444444444444,
           "#bd3786"
          ],
          [
           0.5555555555555556,
           "#d8576b"
          ],
          [
           0.6666666666666666,
           "#ed7953"
          ],
          [
           0.7777777777777778,
           "#fb9f3a"
          ],
          [
           0.8888888888888888,
           "#fdca26"
          ],
          [
           1,
           "#f0f921"
          ]
         ]
        },
        "height": 600,
        "legend": {
         "tracegroupgap": 0
        },
        "margin": {
         "t": 60
        },
        "template": {
         "data": {
          "bar": [
           {
            "error_x": {
             "color": "#2a3f5f"
            },
            "error_y": {
             "color": "#2a3f5f"
            },
            "marker": {
             "line": {
              "color": "#E5ECF6",
              "width": 0.5
             }
            },
            "type": "bar"
           }
          ],
          "barpolar": [
           {
            "marker": {
             "line": {
              "color": "#E5ECF6",
              "width": 0.5
             }
            },
            "type": "barpolar"
           }
          ],
          "carpet": [
           {
            "aaxis": {
             "endlinecolor": "#2a3f5f",
             "gridcolor": "white",
             "linecolor": "white",
             "minorgridcolor": "white",
             "startlinecolor": "#2a3f5f"
            },
            "baxis": {
             "endlinecolor": "#2a3f5f",
             "gridcolor": "white",
             "linecolor": "white",
             "minorgridcolor": "white",
             "startlinecolor": "#2a3f5f"
            },
            "type": "carpet"
           }
          ],
          "choropleth": [
           {
            "colorbar": {
             "outlinewidth": 0,
             "ticks": ""
            },
            "type": "choropleth"
           }
          ],
          "contour": [
           {
            "colorbar": {
             "outlinewidth": 0,
             "ticks": ""
            },
            "colorscale": [
             [
              0,
              "#0d0887"
             ],
             [
              0.1111111111111111,
              "#46039f"
             ],
             [
              0.2222222222222222,
              "#7201a8"
             ],
             [
              0.3333333333333333,
              "#9c179e"
             ],
             [
              0.4444444444444444,
              "#bd3786"
             ],
             [
              0.5555555555555556,
              "#d8576b"
             ],
             [
              0.6666666666666666,
              "#ed7953"
             ],
             [
              0.7777777777777778,
              "#fb9f3a"
             ],
             [
              0.8888888888888888,
              "#fdca26"
             ],
             [
              1,
              "#f0f921"
             ]
            ],
            "type": "contour"
           }
          ],
          "contourcarpet": [
           {
            "colorbar": {
             "outlinewidth": 0,
             "ticks": ""
            },
            "type": "contourcarpet"
           }
          ],
          "heatmap": [
           {
            "colorbar": {
             "outlinewidth": 0,
             "ticks": ""
            },
            "colorscale": [
             [
              0,
              "#0d0887"
             ],
             [
              0.1111111111111111,
              "#46039f"
             ],
             [
              0.2222222222222222,
              "#7201a8"
             ],
             [
              0.3333333333333333,
              "#9c179e"
             ],
             [
              0.4444444444444444,
              "#bd3786"
             ],
             [
              0.5555555555555556,
              "#d8576b"
             ],
             [
              0.6666666666666666,
              "#ed7953"
             ],
             [
              0.7777777777777778,
              "#fb9f3a"
             ],
             [
              0.8888888888888888,
              "#fdca26"
             ],
             [
              1,
              "#f0f921"
             ]
            ],
            "type": "heatmap"
           }
          ],
          "heatmapgl": [
           {
            "colorbar": {
             "outlinewidth": 0,
             "ticks": ""
            },
            "colorscale": [
             [
              0,
              "#0d0887"
             ],
             [
              0.1111111111111111,
              "#46039f"
             ],
             [
              0.2222222222222222,
              "#7201a8"
             ],
             [
              0.3333333333333333,
              "#9c179e"
             ],
             [
              0.4444444444444444,
              "#bd3786"
             ],
             [
              0.5555555555555556,
              "#d8576b"
             ],
             [
              0.6666666666666666,
              "#ed7953"
             ],
             [
              0.7777777777777778,
              "#fb9f3a"
             ],
             [
              0.8888888888888888,
              "#fdca26"
             ],
             [
              1,
              "#f0f921"
             ]
            ],
            "type": "heatmapgl"
           }
          ],
          "histogram": [
           {
            "marker": {
             "colorbar": {
              "outlinewidth": 0,
              "ticks": ""
             }
            },
            "type": "histogram"
           }
          ],
          "histogram2d": [
           {
            "colorbar": {
             "outlinewidth": 0,
             "ticks": ""
            },
            "colorscale": [
             [
              0,
              "#0d0887"
             ],
             [
              0.1111111111111111,
              "#46039f"
             ],
             [
              0.2222222222222222,
              "#7201a8"
             ],
             [
              0.3333333333333333,
              "#9c179e"
             ],
             [
              0.4444444444444444,
              "#bd3786"
             ],
             [
              0.5555555555555556,
              "#d8576b"
             ],
             [
              0.6666666666666666,
              "#ed7953"
             ],
             [
              0.7777777777777778,
              "#fb9f3a"
             ],
             [
              0.8888888888888888,
              "#fdca26"
             ],
             [
              1,
              "#f0f921"
             ]
            ],
            "type": "histogram2d"
           }
          ],
          "histogram2dcontour": [
           {
            "colorbar": {
             "outlinewidth": 0,
             "ticks": ""
            },
            "colorscale": [
             [
              0,
              "#0d0887"
             ],
             [
              0.1111111111111111,
              "#46039f"
             ],
             [
              0.2222222222222222,
              "#7201a8"
             ],
             [
              0.3333333333333333,
              "#9c179e"
             ],
             [
              0.4444444444444444,
              "#bd3786"
             ],
             [
              0.5555555555555556,
              "#d8576b"
             ],
             [
              0.6666666666666666,
              "#ed7953"
             ],
             [
              0.7777777777777778,
              "#fb9f3a"
             ],
             [
              0.8888888888888888,
              "#fdca26"
             ],
             [
              1,
              "#f0f921"
             ]
            ],
            "type": "histogram2dcontour"
           }
          ],
          "mesh3d": [
           {
            "colorbar": {
             "outlinewidth": 0,
             "ticks": ""
            },
            "type": "mesh3d"
           }
          ],
          "parcoords": [
           {
            "line": {
             "colorbar": {
              "outlinewidth": 0,
              "ticks": ""
             }
            },
            "type": "parcoords"
           }
          ],
          "scatter": [
           {
            "marker": {
             "colorbar": {
              "outlinewidth": 0,
              "ticks": ""
             }
            },
            "type": "scatter"
           }
          ],
          "scatter3d": [
           {
            "line": {
             "colorbar": {
              "outlinewidth": 0,
              "ticks": ""
             }
            },
            "marker": {
             "colorbar": {
              "outlinewidth": 0,
              "ticks": ""
             }
            },
            "type": "scatter3d"
           }
          ],
          "scattercarpet": [
           {
            "marker": {
             "colorbar": {
              "outlinewidth": 0,
              "ticks": ""
             }
            },
            "type": "scattercarpet"
           }
          ],
          "scattergeo": [
           {
            "marker": {
             "colorbar": {
              "outlinewidth": 0,
              "ticks": ""
             }
            },
            "type": "scattergeo"
           }
          ],
          "scattergl": [
           {
            "marker": {
             "colorbar": {
              "outlinewidth": 0,
              "ticks": ""
             }
            },
            "type": "scattergl"
           }
          ],
          "scattermapbox": [
           {
            "marker": {
             "colorbar": {
              "outlinewidth": 0,
              "ticks": ""
             }
            },
            "type": "scattermapbox"
           }
          ],
          "scatterpolar": [
           {
            "marker": {
             "colorbar": {
              "outlinewidth": 0,
              "ticks": ""
             }
            },
            "type": "scatterpolar"
           }
          ],
          "scatterpolargl": [
           {
            "marker": {
             "colorbar": {
              "outlinewidth": 0,
              "ticks": ""
             }
            },
            "type": "scatterpolargl"
           }
          ],
          "scatterternary": [
           {
            "marker": {
             "colorbar": {
              "outlinewidth": 0,
              "ticks": ""
             }
            },
            "type": "scatterternary"
           }
          ],
          "surface": [
           {
            "colorbar": {
             "outlinewidth": 0,
             "ticks": ""
            },
            "colorscale": [
             [
              0,
              "#0d0887"
             ],
             [
              0.1111111111111111,
              "#46039f"
             ],
             [
              0.2222222222222222,
              "#7201a8"
             ],
             [
              0.3333333333333333,
              "#9c179e"
             ],
             [
              0.4444444444444444,
              "#bd3786"
             ],
             [
              0.5555555555555556,
              "#d8576b"
             ],
             [
              0.6666666666666666,
              "#ed7953"
             ],
             [
              0.7777777777777778,
              "#fb9f3a"
             ],
             [
              0.8888888888888888,
              "#fdca26"
             ],
             [
              1,
              "#f0f921"
             ]
            ],
            "type": "surface"
           }
          ],
          "table": [
           {
            "cells": {
             "fill": {
              "color": "#EBF0F8"
             },
             "line": {
              "color": "white"
             }
            },
            "header": {
             "fill": {
              "color": "#C8D4E3"
             },
             "line": {
              "color": "white"
             }
            },
            "type": "table"
           }
          ]
         },
         "layout": {
          "annotationdefaults": {
           "arrowcolor": "#2a3f5f",
           "arrowhead": 0,
           "arrowwidth": 1
          },
          "colorscale": {
           "diverging": [
            [
             0,
             "#8e0152"
            ],
            [
             0.1,
             "#c51b7d"
            ],
            [
             0.2,
             "#de77ae"
            ],
            [
             0.3,
             "#f1b6da"
            ],
            [
             0.4,
             "#fde0ef"
            ],
            [
             0.5,
             "#f7f7f7"
            ],
            [
             0.6,
             "#e6f5d0"
            ],
            [
             0.7,
             "#b8e186"
            ],
            [
             0.8,
             "#7fbc41"
            ],
            [
             0.9,
             "#4d9221"
            ],
            [
             1,
             "#276419"
            ]
           ],
           "sequential": [
            [
             0,
             "#0d0887"
            ],
            [
             0.1111111111111111,
             "#46039f"
            ],
            [
             0.2222222222222222,
             "#7201a8"
            ],
            [
             0.3333333333333333,
             "#9c179e"
            ],
            [
             0.4444444444444444,
             "#bd3786"
            ],
            [
             0.5555555555555556,
             "#d8576b"
            ],
            [
             0.6666666666666666,
             "#ed7953"
            ],
            [
             0.7777777777777778,
             "#fb9f3a"
            ],
            [
             0.8888888888888888,
             "#fdca26"
            ],
            [
             1,
             "#f0f921"
            ]
           ],
           "sequentialminus": [
            [
             0,
             "#0d0887"
            ],
            [
             0.1111111111111111,
             "#46039f"
            ],
            [
             0.2222222222222222,
             "#7201a8"
            ],
            [
             0.3333333333333333,
             "#9c179e"
            ],
            [
             0.4444444444444444,
             "#bd3786"
            ],
            [
             0.5555555555555556,
             "#d8576b"
            ],
            [
             0.6666666666666666,
             "#ed7953"
            ],
            [
             0.7777777777777778,
             "#fb9f3a"
            ],
            [
             0.8888888888888888,
             "#fdca26"
            ],
            [
             1,
             "#f0f921"
            ]
           ]
          },
          "colorway": [
           "#636efa",
           "#EF553B",
           "#00cc96",
           "#ab63fa",
           "#FFA15A",
           "#19d3f3",
           "#FF6692",
           "#B6E880",
           "#FF97FF",
           "#FECB52"
          ],
          "font": {
           "color": "#2a3f5f"
          },
          "geo": {
           "bgcolor": "white",
           "lakecolor": "white",
           "landcolor": "#E5ECF6",
           "showlakes": true,
           "showland": true,
           "subunitcolor": "white"
          },
          "hoverlabel": {
           "align": "left"
          },
          "hovermode": "closest",
          "mapbox": {
           "style": "light"
          },
          "paper_bgcolor": "white",
          "plot_bgcolor": "#E5ECF6",
          "polar": {
           "angularaxis": {
            "gridcolor": "white",
            "linecolor": "white",
            "ticks": ""
           },
           "bgcolor": "#E5ECF6",
           "radialaxis": {
            "gridcolor": "white",
            "linecolor": "white",
            "ticks": ""
           }
          },
          "scene": {
           "xaxis": {
            "backgroundcolor": "#E5ECF6",
            "gridcolor": "white",
            "gridwidth": 2,
            "linecolor": "white",
            "showbackground": true,
            "ticks": "",
            "zerolinecolor": "white"
           },
           "yaxis": {
            "backgroundcolor": "#E5ECF6",
            "gridcolor": "white",
            "gridwidth": 2,
            "linecolor": "white",
            "showbackground": true,
            "ticks": "",
            "zerolinecolor": "white"
           },
           "zaxis": {
            "backgroundcolor": "#E5ECF6",
            "gridcolor": "white",
            "gridwidth": 2,
            "linecolor": "white",
            "showbackground": true,
            "ticks": "",
            "zerolinecolor": "white"
           }
          },
          "shapedefaults": {
           "line": {
            "color": "#2a3f5f"
           }
          },
          "ternary": {
           "aaxis": {
            "gridcolor": "white",
            "linecolor": "white",
            "ticks": ""
           },
           "baxis": {
            "gridcolor": "white",
            "linecolor": "white",
            "ticks": ""
           },
           "bgcolor": "#E5ECF6",
           "caxis": {
            "gridcolor": "white",
            "linecolor": "white",
            "ticks": ""
           }
          },
          "title": {
           "x": 0.05
          },
          "xaxis": {
           "automargin": true,
           "gridcolor": "white",
           "linecolor": "white",
           "ticks": "",
           "zerolinecolor": "white",
           "zerolinewidth": 2
          },
          "yaxis": {
           "automargin": true,
           "gridcolor": "white",
           "linecolor": "white",
           "ticks": "",
           "zerolinecolor": "white",
           "zerolinewidth": 2
          }
         }
        },
        "xaxis": {
         "anchor": "y",
         "domain": [
          0,
          0.98
         ],
         "title": {
          "text": "tot_dom_gross"
         }
        },
        "yaxis": {
         "anchor": "x",
         "domain": [
          0,
          1
         ],
         "title": {
          "text": "avg_rating"
         }
        }
       }
      },
      "text/html": [
       "<div>\n",
       "        \n",
       "        \n",
       "            <div id=\"ac27c549-8648-44d5-a627-9ecb2a1fd0cd\" class=\"plotly-graph-div\" style=\"height:600px; width:100%;\"></div>\n",
       "            <script type=\"text/javascript\">\n",
       "                require([\"plotly\"], function(Plotly) {\n",
       "                    window.PLOTLYENV=window.PLOTLYENV || {};\n",
       "                    \n",
       "                if (document.getElementById(\"ac27c549-8648-44d5-a627-9ecb2a1fd0cd\")) {\n",
       "                    Plotly.newPlot(\n",
       "                        'ac27c549-8648-44d5-a627-9ecb2a1fd0cd',\n",
       "                        [{\"customdata\": [[\"Anthony Russo\", 3], [\"Joe Russo\", 3], [\"Francis Lawrence\", 5], [\"Jon Favreau\", 4], [\"Joss Whedon\", 4], [\"Christopher Nolan\", 4], [\"Chris Renaud\", 3], [\"Zack Snyder\", 5], [\"Pierre Coffin\", 3], [\"Bill Condon\", 3], [\"Zane Burden\", 2], [\"Marilyn Barnes\", 2], [\"Ryan Coogler\", 3], [\"Peter Jackson\", 3], [\"Michael Bay\", 4], [\"Paul Feig\", 5], [\"Brad Bird\", 2], [\"Mike Mitchell\", 4], [\"Steven Spielberg\", 7], [\"Bryan Singer\", 4], [\"Colin Trevorrow\", 2], [\"Ridley Scott\", 7], [\"Clint Eastwood\", 6], [\"Lee Unkrich\", 2], [\"Kyle Balda\", 2], [\"Phil Lord\", 3], [\"Christopher Miller\", 3], [\"Andrew Stanton\", 2], [\"Jake Kasdan\", 3], [\"Byron Howard\", 2], [\"Rob Marshall\", 3], [\"Tom McGrath\", 3], [\"Rich Moore\", 2], [\"James Wan\", 3], [\"David Yates\", 3], [\"Sam Mendes\", 2], [\"Don Hall\", 3], [\"Marc Webb\", 3], [\"Angus MacLane\", 1], [\"Genndy Tartakovsky\", 3], [\"Jon M. Chu\", 6], [\"Chris Williams\", 2], [\"Kenneth Branagh\", 3], [\"Tim Burton\", 5], [\"David Ayer\", 5], [\"Antoine Fuqua\", 5], [\"Tim Story\", 7], [\"J.A. Bayona\", 3], [\"James Mangold\", 3], [\"David O. Russell\", 5], [\"Gary Ross\", 2], [\"David Leitch\", 3], [\"Patty Jenkins\", 1], [\"Michael Colburn\", 1], [\"Renzo Aner\\u00f6d\", 1], [\"Hanna Aner\\u00f6d\", 1], [\"Jonathan Liebesman\", 3], [\"Brad Peyton\", 5], [\"Jun Falkenstein\", 2], [\"Kevin Johnson\", 2], [\"Chris Sanders\", 2], [\"Chris Buck\", 1], [\"Jennifer Lee\", 1], [\"Adam Green\", 1], [\"Andy Muschietti\", 2], [\"Todd Phillips\", 3], [\"Peyton Reed\", 2], [\"M. Night Shyamalan\", 4], [\"Dean DeBlois\", 2], [\"F. Gary Gray\", 2], [\"Dennis Dugan\", 3], [\"Justin Lin\", 2], [\"Yarrow Cheney\", 1], [\"Nicholas Stoller\", 5], [\"Matt Reeves\", 3], [\"David Fincher\", 3], [\"Adam McKay\", 4], [\"Tim Miller\", 1], [\"Carlos Saldanha\", 3], [\"Ronnie Del Carmen\", 1], [\"Pete Docter\", 1], [\"Artie Mandelberg\", 1], [\"Alastair Siddons\", 1], [\"J.J. Abrams\", 2], [\"Ron Howard\", 5], [\"Kay Cannon\", 3], [\"Rawson Marshall Thurber\", 3], [\"Shawn Levy\", 4], [\"Jared Bush\", 1], [\"Neil Burger\", 3], [\"Gareth Edwards\", 3], [\"Jon Watts\", 2], [\"James Fotopoulos\", 2], [\"Fernando J. Scarpa\", 2], [\"Giuseppe Malpasso\", 2], [\"James Gunn\", 2], [\"Martin Scorsese\", 4], [\"Jennifer Yuh Nelson\", 3], [\"David Gordon Green\", 8], [\"Peter Berg\", 6]], \"hoverlabel\": {\"namelength\": 0}, \"hovertemplate\": \"tot_dom_gross=%{x}<br>avg_rating=%{y}<br>primary_name=%{customdata[0]}<br>num_movies=%{customdata[1]}<br>avg_budg=%{marker.color}\", \"legendgroup\": \"\", \"marker\": {\"color\": [240000000.0, 240000000.0, 104400000.0, 112825000.0, 155900000.0, 187500000.0, 73333333.33333333, 190000000.0, 73333333.33333333, 68666666.66666667, 90000000.0, 90000000.0, 79300000.0, 250000000.0, 162000000.0, 53900000.0, 185000000.0, 111000000.0, 92142857.14285716, 157000000.0, 107875000.0, 114857142.85714284, 45500000.0, 187500000.0, 74500000.0, 50666666.66666666, 50666666.66666666, 237500000.0, 49666666.66666666, 205000000.0, 198933333.3333333, 133333333.33333331, 157500000.0, 60500000.0, 186666666.66666663, 250000000.0, 115000000.0, 142333333.33333334, 200000000.0, 76666666.66666667, 51333333.33333334, 157500000.0, 82633333.33333333, 80400000.0, 79000000.0, 64400000.0, 16321428.57142857, 84333333.33333333, 119666666.66666669, 31600000.0, 65000000.0, 56666666.66666666, 150000000.0, 150000000.0, 150000000.0, 150000000.0, 96166666.66666669, 79800000.0, 101000000.0, 101000000.0, 150000000.0, 150000000.0, 150000000.0, 150000000.0, 25000000.0, 65000000.0, 130000000.0, 72500000.0, 155000000.0, 139000000.0, 78000000.0, 155000000.0, 75000000.0, 38600000.0, 114000000.0, 63666666.66666666, 59500000.0, 58000000.0, 110333333.33333331, 175000000.0, 175000000.0, 175000000.0, 175000000.0, 120000000.0, 111600000.0, 39633333.333333336, 70666666.66666667, 87500000.0, 150000000.0, 49833333.33333334, 95166666.66666669, 90000000.0, 101500000.0, 101500000.0, 101500000.0, 86250000.0, 101625000.0, 108000000.0, 17290625.0, 82750000.0], \"coloraxis\": \"coloraxis\", \"line\": {\"width\": 1}, \"size\": 15, \"symbol\": \"circle\"}, \"mode\": \"markers\", \"name\": \"\", \"showlegend\": false, \"type\": \"scatter\", \"x\": [1346646789, 1346646789, 1149112056, 1142562693, 1128220169, 1118801468, 987963700, 942497822, 884203670, 883325603, 880071431, 880071431, 825926145, 816490211, 777873593, 752904932, 702018066, 688545272, 687074317, 670854965, 656281582, 647472782, 628572675, 624730895, 600670070, 587951722, 587951722, 559354240, 543345245, 542090184, 541024685, 539810368, 530680925, 526471098, 520236537, 504434452, 497977718, 489685808, 486295561, 485513250, 479730294, 471284872, 467181977, 463688078, 462429849, 448397300, 445182672, 440480465, 435256955, 432279006, 428820728, 419203495, 412563408, 412563408, 412563408, 412563408, 410140752, 408464882, 408344079, 408344079, 404749657, 400738009, 400738009, 400738009, 399109928, 398037871, 396850903, 395641974, 394584156, 386962550, 369827868, 368879665, 368384330, 367960619, 367560686, 367245676, 364668837, 363070709, 359568624, 356461711, 356461711, 356461711, 356461711, 355782840, 348554758, 346462848, 346255110, 342594098, 341268248, 338432847, 337227664, 334335692, 334191110, 334191110, 334191110, 333499828, 325878312, 321473373, 321466961, 320818159], \"xaxis\": \"x\", \"y\": [7.800000000000002, 7.800000000000002, 6.880000000000001, 7.15, 7.425, 7.9, 6.733333333333333, 6.22, 6.800000000000002, 7.1000000000000005, 7.7, 7.7, 6.6000000000000005, 7.366666666666667, 6.0, 6.1, 6.9, 5.975, 6.9714285714285715, 6.925, 6.75, 6.2, 6.466666666666666, 7.949999999999998, 6.35, 7.033333333333334, 7.033333333333334, 6.55, 5.833333333333332, 7.6, 6.233333333333333, 6.566666666666667, 7.5, 7.066666666666667, 6.7, 6.75, 7.066666666666666, 6.933333333333334, 7.0, 6.800000000000002, 6.1000000000000005, 7.15, 6.7, 6.58, 6.460000000000001, 6.6800000000000015, 6.628571428571429, 6.933333333333334, 6.133333333333333, 6.34, 6.85, 7.0, 5.9, 5.9, 5.9, 5.9, 5.7333333333333325, 5.659999999999998, 6.8, 6.8, 7.25, 5.8, 5.8, 5.8, 6.65, 6.5, 7.05, 5.3, 7.7, 7.300000000000002, 5.366666666666667, 6.95, 6.1, 6.0200000000000005, 7.0, 7.466666666666666, 5.9750000000000005, 7.6, 6.666666666666668, 4.4, 4.4, 4.4, 4.4, 7.050000000000002, 6.419999999999999, 6.5, 6.4, 6.275, 7.7, 7.099999999999999, 6.133333333333333, 6.6, 6.6, 6.6, 6.6, 7.25, 7.549999999999999, 6.7333333333333325, 5.825, 5.9833333333333325], \"yaxis\": \"y\"}],\n",
       "                        {\"coloraxis\": {\"colorbar\": {\"title\": {\"text\": \"avg_budg\"}}, \"colorscale\": [[0.0, \"#0d0887\"], [0.1111111111111111, \"#46039f\"], [0.2222222222222222, \"#7201a8\"], [0.3333333333333333, \"#9c179e\"], [0.4444444444444444, \"#bd3786\"], [0.5555555555555556, \"#d8576b\"], [0.6666666666666666, \"#ed7953\"], [0.7777777777777778, \"#fb9f3a\"], [0.8888888888888888, \"#fdca26\"], [1.0, \"#f0f921\"]]}, \"height\": 600, \"legend\": {\"tracegroupgap\": 0}, \"margin\": {\"t\": 60}, \"template\": {\"data\": {\"bar\": [{\"error_x\": {\"color\": \"#2a3f5f\"}, \"error_y\": {\"color\": \"#2a3f5f\"}, \"marker\": {\"line\": {\"color\": \"#E5ECF6\", \"width\": 0.5}}, \"type\": \"bar\"}], \"barpolar\": [{\"marker\": {\"line\": {\"color\": \"#E5ECF6\", \"width\": 0.5}}, \"type\": \"barpolar\"}], \"carpet\": [{\"aaxis\": {\"endlinecolor\": \"#2a3f5f\", \"gridcolor\": \"white\", \"linecolor\": \"white\", \"minorgridcolor\": \"white\", \"startlinecolor\": \"#2a3f5f\"}, \"baxis\": {\"endlinecolor\": \"#2a3f5f\", \"gridcolor\": \"white\", \"linecolor\": \"white\", \"minorgridcolor\": \"white\", \"startlinecolor\": \"#2a3f5f\"}, \"type\": \"carpet\"}], \"choropleth\": [{\"colorbar\": {\"outlinewidth\": 0, \"ticks\": \"\"}, \"type\": \"choropleth\"}], \"contour\": [{\"colorbar\": {\"outlinewidth\": 0, \"ticks\": \"\"}, \"colorscale\": [[0.0, \"#0d0887\"], [0.1111111111111111, \"#46039f\"], [0.2222222222222222, \"#7201a8\"], [0.3333333333333333, \"#9c179e\"], [0.4444444444444444, \"#bd3786\"], [0.5555555555555556, \"#d8576b\"], [0.6666666666666666, \"#ed7953\"], [0.7777777777777778, \"#fb9f3a\"], [0.8888888888888888, \"#fdca26\"], [1.0, \"#f0f921\"]], \"type\": \"contour\"}], \"contourcarpet\": [{\"colorbar\": {\"outlinewidth\": 0, \"ticks\": \"\"}, \"type\": \"contourcarpet\"}], \"heatmap\": [{\"colorbar\": {\"outlinewidth\": 0, \"ticks\": \"\"}, \"colorscale\": [[0.0, \"#0d0887\"], [0.1111111111111111, \"#46039f\"], [0.2222222222222222, \"#7201a8\"], [0.3333333333333333, \"#9c179e\"], [0.4444444444444444, \"#bd3786\"], [0.5555555555555556, \"#d8576b\"], [0.6666666666666666, \"#ed7953\"], [0.7777777777777778, \"#fb9f3a\"], [0.8888888888888888, \"#fdca26\"], [1.0, \"#f0f921\"]], \"type\": \"heatmap\"}], \"heatmapgl\": [{\"colorbar\": {\"outlinewidth\": 0, \"ticks\": \"\"}, \"colorscale\": [[0.0, \"#0d0887\"], [0.1111111111111111, \"#46039f\"], [0.2222222222222222, \"#7201a8\"], [0.3333333333333333, \"#9c179e\"], [0.4444444444444444, \"#bd3786\"], [0.5555555555555556, \"#d8576b\"], [0.6666666666666666, \"#ed7953\"], [0.7777777777777778, \"#fb9f3a\"], [0.8888888888888888, \"#fdca26\"], [1.0, \"#f0f921\"]], \"type\": \"heatmapgl\"}], \"histogram\": [{\"marker\": {\"colorbar\": {\"outlinewidth\": 0, \"ticks\": \"\"}}, \"type\": \"histogram\"}], \"histogram2d\": [{\"colorbar\": {\"outlinewidth\": 0, \"ticks\": \"\"}, \"colorscale\": [[0.0, \"#0d0887\"], [0.1111111111111111, \"#46039f\"], [0.2222222222222222, \"#7201a8\"], [0.3333333333333333, \"#9c179e\"], [0.4444444444444444, \"#bd3786\"], [0.5555555555555556, \"#d8576b\"], [0.6666666666666666, \"#ed7953\"], [0.7777777777777778, \"#fb9f3a\"], [0.8888888888888888, \"#fdca26\"], [1.0, \"#f0f921\"]], \"type\": \"histogram2d\"}], \"histogram2dcontour\": [{\"colorbar\": {\"outlinewidth\": 0, \"ticks\": \"\"}, \"colorscale\": [[0.0, \"#0d0887\"], [0.1111111111111111, \"#46039f\"], [0.2222222222222222, \"#7201a8\"], [0.3333333333333333, \"#9c179e\"], [0.4444444444444444, \"#bd3786\"], [0.5555555555555556, \"#d8576b\"], [0.6666666666666666, \"#ed7953\"], [0.7777777777777778, \"#fb9f3a\"], [0.8888888888888888, \"#fdca26\"], [1.0, \"#f0f921\"]], \"type\": \"histogram2dcontour\"}], \"mesh3d\": [{\"colorbar\": {\"outlinewidth\": 0, \"ticks\": \"\"}, \"type\": \"mesh3d\"}], \"parcoords\": [{\"line\": {\"colorbar\": {\"outlinewidth\": 0, \"ticks\": \"\"}}, \"type\": \"parcoords\"}], \"scatter\": [{\"marker\": {\"colorbar\": {\"outlinewidth\": 0, \"ticks\": \"\"}}, \"type\": \"scatter\"}], \"scatter3d\": [{\"line\": {\"colorbar\": {\"outlinewidth\": 0, \"ticks\": \"\"}}, \"marker\": {\"colorbar\": {\"outlinewidth\": 0, \"ticks\": \"\"}}, \"type\": \"scatter3d\"}], \"scattercarpet\": [{\"marker\": {\"colorbar\": {\"outlinewidth\": 0, \"ticks\": \"\"}}, \"type\": \"scattercarpet\"}], \"scattergeo\": [{\"marker\": {\"colorbar\": {\"outlinewidth\": 0, \"ticks\": \"\"}}, \"type\": \"scattergeo\"}], \"scattergl\": [{\"marker\": {\"colorbar\": {\"outlinewidth\": 0, \"ticks\": \"\"}}, \"type\": \"scattergl\"}], \"scattermapbox\": [{\"marker\": {\"colorbar\": {\"outlinewidth\": 0, \"ticks\": \"\"}}, \"type\": \"scattermapbox\"}], \"scatterpolar\": [{\"marker\": {\"colorbar\": {\"outlinewidth\": 0, \"ticks\": \"\"}}, \"type\": \"scatterpolar\"}], \"scatterpolargl\": [{\"marker\": {\"colorbar\": {\"outlinewidth\": 0, \"ticks\": \"\"}}, \"type\": \"scatterpolargl\"}], \"scatterternary\": [{\"marker\": {\"colorbar\": {\"outlinewidth\": 0, \"ticks\": \"\"}}, \"type\": \"scatterternary\"}], \"surface\": [{\"colorbar\": {\"outlinewidth\": 0, \"ticks\": \"\"}, \"colorscale\": [[0.0, \"#0d0887\"], [0.1111111111111111, \"#46039f\"], [0.2222222222222222, \"#7201a8\"], [0.3333333333333333, \"#9c179e\"], [0.4444444444444444, \"#bd3786\"], [0.5555555555555556, \"#d8576b\"], [0.6666666666666666, \"#ed7953\"], [0.7777777777777778, \"#fb9f3a\"], [0.8888888888888888, \"#fdca26\"], [1.0, \"#f0f921\"]], \"type\": \"surface\"}], \"table\": [{\"cells\": {\"fill\": {\"color\": \"#EBF0F8\"}, \"line\": {\"color\": \"white\"}}, \"header\": {\"fill\": {\"color\": \"#C8D4E3\"}, \"line\": {\"color\": \"white\"}}, \"type\": \"table\"}]}, \"layout\": {\"annotationdefaults\": {\"arrowcolor\": \"#2a3f5f\", \"arrowhead\": 0, \"arrowwidth\": 1}, \"colorscale\": {\"diverging\": [[0, \"#8e0152\"], [0.1, \"#c51b7d\"], [0.2, \"#de77ae\"], [0.3, \"#f1b6da\"], [0.4, \"#fde0ef\"], [0.5, \"#f7f7f7\"], [0.6, \"#e6f5d0\"], [0.7, \"#b8e186\"], [0.8, \"#7fbc41\"], [0.9, \"#4d9221\"], [1, \"#276419\"]], \"sequential\": [[0.0, \"#0d0887\"], [0.1111111111111111, \"#46039f\"], [0.2222222222222222, \"#7201a8\"], [0.3333333333333333, \"#9c179e\"], [0.4444444444444444, \"#bd3786\"], [0.5555555555555556, \"#d8576b\"], [0.6666666666666666, \"#ed7953\"], [0.7777777777777778, \"#fb9f3a\"], [0.8888888888888888, \"#fdca26\"], [1.0, \"#f0f921\"]], \"sequentialminus\": [[0.0, \"#0d0887\"], [0.1111111111111111, \"#46039f\"], [0.2222222222222222, \"#7201a8\"], [0.3333333333333333, \"#9c179e\"], [0.4444444444444444, \"#bd3786\"], [0.5555555555555556, \"#d8576b\"], [0.6666666666666666, \"#ed7953\"], [0.7777777777777778, \"#fb9f3a\"], [0.8888888888888888, \"#fdca26\"], [1.0, \"#f0f921\"]]}, \"colorway\": [\"#636efa\", \"#EF553B\", \"#00cc96\", \"#ab63fa\", \"#FFA15A\", \"#19d3f3\", \"#FF6692\", \"#B6E880\", \"#FF97FF\", \"#FECB52\"], \"font\": {\"color\": \"#2a3f5f\"}, \"geo\": {\"bgcolor\": \"white\", \"lakecolor\": \"white\", \"landcolor\": \"#E5ECF6\", \"showlakes\": true, \"showland\": true, \"subunitcolor\": \"white\"}, \"hoverlabel\": {\"align\": \"left\"}, \"hovermode\": \"closest\", \"mapbox\": {\"style\": \"light\"}, \"paper_bgcolor\": \"white\", \"plot_bgcolor\": \"#E5ECF6\", \"polar\": {\"angularaxis\": {\"gridcolor\": \"white\", \"linecolor\": \"white\", \"ticks\": \"\"}, \"bgcolor\": \"#E5ECF6\", \"radialaxis\": {\"gridcolor\": \"white\", \"linecolor\": \"white\", \"ticks\": \"\"}}, \"scene\": {\"xaxis\": {\"backgroundcolor\": \"#E5ECF6\", \"gridcolor\": \"white\", \"gridwidth\": 2, \"linecolor\": \"white\", \"showbackground\": true, \"ticks\": \"\", \"zerolinecolor\": \"white\"}, \"yaxis\": {\"backgroundcolor\": \"#E5ECF6\", \"gridcolor\": \"white\", \"gridwidth\": 2, \"linecolor\": \"white\", \"showbackground\": true, \"ticks\": \"\", \"zerolinecolor\": \"white\"}, \"zaxis\": {\"backgroundcolor\": \"#E5ECF6\", \"gridcolor\": \"white\", \"gridwidth\": 2, \"linecolor\": \"white\", \"showbackground\": true, \"ticks\": \"\", \"zerolinecolor\": \"white\"}}, \"shapedefaults\": {\"line\": {\"color\": \"#2a3f5f\"}}, \"ternary\": {\"aaxis\": {\"gridcolor\": \"white\", \"linecolor\": \"white\", \"ticks\": \"\"}, \"baxis\": {\"gridcolor\": \"white\", \"linecolor\": \"white\", \"ticks\": \"\"}, \"bgcolor\": \"#E5ECF6\", \"caxis\": {\"gridcolor\": \"white\", \"linecolor\": \"white\", \"ticks\": \"\"}}, \"title\": {\"x\": 0.05}, \"xaxis\": {\"automargin\": true, \"gridcolor\": \"white\", \"linecolor\": \"white\", \"ticks\": \"\", \"zerolinecolor\": \"white\", \"zerolinewidth\": 2}, \"yaxis\": {\"automargin\": true, \"gridcolor\": \"white\", \"linecolor\": \"white\", \"ticks\": \"\", \"zerolinecolor\": \"white\", \"zerolinewidth\": 2}}}, \"xaxis\": {\"anchor\": \"y\", \"domain\": [0.0, 0.98], \"title\": {\"text\": \"tot_dom_gross\"}}, \"yaxis\": {\"anchor\": \"x\", \"domain\": [0.0, 1.0], \"title\": {\"text\": \"avg_rating\"}}},\n",
       "                        {\"responsive\": true}\n",
       "                    ).then(function(){\n",
       "                            \n",
       "var gd = document.getElementById('ac27c549-8648-44d5-a627-9ecb2a1fd0cd');\n",
       "var x = new MutationObserver(function (mutations, observer) {{\n",
       "        var display = window.getComputedStyle(gd).display;\n",
       "        if (!display || display === 'none') {{\n",
       "            console.log([gd, 'removed!']);\n",
       "            Plotly.purge(gd);\n",
       "            observer.disconnect();\n",
       "        }}\n",
       "}});\n",
       "\n",
       "// Listen for the removal of the full notebook cells\n",
       "var notebookContainer = gd.closest('#notebook-container');\n",
       "if (notebookContainer) {{\n",
       "    x.observe(notebookContainer, {childList: true});\n",
       "}}\n",
       "\n",
       "// Listen for the clearing of the current output cell\n",
       "var outputEl = gd.closest('.output');\n",
       "if (outputEl) {{\n",
       "    x.observe(outputEl, {childList: true});\n",
       "}}\n",
       "\n",
       "                        })\n",
       "                };\n",
       "                });\n",
       "            </script>\n",
       "        </div>"
      ]
     },
     "metadata": {},
     "output_type": "display_data"
    }
   ],
   "source": [
    "#Graph of Successful Directors to work with\n",
    "#Who has experience, and who can do the most with the smallest budget?\n",
    "print('Which directors can create the most successful movies with reasonable budgets?')\n",
    "print('Top 100 directors by domestic gross')\n",
    "fig5 = px.scatter(df7, x='tot_dom_gross', y='avg_rating', \n",
    "                hover_data=['primary_name', 'num_movies'], color = 'avg_budg')\n",
    "fig5.update_traces(mode='markers', marker_line_width=1, marker_size=15)\n",
    "fig5.show()"
   ]
  },
  {
   "cell_type": "markdown",
   "metadata": {},
   "source": [
    "# Conclusions:"
   ]
  },
  {
   "cell_type": "markdown",
   "metadata": {},
   "source": [
    "- __Budget isn't Everything:__ \n",
    "    - When it comes to ratings, there's little to no correlation between budget and rating.\n",
    "- __Directors to Work With:__ (ordered by domestic gross, avg rating above 7.5, avg budget around or under 100m)\n",
    "    - Marilyn Barnes - Chicago and Beauty and the Beast\n",
    "    - Tim Miller - Deadpool\n",
    "    - Martin Scoresese - The Wolf of Wall Street\n",
    "- __Runtime to Target:__\n",
    "    - Longer runtimes tend to rate better (within reason!).  Aim for 120 minutes or more.\n",
    "- __Studios to Acquire/Partner:__ (medium budget, medium gross revenue level, but above average ratings)\n",
    "    - MBox - Girl with Dragon Tattoo and Ida, med budget and gross, but great ratings.\n",
    "    - Neon - I, Tonya, 30mil for 11mil budget, high rating \n",
    "    - Lantern Entertainment (previously known as Weinstein company), high movie count, avg domestic gross, better than average ratings\n",
    "    - TriS - John Wick, Looper, similarly lower budget, higher rated movies with avg domestic gross\n",
    "- __Genres to Pursue:__\n",
    "    - Mystery\n",
    "    - Biography"
   ]
  },
  {
   "cell_type": "code",
   "execution_count": null,
   "metadata": {},
   "outputs": [],
   "source": []
  }
 ],
 "metadata": {
  "kernelspec": {
   "display_name": "Python 3",
   "language": "python",
   "name": "python3"
  },
  "language_info": {
   "codemirror_mode": {
    "name": "ipython",
    "version": 3
   },
   "file_extension": ".py",
   "mimetype": "text/x-python",
   "name": "python",
   "nbconvert_exporter": "python",
   "pygments_lexer": "ipython3",
   "version": "3.6.9"
  },
  "toc": {
   "base_numbering": 1,
   "nav_menu": {},
   "number_sections": true,
   "sideBar": true,
   "skip_h1_title": false,
   "title_cell": "Table of Contents",
   "title_sidebar": "Contents",
   "toc_cell": false,
   "toc_position": {},
   "toc_section_display": true,
   "toc_window_display": true
  }
 },
 "nbformat": 4,
 "nbformat_minor": 2
}
