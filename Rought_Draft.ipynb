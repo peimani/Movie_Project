{
 "cells": [
  {
   "cell_type": "markdown",
   "metadata": {},
   "source": [
    "# Q: What is the Highest Grossing Movie With The Least Production Cost?"
   ]
  },
  {
   "cell_type": "code",
   "execution_count": 308,
   "metadata": {
    "ExecuteTime": {
     "end_time": "2020-06-20T21:40:27.658448Z",
     "start_time": "2020-06-20T21:40:27.654569Z"
    }
   },
   "outputs": [],
   "source": [
    "import sqlite3\n",
    "import os\n",
    "import pandas as pd\n",
    "import numpy as np\n",
    "import matplotlib.pyplot as plt\n",
    "import seaborn as sns\n",
    "from glob import glob"
   ]
  },
  {
   "cell_type": "code",
   "execution_count": 309,
   "metadata": {
    "ExecuteTime": {
     "end_time": "2020-06-20T21:40:27.667989Z",
     "start_time": "2020-06-20T21:40:27.661530Z"
    }
   },
   "outputs": [
    {
     "data": {
      "text/plain": [
       "['./zippedData/imdb.title.crew.csv.gz',\n",
       " './zippedData/tmdb.movies.csv.gz',\n",
       " './zippedData/imdb.title.akas.csv.gz',\n",
       " './zippedData/imdb.title.ratings.csv.gz',\n",
       " './zippedData/imdb.name.basics.csv.gz',\n",
       " './zippedData/imdb.title.basics.csv.gz',\n",
       " './zippedData/tn.movie_budgets.csv.gz',\n",
       " './zippedData/bom.movie_gross.csv.gz',\n",
       " './zippedData/imdb.title.principals.csv.gz']"
      ]
     },
     "execution_count": 309,
     "metadata": {},
     "output_type": "execute_result"
    }
   ],
   "source": [
    "csv_files = glob(\"./zippedData/*.csv.gz\")\n",
    "csv_files"
   ]
  },
  {
   "cell_type": "code",
   "execution_count": 310,
   "metadata": {
    "ExecuteTime": {
     "end_time": "2020-06-20T21:40:32.541045Z",
     "start_time": "2020-06-20T21:40:27.670666Z"
    }
   },
   "outputs": [],
   "source": [
    "csv_files_dict = {}\n",
    "for filename in csv_files:\n",
    "    filename_cleaned = os.path.basename(filename).replace(\".csv\", \"\").replace(\".\", \"_\") # cleaning the filenames\n",
    "    filename_df = pd.read_csv(filename, index_col=0)\n",
    "    csv_files_dict[filename_cleaned] = filename_df\n"
   ]
  },
  {
   "cell_type": "code",
   "execution_count": 311,
   "metadata": {
    "ExecuteTime": {
     "end_time": "2020-06-20T21:40:32.547197Z",
     "start_time": "2020-06-20T21:40:32.544351Z"
    }
   },
   "outputs": [],
   "source": [
    "#End of importing files and libraries"
   ]
  },
  {
   "cell_type": "code",
   "execution_count": 312,
   "metadata": {
    "ExecuteTime": {
     "end_time": "2020-06-20T21:40:32.554759Z",
     "start_time": "2020-06-20T21:40:32.549304Z"
    }
   },
   "outputs": [],
   "source": [
    "# create dataframes out of each file\n",
    "title_crew_df = csv_files_dict['imdb_title_crew_gz']\n",
    "movies_df = csv_files_dict['tmdb_movies_gz']\n",
    "title_akas_df = csv_files_dict['imdb_title_akas_gz']\n",
    "title_ratings_df = csv_files_dict['imdb_title_ratings_gz']\n",
    "name_basics_df = csv_files_dict['imdb_name_basics_gz']\n",
    "title_basics_df = csv_files_dict['imdb_title_basics_gz']\n",
    "movie_budgets_df = csv_files_dict['tn_movie_budgets_gz']\n",
    "movie_gross_df = csv_files_dict['bom_movie_gross_gz']\n",
    "title_principals_df = csv_files_dict['imdb_title_principals_gz']"
   ]
  },
  {
   "cell_type": "code",
   "execution_count": 313,
   "metadata": {
    "ExecuteTime": {
     "end_time": "2020-06-20T21:40:32.596208Z",
     "start_time": "2020-06-20T21:40:32.556866Z"
    }
   },
   "outputs": [
    {
     "data": {
      "text/html": [
       "<div>\n",
       "<style scoped>\n",
       "    .dataframe tbody tr th:only-of-type {\n",
       "        vertical-align: middle;\n",
       "    }\n",
       "\n",
       "    .dataframe tbody tr th {\n",
       "        vertical-align: top;\n",
       "    }\n",
       "\n",
       "    .dataframe thead th {\n",
       "        text-align: right;\n",
       "    }\n",
       "</style>\n",
       "<table border=\"1\" class=\"dataframe\">\n",
       "  <thead>\n",
       "    <tr style=\"text-align: right;\">\n",
       "      <th></th>\n",
       "      <th>release_date</th>\n",
       "      <th>movie</th>\n",
       "      <th>production_budget</th>\n",
       "      <th>domestic_gross</th>\n",
       "      <th>worldwide_gross</th>\n",
       "    </tr>\n",
       "  </thead>\n",
       "  <tbody>\n",
       "    <tr>\n",
       "      <th>count</th>\n",
       "      <td>5782</td>\n",
       "      <td>5782</td>\n",
       "      <td>5782</td>\n",
       "      <td>5782</td>\n",
       "      <td>5782</td>\n",
       "    </tr>\n",
       "    <tr>\n",
       "      <th>unique</th>\n",
       "      <td>2418</td>\n",
       "      <td>5698</td>\n",
       "      <td>509</td>\n",
       "      <td>5164</td>\n",
       "      <td>5356</td>\n",
       "    </tr>\n",
       "    <tr>\n",
       "      <th>top</th>\n",
       "      <td>Dec 31, 2014</td>\n",
       "      <td>King Kong</td>\n",
       "      <td>$20,000,000</td>\n",
       "      <td>$0</td>\n",
       "      <td>$0</td>\n",
       "    </tr>\n",
       "    <tr>\n",
       "      <th>freq</th>\n",
       "      <td>24</td>\n",
       "      <td>3</td>\n",
       "      <td>231</td>\n",
       "      <td>548</td>\n",
       "      <td>367</td>\n",
       "    </tr>\n",
       "  </tbody>\n",
       "</table>\n",
       "</div>"
      ],
      "text/plain": [
       "        release_date      movie production_budget domestic_gross  \\\n",
       "count           5782       5782              5782           5782   \n",
       "unique          2418       5698               509           5164   \n",
       "top     Dec 31, 2014  King Kong       $20,000,000             $0   \n",
       "freq              24          3               231            548   \n",
       "\n",
       "       worldwide_gross  \n",
       "count             5782  \n",
       "unique            5356  \n",
       "top                 $0  \n",
       "freq               367  "
      ]
     },
     "execution_count": 313,
     "metadata": {},
     "output_type": "execute_result"
    }
   ],
   "source": [
    "#turn movie budgets file into a dataframe and find out it's type\n",
    "\n",
    "type(movie_budgets_df)\n",
    "movie_budgets_df.describe()"
   ]
  },
  {
   "cell_type": "code",
   "execution_count": 314,
   "metadata": {
    "ExecuteTime": {
     "end_time": "2020-06-20T21:40:32.603904Z",
     "start_time": "2020-06-20T21:40:32.599854Z"
    }
   },
   "outputs": [
    {
     "data": {
      "text/plain": [
       "(5782, 5)"
      ]
     },
     "execution_count": 314,
     "metadata": {},
     "output_type": "execute_result"
    }
   ],
   "source": [
    "#find out how many rows and columns in the file\n",
    "movie_budgets_df.shape"
   ]
  },
  {
   "cell_type": "code",
   "execution_count": 315,
   "metadata": {
    "ExecuteTime": {
     "end_time": "2020-06-20T21:40:32.619679Z",
     "start_time": "2020-06-20T21:40:32.606845Z"
    }
   },
   "outputs": [
    {
     "data": {
      "text/html": [
       "<div>\n",
       "<style scoped>\n",
       "    .dataframe tbody tr th:only-of-type {\n",
       "        vertical-align: middle;\n",
       "    }\n",
       "\n",
       "    .dataframe tbody tr th {\n",
       "        vertical-align: top;\n",
       "    }\n",
       "\n",
       "    .dataframe thead th {\n",
       "        text-align: right;\n",
       "    }\n",
       "</style>\n",
       "<table border=\"1\" class=\"dataframe\">\n",
       "  <thead>\n",
       "    <tr style=\"text-align: right;\">\n",
       "      <th></th>\n",
       "      <th>release_date</th>\n",
       "      <th>movie</th>\n",
       "      <th>production_budget</th>\n",
       "      <th>domestic_gross</th>\n",
       "      <th>worldwide_gross</th>\n",
       "    </tr>\n",
       "    <tr>\n",
       "      <th>id</th>\n",
       "      <th></th>\n",
       "      <th></th>\n",
       "      <th></th>\n",
       "      <th></th>\n",
       "      <th></th>\n",
       "    </tr>\n",
       "  </thead>\n",
       "  <tbody>\n",
       "    <tr>\n",
       "      <th>1</th>\n",
       "      <td>Dec 18, 2009</td>\n",
       "      <td>Avatar</td>\n",
       "      <td>$425,000,000</td>\n",
       "      <td>$760,507,625</td>\n",
       "      <td>$2,776,345,279</td>\n",
       "    </tr>\n",
       "    <tr>\n",
       "      <th>2</th>\n",
       "      <td>May 20, 2011</td>\n",
       "      <td>Pirates of the Caribbean: On Stranger Tides</td>\n",
       "      <td>$410,600,000</td>\n",
       "      <td>$241,063,875</td>\n",
       "      <td>$1,045,663,875</td>\n",
       "    </tr>\n",
       "    <tr>\n",
       "      <th>3</th>\n",
       "      <td>Jun 7, 2019</td>\n",
       "      <td>Dark Phoenix</td>\n",
       "      <td>$350,000,000</td>\n",
       "      <td>$42,762,350</td>\n",
       "      <td>$149,762,350</td>\n",
       "    </tr>\n",
       "    <tr>\n",
       "      <th>4</th>\n",
       "      <td>May 1, 2015</td>\n",
       "      <td>Avengers: Age of Ultron</td>\n",
       "      <td>$330,600,000</td>\n",
       "      <td>$459,005,868</td>\n",
       "      <td>$1,403,013,963</td>\n",
       "    </tr>\n",
       "    <tr>\n",
       "      <th>5</th>\n",
       "      <td>Dec 15, 2017</td>\n",
       "      <td>Star Wars Ep. VIII: The Last Jedi</td>\n",
       "      <td>$317,000,000</td>\n",
       "      <td>$620,181,382</td>\n",
       "      <td>$1,316,721,747</td>\n",
       "    </tr>\n",
       "  </tbody>\n",
       "</table>\n",
       "</div>"
      ],
      "text/plain": [
       "    release_date                                        movie  \\\n",
       "id                                                              \n",
       "1   Dec 18, 2009                                       Avatar   \n",
       "2   May 20, 2011  Pirates of the Caribbean: On Stranger Tides   \n",
       "3    Jun 7, 2019                                 Dark Phoenix   \n",
       "4    May 1, 2015                      Avengers: Age of Ultron   \n",
       "5   Dec 15, 2017            Star Wars Ep. VIII: The Last Jedi   \n",
       "\n",
       "   production_budget domestic_gross worldwide_gross  \n",
       "id                                                   \n",
       "1       $425,000,000   $760,507,625  $2,776,345,279  \n",
       "2       $410,600,000   $241,063,875  $1,045,663,875  \n",
       "3       $350,000,000    $42,762,350    $149,762,350  \n",
       "4       $330,600,000   $459,005,868  $1,403,013,963  \n",
       "5       $317,000,000   $620,181,382  $1,316,721,747  "
      ]
     },
     "execution_count": 315,
     "metadata": {},
     "output_type": "execute_result"
    }
   ],
   "source": [
    "#look at the first five rows of the dataframe\n",
    "movie_budgets_df.head()"
   ]
  },
  {
   "cell_type": "code",
   "execution_count": 316,
   "metadata": {
    "ExecuteTime": {
     "end_time": "2020-06-20T21:40:32.630167Z",
     "start_time": "2020-06-20T21:40:32.621627Z"
    }
   },
   "outputs": [
    {
     "name": "stdout",
     "output_type": "stream",
     "text": [
      "<class 'pandas.core.frame.DataFrame'>\n",
      "Int64Index: 5782 entries, 1 to 82\n",
      "Data columns (total 5 columns):\n",
      " #   Column             Non-Null Count  Dtype \n",
      "---  ------             --------------  ----- \n",
      " 0   release_date       5782 non-null   object\n",
      " 1   movie              5782 non-null   object\n",
      " 2   production_budget  5782 non-null   object\n",
      " 3   domestic_gross     5782 non-null   object\n",
      " 4   worldwide_gross    5782 non-null   object\n",
      "dtypes: object(5)\n",
      "memory usage: 271.0+ KB\n"
     ]
    }
   ],
   "source": [
    "#find out information to clean the dataframe\n",
    "movie_budgets_df.info()"
   ]
  },
  {
   "cell_type": "code",
   "execution_count": 317,
   "metadata": {
    "ExecuteTime": {
     "end_time": "2020-06-20T21:40:32.693790Z",
     "start_time": "2020-06-20T21:40:32.632097Z"
    }
   },
   "outputs": [],
   "source": [
    "#converting production_budget, domestic_gross, and worldwide_gross from objects to int values\n",
    "mb = movie_budgets_df\n",
    "mb.production_budget = mb.production_budget.replace('[\\$,]', '', regex=True).astype(int)\n",
    "mb.domestic_gross = mb.domestic_gross.replace('[\\$,]', '', regex=True).astype(int)\n",
    "mb.worldwide_gross = mb.worldwide_gross.replace('[\\$,]', '', regex=True).astype(int)\n"
   ]
  },
  {
   "cell_type": "code",
   "execution_count": 318,
   "metadata": {
    "ExecuteTime": {
     "end_time": "2020-06-20T21:40:32.704403Z",
     "start_time": "2020-06-20T21:40:32.696142Z"
    }
   },
   "outputs": [
    {
     "name": "stdout",
     "output_type": "stream",
     "text": [
      "<class 'pandas.core.frame.DataFrame'>\n",
      "Int64Index: 5782 entries, 1 to 82\n",
      "Data columns (total 5 columns):\n",
      " #   Column             Non-Null Count  Dtype \n",
      "---  ------             --------------  ----- \n",
      " 0   release_date       5782 non-null   object\n",
      " 1   movie              5782 non-null   object\n",
      " 2   production_budget  5782 non-null   int64 \n",
      " 3   domestic_gross     5782 non-null   int64 \n",
      " 4   worldwide_gross    5782 non-null   int64 \n",
      "dtypes: int64(3), object(2)\n",
      "memory usage: 271.0+ KB\n"
     ]
    }
   ],
   "source": [
    "#check to see conversion\n",
    "mb.info()"
   ]
  },
  {
   "cell_type": "code",
   "execution_count": 319,
   "metadata": {
    "ExecuteTime": {
     "end_time": "2020-06-20T21:40:32.717086Z",
     "start_time": "2020-06-20T21:40:32.706370Z"
    }
   },
   "outputs": [
    {
     "data": {
      "text/html": [
       "<div>\n",
       "<style scoped>\n",
       "    .dataframe tbody tr th:only-of-type {\n",
       "        vertical-align: middle;\n",
       "    }\n",
       "\n",
       "    .dataframe tbody tr th {\n",
       "        vertical-align: top;\n",
       "    }\n",
       "\n",
       "    .dataframe thead th {\n",
       "        text-align: right;\n",
       "    }\n",
       "</style>\n",
       "<table border=\"1\" class=\"dataframe\">\n",
       "  <thead>\n",
       "    <tr style=\"text-align: right;\">\n",
       "      <th></th>\n",
       "      <th>release_date</th>\n",
       "      <th>movie</th>\n",
       "      <th>production_budget</th>\n",
       "      <th>domestic_gross</th>\n",
       "      <th>worldwide_gross</th>\n",
       "    </tr>\n",
       "    <tr>\n",
       "      <th>id</th>\n",
       "      <th></th>\n",
       "      <th></th>\n",
       "      <th></th>\n",
       "      <th></th>\n",
       "      <th></th>\n",
       "    </tr>\n",
       "  </thead>\n",
       "  <tbody>\n",
       "    <tr>\n",
       "      <th>1</th>\n",
       "      <td>Dec 18, 2009</td>\n",
       "      <td>Avatar</td>\n",
       "      <td>425000000</td>\n",
       "      <td>760507625</td>\n",
       "      <td>2776345279</td>\n",
       "    </tr>\n",
       "    <tr>\n",
       "      <th>2</th>\n",
       "      <td>May 20, 2011</td>\n",
       "      <td>Pirates of the Caribbean: On Stranger Tides</td>\n",
       "      <td>410600000</td>\n",
       "      <td>241063875</td>\n",
       "      <td>1045663875</td>\n",
       "    </tr>\n",
       "    <tr>\n",
       "      <th>3</th>\n",
       "      <td>Jun 7, 2019</td>\n",
       "      <td>Dark Phoenix</td>\n",
       "      <td>350000000</td>\n",
       "      <td>42762350</td>\n",
       "      <td>149762350</td>\n",
       "    </tr>\n",
       "    <tr>\n",
       "      <th>4</th>\n",
       "      <td>May 1, 2015</td>\n",
       "      <td>Avengers: Age of Ultron</td>\n",
       "      <td>330600000</td>\n",
       "      <td>459005868</td>\n",
       "      <td>1403013963</td>\n",
       "    </tr>\n",
       "    <tr>\n",
       "      <th>5</th>\n",
       "      <td>Dec 15, 2017</td>\n",
       "      <td>Star Wars Ep. VIII: The Last Jedi</td>\n",
       "      <td>317000000</td>\n",
       "      <td>620181382</td>\n",
       "      <td>1316721747</td>\n",
       "    </tr>\n",
       "  </tbody>\n",
       "</table>\n",
       "</div>"
      ],
      "text/plain": [
       "    release_date                                        movie  \\\n",
       "id                                                              \n",
       "1   Dec 18, 2009                                       Avatar   \n",
       "2   May 20, 2011  Pirates of the Caribbean: On Stranger Tides   \n",
       "3    Jun 7, 2019                                 Dark Phoenix   \n",
       "4    May 1, 2015                      Avengers: Age of Ultron   \n",
       "5   Dec 15, 2017            Star Wars Ep. VIII: The Last Jedi   \n",
       "\n",
       "    production_budget  domestic_gross  worldwide_gross  \n",
       "id                                                      \n",
       "1           425000000       760507625       2776345279  \n",
       "2           410600000       241063875       1045663875  \n",
       "3           350000000        42762350        149762350  \n",
       "4           330600000       459005868       1403013963  \n",
       "5           317000000       620181382       1316721747  "
      ]
     },
     "execution_count": 319,
     "metadata": {},
     "output_type": "execute_result"
    }
   ],
   "source": [
    "mb.head()"
   ]
  },
  {
   "cell_type": "code",
   "execution_count": 320,
   "metadata": {
    "ExecuteTime": {
     "end_time": "2020-06-20T21:40:32.733180Z",
     "start_time": "2020-06-20T21:40:32.719831Z"
    }
   },
   "outputs": [
    {
     "data": {
      "text/html": [
       "<div>\n",
       "<style scoped>\n",
       "    .dataframe tbody tr th:only-of-type {\n",
       "        vertical-align: middle;\n",
       "    }\n",
       "\n",
       "    .dataframe tbody tr th {\n",
       "        vertical-align: top;\n",
       "    }\n",
       "\n",
       "    .dataframe thead th {\n",
       "        text-align: right;\n",
       "    }\n",
       "</style>\n",
       "<table border=\"1\" class=\"dataframe\">\n",
       "  <thead>\n",
       "    <tr style=\"text-align: right;\">\n",
       "      <th></th>\n",
       "      <th>release_date</th>\n",
       "      <th>movie</th>\n",
       "      <th>production_budget</th>\n",
       "      <th>domestic_gross</th>\n",
       "    </tr>\n",
       "    <tr>\n",
       "      <th>id</th>\n",
       "      <th></th>\n",
       "      <th></th>\n",
       "      <th></th>\n",
       "      <th></th>\n",
       "    </tr>\n",
       "  </thead>\n",
       "  <tbody>\n",
       "    <tr>\n",
       "      <th>1</th>\n",
       "      <td>Dec 18, 2009</td>\n",
       "      <td>Avatar</td>\n",
       "      <td>425000000</td>\n",
       "      <td>760507625</td>\n",
       "    </tr>\n",
       "    <tr>\n",
       "      <th>2</th>\n",
       "      <td>May 20, 2011</td>\n",
       "      <td>Pirates of the Caribbean: On Stranger Tides</td>\n",
       "      <td>410600000</td>\n",
       "      <td>241063875</td>\n",
       "    </tr>\n",
       "    <tr>\n",
       "      <th>3</th>\n",
       "      <td>Jun 7, 2019</td>\n",
       "      <td>Dark Phoenix</td>\n",
       "      <td>350000000</td>\n",
       "      <td>42762350</td>\n",
       "    </tr>\n",
       "    <tr>\n",
       "      <th>4</th>\n",
       "      <td>May 1, 2015</td>\n",
       "      <td>Avengers: Age of Ultron</td>\n",
       "      <td>330600000</td>\n",
       "      <td>459005868</td>\n",
       "    </tr>\n",
       "    <tr>\n",
       "      <th>5</th>\n",
       "      <td>Dec 15, 2017</td>\n",
       "      <td>Star Wars Ep. VIII: The Last Jedi</td>\n",
       "      <td>317000000</td>\n",
       "      <td>620181382</td>\n",
       "    </tr>\n",
       "  </tbody>\n",
       "</table>\n",
       "</div>"
      ],
      "text/plain": [
       "    release_date                                        movie  \\\n",
       "id                                                              \n",
       "1   Dec 18, 2009                                       Avatar   \n",
       "2   May 20, 2011  Pirates of the Caribbean: On Stranger Tides   \n",
       "3    Jun 7, 2019                                 Dark Phoenix   \n",
       "4    May 1, 2015                      Avengers: Age of Ultron   \n",
       "5   Dec 15, 2017            Star Wars Ep. VIII: The Last Jedi   \n",
       "\n",
       "    production_budget  domestic_gross  \n",
       "id                                     \n",
       "1           425000000       760507625  \n",
       "2           410600000       241063875  \n",
       "3           350000000        42762350  \n",
       "4           330600000       459005868  \n",
       "5           317000000       620181382  "
      ]
     },
     "execution_count": 320,
     "metadata": {},
     "output_type": "execute_result"
    }
   ],
   "source": [
    "#drop the column without having to reasign the df\n",
    "mb.drop('worldwide_gross', axis=1, inplace=True)\n",
    "mb.head()  #check to see if the column is dropped "
   ]
  },
  {
   "cell_type": "code",
   "execution_count": 321,
   "metadata": {
    "ExecuteTime": {
     "end_time": "2020-06-20T21:40:32.754706Z",
     "start_time": "2020-06-20T21:40:32.735640Z"
    }
   },
   "outputs": [
    {
     "data": {
      "text/html": [
       "<div>\n",
       "<style scoped>\n",
       "    .dataframe tbody tr th:only-of-type {\n",
       "        vertical-align: middle;\n",
       "    }\n",
       "\n",
       "    .dataframe tbody tr th {\n",
       "        vertical-align: top;\n",
       "    }\n",
       "\n",
       "    .dataframe thead th {\n",
       "        text-align: right;\n",
       "    }\n",
       "</style>\n",
       "<table border=\"1\" class=\"dataframe\">\n",
       "  <thead>\n",
       "    <tr style=\"text-align: right;\">\n",
       "      <th></th>\n",
       "      <th>release_date</th>\n",
       "      <th>movie</th>\n",
       "      <th>production_budget</th>\n",
       "      <th>domestic_gross</th>\n",
       "    </tr>\n",
       "    <tr>\n",
       "      <th>id</th>\n",
       "      <th></th>\n",
       "      <th></th>\n",
       "      <th></th>\n",
       "      <th></th>\n",
       "    </tr>\n",
       "  </thead>\n",
       "  <tbody>\n",
       "    <tr>\n",
       "      <th>1</th>\n",
       "      <td>Dec 18, 2009</td>\n",
       "      <td>Avatar</td>\n",
       "      <td>425000000</td>\n",
       "      <td>760507625</td>\n",
       "    </tr>\n",
       "    <tr>\n",
       "      <th>2</th>\n",
       "      <td>May 20, 2011</td>\n",
       "      <td>Pirates of the Caribbean: On Stranger Tides</td>\n",
       "      <td>410600000</td>\n",
       "      <td>241063875</td>\n",
       "    </tr>\n",
       "    <tr>\n",
       "      <th>3</th>\n",
       "      <td>Jun 7, 2019</td>\n",
       "      <td>Dark Phoenix</td>\n",
       "      <td>350000000</td>\n",
       "      <td>42762350</td>\n",
       "    </tr>\n",
       "    <tr>\n",
       "      <th>4</th>\n",
       "      <td>May 1, 2015</td>\n",
       "      <td>Avengers: Age of Ultron</td>\n",
       "      <td>330600000</td>\n",
       "      <td>459005868</td>\n",
       "    </tr>\n",
       "    <tr>\n",
       "      <th>5</th>\n",
       "      <td>Dec 15, 2017</td>\n",
       "      <td>Star Wars Ep. VIII: The Last Jedi</td>\n",
       "      <td>317000000</td>\n",
       "      <td>620181382</td>\n",
       "    </tr>\n",
       "    <tr>\n",
       "      <th>...</th>\n",
       "      <td>...</td>\n",
       "      <td>...</td>\n",
       "      <td>...</td>\n",
       "      <td>...</td>\n",
       "    </tr>\n",
       "    <tr>\n",
       "      <th>78</th>\n",
       "      <td>Dec 31, 2018</td>\n",
       "      <td>Red 11</td>\n",
       "      <td>7000</td>\n",
       "      <td>0</td>\n",
       "    </tr>\n",
       "    <tr>\n",
       "      <th>79</th>\n",
       "      <td>Apr 2, 1999</td>\n",
       "      <td>Following</td>\n",
       "      <td>6000</td>\n",
       "      <td>48482</td>\n",
       "    </tr>\n",
       "    <tr>\n",
       "      <th>80</th>\n",
       "      <td>Jul 13, 2005</td>\n",
       "      <td>Return to the Land of Wonders</td>\n",
       "      <td>5000</td>\n",
       "      <td>1338</td>\n",
       "    </tr>\n",
       "    <tr>\n",
       "      <th>81</th>\n",
       "      <td>Sep 29, 2015</td>\n",
       "      <td>A Plague So Pleasant</td>\n",
       "      <td>1400</td>\n",
       "      <td>0</td>\n",
       "    </tr>\n",
       "    <tr>\n",
       "      <th>82</th>\n",
       "      <td>Aug 5, 2005</td>\n",
       "      <td>My Date With Drew</td>\n",
       "      <td>1100</td>\n",
       "      <td>181041</td>\n",
       "    </tr>\n",
       "  </tbody>\n",
       "</table>\n",
       "<p>5782 rows × 4 columns</p>\n",
       "</div>"
      ],
      "text/plain": [
       "    release_date                                        movie  \\\n",
       "id                                                              \n",
       "1   Dec 18, 2009                                       Avatar   \n",
       "2   May 20, 2011  Pirates of the Caribbean: On Stranger Tides   \n",
       "3    Jun 7, 2019                                 Dark Phoenix   \n",
       "4    May 1, 2015                      Avengers: Age of Ultron   \n",
       "5   Dec 15, 2017            Star Wars Ep. VIII: The Last Jedi   \n",
       "..           ...                                          ...   \n",
       "78  Dec 31, 2018                                       Red 11   \n",
       "79   Apr 2, 1999                                    Following   \n",
       "80  Jul 13, 2005                Return to the Land of Wonders   \n",
       "81  Sep 29, 2015                         A Plague So Pleasant   \n",
       "82   Aug 5, 2005                            My Date With Drew   \n",
       "\n",
       "    production_budget  domestic_gross  \n",
       "id                                     \n",
       "1           425000000       760507625  \n",
       "2           410600000       241063875  \n",
       "3           350000000        42762350  \n",
       "4           330600000       459005868  \n",
       "5           317000000       620181382  \n",
       "..                ...             ...  \n",
       "78               7000               0  \n",
       "79               6000           48482  \n",
       "80               5000            1338  \n",
       "81               1400               0  \n",
       "82               1100          181041  \n",
       "\n",
       "[5782 rows x 4 columns]"
      ]
     },
     "execution_count": 321,
     "metadata": {},
     "output_type": "execute_result"
    }
   ],
   "source": [
    "# clean data set by dropping NaN values\n",
    "mb.dropna()"
   ]
  },
  {
   "cell_type": "code",
   "execution_count": 322,
   "metadata": {
    "ExecuteTime": {
     "end_time": "2020-06-20T21:40:33.534974Z",
     "start_time": "2020-06-20T21:40:32.756698Z"
    }
   },
   "outputs": [
    {
     "data": {
      "text/plain": [
       "Text(0.5, 1.0, 'Scatter Plot of Profits v. Budgets')"
      ]
     },
     "execution_count": 322,
     "metadata": {},
     "output_type": "execute_result"
    },
    {
     "data": {
      "image/png": "[encoded data removed]",
      "text/plain": [
       "<Figure size 1008x576 with 1 Axes>"
      ]
     },
     "metadata": {
      "needs_background": "light"
     },
     "output_type": "display_data"
    }
   ],
   "source": [
    "#Scatter Plot of Profits of Movies from 2010 to 2018\n",
    "plt.figure(figsize=(14,8))\n",
    "l = sns.regplot(x =mb[\"production_budget\"], y = mb[\"domestic_gross\"], marker='o', color='blue', scatter_kws={'s':2})\n",
    "plt.xlabel('Production Budget', fontsize=16, fontweight='bold')\n",
    "plt.ylabel('Domestic Gross', fontsize=16, fontweight='bold')\n",
    "plt.title('Scatter Plot of Profits v. Budgets', fontsize=18, fontweight='bold')\n"
   ]
  },
  {
   "cell_type": "code",
   "execution_count": 323,
   "metadata": {
    "ExecuteTime": {
     "end_time": "2020-06-20T21:40:33.539391Z",
     "start_time": "2020-06-20T21:40:33.536973Z"
    }
   },
   "outputs": [],
   "source": [
    "# From the above graph we can see that at a production budget of 2E8 there is\n",
    "# is a high gross between 5E8 to 7E8...what genres are these"
   ]
  },
  {
   "cell_type": "code",
   "execution_count": 324,
   "metadata": {
    "ExecuteTime": {
     "end_time": "2020-06-20T21:40:33.547298Z",
     "start_time": "2020-06-20T21:40:33.541608Z"
    }
   },
   "outputs": [],
   "source": [
    "# narrow down list to Production budget of 2E8 and Domestic gross between \n",
    "# 5 to 7E8\n"
   ]
  },
  {
   "cell_type": "code",
   "execution_count": 325,
   "metadata": {
    "ExecuteTime": {
     "end_time": "2020-06-20T21:40:33.574735Z",
     "start_time": "2020-06-20T21:40:33.549158Z"
    }
   },
   "outputs": [
    {
     "data": {
      "text/html": [
       "<div>\n",
       "<style scoped>\n",
       "    .dataframe tbody tr th:only-of-type {\n",
       "        vertical-align: middle;\n",
       "    }\n",
       "\n",
       "    .dataframe tbody tr th {\n",
       "        vertical-align: top;\n",
       "    }\n",
       "\n",
       "    .dataframe thead th {\n",
       "        text-align: right;\n",
       "    }\n",
       "</style>\n",
       "<table border=\"1\" class=\"dataframe\">\n",
       "  <thead>\n",
       "    <tr style=\"text-align: right;\">\n",
       "      <th></th>\n",
       "      <th>release_date</th>\n",
       "      <th>movie</th>\n",
       "      <th>production_budget</th>\n",
       "      <th>domestic_gross</th>\n",
       "    </tr>\n",
       "    <tr>\n",
       "      <th>id</th>\n",
       "      <th></th>\n",
       "      <th></th>\n",
       "      <th></th>\n",
       "      <th></th>\n",
       "    </tr>\n",
       "  </thead>\n",
       "  <tbody>\n",
       "    <tr>\n",
       "      <th>42</th>\n",
       "      <td>Feb 16, 2018</td>\n",
       "      <td>Black Panther</td>\n",
       "      <td>200000000</td>\n",
       "      <td>700059566</td>\n",
       "    </tr>\n",
       "    <tr>\n",
       "      <th>43</th>\n",
       "      <td>Dec 19, 1997</td>\n",
       "      <td>Titanic</td>\n",
       "      <td>200000000</td>\n",
       "      <td>659363944</td>\n",
       "    </tr>\n",
       "    <tr>\n",
       "      <th>44</th>\n",
       "      <td>Jun 15, 2018</td>\n",
       "      <td>Incredibles 2</td>\n",
       "      <td>200000000</td>\n",
       "      <td>608581744</td>\n",
       "    </tr>\n",
       "    <tr>\n",
       "      <th>45</th>\n",
       "      <td>Dec 16, 2016</td>\n",
       "      <td>Rogue One: A Star Wars Story</td>\n",
       "      <td>200000000</td>\n",
       "      <td>532177324</td>\n",
       "    </tr>\n",
       "    <tr>\n",
       "      <th>46</th>\n",
       "      <td>Jun 17, 2016</td>\n",
       "      <td>Finding Dory</td>\n",
       "      <td>200000000</td>\n",
       "      <td>486295561</td>\n",
       "    </tr>\n",
       "    <tr>\n",
       "      <th>47</th>\n",
       "      <td>Jun 18, 2010</td>\n",
       "      <td>Toy Story 3</td>\n",
       "      <td>200000000</td>\n",
       "      <td>415004880</td>\n",
       "    </tr>\n",
       "    <tr>\n",
       "      <th>48</th>\n",
       "      <td>May 3, 2013</td>\n",
       "      <td>Iron Man 3</td>\n",
       "      <td>200000000</td>\n",
       "      <td>408992272</td>\n",
       "    </tr>\n",
       "    <tr>\n",
       "      <th>49</th>\n",
       "      <td>May 5, 2017</td>\n",
       "      <td>Guardians of the Galaxy Vol 2</td>\n",
       "      <td>200000000</td>\n",
       "      <td>389813101</td>\n",
       "    </tr>\n",
       "    <tr>\n",
       "      <th>50</th>\n",
       "      <td>Jun 30, 2004</td>\n",
       "      <td>Spider-Man 2</td>\n",
       "      <td>200000000</td>\n",
       "      <td>373524485</td>\n",
       "    </tr>\n",
       "    <tr>\n",
       "      <th>51</th>\n",
       "      <td>Mar 5, 2010</td>\n",
       "      <td>Alice in Wonderland</td>\n",
       "      <td>200000000</td>\n",
       "      <td>334191110</td>\n",
       "    </tr>\n",
       "    <tr>\n",
       "      <th>52</th>\n",
       "      <td>Nov 8, 2012</td>\n",
       "      <td>Skyfall</td>\n",
       "      <td>200000000</td>\n",
       "      <td>304360277</td>\n",
       "    </tr>\n",
       "    <tr>\n",
       "      <th>53</th>\n",
       "      <td>Jun 21, 2013</td>\n",
       "      <td>Monsters University</td>\n",
       "      <td>200000000</td>\n",
       "      <td>268488329</td>\n",
       "    </tr>\n",
       "    <tr>\n",
       "      <th>54</th>\n",
       "      <td>Mar 8, 2013</td>\n",
       "      <td>Oz the Great and Powerful</td>\n",
       "      <td>200000000</td>\n",
       "      <td>234770996</td>\n",
       "    </tr>\n",
       "    <tr>\n",
       "      <th>55</th>\n",
       "      <td>May 23, 2014</td>\n",
       "      <td>X-Men: Days of Future Past</td>\n",
       "      <td>200000000</td>\n",
       "      <td>233921534</td>\n",
       "    </tr>\n",
       "    <tr>\n",
       "      <th>56</th>\n",
       "      <td>May 2, 2014</td>\n",
       "      <td>The Amazing Spider-Man 2</td>\n",
       "      <td>200000000</td>\n",
       "      <td>202853933</td>\n",
       "    </tr>\n",
       "    <tr>\n",
       "      <th>57</th>\n",
       "      <td>Jun 24, 2011</td>\n",
       "      <td>Cars 2</td>\n",
       "      <td>200000000</td>\n",
       "      <td>191450875</td>\n",
       "    </tr>\n",
       "    <tr>\n",
       "      <th>58</th>\n",
       "      <td>Dec 17, 2010</td>\n",
       "      <td>Tron: Legacy</td>\n",
       "      <td>200000000</td>\n",
       "      <td>172062763</td>\n",
       "    </tr>\n",
       "    <tr>\n",
       "      <th>59</th>\n",
       "      <td>Nov 13, 2009</td>\n",
       "      <td>2012</td>\n",
       "      <td>200000000</td>\n",
       "      <td>166112167</td>\n",
       "    </tr>\n",
       "    <tr>\n",
       "      <th>60</th>\n",
       "      <td>Nov 16, 2018</td>\n",
       "      <td>Fantastic Beasts: The Crimes of Grindelwald</td>\n",
       "      <td>200000000</td>\n",
       "      <td>159555901</td>\n",
       "    </tr>\n",
       "    <tr>\n",
       "      <th>61</th>\n",
       "      <td>May 21, 2009</td>\n",
       "      <td>Terminator Salvation</td>\n",
       "      <td>200000000</td>\n",
       "      <td>125322469</td>\n",
       "    </tr>\n",
       "    <tr>\n",
       "      <th>62</th>\n",
       "      <td>Jun 17, 2011</td>\n",
       "      <td>Green Lantern</td>\n",
       "      <td>200000000</td>\n",
       "      <td>116601172</td>\n",
       "    </tr>\n",
       "    <tr>\n",
       "      <th>63</th>\n",
       "      <td>May 28, 2010</td>\n",
       "      <td>Prince of Persia: Sands of Time</td>\n",
       "      <td>200000000</td>\n",
       "      <td>90759676</td>\n",
       "    </tr>\n",
       "  </tbody>\n",
       "</table>\n",
       "</div>"
      ],
      "text/plain": [
       "    release_date                                        movie  \\\n",
       "id                                                              \n",
       "42  Feb 16, 2018                                Black Panther   \n",
       "43  Dec 19, 1997                                      Titanic   \n",
       "44  Jun 15, 2018                                Incredibles 2   \n",
       "45  Dec 16, 2016                 Rogue One: A Star Wars Story   \n",
       "46  Jun 17, 2016                                 Finding Dory   \n",
       "47  Jun 18, 2010                                  Toy Story 3   \n",
       "48   May 3, 2013                                   Iron Man 3   \n",
       "49   May 5, 2017                Guardians of the Galaxy Vol 2   \n",
       "50  Jun 30, 2004                                 Spider-Man 2   \n",
       "51   Mar 5, 2010                          Alice in Wonderland   \n",
       "52   Nov 8, 2012                                      Skyfall   \n",
       "53  Jun 21, 2013                          Monsters University   \n",
       "54   Mar 8, 2013                    Oz the Great and Powerful   \n",
       "55  May 23, 2014                   X-Men: Days of Future Past   \n",
       "56   May 2, 2014                     The Amazing Spider-Man 2   \n",
       "57  Jun 24, 2011                                       Cars 2   \n",
       "58  Dec 17, 2010                                 Tron: Legacy   \n",
       "59  Nov 13, 2009                                         2012   \n",
       "60  Nov 16, 2018  Fantastic Beasts: The Crimes of Grindelwald   \n",
       "61  May 21, 2009                         Terminator Salvation   \n",
       "62  Jun 17, 2011                                Green Lantern   \n",
       "63  May 28, 2010              Prince of Persia: Sands of Time   \n",
       "\n",
       "    production_budget  domestic_gross  \n",
       "id                                     \n",
       "42          200000000       700059566  \n",
       "43          200000000       659363944  \n",
       "44          200000000       608581744  \n",
       "45          200000000       532177324  \n",
       "46          200000000       486295561  \n",
       "47          200000000       415004880  \n",
       "48          200000000       408992272  \n",
       "49          200000000       389813101  \n",
       "50          200000000       373524485  \n",
       "51          200000000       334191110  \n",
       "52          200000000       304360277  \n",
       "53          200000000       268488329  \n",
       "54          200000000       234770996  \n",
       "55          200000000       233921534  \n",
       "56          200000000       202853933  \n",
       "57          200000000       191450875  \n",
       "58          200000000       172062763  \n",
       "59          200000000       166112167  \n",
       "60          200000000       159555901  \n",
       "61          200000000       125322469  \n",
       "62          200000000       116601172  \n",
       "63          200000000        90759676  "
      ]
     },
     "execution_count": 325,
     "metadata": {},
     "output_type": "execute_result"
    }
   ],
   "source": [
    "mb_prod_budg_2 = mb[mb.production_budget == 200000000]\n",
    "\n",
    "mb_prod_budg_2.sort_values(by= \"domestic_gross\", ascending = True) \n",
    "mb_prod_budg_2.describe()\n",
    "mb_prod_budg_2"
   ]
  },
  {
   "cell_type": "code",
   "execution_count": 359,
   "metadata": {
    "ExecuteTime": {
     "end_time": "2020-06-20T23:21:36.873375Z",
     "start_time": "2020-06-20T23:21:36.854540Z"
    }
   },
   "outputs": [
    {
     "name": "stderr",
     "output_type": "stream",
     "text": [
      "/Users/ArashPeimani/opt/anaconda3/lib/python3.7/site-packages/pandas/core/generic.py:5303: SettingWithCopyWarning: \n",
      "A value is trying to be set on a copy of a slice from a DataFrame.\n",
      "Try using .loc[row_indexer,col_indexer] = value instead\n",
      "\n",
      "See the caveats in the documentation: https://pandas.pydata.org/pandas-docs/stable/user_guide/indexing.html#returning-a-view-versus-a-copy\n",
      "  self[name] = value\n",
      "/Users/ArashPeimani/opt/anaconda3/lib/python3.7/site-packages/ipykernel_launcher.py:2: SettingWithCopyWarning: \n",
      "A value is trying to be set on a copy of a slice from a DataFrame.\n",
      "Try using .loc[row_indexer,col_indexer] = value instead\n",
      "\n",
      "See the caveats in the documentation: https://pandas.pydata.org/pandas-docs/stable/user_guide/indexing.html#returning-a-view-versus-a-copy\n",
      "  \n"
     ]
    },
    {
     "data": {
      "text/html": [
       "<div>\n",
       "<style scoped>\n",
       "    .dataframe tbody tr th:only-of-type {\n",
       "        vertical-align: middle;\n",
       "    }\n",
       "\n",
       "    .dataframe tbody tr th {\n",
       "        vertical-align: top;\n",
       "    }\n",
       "\n",
       "    .dataframe thead th {\n",
       "        text-align: right;\n",
       "    }\n",
       "</style>\n",
       "<table border=\"1\" class=\"dataframe\">\n",
       "  <thead>\n",
       "    <tr style=\"text-align: right;\">\n",
       "      <th></th>\n",
       "      <th>release_date</th>\n",
       "      <th>movie</th>\n",
       "      <th>production_budget</th>\n",
       "      <th>domestic_gross</th>\n",
       "      <th>%Profit</th>\n",
       "      <th>profit_percent</th>\n",
       "    </tr>\n",
       "    <tr>\n",
       "      <th>id</th>\n",
       "      <th></th>\n",
       "      <th></th>\n",
       "      <th></th>\n",
       "      <th></th>\n",
       "      <th></th>\n",
       "      <th></th>\n",
       "    </tr>\n",
       "  </thead>\n",
       "  <tbody>\n",
       "    <tr>\n",
       "      <th>42</th>\n",
       "      <td>Feb 16, 2018</td>\n",
       "      <td>Black Panther</td>\n",
       "      <td>200000000</td>\n",
       "      <td>700059566</td>\n",
       "      <td>350.029783</td>\n",
       "      <td>350.029783</td>\n",
       "    </tr>\n",
       "    <tr>\n",
       "      <th>43</th>\n",
       "      <td>Dec 19, 1997</td>\n",
       "      <td>Titanic</td>\n",
       "      <td>200000000</td>\n",
       "      <td>659363944</td>\n",
       "      <td>329.681972</td>\n",
       "      <td>329.681972</td>\n",
       "    </tr>\n",
       "    <tr>\n",
       "      <th>44</th>\n",
       "      <td>Jun 15, 2018</td>\n",
       "      <td>Incredibles 2</td>\n",
       "      <td>200000000</td>\n",
       "      <td>608581744</td>\n",
       "      <td>304.290872</td>\n",
       "      <td>304.290872</td>\n",
       "    </tr>\n",
       "    <tr>\n",
       "      <th>45</th>\n",
       "      <td>Dec 16, 2016</td>\n",
       "      <td>Rogue One: A Star Wars Story</td>\n",
       "      <td>200000000</td>\n",
       "      <td>532177324</td>\n",
       "      <td>266.088662</td>\n",
       "      <td>266.088662</td>\n",
       "    </tr>\n",
       "    <tr>\n",
       "      <th>46</th>\n",
       "      <td>Jun 17, 2016</td>\n",
       "      <td>Finding Dory</td>\n",
       "      <td>200000000</td>\n",
       "      <td>486295561</td>\n",
       "      <td>243.147781</td>\n",
       "      <td>243.147781</td>\n",
       "    </tr>\n",
       "    <tr>\n",
       "      <th>47</th>\n",
       "      <td>Jun 18, 2010</td>\n",
       "      <td>Toy Story 3</td>\n",
       "      <td>200000000</td>\n",
       "      <td>415004880</td>\n",
       "      <td>207.502440</td>\n",
       "      <td>207.502440</td>\n",
       "    </tr>\n",
       "    <tr>\n",
       "      <th>48</th>\n",
       "      <td>May 3, 2013</td>\n",
       "      <td>Iron Man 3</td>\n",
       "      <td>200000000</td>\n",
       "      <td>408992272</td>\n",
       "      <td>204.496136</td>\n",
       "      <td>204.496136</td>\n",
       "    </tr>\n",
       "    <tr>\n",
       "      <th>49</th>\n",
       "      <td>May 5, 2017</td>\n",
       "      <td>Guardians of the Galaxy Vol 2</td>\n",
       "      <td>200000000</td>\n",
       "      <td>389813101</td>\n",
       "      <td>194.906551</td>\n",
       "      <td>194.906551</td>\n",
       "    </tr>\n",
       "    <tr>\n",
       "      <th>50</th>\n",
       "      <td>Jun 30, 2004</td>\n",
       "      <td>Spider-Man 2</td>\n",
       "      <td>200000000</td>\n",
       "      <td>373524485</td>\n",
       "      <td>186.762242</td>\n",
       "      <td>186.762242</td>\n",
       "    </tr>\n",
       "    <tr>\n",
       "      <th>51</th>\n",
       "      <td>Mar 5, 2010</td>\n",
       "      <td>Alice in Wonderland</td>\n",
       "      <td>200000000</td>\n",
       "      <td>334191110</td>\n",
       "      <td>167.095555</td>\n",
       "      <td>167.095555</td>\n",
       "    </tr>\n",
       "  </tbody>\n",
       "</table>\n",
       "</div>"
      ],
      "text/plain": [
       "    release_date                          movie  production_budget  \\\n",
       "id                                                                   \n",
       "42  Feb 16, 2018                  Black Panther          200000000   \n",
       "43  Dec 19, 1997                        Titanic          200000000   \n",
       "44  Jun 15, 2018                  Incredibles 2          200000000   \n",
       "45  Dec 16, 2016   Rogue One: A Star Wars Story          200000000   \n",
       "46  Jun 17, 2016                   Finding Dory          200000000   \n",
       "47  Jun 18, 2010                    Toy Story 3          200000000   \n",
       "48   May 3, 2013                     Iron Man 3          200000000   \n",
       "49   May 5, 2017  Guardians of the Galaxy Vol 2          200000000   \n",
       "50  Jun 30, 2004                   Spider-Man 2          200000000   \n",
       "51   Mar 5, 2010            Alice in Wonderland          200000000   \n",
       "\n",
       "    domestic_gross     %Profit  profit_percent  \n",
       "id                                              \n",
       "42       700059566  350.029783      350.029783  \n",
       "43       659363944  329.681972      329.681972  \n",
       "44       608581744  304.290872      304.290872  \n",
       "45       532177324  266.088662      266.088662  \n",
       "46       486295561  243.147781      243.147781  \n",
       "47       415004880  207.502440      207.502440  \n",
       "48       408992272  204.496136      204.496136  \n",
       "49       389813101  194.906551      194.906551  \n",
       "50       373524485  186.762242      186.762242  \n",
       "51       334191110  167.095555      167.095555  "
      ]
     },
     "execution_count": 359,
     "metadata": {},
     "output_type": "execute_result"
    }
   ],
   "source": [
    "mb_prod_budg_2.profit_percent = mb_prod_budg_2.profit_percent.replace('[\\$,]', '', regex=True).astype(int)\n",
    "mb_prod_budg_2['profit_percent'] = (mb_prod_budg_2.loc[:,'domestic_gross']/mb_prod_budg_2.loc[:,'production_budget'])*100\n",
    "#mb_prod_budg_2['profit_percent'] = (mb_prod_budg_2.domestic_gross/mb_prod_budg_2.production_budget)*100\n",
    "#mb_prod_budg_2.profit_percent = mb_prod_budg_2.profit_percent.replace('[\\$,]', '', regex=True).astype(int)\n",
    "mb_prod_budg_2.info\n",
    "mb_prod_budg_2.head(10)\n",
    "#mb.production_budget = mb.production_budget.replace('[\\$,]', '', regex=True).astype(int)"
   ]
  },
  {
   "cell_type": "code",
   "execution_count": 343,
   "metadata": {
    "ExecuteTime": {
     "end_time": "2020-06-20T21:53:53.154125Z",
     "start_time": "2020-06-20T21:53:53.143907Z"
    }
   },
   "outputs": [
    {
     "name": "stdout",
     "output_type": "stream",
     "text": [
      "<class 'pandas.core.frame.DataFrame'>\n",
      "Int64Index: 10 entries, 42 to 51\n",
      "Data columns (total 6 columns):\n",
      " #   Column             Non-Null Count  Dtype  \n",
      "---  ------             --------------  -----  \n",
      " 0   release_date       10 non-null     object \n",
      " 1   movie              10 non-null     object \n",
      " 2   production_budget  10 non-null     int64  \n",
      " 3   domestic_gross     10 non-null     int64  \n",
      " 4   %Profit            10 non-null     float64\n",
      " 5   profit_percent     10 non-null     int64  \n",
      "dtypes: float64(1), int64(3), object(2)\n",
      "memory usage: 560.0+ bytes\n"
     ]
    }
   ],
   "source": [
    "#take the top 10 by %profit\n",
    "top10 = mb_prod_budg_2.nlargest(10,'%Profit')\n",
    "top10\n",
    "top10.info()"
   ]
  },
  {
   "cell_type": "code",
   "execution_count": 356,
   "metadata": {
    "ExecuteTime": {
     "end_time": "2020-06-20T22:15:24.262052Z",
     "start_time": "2020-06-20T22:15:24.005818Z"
    }
   },
   "outputs": [
    {
     "data": {
      "image/png": "[encoded data removed]",
      "text/plain": [
       "<Figure size 432x288 with 1 Axes>"
      ]
     },
     "metadata": {
      "needs_background": "light"
     },
     "output_type": "display_data"
    }
   ],
   "source": [
    "#check to see if it was converted\n",
    "mb_prod_budg_2.info\n",
    "\n",
    "#top10.groupby('movie').count().sort_values(by='profit_percent', ascending=False).plot(kind='bar', y='profit_percent', figsize = (12,6))"
   ]
  },
  {
   "cell_type": "code",
   "execution_count": 329,
   "metadata": {
    "ExecuteTime": {
     "end_time": "2020-06-20T21:40:34.010909Z",
     "start_time": "2020-06-20T21:40:33.987530Z"
    }
   },
   "outputs": [
    {
     "data": {
      "text/plain": [
       "pandas.core.frame.DataFrame"
      ]
     },
     "execution_count": 329,
     "metadata": {},
     "output_type": "execute_result"
    }
   ],
   "source": [
    "genre_categories = pd.read_csv(\"cleaned_genre_exploration.csv\")\n",
    "\n",
    "type(genre_categories) #verify \n"
   ]
  },
  {
   "cell_type": "code",
   "execution_count": 330,
   "metadata": {
    "ExecuteTime": {
     "end_time": "2020-06-20T21:40:34.081220Z",
     "start_time": "2020-06-20T21:40:34.013551Z"
    }
   },
   "outputs": [],
   "source": [
    "mb_genre = genre_categories.append(df_title_basics)"
   ]
  },
  {
   "cell_type": "code",
   "execution_count": 331,
   "metadata": {
    "ExecuteTime": {
     "end_time": "2020-06-20T21:40:34.230669Z",
     "start_time": "2020-06-20T21:40:34.083506Z"
    }
   },
   "outputs": [
    {
     "name": "stdout",
     "output_type": "stream",
     "text": [
      "<class 'pandas.core.frame.DataFrame'>\n",
      "Int64Index: 148900 entries, 0 to 146143\n",
      "Data columns (total 23 columns):\n",
      " #   Column             Non-Null Count   Dtype  \n",
      "---  ------             --------------   -----  \n",
      " 0   Unnamed: 0         2756 non-null    object \n",
      " 1   Unnamed: 0.1       2756 non-null    float64\n",
      " 2   genre_ids          2756 non-null    object \n",
      " 3   id                 2756 non-null    float64\n",
      " 4   original_language  2756 non-null    object \n",
      " 5   popularity         2756 non-null    float64\n",
      " 6   release_date       2756 non-null    object \n",
      " 7   vote_average       2756 non-null    float64\n",
      " 8   vote_count         2756 non-null    float64\n",
      " 9   tconst             148900 non-null  object \n",
      " 10  primary_title      148900 non-null  object \n",
      " 11  start_year         148900 non-null  float64\n",
      " 12  runtime_minutes    148900 non-null  float64\n",
      " 13  G1                 143492 non-null  object \n",
      " 14  G2                 61327 non-null   object \n",
      " 15  G3                 30766 non-null   object \n",
      " 16  id_budg            2756 non-null    float64\n",
      " 17  release_date_budg  2756 non-null    object \n",
      " 18  production_budget  2756 non-null    float64\n",
      " 19  domestic_gross     2756 non-null    float64\n",
      " 20  worldwide_gross    2756 non-null    float64\n",
      " 21  release_month      2756 non-null    float64\n",
      " 22  original_title     146144 non-null  object \n",
      "dtypes: float64(12), object(11)\n",
      "memory usage: 27.3+ MB\n"
     ]
    }
   ],
   "source": [
    "\n",
    "mb_genre.head()\n",
    "mb_genre.info()"
   ]
  },
  {
   "cell_type": "code",
   "execution_count": 332,
   "metadata": {
    "ExecuteTime": {
     "end_time": "2020-06-20T21:40:34.254097Z",
     "start_time": "2020-06-20T21:40:34.232641Z"
    }
   },
   "outputs": [
    {
     "ename": "ValueError",
     "evalue": "Cannot convert non-finite values (NA or inf) to integer",
     "output_type": "error",
     "traceback": [
      "\u001b[0;31m---------------------------------------------------------------------------\u001b[0m",
      "\u001b[0;31mValueError\u001b[0m                                Traceback (most recent call last)",
      "\u001b[0;32m<ipython-input-332-9e49b2b02a0c>\u001b[0m in \u001b[0;36m<module>\u001b[0;34m\u001b[0m\n\u001b[1;32m      1\u001b[0m \u001b[0;31m#converting production_budget, domestic_gross, and worldwide_gross from objects to int values\u001b[0m\u001b[0;34m\u001b[0m\u001b[0;34m\u001b[0m\u001b[0;34m\u001b[0m\u001b[0m\n\u001b[1;32m      2\u001b[0m \u001b[0;31m#converting release_date from object to datetime value\u001b[0m\u001b[0;34m\u001b[0m\u001b[0;34m\u001b[0m\u001b[0;34m\u001b[0m\u001b[0m\n\u001b[0;32m----> 3\u001b[0;31m \u001b[0mmb_genre\u001b[0m\u001b[0;34m.\u001b[0m\u001b[0mproduction_budget\u001b[0m \u001b[0;34m=\u001b[0m \u001b[0mmb_genre\u001b[0m\u001b[0;34m.\u001b[0m\u001b[0mproduction_budget\u001b[0m\u001b[0;34m.\u001b[0m\u001b[0mreplace\u001b[0m\u001b[0;34m(\u001b[0m\u001b[0;34m'[\\$,]'\u001b[0m\u001b[0;34m,\u001b[0m \u001b[0;34m''\u001b[0m\u001b[0;34m,\u001b[0m \u001b[0mregex\u001b[0m\u001b[0;34m=\u001b[0m\u001b[0;32mTrue\u001b[0m\u001b[0;34m)\u001b[0m\u001b[0;34m.\u001b[0m\u001b[0mastype\u001b[0m\u001b[0;34m(\u001b[0m\u001b[0mint\u001b[0m\u001b[0;34m)\u001b[0m\u001b[0;34m\u001b[0m\u001b[0;34m\u001b[0m\u001b[0m\n\u001b[0m\u001b[1;32m      4\u001b[0m \u001b[0mmb_genre\u001b[0m\u001b[0;34m.\u001b[0m\u001b[0mdomestic_gross\u001b[0m \u001b[0;34m=\u001b[0m \u001b[0mmb_genre\u001b[0m\u001b[0;34m.\u001b[0m\u001b[0mdomestic_gross\u001b[0m\u001b[0;34m.\u001b[0m\u001b[0mreplace\u001b[0m\u001b[0;34m(\u001b[0m\u001b[0;34m'[\\$,]'\u001b[0m\u001b[0;34m,\u001b[0m \u001b[0;34m''\u001b[0m\u001b[0;34m,\u001b[0m \u001b[0mregex\u001b[0m\u001b[0;34m=\u001b[0m\u001b[0;32mTrue\u001b[0m\u001b[0;34m)\u001b[0m\u001b[0;34m.\u001b[0m\u001b[0mastype\u001b[0m\u001b[0;34m(\u001b[0m\u001b[0mint\u001b[0m\u001b[0;34m)\u001b[0m\u001b[0;34m\u001b[0m\u001b[0;34m\u001b[0m\u001b[0m\n\u001b[1;32m      5\u001b[0m \u001b[0mmb_genre\u001b[0m\u001b[0;34m.\u001b[0m\u001b[0mworldwide_gross\u001b[0m \u001b[0;34m=\u001b[0m \u001b[0mmb_genre\u001b[0m\u001b[0;34m.\u001b[0m\u001b[0mworldwide_gross\u001b[0m\u001b[0;34m.\u001b[0m\u001b[0mreplace\u001b[0m\u001b[0;34m(\u001b[0m\u001b[0;34m'[\\$,]'\u001b[0m\u001b[0;34m,\u001b[0m \u001b[0;34m''\u001b[0m\u001b[0;34m,\u001b[0m \u001b[0mregex\u001b[0m\u001b[0;34m=\u001b[0m\u001b[0;32mTrue\u001b[0m\u001b[0;34m)\u001b[0m\u001b[0;34m.\u001b[0m\u001b[0mastype\u001b[0m\u001b[0;34m(\u001b[0m\u001b[0mint\u001b[0m\u001b[0;34m)\u001b[0m\u001b[0;34m\u001b[0m\u001b[0;34m\u001b[0m\u001b[0m\n",
      "\u001b[0;32m~/opt/anaconda3/lib/python3.7/site-packages/pandas/core/generic.py\u001b[0m in \u001b[0;36mastype\u001b[0;34m(self, dtype, copy, errors)\u001b[0m\n\u001b[1;32m   5696\u001b[0m         \u001b[0;32melse\u001b[0m\u001b[0;34m:\u001b[0m\u001b[0;34m\u001b[0m\u001b[0;34m\u001b[0m\u001b[0m\n\u001b[1;32m   5697\u001b[0m             \u001b[0;31m# else, only a single dtype is given\u001b[0m\u001b[0;34m\u001b[0m\u001b[0;34m\u001b[0m\u001b[0;34m\u001b[0m\u001b[0m\n\u001b[0;32m-> 5698\u001b[0;31m             \u001b[0mnew_data\u001b[0m \u001b[0;34m=\u001b[0m \u001b[0mself\u001b[0m\u001b[0;34m.\u001b[0m\u001b[0m_data\u001b[0m\u001b[0;34m.\u001b[0m\u001b[0mastype\u001b[0m\u001b[0;34m(\u001b[0m\u001b[0mdtype\u001b[0m\u001b[0;34m=\u001b[0m\u001b[0mdtype\u001b[0m\u001b[0;34m,\u001b[0m \u001b[0mcopy\u001b[0m\u001b[0;34m=\u001b[0m\u001b[0mcopy\u001b[0m\u001b[0;34m,\u001b[0m \u001b[0merrors\u001b[0m\u001b[0;34m=\u001b[0m\u001b[0merrors\u001b[0m\u001b[0;34m)\u001b[0m\u001b[0;34m\u001b[0m\u001b[0;34m\u001b[0m\u001b[0m\n\u001b[0m\u001b[1;32m   5699\u001b[0m             \u001b[0;32mreturn\u001b[0m \u001b[0mself\u001b[0m\u001b[0;34m.\u001b[0m\u001b[0m_constructor\u001b[0m\u001b[0;34m(\u001b[0m\u001b[0mnew_data\u001b[0m\u001b[0;34m)\u001b[0m\u001b[0;34m.\u001b[0m\u001b[0m__finalize__\u001b[0m\u001b[0;34m(\u001b[0m\u001b[0mself\u001b[0m\u001b[0;34m)\u001b[0m\u001b[0;34m\u001b[0m\u001b[0;34m\u001b[0m\u001b[0m\n\u001b[1;32m   5700\u001b[0m \u001b[0;34m\u001b[0m\u001b[0m\n",
      "\u001b[0;32m~/opt/anaconda3/lib/python3.7/site-packages/pandas/core/internals/managers.py\u001b[0m in \u001b[0;36mastype\u001b[0;34m(self, dtype, copy, errors)\u001b[0m\n\u001b[1;32m    580\u001b[0m \u001b[0;34m\u001b[0m\u001b[0m\n\u001b[1;32m    581\u001b[0m     \u001b[0;32mdef\u001b[0m \u001b[0mastype\u001b[0m\u001b[0;34m(\u001b[0m\u001b[0mself\u001b[0m\u001b[0;34m,\u001b[0m \u001b[0mdtype\u001b[0m\u001b[0;34m,\u001b[0m \u001b[0mcopy\u001b[0m\u001b[0;34m:\u001b[0m \u001b[0mbool\u001b[0m \u001b[0;34m=\u001b[0m \u001b[0;32mFalse\u001b[0m\u001b[0;34m,\u001b[0m \u001b[0merrors\u001b[0m\u001b[0;34m:\u001b[0m \u001b[0mstr\u001b[0m \u001b[0;34m=\u001b[0m \u001b[0;34m\"raise\"\u001b[0m\u001b[0;34m)\u001b[0m\u001b[0;34m:\u001b[0m\u001b[0;34m\u001b[0m\u001b[0;34m\u001b[0m\u001b[0m\n\u001b[0;32m--> 582\u001b[0;31m         \u001b[0;32mreturn\u001b[0m \u001b[0mself\u001b[0m\u001b[0;34m.\u001b[0m\u001b[0mapply\u001b[0m\u001b[0;34m(\u001b[0m\u001b[0;34m\"astype\"\u001b[0m\u001b[0;34m,\u001b[0m \u001b[0mdtype\u001b[0m\u001b[0;34m=\u001b[0m\u001b[0mdtype\u001b[0m\u001b[0;34m,\u001b[0m \u001b[0mcopy\u001b[0m\u001b[0;34m=\u001b[0m\u001b[0mcopy\u001b[0m\u001b[0;34m,\u001b[0m \u001b[0merrors\u001b[0m\u001b[0;34m=\u001b[0m\u001b[0merrors\u001b[0m\u001b[0;34m)\u001b[0m\u001b[0;34m\u001b[0m\u001b[0;34m\u001b[0m\u001b[0m\n\u001b[0m\u001b[1;32m    583\u001b[0m \u001b[0;34m\u001b[0m\u001b[0m\n\u001b[1;32m    584\u001b[0m     \u001b[0;32mdef\u001b[0m \u001b[0mconvert\u001b[0m\u001b[0;34m(\u001b[0m\u001b[0mself\u001b[0m\u001b[0;34m,\u001b[0m \u001b[0;34m**\u001b[0m\u001b[0mkwargs\u001b[0m\u001b[0;34m)\u001b[0m\u001b[0;34m:\u001b[0m\u001b[0;34m\u001b[0m\u001b[0;34m\u001b[0m\u001b[0m\n",
      "\u001b[0;32m~/opt/anaconda3/lib/python3.7/site-packages/pandas/core/internals/managers.py\u001b[0m in \u001b[0;36mapply\u001b[0;34m(self, f, filter, **kwargs)\u001b[0m\n\u001b[1;32m    440\u001b[0m                 \u001b[0mapplied\u001b[0m \u001b[0;34m=\u001b[0m \u001b[0mb\u001b[0m\u001b[0;34m.\u001b[0m\u001b[0mapply\u001b[0m\u001b[0;34m(\u001b[0m\u001b[0mf\u001b[0m\u001b[0;34m,\u001b[0m \u001b[0;34m**\u001b[0m\u001b[0mkwargs\u001b[0m\u001b[0;34m)\u001b[0m\u001b[0;34m\u001b[0m\u001b[0;34m\u001b[0m\u001b[0m\n\u001b[1;32m    441\u001b[0m             \u001b[0;32melse\u001b[0m\u001b[0;34m:\u001b[0m\u001b[0;34m\u001b[0m\u001b[0;34m\u001b[0m\u001b[0m\n\u001b[0;32m--> 442\u001b[0;31m                 \u001b[0mapplied\u001b[0m \u001b[0;34m=\u001b[0m \u001b[0mgetattr\u001b[0m\u001b[0;34m(\u001b[0m\u001b[0mb\u001b[0m\u001b[0;34m,\u001b[0m \u001b[0mf\u001b[0m\u001b[0;34m)\u001b[0m\u001b[0;34m(\u001b[0m\u001b[0;34m**\u001b[0m\u001b[0mkwargs\u001b[0m\u001b[0;34m)\u001b[0m\u001b[0;34m\u001b[0m\u001b[0;34m\u001b[0m\u001b[0m\n\u001b[0m\u001b[1;32m    443\u001b[0m             \u001b[0mresult_blocks\u001b[0m \u001b[0;34m=\u001b[0m \u001b[0m_extend_blocks\u001b[0m\u001b[0;34m(\u001b[0m\u001b[0mapplied\u001b[0m\u001b[0;34m,\u001b[0m \u001b[0mresult_blocks\u001b[0m\u001b[0;34m)\u001b[0m\u001b[0;34m\u001b[0m\u001b[0;34m\u001b[0m\u001b[0m\n\u001b[1;32m    444\u001b[0m \u001b[0;34m\u001b[0m\u001b[0m\n",
      "\u001b[0;32m~/opt/anaconda3/lib/python3.7/site-packages/pandas/core/internals/blocks.py\u001b[0m in \u001b[0;36mastype\u001b[0;34m(self, dtype, copy, errors)\u001b[0m\n\u001b[1;32m    623\u001b[0m             \u001b[0mvals1d\u001b[0m \u001b[0;34m=\u001b[0m \u001b[0mvalues\u001b[0m\u001b[0;34m.\u001b[0m\u001b[0mravel\u001b[0m\u001b[0;34m(\u001b[0m\u001b[0;34m)\u001b[0m\u001b[0;34m\u001b[0m\u001b[0;34m\u001b[0m\u001b[0m\n\u001b[1;32m    624\u001b[0m             \u001b[0;32mtry\u001b[0m\u001b[0;34m:\u001b[0m\u001b[0;34m\u001b[0m\u001b[0;34m\u001b[0m\u001b[0m\n\u001b[0;32m--> 625\u001b[0;31m                 \u001b[0mvalues\u001b[0m \u001b[0;34m=\u001b[0m \u001b[0mastype_nansafe\u001b[0m\u001b[0;34m(\u001b[0m\u001b[0mvals1d\u001b[0m\u001b[0;34m,\u001b[0m \u001b[0mdtype\u001b[0m\u001b[0;34m,\u001b[0m \u001b[0mcopy\u001b[0m\u001b[0;34m=\u001b[0m\u001b[0;32mTrue\u001b[0m\u001b[0;34m)\u001b[0m\u001b[0;34m\u001b[0m\u001b[0;34m\u001b[0m\u001b[0m\n\u001b[0m\u001b[1;32m    626\u001b[0m             \u001b[0;32mexcept\u001b[0m \u001b[0;34m(\u001b[0m\u001b[0mValueError\u001b[0m\u001b[0;34m,\u001b[0m \u001b[0mTypeError\u001b[0m\u001b[0;34m)\u001b[0m\u001b[0;34m:\u001b[0m\u001b[0;34m\u001b[0m\u001b[0;34m\u001b[0m\u001b[0m\n\u001b[1;32m    627\u001b[0m                 \u001b[0;31m# e.g. astype_nansafe can fail on object-dtype of strings\u001b[0m\u001b[0;34m\u001b[0m\u001b[0;34m\u001b[0m\u001b[0;34m\u001b[0m\u001b[0m\n",
      "\u001b[0;32m~/opt/anaconda3/lib/python3.7/site-packages/pandas/core/dtypes/cast.py\u001b[0m in \u001b[0;36mastype_nansafe\u001b[0;34m(arr, dtype, copy, skipna)\u001b[0m\n\u001b[1;32m    866\u001b[0m \u001b[0;34m\u001b[0m\u001b[0m\n\u001b[1;32m    867\u001b[0m         \u001b[0;32mif\u001b[0m \u001b[0;32mnot\u001b[0m \u001b[0mnp\u001b[0m\u001b[0;34m.\u001b[0m\u001b[0misfinite\u001b[0m\u001b[0;34m(\u001b[0m\u001b[0marr\u001b[0m\u001b[0;34m)\u001b[0m\u001b[0;34m.\u001b[0m\u001b[0mall\u001b[0m\u001b[0;34m(\u001b[0m\u001b[0;34m)\u001b[0m\u001b[0;34m:\u001b[0m\u001b[0;34m\u001b[0m\u001b[0;34m\u001b[0m\u001b[0m\n\u001b[0;32m--> 868\u001b[0;31m             \u001b[0;32mraise\u001b[0m \u001b[0mValueError\u001b[0m\u001b[0;34m(\u001b[0m\u001b[0;34m\"Cannot convert non-finite values (NA or inf) to integer\"\u001b[0m\u001b[0;34m)\u001b[0m\u001b[0;34m\u001b[0m\u001b[0;34m\u001b[0m\u001b[0m\n\u001b[0m\u001b[1;32m    869\u001b[0m \u001b[0;34m\u001b[0m\u001b[0m\n\u001b[1;32m    870\u001b[0m     \u001b[0;32melif\u001b[0m \u001b[0mis_object_dtype\u001b[0m\u001b[0;34m(\u001b[0m\u001b[0marr\u001b[0m\u001b[0;34m)\u001b[0m\u001b[0;34m:\u001b[0m\u001b[0;34m\u001b[0m\u001b[0;34m\u001b[0m\u001b[0m\n",
      "\u001b[0;31mValueError\u001b[0m: Cannot convert non-finite values (NA or inf) to integer"
     ]
    }
   ],
   "source": [
    "#converting production_budget, domestic_gross, and worldwide_gross from objects to int values\n",
    "#converting release_date from object to datetime value\n",
    "mb_genre.production_budget = mb_genre.production_budget.replace('[\\$,]', '', regex=True).astype(int)\n",
    "mb_genre.domestic_gross = mb_genre.domestic_gross.replace('[\\$,]', '', regex=True).astype(int)\n",
    "mb_genre.worldwide_gross = mb_genre.worldwide_gross.replace('[\\$,]', '', regex=True).astype(int)\n",
    "\n",
    "mb_genre.info()"
   ]
  },
  {
   "cell_type": "markdown",
   "metadata": {},
   "source": [
    "## Data Cleaning"
   ]
  },
  {
   "cell_type": "markdown",
   "metadata": {},
   "source": [
    "### Dealing with datatypes"
   ]
  },
  {
   "cell_type": "code",
   "execution_count": null,
   "metadata": {
    "ExecuteTime": {
     "end_time": "2020-06-20T21:40:34.280757Z",
     "start_time": "2020-06-20T21:40:27.788Z"
    }
   },
   "outputs": [],
   "source": [
    "#drop the column without having to reasign the df\n",
    "movie_budgets_df.drop('worldwide_gross', axis=1, inplace=True)\n",
    "movie_budgets_df.head()  #check to see if the column is dropped "
   ]
  },
  {
   "cell_type": "code",
   "execution_count": null,
   "metadata": {
    "ExecuteTime": {
     "end_time": "2020-06-20T21:40:34.282287Z",
     "start_time": "2020-06-20T21:40:27.792Z"
    }
   },
   "outputs": [],
   "source": [
    "#confirming no na values\n",
    "#movie_budgets_df.isna().sum()"
   ]
  },
  {
   "cell_type": "code",
   "execution_count": null,
   "metadata": {
    "ExecuteTime": {
     "end_time": "2020-06-20T21:40:34.283606Z",
     "start_time": "2020-06-20T21:40:27.795Z"
    }
   },
   "outputs": [],
   "source": [
    "#changing dtype of columns\n",
    "#we want to change the types of 3 columns. \n",
    "\n",
    "def convert_amt_to_int(df, col):\n",
    "    df[col] = df[col].str.replace(\"$\", \"\").str.replace(\",\", \"\").astype('int')\n",
    "    return df"
   ]
  },
  {
   "cell_type": "code",
   "execution_count": null,
   "metadata": {
    "ExecuteTime": {
     "end_time": "2020-06-20T21:40:34.285340Z",
     "start_time": "2020-06-20T21:40:27.798Z"
    }
   },
   "outputs": [],
   "source": [
    "#making a list of all the cols where we want to change the dtype \n",
    "money_cols = ['production_budget', 'domestic_gross']\n",
    "\n",
    "for col in money_cols:\n",
    "    movie_budgets_df = convert_amt_to_int(movie_budgets_df, col)"
   ]
  },
  {
   "cell_type": "code",
   "execution_count": null,
   "metadata": {
    "ExecuteTime": {
     "end_time": "2020-06-20T21:40:34.287630Z",
     "start_time": "2020-06-20T21:40:27.800Z"
    }
   },
   "outputs": [],
   "source": [
    "# check to see if type was changed to int\n",
    "movie_budgets_df.info()"
   ]
  },
  {
   "cell_type": "code",
   "execution_count": null,
   "metadata": {
    "ExecuteTime": {
     "end_time": "2020-06-20T21:40:34.289775Z",
     "start_time": "2020-06-20T21:40:27.803Z"
    }
   },
   "outputs": [],
   "source": [
    "#? How do I set up data to compare \n",
    "#highest grossing of the lowest production cost"
   ]
  },
  {
   "cell_type": "code",
   "execution_count": null,
   "metadata": {
    "ExecuteTime": {
     "end_time": "2020-06-20T21:40:34.292088Z",
     "start_time": "2020-06-20T21:40:27.805Z"
    }
   },
   "outputs": [],
   "source": [
    "df = movie_budgets_df\n",
    "plt.scatter(df['production_budget'],df['domestic_gross'])\n",
    "ax = sns.scatterplot(x=\"production_budget\", y=\"domestic_gross\", data=df)\n",
    "#ax.set(xticks=np.arange(1.5E8, 4E8, 1E8),\n",
    "  #    yticks=np.arange(0.5E8, 7E8, 2E8))\n",
    "plt.show()"
   ]
  },
  {
   "cell_type": "code",
   "execution_count": null,
   "metadata": {
    "ExecuteTime": {
     "end_time": "2020-06-20T21:40:34.295210Z",
     "start_time": "2020-06-20T21:40:27.807Z"
    }
   },
   "outputs": [],
   "source": [
    "narrow_prod_budget_df = df[(df['production_budget'] >= 1.8E8) & \n",
    "                           (df['production_budget'] <= 2.2E8)]\n",
    "narrow_prod_budget_df.info()\n",
    "narrow_prod_budget_df\n"
   ]
  },
  {
   "cell_type": "code",
   "execution_count": null,
   "metadata": {
    "ExecuteTime": {
     "end_time": "2020-06-17T20:29:28.780142Z",
     "start_time": "2020-06-17T20:29:28.726000Z"
    }
   },
   "outputs": [],
   "source": []
  },
  {
   "cell_type": "code",
   "execution_count": null,
   "metadata": {},
   "outputs": [],
   "source": []
  },
  {
   "cell_type": "code",
   "execution_count": null,
   "metadata": {},
   "outputs": [],
   "source": []
  },
  {
   "cell_type": "code",
   "execution_count": null,
   "metadata": {},
   "outputs": [],
   "source": []
  },
  {
   "cell_type": "markdown",
   "metadata": {},
   "source": [
    "## Split Up Genres"
   ]
  },
  {
   "cell_type": "markdown",
   "metadata": {},
   "source": [
    "### Bring in the title_basics Data Frame "
   ]
  },
  {
   "cell_type": "code",
   "execution_count": null,
   "metadata": {
    "ExecuteTime": {
     "end_time": "2020-06-20T21:40:34.297369Z",
     "start_time": "2020-06-20T21:40:27.870Z"
    }
   },
   "outputs": [],
   "source": [
    "#create a dataframe out of a csv file\n",
    "genre_categories = pd.read_csv(\"cleaned_genre_exploration.csv\")\n",
    "\n",
    "type(genre_categories) #verify "
   ]
  },
  {
   "cell_type": "code",
   "execution_count": null,
   "metadata": {
    "ExecuteTime": {
     "end_time": "2020-06-20T21:40:34.298926Z",
     "start_time": "2020-06-20T21:40:27.872Z"
    }
   },
   "outputs": [],
   "source": [
    "genre_categories.info()"
   ]
  },
  {
   "cell_type": "code",
   "execution_count": null,
   "metadata": {},
   "outputs": [],
   "source": []
  },
  {
   "cell_type": "code",
   "execution_count": null,
   "metadata": {},
   "outputs": [],
   "source": []
  },
  {
   "cell_type": "code",
   "execution_count": null,
   "metadata": {
    "ExecuteTime": {
     "end_time": "2020-06-20T21:40:34.300437Z",
     "start_time": "2020-06-20T21:40:27.878Z"
    }
   },
   "outputs": [],
   "source": [
    "genre_categories.head()"
   ]
  },
  {
   "cell_type": "code",
   "execution_count": null,
   "metadata": {
    "ExecuteTime": {
     "end_time": "2020-06-20T21:40:34.302448Z",
     "start_time": "2020-06-20T21:40:27.881Z"
    }
   },
   "outputs": [],
   "source": [
    "#Title basics - creating the df\n",
    "df_title_basics = pd.read_csv('zippedData/imdb.title.basics.csv.gz')\n",
    "#Creating the split genre column\n",
    "df_title_basics[['G1','G2','G3']] = df_title_basics.genres.str.split(\",\",expand=True) \n",
    "#Dropping the old genre column\n",
    "df_title_basics.drop(['genres'], axis=1, inplace = True)\n",
    "#cleaned runtime minutes by using mean\n",
    "mean_runtime = df_title_basics['runtime_minutes'].mean()\n",
    "df_title_basics['runtime_minutes'].fillna(mean_runtime, inplace=True)\n",
    "#cleaning original title by replacing missing ones with the primary title\n",
    "df_title_basics['original_title'].fillna('primary_title', inplace=True)\n",
    "\n",
    "display(df_title_basics.head())\n",
    "display(df_title_basics.info())\n",
    "display(df_title_basics.isna().sum())"
   ]
  },
  {
   "cell_type": "code",
   "execution_count": null,
   "metadata": {
    "ExecuteTime": {
     "end_time": "2020-06-20T21:40:34.304902Z",
     "start_time": "2020-06-20T21:40:27.883Z"
    }
   },
   "outputs": [],
   "source": [
    "#result = df1.append(df2)\n",
    "combo_category = genre_categories.append(df_title_basics)"
   ]
  },
  {
   "cell_type": "code",
   "execution_count": null,
   "metadata": {
    "ExecuteTime": {
     "end_time": "2020-06-20T21:40:34.307129Z",
     "start_time": "2020-06-20T21:40:27.885Z"
    }
   },
   "outputs": [],
   "source": [
    "combo_category.head()\n",
    "combo_category.info()"
   ]
  },
  {
   "cell_type": "code",
   "execution_count": null,
   "metadata": {
    "ExecuteTime": {
     "end_time": "2020-06-20T21:40:34.308924Z",
     "start_time": "2020-06-20T21:40:27.888Z"
    }
   },
   "outputs": [],
   "source": [
    "#combo_category.isnull().any()\n",
    "combo_category.isna().sum()\n",
    "#combo_category.isnull().sum()\n",
    "combo_category.info()"
   ]
  },
  {
   "cell_type": "code",
   "execution_count": null,
   "metadata": {
    "ExecuteTime": {
     "end_time": "2020-06-20T21:40:34.311477Z",
     "start_time": "2020-06-20T21:40:27.890Z"
    }
   },
   "outputs": [],
   "source": [
    "#combo_category.dropna(inplace = True)"
   ]
  },
  {
   "cell_type": "code",
   "execution_count": null,
   "metadata": {
    "ExecuteTime": {
     "end_time": "2020-06-20T21:40:34.313301Z",
     "start_time": "2020-06-20T21:40:27.894Z"
    }
   },
   "outputs": [],
   "source": [
    "#changing dtype of columns\n",
    "#we want to change the types of 3 columns. Good idea to write a function for this\n",
    "\n",
    "def convert_amt_to_int(combo_category, col):\n",
    "    combo_category[col] = combo_category[col].str.replace(\"$\", \"\").str.replace(\",\", \"\").astype('int')\n",
    "    return combo_category\n",
    "combo_category.info()\n",
    "\n",
    "#combo_category = combo_category.astype({\"production_budget\": int, \"domestic_gross\": int})"
   ]
  },
  {
   "cell_type": "code",
   "execution_count": null,
   "metadata": {
    "ExecuteTime": {
     "end_time": "2020-06-20T21:40:34.315209Z",
     "start_time": "2020-06-20T21:40:27.896Z"
    }
   },
   "outputs": [],
   "source": [
    "combo_category.head()"
   ]
  },
  {
   "cell_type": "code",
   "execution_count": null,
   "metadata": {
    "ExecuteTime": {
     "end_time": "2020-06-20T02:30:39.890567Z",
     "start_time": "2020-06-20T02:30:39.867299Z"
    }
   },
   "outputs": [],
   "source": []
  },
  {
   "cell_type": "code",
   "execution_count": null,
   "metadata": {},
   "outputs": [],
   "source": []
  },
  {
   "cell_type": "code",
   "execution_count": null,
   "metadata": {
    "ExecuteTime": {
     "end_time": "2020-06-20T21:40:34.316810Z",
     "start_time": "2020-06-20T21:40:27.901Z"
    }
   },
   "outputs": [],
   "source": [
    "combo_category.info()\n",
    "combo_category"
   ]
  },
  {
   "cell_type": "code",
   "execution_count": null,
   "metadata": {},
   "outputs": [],
   "source": []
  },
  {
   "cell_type": "code",
   "execution_count": null,
   "metadata": {
    "ExecuteTime": {
     "end_time": "2020-06-20T21:40:34.318561Z",
     "start_time": "2020-06-20T21:40:27.907Z"
    }
   },
   "outputs": [],
   "source": [
    "#changing dtype of columns\n",
    "#we want to change the types of 3 columns. Good idea to write a function for this\n",
    "\n",
    "# def convert_amt_to_int(df, col):\n",
    "#     df[col] = df[col].str.replace(\"$\", \"\").str.replace(\",\", \"\").astype('int')\n",
    "#     return df"
   ]
  },
  {
   "cell_type": "code",
   "execution_count": null,
   "metadata": {
    "ExecuteTime": {
     "end_time": "2020-06-20T21:40:34.320480Z",
     "start_time": "2020-06-20T21:40:27.910Z"
    }
   },
   "outputs": [],
   "source": [
    "#making a list of all the cols where we want to change the dtype \n",
    "\n",
    "# money_cols = ['production_budget', 'domestic_gross', 'worldwide_gross']\n",
    "\n",
    "# for col in money_cols:\n",
    "#     movie_budgets_df = convert_amt_to_int(movie_budgets_df, col)"
   ]
  },
  {
   "cell_type": "code",
   "execution_count": null,
   "metadata": {},
   "outputs": [],
   "source": []
  },
  {
   "cell_type": "code",
   "execution_count": null,
   "metadata": {
    "ExecuteTime": {
     "end_time": "2020-06-20T21:40:34.322202Z",
     "start_time": "2020-06-20T21:40:27.914Z"
    }
   },
   "outputs": [],
   "source": [
    "limited_prod_budget = df[(df['production_budget'] >= 1.8E8) & \n",
    "              (df['production_budget'] <= 2.2E8)]#['production_budget']\n",
    "limited_prod_budget.info()"
   ]
  },
  {
   "cell_type": "code",
   "execution_count": null,
   "metadata": {
    "ExecuteTime": {
     "end_time": "2020-06-20T21:40:34.323832Z",
     "start_time": "2020-06-20T21:40:27.917Z"
    }
   },
   "outputs": [],
   "source": [
    "plt.figure(figsize=(10,6))\n",
    "df = combo_category\n",
    "ax = sns.barplot(x= ('production_budget'), y= 'G1', color = 'c', data=df)\n",
    "                 #order=df.sort_values('production_budget'))\n",
    "#ax. set(xlim=(1.8, 4))\n",
    "ax.set_xlabel('Production_Budget')\n",
    "ax.set_ylabel('Genre')"
   ]
  },
  {
   "cell_type": "code",
   "execution_count": null,
   "metadata": {
    "ExecuteTime": {
     "end_time": "2020-06-20T21:40:34.325422Z",
     "start_time": "2020-06-20T21:40:27.919Z"
    }
   },
   "outputs": [],
   "source": [
    "#ts.sort_values().plot(use_index=False)\n",
    "x = np.arange(10)\n",
    "ax1 = plt.subplot(1,1,1)\n",
    "w = 0.3\n",
    "#plt.xticks(), will label the bars on x axis with the respective country names.\n",
    "plt.xticks(x + w /2, ['G1'], rotation='vertical')\n",
    "pop =ax1.bar(x, ['production_budget'], width=w, color='b', align='center')\n",
    "#The trick is to use two different axes that share the same x axis, we have used ax1.twinx() method.\n",
    "ax2 = ax1.twinx()\n",
    "#We have calculated GDP by dividing gdpPerCapita to population.\n",
    "domestic_gross =ax2.bar(x + w, ['domestic_gross'], width=w,color='g',align='center')\n",
    "#Set the Y axis label as GDP.\n",
    "plt.ylabel('domestic_gross')\n",
    "#To set the legend on the plot we have used plt.legend()\n",
    "plt.legend(['production_budget', 'domestic_gross'],['Production Budget in Millions', 'Domestic Gross'])\n",
    "#To show the plot finally we have used plt.show().\n",
    "plt.show()"
   ]
  },
  {
   "cell_type": "code",
   "execution_count": null,
   "metadata": {},
   "outputs": [],
   "source": []
  },
  {
   "cell_type": "code",
   "execution_count": null,
   "metadata": {
    "ExecuteTime": {
     "end_time": "2020-06-20T21:40:34.327817Z",
     "start_time": "2020-06-20T21:40:27.923Z"
    }
   },
   "outputs": [],
   "source": [
    "#genre = genre_categories = df[['G1']]\n",
    "genre_categories = [(df['production_budget'] >= 1.8E8) & \n",
    "                    (df['production_budget'] <= 2.2E8), ('G1')]\n",
    "\n",
    "                     \n",
    "#df['production_budget'] >= 1.8E8) & (df['production_budget'] <= 2.2E8)"
   ]
  },
  {
   "cell_type": "code",
   "execution_count": null,
   "metadata": {
    "ExecuteTime": {
     "end_time": "2020-06-19T04:00:20.392496Z",
     "start_time": "2020-06-19T04:00:20.386936Z"
    }
   },
   "outputs": [],
   "source": []
  },
  {
   "cell_type": "code",
   "execution_count": null,
   "metadata": {
    "ExecuteTime": {
     "end_time": "2020-06-19T04:21:29.634119Z",
     "start_time": "2020-06-19T04:21:24.545Z"
    }
   },
   "outputs": [],
   "source": []
  },
  {
   "cell_type": "markdown",
   "metadata": {
    "ExecuteTime": {
     "end_time": "2020-06-18T22:53:16.011026Z",
     "start_time": "2020-06-18T22:53:15.931168Z"
    }
   },
   "source": [
    "#turn movie budgets file into a dataframe and find out it's type\n",
    "movie_budgets_df = csv_files_dict['tn_movie_budgets_gz']\n",
    "type(movie_budgets_df)\n",
    "\n",
    "\n",
    "genre_categories = pd.read_csv(\"cleaned_genre_exploration.csv\")\n",
    "genre_categories.info()\n",
    "genre_categories"
   ]
  },
  {
   "cell_type": "code",
   "execution_count": null,
   "metadata": {},
   "outputs": [],
   "source": []
  },
  {
   "cell_type": "code",
   "execution_count": null,
   "metadata": {
    "ExecuteTime": {
     "end_time": "2020-06-18T23:07:57.906212Z",
     "start_time": "2020-06-18T23:07:57.898952Z"
    }
   },
   "outputs": [],
   "source": []
  },
  {
   "cell_type": "code",
   "execution_count": null,
   "metadata": {
    "ExecuteTime": {
     "end_time": "2020-06-19T03:22:49.847103Z",
     "start_time": "2020-06-19T03:22:49.831873Z"
    }
   },
   "outputs": [],
   "source": [
    "\n",
    "\n"
   ]
  },
  {
   "cell_type": "code",
   "execution_count": null,
   "metadata": {},
   "outputs": [],
   "source": []
  },
  {
   "cell_type": "code",
   "execution_count": null,
   "metadata": {
    "ExecuteTime": {
     "end_time": "2020-06-20T21:40:34.329930Z",
     "start_time": "2020-06-20T21:40:27.969Z"
    }
   },
   "outputs": [],
   "source": [
    "title_basics_df.head()"
   ]
  },
  {
   "cell_type": "code",
   "execution_count": null,
   "metadata": {
    "ExecuteTime": {
     "end_time": "2020-06-20T21:40:34.332323Z",
     "start_time": "2020-06-20T21:40:27.971Z"
    }
   },
   "outputs": [],
   "source": [
    "title_basics_df.shape"
   ]
  },
  {
   "cell_type": "code",
   "execution_count": null,
   "metadata": {
    "ExecuteTime": {
     "end_time": "2020-06-20T21:40:34.334042Z",
     "start_time": "2020-06-20T21:40:27.973Z"
    }
   },
   "outputs": [],
   "source": [
    "title_basics_df.info()"
   ]
  },
  {
   "cell_type": "code",
   "execution_count": null,
   "metadata": {
    "ExecuteTime": {
     "end_time": "2020-06-20T21:40:34.336145Z",
     "start_time": "2020-06-20T21:40:27.976Z"
    }
   },
   "outputs": [],
   "source": [
    "#drop rows where data is missing\n",
    "cleanedTB = title_basics_df.dropna()\n",
    "cleanedTB"
   ]
  },
  {
   "cell_type": "code",
   "execution_count": null,
   "metadata": {
    "ExecuteTime": {
     "end_time": "2020-06-20T21:40:34.337794Z",
     "start_time": "2020-06-20T21:40:27.979Z"
    }
   },
   "outputs": [],
   "source": [
    "#check the counts after rows dropped\n",
    "cleanedTB.info()"
   ]
  },
  {
   "cell_type": "code",
   "execution_count": null,
   "metadata": {
    "ExecuteTime": {
     "end_time": "2020-06-20T21:40:34.339628Z",
     "start_time": "2020-06-20T21:40:27.981Z"
    }
   },
   "outputs": [],
   "source": [
    "# title_basics_df['genres'] = title_basics_df['genres'].apply(lambda x: \n",
    "#                                                             x.split(\",\") \n",
    "#                                                             if x else x)\n",
    "# title_basics_df.head()"
   ]
  },
  {
   "cell_type": "code",
   "execution_count": null,
   "metadata": {
    "ExecuteTime": {
     "end_time": "2020-06-20T21:40:34.341134Z",
     "start_time": "2020-06-20T21:40:27.983Z"
    }
   },
   "outputs": [],
   "source": [
    "#making a set of all genres we have. set doesn't allow duplicate values\n",
    "\n",
    "# all_genres = set()\n",
    "# for genres in cleanedTB['genres']:\n",
    "#     if genres:\n",
    "#         all_genres.update(genres)"
   ]
  },
  {
   "cell_type": "code",
   "execution_count": null,
   "metadata": {
    "ExecuteTime": {
     "end_time": "2020-06-20T21:40:34.343081Z",
     "start_time": "2020-06-20T21:40:27.986Z"
    }
   },
   "outputs": [],
   "source": [
    "#show all the genres\n",
    "# all_genres"
   ]
  },
  {
   "cell_type": "code",
   "execution_count": null,
   "metadata": {},
   "outputs": [],
   "source": []
  }
 ],
 "metadata": {
  "kernelspec": {
   "display_name": "Python 3",
   "language": "python",
   "name": "python3"
  },
  "language_info": {
   "codemirror_mode": {
    "name": "ipython",
    "version": 3
   },
   "file_extension": ".py",
   "mimetype": "text/x-python",
   "name": "python",
   "nbconvert_exporter": "python",
   "pygments_lexer": "ipython3",
   "version": "3.7.6"
  },
  "toc": {
   "base_numbering": 1,
   "nav_menu": {},
   "number_sections": true,
   "sideBar": true,
   "skip_h1_title": false,
   "title_cell": "Table of Contents",
   "title_sidebar": "Contents",
   "toc_cell": false,
   "toc_position": {},
   "toc_section_display": true,
   "toc_window_display": false
  },
  "varInspector": {
   "cols": {
    "lenName": 16,
    "lenType": 16,
    "lenVar": 40
   },
   "kernels_config": {
    "python": {
     "delete_cmd_postfix": "",
     "delete_cmd_prefix": "del ",
     "library": "var_list.py",
     "varRefreshCmd": "print(var_dic_list())"
    },
    "r": {
     "delete_cmd_postfix": ") ",
     "delete_cmd_prefix": "rm(",
     "library": "var_list.r",
     "varRefreshCmd": "cat(var_dic_list()) "
    }
   },
   "types_to_exclude": [
    "module",
    "function",
    "builtin_function_or_method",
    "instance",
    "_Feature"
   ],
   "window_display": false
  }
 },
 "nbformat": 4,
 "nbformat_minor": 4
}
