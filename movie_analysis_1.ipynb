{
 "cells": [
  {
   "cell_type": "markdown",
   "metadata": {},
   "source": [
    "## Final Project Submission\n",
    "\n",
    "Please fill out:\n",
    "* Student name: \n",
    "* Student pace: self paced / part time / full time\n",
    "* Scheduled project review date/time: \n",
    "* Instructor name: \n",
    "* Blog post URL:\n"
   ]
  },
  {
   "cell_type": "code",
   "execution_count": 116,
   "metadata": {},
   "outputs": [],
   "source": [
    "# Import\n",
    "import pandas as pd\n",
    "import os"
   ]
  },
  {
   "cell_type": "code",
   "execution_count": 117,
   "metadata": {},
   "outputs": [
    {
     "data": {
      "text/plain": [
       "'/Users/ArashPeimani/Documents/Flatiron_Bootcamp/Mod1/Final_Project/Movie_Project'"
      ]
     },
     "execution_count": 117,
     "metadata": {},
     "output_type": "execute_result"
    }
   ],
   "source": [
    "pwd"
   ]
  },
  {
   "cell_type": "code",
   "execution_count": 118,
   "metadata": {},
   "outputs": [],
   "source": [
    "from glob import glob"
   ]
  },
  {
   "cell_type": "code",
   "execution_count": 119,
   "metadata": {},
   "outputs": [
    {
     "data": {
      "text/plain": [
       "['./zippedData/imdb.title.crew.csv.gz',\n",
       " './zippedData/tmdb.movies.csv.gz',\n",
       " './zippedData/imdb.title.akas.csv.gz',\n",
       " './zippedData/imdb.title.ratings.csv.gz',\n",
       " './zippedData/imdb.name.basics.csv.gz',\n",
       " './zippedData/imdb.title.basics.csv.gz',\n",
       " './zippedData/tn.movie_budgets.csv.gz',\n",
       " './zippedData/bom.movie_gross.csv.gz',\n",
       " './zippedData/imdb.title.principals.csv.gz']"
      ]
     },
     "execution_count": 119,
     "metadata": {},
     "output_type": "execute_result"
    }
   ],
   "source": [
    "csv_files = glob('./zippedData/*.csv.gz')\n",
    "csv_files"
   ]
  },
  {
   "cell_type": "code",
   "execution_count": 120,
   "metadata": {},
   "outputs": [
    {
     "data": {
      "text/plain": [
       "list"
      ]
     },
     "execution_count": 120,
     "metadata": {},
     "output_type": "execute_result"
    }
   ],
   "source": [
    "type(csv_files) #what type of files are they"
   ]
  },
  {
   "cell_type": "code",
   "execution_count": 121,
   "metadata": {},
   "outputs": [],
   "source": [
    "#get the data frame from the files\n",
    "d = {}"
   ]
  },
  {
   "cell_type": "code",
   "execution_count": 122,
   "metadata": {},
   "outputs": [],
   "source": [
    "for file in csv_files:\n",
    "    d[file] = pd.read_csv(file)"
   ]
  },
  {
   "cell_type": "code",
   "execution_count": 123,
   "metadata": {},
   "outputs": [
    {
     "data": {
      "text/plain": [
       "dict_keys(['./zippedData/imdb.title.crew.csv.gz', './zippedData/tmdb.movies.csv.gz', './zippedData/imdb.title.akas.csv.gz', './zippedData/imdb.title.ratings.csv.gz', './zippedData/imdb.name.basics.csv.gz', './zippedData/imdb.title.basics.csv.gz', './zippedData/tn.movie_budgets.csv.gz', './zippedData/bom.movie_gross.csv.gz', './zippedData/imdb.title.principals.csv.gz'])"
      ]
     },
     "execution_count": 123,
     "metadata": {},
     "output_type": "execute_result"
    }
   ],
   "source": [
    "d.keys()"
   ]
  },
  {
   "cell_type": "code",
   "execution_count": 124,
   "metadata": {},
   "outputs": [],
   "source": [
    "# a for loop to clean up the key data for legibility\n",
    "csv_files_dict = {}\n",
    "for filename in csv_files:\n",
    "    filename_cleaned = os.path.basename(filename).replace('.csv', '').replace('.', '_')\n",
    "    filename_df = pd.read_csv(filename, index_col=0)\n",
    "    csv_files_dict[filename_cleaned] = filename_df"
   ]
  },
  {
   "cell_type": "code",
   "execution_count": 125,
   "metadata": {},
   "outputs": [
    {
     "data": {
      "text/plain": [
       "dict_keys(['imdb_title_crew_gz', 'tmdb_movies_gz', 'imdb_title_akas_gz', 'imdb_title_ratings_gz', 'imdb_name_basics_gz', 'imdb_title_basics_gz', 'tn_movie_budgets_gz', 'bom_movie_gross_gz', 'imdb_title_principals_gz'])"
      ]
     },
     "execution_count": 125,
     "metadata": {},
     "output_type": "execute_result"
    }
   ],
   "source": [
    "csv_files_dict.keys() #show the cleaned up filenames"
   ]
  },
  {
   "cell_type": "code",
   "execution_count": 126,
   "metadata": {},
   "outputs": [],
   "source": [
    "# create dataframes out of each file\n",
    "title_crew_df = csv_files_dict['imdb_title_crew_gz']\n",
    "movies_df = csv_files_dict['tmdb_movies_gz']\n",
    "title_akas_df = csv_files_dict['imdb_title_akas_gz']\n",
    "title_ratings_df = csv_files_dict['imdb_title_ratings_gz']\n",
    "name_basics_df = csv_files_dict['imdb_name_basics_gz']\n",
    "title_basics_df = csv_files_dict['imdb_title_basics_gz']\n",
    "movie_budgets_df = csv_files_dict['tn_movie_budgets_gz']\n",
    "movie_gross_df = csv_files_dict['bom_movie_gross_gz']\n",
    "title_principals_df = csv_files_dict['imdb_title_principals_gz']"
   ]
  },
  {
   "cell_type": "code",
   "execution_count": 127,
   "metadata": {},
   "outputs": [
    {
     "data": {
      "text/plain": [
       "['directors', 'writers']"
      ]
     },
     "execution_count": 127,
     "metadata": {},
     "output_type": "execute_result"
    }
   ],
   "source": [
    "sorted(list(title_crew_df))"
   ]
  },
  {
   "cell_type": "code",
   "execution_count": 128,
   "metadata": {},
   "outputs": [
    {
     "data": {
      "text/plain": [
       "['genre_ids',\n",
       " 'id',\n",
       " 'original_language',\n",
       " 'original_title',\n",
       " 'popularity',\n",
       " 'release_date',\n",
       " 'title',\n",
       " 'vote_average',\n",
       " 'vote_count']"
      ]
     },
     "execution_count": 128,
     "metadata": {},
     "output_type": "execute_result"
    }
   ],
   "source": [
    "sorted(list(movies_df))"
   ]
  },
  {
   "cell_type": "code",
   "execution_count": 129,
   "metadata": {},
   "outputs": [
    {
     "data": {
      "text/plain": [
       "['attributes',\n",
       " 'is_original_title',\n",
       " 'language',\n",
       " 'ordering',\n",
       " 'region',\n",
       " 'title',\n",
       " 'types']"
      ]
     },
     "execution_count": 129,
     "metadata": {},
     "output_type": "execute_result"
    }
   ],
   "source": [
    "sorted(list(title_akas_df))"
   ]
  },
  {
   "cell_type": "code",
   "execution_count": 130,
   "metadata": {},
   "outputs": [
    {
     "data": {
      "text/plain": [
       "['averagerating', 'numvotes']"
      ]
     },
     "execution_count": 130,
     "metadata": {},
     "output_type": "execute_result"
    }
   ],
   "source": [
    "sorted(list(title_ratings_df))"
   ]
  },
  {
   "cell_type": "code",
   "execution_count": 131,
   "metadata": {},
   "outputs": [
    {
     "data": {
      "text/plain": [
       "['birth_year',\n",
       " 'death_year',\n",
       " 'known_for_titles',\n",
       " 'primary_name',\n",
       " 'primary_profession']"
      ]
     },
     "execution_count": 131,
     "metadata": {},
     "output_type": "execute_result"
    }
   ],
   "source": [
    "sorted(list(name_basics_df))"
   ]
  },
  {
   "cell_type": "code",
   "execution_count": 147,
   "metadata": {},
   "outputs": [
    {
     "data": {
      "text/html": [
       "<div>\n",
       "<style scoped>\n",
       "    .dataframe tbody tr th:only-of-type {\n",
       "        vertical-align: middle;\n",
       "    }\n",
       "\n",
       "    .dataframe tbody tr th {\n",
       "        vertical-align: top;\n",
       "    }\n",
       "\n",
       "    .dataframe thead th {\n",
       "        text-align: right;\n",
       "    }\n",
       "</style>\n",
       "<table border=\"1\" class=\"dataframe\">\n",
       "  <thead>\n",
       "    <tr style=\"text-align: right;\">\n",
       "      <th></th>\n",
       "      <th>primary_title</th>\n",
       "      <th>original_title</th>\n",
       "      <th>start_year</th>\n",
       "      <th>runtime_minutes</th>\n",
       "      <th>genres</th>\n",
       "    </tr>\n",
       "    <tr>\n",
       "      <th>tconst</th>\n",
       "      <th></th>\n",
       "      <th></th>\n",
       "      <th></th>\n",
       "      <th></th>\n",
       "      <th></th>\n",
       "    </tr>\n",
       "  </thead>\n",
       "  <tbody>\n",
       "    <tr>\n",
       "      <th>tt0063540</th>\n",
       "      <td>Sunghursh</td>\n",
       "      <td>Sunghursh</td>\n",
       "      <td>2013</td>\n",
       "      <td>175.0</td>\n",
       "      <td>Action,Crime,Drama</td>\n",
       "    </tr>\n",
       "    <tr>\n",
       "      <th>tt0066787</th>\n",
       "      <td>One Day Before the Rainy Season</td>\n",
       "      <td>Ashad Ka Ek Din</td>\n",
       "      <td>2019</td>\n",
       "      <td>114.0</td>\n",
       "      <td>Biography,Drama</td>\n",
       "    </tr>\n",
       "    <tr>\n",
       "      <th>tt0069049</th>\n",
       "      <td>The Other Side of the Wind</td>\n",
       "      <td>The Other Side of the Wind</td>\n",
       "      <td>2018</td>\n",
       "      <td>122.0</td>\n",
       "      <td>Drama</td>\n",
       "    </tr>\n",
       "    <tr>\n",
       "      <th>tt0069204</th>\n",
       "      <td>Sabse Bada Sukh</td>\n",
       "      <td>Sabse Bada Sukh</td>\n",
       "      <td>2018</td>\n",
       "      <td>NaN</td>\n",
       "      <td>Comedy,Drama</td>\n",
       "    </tr>\n",
       "    <tr>\n",
       "      <th>tt0100275</th>\n",
       "      <td>The Wandering Soap Opera</td>\n",
       "      <td>La Telenovela Errante</td>\n",
       "      <td>2017</td>\n",
       "      <td>80.0</td>\n",
       "      <td>Comedy,Drama,Fantasy</td>\n",
       "    </tr>\n",
       "  </tbody>\n",
       "</table>\n",
       "</div>"
      ],
      "text/plain": [
       "                             primary_title              original_title  \\\n",
       "tconst                                                                   \n",
       "tt0063540                        Sunghursh                   Sunghursh   \n",
       "tt0066787  One Day Before the Rainy Season             Ashad Ka Ek Din   \n",
       "tt0069049       The Other Side of the Wind  The Other Side of the Wind   \n",
       "tt0069204                  Sabse Bada Sukh             Sabse Bada Sukh   \n",
       "tt0100275         The Wandering Soap Opera       La Telenovela Errante   \n",
       "\n",
       "           start_year  runtime_minutes                genres  \n",
       "tconst                                                        \n",
       "tt0063540        2013            175.0    Action,Crime,Drama  \n",
       "tt0066787        2019            114.0       Biography,Drama  \n",
       "tt0069049        2018            122.0                 Drama  \n",
       "tt0069204        2018              NaN          Comedy,Drama  \n",
       "tt0100275        2017             80.0  Comedy,Drama,Fantasy  "
      ]
     },
     "execution_count": 147,
     "metadata": {},
     "output_type": "execute_result"
    }
   ],
   "source": [
    "sorted(list(title_basics_df))\n",
    "title_basics_df.head()"
   ]
  },
  {
   "cell_type": "code",
   "execution_count": 133,
   "metadata": {},
   "outputs": [
    {
     "data": {
      "text/plain": [
       "['domestic_gross',\n",
       " 'movie',\n",
       " 'production_budget',\n",
       " 'release_date',\n",
       " 'worldwide_gross']"
      ]
     },
     "execution_count": 133,
     "metadata": {},
     "output_type": "execute_result"
    }
   ],
   "source": [
    "sorted(list(movie_budgets_df))"
   ]
  },
  {
   "cell_type": "code",
   "execution_count": 134,
   "metadata": {},
   "outputs": [
    {
     "data": {
      "text/plain": [
       "['domestic_gross', 'foreign_gross', 'studio', 'year']"
      ]
     },
     "execution_count": 134,
     "metadata": {},
     "output_type": "execute_result"
    }
   ],
   "source": [
    "sorted(list(movie_gross_df))"
   ]
  },
  {
   "cell_type": "code",
   "execution_count": 135,
   "metadata": {},
   "outputs": [
    {
     "data": {
      "text/plain": [
       "['category', 'characters', 'job', 'nconst', 'ordering']"
      ]
     },
     "execution_count": 135,
     "metadata": {},
     "output_type": "execute_result"
    }
   ],
   "source": [
    "sorted(list(title_principals_df))"
   ]
  },
  {
   "cell_type": "code",
   "execution_count": 136,
   "metadata": {},
   "outputs": [],
   "source": [
    "#------- All the data is imported -------------"
   ]
  },
  {
   "cell_type": "code",
   "execution_count": 137,
   "metadata": {},
   "outputs": [
    {
     "name": "stdout",
     "output_type": "stream",
     "text": [
      "<class 'pandas.core.frame.DataFrame'>\n",
      "Index: 606648 entries, nm0061671 to nm9993380\n",
      "Data columns (total 5 columns):\n",
      " #   Column              Non-Null Count   Dtype  \n",
      "---  ------              --------------   -----  \n",
      " 0   primary_name        606648 non-null  object \n",
      " 1   birth_year          82736 non-null   float64\n",
      " 2   death_year          6783 non-null    float64\n",
      " 3   primary_profession  555308 non-null  object \n",
      " 4   known_for_titles    576444 non-null  object \n",
      "dtypes: float64(2), object(3)\n",
      "memory usage: 27.8+ MB\n"
     ]
    },
    {
     "data": {
      "text/html": [
       "<div>\n",
       "<style scoped>\n",
       "    .dataframe tbody tr th:only-of-type {\n",
       "        vertical-align: middle;\n",
       "    }\n",
       "\n",
       "    .dataframe tbody tr th {\n",
       "        vertical-align: top;\n",
       "    }\n",
       "\n",
       "    .dataframe thead th {\n",
       "        text-align: right;\n",
       "    }\n",
       "</style>\n",
       "<table border=\"1\" class=\"dataframe\">\n",
       "  <thead>\n",
       "    <tr style=\"text-align: right;\">\n",
       "      <th></th>\n",
       "      <th>primary_name</th>\n",
       "      <th>birth_year</th>\n",
       "      <th>death_year</th>\n",
       "      <th>primary_profession</th>\n",
       "      <th>known_for_titles</th>\n",
       "    </tr>\n",
       "    <tr>\n",
       "      <th>nconst</th>\n",
       "      <th></th>\n",
       "      <th></th>\n",
       "      <th></th>\n",
       "      <th></th>\n",
       "      <th></th>\n",
       "    </tr>\n",
       "  </thead>\n",
       "  <tbody>\n",
       "    <tr>\n",
       "      <th>nm0061671</th>\n",
       "      <td>Mary Ellen Bauder</td>\n",
       "      <td>NaN</td>\n",
       "      <td>NaN</td>\n",
       "      <td>miscellaneous,production_manager,producer</td>\n",
       "      <td>tt0837562,tt2398241,tt0844471,tt0118553</td>\n",
       "    </tr>\n",
       "    <tr>\n",
       "      <th>nm0061865</th>\n",
       "      <td>Joseph Bauer</td>\n",
       "      <td>NaN</td>\n",
       "      <td>NaN</td>\n",
       "      <td>composer,music_department,sound_department</td>\n",
       "      <td>tt0896534,tt6791238,tt0287072,tt1682940</td>\n",
       "    </tr>\n",
       "    <tr>\n",
       "      <th>nm0062070</th>\n",
       "      <td>Bruce Baum</td>\n",
       "      <td>NaN</td>\n",
       "      <td>NaN</td>\n",
       "      <td>miscellaneous,actor,writer</td>\n",
       "      <td>tt1470654,tt0363631,tt0104030,tt0102898</td>\n",
       "    </tr>\n",
       "    <tr>\n",
       "      <th>nm0062195</th>\n",
       "      <td>Axel Baumann</td>\n",
       "      <td>NaN</td>\n",
       "      <td>NaN</td>\n",
       "      <td>camera_department,cinematographer,art_department</td>\n",
       "      <td>tt0114371,tt2004304,tt1618448,tt1224387</td>\n",
       "    </tr>\n",
       "    <tr>\n",
       "      <th>nm0062798</th>\n",
       "      <td>Pete Baxter</td>\n",
       "      <td>NaN</td>\n",
       "      <td>NaN</td>\n",
       "      <td>production_designer,art_department,set_decorator</td>\n",
       "      <td>tt0452644,tt0452692,tt3458030,tt2178256</td>\n",
       "    </tr>\n",
       "  </tbody>\n",
       "</table>\n",
       "</div>"
      ],
      "text/plain": [
       "                primary_name  birth_year  death_year  \\\n",
       "nconst                                                 \n",
       "nm0061671  Mary Ellen Bauder         NaN         NaN   \n",
       "nm0061865       Joseph Bauer         NaN         NaN   \n",
       "nm0062070         Bruce Baum         NaN         NaN   \n",
       "nm0062195       Axel Baumann         NaN         NaN   \n",
       "nm0062798        Pete Baxter         NaN         NaN   \n",
       "\n",
       "                                         primary_profession  \\\n",
       "nconst                                                        \n",
       "nm0061671         miscellaneous,production_manager,producer   \n",
       "nm0061865        composer,music_department,sound_department   \n",
       "nm0062070                        miscellaneous,actor,writer   \n",
       "nm0062195  camera_department,cinematographer,art_department   \n",
       "nm0062798  production_designer,art_department,set_decorator   \n",
       "\n",
       "                                  known_for_titles  \n",
       "nconst                                              \n",
       "nm0061671  tt0837562,tt2398241,tt0844471,tt0118553  \n",
       "nm0061865  tt0896534,tt6791238,tt0287072,tt1682940  \n",
       "nm0062070  tt1470654,tt0363631,tt0104030,tt0102898  \n",
       "nm0062195  tt0114371,tt2004304,tt1618448,tt1224387  \n",
       "nm0062798  tt0452644,tt0452692,tt3458030,tt2178256  "
      ]
     },
     "execution_count": 137,
     "metadata": {},
     "output_type": "execute_result"
    }
   ],
   "source": [
    "name_basics_df.info()\n",
    "name_basics_df.head()"
   ]
  },
  {
   "cell_type": "code",
   "execution_count": 138,
   "metadata": {},
   "outputs": [
    {
     "data": {
      "text/html": [
       "<div>\n",
       "<style scoped>\n",
       "    .dataframe tbody tr th:only-of-type {\n",
       "        vertical-align: middle;\n",
       "    }\n",
       "\n",
       "    .dataframe tbody tr th {\n",
       "        vertical-align: top;\n",
       "    }\n",
       "\n",
       "    .dataframe thead th {\n",
       "        text-align: right;\n",
       "    }\n",
       "</style>\n",
       "<table border=\"1\" class=\"dataframe\">\n",
       "  <thead>\n",
       "    <tr style=\"text-align: right;\">\n",
       "      <th></th>\n",
       "      <th>primary_name</th>\n",
       "      <th>death_year</th>\n",
       "      <th>primary_profession</th>\n",
       "      <th>known_for_titles</th>\n",
       "    </tr>\n",
       "    <tr>\n",
       "      <th>nconst</th>\n",
       "      <th></th>\n",
       "      <th></th>\n",
       "      <th></th>\n",
       "      <th></th>\n",
       "    </tr>\n",
       "  </thead>\n",
       "  <tbody>\n",
       "    <tr>\n",
       "      <th>nm0061671</th>\n",
       "      <td>Mary Ellen Bauder</td>\n",
       "      <td>NaN</td>\n",
       "      <td>miscellaneous,production_manager,producer</td>\n",
       "      <td>tt0837562,tt2398241,tt0844471,tt0118553</td>\n",
       "    </tr>\n",
       "    <tr>\n",
       "      <th>nm0061865</th>\n",
       "      <td>Joseph Bauer</td>\n",
       "      <td>NaN</td>\n",
       "      <td>composer,music_department,sound_department</td>\n",
       "      <td>tt0896534,tt6791238,tt0287072,tt1682940</td>\n",
       "    </tr>\n",
       "    <tr>\n",
       "      <th>nm0062070</th>\n",
       "      <td>Bruce Baum</td>\n",
       "      <td>NaN</td>\n",
       "      <td>miscellaneous,actor,writer</td>\n",
       "      <td>tt1470654,tt0363631,tt0104030,tt0102898</td>\n",
       "    </tr>\n",
       "    <tr>\n",
       "      <th>nm0062195</th>\n",
       "      <td>Axel Baumann</td>\n",
       "      <td>NaN</td>\n",
       "      <td>camera_department,cinematographer,art_department</td>\n",
       "      <td>tt0114371,tt2004304,tt1618448,tt1224387</td>\n",
       "    </tr>\n",
       "    <tr>\n",
       "      <th>nm0062798</th>\n",
       "      <td>Pete Baxter</td>\n",
       "      <td>NaN</td>\n",
       "      <td>production_designer,art_department,set_decorator</td>\n",
       "      <td>tt0452644,tt0452692,tt3458030,tt2178256</td>\n",
       "    </tr>\n",
       "    <tr>\n",
       "      <th>...</th>\n",
       "      <td>...</td>\n",
       "      <td>...</td>\n",
       "      <td>...</td>\n",
       "      <td>...</td>\n",
       "    </tr>\n",
       "    <tr>\n",
       "      <th>nm9990381</th>\n",
       "      <td>Susan Grobes</td>\n",
       "      <td>NaN</td>\n",
       "      <td>actress</td>\n",
       "      <td>NaN</td>\n",
       "    </tr>\n",
       "    <tr>\n",
       "      <th>nm9990690</th>\n",
       "      <td>Joo Yeon So</td>\n",
       "      <td>NaN</td>\n",
       "      <td>actress</td>\n",
       "      <td>tt9090932,tt8737130</td>\n",
       "    </tr>\n",
       "    <tr>\n",
       "      <th>nm9991320</th>\n",
       "      <td>Madeline Smith</td>\n",
       "      <td>NaN</td>\n",
       "      <td>actress</td>\n",
       "      <td>tt8734436,tt9615610</td>\n",
       "    </tr>\n",
       "    <tr>\n",
       "      <th>nm9991786</th>\n",
       "      <td>Michelle Modigliani</td>\n",
       "      <td>NaN</td>\n",
       "      <td>producer</td>\n",
       "      <td>NaN</td>\n",
       "    </tr>\n",
       "    <tr>\n",
       "      <th>nm9993380</th>\n",
       "      <td>Pegasus Envoyé</td>\n",
       "      <td>NaN</td>\n",
       "      <td>director,actor,writer</td>\n",
       "      <td>tt8743182</td>\n",
       "    </tr>\n",
       "  </tbody>\n",
       "</table>\n",
       "<p>606648 rows × 4 columns</p>\n",
       "</div>"
      ],
      "text/plain": [
       "                  primary_name  death_year  \\\n",
       "nconst                                       \n",
       "nm0061671    Mary Ellen Bauder         NaN   \n",
       "nm0061865         Joseph Bauer         NaN   \n",
       "nm0062070           Bruce Baum         NaN   \n",
       "nm0062195         Axel Baumann         NaN   \n",
       "nm0062798          Pete Baxter         NaN   \n",
       "...                        ...         ...   \n",
       "nm9990381         Susan Grobes         NaN   \n",
       "nm9990690          Joo Yeon So         NaN   \n",
       "nm9991320       Madeline Smith         NaN   \n",
       "nm9991786  Michelle Modigliani         NaN   \n",
       "nm9993380       Pegasus Envoyé         NaN   \n",
       "\n",
       "                                         primary_profession  \\\n",
       "nconst                                                        \n",
       "nm0061671         miscellaneous,production_manager,producer   \n",
       "nm0061865        composer,music_department,sound_department   \n",
       "nm0062070                        miscellaneous,actor,writer   \n",
       "nm0062195  camera_department,cinematographer,art_department   \n",
       "nm0062798  production_designer,art_department,set_decorator   \n",
       "...                                                     ...   \n",
       "nm9990381                                           actress   \n",
       "nm9990690                                           actress   \n",
       "nm9991320                                           actress   \n",
       "nm9991786                                          producer   \n",
       "nm9993380                             director,actor,writer   \n",
       "\n",
       "                                  known_for_titles  \n",
       "nconst                                              \n",
       "nm0061671  tt0837562,tt2398241,tt0844471,tt0118553  \n",
       "nm0061865  tt0896534,tt6791238,tt0287072,tt1682940  \n",
       "nm0062070  tt1470654,tt0363631,tt0104030,tt0102898  \n",
       "nm0062195  tt0114371,tt2004304,tt1618448,tt1224387  \n",
       "nm0062798  tt0452644,tt0452692,tt3458030,tt2178256  \n",
       "...                                            ...  \n",
       "nm9990381                                      NaN  \n",
       "nm9990690                      tt9090932,tt8737130  \n",
       "nm9991320                      tt8734436,tt9615610  \n",
       "nm9991786                                      NaN  \n",
       "nm9993380                                tt8743182  \n",
       "\n",
       "[606648 rows x 4 columns]"
      ]
     },
     "execution_count": 138,
     "metadata": {},
     "output_type": "execute_result"
    }
   ],
   "source": [
    "#drop the column birth year from the name_basics data frame\n",
    "name_basics_df.drop(['birth_year'], axis=1)"
   ]
  },
  {
   "cell_type": "code",
   "execution_count": 139,
   "metadata": {},
   "outputs": [
    {
     "data": {
      "text/html": [
       "<div>\n",
       "<style scoped>\n",
       "    .dataframe tbody tr th:only-of-type {\n",
       "        vertical-align: middle;\n",
       "    }\n",
       "\n",
       "    .dataframe tbody tr th {\n",
       "        vertical-align: top;\n",
       "    }\n",
       "\n",
       "    .dataframe thead th {\n",
       "        text-align: right;\n",
       "    }\n",
       "</style>\n",
       "<table border=\"1\" class=\"dataframe\">\n",
       "  <thead>\n",
       "    <tr style=\"text-align: right;\">\n",
       "      <th></th>\n",
       "      <th>primary_name</th>\n",
       "      <th>birth_year</th>\n",
       "      <th>death_year</th>\n",
       "      <th>primary_profession</th>\n",
       "      <th>known_for_titles</th>\n",
       "    </tr>\n",
       "    <tr>\n",
       "      <th>nconst</th>\n",
       "      <th></th>\n",
       "      <th></th>\n",
       "      <th></th>\n",
       "      <th></th>\n",
       "      <th></th>\n",
       "    </tr>\n",
       "  </thead>\n",
       "  <tbody>\n",
       "    <tr>\n",
       "      <th>nm0653992</th>\n",
       "      <td>Ovid</td>\n",
       "      <td>NaN</td>\n",
       "      <td>17.0</td>\n",
       "      <td>writer</td>\n",
       "      <td>tt3179572,tt0057818,tt0085182,tt3907210</td>\n",
       "    </tr>\n",
       "    <tr>\n",
       "      <th>nm0613556</th>\n",
       "      <td>Shikibu Murasaki</td>\n",
       "      <td>973.0</td>\n",
       "      <td>1031.0</td>\n",
       "      <td>writer</td>\n",
       "      <td>tt0092875,tt0043580,tt0094100,tt0256385</td>\n",
       "    </tr>\n",
       "    <tr>\n",
       "      <th>nm0019604</th>\n",
       "      <td>Dante Alighieri</td>\n",
       "      <td>1265.0</td>\n",
       "      <td>1321.0</td>\n",
       "      <td>writer,soundtrack</td>\n",
       "      <td>tt1874782,tt7370578,tt1598441,tt1118686</td>\n",
       "    </tr>\n",
       "    <tr>\n",
       "      <th>nm0090504</th>\n",
       "      <td>Giovanni Boccaccio</td>\n",
       "      <td>1313.0</td>\n",
       "      <td>1375.0</td>\n",
       "      <td>writer</td>\n",
       "      <td>tt0045675,tt0068832,tt0158510,tt5666304</td>\n",
       "    </tr>\n",
       "    <tr>\n",
       "      <th>nm1063158</th>\n",
       "      <td>Cheng'en Wu</td>\n",
       "      <td>1506.0</td>\n",
       "      <td>1581.0</td>\n",
       "      <td>writer</td>\n",
       "      <td>tt1163129,tt6168860,tt0112778,tt1753783</td>\n",
       "    </tr>\n",
       "    <tr>\n",
       "      <th>...</th>\n",
       "      <td>...</td>\n",
       "      <td>...</td>\n",
       "      <td>...</td>\n",
       "      <td>...</td>\n",
       "      <td>...</td>\n",
       "    </tr>\n",
       "    <tr>\n",
       "      <th>nm0487292</th>\n",
       "      <td>Mario Lanza</td>\n",
       "      <td>1921.0</td>\n",
       "      <td>1959.0</td>\n",
       "      <td>soundtrack,actor</td>\n",
       "      <td>tt0049737,tt0043599,tt0110005,tt0052817</td>\n",
       "    </tr>\n",
       "    <tr>\n",
       "      <th>nm0001124</th>\n",
       "      <td>Cecil B. DeMille</td>\n",
       "      <td>1881.0</td>\n",
       "      <td>1959.0</td>\n",
       "      <td>producer,director,editor</td>\n",
       "      <td>tt0043014,tt0041838,tt0049833,tt0044672</td>\n",
       "    </tr>\n",
       "    <tr>\n",
       "      <th>nm0080164</th>\n",
       "      <td>M.K. Thyagaraja Bhagavathar</td>\n",
       "      <td>1909.0</td>\n",
       "      <td>1959.0</td>\n",
       "      <td>actor,director</td>\n",
       "      <td>tt0214470,tt0157332,tt0155977,tt0254667</td>\n",
       "    </tr>\n",
       "    <tr>\n",
       "      <th>nm0248291</th>\n",
       "      <td>Maude Eburne</td>\n",
       "      <td>1875.0</td>\n",
       "      <td>1960.0</td>\n",
       "      <td>actress,soundtrack</td>\n",
       "      <td>tt0035446,tt0029009,tt0024727,tt0020668</td>\n",
       "    </tr>\n",
       "    <tr>\n",
       "      <th>nm0000022</th>\n",
       "      <td>Clark Gable</td>\n",
       "      <td>1901.0</td>\n",
       "      <td>1960.0</td>\n",
       "      <td>actor,soundtrack,producer</td>\n",
       "      <td>tt0052278,tt0026752,tt0031381,tt0025316</td>\n",
       "    </tr>\n",
       "  </tbody>\n",
       "</table>\n",
       "<p>500 rows × 5 columns</p>\n",
       "</div>"
      ],
      "text/plain": [
       "                          primary_name  birth_year  death_year  \\\n",
       "nconst                                                           \n",
       "nm0653992                         Ovid         NaN        17.0   \n",
       "nm0613556             Shikibu Murasaki       973.0      1031.0   \n",
       "nm0019604              Dante Alighieri      1265.0      1321.0   \n",
       "nm0090504           Giovanni Boccaccio      1313.0      1375.0   \n",
       "nm1063158                  Cheng'en Wu      1506.0      1581.0   \n",
       "...                                ...         ...         ...   \n",
       "nm0487292                  Mario Lanza      1921.0      1959.0   \n",
       "nm0001124             Cecil B. DeMille      1881.0      1959.0   \n",
       "nm0080164  M.K. Thyagaraja Bhagavathar      1909.0      1959.0   \n",
       "nm0248291                 Maude Eburne      1875.0      1960.0   \n",
       "nm0000022                  Clark Gable      1901.0      1960.0   \n",
       "\n",
       "                  primary_profession                         known_for_titles  \n",
       "nconst                                                                         \n",
       "nm0653992                     writer  tt3179572,tt0057818,tt0085182,tt3907210  \n",
       "nm0613556                     writer  tt0092875,tt0043580,tt0094100,tt0256385  \n",
       "nm0019604          writer,soundtrack  tt1874782,tt7370578,tt1598441,tt1118686  \n",
       "nm0090504                     writer  tt0045675,tt0068832,tt0158510,tt5666304  \n",
       "nm1063158                     writer  tt1163129,tt6168860,tt0112778,tt1753783  \n",
       "...                              ...                                      ...  \n",
       "nm0487292           soundtrack,actor  tt0049737,tt0043599,tt0110005,tt0052817  \n",
       "nm0001124   producer,director,editor  tt0043014,tt0041838,tt0049833,tt0044672  \n",
       "nm0080164             actor,director  tt0214470,tt0157332,tt0155977,tt0254667  \n",
       "nm0248291         actress,soundtrack  tt0035446,tt0029009,tt0024727,tt0020668  \n",
       "nm0000022  actor,soundtrack,producer  tt0052278,tt0026752,tt0031381,tt0025316  \n",
       "\n",
       "[500 rows x 5 columns]"
      ]
     },
     "execution_count": 139,
     "metadata": {},
     "output_type": "execute_result"
    }
   ],
   "source": [
    "name_basics_df = name_basics_df.sort_values(by ='death_year' )\n",
    "name_basics_df.head(500)"
   ]
  },
  {
   "cell_type": "code",
   "execution_count": null,
   "metadata": {},
   "outputs": [],
   "source": []
  },
  {
   "cell_type": "code",
   "execution_count": 140,
   "metadata": {},
   "outputs": [
    {
     "name": "stdout",
     "output_type": "stream",
     "text": [
      "<class 'pandas.core.frame.DataFrame'>\n",
      "Int64Index: 5782 entries, 1 to 82\n",
      "Data columns (total 5 columns):\n",
      " #   Column             Non-Null Count  Dtype \n",
      "---  ------             --------------  ----- \n",
      " 0   release_date       5782 non-null   object\n",
      " 1   movie              5782 non-null   object\n",
      " 2   production_budget  5782 non-null   object\n",
      " 3   domestic_gross     5782 non-null   object\n",
      " 4   worldwide_gross    5782 non-null   object\n",
      "dtypes: object(5)\n",
      "memory usage: 271.0+ KB\n"
     ]
    }
   ],
   "source": [
    "#To maximize budget, lowest cost movie to make which are high grossing. \n",
    "#How can we replicate this? Is it based on genre, date of release, etc.?\n",
    "\n",
    "# Need to clean Movie_budgets and Title_basics\n",
    "\n",
    "movie_budgets_df.info()"
   ]
  },
  {
   "cell_type": "code",
   "execution_count": 141,
   "metadata": {},
   "outputs": [
    {
     "name": "stdout",
     "output_type": "stream",
     "text": [
      "<class 'pandas.core.frame.DataFrame'>\n",
      "Index: 146144 entries, tt0063540 to tt9916754\n",
      "Data columns (total 5 columns):\n",
      " #   Column           Non-Null Count   Dtype  \n",
      "---  ------           --------------   -----  \n",
      " 0   primary_title    146144 non-null  object \n",
      " 1   original_title   146123 non-null  object \n",
      " 2   start_year       146144 non-null  int64  \n",
      " 3   runtime_minutes  114405 non-null  float64\n",
      " 4   genres           140736 non-null  object \n",
      "dtypes: float64(1), int64(1), object(3)\n",
      "memory usage: 6.7+ MB\n"
     ]
    }
   ],
   "source": [
    "title_basics_df.info()"
   ]
  },
  {
   "cell_type": "code",
   "execution_count": 146,
   "metadata": {},
   "outputs": [
    {
     "data": {
      "text/plain": [
       "array(['Action,Crime,Drama', 'Biography,Drama', 'Drama', ...,\n",
       "       'Music,Musical,Reality-TV', 'Animation,Crime',\n",
       "       'Adventure,History,War'], dtype=object)"
      ]
     },
     "execution_count": 146,
     "metadata": {},
     "output_type": "execute_result"
    }
   ],
   "source": [
    "title_basics_df['genres'].unique()"
   ]
  },
  {
   "cell_type": "code",
   "execution_count": 151,
   "metadata": {},
   "outputs": [
    {
     "ename": "AttributeError",
     "evalue": "'DataFrame' object has no attribute 'tolist'",
     "output_type": "error",
     "traceback": [
      "\u001b[0;31m---------------------------------------------------------------------------\u001b[0m",
      "\u001b[0;31mAttributeError\u001b[0m                            Traceback (most recent call last)",
      "\u001b[0;32m<ipython-input-151-d1f1ef48aefb>\u001b[0m in \u001b[0;36m<module>\u001b[0;34m\u001b[0m\n\u001b[0;32m----> 1\u001b[0;31m \u001b[0mtitle_basics_df\u001b[0m\u001b[0;34m[\u001b[0m\u001b[0;34m'genres'\u001b[0m\u001b[0;34m]\u001b[0m\u001b[0;34m.\u001b[0m\u001b[0mstr\u001b[0m\u001b[0;34m.\u001b[0m\u001b[0msplit\u001b[0m\u001b[0;34m(\u001b[0m\u001b[0mexpand\u001b[0m\u001b[0;34m=\u001b[0m\u001b[0;32mTrue\u001b[0m\u001b[0;34m)\u001b[0m\u001b[0;34m.\u001b[0m\u001b[0mtolist\u001b[0m\u001b[0;34m(\u001b[0m\u001b[0;34m)\u001b[0m\u001b[0;34m\u001b[0m\u001b[0;34m\u001b[0m\u001b[0m\n\u001b[0m",
      "\u001b[0;32m~/opt/anaconda3/lib/python3.7/site-packages/pandas/core/generic.py\u001b[0m in \u001b[0;36m__getattr__\u001b[0;34m(self, name)\u001b[0m\n\u001b[1;32m   5272\u001b[0m             \u001b[0;32mif\u001b[0m \u001b[0mself\u001b[0m\u001b[0;34m.\u001b[0m\u001b[0m_info_axis\u001b[0m\u001b[0;34m.\u001b[0m\u001b[0m_can_hold_identifiers_and_holds_name\u001b[0m\u001b[0;34m(\u001b[0m\u001b[0mname\u001b[0m\u001b[0;34m)\u001b[0m\u001b[0;34m:\u001b[0m\u001b[0;34m\u001b[0m\u001b[0;34m\u001b[0m\u001b[0m\n\u001b[1;32m   5273\u001b[0m                 \u001b[0;32mreturn\u001b[0m \u001b[0mself\u001b[0m\u001b[0;34m[\u001b[0m\u001b[0mname\u001b[0m\u001b[0;34m]\u001b[0m\u001b[0;34m\u001b[0m\u001b[0;34m\u001b[0m\u001b[0m\n\u001b[0;32m-> 5274\u001b[0;31m             \u001b[0;32mreturn\u001b[0m \u001b[0mobject\u001b[0m\u001b[0;34m.\u001b[0m\u001b[0m__getattribute__\u001b[0m\u001b[0;34m(\u001b[0m\u001b[0mself\u001b[0m\u001b[0;34m,\u001b[0m \u001b[0mname\u001b[0m\u001b[0;34m)\u001b[0m\u001b[0;34m\u001b[0m\u001b[0;34m\u001b[0m\u001b[0m\n\u001b[0m\u001b[1;32m   5275\u001b[0m \u001b[0;34m\u001b[0m\u001b[0m\n\u001b[1;32m   5276\u001b[0m     \u001b[0;32mdef\u001b[0m \u001b[0m__setattr__\u001b[0m\u001b[0;34m(\u001b[0m\u001b[0mself\u001b[0m\u001b[0;34m,\u001b[0m \u001b[0mname\u001b[0m\u001b[0;34m:\u001b[0m \u001b[0mstr\u001b[0m\u001b[0;34m,\u001b[0m \u001b[0mvalue\u001b[0m\u001b[0;34m)\u001b[0m \u001b[0;34m->\u001b[0m \u001b[0;32mNone\u001b[0m\u001b[0;34m:\u001b[0m\u001b[0;34m\u001b[0m\u001b[0;34m\u001b[0m\u001b[0m\n",
      "\u001b[0;31mAttributeError\u001b[0m: 'DataFrame' object has no attribute 'tolist'"
     ]
    }
   ],
   "source": [
    "title_basics_df['genres'].str.split(expand=True)"
   ]
  },
  {
   "cell_type": "code",
   "execution_count": 145,
   "metadata": {},
   "outputs": [],
   "source": [
    "# Use the keep=first to return the duplicates and keep the first occurence.\n",
    "# title_basics_df.drop_duplicates()\n"
   ]
  },
  {
   "cell_type": "code",
   "execution_count": 143,
   "metadata": {},
   "outputs": [],
   "source": [
    "#remove duplicates\n",
    "# title_basics_df = title_basics_df[title_basics_df.duplicated()]\n",
    "\n",
    "#recheck for duplicates\n",
    "# duplicateTitleDF = title_basics_df[title_basics_df.duplicated(keep='first')]\n",
    "# print(duplicateTitleDF)"
   ]
  },
  {
   "cell_type": "code",
   "execution_count": 144,
   "metadata": {},
   "outputs": [],
   "source": [
    "# duplicateTitleDF.drop_duplcates(subset = none, inplace = True)\n",
    "# print(duplicateTitleDF)"
   ]
  },
  {
   "cell_type": "code",
   "execution_count": null,
   "metadata": {},
   "outputs": [],
   "source": []
  }
 ],
 "metadata": {
  "kernelspec": {
   "display_name": "Python 3",
   "language": "python",
   "name": "python3"
  },
  "language_info": {
   "codemirror_mode": {
    "name": "ipython",
    "version": 3
   },
   "file_extension": ".py",
   "mimetype": "text/x-python",
   "name": "python",
   "nbconvert_exporter": "python",
   "pygments_lexer": "ipython3",
   "version": "3.7.6"
  }
 },
 "nbformat": 4,
 "nbformat_minor": 2
}
