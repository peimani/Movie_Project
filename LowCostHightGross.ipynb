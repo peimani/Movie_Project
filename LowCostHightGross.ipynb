{
 "cells": [
  {
   "cell_type": "markdown",
   "metadata": {},
   "source": [
    "# Q: What is the Highest Grossing Movie With The Least Production Cost?"
   ]
  },
  {
   "cell_type": "code",
   "execution_count": null,
   "metadata": {
    "ExecuteTime": {
     "start_time": "2020-06-20T04:37:33.627Z"
    }
   },
   "outputs": [],
   "source": [
    "import sqlite3\n",
    "import os\n",
    "import pandas as pd\n",
    "import numpy as np\n",
    "import matplotlib.pyplot as plt\n",
    "import seaborn as sns\n",
    "from glob import glob"
   ]
  },
  {
   "cell_type": "code",
   "execution_count": null,
   "metadata": {
    "ExecuteTime": {
     "start_time": "2020-06-20T04:37:33.644Z"
    }
   },
   "outputs": [],
   "source": [
    "csv_files = glob(\"./zippedData/*.csv.gz\")\n",
    "csv_files"
   ]
  },
  {
   "cell_type": "code",
   "execution_count": null,
   "metadata": {
    "ExecuteTime": {
     "start_time": "2020-06-20T04:37:33.653Z"
    }
   },
   "outputs": [],
   "source": [
    "csv_files_dict = {}\n",
    "for filename in csv_files:\n",
    "    filename_cleaned = os.path.basename(filename).replace(\".csv\", \"\").replace(\".\", \"_\") # cleaning the filenames\n",
    "    filename_df = pd.read_csv(filename, index_col=0)\n",
    "    csv_files_dict[filename_cleaned] = filename_df\n"
   ]
  },
  {
   "cell_type": "code",
   "execution_count": null,
   "metadata": {
    "ExecuteTime": {
     "start_time": "2020-06-20T04:37:33.661Z"
    }
   },
   "outputs": [],
   "source": [
    "#End of importing files and libraries"
   ]
  },
  {
   "cell_type": "code",
   "execution_count": null,
   "metadata": {
    "ExecuteTime": {
     "start_time": "2020-06-20T04:37:33.669Z"
    }
   },
   "outputs": [],
   "source": [
    "# create dataframes out of each file\n",
    "title_crew_df = csv_files_dict['imdb_title_crew_gz']\n",
    "movies_df = csv_files_dict['tmdb_movies_gz']\n",
    "title_akas_df = csv_files_dict['imdb_title_akas_gz']\n",
    "title_ratings_df = csv_files_dict['imdb_title_ratings_gz']\n",
    "name_basics_df = csv_files_dict['imdb_name_basics_gz']\n",
    "title_basics_df = csv_files_dict['imdb_title_basics_gz']\n",
    "movie_budgets_df = csv_files_dict['tn_movie_budgets_gz']\n",
    "movie_gross_df = csv_files_dict['bom_movie_gross_gz']\n",
    "title_principals_df = csv_files_dict['imdb_title_principals_gz']"
   ]
  },
  {
   "cell_type": "code",
   "execution_count": null,
   "metadata": {
    "ExecuteTime": {
     "start_time": "2020-06-20T04:37:33.680Z"
    }
   },
   "outputs": [],
   "source": [
    "#turn movie budgets file into a dataframe and find out it's type\n",
    "movie_budgets_df = csv_files_dict['tn_movie_budgets_gz']\n",
    "type(movie_budgets_df)"
   ]
  },
  {
   "cell_type": "code",
   "execution_count": null,
   "metadata": {
    "ExecuteTime": {
     "start_time": "2020-06-20T04:37:33.685Z"
    }
   },
   "outputs": [],
   "source": [
    "#find out how many rows and columns in the file\n",
    "movie_budgets_df.shape"
   ]
  },
  {
   "cell_type": "code",
   "execution_count": null,
   "metadata": {
    "ExecuteTime": {
     "start_time": "2020-06-20T04:37:33.707Z"
    }
   },
   "outputs": [],
   "source": [
    "#look at the first five rows of the dataframe\n",
    "movie_budgets_df.head()"
   ]
  },
  {
   "cell_type": "code",
   "execution_count": null,
   "metadata": {
    "ExecuteTime": {
     "start_time": "2020-06-20T04:37:33.714Z"
    }
   },
   "outputs": [],
   "source": [
    "#find out information to clean the dataframe\n",
    "movie_budgets_df.info()"
   ]
  },
  {
   "cell_type": "markdown",
   "metadata": {},
   "source": [
    "## Data Cleaning"
   ]
  },
  {
   "cell_type": "markdown",
   "metadata": {},
   "source": [
    "### Dealing with datatypes"
   ]
  },
  {
   "cell_type": "code",
   "execution_count": null,
   "metadata": {
    "ExecuteTime": {
     "start_time": "2020-06-20T04:37:33.821Z"
    }
   },
   "outputs": [],
   "source": [
    "#drop the column without having to reasign the df\n",
    "movie_budgets_df.drop('worldwide_gross', axis=1, inplace=True)\n",
    "movie_budgets_df.head()  #check to see if the column is dropped "
   ]
  },
  {
   "cell_type": "code",
   "execution_count": null,
   "metadata": {
    "ExecuteTime": {
     "start_time": "2020-06-20T04:37:33.829Z"
    }
   },
   "outputs": [],
   "source": [
    "#confirming no na values\n",
    "#movie_budgets_df.isna().sum()"
   ]
  },
  {
   "cell_type": "code",
   "execution_count": null,
   "metadata": {
    "ExecuteTime": {
     "start_time": "2020-06-20T04:37:33.839Z"
    }
   },
   "outputs": [],
   "source": [
    "#changing dtype of columns\n",
    "#we want to change the types of 3 columns. \n",
    "\n",
    "def convert_amt_to_int(df, col):\n",
    "    df[col] = df[col].str.replace(\"$\", \"\").str.replace(\",\", \"\").astype('int')\n",
    "    return df"
   ]
  },
  {
   "cell_type": "code",
   "execution_count": null,
   "metadata": {
    "ExecuteTime": {
     "start_time": "2020-06-20T04:37:33.845Z"
    }
   },
   "outputs": [],
   "source": [
    "#making a list of all the cols where we want to change the dtype \n",
    "money_cols = ['production_budget', 'domestic_gross']\n",
    "\n",
    "for col in money_cols:\n",
    "    movie_budgets_df = convert_amt_to_int(movie_budgets_df, col)"
   ]
  },
  {
   "cell_type": "code",
   "execution_count": null,
   "metadata": {
    "ExecuteTime": {
     "start_time": "2020-06-20T04:37:33.856Z"
    }
   },
   "outputs": [],
   "source": [
    "# check to see if type was changed to int\n",
    "movie_budgets_df.info()"
   ]
  },
  {
   "cell_type": "code",
   "execution_count": null,
   "metadata": {
    "ExecuteTime": {
     "start_time": "2020-06-20T04:37:33.863Z"
    }
   },
   "outputs": [],
   "source": [
    "#? How do I set up data to compare \n",
    "#highest grossing of the lowest production cost"
   ]
  },
  {
   "cell_type": "code",
   "execution_count": null,
   "metadata": {
    "ExecuteTime": {
     "start_time": "2020-06-20T04:37:33.871Z"
    }
   },
   "outputs": [],
   "source": [
    "df = movie_budgets_df\n",
    "plt.scatter(df['production_budget'],df['domestic_gross'])\n",
    "ax = sns.scatterplot(x=\"production_budget\", y=\"domestic_gross\", data=df)\n",
    "#ax.set(xticks=np.arange(1.5E8, 4E8, 1E8),\n",
    "  #    yticks=np.arange(0.5E8, 7E8, 2E8))\n",
    "plt.show()"
   ]
  },
  {
   "cell_type": "code",
   "execution_count": null,
   "metadata": {
    "ExecuteTime": {
     "start_time": "2020-06-20T04:37:33.889Z"
    }
   },
   "outputs": [],
   "source": [
    "narrow_prod_budget_df = df[(df['production_budget'] >= 1.8E8) & \n",
    "                           (df['production_budget'] <= 2.2E8)]\n",
    "narrow_prod_budget_df.info()\n",
    "narrow_prod_budget_df\n"
   ]
  },
  {
   "cell_type": "code",
   "execution_count": null,
   "metadata": {
    "ExecuteTime": {
     "end_time": "2020-06-17T20:29:28.780142Z",
     "start_time": "2020-06-17T20:29:28.726000Z"
    }
   },
   "outputs": [],
   "source": []
  },
  {
   "cell_type": "code",
   "execution_count": null,
   "metadata": {},
   "outputs": [],
   "source": []
  },
  {
   "cell_type": "code",
   "execution_count": null,
   "metadata": {},
   "outputs": [],
   "source": []
  },
  {
   "cell_type": "code",
   "execution_count": null,
   "metadata": {},
   "outputs": [],
   "source": []
  },
  {
   "cell_type": "markdown",
   "metadata": {},
   "source": [
    "## Split Up Genres"
   ]
  },
  {
   "cell_type": "markdown",
   "metadata": {},
   "source": [
    "### Bring in the title_basics Data Frame "
   ]
  },
  {
   "cell_type": "code",
   "execution_count": null,
   "metadata": {
    "ExecuteTime": {
     "start_time": "2020-06-20T04:37:34.034Z"
    }
   },
   "outputs": [],
   "source": [
    "#create a dataframe out of a csv file\n",
    "genre_categories = pd.read_csv(\"cleaned_genre_exploration.csv\")\n",
    "\n",
    "type(genre_categories) #verify "
   ]
  },
  {
   "cell_type": "code",
   "execution_count": null,
   "metadata": {
    "ExecuteTime": {
     "start_time": "2020-06-20T04:37:34.042Z"
    }
   },
   "outputs": [],
   "source": [
    "genre_categories.info()"
   ]
  },
  {
   "cell_type": "code",
   "execution_count": null,
   "metadata": {},
   "outputs": [],
   "source": []
  },
  {
   "cell_type": "code",
   "execution_count": null,
   "metadata": {},
   "outputs": [],
   "source": []
  },
  {
   "cell_type": "code",
   "execution_count": null,
   "metadata": {
    "ExecuteTime": {
     "start_time": "2020-06-20T04:37:34.065Z"
    }
   },
   "outputs": [],
   "source": [
    "genre_categories.head()"
   ]
  },
  {
   "cell_type": "code",
   "execution_count": null,
   "metadata": {
    "ExecuteTime": {
     "start_time": "2020-06-20T04:37:34.084Z"
    }
   },
   "outputs": [],
   "source": [
    "#Title basics - creating the df\n",
    "df_title_basics = pd.read_csv('zippedData/imdb.title.basics.csv.gz')\n",
    "#Creating the split genre column\n",
    "df_title_basics[['G1','G2','G3']] = df_title_basics.genres.str.split(\",\",expand=True) \n",
    "#Dropping the old genre column\n",
    "df_title_basics.drop(['genres'], axis=1, inplace = True)\n",
    "#cleaned runtime minutes by using mean\n",
    "mean_runtime = df_title_basics['runtime_minutes'].mean()\n",
    "df_title_basics['runtime_minutes'].fillna(mean_runtime, inplace=True)\n",
    "#cleaning original title by replacing missing ones with the primary title\n",
    "df_title_basics['original_title'].fillna('primary_title', inplace=True)\n",
    "\n",
    "display(df_title_basics.head())\n",
    "display(df_title_basics.info())\n",
    "display(df_title_basics.isna().sum())"
   ]
  },
  {
   "cell_type": "code",
   "execution_count": null,
   "metadata": {
    "ExecuteTime": {
     "start_time": "2020-06-20T04:37:34.091Z"
    }
   },
   "outputs": [],
   "source": [
    "#result = df1.append(df2)\n",
    "combo_category = genre_categories.append(df_title_basics)"
   ]
  },
  {
   "cell_type": "code",
   "execution_count": null,
   "metadata": {
    "ExecuteTime": {
     "start_time": "2020-06-20T04:37:34.118Z"
    }
   },
   "outputs": [],
   "source": [
    "combo_category.head()\n",
    "combo_category.info()"
   ]
  },
  {
   "cell_type": "code",
   "execution_count": null,
   "metadata": {
    "ExecuteTime": {
     "start_time": "2020-06-20T04:37:34.138Z"
    }
   },
   "outputs": [],
   "source": [
    "#combo_category.isnull().any()\n",
    "combo_category.isna().sum()\n",
    "#combo_category.isnull().sum()\n",
    "combo_category.info()"
   ]
  },
  {
   "cell_type": "code",
   "execution_count": null,
   "metadata": {
    "ExecuteTime": {
     "start_time": "2020-06-20T04:37:34.146Z"
    }
   },
   "outputs": [],
   "source": [
    "#combo_category.dropna(inplace = True)"
   ]
  },
  {
   "cell_type": "code",
   "execution_count": null,
   "metadata": {
    "ExecuteTime": {
     "start_time": "2020-06-20T04:37:34.157Z"
    }
   },
   "outputs": [],
   "source": [
    "#changing dtype of columns\n",
    "#we want to change the types of 3 columns. Good idea to write a function for this\n",
    "\n",
    "def convert_amt_to_int(combo_category, col):\n",
    "    combo_category[col] = combo_category[col].str.replace(\"$\", \"\").str.replace(\",\", \"\").astype('int')\n",
    "    return combo_category\n",
    "combo_category.info()\n",
    "\n",
    "#combo_category = combo_category.astype({\"production_budget\": int, \"domestic_gross\": int})"
   ]
  },
  {
   "cell_type": "code",
   "execution_count": null,
   "metadata": {
    "ExecuteTime": {
     "start_time": "2020-06-20T04:37:34.169Z"
    }
   },
   "outputs": [],
   "source": [
    "combo_category.head()"
   ]
  },
  {
   "cell_type": "code",
   "execution_count": null,
   "metadata": {
    "ExecuteTime": {
     "end_time": "2020-06-20T02:30:39.890567Z",
     "start_time": "2020-06-20T02:30:39.867299Z"
    }
   },
   "outputs": [],
   "source": []
  },
  {
   "cell_type": "code",
   "execution_count": null,
   "metadata": {},
   "outputs": [],
   "source": []
  },
  {
   "cell_type": "code",
   "execution_count": null,
   "metadata": {
    "ExecuteTime": {
     "start_time": "2020-06-20T04:37:34.242Z"
    }
   },
   "outputs": [],
   "source": [
    "combo_category.info()\n",
    "combo_category"
   ]
  },
  {
   "cell_type": "code",
   "execution_count": null,
   "metadata": {},
   "outputs": [],
   "source": []
  },
  {
   "cell_type": "code",
   "execution_count": null,
   "metadata": {
    "ExecuteTime": {
     "start_time": "2020-06-20T04:37:34.251Z"
    }
   },
   "outputs": [],
   "source": [
    "#changing dtype of columns\n",
    "#we want to change the types of 3 columns. Good idea to write a function for this\n",
    "\n",
    "# def convert_amt_to_int(df, col):\n",
    "#     df[col] = df[col].str.replace(\"$\", \"\").str.replace(\",\", \"\").astype('int')\n",
    "#     return df"
   ]
  },
  {
   "cell_type": "code",
   "execution_count": null,
   "metadata": {
    "ExecuteTime": {
     "start_time": "2020-06-20T04:37:34.261Z"
    }
   },
   "outputs": [],
   "source": [
    "#making a list of all the cols where we want to change the dtype \n",
    "\n",
    "# money_cols = ['production_budget', 'domestic_gross', 'worldwide_gross']\n",
    "\n",
    "# for col in money_cols:\n",
    "#     movie_budgets_df = convert_amt_to_int(movie_budgets_df, col)"
   ]
  },
  {
   "cell_type": "code",
   "execution_count": null,
   "metadata": {},
   "outputs": [],
   "source": []
  },
  {
   "cell_type": "code",
   "execution_count": null,
   "metadata": {
    "ExecuteTime": {
     "start_time": "2020-06-20T04:37:34.281Z"
    }
   },
   "outputs": [],
   "source": [
    "limited_prod_budget = df[(df['production_budget'] >= 1.8E8) & \n",
    "              (df['production_budget'] <= 2.2E8)]#['production_budget']\n",
    "limited_prod_budget.info()"
   ]
  },
  {
   "cell_type": "code",
   "execution_count": null,
   "metadata": {
    "ExecuteTime": {
     "start_time": "2020-06-20T04:37:34.290Z"
    }
   },
   "outputs": [],
   "source": [
    "df = combo_category\n",
    "ax = sns.barplot(x=('production_budget'), y= 'G1', color = 'c', data=df, \n",
    "                 order=df.sort_values('production_budget').G1)\n",
    "#ax. set(xlim=(1.8, 4))\n",
    "ax.set_xlabel('Production_Budget')\n",
    "ax.set_ylabel('Genre')"
   ]
  },
  {
   "cell_type": "code",
   "execution_count": null,
   "metadata": {},
   "outputs": [],
   "source": []
  },
  {
   "cell_type": "code",
   "execution_count": null,
   "metadata": {},
   "outputs": [],
   "source": []
  },
  {
   "cell_type": "code",
   "execution_count": null,
   "metadata": {
    "ExecuteTime": {
     "start_time": "2020-06-20T04:37:34.307Z"
    }
   },
   "outputs": [],
   "source": [
    "#genre = genre_categories = df[['G1']]\n",
    "genre_categories = [(df['production_budget'] >= 1.8E8) & \n",
    "                    (df['production_budget'] <= 2.2E8), ('G1')]\n",
    "\n",
    "                     \n",
    "#df['production_budget'] >= 1.8E8) & (df['production_budget'] <= 2.2E8)"
   ]
  },
  {
   "cell_type": "code",
   "execution_count": null,
   "metadata": {
    "ExecuteTime": {
     "end_time": "2020-06-19T04:00:20.392496Z",
     "start_time": "2020-06-19T04:00:20.386936Z"
    }
   },
   "outputs": [],
   "source": []
  },
  {
   "cell_type": "code",
   "execution_count": null,
   "metadata": {
    "ExecuteTime": {
     "end_time": "2020-06-19T04:21:29.634119Z",
     "start_time": "2020-06-19T04:21:24.545Z"
    }
   },
   "outputs": [],
   "source": []
  },
  {
   "cell_type": "markdown",
   "metadata": {
    "ExecuteTime": {
     "end_time": "2020-06-18T22:53:16.011026Z",
     "start_time": "2020-06-18T22:53:15.931168Z"
    }
   },
   "source": [
    "#turn movie budgets file into a dataframe and find out it's type\n",
    "movie_budgets_df = csv_files_dict['tn_movie_budgets_gz']\n",
    "type(movie_budgets_df)\n",
    "\n",
    "\n",
    "genre_categories = pd.read_csv(\"cleaned_genre_exploration.csv\")\n",
    "genre_categories.info()\n",
    "genre_categories"
   ]
  },
  {
   "cell_type": "code",
   "execution_count": null,
   "metadata": {},
   "outputs": [],
   "source": []
  },
  {
   "cell_type": "code",
   "execution_count": null,
   "metadata": {
    "ExecuteTime": {
     "end_time": "2020-06-18T23:07:57.906212Z",
     "start_time": "2020-06-18T23:07:57.898952Z"
    }
   },
   "outputs": [],
   "source": []
  },
  {
   "cell_type": "code",
   "execution_count": null,
   "metadata": {
    "ExecuteTime": {
     "end_time": "2020-06-19T03:22:49.847103Z",
     "start_time": "2020-06-19T03:22:49.831873Z"
    }
   },
   "outputs": [],
   "source": [
    "\n",
    "\n"
   ]
  },
  {
   "cell_type": "code",
   "execution_count": null,
   "metadata": {},
   "outputs": [],
   "source": []
  },
  {
   "cell_type": "code",
   "execution_count": null,
   "metadata": {
    "ExecuteTime": {
     "start_time": "2020-06-20T04:37:34.407Z"
    }
   },
   "outputs": [],
   "source": [
    "title_basics_df.head()"
   ]
  },
  {
   "cell_type": "code",
   "execution_count": null,
   "metadata": {
    "ExecuteTime": {
     "start_time": "2020-06-20T04:37:34.413Z"
    }
   },
   "outputs": [],
   "source": [
    "title_basics_df.shape"
   ]
  },
  {
   "cell_type": "code",
   "execution_count": null,
   "metadata": {
    "ExecuteTime": {
     "start_time": "2020-06-20T04:37:34.421Z"
    }
   },
   "outputs": [],
   "source": [
    "title_basics_df.info()"
   ]
  },
  {
   "cell_type": "code",
   "execution_count": null,
   "metadata": {
    "ExecuteTime": {
     "start_time": "2020-06-20T04:37:34.430Z"
    }
   },
   "outputs": [],
   "source": [
    "#drop rows where data is missing\n",
    "cleanedTB = title_basics_df.dropna()\n",
    "cleanedTB"
   ]
  },
  {
   "cell_type": "code",
   "execution_count": null,
   "metadata": {
    "ExecuteTime": {
     "start_time": "2020-06-20T04:37:34.435Z"
    }
   },
   "outputs": [],
   "source": [
    "#check the counts after rows dropped\n",
    "cleanedTB.info()"
   ]
  },
  {
   "cell_type": "code",
   "execution_count": null,
   "metadata": {
    "ExecuteTime": {
     "start_time": "2020-06-20T04:37:34.443Z"
    }
   },
   "outputs": [],
   "source": [
    "# title_basics_df['genres'] = title_basics_df['genres'].apply(lambda x: \n",
    "#                                                             x.split(\",\") \n",
    "#                                                             if x else x)\n",
    "# title_basics_df.head()"
   ]
  },
  {
   "cell_type": "code",
   "execution_count": null,
   "metadata": {
    "ExecuteTime": {
     "start_time": "2020-06-20T04:37:34.448Z"
    }
   },
   "outputs": [],
   "source": [
    "#making a set of all genres we have. set doesn't allow duplicate values\n",
    "\n",
    "# all_genres = set()\n",
    "# for genres in cleanedTB['genres']:\n",
    "#     if genres:\n",
    "#         all_genres.update(genres)"
   ]
  },
  {
   "cell_type": "code",
   "execution_count": null,
   "metadata": {
    "ExecuteTime": {
     "start_time": "2020-06-20T04:37:34.455Z"
    }
   },
   "outputs": [],
   "source": [
    "#show all the genres\n",
    "# all_genres"
   ]
  },
  {
   "cell_type": "code",
   "execution_count": null,
   "metadata": {},
   "outputs": [],
   "source": []
  }
 ],
 "metadata": {
  "kernelspec": {
   "display_name": "Python 3",
   "language": "python",
   "name": "python3"
  },
  "language_info": {
   "codemirror_mode": {
    "name": "ipython",
    "version": 3
   },
   "file_extension": ".py",
   "mimetype": "text/x-python",
   "name": "python",
   "nbconvert_exporter": "python",
   "pygments_lexer": "ipython3",
   "version": "3.7.6"
  },
  "toc": {
   "base_numbering": 1,
   "nav_menu": {},
   "number_sections": true,
   "sideBar": true,
   "skip_h1_title": false,
   "title_cell": "Table of Contents",
   "title_sidebar": "Contents",
   "toc_cell": false,
   "toc_position": {},
   "toc_section_display": true,
   "toc_window_display": false
  },
  "varInspector": {
   "cols": {
    "lenName": 16,
    "lenType": 16,
    "lenVar": 40
   },
   "kernels_config": {
    "python": {
     "delete_cmd_postfix": "",
     "delete_cmd_prefix": "del ",
     "library": "var_list.py",
     "varRefreshCmd": "print(var_dic_list())"
    },
    "r": {
     "delete_cmd_postfix": ") ",
     "delete_cmd_prefix": "rm(",
     "library": "var_list.r",
     "varRefreshCmd": "cat(var_dic_list()) "
    }
   },
   "types_to_exclude": [
    "module",
    "function",
    "builtin_function_or_method",
    "instance",
    "_Feature"
   ],
   "window_display": false
  }
 },
 "nbformat": 4,
 "nbformat_minor": 4
}
